{
 "cells": [
  {
   "cell_type": "markdown",
   "metadata": {},
   "source": [
    "# Описание проекта\n",
    "\n",
    "Вы — аналитик крупного интернет-магазина. Вместе с отделом маркетинга вы подготовили список гипотез для увеличения выручки.\n",
    "Приоритизируйте гипотезы, запустите A/B-тест и проанализируйте результаты."
   ]
  },
  {
   "cell_type": "markdown",
   "metadata": {},
   "source": [
    "## Приоритизация гипотез"
   ]
  },
  {
   "cell_type": "code",
   "execution_count": 1,
   "metadata": {},
   "outputs": [],
   "source": [
    "import pandas as pd\n",
    "import scipy.stats as stats\n",
    "import datetime as dt\n",
    "import numpy as np\n",
    "import matplotlib.pyplot as plt"
   ]
  },
  {
   "cell_type": "code",
   "execution_count": 2,
   "metadata": {},
   "outputs": [],
   "source": [
    "hypothesis = pd.read_csv('/datasets/hypothesis.csv')"
   ]
  },
  {
   "cell_type": "code",
   "execution_count": 3,
   "metadata": {},
   "outputs": [
    {
     "name": "stdout",
     "output_type": "stream",
     "text": [
      "   Reach  Impact  Confidence  Efforts\n",
      "0      3      10           8        6\n",
      "1      2       5           4       10\n",
      "2      8       3           7        3\n",
      "3      8       3           3        8\n",
      "4      3       1           1        1\n",
      "5      3       2           2        3\n",
      "6      5       3           8        3\n",
      "7     10       7           8        5\n",
      "8      1       9           9        5\n",
      "--------------------------------------\n",
      "<class 'pandas.core.frame.DataFrame'>\n",
      "RangeIndex: 9 entries, 0 to 8\n",
      "Data columns (total 5 columns):\n",
      " #   Column      Non-Null Count  Dtype \n",
      "---  ------      --------------  ----- \n",
      " 0   Hypothesis  9 non-null      object\n",
      " 1   Reach       9 non-null      int64 \n",
      " 2   Impact      9 non-null      int64 \n",
      " 3   Confidence  9 non-null      int64 \n",
      " 4   Efforts     9 non-null      int64 \n",
      "dtypes: int64(4), object(1)\n",
      "memory usage: 488.0+ bytes\n"
     ]
    }
   ],
   "source": [
    "print(hypothesis[['Reach', 'Impact', 'Confidence', 'Efforts']])\n",
    "print('--------------------------------------')\n",
    "hypothesis.info()"
   ]
  },
  {
   "cell_type": "markdown",
   "metadata": {},
   "source": [
    "### Применение фреймворка ICE"
   ]
  },
  {
   "cell_type": "code",
   "execution_count": 4,
   "metadata": {},
   "outputs": [
    {
     "name": "stdout",
     "output_type": "stream",
     "text": [
      "                                                                                                     Hypothesis  \\\n",
      "8                                                       Запустить акцию, дающую скидку на товар в день рождения   \n",
      "0            Добавить два новых канала привлечения трафика, что позволит привлекать на 30% больше пользователей   \n",
      "7              Добавить форму подписки на все основные страницы, чтобы собрать базу клиентов для email-рассылок   \n",
      "6          Показать на главной странице баннеры с актуальными акциями и распродажами, чтобы увеличить конверсию   \n",
      "2  Добавить блоки рекомендаций товаров на сайт интернет магазина, чтобы повысить конверсию и средний чек заказа   \n",
      "1                                     Запустить собственную службу доставки, что сократит срок доставки заказов   \n",
      "5                      Добавить страницу отзывов клиентов о магазине, что позволит увеличить количество заказов   \n",
      "3           Изменить структура категорий, что увеличит конверсию, т.к. пользователи быстрее найдут нужный товар   \n",
      "4                              Изменить цвет фона главной страницы, чтобы увеличить вовлеченность пользователей   \n",
      "\n",
      "    ICE  \n",
      "8  16.2  \n",
      "0  13.3  \n",
      "7  11.2  \n",
      "6   8.0  \n",
      "2   7.0  \n",
      "1   2.0  \n",
      "5   1.3  \n",
      "3   1.1  \n",
      "4   1.0  \n"
     ]
    }
   ],
   "source": [
    "pd.set_option(\"max_colwidth\", 120)\n",
    "\n",
    "hypothesis['ICE'] = (hypothesis['Impact'] * hypothesis['Confidence']) / hypothesis['Efforts']\n",
    "print(hypothesis[['Hypothesis', 'ICE']].sort_values(by='ICE', ascending=False).round(1))"
   ]
  },
  {
   "cell_type": "markdown",
   "metadata": {},
   "source": [
    "Способ **ICE** показал, что наиболее перспективными являются гипотезы под номером **8**, **0** и **7**. "
   ]
  },
  {
   "cell_type": "markdown",
   "metadata": {},
   "source": [
    "### Примененение фреймворка RICE"
   ]
  },
  {
   "cell_type": "code",
   "execution_count": 5,
   "metadata": {},
   "outputs": [
    {
     "name": "stdout",
     "output_type": "stream",
     "text": [
      "                                                                                                     Hypothesis  \\\n",
      "7              Добавить форму подписки на все основные страницы, чтобы собрать базу клиентов для email-рассылок   \n",
      "2  Добавить блоки рекомендаций товаров на сайт интернет магазина, чтобы повысить конверсию и средний чек заказа   \n",
      "0            Добавить два новых канала привлечения трафика, что позволит привлекать на 30% больше пользователей   \n",
      "6          Показать на главной странице баннеры с актуальными акциями и распродажами, чтобы увеличить конверсию   \n",
      "8                                                       Запустить акцию, дающую скидку на товар в день рождения   \n",
      "3           Изменить структура категорий, что увеличит конверсию, т.к. пользователи быстрее найдут нужный товар   \n",
      "1                                     Запустить собственную службу доставки, что сократит срок доставки заказов   \n",
      "5                      Добавить страницу отзывов клиентов о магазине, что позволит увеличить количество заказов   \n",
      "4                              Изменить цвет фона главной страницы, чтобы увеличить вовлеченность пользователей   \n",
      "\n",
      "    RICE  \n",
      "7  112.0  \n",
      "2   56.0  \n",
      "0   40.0  \n",
      "6   40.0  \n",
      "8   16.2  \n",
      "3    9.0  \n",
      "1    4.0  \n",
      "5    4.0  \n",
      "4    3.0  \n"
     ]
    }
   ],
   "source": [
    "hypothesis['RICE'] = (hypothesis['Reach'] * hypothesis['Impact'] * hypothesis['Confidence']) / hypothesis['Efforts']\n",
    "print(hypothesis[['Hypothesis', 'RICE']].sort_values(by='RICE', ascending=False))\n",
    "\n",
    "pd.reset_option(\"max_colwidth\")"
   ]
  },
  {
   "cell_type": "markdown",
   "metadata": {},
   "source": [
    "Способ **RICE** показал, что наиболее перспективными являются гипотезы под номером **7**, **2**, **0** и **6**. В \"лидеры\" выбилась теория номер 7. Это связано с тем, что у гипотезы 7 параметр Reach равен 10, а у других гипотез он меньше."
   ]
  },
  {
   "cell_type": "markdown",
   "metadata": {},
   "source": [
    "## Анализ A/B теста"
   ]
  },
  {
   "cell_type": "code",
   "execution_count": 6,
   "metadata": {},
   "outputs": [],
   "source": [
    "orders = pd.read_csv('/datasets/orders.csv')\n",
    "visitors = pd.read_csv('/datasets/visitors.csv')"
   ]
  },
  {
   "cell_type": "code",
   "execution_count": 7,
   "metadata": {},
   "outputs": [
    {
     "name": "stdout",
     "output_type": "stream",
     "text": [
      "   transactionId   visitorId        date  revenue group\n",
      "0     3667963787  3312258926  2019-08-15     1650     B\n",
      "1     2804400009  3642806036  2019-08-15      730     B\n",
      "2     2961555356  4069496402  2019-08-15      400     A\n",
      "3     3797467345  1196621759  2019-08-15     9759     B\n",
      "4     2282983706  2322279887  2019-08-15     2308     B\n",
      "-------------------------------------------------------\n",
      "<class 'pandas.core.frame.DataFrame'>\n",
      "RangeIndex: 1197 entries, 0 to 1196\n",
      "Data columns (total 5 columns):\n",
      " #   Column         Non-Null Count  Dtype \n",
      "---  ------         --------------  ----- \n",
      " 0   transactionId  1197 non-null   int64 \n",
      " 1   visitorId      1197 non-null   int64 \n",
      " 2   date           1197 non-null   object\n",
      " 3   revenue        1197 non-null   int64 \n",
      " 4   group          1197 non-null   object\n",
      "dtypes: int64(3), object(2)\n",
      "memory usage: 46.9+ KB\n"
     ]
    }
   ],
   "source": [
    "print(orders.head())\n",
    "print('-------------------------------------------------------')\n",
    "orders.info()"
   ]
  },
  {
   "cell_type": "code",
   "execution_count": 8,
   "metadata": {},
   "outputs": [
    {
     "name": "stdout",
     "output_type": "stream",
     "text": [
      "         date group  visitors\n",
      "0  2019-08-01     A       719\n",
      "1  2019-08-02     A       619\n",
      "2  2019-08-03     A       507\n",
      "3  2019-08-04     A       717\n",
      "4  2019-08-05     A       756\n",
      "-------------------------------------\n",
      "<class 'pandas.core.frame.DataFrame'>\n",
      "RangeIndex: 62 entries, 0 to 61\n",
      "Data columns (total 3 columns):\n",
      " #   Column    Non-Null Count  Dtype \n",
      "---  ------    --------------  ----- \n",
      " 0   date      62 non-null     object\n",
      " 1   group     62 non-null     object\n",
      " 2   visitors  62 non-null     int64 \n",
      "dtypes: int64(1), object(2)\n",
      "memory usage: 1.6+ KB\n"
     ]
    }
   ],
   "source": [
    "print(visitors.head())\n",
    "print('-------------------------------------')\n",
    "visitors.info()"
   ]
  },
  {
   "cell_type": "markdown",
   "metadata": {},
   "source": [
    "В обоих датафреймах столбец `date` имеет тип object, исправим это:"
   ]
  },
  {
   "cell_type": "code",
   "execution_count": 9,
   "metadata": {},
   "outputs": [],
   "source": [
    "orders['date'] = orders['date'].map(lambda x: dt.datetime.strptime(x, '%Y-%m-%d'))\n",
    "visitors['date'] = visitors['date'].map(lambda x: dt.datetime.strptime(x, '%Y-%m-%d'))"
   ]
  },
  {
   "cell_type": "code",
   "execution_count": 10,
   "metadata": {},
   "outputs": [],
   "source": [
    "# Создадим массив уникальных пар значений дат и групп теста\n",
    "datesGroups = orders[['date','group']].drop_duplicates() "
   ]
  },
  {
   "cell_type": "code",
   "execution_count": 11,
   "metadata": {},
   "outputs": [],
   "source": [
    "# Агрегируем значения и вычислим максимальную дату для orders\n",
    "ordersAggregated = datesGroups.apply(lambda x: orders[np.logical_and(orders['date'] <= x['date'],\\\n",
    "                                                                     orders['group'] == x['group'])]\\\n",
    ".agg({'date' : 'max', 'group' : 'max', 'transactionId' : 'nunique', 'visitorId' : 'nunique', 'revenue' : 'sum'}),\\\n",
    "                                                                        axis=1).sort_values(by=['date','group'])"
   ]
  },
  {
   "cell_type": "code",
   "execution_count": 12,
   "metadata": {},
   "outputs": [],
   "source": [
    "# Аналогично для visitors\n",
    "visitorsAggregated = datesGroups.apply(lambda x: visitors[np.logical_and(visitors['date'] <= x['date'],\\\n",
    "                                                                        visitors['group'] == x['group'])]\\\n",
    ".agg({'date' : 'max', 'group' : 'max', 'visitors' : 'sum'}), axis=1).sort_values(by=['date','group']) "
   ]
  },
  {
   "cell_type": "code",
   "execution_count": 13,
   "metadata": {},
   "outputs": [
    {
     "name": "stdout",
     "output_type": "stream",
     "text": [
      "        date group  orders  buyers  revenue  visitors\n",
      "0 2019-08-01     A      24      20   148579       719\n",
      "1 2019-08-01     B      21      20   101217       713\n",
      "2 2019-08-02     A      44      38   242401      1338\n",
      "3 2019-08-02     B      45      43   266748      1294\n",
      "4 2019-08-03     A      68      62   354874      1845\n"
     ]
    }
   ],
   "source": [
    "# Объединяем кумулятивные данные\n",
    "cumulativeData = ordersAggregated.merge(visitorsAggregated, left_on=['date', 'group'], right_on=['date', 'group'])\n",
    "cumulativeData.columns = ['date', 'group', 'orders', 'buyers', 'revenue', 'visitors']\n",
    "\n",
    "print(cumulativeData.head(5))"
   ]
  },
  {
   "cell_type": "markdown",
   "metadata": {},
   "source": [
    "### График кумулятивной выручки по группам"
   ]
  },
  {
   "cell_type": "code",
   "execution_count": 14,
   "metadata": {},
   "outputs": [
    {
     "data": {
      "image/png": "[encoded data removed]",
      "text/plain": [
       "<Figure size 432x288 with 1 Axes>"
      ]
     },
     "metadata": {
      "needs_background": "light"
     },
     "output_type": "display_data"
    }
   ],
   "source": [
    "# Датафрейм с кумулятивным количеством заказов и кумулятивной выручкой по дням в группе А\n",
    "cumulativeRevenueA = cumulativeData[cumulativeData['group']=='A'][['date','revenue', 'orders']]\n",
    "\n",
    "# Датафрейм с кумулятивным количеством заказов и кумулятивной выручкой по дням в группе B\n",
    "cumulativeRevenueB = cumulativeData[cumulativeData['group']=='B'][['date','revenue', 'orders']]\n",
    "\n",
    "# Строим график выручки группы А\n",
    "plt.plot(cumulativeRevenueA['date'], cumulativeRevenueA['revenue'], label='A', color='blue')\n",
    "\n",
    "# Строим график выручки группы B\n",
    "plt.plot(cumulativeRevenueB['date'], cumulativeRevenueB['revenue'], label='B', color='red')\n",
    "\n",
    "plt.title('Выручка по группам')\n",
    "plt.xlabel('Дата')\n",
    "plt.ylabel('Значение')\n",
    "plt.xticks(rotation=65)\n",
    "plt.legend()\n",
    "plt.show()"
   ]
  },
  {
   "cell_type": "markdown",
   "metadata": {},
   "source": [
    "Выручка почти равномерно растет в теение всего теста. Однако, в группе B график в одной точке растет  очень резко. Причиной может быть всплеск числа заказов, либо появление очень дорогих заказов в выборке. "
   ]
  },
  {
   "cell_type": "markdown",
   "metadata": {},
   "source": [
    "### График среднего кумулятивного чека по группам"
   ]
  },
  {
   "cell_type": "code",
   "execution_count": 15,
   "metadata": {},
   "outputs": [
    {
     "data": {
      "image/png": "[encoded data removed]",
      "text/plain": [
       "<Figure size 432x288 with 1 Axes>"
      ]
     },
     "metadata": {
      "needs_background": "light"
     },
     "output_type": "display_data"
    }
   ],
   "source": [
    "# Графики кумулятивного среднего чека по группам\n",
    "\n",
    "plt.plot(cumulativeRevenueA['date'], cumulativeRevenueA['revenue'] / cumulativeRevenueA['orders'], label='A', color='blue')\n",
    "plt.plot(cumulativeRevenueB['date'], cumulativeRevenueB['revenue'] / cumulativeRevenueB['orders'], label='B', color='red')\n",
    "\n",
    "plt.title('Средний чек по группам')\n",
    "plt.xlabel('Дата')\n",
    "plt.ylabel('Значение')\n",
    "plt.xticks(rotation=65)\n",
    "plt.legend()\n",
    "plt.show()"
   ]
  },
  {
   "cell_type": "markdown",
   "metadata": {},
   "source": [
    "Средний чек становится равномерным у обеих групп только к самому концу теста. У группы A средний чек установился чуть раньше, чем у группы B, у которой, в свою очередь, также наблюдается резкий всплеск среднего чека в те же даты, что и всплеск выручки."
   ]
  },
  {
   "cell_type": "markdown",
   "metadata": {},
   "source": [
    "### График относительного изменения кумулятивного среднего чека группы B к A"
   ]
  },
  {
   "cell_type": "code",
   "execution_count": 16,
   "metadata": {},
   "outputs": [
    {
     "data": {
      "image/png": "[encoded data removed]",
      "text/plain": [
       "<Figure size 432x288 with 1 Axes>"
      ]
     },
     "metadata": {
      "needs_background": "light"
     },
     "output_type": "display_data"
    }
   ],
   "source": [
    "# Собираем данные в одном датафрейме\n",
    "mergedCumulativeRevenue = cumulativeRevenueA.merge(cumulativeRevenueB, left_on='date', right_on='date',\\\n",
    "                                                   how='left', suffixes=['A', 'B'])\n",
    "\n",
    "# Строим график отношения средних чеков\n",
    "plt.plot(mergedCumulativeRevenue['date'], (mergedCumulativeRevenue['revenueB'] / mergedCumulativeRevenue['ordersB']) /\\\n",
    "        (mergedCumulativeRevenue['revenueA'] / mergedCumulativeRevenue['ordersA'])-1, color='lightgreen')\n",
    "\n",
    "# Добавляем ось X\n",
    "plt.axhline(y=0, color='black', linestyle='--')\n",
    "plt.title('Относительное изменение среднего чека по группам')\n",
    "plt.xlabel('Дата')\n",
    "plt.ylabel('Значение')\n",
    "plt.xticks(rotation=65)\n",
    "plt.show()"
   ]
  },
  {
   "cell_type": "markdown",
   "metadata": {},
   "source": [
    "Различие между сегментами в некоторых точках особо велико. В выборке явно присутствуют крупные заказы и выбросы, но группа В выглядит лучше группы А. В конце теста она лучше на **30%**."
   ]
  },
  {
   "cell_type": "markdown",
   "metadata": {},
   "source": [
    "### График кумулятивной конверсии по группам"
   ]
  },
  {
   "cell_type": "code",
   "execution_count": 17,
   "metadata": {},
   "outputs": [
    {
     "data": {
      "image/png": "[encoded data removed]",
      "text/plain": [
       "<Figure size 432x288 with 1 Axes>"
      ]
     },
     "metadata": {
      "needs_background": "light"
     },
     "output_type": "display_data"
    }
   ],
   "source": [
    "# Считаем кумулятивную конверсию\n",
    "cumulativeData['conversion'] = cumulativeData['orders'] / cumulativeData['visitors']\n",
    "\n",
    "# Отделяем данные по группе A\n",
    "cumulativeDataA = cumulativeData[cumulativeData['group']=='A']\n",
    "\n",
    "# Отделяем данные по группе B\n",
    "cumulativeDataB = cumulativeData[cumulativeData['group']=='B']\n",
    "\n",
    "# Строим графики\n",
    "plt.plot(cumulativeDataA['date'], cumulativeDataA['conversion'], label='A', color='blue')\n",
    "plt.plot(cumulativeDataB['date'], cumulativeDataB['conversion'], label='B', color='red')\n",
    "\n",
    "plt.title('Кумулятивная конверсия по группам')\n",
    "plt.xlabel('Дата')\n",
    "plt.ylabel('Значение')\n",
    "plt.xticks(rotation=65)\n",
    "plt.legend()\n",
    "\n",
    "# Задаем масштаб осей\n",
    "#plt.axis(['2019-08-01', '2019-09-01', 0, 0.040])\n",
    "#Я убрал масштаб осей, т.к. вылезает неизвестная мне ошибка... интернет мне не помог.\n",
    "#График при этом строился, но без масштабирования\n",
    "#Прошу объяснить, что это за ошибка такая\n",
    "\n",
    "plt.show()"
   ]
  },
  {
   "cell_type": "markdown",
   "metadata": {},
   "source": [
    "График напоминает симметричный, но не является им. Конверсия группы А сильно просела, а группы В, наоборот, вырвалась вперед. По графику нельзя сказать, что конверсия одной из групп зафиксировалась."
   ]
  },
  {
   "cell_type": "markdown",
   "metadata": {},
   "source": [
    "### График относительного изменения кумулятивной конверсии группы B к группе A"
   ]
  },
  {
   "cell_type": "code",
   "execution_count": 18,
   "metadata": {},
   "outputs": [
    {
     "data": {
      "image/png": "[encoded data removed]",
      "text/plain": [
       "<Figure size 432x288 with 1 Axes>"
      ]
     },
     "metadata": {
      "needs_background": "light"
     },
     "output_type": "display_data"
    }
   ],
   "source": [
    "mergedCumulativeConversions = cumulativeDataA[['date','conversion']]\\\n",
    ".merge(cumulativeDataB[['date','conversion']], left_on='date', right_on='date', how='left', suffixes=['A', 'B'])\n",
    "\n",
    "plt.plot(mergedCumulativeConversions['date'], mergedCumulativeConversions['conversionB'] / \\\n",
    "         mergedCumulativeConversions['conversionA']-1,\\\n",
    "         label=\"Относительный прирост конверсии группы B относительно группы A\", color='green')\n",
    "\n",
    "plt.axhline(y=0, color='black', linestyle='--')\n",
    "plt.axhline(y=-0.1, color='grey', linestyle='--')\n",
    "plt.title('Относительное различие кумулятивных конверсий')\n",
    "plt.xlabel('Дата')\n",
    "plt.ylabel('Значение')\n",
    "plt.xticks(rotation=65)\n",
    "plt.legend()\n",
    "plt.show()"
   ]
  },
  {
   "cell_type": "markdown",
   "metadata": {},
   "source": [
    "В начале теста группа В проигрывала группе А, но затем резко вырвалась вперед. После - немного упала, но продолжает расти. В общем, отношение конверсии еще довольно сильно скачет и не установилось окончательно, но группа В выглядит лучше группы А."
   ]
  },
  {
   "cell_type": "markdown",
   "metadata": {},
   "source": [
    "### Точеченый график количества заказов по пользователям"
   ]
  },
  {
   "cell_type": "code",
   "execution_count": 19,
   "metadata": {},
   "outputs": [
    {
     "name": "stdout",
     "output_type": "stream",
     "text": [
      "          userId  orders\n",
      "1023  4256040402      11\n",
      "591   2458001652      11\n",
      "569   2378935119       9\n",
      "487   2038680547       8\n",
      "44     199603092       5\n",
      "744   3062433592       5\n",
      "55     237748145       5\n",
      "917   3803269165       5\n",
      "299   1230306981       5\n",
      "897   3717692402       5\n"
     ]
    },
    {
     "data": {
      "image/png": "[encoded data removed]",
      "text/plain": [
       "<Figure size 432x288 with 1 Axes>"
      ]
     },
     "metadata": {
      "needs_background": "light"
     },
     "output_type": "display_data"
    }
   ],
   "source": [
    "#Строим точечный график количества заказов по пользователям\n",
    "\n",
    "ordersByUsers = (\n",
    "    orders.groupby('visitorId', as_index=False)\n",
    "    .agg({'transactionId': 'nunique'})\n",
    ")\n",
    "ordersByUsers.columns = ['userId', 'orders']\n",
    "\n",
    "print(ordersByUsers.sort_values(by='orders', ascending=False).head(10))\n",
    "\n",
    "# Серия из чисел от 0 до количества наблюдений в ordersByUsers\n",
    "x_values = pd.Series(range(0, len(ordersByUsers)))\n",
    "\n",
    "plt.scatter(x_values, ordersByUsers['orders'])\n",
    "plt.title('Количество заказов по пользователям')\n",
    "plt.xlabel('Пользователь')\n",
    "plt.ylabel('Заказы')\n",
    "plt.show()"
   ]
  },
  {
   "cell_type": "markdown",
   "metadata": {},
   "source": [
    "Подавляющее большинство пользователей сделало 1-2 заказа. Тех, кто сделал больше 2 заказов, значительно меньше. Посчитаем выборочные перцентили, чтобы узнать: 2 заказа это много или мало?"
   ]
  },
  {
   "cell_type": "code",
   "execution_count": 20,
   "metadata": {},
   "outputs": [
    {
     "name": "stdout",
     "output_type": "stream",
     "text": [
      "[1. 2. 4.]\n"
     ]
    }
   ],
   "source": [
    "print(np.percentile(ordersByUsers['orders'], [90, 95, 99]))"
   ]
  },
  {
   "cell_type": "markdown",
   "metadata": {},
   "source": [
    "Не более 5% пользователей совершили больше двух заказов. И не более 1% пользователей - 4 и более заказов."
   ]
  },
  {
   "cell_type": "markdown",
   "metadata": {},
   "source": [
    "### Точечный график стоимостей заказов"
   ]
  },
  {
   "cell_type": "markdown",
   "metadata": {},
   "source": [
    "Теперь построим точечный график стоимостей заказов:"
   ]
  },
  {
   "cell_type": "code",
   "execution_count": 21,
   "metadata": {},
   "outputs": [
    {
     "name": "stdout",
     "output_type": "stream",
     "text": [
      "      transactionId   visitorId       date  revenue group\n",
      "425       590470918  1920142716 2019-08-19  1294500     B\n",
      "1196     3936777065  2108080724 2019-08-15   202740     B\n",
      "858       192721366  1316129916 2019-08-27    93940     A\n",
      "1136      666610489  1307669133 2019-08-13    92550     A\n",
      "744      3668308183   888512513 2019-08-27    86620     B\n",
      "682      1216533772  4266935830 2019-08-29    78990     B\n",
      "662      1811671147  4266935830 2019-08-29    78990     A\n",
      "743      3603576309  4133034833 2019-08-09    67990     A\n",
      "1103     1348774318  1164614297 2019-08-12    66350     A\n",
      "1099      316924019   148427295 2019-08-12    65710     A\n"
     ]
    },
    {
     "data": {
      "image/png": "[encoded data removed]",
      "text/plain": [
       "<Figure size 432x288 with 1 Axes>"
      ]
     },
     "metadata": {
      "needs_background": "light"
     },
     "output_type": "display_data"
    }
   ],
   "source": [
    "x_values = pd.Series(range(0, len(orders)))\n",
    "print(orders.sort_values(by='revenue', ascending=False).head(10))\n",
    "plt.scatter(x_values, orders['revenue'], color='orange')\n",
    "plt.title('Стоимость заказов по пользователям')\n",
    "plt.xlabel('Пользователь')\n",
    "plt.ylabel('Стоимость')\n",
    "plt.show()"
   ]
  },
  {
   "cell_type": "markdown",
   "metadata": {},
   "source": [
    "В данных есть выбросы от 200 000 руб до 1,3 млн руб. Множество заказов не превышает 100 000 рублей. Чтобы разобраться подробнее, найдем выборочные перцентили:"
   ]
  },
  {
   "cell_type": "code",
   "execution_count": 22,
   "metadata": {},
   "outputs": [
    {
     "name": "stdout",
     "output_type": "stream",
     "text": [
      "[18168.  28000.  58233.2]\n"
     ]
    }
   ],
   "source": [
    "print(np.percentile(orders['revenue'], [90, 95, 99]))"
   ]
  },
  {
   "cell_type": "markdown",
   "metadata": {},
   "source": [
    "Как оказалось, только лишь не более чем у 1% заказов чек превышает 58 000 рублей. У 5% - превышает 28 000 рублей. Выберем границу аномальных заказов в **30 000 рублей**."
   ]
  },
  {
   "cell_type": "markdown",
   "metadata": {},
   "source": [
    "### Расчет статистической значимости различий в конверсии между группами по \"сырым\" данным"
   ]
  },
  {
   "cell_type": "markdown",
   "metadata": {},
   "source": [
    "**Нулевая гипотеза**: статистически значимых различий в среднем количестве заказов между группами нет. Альтернативная: различия в среднем между группами есть."
   ]
  },
  {
   "cell_type": "markdown",
   "metadata": {},
   "source": [
    "Создадим таблицу data:"
   ]
  },
  {
   "cell_type": "code",
   "execution_count": 23,
   "metadata": {},
   "outputs": [
    {
     "name": "stdout",
     "output_type": "stream",
     "text": [
      "        date  ordersPerDateA  revenuePerDateA  ordersPerDateB  \\\n",
      "0 2019-08-01              20           148579              20   \n",
      "1 2019-08-02              19            93822              23   \n",
      "2 2019-08-03              24           112473              16   \n",
      "3 2019-08-04              15            70825              16   \n",
      "4 2019-08-05              25           124218              23   \n",
      "\n",
      "   revenuePerDateB  ordersCummulativeA  revenueCummulativeA  \\\n",
      "0           101217                  20               148579   \n",
      "1           165531                  39               242401   \n",
      "2           114248                  63               354874   \n",
      "3           108571                  78               425699   \n",
      "4            92428                 103               549917   \n",
      "\n",
      "   ordersCummulativeB  revenueCummulativeB  visitorsPerDateA  \\\n",
      "0                  20               101217               719   \n",
      "1                  43               266748               619   \n",
      "2                  59               380996               507   \n",
      "3                  75               489567               717   \n",
      "4                  98               581995               756   \n",
      "\n",
      "   visitorsPerDateB  visitorsCummulativeA  visitorsCummulativeB  \n",
      "0               713                   719                   713  \n",
      "1               581                  1338                  1294  \n",
      "2               509                  1845                  1803  \n",
      "3               770                  2562                  2573  \n",
      "4               707                  3318                  3280  \n"
     ]
    }
   ],
   "source": [
    "visitorsADaily = visitors[visitors['group'] == 'A'][['date', 'visitors']]\n",
    "visitorsADaily.columns = ['date', 'visitorsPerDateA']\n",
    "\n",
    "visitorsACummulative = visitorsADaily.apply(\n",
    "    lambda x: visitorsADaily[visitorsADaily['date'] <= x['date']].agg(\n",
    "        {'date': 'max', 'visitorsPerDateA': 'sum'}\n",
    "    ),\n",
    "    axis=1,\n",
    ")\n",
    "visitorsACummulative.columns = ['date', 'visitorsCummulativeA']\n",
    "\n",
    "visitorsBDaily = visitors[visitors['group'] == 'B'][['date', 'visitors']]\n",
    "visitorsBDaily.columns = ['date', 'visitorsPerDateB']\n",
    "\n",
    "visitorsBCummulative = visitorsBDaily.apply(\n",
    "    lambda x: visitorsBDaily[visitorsBDaily['date'] <= x['date']].agg(\n",
    "        {'date': 'max', 'visitorsPerDateB': 'sum'}\n",
    "    ),\n",
    "    axis=1,\n",
    ")\n",
    "visitorsBCummulative.columns = ['date', 'visitorsCummulativeB']\n",
    "\n",
    "ordersADaily = (\n",
    "    orders[orders['group'] == 'A'][['date', 'transactionId', 'visitorId', 'revenue']]\n",
    "    .groupby('date', as_index=False)\n",
    "    .agg({'visitorId': pd.Series.nunique, 'revenue': 'sum'})\n",
    ")\n",
    "ordersADaily.columns = ['date', 'ordersPerDateA', 'revenuePerDateA']\n",
    "\n",
    "ordersACummulative = ordersADaily.apply(\n",
    "    lambda x: ordersADaily[ordersADaily['date'] <= x['date']].agg(\n",
    "        {'date': 'max', 'ordersPerDateA': 'sum', 'revenuePerDateA': 'sum'}\n",
    "    ),\n",
    "    axis=1,\n",
    ").sort_values(by=['date'])\n",
    "ordersACummulative.columns = [\n",
    "    'date',\n",
    "    'ordersCummulativeA',\n",
    "    'revenueCummulativeA',\n",
    "]\n",
    "\n",
    "ordersBDaily = (\n",
    "    orders[orders['group'] == 'B'][['date', 'transactionId', 'visitorId', 'revenue']]\n",
    "    .groupby('date', as_index=False)\n",
    "    .agg({'visitorId': pd.Series.nunique, 'revenue': 'sum'})\n",
    ")\n",
    "ordersBDaily.columns = ['date', 'ordersPerDateB', 'revenuePerDateB']\n",
    "\n",
    "ordersBCummulative = ordersBDaily.apply(\n",
    "    lambda x: ordersBDaily[ordersBDaily['date'] <= x['date']].agg(\n",
    "        {'date': 'max', 'ordersPerDateB': 'sum', 'revenuePerDateB': 'sum'}\n",
    "    ),\n",
    "    axis=1,\n",
    ").sort_values(by=['date'])\n",
    "ordersBCummulative.columns = [\n",
    "    'date',\n",
    "    'ordersCummulativeB',\n",
    "    'revenueCummulativeB',\n",
    "]\n",
    "\n",
    "data = (\n",
    "    ordersADaily.merge(\n",
    "        ordersBDaily, left_on='date', right_on='date', how='left'\n",
    "    )\n",
    "    .merge(ordersACummulative, left_on='date', right_on='date', how='left')\n",
    "    .merge(ordersBCummulative, left_on='date', right_on='date', how='left')\n",
    "    .merge(visitorsADaily, left_on='date', right_on='date', how='left')\n",
    "    .merge(visitorsBDaily, left_on='date', right_on='date', how='left')\n",
    "    .merge(visitorsACummulative, left_on='date', right_on='date', how='left')\n",
    "    .merge(visitorsBCummulative, left_on='date', right_on='date', how='left')\n",
    ")\n",
    "\n",
    "print(data.head(5)) "
   ]
  },
  {
   "cell_type": "markdown",
   "metadata": {},
   "source": [
    "Таблица `data` имеет следующие столбцы:\n",
    "\n",
    "- date — дата;\n",
    "- ordersPerDateA — количество заказов в выбранную дату в группе A;\n",
    "- revenuePerDateA — суммарная выручка в выбранную дату в группе A;\n",
    "- ordersPerDateB — количество заказов в выбранную дату в группе B;\n",
    "- revenuePerDateB — суммарная выручка в выбранную дату в группе B;\n",
    "- ordersCummulativeA — суммарное число заказов до выбранной даты включительно в группе A;\n",
    "- revenueCummulativeA — суммарная выручка до выбранной даты включительно в группе A;\n",
    "- ordersCummulativeB — суммарное количество заказов до выбранной даты включительно в группе B;\n",
    "- revenueCummulativeB — суммарная выручка до выбранной даты включительно в группе B;\n",
    "- visitorsPerDateA — количество пользователей в выбранную дату в группе A;\n",
    "- visitorsPerDateB — количество пользователей в выбранную дату в группе B;\n",
    "- visitorsCummulativeA — количество пользователей до выбранной даты включительно в группе A;\n",
    "- visitorsCummulativeB — количество пользователей до выбранной даты включительно в группе B."
   ]
  },
  {
   "cell_type": "markdown",
   "metadata": {},
   "source": [
    "Посчитаем статистическую значимость различия в среднем количестве заказов между группами. Создадим переменные ordersByUsersA и ordersByUsersB со столбцами userId и orders. В них для пользователей, которые заказывали хотя бы 1 раз, укажем число совершённых заказов."
   ]
  },
  {
   "cell_type": "code",
   "execution_count": 24,
   "metadata": {},
   "outputs": [
    {
     "name": "stdout",
     "output_type": "stream",
     "text": [
      "     userId  orders\n",
      "0   8300375       1\n",
      "1  11685486       1\n",
      "2  54447517       1\n",
      "3  66685450       1\n",
      "4  78758296       1\n",
      "-------------------\n",
      "     userId  orders\n",
      "0   5114589       1\n",
      "1   6958315       1\n",
      "2   8300375       1\n",
      "3  39475350       1\n",
      "4  47206413       1\n"
     ]
    }
   ],
   "source": [
    "ordersByUsersA = (\n",
    "    orders[orders['group'] == 'A']\n",
    "    .groupby('visitorId', as_index=False)\n",
    "    .agg({'transactionId': pd.Series.nunique})\n",
    ")\n",
    "ordersByUsersA.columns = ['userId', 'orders']\n",
    "\n",
    "ordersByUsersB = (\n",
    "    orders[orders['group'] == 'B']\n",
    "    .groupby('visitorId', as_index=False)\n",
    "    .agg({'transactionId': pd.Series.nunique})\n",
    ")\n",
    "ordersByUsersB.columns = ['userId', 'orders']\n",
    "\n",
    "print(ordersByUsersA.head())\n",
    "print('-------------------')\n",
    "print(ordersByUsersB.head())"
   ]
  },
  {
   "cell_type": "markdown",
   "metadata": {},
   "source": [
    "Объявим переменные `sampleA` и `sampleB`, в которых пользователям из разных групп будет соответствовать количество заказов. Тем, кто ничего не заказал, будут соответствовать нули. Это нужно, чтобы подготовить выборки к проверке критерием Манна-Уитни."
   ]
  },
  {
   "cell_type": "code",
   "execution_count": 25,
   "metadata": {},
   "outputs": [
    {
     "data": {
      "text/plain": [
       "[0      1\n",
       " 1      1\n",
       " 2      1\n",
       " 3      1\n",
       " 4      1\n",
       "       ..\n",
       " 498    1\n",
       " 499    7\n",
       " 500    1\n",
       " 501    1\n",
       " 502    1\n",
       " Name: orders, Length: 503, dtype: int64,\n",
       " 0        0\n",
       " 1        0\n",
       " 2        0\n",
       " 3        0\n",
       " 4        0\n",
       "         ..\n",
       " 18228    0\n",
       " 18229    0\n",
       " 18230    0\n",
       " 18231    0\n",
       " 18232    0\n",
       " Name: orders, Length: 18233, dtype: int64]"
      ]
     },
     "execution_count": 25,
     "metadata": {},
     "output_type": "execute_result"
    }
   ],
   "source": [
    "pd.Series(0, index=np.arange(data['visitorsPerDateA'].sum() - len(ordersByUsersA['orders'])), name='orders')\n",
    "\n",
    "[ordersByUsersA['orders'],pd.Series(0, index=np.arange(data['visitorsPerDateA'].sum()\\\n",
    "                                                       - len(ordersByUsersA['orders'])), name='orders')]"
   ]
  },
  {
   "cell_type": "code",
   "execution_count": 26,
   "metadata": {},
   "outputs": [],
   "source": [
    "sampleA = pd.concat([ordersByUsersA['orders'],pd.Series(0, index=np.arange(data['visitorsPerDateA'].sum()\\\n",
    "                                                        - len(ordersByUsersA['orders'])), name='orders')],axis=0)\n",
    "\n",
    "sampleB = pd.concat([ordersByUsersB['orders'],pd.Series(0, index=np.arange(data['visitorsPerDateB'].sum()\\\n",
    "                                                        - len(ordersByUsersB['orders'])), name='orders')],axis=0)"
   ]
  },
  {
   "cell_type": "markdown",
   "metadata": {},
   "source": [
    "В `sample` сохранили выборку, где каждый элемент — число заказов определённого пользователя, в том числе ноль. Значит, число элементов переменной — это количество пользователей, сумма всех элементов — количество заказов."
   ]
  },
  {
   "cell_type": "markdown",
   "metadata": {},
   "source": [
    "Выведем показатель критерия Манна-Уитни и относительный прирост среднего числа заказов группы B:"
   ]
  },
  {
   "cell_type": "code",
   "execution_count": 27,
   "metadata": {},
   "outputs": [
    {
     "name": "stdout",
     "output_type": "stream",
     "text": [
      "0.017\n",
      "0.138\n"
     ]
    }
   ],
   "source": [
    "print(\"{0:.3f}\".format(stats.mannwhitneyu(sampleA, sampleB)[1]))\n",
    "\n",
    "print(\"{0:.3f}\".format(sampleB.mean() / sampleA.mean() - 1))"
   ]
  },
  {
   "cell_type": "markdown",
   "metadata": {},
   "source": [
    "**Отвергаем нулевую гипотезу.** Разница между числом заказов в группах есть. *(0.017 < p-value = 0.05)*.\n",
    "\n",
    "Отностительный прирост среднего группы В к конверсии группы А равен **13,8%**."
   ]
  },
  {
   "cell_type": "markdown",
   "metadata": {},
   "source": [
    "### Расчет статистической значимости различий в среднем чеке заказа между группами по «сырым» данным"
   ]
  },
  {
   "cell_type": "markdown",
   "metadata": {},
   "source": [
    "Проверим статистическую значимость различий в среднем чеке между сегментами.\n",
    "\n",
    "**Нулевая гипотеза**: различий в среднем чеке между группами нет. Альтернативная гипотеза: различия в среднем чеке между группами есть."
   ]
  },
  {
   "cell_type": "code",
   "execution_count": 28,
   "metadata": {},
   "outputs": [
    {
     "name": "stdout",
     "output_type": "stream",
     "text": [
      "0.729\n",
      "0.259\n"
     ]
    }
   ],
   "source": [
    "print('{0:.3f}'.format(stats.mannwhitneyu(orders[orders['group']=='A']['revenue'],\\\n",
    "                                          orders[orders['group']=='B']['revenue'])[1]))\n",
    "\n",
    "print('{0:.3f}'.format(orders[orders['group']=='B']['revenue'].mean()/orders[orders['group']=='A']['revenue'].mean()-1))"
   ]
  },
  {
   "cell_type": "markdown",
   "metadata": {},
   "source": [
    "Причин отвергать нулевую гипотезу и считать, что в среднем чеке есть различия, нет. *(0.729 >> p-value = 0.05)*\n",
    "\n",
    "При этом средний чек в группе В выше почти на **26%**.\n",
    "\n",
    "Возможно, очистка от выбросов поможет сделать вывод."
   ]
  },
  {
   "cell_type": "markdown",
   "metadata": {},
   "source": [
    "### Расчет статистической значимости различий в конверсии между группами по \"очищенным\" данным"
   ]
  },
  {
   "cell_type": "markdown",
   "metadata": {},
   "source": [
    "**Нулевая гипотеза**: статистически значимых различий в среднем количестве заказов между группами нет. Альтернативная: различия в среднем между группами есть."
   ]
  },
  {
   "cell_type": "markdown",
   "metadata": {},
   "source": [
    "Примем за аномальных пользователей тех, кто совершил от **4 заказов** или совершил заказ дороже **30000 рублей**."
   ]
  },
  {
   "cell_type": "code",
   "execution_count": 29,
   "metadata": {},
   "outputs": [
    {
     "name": "stdout",
     "output_type": "stream",
     "text": [
      "1099    148427295\n",
      "18      199603092\n",
      "928     204675465\n",
      "23      237748145\n",
      "684     358944393\n",
      "dtype: int64\n",
      "-----------------\n",
      "Аномальных пользователей: 57\n"
     ]
    }
   ],
   "source": [
    "#Делаем срезы данных без аномальных пользователей и объединяем в одну таблицу\n",
    "\n",
    "usersWithManyOrders = pd.concat(\n",
    "    [\n",
    "        ordersByUsersA[ordersByUsersA['orders'] > 3]['userId'],\n",
    "        ordersByUsersB[ordersByUsersB['orders'] > 3]['userId'],\n",
    "    ],\n",
    "    axis=0,\n",
    ")\n",
    "usersWithExpensiveOrders = orders[orders['revenue'] > 30000]['visitorId']\n",
    "abnormalUsers = (\n",
    "    pd.concat([usersWithManyOrders, usersWithExpensiveOrders], axis=0)\n",
    "    .drop_duplicates()\n",
    "    .sort_values()\n",
    ")\n",
    "print(abnormalUsers.head(5))\n",
    "print('-----------------')\n",
    "print('Аномальных пользователей:', abnormalUsers.shape[0])"
   ]
  },
  {
   "cell_type": "markdown",
   "metadata": {},
   "source": [
    "Посчитаем статистическую значимость различий в среднем количестве заказов между группами теста по очищенным данным. Для этого подготовим выборки количества заказов по пользователям по группам теста:"
   ]
  },
  {
   "cell_type": "code",
   "execution_count": 30,
   "metadata": {},
   "outputs": [],
   "source": [
    "sampleAFiltered = pd.concat(\n",
    "    [\n",
    "        ordersByUsersA[\n",
    "            np.logical_not(ordersByUsersA['userId'].isin(abnormalUsers))\n",
    "        ]['orders'],\n",
    "        pd.Series(\n",
    "            0,\n",
    "            index=np.arange(\n",
    "                data['visitorsPerDateA'].sum() - len(ordersByUsersA['orders'])\n",
    "            ),\n",
    "            name='orders',\n",
    "        ),\n",
    "    ],\n",
    "    axis=0,\n",
    ")\n",
    "\n",
    "sampleBFiltered = pd.concat(\n",
    "    [\n",
    "        ordersByUsersB[\n",
    "            np.logical_not(ordersByUsersB['userId'].isin(abnormalUsers))\n",
    "        ]['orders'],\n",
    "        pd.Series(\n",
    "            0,\n",
    "            index=np.arange(\n",
    "                data['visitorsPerDateB'].sum() - len(ordersByUsersB['orders'])\n",
    "            ),\n",
    "            name='orders',\n",
    "        ),\n",
    "    ],\n",
    "    axis=0,\n",
    ")"
   ]
  },
  {
   "cell_type": "markdown",
   "metadata": {},
   "source": [
    "Применим статистический критерий Манна-Уитни к полученным выборкам:"
   ]
  },
  {
   "cell_type": "code",
   "execution_count": 31,
   "metadata": {},
   "outputs": [
    {
     "name": "stdout",
     "output_type": "stream",
     "text": [
      "0.018\n",
      "0.148\n"
     ]
    }
   ],
   "source": [
    "print('{0:.3f}'.format(stats.mannwhitneyu(sampleAFiltered, sampleBFiltered)[1]))\n",
    "\n",
    "print('{0:.3f}'.format(sampleBFiltered.mean()/sampleAFiltered.mean()-1))"
   ]
  },
  {
   "cell_type": "markdown",
   "metadata": {},
   "source": [
    "Результаты по сравнению с \"сырыми\" данными практически не изменились. **Нулевую гипотезу отвергаем**. Относительный прирост среднего группы В к конверсии группы А равен **14,8%**.\n",
    "\n",
    "Проверим различия в среднем чеке."
   ]
  },
  {
   "cell_type": "markdown",
   "metadata": {},
   "source": [
    "### Расчет статистической значимости различий в среднем чеке между группами по \"очищенным\" данным"
   ]
  },
  {
   "cell_type": "markdown",
   "metadata": {},
   "source": [
    "**Нулевая гипотеза**: различий в среднем чеке между группами нет. Альтернативная гипотеза: различия в среднем чеке между группами есть."
   ]
  },
  {
   "cell_type": "code",
   "execution_count": 32,
   "metadata": {},
   "outputs": [
    {
     "name": "stdout",
     "output_type": "stream",
     "text": [
      "0.958\n",
      "-0.020\n"
     ]
    }
   ],
   "source": [
    "print(\n",
    "    '{0:.3f}'.format(\n",
    "        stats.mannwhitneyu(\n",
    "            orders[\n",
    "                np.logical_and(\n",
    "                    orders['group'] == 'A',\n",
    "                    np.logical_not(orders['visitorId'].isin(abnormalUsers)),\n",
    "                )\n",
    "            ]['revenue'],\n",
    "            orders[\n",
    "                np.logical_and(\n",
    "                    orders['group'] == 'B',\n",
    "                    np.logical_not(orders['visitorId'].isin(abnormalUsers)),\n",
    "                )\n",
    "            ]['revenue'],\n",
    "        )[1]\n",
    "    )\n",
    ")\n",
    "\n",
    "print(\n",
    "    \"{0:.3f}\".format(\n",
    "        orders[\n",
    "            np.logical_and(\n",
    "                orders['group'] == 'B',\n",
    "                np.logical_not(orders['visitorId'].isin(abnormalUsers)),\n",
    "            )\n",
    "        ]['revenue'].mean()\n",
    "        / orders[\n",
    "            np.logical_and(\n",
    "                orders['group'] == 'A',\n",
    "                np.logical_not(orders['visitorId'].isin(abnormalUsers)),\n",
    "            )\n",
    "        ]['revenue'].mean()\n",
    "        - 1\n",
    "    )\n",
    ")"
   ]
  },
  {
   "cell_type": "markdown",
   "metadata": {},
   "source": [
    "Причин отвергать нулевую гипотезу нет. p-значение увеличилось, но разница между средними чеками стала незначительной: теперь в группе В он меньше на **2%**, чем в группе А."
   ]
  },
  {
   "cell_type": "markdown",
   "metadata": {},
   "source": [
    "### Выводы"
   ]
  },
  {
   "cell_type": "markdown",
   "metadata": {},
   "source": [
    "- различие по среднему количеству заказов между группами есть и по «сырым» данным, и по данным после фильтрации аномалий;\n",
    "- нет статистически значимого различия по среднему чеку между группами по данным после фильтрации аномалий, но до фильтрации разница была. Это связано с выбросами;\n",
    "- график различия конверсии между группами сообщает, что результаты группы B лучше группы A пока не начинают ухудшаться;\n",
    "- график различия среднего чека говорит о том, что результаты группы B лучше группы А, но, похоже, дело было в выбросах. Анализ \"очищенных\" данных показал, что особых различий в среднем чеке нет.\n",
    "\n",
    "Исходя из имеющихся данных, можно сделать вывод и остановить тест. Вывод следующий: группа В лучше показывает себя по показателям конверсии, совершается больше покупок. Хоть средний чек у групп почти не отличается, в группе В, ко всему прочему, бывали особо крупные заказы.\n",
    "\n",
    "**Есть вероятность, что сегмент В - лучше сегмента А.**"
   ]
  }
 ],
 "metadata": {
  "ExecuteTimeLog": [
   {
    "duration": 426,
    "start_time": "2022-06-30T13:42:45.651Z"
   },
   {
    "duration": 80,
    "start_time": "2022-06-30T13:43:01.963Z"
   },
   {
    "duration": 14,
    "start_time": "2022-06-30T13:43:10.802Z"
   },
   {
    "duration": 8,
    "start_time": "2022-06-30T13:44:33.557Z"
   },
   {
    "duration": 4,
    "start_time": "2022-06-30T13:44:47.032Z"
   },
   {
    "duration": 14,
    "start_time": "2022-06-30T13:44:53.785Z"
   },
   {
    "duration": 4,
    "start_time": "2022-06-30T13:44:59.522Z"
   },
   {
    "duration": 7,
    "start_time": "2022-06-30T13:46:59.487Z"
   },
   {
    "duration": 13,
    "start_time": "2022-06-30T13:47:34.566Z"
   },
   {
    "duration": 12,
    "start_time": "2022-06-30T13:49:28.791Z"
   },
   {
    "duration": 48,
    "start_time": "2022-07-04T04:41:57.904Z"
   },
   {
    "duration": 385,
    "start_time": "2022-07-04T04:42:07.682Z"
   },
   {
    "duration": 81,
    "start_time": "2022-07-04T04:42:08.070Z"
   },
   {
    "duration": 12,
    "start_time": "2022-07-04T04:42:08.341Z"
   },
   {
    "duration": 6,
    "start_time": "2022-07-04T04:42:08.715Z"
   },
   {
    "duration": 9,
    "start_time": "2022-07-04T04:42:09.179Z"
   },
   {
    "duration": 1563,
    "start_time": "2022-07-04T04:43:21.802Z"
   },
   {
    "duration": 6,
    "start_time": "2022-07-04T04:43:31.661Z"
   },
   {
    "duration": 168,
    "start_time": "2022-07-04T04:43:42.928Z"
   },
   {
    "duration": 13,
    "start_time": "2022-07-04T04:43:46.145Z"
   },
   {
    "duration": 82,
    "start_time": "2022-07-04T04:43:54.105Z"
   },
   {
    "duration": 115,
    "start_time": "2022-07-04T04:44:01.312Z"
   },
   {
    "duration": 105,
    "start_time": "2022-07-04T04:44:04.216Z"
   },
   {
    "duration": 13,
    "start_time": "2022-07-04T04:44:08.944Z"
   },
   {
    "duration": 14,
    "start_time": "2022-07-04T04:44:14.583Z"
   },
   {
    "duration": 14,
    "start_time": "2022-07-04T04:44:19.966Z"
   },
   {
    "duration": 16,
    "start_time": "2022-07-04T04:44:24.527Z"
   },
   {
    "duration": 12,
    "start_time": "2022-07-04T04:44:28.991Z"
   },
   {
    "duration": 10,
    "start_time": "2022-07-04T04:45:05.664Z"
   },
   {
    "duration": 9,
    "start_time": "2022-07-04T04:45:12.168Z"
   },
   {
    "duration": 9,
    "start_time": "2022-07-04T04:45:16.430Z"
   },
   {
    "duration": 14,
    "start_time": "2022-07-04T04:46:38.463Z"
   },
   {
    "duration": 10,
    "start_time": "2022-07-04T04:46:44.407Z"
   },
   {
    "duration": 10,
    "start_time": "2022-07-04T04:46:49.782Z"
   },
   {
    "duration": 11,
    "start_time": "2022-07-04T04:46:53.606Z"
   },
   {
    "duration": 86,
    "start_time": "2022-07-04T04:46:57.790Z"
   },
   {
    "duration": 8,
    "start_time": "2022-07-04T04:47:01.630Z"
   },
   {
    "duration": 11,
    "start_time": "2022-07-04T04:47:13.030Z"
   },
   {
    "duration": 10,
    "start_time": "2022-07-04T04:47:17.198Z"
   },
   {
    "duration": 8,
    "start_time": "2022-07-04T04:47:25.990Z"
   },
   {
    "duration": 158,
    "start_time": "2022-07-04T04:51:50.189Z"
   },
   {
    "duration": 16,
    "start_time": "2022-07-04T04:52:00.934Z"
   },
   {
    "duration": 12,
    "start_time": "2022-07-04T04:52:06.437Z"
   },
   {
    "duration": 14,
    "start_time": "2022-07-04T04:52:15.333Z"
   },
   {
    "duration": 15,
    "start_time": "2022-07-04T04:52:20.156Z"
   },
   {
    "duration": 14,
    "start_time": "2022-07-04T04:52:23.708Z"
   },
   {
    "duration": 12,
    "start_time": "2022-07-04T04:52:26.390Z"
   },
   {
    "duration": 15,
    "start_time": "2022-07-04T04:52:49.739Z"
   },
   {
    "duration": 13,
    "start_time": "2022-07-04T04:52:54.220Z"
   },
   {
    "duration": 12,
    "start_time": "2022-07-04T04:52:57.812Z"
   },
   {
    "duration": 15,
    "start_time": "2022-07-04T04:53:00.076Z"
   },
   {
    "duration": 2,
    "start_time": "2022-07-04T04:59:18.641Z"
   },
   {
    "duration": 3,
    "start_time": "2022-07-04T04:59:45.504Z"
   },
   {
    "duration": 14,
    "start_time": "2022-07-04T05:00:46.955Z"
   },
   {
    "duration": 374,
    "start_time": "2022-07-04T05:09:16.429Z"
   },
   {
    "duration": 399,
    "start_time": "2022-07-04T05:10:15.861Z"
   },
   {
    "duration": 375,
    "start_time": "2022-07-04T05:10:20.779Z"
   },
   {
    "duration": 417,
    "start_time": "2022-07-04T05:10:24.657Z"
   },
   {
    "duration": 25,
    "start_time": "2022-07-04T05:10:25.076Z"
   },
   {
    "duration": 15,
    "start_time": "2022-07-04T05:10:25.103Z"
   },
   {
    "duration": 14,
    "start_time": "2022-07-04T05:10:25.121Z"
   },
   {
    "duration": 12,
    "start_time": "2022-07-04T05:10:25.137Z"
   },
   {
    "duration": 56,
    "start_time": "2022-07-04T05:10:25.155Z"
   },
   {
    "duration": 17,
    "start_time": "2022-07-04T05:10:25.213Z"
   },
   {
    "duration": 27,
    "start_time": "2022-07-04T05:10:25.232Z"
   },
   {
    "duration": 17,
    "start_time": "2022-07-04T05:10:25.261Z"
   },
   {
    "duration": 5,
    "start_time": "2022-07-04T05:15:27.929Z"
   },
   {
    "duration": 69,
    "start_time": "2022-07-04T05:15:46.176Z"
   },
   {
    "duration": 8,
    "start_time": "2022-07-04T05:15:49.737Z"
   },
   {
    "duration": 27,
    "start_time": "2022-07-04T05:17:07.817Z"
   },
   {
    "duration": 200,
    "start_time": "2022-07-04T05:17:38.898Z"
   },
   {
    "duration": 177,
    "start_time": "2022-07-04T05:17:49.759Z"
   },
   {
    "duration": 6,
    "start_time": "2022-07-04T05:18:37.887Z"
   },
   {
    "duration": 169,
    "start_time": "2022-07-04T05:18:38.079Z"
   },
   {
    "duration": 170,
    "start_time": "2022-07-04T05:20:14.310Z"
   },
   {
    "duration": 123,
    "start_time": "2022-07-04T05:20:36.062Z"
   },
   {
    "duration": 167,
    "start_time": "2022-07-04T05:20:49.598Z"
   },
   {
    "duration": 8,
    "start_time": "2022-07-04T05:21:24.599Z"
   },
   {
    "duration": 10,
    "start_time": "2022-07-04T05:21:38.773Z"
   },
   {
    "duration": 428,
    "start_time": "2022-07-04T05:22:48.420Z"
   },
   {
    "duration": 282,
    "start_time": "2022-07-04T05:23:20.934Z"
   },
   {
    "duration": 270,
    "start_time": "2022-07-04T05:23:52.477Z"
   },
   {
    "duration": 263,
    "start_time": "2022-07-04T05:24:07.965Z"
   },
   {
    "duration": 191,
    "start_time": "2022-07-04T05:24:12.157Z"
   },
   {
    "duration": 370,
    "start_time": "2022-07-04T05:24:19.997Z"
   },
   {
    "duration": 22,
    "start_time": "2022-07-04T05:24:52.341Z"
   },
   {
    "duration": 13,
    "start_time": "2022-07-04T05:25:01.092Z"
   },
   {
    "duration": 193,
    "start_time": "2022-07-04T05:25:38.941Z"
   },
   {
    "duration": 169,
    "start_time": "2022-07-04T05:28:24.930Z"
   },
   {
    "duration": 189,
    "start_time": "2022-07-04T05:28:28.586Z"
   },
   {
    "duration": 198,
    "start_time": "2022-07-04T05:28:35.249Z"
   },
   {
    "duration": 193,
    "start_time": "2022-07-04T05:28:38.658Z"
   },
   {
    "duration": 191,
    "start_time": "2022-07-04T05:28:48.080Z"
   },
   {
    "duration": 201,
    "start_time": "2022-07-04T05:29:38.881Z"
   },
   {
    "duration": 200,
    "start_time": "2022-07-04T05:29:46.359Z"
   },
   {
    "duration": 285,
    "start_time": "2022-07-04T05:30:11.808Z"
   },
   {
    "duration": 204,
    "start_time": "2022-07-04T05:30:20.777Z"
   },
   {
    "duration": 197,
    "start_time": "2022-07-04T05:43:52.058Z"
   },
   {
    "duration": 222,
    "start_time": "2022-07-04T05:48:24.167Z"
   },
   {
    "duration": 209,
    "start_time": "2022-07-04T05:48:31.541Z"
   },
   {
    "duration": 203,
    "start_time": "2022-07-04T05:48:38.254Z"
   },
   {
    "duration": 232,
    "start_time": "2022-07-04T05:48:43.462Z"
   },
   {
    "duration": 215,
    "start_time": "2022-07-04T05:48:48.686Z"
   },
   {
    "duration": 198,
    "start_time": "2022-07-04T05:48:55.368Z"
   },
   {
    "duration": 209,
    "start_time": "2022-07-04T05:48:59.670Z"
   },
   {
    "duration": 225,
    "start_time": "2022-07-04T05:49:06.487Z"
   },
   {
    "duration": 291,
    "start_time": "2022-07-04T05:49:12.591Z"
   },
   {
    "duration": 190,
    "start_time": "2022-07-04T05:49:28.109Z"
   },
   {
    "duration": 192,
    "start_time": "2022-07-04T05:49:35.597Z"
   },
   {
    "duration": 330,
    "start_time": "2022-07-04T05:56:31.450Z"
   },
   {
    "duration": 272,
    "start_time": "2022-07-04T05:59:05.987Z"
   },
   {
    "duration": 300,
    "start_time": "2022-07-04T05:59:16.787Z"
   },
   {
    "duration": 280,
    "start_time": "2022-07-04T05:59:22.977Z"
   },
   {
    "duration": 933,
    "start_time": "2022-07-04T18:28:46.486Z"
   },
   {
    "duration": 59,
    "start_time": "2022-07-04T18:28:47.422Z"
   },
   {
    "duration": 22,
    "start_time": "2022-07-04T18:28:47.483Z"
   },
   {
    "duration": 12,
    "start_time": "2022-07-04T18:28:47.509Z"
   },
   {
    "duration": 13,
    "start_time": "2022-07-04T18:28:47.535Z"
   },
   {
    "duration": 98,
    "start_time": "2022-07-04T18:28:47.551Z"
   },
   {
    "duration": 18,
    "start_time": "2022-07-04T18:28:47.651Z"
   },
   {
    "duration": 16,
    "start_time": "2022-07-04T18:28:47.671Z"
   },
   {
    "duration": 17,
    "start_time": "2022-07-04T18:28:47.689Z"
   },
   {
    "duration": 9,
    "start_time": "2022-07-04T18:28:47.709Z"
   },
   {
    "duration": 246,
    "start_time": "2022-07-04T18:28:47.720Z"
   },
   {
    "duration": 148,
    "start_time": "2022-07-04T18:28:47.968Z"
   },
   {
    "duration": 23,
    "start_time": "2022-07-04T18:28:48.118Z"
   },
   {
    "duration": 311,
    "start_time": "2022-07-04T18:28:48.143Z"
   },
   {
    "duration": 221,
    "start_time": "2022-07-04T18:28:48.456Z"
   },
   {
    "duration": 342,
    "start_time": "2022-07-04T18:28:48.679Z"
   },
   {
    "duration": 302,
    "start_time": "2022-07-04T18:30:46.595Z"
   },
   {
    "duration": 207,
    "start_time": "2022-07-04T18:30:56.712Z"
   },
   {
    "duration": 319,
    "start_time": "2022-07-04T18:31:12.508Z"
   },
   {
    "duration": 12,
    "start_time": "2022-07-04T18:33:23.673Z"
   },
   {
    "duration": 19,
    "start_time": "2022-07-04T18:33:34.421Z"
   },
   {
    "duration": 304,
    "start_time": "2022-07-04T18:33:51.265Z"
   },
   {
    "duration": 232,
    "start_time": "2022-07-04T18:34:43.045Z"
   },
   {
    "duration": 209,
    "start_time": "2022-07-04T18:34:52.067Z"
   },
   {
    "duration": 271,
    "start_time": "2022-07-04T18:35:31.317Z"
   },
   {
    "duration": 333,
    "start_time": "2022-07-04T18:35:36.383Z"
   },
   {
    "duration": 323,
    "start_time": "2022-07-04T18:35:55.062Z"
   },
   {
    "duration": 328,
    "start_time": "2022-07-04T18:36:10.246Z"
   },
   {
    "duration": 244,
    "start_time": "2022-07-04T18:37:58.915Z"
   },
   {
    "duration": 263,
    "start_time": "2022-07-04T18:38:11.218Z"
   },
   {
    "duration": 233,
    "start_time": "2022-07-04T18:38:22.242Z"
   },
   {
    "duration": 213,
    "start_time": "2022-07-04T18:40:31.243Z"
   },
   {
    "duration": 214,
    "start_time": "2022-07-04T18:40:33.843Z"
   },
   {
    "duration": 649,
    "start_time": "2022-07-04T18:43:30.313Z"
   },
   {
    "duration": 16,
    "start_time": "2022-07-04T18:43:30.964Z"
   },
   {
    "duration": 22,
    "start_time": "2022-07-04T18:43:30.982Z"
   },
   {
    "duration": 13,
    "start_time": "2022-07-04T18:43:31.006Z"
   },
   {
    "duration": 15,
    "start_time": "2022-07-04T18:43:31.023Z"
   },
   {
    "duration": 66,
    "start_time": "2022-07-04T18:43:31.041Z"
   },
   {
    "duration": 11,
    "start_time": "2022-07-04T18:43:31.109Z"
   },
   {
    "duration": 27,
    "start_time": "2022-07-04T18:43:31.123Z"
   },
   {
    "duration": 38,
    "start_time": "2022-07-04T18:43:31.151Z"
   },
   {
    "duration": 13,
    "start_time": "2022-07-04T18:43:31.190Z"
   },
   {
    "duration": 202,
    "start_time": "2022-07-04T18:43:31.205Z"
   },
   {
    "duration": 130,
    "start_time": "2022-07-04T18:43:31.409Z"
   },
   {
    "duration": 9,
    "start_time": "2022-07-04T18:43:31.541Z"
   },
   {
    "duration": 281,
    "start_time": "2022-07-04T18:43:31.553Z"
   },
   {
    "duration": 225,
    "start_time": "2022-07-04T18:43:31.837Z"
   },
   {
    "duration": 303,
    "start_time": "2022-07-04T18:43:32.064Z"
   },
   {
    "duration": 382,
    "start_time": "2022-07-04T18:43:32.369Z"
   },
   {
    "duration": 229,
    "start_time": "2022-07-04T18:46:40.607Z"
   },
   {
    "duration": 47,
    "start_time": "2022-07-04T18:46:59.188Z"
   },
   {
    "duration": 232,
    "start_time": "2022-07-04T18:47:12.463Z"
   },
   {
    "duration": 248,
    "start_time": "2022-07-04T18:47:26.095Z"
   },
   {
    "duration": 6,
    "start_time": "2022-07-04T18:48:55.396Z"
   },
   {
    "duration": 248,
    "start_time": "2022-07-04T18:48:57.220Z"
   },
   {
    "duration": 6,
    "start_time": "2022-07-04T18:49:25.171Z"
   },
   {
    "duration": 227,
    "start_time": "2022-07-04T18:49:25.515Z"
   },
   {
    "duration": 670,
    "start_time": "2022-07-04T18:49:49.004Z"
   },
   {
    "duration": 15,
    "start_time": "2022-07-04T18:49:49.676Z"
   },
   {
    "duration": 14,
    "start_time": "2022-07-04T18:49:49.692Z"
   },
   {
    "duration": 15,
    "start_time": "2022-07-04T18:49:49.708Z"
   },
   {
    "duration": 15,
    "start_time": "2022-07-04T18:49:49.726Z"
   },
   {
    "duration": 42,
    "start_time": "2022-07-04T18:49:49.743Z"
   },
   {
    "duration": 14,
    "start_time": "2022-07-04T18:49:49.786Z"
   },
   {
    "duration": 13,
    "start_time": "2022-07-04T18:49:49.802Z"
   },
   {
    "duration": 6,
    "start_time": "2022-07-04T18:49:49.817Z"
   },
   {
    "duration": 9,
    "start_time": "2022-07-04T18:49:49.824Z"
   },
   {
    "duration": 214,
    "start_time": "2022-07-04T18:49:49.834Z"
   },
   {
    "duration": 134,
    "start_time": "2022-07-04T18:49:50.051Z"
   },
   {
    "duration": 9,
    "start_time": "2022-07-04T18:49:50.187Z"
   },
   {
    "duration": 291,
    "start_time": "2022-07-04T18:49:50.199Z"
   },
   {
    "duration": 194,
    "start_time": "2022-07-04T18:49:50.492Z"
   },
   {
    "duration": 350,
    "start_time": "2022-07-04T18:49:50.688Z"
   },
   {
    "duration": 395,
    "start_time": "2022-07-04T18:49:51.041Z"
   },
   {
    "duration": 625,
    "start_time": "2022-07-04T18:50:24.874Z"
   },
   {
    "duration": 16,
    "start_time": "2022-07-04T18:50:25.501Z"
   },
   {
    "duration": 29,
    "start_time": "2022-07-04T18:50:25.518Z"
   },
   {
    "duration": 10,
    "start_time": "2022-07-04T18:50:25.550Z"
   },
   {
    "duration": 8,
    "start_time": "2022-07-04T18:50:25.561Z"
   },
   {
    "duration": 32,
    "start_time": "2022-07-04T18:50:25.571Z"
   },
   {
    "duration": 41,
    "start_time": "2022-07-04T18:50:25.604Z"
   },
   {
    "duration": 21,
    "start_time": "2022-07-04T18:50:25.647Z"
   },
   {
    "duration": 14,
    "start_time": "2022-07-04T18:50:25.669Z"
   },
   {
    "duration": 7,
    "start_time": "2022-07-04T18:50:25.685Z"
   },
   {
    "duration": 182,
    "start_time": "2022-07-04T18:50:25.693Z"
   },
   {
    "duration": 151,
    "start_time": "2022-07-04T18:50:25.877Z"
   },
   {
    "duration": 16,
    "start_time": "2022-07-04T18:50:26.030Z"
   },
   {
    "duration": 314,
    "start_time": "2022-07-04T18:50:26.048Z"
   },
   {
    "duration": 202,
    "start_time": "2022-07-04T18:50:26.363Z"
   },
   {
    "duration": 291,
    "start_time": "2022-07-04T18:50:26.567Z"
   },
   {
    "duration": 374,
    "start_time": "2022-07-04T18:50:26.859Z"
   },
   {
    "duration": 301,
    "start_time": "2022-07-04T18:50:36.979Z"
   },
   {
    "duration": 347,
    "start_time": "2022-07-04T18:51:43.109Z"
   },
   {
    "duration": 258,
    "start_time": "2022-07-04T18:51:52.505Z"
   },
   {
    "duration": 11,
    "start_time": "2022-07-04T18:52:29.078Z"
   },
   {
    "duration": 267,
    "start_time": "2022-07-04T18:53:04.829Z"
   },
   {
    "duration": 248,
    "start_time": "2022-07-04T18:54:06.546Z"
   },
   {
    "duration": 226,
    "start_time": "2022-07-04T18:54:27.398Z"
   },
   {
    "duration": 212,
    "start_time": "2022-07-04T18:55:13.028Z"
   },
   {
    "duration": 305,
    "start_time": "2022-07-04T18:57:58.543Z"
   },
   {
    "duration": 420,
    "start_time": "2022-07-04T18:58:15.820Z"
   },
   {
    "duration": 334,
    "start_time": "2022-07-04T18:58:47.092Z"
   },
   {
    "duration": 287,
    "start_time": "2022-07-04T19:00:53.158Z"
   },
   {
    "duration": 342,
    "start_time": "2022-07-04T19:01:13.003Z"
   },
   {
    "duration": 304,
    "start_time": "2022-07-04T19:02:13.986Z"
   },
   {
    "duration": 216,
    "start_time": "2022-07-04T19:05:07.627Z"
   },
   {
    "duration": 295,
    "start_time": "2022-07-04T19:05:08.651Z"
   },
   {
    "duration": 9,
    "start_time": "2022-07-04T19:12:12.774Z"
   },
   {
    "duration": 114,
    "start_time": "2022-07-04T19:12:20.540Z"
   },
   {
    "duration": 111,
    "start_time": "2022-07-04T19:13:23.768Z"
   },
   {
    "duration": 150,
    "start_time": "2022-07-04T19:13:44.590Z"
   },
   {
    "duration": 131,
    "start_time": "2022-07-04T19:14:04.856Z"
   },
   {
    "duration": 202,
    "start_time": "2022-07-04T19:14:17.987Z"
   },
   {
    "duration": 817,
    "start_time": "2022-07-05T04:52:47.254Z"
   },
   {
    "duration": 41,
    "start_time": "2022-07-05T04:52:48.073Z"
   },
   {
    "duration": 16,
    "start_time": "2022-07-05T04:52:48.115Z"
   },
   {
    "duration": 12,
    "start_time": "2022-07-05T04:52:48.133Z"
   },
   {
    "duration": 9,
    "start_time": "2022-07-05T04:52:48.146Z"
   },
   {
    "duration": 76,
    "start_time": "2022-07-05T04:52:48.157Z"
   },
   {
    "duration": 13,
    "start_time": "2022-07-05T04:52:48.234Z"
   },
   {
    "duration": 13,
    "start_time": "2022-07-05T04:52:48.248Z"
   },
   {
    "duration": 14,
    "start_time": "2022-07-05T04:52:48.263Z"
   },
   {
    "duration": 6,
    "start_time": "2022-07-05T04:52:48.280Z"
   },
   {
    "duration": 177,
    "start_time": "2022-07-05T04:52:48.288Z"
   },
   {
    "duration": 127,
    "start_time": "2022-07-05T04:52:48.467Z"
   },
   {
    "duration": 17,
    "start_time": "2022-07-05T04:52:48.596Z"
   },
   {
    "duration": 259,
    "start_time": "2022-07-05T04:52:48.624Z"
   },
   {
    "duration": 182,
    "start_time": "2022-07-05T04:52:48.885Z"
   },
   {
    "duration": 323,
    "start_time": "2022-07-05T04:52:49.069Z"
   },
   {
    "duration": 244,
    "start_time": "2022-07-05T04:52:49.394Z"
   },
   {
    "duration": 305,
    "start_time": "2022-07-05T04:52:49.640Z"
   },
   {
    "duration": 129,
    "start_time": "2022-07-05T04:52:49.947Z"
   },
   {
    "duration": 5,
    "start_time": "2022-07-05T04:55:55.267Z"
   },
   {
    "duration": 837,
    "start_time": "2022-07-05T04:58:28.487Z"
   },
   {
    "duration": 103,
    "start_time": "2022-07-05T04:58:42.552Z"
   },
   {
    "duration": 157,
    "start_time": "2022-07-05T04:59:07.393Z"
   },
   {
    "duration": 137,
    "start_time": "2022-07-05T04:59:45.289Z"
   },
   {
    "duration": 139,
    "start_time": "2022-07-05T05:00:00.066Z"
   },
   {
    "duration": 315,
    "start_time": "2022-07-05T05:00:15.122Z"
   },
   {
    "duration": 147,
    "start_time": "2022-07-05T05:01:08.113Z"
   },
   {
    "duration": 119,
    "start_time": "2022-07-05T05:01:33.498Z"
   },
   {
    "duration": 4,
    "start_time": "2022-07-05T05:04:51.362Z"
   },
   {
    "duration": 206,
    "start_time": "2022-07-05T05:38:29.445Z"
   },
   {
    "duration": 17,
    "start_time": "2022-07-05T05:41:09.258Z"
   },
   {
    "duration": 84,
    "start_time": "2022-07-05T05:41:27.750Z"
   },
   {
    "duration": 124,
    "start_time": "2022-07-05T05:41:36.804Z"
   },
   {
    "duration": 8,
    "start_time": "2022-07-05T05:42:20.816Z"
   },
   {
    "duration": 6,
    "start_time": "2022-07-05T05:42:41.569Z"
   },
   {
    "duration": 6,
    "start_time": "2022-07-05T05:42:52.936Z"
   },
   {
    "duration": 8,
    "start_time": "2022-07-05T05:46:37.591Z"
   },
   {
    "duration": 452,
    "start_time": "2022-07-05T05:47:00.966Z"
   },
   {
    "duration": 1013,
    "start_time": "2022-07-05T05:47:05.820Z"
   },
   {
    "duration": 73,
    "start_time": "2022-07-05T05:47:06.835Z"
   },
   {
    "duration": 17,
    "start_time": "2022-07-05T05:47:06.910Z"
   },
   {
    "duration": 10,
    "start_time": "2022-07-05T05:47:06.930Z"
   },
   {
    "duration": 8,
    "start_time": "2022-07-05T05:47:06.942Z"
   },
   {
    "duration": 34,
    "start_time": "2022-07-05T05:47:06.952Z"
   },
   {
    "duration": 13,
    "start_time": "2022-07-05T05:47:06.987Z"
   },
   {
    "duration": 21,
    "start_time": "2022-07-05T05:47:07.002Z"
   },
   {
    "duration": 21,
    "start_time": "2022-07-05T05:47:07.025Z"
   },
   {
    "duration": 8,
    "start_time": "2022-07-05T05:47:07.049Z"
   },
   {
    "duration": 237,
    "start_time": "2022-07-05T05:47:07.059Z"
   },
   {
    "duration": 174,
    "start_time": "2022-07-05T05:47:07.299Z"
   },
   {
    "duration": 12,
    "start_time": "2022-07-05T05:47:07.476Z"
   },
   {
    "duration": 308,
    "start_time": "2022-07-05T05:47:07.490Z"
   },
   {
    "duration": 186,
    "start_time": "2022-07-05T05:47:07.799Z"
   },
   {
    "duration": 292,
    "start_time": "2022-07-05T05:47:07.987Z"
   },
   {
    "duration": 213,
    "start_time": "2022-07-05T05:47:08.280Z"
   },
   {
    "duration": 383,
    "start_time": "2022-07-05T05:47:08.494Z"
   },
   {
    "duration": 151,
    "start_time": "2022-07-05T05:47:08.879Z"
   },
   {
    "duration": 6,
    "start_time": "2022-07-05T05:47:09.032Z"
   },
   {
    "duration": 171,
    "start_time": "2022-07-05T05:47:09.040Z"
   },
   {
    "duration": 4,
    "start_time": "2022-07-05T05:47:09.213Z"
   },
   {
    "duration": 242,
    "start_time": "2022-07-05T05:47:09.218Z"
   },
   {
    "duration": 152,
    "start_time": "2022-07-05T05:47:09.462Z"
   },
   {
    "duration": 14,
    "start_time": "2022-07-05T05:47:09.616Z"
   },
   {
    "duration": 7,
    "start_time": "2022-07-05T05:47:09.631Z"
   },
   {
    "duration": 27,
    "start_time": "2022-07-05T05:47:09.640Z"
   },
   {
    "duration": 147,
    "start_time": "2022-07-05T06:02:53.733Z"
   },
   {
    "duration": 128,
    "start_time": "2022-07-05T06:03:00.503Z"
   },
   {
    "duration": 242,
    "start_time": "2022-07-05T06:03:05.550Z"
   },
   {
    "duration": 131,
    "start_time": "2022-07-05T06:03:10.510Z"
   },
   {
    "duration": 195,
    "start_time": "2022-07-05T06:03:20.205Z"
   },
   {
    "duration": 56,
    "start_time": "2022-07-05T06:03:29.598Z"
   },
   {
    "duration": 50,
    "start_time": "2022-07-05T06:03:36.526Z"
   },
   {
    "duration": 176,
    "start_time": "2022-07-05T06:03:41.598Z"
   },
   {
    "duration": 188,
    "start_time": "2022-07-05T06:03:44.341Z"
   },
   {
    "duration": 128,
    "start_time": "2022-07-05T06:03:46.948Z"
   },
   {
    "duration": 11,
    "start_time": "2022-07-05T06:20:01.345Z"
   },
   {
    "duration": 10,
    "start_time": "2022-07-05T06:20:22.197Z"
   },
   {
    "duration": 899,
    "start_time": "2022-07-05T06:35:40.093Z"
   },
   {
    "duration": 883,
    "start_time": "2022-07-05T06:35:53.124Z"
   },
   {
    "duration": 770,
    "start_time": "2022-07-05T06:35:58.492Z"
   },
   {
    "duration": 968,
    "start_time": "2022-07-05T06:36:07.086Z"
   },
   {
    "duration": 911,
    "start_time": "2022-07-05T06:36:18.326Z"
   },
   {
    "duration": 12,
    "start_time": "2022-07-05T06:36:44.393Z"
   },
   {
    "duration": 10,
    "start_time": "2022-07-05T06:36:56.734Z"
   },
   {
    "duration": 10,
    "start_time": "2022-07-05T06:37:00.171Z"
   },
   {
    "duration": 12,
    "start_time": "2022-07-05T06:37:20.341Z"
   },
   {
    "duration": 14,
    "start_time": "2022-07-05T06:37:41.626Z"
   },
   {
    "duration": 9,
    "start_time": "2022-07-05T06:37:48.362Z"
   },
   {
    "duration": 10,
    "start_time": "2022-07-05T06:37:50.786Z"
   },
   {
    "duration": 10,
    "start_time": "2022-07-05T06:38:26.755Z"
   },
   {
    "duration": 9,
    "start_time": "2022-07-05T06:38:33.698Z"
   },
   {
    "duration": 10,
    "start_time": "2022-07-05T06:39:11.699Z"
   },
   {
    "duration": 8,
    "start_time": "2022-07-05T06:40:25.334Z"
   },
   {
    "duration": 28,
    "start_time": "2022-07-05T06:40:34.554Z"
   },
   {
    "duration": 752,
    "start_time": "2022-07-05T06:43:49.786Z"
   },
   {
    "duration": 19,
    "start_time": "2022-07-05T06:44:26.706Z"
   },
   {
    "duration": 13,
    "start_time": "2022-07-05T06:55:35.840Z"
   },
   {
    "duration": 997,
    "start_time": "2022-07-05T06:55:40.261Z"
   },
   {
    "duration": 69,
    "start_time": "2022-07-05T06:55:41.260Z"
   },
   {
    "duration": 15,
    "start_time": "2022-07-05T06:55:41.333Z"
   },
   {
    "duration": 15,
    "start_time": "2022-07-05T06:55:41.349Z"
   },
   {
    "duration": 9,
    "start_time": "2022-07-05T06:55:41.365Z"
   },
   {
    "duration": 32,
    "start_time": "2022-07-05T06:55:41.375Z"
   },
   {
    "duration": 15,
    "start_time": "2022-07-05T06:55:41.409Z"
   },
   {
    "duration": 15,
    "start_time": "2022-07-05T06:55:41.426Z"
   },
   {
    "duration": 12,
    "start_time": "2022-07-05T06:55:41.444Z"
   },
   {
    "duration": 9,
    "start_time": "2022-07-05T06:55:41.458Z"
   },
   {
    "duration": 175,
    "start_time": "2022-07-05T06:55:41.469Z"
   },
   {
    "duration": 140,
    "start_time": "2022-07-05T06:55:41.646Z"
   },
   {
    "duration": 15,
    "start_time": "2022-07-05T06:55:41.787Z"
   },
   {
    "duration": 293,
    "start_time": "2022-07-05T06:55:41.803Z"
   },
   {
    "duration": 191,
    "start_time": "2022-07-05T06:55:42.097Z"
   },
   {
    "duration": 339,
    "start_time": "2022-07-05T06:55:42.290Z"
   },
   {
    "duration": 307,
    "start_time": "2022-07-05T06:55:42.631Z"
   },
   {
    "duration": 511,
    "start_time": "2022-07-05T06:55:42.939Z"
   },
   {
    "duration": 298,
    "start_time": "2022-07-05T06:55:43.452Z"
   },
   {
    "duration": 5,
    "start_time": "2022-07-05T06:55:43.752Z"
   },
   {
    "duration": 407,
    "start_time": "2022-07-05T06:55:43.758Z"
   },
   {
    "duration": 4,
    "start_time": "2022-07-05T06:55:44.167Z"
   },
   {
    "duration": 503,
    "start_time": "2022-07-05T06:55:44.225Z"
   },
   {
    "duration": 225,
    "start_time": "2022-07-05T06:55:44.729Z"
   },
   {
    "duration": 8,
    "start_time": "2022-07-05T06:55:44.955Z"
   },
   {
    "duration": 7,
    "start_time": "2022-07-05T06:55:44.964Z"
   },
   {
    "duration": 28,
    "start_time": "2022-07-05T06:55:44.974Z"
   },
   {
    "duration": 29,
    "start_time": "2022-07-05T06:55:45.004Z"
   },
   {
    "duration": 20,
    "start_time": "2022-07-05T06:55:45.035Z"
   },
   {
    "duration": 13,
    "start_time": "2022-07-05T06:55:45.057Z"
   },
   {
    "duration": 27,
    "start_time": "2022-07-05T06:55:45.072Z"
   },
   {
    "duration": 38,
    "start_time": "2022-07-05T06:55:45.101Z"
   },
   {
    "duration": 1224,
    "start_time": "2022-07-05T11:17:04.429Z"
   },
   {
    "duration": 107,
    "start_time": "2022-07-05T11:17:05.656Z"
   },
   {
    "duration": 15,
    "start_time": "2022-07-05T11:17:05.765Z"
   },
   {
    "duration": 15,
    "start_time": "2022-07-05T11:17:05.782Z"
   },
   {
    "duration": 8,
    "start_time": "2022-07-05T11:17:05.798Z"
   },
   {
    "duration": 85,
    "start_time": "2022-07-05T11:17:05.808Z"
   },
   {
    "duration": 14,
    "start_time": "2022-07-05T11:17:05.895Z"
   },
   {
    "duration": 19,
    "start_time": "2022-07-05T11:17:05.910Z"
   },
   {
    "duration": 23,
    "start_time": "2022-07-05T11:17:05.931Z"
   },
   {
    "duration": 12,
    "start_time": "2022-07-05T11:17:05.957Z"
   },
   {
    "duration": 179,
    "start_time": "2022-07-05T11:17:05.971Z"
   },
   {
    "duration": 125,
    "start_time": "2022-07-05T11:17:06.152Z"
   },
   {
    "duration": 10,
    "start_time": "2022-07-05T11:17:06.279Z"
   },
   {
    "duration": 282,
    "start_time": "2022-07-05T11:17:06.291Z"
   },
   {
    "duration": 190,
    "start_time": "2022-07-05T11:17:06.575Z"
   },
   {
    "duration": 411,
    "start_time": "2022-07-05T11:17:06.766Z"
   },
   {
    "duration": 208,
    "start_time": "2022-07-05T11:17:07.180Z"
   },
   {
    "duration": 306,
    "start_time": "2022-07-05T11:17:07.390Z"
   },
   {
    "duration": 152,
    "start_time": "2022-07-05T11:17:07.698Z"
   },
   {
    "duration": 4,
    "start_time": "2022-07-05T11:17:07.852Z"
   },
   {
    "duration": 167,
    "start_time": "2022-07-05T11:17:07.857Z"
   },
   {
    "duration": 4,
    "start_time": "2022-07-05T11:17:08.025Z"
   },
   {
    "duration": 228,
    "start_time": "2022-07-05T11:17:08.031Z"
   },
   {
    "duration": 156,
    "start_time": "2022-07-05T11:17:08.260Z"
   },
   {
    "duration": 8,
    "start_time": "2022-07-05T11:17:08.418Z"
   },
   {
    "duration": 19,
    "start_time": "2022-07-05T11:17:08.428Z"
   },
   {
    "duration": 23,
    "start_time": "2022-07-05T11:17:08.449Z"
   },
   {
    "duration": 42,
    "start_time": "2022-07-05T11:17:08.475Z"
   },
   {
    "duration": 15,
    "start_time": "2022-07-05T11:17:08.519Z"
   },
   {
    "duration": 16,
    "start_time": "2022-07-05T11:17:08.535Z"
   },
   {
    "duration": 34,
    "start_time": "2022-07-05T11:17:08.552Z"
   },
   {
    "duration": 13,
    "start_time": "2022-07-05T11:17:08.588Z"
   },
   {
    "duration": 46,
    "start_time": "2022-07-06T05:21:17.322Z"
   },
   {
    "duration": 1176,
    "start_time": "2022-07-06T05:21:22.590Z"
   },
   {
    "duration": 97,
    "start_time": "2022-07-06T05:21:23.768Z"
   },
   {
    "duration": 15,
    "start_time": "2022-07-06T05:21:23.867Z"
   },
   {
    "duration": 14,
    "start_time": "2022-07-06T05:21:23.884Z"
   },
   {
    "duration": 9,
    "start_time": "2022-07-06T05:21:23.900Z"
   },
   {
    "duration": 76,
    "start_time": "2022-07-06T05:21:23.912Z"
   },
   {
    "duration": 16,
    "start_time": "2022-07-06T05:21:23.990Z"
   },
   {
    "duration": 17,
    "start_time": "2022-07-06T05:21:24.008Z"
   },
   {
    "duration": 17,
    "start_time": "2022-07-06T05:21:24.027Z"
   },
   {
    "duration": 8,
    "start_time": "2022-07-06T05:21:24.047Z"
   },
   {
    "duration": 159,
    "start_time": "2022-07-06T05:21:24.056Z"
   },
   {
    "duration": 118,
    "start_time": "2022-07-06T05:21:24.217Z"
   },
   {
    "duration": 11,
    "start_time": "2022-07-06T05:21:24.336Z"
   },
   {
    "duration": 272,
    "start_time": "2022-07-06T05:21:24.364Z"
   },
   {
    "duration": 200,
    "start_time": "2022-07-06T05:21:24.638Z"
   },
   {
    "duration": 372,
    "start_time": "2022-07-06T05:21:24.840Z"
   },
   {
    "duration": 200,
    "start_time": "2022-07-06T05:21:25.214Z"
   },
   {
    "duration": 313,
    "start_time": "2022-07-06T05:21:25.416Z"
   },
   {
    "duration": 138,
    "start_time": "2022-07-06T05:21:25.731Z"
   },
   {
    "duration": 4,
    "start_time": "2022-07-06T05:21:25.871Z"
   },
   {
    "duration": 162,
    "start_time": "2022-07-06T05:21:25.877Z"
   },
   {
    "duration": 4,
    "start_time": "2022-07-06T05:21:26.040Z"
   },
   {
    "duration": 240,
    "start_time": "2022-07-06T05:21:26.046Z"
   },
   {
    "duration": 178,
    "start_time": "2022-07-06T05:21:26.288Z"
   },
   {
    "duration": 9,
    "start_time": "2022-07-06T05:21:26.468Z"
   },
   {
    "duration": 10,
    "start_time": "2022-07-06T05:21:26.479Z"
   },
   {
    "duration": 27,
    "start_time": "2022-07-06T05:21:26.491Z"
   },
   {
    "duration": 12,
    "start_time": "2022-07-06T05:21:26.523Z"
   },
   {
    "duration": 35,
    "start_time": "2022-07-06T05:21:26.536Z"
   },
   {
    "duration": 9,
    "start_time": "2022-07-06T05:21:26.572Z"
   },
   {
    "duration": 21,
    "start_time": "2022-07-06T05:21:26.583Z"
   },
   {
    "duration": 13,
    "start_time": "2022-07-06T05:21:26.605Z"
   },
   {
    "duration": 9,
    "start_time": "2022-07-06T05:21:38.561Z"
   },
   {
    "duration": 10,
    "start_time": "2022-07-06T05:21:42.302Z"
   },
   {
    "duration": 10,
    "start_time": "2022-07-06T05:21:45.493Z"
   },
   {
    "duration": 11,
    "start_time": "2022-07-06T05:21:50.710Z"
   },
   {
    "duration": 9,
    "start_time": "2022-07-06T05:21:54.773Z"
   },
   {
    "duration": 10,
    "start_time": "2022-07-06T05:22:10.933Z"
   },
   {
    "duration": 8,
    "start_time": "2022-07-06T05:22:26.246Z"
   },
   {
    "duration": 12,
    "start_time": "2022-07-06T05:22:32.197Z"
   },
   {
    "duration": 1225,
    "start_time": "2022-07-06T13:45:44.769Z"
   },
   {
    "duration": 107,
    "start_time": "2022-07-06T13:45:45.997Z"
   },
   {
    "duration": 16,
    "start_time": "2022-07-06T13:45:46.106Z"
   },
   {
    "duration": 11,
    "start_time": "2022-07-06T13:45:46.123Z"
   },
   {
    "duration": 12,
    "start_time": "2022-07-06T13:45:46.136Z"
   },
   {
    "duration": 73,
    "start_time": "2022-07-06T13:45:46.150Z"
   },
   {
    "duration": 13,
    "start_time": "2022-07-06T13:45:46.225Z"
   },
   {
    "duration": 16,
    "start_time": "2022-07-06T13:45:46.240Z"
   },
   {
    "duration": 15,
    "start_time": "2022-07-06T13:45:46.258Z"
   },
   {
    "duration": 8,
    "start_time": "2022-07-06T13:45:46.275Z"
   },
   {
    "duration": 172,
    "start_time": "2022-07-06T13:45:46.285Z"
   },
   {
    "duration": 132,
    "start_time": "2022-07-06T13:45:46.458Z"
   },
   {
    "duration": 10,
    "start_time": "2022-07-06T13:45:46.592Z"
   },
   {
    "duration": 284,
    "start_time": "2022-07-06T13:45:46.604Z"
   },
   {
    "duration": 209,
    "start_time": "2022-07-06T13:45:46.889Z"
   },
   {
    "duration": 372,
    "start_time": "2022-07-06T13:45:47.100Z"
   },
   {
    "duration": 228,
    "start_time": "2022-07-06T13:45:47.475Z"
   },
   {
    "duration": 347,
    "start_time": "2022-07-06T13:45:47.705Z"
   },
   {
    "duration": 146,
    "start_time": "2022-07-06T13:45:48.054Z"
   },
   {
    "duration": 5,
    "start_time": "2022-07-06T13:45:48.201Z"
   },
   {
    "duration": 150,
    "start_time": "2022-07-06T13:45:48.208Z"
   },
   {
    "duration": 4,
    "start_time": "2022-07-06T13:45:48.360Z"
   },
   {
    "duration": 225,
    "start_time": "2022-07-06T13:45:48.366Z"
   },
   {
    "duration": 142,
    "start_time": "2022-07-06T13:45:48.593Z"
   },
   {
    "duration": 16,
    "start_time": "2022-07-06T13:45:48.736Z"
   },
   {
    "duration": 11,
    "start_time": "2022-07-06T13:45:48.754Z"
   },
   {
    "duration": 25,
    "start_time": "2022-07-06T13:45:48.767Z"
   },
   {
    "duration": 10,
    "start_time": "2022-07-06T13:45:48.794Z"
   },
   {
    "duration": 10,
    "start_time": "2022-07-06T13:45:48.806Z"
   },
   {
    "duration": 10,
    "start_time": "2022-07-06T13:45:48.846Z"
   },
   {
    "duration": 37,
    "start_time": "2022-07-06T13:45:48.857Z"
   },
   {
    "duration": 17,
    "start_time": "2022-07-06T13:45:48.897Z"
   }
  ],
  "kernelspec": {
   "display_name": "Python 3 (ipykernel)",
   "language": "python",
   "name": "python3"
  },
  "language_info": {
   "codemirror_mode": {
    "name": "ipython",
    "version": 3
   },
   "file_extension": ".py",
   "mimetype": "text/x-python",
   "name": "python",
   "nbconvert_exporter": "python",
   "pygments_lexer": "ipython3",
   "version": "3.7.3"
  },
  "toc": {
   "base_numbering": 1,
   "nav_menu": {},
   "number_sections": true,
   "sideBar": true,
   "skip_h1_title": true,
   "title_cell": "Table of Contents",
   "title_sidebar": "Contents",
   "toc_cell": false,
   "toc_position": {
    "height": "calc(100% - 180px)",
    "left": "10px",
    "top": "150px",
    "width": "358.188px"
   },
   "toc_section_display": true,
   "toc_window_display": false
  }
 },
 "nbformat": 4,
 "nbformat_minor": 2
}
