{
 "cells": [
  {
   "cell_type": "markdown",
   "metadata": {},
   "source": [
    "# Рынок заведений общественного питания Москвы"
   ]
  },
  {
   "cell_type": "markdown",
   "metadata": {},
   "source": [
    "**Текст задачи:** Вы решили открыть небольшое кафе в Москве. Оно оригинальное — гостей должны обслуживать роботы. Проект многообещающий, но дорогой. Вместе с партнёрами вы решились обратиться к инвесторам. Их интересует текущее положение дел на рынке — сможете ли вы снискать популярность на долгое время, когда все зеваки насмотрятся на роботов-официантов?\n",
    "\n",
    "---\n",
    "\n",
    "Для исследования предоставляется открытая база данных о заведениях общественного питания в Москве.\n",
    "\n",
    "Чтобы убедить инвесторов вложиться в данный проект, необходимо показать им, что кафе является востребованным типом заведений общественного питания в Москве. Для этого будем анализировать открытые данные: рассмотрим, сколько всего заведений каждого типа в городе, какие параметры характерны для каждого из типов. В конце проекта будут предложены рекомендации по открытию кафе."
   ]
  },
  {
   "cell_type": "markdown",
   "metadata": {},
   "source": [
    "## Сведения о данных"
   ]
  },
  {
   "cell_type": "code",
   "execution_count": 1,
   "metadata": {},
   "outputs": [],
   "source": [
    "import warnings\n",
    "warnings.filterwarnings('ignore')"
   ]
  },
  {
   "cell_type": "code",
   "execution_count": 2,
   "metadata": {},
   "outputs": [
    {
     "name": "stdout",
     "output_type": "stream",
     "text": [
      "<class 'pandas.core.frame.DataFrame'>\n",
      "RangeIndex: 15366 entries, 0 to 15365\n",
      "Data columns (total 6 columns):\n",
      " #   Column       Non-Null Count  Dtype \n",
      "---  ------       --------------  ----- \n",
      " 0   id           15366 non-null  int64 \n",
      " 1   object_name  15366 non-null  object\n",
      " 2   chain        15366 non-null  object\n",
      " 3   object_type  15366 non-null  object\n",
      " 4   address      15366 non-null  object\n",
      " 5   number       15366 non-null  int64 \n",
      "dtypes: int64(2), object(4)\n",
      "memory usage: 720.4+ KB\n"
     ]
    }
   ],
   "source": [
    "import seaborn as sns # Импортируем библиотеки для построения графиков\n",
    "import matplotlib.pyplot as plt\n",
    "import plotly.express as px\n",
    "import pandas as pd\n",
    "data=pd.read_csv('c:/Users/User/rest_data.csv') # Импортируем датасет\n",
    "data.info()"
   ]
  },
  {
   "cell_type": "code",
   "execution_count": 3,
   "metadata": {},
   "outputs": [
    {
     "data": {
      "text/html": [
       "<div>\n",
       "<style scoped>\n",
       "    .dataframe tbody tr th:only-of-type {\n",
       "        vertical-align: middle;\n",
       "    }\n",
       "\n",
       "    .dataframe tbody tr th {\n",
       "        vertical-align: top;\n",
       "    }\n",
       "\n",
       "    .dataframe thead th {\n",
       "        text-align: right;\n",
       "    }\n",
       "</style>\n",
       "<table border=\"1\" class=\"dataframe\">\n",
       "  <thead>\n",
       "    <tr style=\"text-align: right;\">\n",
       "      <th></th>\n",
       "      <th>id</th>\n",
       "      <th>object_name</th>\n",
       "      <th>chain</th>\n",
       "      <th>object_type</th>\n",
       "      <th>address</th>\n",
       "      <th>number</th>\n",
       "    </tr>\n",
       "  </thead>\n",
       "  <tbody>\n",
       "    <tr>\n",
       "      <th>0</th>\n",
       "      <td>151635</td>\n",
       "      <td>СМЕТАНА</td>\n",
       "      <td>нет</td>\n",
       "      <td>кафе</td>\n",
       "      <td>город москва, улица егора абакумова, дом 9</td>\n",
       "      <td>48</td>\n",
       "    </tr>\n",
       "    <tr>\n",
       "      <th>1</th>\n",
       "      <td>77874</td>\n",
       "      <td>Родник</td>\n",
       "      <td>нет</td>\n",
       "      <td>кафе</td>\n",
       "      <td>город москва, улица талалихина, дом 2/1, корпус 1</td>\n",
       "      <td>35</td>\n",
       "    </tr>\n",
       "    <tr>\n",
       "      <th>2</th>\n",
       "      <td>24309</td>\n",
       "      <td>Кафе «Академия»</td>\n",
       "      <td>нет</td>\n",
       "      <td>кафе</td>\n",
       "      <td>город москва, абельмановская улица, дом 6</td>\n",
       "      <td>95</td>\n",
       "    </tr>\n",
       "    <tr>\n",
       "      <th>3</th>\n",
       "      <td>21894</td>\n",
       "      <td>ПИЦЦЕТОРИЯ</td>\n",
       "      <td>да</td>\n",
       "      <td>кафе</td>\n",
       "      <td>город москва, абрамцевская улица, дом 1</td>\n",
       "      <td>40</td>\n",
       "    </tr>\n",
       "    <tr>\n",
       "      <th>4</th>\n",
       "      <td>119365</td>\n",
       "      <td>Кафе «Вишневая метель»</td>\n",
       "      <td>нет</td>\n",
       "      <td>кафе</td>\n",
       "      <td>город москва, абрамцевская улица, дом 9, корпус 1</td>\n",
       "      <td>50</td>\n",
       "    </tr>\n",
       "  </tbody>\n",
       "</table>\n",
       "</div>"
      ],
      "text/plain": [
       "       id             object_name chain object_type  \\\n",
       "0  151635                 СМЕТАНА   нет        кафе   \n",
       "1   77874                  Родник   нет        кафе   \n",
       "2   24309         Кафе «Академия»   нет        кафе   \n",
       "3   21894              ПИЦЦЕТОРИЯ    да        кафе   \n",
       "4  119365  Кафе «Вишневая метель»   нет        кафе   \n",
       "\n",
       "                                             address  number  \n",
       "0         город москва, улица егора абакумова, дом 9      48  \n",
       "1  город москва, улица талалихина, дом 2/1, корпус 1      35  \n",
       "2          город москва, абельмановская улица, дом 6      95  \n",
       "3            город москва, абрамцевская улица, дом 1      40  \n",
       "4  город москва, абрамцевская улица, дом 9, корпус 1      50  "
      ]
     },
     "execution_count": 3,
     "metadata": {},
     "output_type": "execute_result"
    }
   ],
   "source": [
    "data.address = data.address.str.lower()\n",
    "data.head() # Смотрим первые 5 строк"
   ]
  },
  {
   "cell_type": "code",
   "execution_count": 4,
   "metadata": {},
   "outputs": [
    {
     "name": "stdout",
     "output_type": "stream",
     "text": [
      "Количество дубликатов в данных:  82\n"
     ]
    }
   ],
   "source": [
    "data_copy = data.drop(labels='id', axis=1)\n",
    "print('Количество дубликатов в данных: ', data_copy.duplicated().sum())"
   ]
  },
  {
   "cell_type": "code",
   "execution_count": 5,
   "metadata": {},
   "outputs": [
    {
     "data": {
      "text/html": [
       "<div>\n",
       "<style scoped>\n",
       "    .dataframe tbody tr th:only-of-type {\n",
       "        vertical-align: middle;\n",
       "    }\n",
       "\n",
       "    .dataframe tbody tr th {\n",
       "        vertical-align: top;\n",
       "    }\n",
       "\n",
       "    .dataframe thead th {\n",
       "        text-align: right;\n",
       "    }\n",
       "</style>\n",
       "<table border=\"1\" class=\"dataframe\">\n",
       "  <thead>\n",
       "    <tr style=\"text-align: right;\">\n",
       "      <th></th>\n",
       "      <th>object_name</th>\n",
       "      <th>chain</th>\n",
       "      <th>object_type</th>\n",
       "      <th>address</th>\n",
       "      <th>number</th>\n",
       "    </tr>\n",
       "  </thead>\n",
       "  <tbody>\n",
       "    <tr>\n",
       "      <th>0</th>\n",
       "      <td>СМЕТАНА</td>\n",
       "      <td>нет</td>\n",
       "      <td>кафе</td>\n",
       "      <td>город москва, улица егора абакумова, дом 9</td>\n",
       "      <td>48</td>\n",
       "    </tr>\n",
       "    <tr>\n",
       "      <th>1</th>\n",
       "      <td>Родник</td>\n",
       "      <td>нет</td>\n",
       "      <td>кафе</td>\n",
       "      <td>город москва, улица талалихина, дом 2/1, корпус 1</td>\n",
       "      <td>35</td>\n",
       "    </tr>\n",
       "    <tr>\n",
       "      <th>2</th>\n",
       "      <td>Кафе «Академия»</td>\n",
       "      <td>нет</td>\n",
       "      <td>кафе</td>\n",
       "      <td>город москва, абельмановская улица, дом 6</td>\n",
       "      <td>95</td>\n",
       "    </tr>\n",
       "    <tr>\n",
       "      <th>3</th>\n",
       "      <td>ПИЦЦЕТОРИЯ</td>\n",
       "      <td>да</td>\n",
       "      <td>кафе</td>\n",
       "      <td>город москва, абрамцевская улица, дом 1</td>\n",
       "      <td>40</td>\n",
       "    </tr>\n",
       "    <tr>\n",
       "      <th>4</th>\n",
       "      <td>Кафе «Вишневая метель»</td>\n",
       "      <td>нет</td>\n",
       "      <td>кафе</td>\n",
       "      <td>город москва, абрамцевская улица, дом 9, корпус 1</td>\n",
       "      <td>50</td>\n",
       "    </tr>\n",
       "  </tbody>\n",
       "</table>\n",
       "</div>"
      ],
      "text/plain": [
       "              object_name chain object_type  \\\n",
       "0                 СМЕТАНА   нет        кафе   \n",
       "1                  Родник   нет        кафе   \n",
       "2         Кафе «Академия»   нет        кафе   \n",
       "3              ПИЦЦЕТОРИЯ    да        кафе   \n",
       "4  Кафе «Вишневая метель»   нет        кафе   \n",
       "\n",
       "                                             address  number  \n",
       "0         город москва, улица егора абакумова, дом 9      48  \n",
       "1  город москва, улица талалихина, дом 2/1, корпус 1      35  \n",
       "2          город москва, абельмановская улица, дом 6      95  \n",
       "3            город москва, абрамцевская улица, дом 1      40  \n",
       "4  город москва, абрамцевская улица, дом 9, корпус 1      50  "
      ]
     },
     "execution_count": 5,
     "metadata": {},
     "output_type": "execute_result"
    }
   ],
   "source": [
    "data_copy = data_copy.drop_duplicates()\n",
    "data_copy.head()"
   ]
  },
  {
   "cell_type": "markdown",
   "metadata": {},
   "source": [
    "Таблица сведений о ресторанах включает **6** столбцов и **15366** строк. Пропусков данных нет, тип данных каждого столбца соответствует содержащейся в нем информации. В данных были найдены неявные дубликаты: одинаковые заведения, занесенные в таблицу с разными id (82 шт). Дубликаты были устранены. Далее будет вестись работа с таблицей `data_copy`, включающей теперь **5** столбцов и **15284** строк.  "
   ]
  },
  {
   "cell_type": "markdown",
   "metadata": {},
   "source": [
    "## Анализ данных"
   ]
  },
  {
   "cell_type": "markdown",
   "metadata": {},
   "source": [
    "### Исследование соотношения видов объектов общественного питания по количеству"
   ]
  },
  {
   "cell_type": "code",
   "execution_count": 6,
   "metadata": {},
   "outputs": [
    {
     "data": {
      "text/html": [
       "<div>\n",
       "<style scoped>\n",
       "    .dataframe tbody tr th:only-of-type {\n",
       "        vertical-align: middle;\n",
       "    }\n",
       "\n",
       "    .dataframe tbody tr th {\n",
       "        vertical-align: top;\n",
       "    }\n",
       "\n",
       "    .dataframe thead th {\n",
       "        text-align: right;\n",
       "    }\n",
       "</style>\n",
       "<table border=\"1\" class=\"dataframe\">\n",
       "  <thead>\n",
       "    <tr style=\"text-align: right;\">\n",
       "      <th></th>\n",
       "      <th>object_type</th>\n",
       "      <th>count</th>\n",
       "      <th>type_percent</th>\n",
       "    </tr>\n",
       "  </thead>\n",
       "  <tbody>\n",
       "    <tr>\n",
       "      <th>0</th>\n",
       "      <td>кафе</td>\n",
       "      <td>6071</td>\n",
       "      <td>39.7%</td>\n",
       "    </tr>\n",
       "    <tr>\n",
       "      <th>1</th>\n",
       "      <td>столовая</td>\n",
       "      <td>2584</td>\n",
       "      <td>16.9%</td>\n",
       "    </tr>\n",
       "    <tr>\n",
       "      <th>2</th>\n",
       "      <td>ресторан</td>\n",
       "      <td>2282</td>\n",
       "      <td>14.9%</td>\n",
       "    </tr>\n",
       "    <tr>\n",
       "      <th>3</th>\n",
       "      <td>предприятие быстрого обслуживания</td>\n",
       "      <td>1898</td>\n",
       "      <td>12.4%</td>\n",
       "    </tr>\n",
       "    <tr>\n",
       "      <th>4</th>\n",
       "      <td>бар</td>\n",
       "      <td>855</td>\n",
       "      <td>5.6%</td>\n",
       "    </tr>\n",
       "    <tr>\n",
       "      <th>5</th>\n",
       "      <td>буфет</td>\n",
       "      <td>577</td>\n",
       "      <td>3.8%</td>\n",
       "    </tr>\n",
       "    <tr>\n",
       "      <th>6</th>\n",
       "      <td>кафетерий</td>\n",
       "      <td>395</td>\n",
       "      <td>2.6%</td>\n",
       "    </tr>\n",
       "    <tr>\n",
       "      <th>7</th>\n",
       "      <td>закусочная</td>\n",
       "      <td>349</td>\n",
       "      <td>2.3%</td>\n",
       "    </tr>\n",
       "    <tr>\n",
       "      <th>8</th>\n",
       "      <td>магазин (отдел кулинарии)</td>\n",
       "      <td>273</td>\n",
       "      <td>1.8%</td>\n",
       "    </tr>\n",
       "  </tbody>\n",
       "</table>\n",
       "</div>"
      ],
      "text/plain": [
       "                         object_type  count type_percent\n",
       "0                               кафе   6071        39.7%\n",
       "1                           столовая   2584        16.9%\n",
       "2                           ресторан   2282        14.9%\n",
       "3  предприятие быстрого обслуживания   1898        12.4%\n",
       "4                                бар    855         5.6%\n",
       "5                              буфет    577         3.8%\n",
       "6                          кафетерий    395         2.6%\n",
       "7                         закусочная    349         2.3%\n",
       "8          магазин (отдел кулинарии)    273         1.8%"
      ]
     },
     "execution_count": 6,
     "metadata": {},
     "output_type": "execute_result"
    }
   ],
   "source": [
    "# Создадим вспомогательную таблицу для построения графика\n",
    "objects = data_copy.groupby('object_type').agg({'object_name':'count'}).sort_values(by='object_name', ascending=False).reset_index()\n",
    "objects.columns=(['object_type' , 'count'])\n",
    "objects['type_percent'] = (objects['count'] / objects['count'].sum()).map(lambda x: f\"{x:.1%}\")\n",
    "objects"
   ]
  },
  {
   "cell_type": "code",
   "execution_count": 7,
   "metadata": {},
   "outputs": [
    {
     "data": {
      "text/plain": [
       "Text(0, 0.5, 'Вид объекта')"
      ]
     },
     "execution_count": 7,
     "metadata": {},
     "output_type": "execute_result"
    },
    {
     "data": {
      "image/png": "[encoded data removed]",
      "text/plain": [
       "<Figure size 640x480 with 1 Axes>"
      ]
     },
     "metadata": {},
     "output_type": "display_data"
    }
   ],
   "source": [
    "# Для того чтобы визуализировать полученную информацию, подойдет столбчатая диаграмма. Создадим ее методами библиотеки seaborn\n",
    "sns.set_style('whitegrid')\n",
    "graf = sns.barplot(x='count', y='object_type', data=objects)\n",
    "graf.set_title('Соотношение видов объектов по количеству \\n')\n",
    "graf.set_xlabel('Количество')\n",
    "graf.set_ylabel('Вид объекта')"
   ]
  },
  {
   "cell_type": "markdown",
   "metadata": {},
   "source": [
    "Заметно выделяется количество кафе: оно превышает **6000**. Другие наиболее популярные виды - столовые и рестораны (примерно **2600** и **2300** заведений соответственно). Также по городу много предприятий быстрого обслуживания (почти **2000**). Остальные типы заведений представлены в количестве меньше 1000, самая малочисленная категория - магазины (отдел кулинарии)."
   ]
  },
  {
   "cell_type": "markdown",
   "metadata": {},
   "source": [
    "### Исследование соотношения сетевых и несетевых заведений по количеству"
   ]
  },
  {
   "cell_type": "code",
   "execution_count": 8,
   "metadata": {},
   "outputs": [
    {
     "data": {
      "text/html": [
       "<div>\n",
       "<style scoped>\n",
       "    .dataframe tbody tr th:only-of-type {\n",
       "        vertical-align: middle;\n",
       "    }\n",
       "\n",
       "    .dataframe tbody tr th {\n",
       "        vertical-align: top;\n",
       "    }\n",
       "\n",
       "    .dataframe thead th {\n",
       "        text-align: right;\n",
       "    }\n",
       "</style>\n",
       "<table border=\"1\" class=\"dataframe\">\n",
       "  <thead>\n",
       "    <tr style=\"text-align: right;\">\n",
       "      <th></th>\n",
       "      <th>chain</th>\n",
       "      <th>count</th>\n",
       "    </tr>\n",
       "  </thead>\n",
       "  <tbody>\n",
       "    <tr>\n",
       "      <th>0</th>\n",
       "      <td>нет</td>\n",
       "      <td>12320</td>\n",
       "    </tr>\n",
       "    <tr>\n",
       "      <th>1</th>\n",
       "      <td>да</td>\n",
       "      <td>2964</td>\n",
       "    </tr>\n",
       "  </tbody>\n",
       "</table>\n",
       "</div>"
      ],
      "text/plain": [
       "  chain  count\n",
       "0   нет  12320\n",
       "1    да   2964"
      ]
     },
     "execution_count": 8,
     "metadata": {},
     "output_type": "execute_result"
    }
   ],
   "source": [
    "# Создадим вспомогательную таблицу для построения графика\n",
    "chain_object = data_copy.groupby('chain').agg({'object_name':'count'}).sort_values(by='object_name', ascending=False).reset_index()\n",
    "chain_object.columns=(['chain' , 'count'])\n",
    "chain_object"
   ]
  },
  {
   "cell_type": "code",
   "execution_count": 31,
   "metadata": {},
   "outputs": [
    {
     "data": {
      "image/png": "[encoded data removed]"
     },
     "metadata": {},
     "output_type": "display_data"
    }
   ],
   "source": [
    "# Отобразим данные в виде круговой диаграммы, построенной при помощи библиотеки plotly\n",
    "from plotly import graph_objects as go\n",
    "fig = go.Figure(data=[go.Pie(labels=chain_object['chain'], values=chain_object['count'])])\n",
    "fig.update_layout(title='Соотношение сетевых и несетевых заведений по количеству')\n",
    "for trace in fig.data:\n",
    "    trace['labels']=['Несетевые', 'Сетевые'] # Заменим \"нет\" и \"да\" на более понятные для восприятия слова\n",
    "\n",
    "fig.show(\"png\")"
   ]
  },
  {
   "cell_type": "markdown",
   "metadata": {},
   "source": [
    "Как видно из графика, из всего количества заведений сетевыми являются только **19,4%**, остальные - несетевые."
   ]
  },
  {
   "cell_type": "markdown",
   "metadata": {},
   "source": [
    "### Для какого вида объекта общественного питания характерно сетевое распространение?"
   ]
  },
  {
   "cell_type": "code",
   "execution_count": 10,
   "metadata": {},
   "outputs": [
    {
     "data": {
      "text/html": [
       "<div>\n",
       "<style scoped>\n",
       "    .dataframe tbody tr th:only-of-type {\n",
       "        vertical-align: middle;\n",
       "    }\n",
       "\n",
       "    .dataframe tbody tr th {\n",
       "        vertical-align: top;\n",
       "    }\n",
       "\n",
       "    .dataframe thead th {\n",
       "        text-align: right;\n",
       "    }\n",
       "</style>\n",
       "<table border=\"1\" class=\"dataframe\">\n",
       "  <thead>\n",
       "    <tr style=\"text-align: right;\">\n",
       "      <th></th>\n",
       "      <th>object_type</th>\n",
       "      <th>chain</th>\n",
       "      <th>count</th>\n",
       "      <th>type_percent</th>\n",
       "    </tr>\n",
       "  </thead>\n",
       "  <tbody>\n",
       "    <tr>\n",
       "      <th>0</th>\n",
       "      <td>кафе</td>\n",
       "      <td>1396</td>\n",
       "      <td>6071</td>\n",
       "      <td>22.99</td>\n",
       "    </tr>\n",
       "    <tr>\n",
       "      <th>1</th>\n",
       "      <td>предприятие быстрого обслуживания</td>\n",
       "      <td>788</td>\n",
       "      <td>1898</td>\n",
       "      <td>41.52</td>\n",
       "    </tr>\n",
       "    <tr>\n",
       "      <th>2</th>\n",
       "      <td>ресторан</td>\n",
       "      <td>543</td>\n",
       "      <td>2282</td>\n",
       "      <td>23.79</td>\n",
       "    </tr>\n",
       "    <tr>\n",
       "      <th>3</th>\n",
       "      <td>магазин (отдел кулинарии)</td>\n",
       "      <td>78</td>\n",
       "      <td>273</td>\n",
       "      <td>28.57</td>\n",
       "    </tr>\n",
       "    <tr>\n",
       "      <th>4</th>\n",
       "      <td>закусочная</td>\n",
       "      <td>56</td>\n",
       "      <td>349</td>\n",
       "      <td>16.05</td>\n",
       "    </tr>\n",
       "    <tr>\n",
       "      <th>5</th>\n",
       "      <td>кафетерий</td>\n",
       "      <td>52</td>\n",
       "      <td>395</td>\n",
       "      <td>13.16</td>\n",
       "    </tr>\n",
       "    <tr>\n",
       "      <th>6</th>\n",
       "      <td>бар</td>\n",
       "      <td>37</td>\n",
       "      <td>855</td>\n",
       "      <td>4.33</td>\n",
       "    </tr>\n",
       "    <tr>\n",
       "      <th>7</th>\n",
       "      <td>буфет</td>\n",
       "      <td>11</td>\n",
       "      <td>577</td>\n",
       "      <td>1.91</td>\n",
       "    </tr>\n",
       "    <tr>\n",
       "      <th>8</th>\n",
       "      <td>столовая</td>\n",
       "      <td>3</td>\n",
       "      <td>2584</td>\n",
       "      <td>0.12</td>\n",
       "    </tr>\n",
       "  </tbody>\n",
       "</table>\n",
       "</div>"
      ],
      "text/plain": [
       "                         object_type  chain  count  type_percent\n",
       "0                               кафе   1396   6071         22.99\n",
       "1  предприятие быстрого обслуживания    788   1898         41.52\n",
       "2                           ресторан    543   2282         23.79\n",
       "3          магазин (отдел кулинарии)     78    273         28.57\n",
       "4                         закусочная     56    349         16.05\n",
       "5                          кафетерий     52    395         13.16\n",
       "6                                бар     37    855          4.33\n",
       "7                              буфет     11    577          1.91\n",
       "8                           столовая      3   2584          0.12"
      ]
     },
     "execution_count": 10,
     "metadata": {},
     "output_type": "execute_result"
    }
   ],
   "source": [
    "# Создадим вспомогательную таблицу, похожую на таблицу из пункта 2.1, исключив несетевые заведения\n",
    "chain_objects = data_copy[data_copy['chain']=='да'].groupby('object_type').agg({'object_name':'count'}).sort_values(by='object_name', ascending=False).reset_index()\n",
    "\n",
    "# Объединим с таблицей из пункта 2.1\n",
    "chain_objects = chain_objects.merge(objects[['object_type', 'count']], left_on='object_type', right_on='object_type')\n",
    "chain_objects.columns=(['object_type' , 'chain', 'count'])\n",
    "\n",
    "# Добавим в полученную таблицу столбец с процентом конкретного типа объекта от всех заведений\n",
    "chain_objects['type_percent'] = (chain_objects['chain'] / chain_objects['count']*100).round(2)\n",
    "chain_objects"
   ]
  },
  {
   "cell_type": "code",
   "execution_count": 11,
   "metadata": {},
   "outputs": [
    {
     "data": {
      "text/plain": [
       "Text(0, 0.5, 'Вид объекта')"
      ]
     },
     "execution_count": 11,
     "metadata": {},
     "output_type": "execute_result"
    },
    {
     "data": {
      "image/png": "[encoded data removed]",
      "text/plain": [
       "<Figure size 640x480 with 1 Axes>"
      ]
     },
     "metadata": {},
     "output_type": "display_data"
    }
   ],
   "source": [
    "sns.set_style('whitegrid')\n",
    "graf = sns.barplot(x='chain', y='object_type', data=chain_objects)\n",
    "graf.set_title('Соотношение видов сетевых объектов по количеству \\n')\n",
    "graf.set_xlabel('Количество')\n",
    "graf.set_ylabel('Вид объекта')"
   ]
  },
  {
   "cell_type": "markdown",
   "metadata": {},
   "source": [
    "По количеству сетевых заведений лидируют кафе, которых около **1400**. Также много предприятий быстрого обслуживания и ресторанов. Посмотрим, какую долю от всех объектов занимают сетевые заведения по типам:"
   ]
  },
  {
   "cell_type": "code",
   "execution_count": 12,
   "metadata": {},
   "outputs": [
    {
     "data": {
      "text/plain": [
       "Text(0, 0.5, 'Вид объекта')"
      ]
     },
     "execution_count": 12,
     "metadata": {},
     "output_type": "execute_result"
    },
    {
     "data": {
      "image/png": "[encoded data removed]",
      "text/plain": [
       "<Figure size 640x480 with 1 Axes>"
      ]
     },
     "metadata": {},
     "output_type": "display_data"
    }
   ],
   "source": [
    "sns.set_style('whitegrid')\n",
    "graf = sns.barplot(x='type_percent', y='object_type', data=chain_objects.sort_values('type_percent', ascending=False))\n",
    "graf.set_title('Доля сетевых объектов от общего количества \\n')\n",
    "graf.set_xlabel('Доля, %')\n",
    "graf.set_ylabel('Вид объекта')"
   ]
  },
  {
   "cell_type": "markdown",
   "metadata": {},
   "source": [
    "Как видно из графика, сетевое распространение наиболее характерно для предприятий быстрого обслуживания: около **40%** заведений. Сетевые магазины составляют чуть меньше **30%** заведений. Также лидируют рестораны и кафе (около **23-24%** заведений)."
   ]
  },
  {
   "cell_type": "markdown",
   "metadata": {},
   "source": [
    "### Что характерно для сетевых заведений: много заведений с небольшим числом посадочных мест в каждом или мало заведений с большим количеством посадочных мест?"
   ]
  },
  {
   "cell_type": "markdown",
   "metadata": {},
   "source": [
    "Чтобы ответить на этот вопрос, необходимо изучить совместное распределение количества сетевых заведений и количества посадочных мест в них. Для этого понадобится построить диаграмму рассеяния."
   ]
  },
  {
   "cell_type": "code",
   "execution_count": 13,
   "metadata": {},
   "outputs": [
    {
     "data": {
      "text/html": [
       "<div>\n",
       "<style scoped>\n",
       "    .dataframe tbody tr th:only-of-type {\n",
       "        vertical-align: middle;\n",
       "    }\n",
       "\n",
       "    .dataframe tbody tr th {\n",
       "        vertical-align: top;\n",
       "    }\n",
       "\n",
       "    .dataframe thead th {\n",
       "        text-align: right;\n",
       "    }\n",
       "</style>\n",
       "<table border=\"1\" class=\"dataframe\">\n",
       "  <thead>\n",
       "    <tr style=\"text-align: right;\">\n",
       "      <th></th>\n",
       "      <th>objects</th>\n",
       "      <th>median_number</th>\n",
       "    </tr>\n",
       "    <tr>\n",
       "      <th>object_name</th>\n",
       "      <th></th>\n",
       "      <th></th>\n",
       "    </tr>\n",
       "  </thead>\n",
       "  <tbody>\n",
       "    <tr>\n",
       "      <th>Beverly Hills Diner</th>\n",
       "      <td>1</td>\n",
       "      <td>88.0</td>\n",
       "    </tr>\n",
       "    <tr>\n",
       "      <th>Bierloga</th>\n",
       "      <td>1</td>\n",
       "      <td>75.0</td>\n",
       "    </tr>\n",
       "    <tr>\n",
       "      <th>Black &amp; White</th>\n",
       "      <td>1</td>\n",
       "      <td>40.0</td>\n",
       "    </tr>\n",
       "    <tr>\n",
       "      <th>Bocconcino</th>\n",
       "      <td>3</td>\n",
       "      <td>68.0</td>\n",
       "    </tr>\n",
       "    <tr>\n",
       "      <th>BooBo</th>\n",
       "      <td>1</td>\n",
       "      <td>46.0</td>\n",
       "    </tr>\n",
       "    <tr>\n",
       "      <th>Bubbleology</th>\n",
       "      <td>1</td>\n",
       "      <td>6.0</td>\n",
       "    </tr>\n",
       "    <tr>\n",
       "      <th>Burger Club</th>\n",
       "      <td>3</td>\n",
       "      <td>20.0</td>\n",
       "    </tr>\n",
       "    <tr>\n",
       "      <th>COFIX</th>\n",
       "      <td>3</td>\n",
       "      <td>10.0</td>\n",
       "    </tr>\n",
       "    <tr>\n",
       "      <th>CORREAS</th>\n",
       "      <td>1</td>\n",
       "      <td>32.0</td>\n",
       "    </tr>\n",
       "    <tr>\n",
       "      <th>CoffeeShop</th>\n",
       "      <td>1</td>\n",
       "      <td>0.0</td>\n",
       "    </tr>\n",
       "  </tbody>\n",
       "</table>\n",
       "</div>"
      ],
      "text/plain": [
       "                     objects  median_number\n",
       "object_name                                \n",
       "Beverly Hills Diner        1           88.0\n",
       "Bierloga                   1           75.0\n",
       "Black & White              1           40.0\n",
       "Bocconcino                 3           68.0\n",
       "BooBo                      1           46.0\n",
       "Bubbleology                1            6.0\n",
       "Burger Club                3           20.0\n",
       "COFIX                      3           10.0\n",
       "CORREAS                    1           32.0\n",
       "CoffeeShop                 1            0.0"
      ]
     },
     "execution_count": 13,
     "metadata": {},
     "output_type": "execute_result"
    }
   ],
   "source": [
    "# Строим вспомогательную таблицу с количеством объектов в сети и медианным числом посадочных мест в заведениях\n",
    "chain_objects = data_copy[data_copy['chain']=='да'].groupby('object_name').agg({'object_name':'count', 'number':'median'})\n",
    "chain_objects.columns = ['objects', 'median_number']\n",
    "chain_objects.head(10) # Проверим, что таблица построена верно"
   ]
  },
  {
   "cell_type": "code",
   "execution_count": 14,
   "metadata": {},
   "outputs": [
    {
     "data": {
      "image/png": "[encoded data removed]",
      "text/plain": [
       "<Figure size 700x700 with 1 Axes>"
      ]
     },
     "metadata": {},
     "output_type": "display_data"
    }
   ],
   "source": [
    "plt.figure(figsize=(7,7))\n",
    "plt.scatter(chain_objects['median_number'], chain_objects['objects'], alpha=0.5)\n",
    "plt.xlabel('Медианное количество посадочных мест')\n",
    "plt.ylabel('Количество объектов в сети')\n",
    "plt.title('Совместное распределение количества сетевых заведений \\n и медианного количества посадочных мест \\n')\n",
    "plt.show()"
   ]
  },
  {
   "cell_type": "markdown",
   "metadata": {},
   "source": [
    "Из графика видно, что чем больше заведений в сети - тем меньше в них посадочных мест. В основном в заведениях не более **150** мест, а в сети обычно не более **7** заведений. Можно сказать, что для сетевых заведений более характерно малое количество заведений с большим количеством посадочных мест."
   ]
  },
  {
   "cell_type": "markdown",
   "metadata": {},
   "source": [
    "### Для каждого вида объекта общественного питания опишите среднее количество посадочных мест. Какой вид предоставляет в среднем самое большое количество посадочных мест?"
   ]
  },
  {
   "cell_type": "code",
   "execution_count": 15,
   "metadata": {},
   "outputs": [
    {
     "data": {
      "text/html": [
       "<div>\n",
       "<style scoped>\n",
       "    .dataframe tbody tr th:only-of-type {\n",
       "        vertical-align: middle;\n",
       "    }\n",
       "\n",
       "    .dataframe tbody tr th {\n",
       "        vertical-align: top;\n",
       "    }\n",
       "\n",
       "    .dataframe thead th {\n",
       "        text-align: right;\n",
       "    }\n",
       "</style>\n",
       "<table border=\"1\" class=\"dataframe\">\n",
       "  <thead>\n",
       "    <tr style=\"text-align: right;\">\n",
       "      <th></th>\n",
       "      <th>object_type</th>\n",
       "      <th>number_of_seats</th>\n",
       "    </tr>\n",
       "  </thead>\n",
       "  <tbody>\n",
       "    <tr>\n",
       "      <th>0</th>\n",
       "      <td>столовая</td>\n",
       "      <td>103</td>\n",
       "    </tr>\n",
       "    <tr>\n",
       "      <th>1</th>\n",
       "      <td>ресторан</td>\n",
       "      <td>80</td>\n",
       "    </tr>\n",
       "    <tr>\n",
       "      <th>2</th>\n",
       "      <td>бар</td>\n",
       "      <td>35</td>\n",
       "    </tr>\n",
       "    <tr>\n",
       "      <th>3</th>\n",
       "      <td>буфет</td>\n",
       "      <td>32</td>\n",
       "    </tr>\n",
       "    <tr>\n",
       "      <th>4</th>\n",
       "      <td>кафе</td>\n",
       "      <td>30</td>\n",
       "    </tr>\n",
       "  </tbody>\n",
       "</table>\n",
       "</div>"
      ],
      "text/plain": [
       "  object_type  number_of_seats\n",
       "0    столовая              103\n",
       "1    ресторан               80\n",
       "2         бар               35\n",
       "3       буфет               32\n",
       "4        кафе               30"
      ]
     },
     "execution_count": 15,
     "metadata": {},
     "output_type": "execute_result"
    }
   ],
   "source": [
    "# Соберем сводную таблицу\n",
    "objects = data_copy.pivot_table(index='object_type', values='number', aggfunc='median').sort_values(by='number', ascending=False).reset_index()\n",
    "objects.columns=['object_type', 'number_of_seats']\n",
    "objects.head() # Выделим первые 5 типов заведений с наибольшим средним количеством посадочных мест"
   ]
  },
  {
   "cell_type": "code",
   "execution_count": 16,
   "metadata": {
    "scrolled": false
   },
   "outputs": [
    {
     "data": {
      "text/plain": [
       "Text(0, 0.5, 'Вид объекта')"
      ]
     },
     "execution_count": 16,
     "metadata": {},
     "output_type": "execute_result"
    },
    {
     "data": {
      "image/png": "[encoded data removed]",
      "text/plain": [
       "<Figure size 640x480 with 1 Axes>"
      ]
     },
     "metadata": {},
     "output_type": "display_data"
    }
   ],
   "source": [
    "sns.set_style('whitegrid')\n",
    "graf = sns.barplot(x='number_of_seats', y='object_type', data=objects)\n",
    "graf.set_title('Среднее количество посадочных мест по типу заведения \\n')\n",
    "graf.set_xlabel('Среднее количество мест')\n",
    "graf.set_ylabel('Вид объекта')"
   ]
  },
  {
   "cell_type": "markdown",
   "metadata": {},
   "source": [
    "Как видно из графика, наибольшее среднее число посадочных мест в столовых (чуть больше **100**). Также много посадочных мест в ресторанах (в среднем **80**)."
   ]
  },
  {
   "cell_type": "markdown",
   "metadata": {},
   "source": [
    "### Выделите в отдельный столбец информацию об улице из столбца \"address\""
   ]
  },
  {
   "cell_type": "code",
   "execution_count": 17,
   "metadata": {},
   "outputs": [
    {
     "data": {
      "text/html": [
       "<div>\n",
       "<style scoped>\n",
       "    .dataframe tbody tr th:only-of-type {\n",
       "        vertical-align: middle;\n",
       "    }\n",
       "\n",
       "    .dataframe tbody tr th {\n",
       "        vertical-align: top;\n",
       "    }\n",
       "\n",
       "    .dataframe thead th {\n",
       "        text-align: right;\n",
       "    }\n",
       "</style>\n",
       "<table border=\"1\" class=\"dataframe\">\n",
       "  <thead>\n",
       "    <tr style=\"text-align: right;\">\n",
       "      <th></th>\n",
       "      <th>id</th>\n",
       "      <th>object_name</th>\n",
       "      <th>chain</th>\n",
       "      <th>object_type</th>\n",
       "      <th>address</th>\n",
       "      <th>number</th>\n",
       "    </tr>\n",
       "  </thead>\n",
       "  <tbody>\n",
       "    <tr>\n",
       "      <th>0</th>\n",
       "      <td>151635</td>\n",
       "      <td>СМЕТАНА</td>\n",
       "      <td>нет</td>\n",
       "      <td>кафе</td>\n",
       "      <td>город москва, улица егора абакумова, дом 9</td>\n",
       "      <td>48</td>\n",
       "    </tr>\n",
       "    <tr>\n",
       "      <th>1</th>\n",
       "      <td>77874</td>\n",
       "      <td>Родник</td>\n",
       "      <td>нет</td>\n",
       "      <td>кафе</td>\n",
       "      <td>город москва, улица талалихина, дом 2/1, корпус 1</td>\n",
       "      <td>35</td>\n",
       "    </tr>\n",
       "    <tr>\n",
       "      <th>2</th>\n",
       "      <td>24309</td>\n",
       "      <td>Кафе «Академия»</td>\n",
       "      <td>нет</td>\n",
       "      <td>кафе</td>\n",
       "      <td>город москва, абельмановская улица, дом 6</td>\n",
       "      <td>95</td>\n",
       "    </tr>\n",
       "    <tr>\n",
       "      <th>3</th>\n",
       "      <td>21894</td>\n",
       "      <td>ПИЦЦЕТОРИЯ</td>\n",
       "      <td>да</td>\n",
       "      <td>кафе</td>\n",
       "      <td>город москва, абрамцевская улица, дом 1</td>\n",
       "      <td>40</td>\n",
       "    </tr>\n",
       "    <tr>\n",
       "      <th>4</th>\n",
       "      <td>119365</td>\n",
       "      <td>Кафе «Вишневая метель»</td>\n",
       "      <td>нет</td>\n",
       "      <td>кафе</td>\n",
       "      <td>город москва, абрамцевская улица, дом 9, корпус 1</td>\n",
       "      <td>50</td>\n",
       "    </tr>\n",
       "  </tbody>\n",
       "</table>\n",
       "</div>"
      ],
      "text/plain": [
       "       id             object_name chain object_type  \\\n",
       "0  151635                 СМЕТАНА   нет        кафе   \n",
       "1   77874                  Родник   нет        кафе   \n",
       "2   24309         Кафе «Академия»   нет        кафе   \n",
       "3   21894              ПИЦЦЕТОРИЯ    да        кафе   \n",
       "4  119365  Кафе «Вишневая метель»   нет        кафе   \n",
       "\n",
       "                                             address  number  \n",
       "0         город москва, улица егора абакумова, дом 9      48  \n",
       "1  город москва, улица талалихина, дом 2/1, корпус 1      35  \n",
       "2          город москва, абельмановская улица, дом 6      95  \n",
       "3            город москва, абрамцевская улица, дом 1      40  \n",
       "4  город москва, абрамцевская улица, дом 9, корпус 1      50  "
      ]
     },
     "execution_count": 17,
     "metadata": {},
     "output_type": "execute_result"
    }
   ],
   "source": [
    "# Создадим универсальный паттерн\n",
    "pattern = '(([а-яА-Я0-9\\-ёй\\s\"]+)?(улица|переулок|шоссе|бульвар|проспект|проезд|площадь|аллея|набережная)([а-яА-Я0-9\\-ёй\\s\"]+)?)'\n",
    "# Добавим столбец с названием улицы, используя созданный выше паттерн\n",
    "data_copy['street'] = data_copy['address'].str.extract(pat = pattern)[0]\n",
    "data_copy['street'] = data_copy['street'].str.strip()\n",
    "data.head()"
   ]
  },
  {
   "cell_type": "code",
   "execution_count": 18,
   "metadata": {},
   "outputs": [
    {
     "name": "stdout",
     "output_type": "stream",
     "text": [
      "<class 'pandas.core.frame.DataFrame'>\n",
      "Int64Index: 15284 entries, 0 to 15365\n",
      "Data columns (total 6 columns):\n",
      " #   Column       Non-Null Count  Dtype \n",
      "---  ------       --------------  ----- \n",
      " 0   object_name  15284 non-null  object\n",
      " 1   chain        15284 non-null  object\n",
      " 2   object_type  15284 non-null  object\n",
      " 3   address      15284 non-null  object\n",
      " 4   number       15284 non-null  int64 \n",
      " 5   street       14868 non-null  object\n",
      "dtypes: int64(1), object(5)\n",
      "memory usage: 835.8+ KB\n"
     ]
    }
   ],
   "source": [
    "data_copy.info()"
   ]
  },
  {
   "cell_type": "markdown",
   "metadata": {},
   "source": [
    "В новом столбце `street` имеются пропуски. Это может быть связано с тем, что названия улиц содержат ключевые слова, которые не были указаны в паттерне. Либо это могут быть адреса в посёлках, не имеющие названий улиц или улиц вообще. Количество пропусков невелико, поэтому оно не сильно повлияет на дальнейшие исследования."
   ]
  },
  {
   "cell_type": "markdown",
   "metadata": {},
   "source": [
    "### Постройте график топ-10 улиц по количеству объектов общественного питания. Воспользуйтесь внешней информацией и ответьте на вопрос — в каких районах Москвы находятся эти улицы?"
   ]
  },
  {
   "cell_type": "code",
   "execution_count": 19,
   "metadata": {},
   "outputs": [
    {
     "data": {
      "text/html": [
       "<div>\n",
       "<style scoped>\n",
       "    .dataframe tbody tr th:only-of-type {\n",
       "        vertical-align: middle;\n",
       "    }\n",
       "\n",
       "    .dataframe tbody tr th {\n",
       "        vertical-align: top;\n",
       "    }\n",
       "\n",
       "    .dataframe thead th {\n",
       "        text-align: right;\n",
       "    }\n",
       "</style>\n",
       "<table border=\"1\" class=\"dataframe\">\n",
       "  <thead>\n",
       "    <tr style=\"text-align: right;\">\n",
       "      <th></th>\n",
       "      <th>street</th>\n",
       "      <th>objects</th>\n",
       "    </tr>\n",
       "  </thead>\n",
       "  <tbody>\n",
       "    <tr>\n",
       "      <th>1058</th>\n",
       "      <td>проспект мира</td>\n",
       "      <td>204</td>\n",
       "    </tr>\n",
       "    <tr>\n",
       "      <th>1062</th>\n",
       "      <td>профсоюзная улица</td>\n",
       "      <td>182</td>\n",
       "    </tr>\n",
       "    <tr>\n",
       "      <th>688</th>\n",
       "      <td>ленинградский проспект</td>\n",
       "      <td>172</td>\n",
       "    </tr>\n",
       "    <tr>\n",
       "      <th>1017</th>\n",
       "      <td>пресненская набережная</td>\n",
       "      <td>167</td>\n",
       "    </tr>\n",
       "    <tr>\n",
       "      <th>401</th>\n",
       "      <td>варшавское шоссе</td>\n",
       "      <td>165</td>\n",
       "    </tr>\n",
       "    <tr>\n",
       "      <th>691</th>\n",
       "      <td>ленинский проспект</td>\n",
       "      <td>148</td>\n",
       "    </tr>\n",
       "    <tr>\n",
       "      <th>1054</th>\n",
       "      <td>проспект вернадского</td>\n",
       "      <td>128</td>\n",
       "    </tr>\n",
       "    <tr>\n",
       "      <th>678</th>\n",
       "      <td>кутузовский проспект</td>\n",
       "      <td>114</td>\n",
       "    </tr>\n",
       "    <tr>\n",
       "      <th>601</th>\n",
       "      <td>каширское шоссе</td>\n",
       "      <td>111</td>\n",
       "    </tr>\n",
       "    <tr>\n",
       "      <th>609</th>\n",
       "      <td>кировоградская улица</td>\n",
       "      <td>108</td>\n",
       "    </tr>\n",
       "  </tbody>\n",
       "</table>\n",
       "</div>"
      ],
      "text/plain": [
       "                      street  objects\n",
       "1058           проспект мира      204\n",
       "1062       профсоюзная улица      182\n",
       "688   ленинградский проспект      172\n",
       "1017  пресненская набережная      167\n",
       "401         варшавское шоссе      165\n",
       "691       ленинский проспект      148\n",
       "1054    проспект вернадского      128\n",
       "678     кутузовский проспект      114\n",
       "601          каширское шоссе      111\n",
       "609     кировоградская улица      108"
      ]
     },
     "execution_count": 19,
     "metadata": {},
     "output_type": "execute_result"
    }
   ],
   "source": [
    "# Создадим таблицу с улицами и количеством объектов на них\n",
    "top_streets = data_copy.groupby('street').agg({'object_name':'count'}).reset_index()\n",
    "top_streets.columns = ['street', 'objects']\n",
    "top_streets = top_streets.sort_values(by='objects', ascending = False)\n",
    "top10_streets = top_streets.head(10) # Выделим топ-10 улиц\n",
    "top10_streets"
   ]
  },
  {
   "cell_type": "code",
   "execution_count": 32,
   "metadata": {
    "scrolled": false
   },
   "outputs": [
    {
     "data": {
      "image/png": "[encoded data removed]"
     },
     "metadata": {},
     "output_type": "display_data"
    }
   ],
   "source": [
    "# Построим столбчатую диаграмму методами plotly \n",
    "\n",
    "fig = px.bar(top10_streets, x='street', y='objects', \n",
    "             color='street', width = 1000, height = 600, text='objects')\n",
    "fig.update_xaxes(tickangle=-45)\n",
    "fig.update_layout(\n",
    "    title='Топ-10 улиц с наибольшим количеством заведений',\n",
    "    xaxis_title=\"Улица\",\n",
    "    yaxis_title=\"Количество заведений\")\n",
    "fig.show(\"png\")"
   ]
  },
  {
   "cell_type": "markdown",
   "metadata": {},
   "source": [
    "Для того чтобы узнать в каких районах города находятся эти улицы, необходимо воспользоваться внешними данными. Нужные данные получены из справочника Мосгаза."
   ]
  },
  {
   "cell_type": "code",
   "execution_count": 21,
   "metadata": {},
   "outputs": [
    {
     "data": {
      "text/html": [
       "<div>\n",
       "<style scoped>\n",
       "    .dataframe tbody tr th:only-of-type {\n",
       "        vertical-align: middle;\n",
       "    }\n",
       "\n",
       "    .dataframe tbody tr th {\n",
       "        vertical-align: top;\n",
       "    }\n",
       "\n",
       "    .dataframe thead th {\n",
       "        text-align: right;\n",
       "    }\n",
       "</style>\n",
       "<table border=\"1\" class=\"dataframe\">\n",
       "  <thead>\n",
       "    <tr style=\"text-align: right;\">\n",
       "      <th></th>\n",
       "      <th>street</th>\n",
       "      <th>areaid</th>\n",
       "      <th>okrug</th>\n",
       "      <th>area</th>\n",
       "    </tr>\n",
       "  </thead>\n",
       "  <tbody>\n",
       "    <tr>\n",
       "      <th>0</th>\n",
       "      <td>выставочный переулок</td>\n",
       "      <td>17</td>\n",
       "      <td>ЦАО</td>\n",
       "      <td>Пресненский район</td>\n",
       "    </tr>\n",
       "    <tr>\n",
       "      <th>1</th>\n",
       "      <td>улица гашека</td>\n",
       "      <td>17</td>\n",
       "      <td>ЦАО</td>\n",
       "      <td>Пресненский район</td>\n",
       "    </tr>\n",
       "    <tr>\n",
       "      <th>2</th>\n",
       "      <td>большая никитская улица</td>\n",
       "      <td>17</td>\n",
       "      <td>ЦАО</td>\n",
       "      <td>Пресненский район</td>\n",
       "    </tr>\n",
       "    <tr>\n",
       "      <th>3</th>\n",
       "      <td>глубокий переулок</td>\n",
       "      <td>17</td>\n",
       "      <td>ЦАО</td>\n",
       "      <td>Пресненский район</td>\n",
       "    </tr>\n",
       "    <tr>\n",
       "      <th>4</th>\n",
       "      <td>большой гнездниковский переулок</td>\n",
       "      <td>17</td>\n",
       "      <td>ЦАО</td>\n",
       "      <td>Пресненский район</td>\n",
       "    </tr>\n",
       "  </tbody>\n",
       "</table>\n",
       "</div>"
      ],
      "text/plain": [
       "                            street  areaid okrug               area\n",
       "0             выставочный переулок      17   ЦАО  Пресненский район\n",
       "1                     улица гашека      17   ЦАО  Пресненский район\n",
       "2          большая никитская улица      17   ЦАО  Пресненский район\n",
       "3                глубокий переулок      17   ЦАО  Пресненский район\n",
       "4  большой гнездниковский переулок      17   ЦАО  Пресненский район"
      ]
     },
     "execution_count": 21,
     "metadata": {},
     "output_type": "execute_result"
    }
   ],
   "source": [
    "# Выгружаем внешние данные из гугл-таблиц\n",
    "from io import BytesIO\n",
    "import requests\n",
    "spreadsheet_id = '1M6O6xXROcw3jtdtOHCE8Napr8TVpvivPeAIX9NHsF9o'\n",
    "file_name = 'https://docs.google.com/spreadsheets/d/{}/export?format=csv'.format(spreadsheet_id)\n",
    "r = requests.get(file_name)\n",
    "df = pd.read_csv(BytesIO(r.content))\n",
    "df.columns = ['street', 'areaid', 'okrug', 'area']\n",
    "df.street = df.street.str.lower()\n",
    "df.head()"
   ]
  },
  {
   "cell_type": "code",
   "execution_count": 22,
   "metadata": {
    "scrolled": true
   },
   "outputs": [
    {
     "data": {
      "text/html": [
       "<div>\n",
       "<style scoped>\n",
       "    .dataframe tbody tr th:only-of-type {\n",
       "        vertical-align: middle;\n",
       "    }\n",
       "\n",
       "    .dataframe tbody tr th {\n",
       "        vertical-align: top;\n",
       "    }\n",
       "\n",
       "    .dataframe thead th {\n",
       "        text-align: right;\n",
       "    }\n",
       "</style>\n",
       "<table border=\"1\" class=\"dataframe\">\n",
       "  <thead>\n",
       "    <tr style=\"text-align: right;\">\n",
       "      <th></th>\n",
       "      <th>street</th>\n",
       "      <th>objects</th>\n",
       "      <th>areaid</th>\n",
       "      <th>okrug</th>\n",
       "      <th>area</th>\n",
       "    </tr>\n",
       "  </thead>\n",
       "  <tbody>\n",
       "    <tr>\n",
       "      <th>0</th>\n",
       "      <td>проспект мира</td>\n",
       "      <td>204</td>\n",
       "      <td>70</td>\n",
       "      <td>СВАО</td>\n",
       "      <td>Алексеевский район</td>\n",
       "    </tr>\n",
       "    <tr>\n",
       "      <th>1</th>\n",
       "      <td>проспект мира</td>\n",
       "      <td>204</td>\n",
       "      <td>86</td>\n",
       "      <td>СВАО</td>\n",
       "      <td>Ярославский Район</td>\n",
       "    </tr>\n",
       "    <tr>\n",
       "      <th>2</th>\n",
       "      <td>проспект мира</td>\n",
       "      <td>204</td>\n",
       "      <td>78</td>\n",
       "      <td>СВАО</td>\n",
       "      <td>Район Марьина роща</td>\n",
       "    </tr>\n",
       "    <tr>\n",
       "      <th>3</th>\n",
       "      <td>проспект мира</td>\n",
       "      <td>204</td>\n",
       "      <td>79</td>\n",
       "      <td>СВАО</td>\n",
       "      <td>Останкинский район</td>\n",
       "    </tr>\n",
       "    <tr>\n",
       "      <th>4</th>\n",
       "      <td>проспект мира</td>\n",
       "      <td>204</td>\n",
       "      <td>81</td>\n",
       "      <td>СВАО</td>\n",
       "      <td>Район Ростокино</td>\n",
       "    </tr>\n",
       "    <tr>\n",
       "      <th>5</th>\n",
       "      <td>проспект мира</td>\n",
       "      <td>204</td>\n",
       "      <td>82</td>\n",
       "      <td>СВАО</td>\n",
       "      <td>Район Свиблово</td>\n",
       "    </tr>\n",
       "    <tr>\n",
       "      <th>6</th>\n",
       "      <td>проспект мира</td>\n",
       "      <td>204</td>\n",
       "      <td>16</td>\n",
       "      <td>ЦАО</td>\n",
       "      <td>Мещанский район</td>\n",
       "    </tr>\n",
       "    <tr>\n",
       "      <th>7</th>\n",
       "      <td>профсоюзная улица</td>\n",
       "      <td>182</td>\n",
       "      <td>123</td>\n",
       "      <td>ЮЗАО</td>\n",
       "      <td>Академический район</td>\n",
       "    </tr>\n",
       "    <tr>\n",
       "      <th>8</th>\n",
       "      <td>профсоюзная улица</td>\n",
       "      <td>182</td>\n",
       "      <td>132</td>\n",
       "      <td>ЮЗАО</td>\n",
       "      <td>Район Черемушки</td>\n",
       "    </tr>\n",
       "    <tr>\n",
       "      <th>9</th>\n",
       "      <td>профсоюзная улица</td>\n",
       "      <td>182</td>\n",
       "      <td>134</td>\n",
       "      <td>ЮЗАО</td>\n",
       "      <td>Район Ясенево</td>\n",
       "    </tr>\n",
       "    <tr>\n",
       "      <th>10</th>\n",
       "      <td>профсоюзная улица</td>\n",
       "      <td>182</td>\n",
       "      <td>126</td>\n",
       "      <td>ЮЗАО</td>\n",
       "      <td>Район Коньково</td>\n",
       "    </tr>\n",
       "    <tr>\n",
       "      <th>11</th>\n",
       "      <td>профсоюзная улица</td>\n",
       "      <td>182</td>\n",
       "      <td>129</td>\n",
       "      <td>ЮЗАО</td>\n",
       "      <td>Обручевский район</td>\n",
       "    </tr>\n",
       "    <tr>\n",
       "      <th>12</th>\n",
       "      <td>профсоюзная улица</td>\n",
       "      <td>182</td>\n",
       "      <td>131</td>\n",
       "      <td>ЮЗАО</td>\n",
       "      <td>Район Теплый Стан</td>\n",
       "    </tr>\n",
       "    <tr>\n",
       "      <th>13</th>\n",
       "      <td>ленинградский проспект</td>\n",
       "      <td>172</td>\n",
       "      <td>54</td>\n",
       "      <td>САО</td>\n",
       "      <td>Район Аэропорт</td>\n",
       "    </tr>\n",
       "    <tr>\n",
       "      <th>14</th>\n",
       "      <td>ленинградский проспект</td>\n",
       "      <td>172</td>\n",
       "      <td>55</td>\n",
       "      <td>САО</td>\n",
       "      <td>Район Беговой</td>\n",
       "    </tr>\n",
       "    <tr>\n",
       "      <th>15</th>\n",
       "      <td>ленинградский проспект</td>\n",
       "      <td>172</td>\n",
       "      <td>69</td>\n",
       "      <td>САО</td>\n",
       "      <td>Хорошевский район</td>\n",
       "    </tr>\n",
       "    <tr>\n",
       "      <th>16</th>\n",
       "      <td>ленинградский проспект</td>\n",
       "      <td>172</td>\n",
       "      <td>66</td>\n",
       "      <td>САО</td>\n",
       "      <td>Район Сокол</td>\n",
       "    </tr>\n",
       "    <tr>\n",
       "      <th>17</th>\n",
       "      <td>пресненская набережная</td>\n",
       "      <td>167</td>\n",
       "      <td>17</td>\n",
       "      <td>ЦАО</td>\n",
       "      <td>Пресненский район</td>\n",
       "    </tr>\n",
       "    <tr>\n",
       "      <th>18</th>\n",
       "      <td>варшавское шоссе</td>\n",
       "      <td>165</td>\n",
       "      <td>109</td>\n",
       "      <td>ЮАО</td>\n",
       "      <td>Район Чертаново Центральное</td>\n",
       "    </tr>\n",
       "    <tr>\n",
       "      <th>19</th>\n",
       "      <td>варшавское шоссе</td>\n",
       "      <td>165</td>\n",
       "      <td>108</td>\n",
       "      <td>ЮАО</td>\n",
       "      <td>Район Чертаново Северное</td>\n",
       "    </tr>\n",
       "    <tr>\n",
       "      <th>20</th>\n",
       "      <td>варшавское шоссе</td>\n",
       "      <td>165</td>\n",
       "      <td>110</td>\n",
       "      <td>ЮАО</td>\n",
       "      <td>Район Чертаново Южное</td>\n",
       "    </tr>\n",
       "    <tr>\n",
       "      <th>21</th>\n",
       "      <td>варшавское шоссе</td>\n",
       "      <td>165</td>\n",
       "      <td>99</td>\n",
       "      <td>ЮАО</td>\n",
       "      <td>Донской район</td>\n",
       "    </tr>\n",
       "    <tr>\n",
       "      <th>22</th>\n",
       "      <td>варшавское шоссе</td>\n",
       "      <td>165</td>\n",
       "      <td>102</td>\n",
       "      <td>ЮАО</td>\n",
       "      <td>Район Нагатино-Садовники</td>\n",
       "    </tr>\n",
       "    <tr>\n",
       "      <th>23</th>\n",
       "      <td>варшавское шоссе</td>\n",
       "      <td>165</td>\n",
       "      <td>104</td>\n",
       "      <td>ЮАО</td>\n",
       "      <td>Нагорный район</td>\n",
       "    </tr>\n",
       "    <tr>\n",
       "      <th>24</th>\n",
       "      <td>варшавское шоссе</td>\n",
       "      <td>165</td>\n",
       "      <td>130</td>\n",
       "      <td>ЮЗАО</td>\n",
       "      <td>Район Северное Бутово</td>\n",
       "    </tr>\n",
       "    <tr>\n",
       "      <th>25</th>\n",
       "      <td>варшавское шоссе</td>\n",
       "      <td>165</td>\n",
       "      <td>133</td>\n",
       "      <td>ЮЗАО</td>\n",
       "      <td>Район Южное Бутово</td>\n",
       "    </tr>\n",
       "    <tr>\n",
       "      <th>26</th>\n",
       "      <td>ленинский проспект</td>\n",
       "      <td>148</td>\n",
       "      <td>44</td>\n",
       "      <td>ЗАО</td>\n",
       "      <td>Район Проспект Вернадского</td>\n",
       "    </tr>\n",
       "    <tr>\n",
       "      <th>27</th>\n",
       "      <td>ленинский проспект</td>\n",
       "      <td>148</td>\n",
       "      <td>47</td>\n",
       "      <td>ЗАО</td>\n",
       "      <td>Район Тропарево-Никулино</td>\n",
       "    </tr>\n",
       "    <tr>\n",
       "      <th>28</th>\n",
       "      <td>ленинский проспект</td>\n",
       "      <td>148</td>\n",
       "      <td>99</td>\n",
       "      <td>ЮАО</td>\n",
       "      <td>Донской район</td>\n",
       "    </tr>\n",
       "    <tr>\n",
       "      <th>29</th>\n",
       "      <td>ленинский проспект</td>\n",
       "      <td>148</td>\n",
       "      <td>124</td>\n",
       "      <td>ЮЗАО</td>\n",
       "      <td>Район Гагаринский</td>\n",
       "    </tr>\n",
       "    <tr>\n",
       "      <th>30</th>\n",
       "      <td>ленинский проспект</td>\n",
       "      <td>148</td>\n",
       "      <td>128</td>\n",
       "      <td>ЮЗАО</td>\n",
       "      <td>Ломоносовский район</td>\n",
       "    </tr>\n",
       "    <tr>\n",
       "      <th>31</th>\n",
       "      <td>ленинский проспект</td>\n",
       "      <td>148</td>\n",
       "      <td>129</td>\n",
       "      <td>ЮЗАО</td>\n",
       "      <td>Обручевский район</td>\n",
       "    </tr>\n",
       "    <tr>\n",
       "      <th>32</th>\n",
       "      <td>ленинский проспект</td>\n",
       "      <td>148</td>\n",
       "      <td>131</td>\n",
       "      <td>ЮЗАО</td>\n",
       "      <td>Район Теплый Стан</td>\n",
       "    </tr>\n",
       "    <tr>\n",
       "      <th>33</th>\n",
       "      <td>ленинский проспект</td>\n",
       "      <td>148</td>\n",
       "      <td>21</td>\n",
       "      <td>ЦАО</td>\n",
       "      <td>Район Якиманка</td>\n",
       "    </tr>\n",
       "    <tr>\n",
       "      <th>34</th>\n",
       "      <td>проспект вернадского</td>\n",
       "      <td>128</td>\n",
       "      <td>44</td>\n",
       "      <td>ЗАО</td>\n",
       "      <td>Район Проспект Вернадского</td>\n",
       "    </tr>\n",
       "    <tr>\n",
       "      <th>35</th>\n",
       "      <td>проспект вернадского</td>\n",
       "      <td>128</td>\n",
       "      <td>45</td>\n",
       "      <td>ЗАО</td>\n",
       "      <td>Район Раменки</td>\n",
       "    </tr>\n",
       "    <tr>\n",
       "      <th>36</th>\n",
       "      <td>проспект вернадского</td>\n",
       "      <td>128</td>\n",
       "      <td>47</td>\n",
       "      <td>ЗАО</td>\n",
       "      <td>Район Тропарево-Никулино</td>\n",
       "    </tr>\n",
       "    <tr>\n",
       "      <th>37</th>\n",
       "      <td>проспект вернадского</td>\n",
       "      <td>128</td>\n",
       "      <td>124</td>\n",
       "      <td>ЮЗАО</td>\n",
       "      <td>Район Гагаринский</td>\n",
       "    </tr>\n",
       "    <tr>\n",
       "      <th>38</th>\n",
       "      <td>проспект вернадского</td>\n",
       "      <td>128</td>\n",
       "      <td>128</td>\n",
       "      <td>ЮЗАО</td>\n",
       "      <td>Ломоносовский район</td>\n",
       "    </tr>\n",
       "    <tr>\n",
       "      <th>39</th>\n",
       "      <td>кутузовский проспект</td>\n",
       "      <td>114</td>\n",
       "      <td>38</td>\n",
       "      <td>ЗАО</td>\n",
       "      <td>Район Дорогомилово</td>\n",
       "    </tr>\n",
       "    <tr>\n",
       "      <th>40</th>\n",
       "      <td>кутузовский проспект</td>\n",
       "      <td>114</td>\n",
       "      <td>49</td>\n",
       "      <td>ЗАО</td>\n",
       "      <td>Район Фили-Давыдково</td>\n",
       "    </tr>\n",
       "    <tr>\n",
       "      <th>41</th>\n",
       "      <td>каширское шоссе</td>\n",
       "      <td>111</td>\n",
       "      <td>101</td>\n",
       "      <td>ЮАО</td>\n",
       "      <td>Район Москворечье-Сабурово</td>\n",
       "    </tr>\n",
       "    <tr>\n",
       "      <th>42</th>\n",
       "      <td>каширское шоссе</td>\n",
       "      <td>111</td>\n",
       "      <td>102</td>\n",
       "      <td>ЮАО</td>\n",
       "      <td>Район Нагатино-Садовники</td>\n",
       "    </tr>\n",
       "    <tr>\n",
       "      <th>43</th>\n",
       "      <td>каширское шоссе</td>\n",
       "      <td>111</td>\n",
       "      <td>106</td>\n",
       "      <td>ЮАО</td>\n",
       "      <td>Район Орехово-Борисово Южное</td>\n",
       "    </tr>\n",
       "    <tr>\n",
       "      <th>44</th>\n",
       "      <td>каширское шоссе</td>\n",
       "      <td>111</td>\n",
       "      <td>105</td>\n",
       "      <td>ЮАО</td>\n",
       "      <td>Район Орехово-Борисово Северное</td>\n",
       "    </tr>\n",
       "    <tr>\n",
       "      <th>45</th>\n",
       "      <td>кировоградская улица</td>\n",
       "      <td>108</td>\n",
       "      <td>109</td>\n",
       "      <td>ЮАО</td>\n",
       "      <td>Район Чертаново Центральное</td>\n",
       "    </tr>\n",
       "    <tr>\n",
       "      <th>46</th>\n",
       "      <td>кировоградская улица</td>\n",
       "      <td>108</td>\n",
       "      <td>108</td>\n",
       "      <td>ЮАО</td>\n",
       "      <td>Район Чертаново Северное</td>\n",
       "    </tr>\n",
       "    <tr>\n",
       "      <th>47</th>\n",
       "      <td>кировоградская улица</td>\n",
       "      <td>108</td>\n",
       "      <td>110</td>\n",
       "      <td>ЮАО</td>\n",
       "      <td>Район Чертаново Южное</td>\n",
       "    </tr>\n",
       "  </tbody>\n",
       "</table>\n",
       "</div>"
      ],
      "text/plain": [
       "                    street  objects  areaid okrug  \\\n",
       "0            проспект мира      204      70  СВАО   \n",
       "1            проспект мира      204      86  СВАО   \n",
       "2            проспект мира      204      78  СВАО   \n",
       "3            проспект мира      204      79  СВАО   \n",
       "4            проспект мира      204      81  СВАО   \n",
       "5            проспект мира      204      82  СВАО   \n",
       "6            проспект мира      204      16   ЦАО   \n",
       "7        профсоюзная улица      182     123  ЮЗАО   \n",
       "8        профсоюзная улица      182     132  ЮЗАО   \n",
       "9        профсоюзная улица      182     134  ЮЗАО   \n",
       "10       профсоюзная улица      182     126  ЮЗАО   \n",
       "11       профсоюзная улица      182     129  ЮЗАО   \n",
       "12       профсоюзная улица      182     131  ЮЗАО   \n",
       "13  ленинградский проспект      172      54   САО   \n",
       "14  ленинградский проспект      172      55   САО   \n",
       "15  ленинградский проспект      172      69   САО   \n",
       "16  ленинградский проспект      172      66   САО   \n",
       "17  пресненская набережная      167      17   ЦАО   \n",
       "18        варшавское шоссе      165     109   ЮАО   \n",
       "19        варшавское шоссе      165     108   ЮАО   \n",
       "20        варшавское шоссе      165     110   ЮАО   \n",
       "21        варшавское шоссе      165      99   ЮАО   \n",
       "22        варшавское шоссе      165     102   ЮАО   \n",
       "23        варшавское шоссе      165     104   ЮАО   \n",
       "24        варшавское шоссе      165     130  ЮЗАО   \n",
       "25        варшавское шоссе      165     133  ЮЗАО   \n",
       "26      ленинский проспект      148      44   ЗАО   \n",
       "27      ленинский проспект      148      47   ЗАО   \n",
       "28      ленинский проспект      148      99   ЮАО   \n",
       "29      ленинский проспект      148     124  ЮЗАО   \n",
       "30      ленинский проспект      148     128  ЮЗАО   \n",
       "31      ленинский проспект      148     129  ЮЗАО   \n",
       "32      ленинский проспект      148     131  ЮЗАО   \n",
       "33      ленинский проспект      148      21   ЦАО   \n",
       "34    проспект вернадского      128      44   ЗАО   \n",
       "35    проспект вернадского      128      45   ЗАО   \n",
       "36    проспект вернадского      128      47   ЗАО   \n",
       "37    проспект вернадского      128     124  ЮЗАО   \n",
       "38    проспект вернадского      128     128  ЮЗАО   \n",
       "39    кутузовский проспект      114      38   ЗАО   \n",
       "40    кутузовский проспект      114      49   ЗАО   \n",
       "41         каширское шоссе      111     101   ЮАО   \n",
       "42         каширское шоссе      111     102   ЮАО   \n",
       "43         каширское шоссе      111     106   ЮАО   \n",
       "44         каширское шоссе      111     105   ЮАО   \n",
       "45    кировоградская улица      108     109   ЮАО   \n",
       "46    кировоградская улица      108     108   ЮАО   \n",
       "47    кировоградская улица      108     110   ЮАО   \n",
       "\n",
       "                               area  \n",
       "0                Алексеевский район  \n",
       "1                 Ярославский Район  \n",
       "2                Район Марьина роща  \n",
       "3                Останкинский район  \n",
       "4                   Район Ростокино  \n",
       "5                    Район Свиблово  \n",
       "6                   Мещанский район  \n",
       "7               Академический район  \n",
       "8                   Район Черемушки  \n",
       "9                     Район Ясенево  \n",
       "10                   Район Коньково  \n",
       "11                Обручевский район  \n",
       "12                Район Теплый Стан  \n",
       "13                   Район Аэропорт  \n",
       "14                    Район Беговой  \n",
       "15                Хорошевский район  \n",
       "16                      Район Сокол  \n",
       "17                Пресненский район  \n",
       "18      Район Чертаново Центральное  \n",
       "19         Район Чертаново Северное  \n",
       "20            Район Чертаново Южное  \n",
       "21                    Донской район  \n",
       "22         Район Нагатино-Садовники  \n",
       "23                   Нагорный район  \n",
       "24            Район Северное Бутово  \n",
       "25               Район Южное Бутово  \n",
       "26       Район Проспект Вернадского  \n",
       "27         Район Тропарево-Никулино  \n",
       "28                    Донской район  \n",
       "29                Район Гагаринский  \n",
       "30              Ломоносовский район  \n",
       "31                Обручевский район  \n",
       "32                Район Теплый Стан  \n",
       "33                   Район Якиманка  \n",
       "34       Район Проспект Вернадского  \n",
       "35                    Район Раменки  \n",
       "36         Район Тропарево-Никулино  \n",
       "37                Район Гагаринский  \n",
       "38              Ломоносовский район  \n",
       "39               Район Дорогомилово  \n",
       "40             Район Фили-Давыдково  \n",
       "41       Район Москворечье-Сабурово  \n",
       "42         Район Нагатино-Садовники  \n",
       "43     Район Орехово-Борисово Южное  \n",
       "44  Район Орехово-Борисово Северное  \n",
       "45      Район Чертаново Центральное  \n",
       "46         Район Чертаново Северное  \n",
       "47            Район Чертаново Южное  "
      ]
     },
     "execution_count": 22,
     "metadata": {},
     "output_type": "execute_result"
    }
   ],
   "source": [
    "# Далее объединяем новый датафрейм с исходным\n",
    "top10_streets_areas = top10_streets.merge(df)\n",
    "top10_streets_areas # Получаем датафрейм, в котором указано, к каким районам города принадлежит каждая улица из топ-10"
   ]
  },
  {
   "cell_type": "markdown",
   "metadata": {},
   "source": [
    "Для удобства сгруппируем таблицу по названиям улиц и соберем уникальные названия районов, к которым каждая улица принадлежит:  "
   ]
  },
  {
   "cell_type": "code",
   "execution_count": 23,
   "metadata": {},
   "outputs": [],
   "source": [
    "pd.options.display.max_colwidth = 250"
   ]
  },
  {
   "cell_type": "code",
   "execution_count": 24,
   "metadata": {},
   "outputs": [
    {
     "data": {
      "text/html": [
       "<div>\n",
       "<style scoped>\n",
       "    .dataframe tbody tr th:only-of-type {\n",
       "        vertical-align: middle;\n",
       "    }\n",
       "\n",
       "    .dataframe tbody tr th {\n",
       "        vertical-align: top;\n",
       "    }\n",
       "\n",
       "    .dataframe thead th {\n",
       "        text-align: right;\n",
       "    }\n",
       "</style>\n",
       "<table border=\"1\" class=\"dataframe\">\n",
       "  <thead>\n",
       "    <tr style=\"text-align: right;\">\n",
       "      <th></th>\n",
       "      <th>area</th>\n",
       "    </tr>\n",
       "    <tr>\n",
       "      <th>street</th>\n",
       "      <th></th>\n",
       "    </tr>\n",
       "  </thead>\n",
       "  <tbody>\n",
       "    <tr>\n",
       "      <th>варшавское шоссе</th>\n",
       "      <td>[Район Чертаново Центральное, Район Чертаново Северное, Район Чертаново Южное, Донской район, Район Нагатино-Садовники, Нагорный район, Район Северное Бутово, Район Южное Бутово]</td>\n",
       "    </tr>\n",
       "    <tr>\n",
       "      <th>каширское шоссе</th>\n",
       "      <td>[Район Москворечье-Сабурово, Район Нагатино-Садовники, Район Орехово-Борисово Южное, Район Орехово-Борисово Северное]</td>\n",
       "    </tr>\n",
       "    <tr>\n",
       "      <th>кировоградская улица</th>\n",
       "      <td>[Район Чертаново Центральное, Район Чертаново Северное, Район Чертаново Южное]</td>\n",
       "    </tr>\n",
       "    <tr>\n",
       "      <th>кутузовский проспект</th>\n",
       "      <td>[Район Дорогомилово, Район Фили-Давыдково]</td>\n",
       "    </tr>\n",
       "    <tr>\n",
       "      <th>ленинградский проспект</th>\n",
       "      <td>[Район Аэропорт, Район Беговой, Хорошевский район, Район Сокол]</td>\n",
       "    </tr>\n",
       "    <tr>\n",
       "      <th>ленинский проспект</th>\n",
       "      <td>[Район Проспект Вернадского, Район Тропарево-Никулино, Донской район, Район Гагаринский, Ломоносовский район, Обручевский район, Район Теплый Стан, Район Якиманка]</td>\n",
       "    </tr>\n",
       "    <tr>\n",
       "      <th>пресненская набережная</th>\n",
       "      <td>[Пресненский район]</td>\n",
       "    </tr>\n",
       "    <tr>\n",
       "      <th>проспект вернадского</th>\n",
       "      <td>[Район Проспект Вернадского, Район Раменки, Район Тропарево-Никулино, Район Гагаринский, Ломоносовский район]</td>\n",
       "    </tr>\n",
       "    <tr>\n",
       "      <th>проспект мира</th>\n",
       "      <td>[Алексеевский район, Ярославский Район, Район Марьина роща, Останкинский район, Район Ростокино, Район Свиблово, Мещанский район]</td>\n",
       "    </tr>\n",
       "    <tr>\n",
       "      <th>профсоюзная улица</th>\n",
       "      <td>[Академический район, Район Черемушки, Район Ясенево, Район Коньково, Обручевский район, Район Теплый Стан]</td>\n",
       "    </tr>\n",
       "  </tbody>\n",
       "</table>\n",
       "</div>"
      ],
      "text/plain": [
       "                                                                                                                                                                                                      area\n",
       "street                                                                                                                                                                                                    \n",
       "варшавское шоссе        [Район Чертаново Центральное, Район Чертаново Северное, Район Чертаново Южное, Донской район, Район Нагатино-Садовники, Нагорный район, Район Северное Бутово, Район Южное Бутово]\n",
       "каширское шоссе                                                                      [Район Москворечье-Сабурово, Район Нагатино-Садовники, Район Орехово-Борисово Южное, Район Орехово-Борисово Северное]\n",
       "кировоградская улица                                                                                                        [Район Чертаново Центральное, Район Чертаново Северное, Район Чертаново Южное]\n",
       "кутузовский проспект                                                                                                                                            [Район Дорогомилово, Район Фили-Давыдково]\n",
       "ленинградский проспект                                                                                                                     [Район Аэропорт, Район Беговой, Хорошевский район, Район Сокол]\n",
       "ленинский проспект                     [Район Проспект Вернадского, Район Тропарево-Никулино, Донской район, Район Гагаринский, Ломоносовский район, Обручевский район, Район Теплый Стан, Район Якиманка]\n",
       "пресненская набережная                                                                                                                                                                 [Пресненский район]\n",
       "проспект вернадского                                                                         [Район Проспект Вернадского, Район Раменки, Район Тропарево-Никулино, Район Гагаринский, Ломоносовский район]\n",
       "проспект мира                                                            [Алексеевский район, Ярославский Район, Район Марьина роща, Останкинский район, Район Ростокино, Район Свиблово, Мещанский район]\n",
       "профсоюзная улица                                                                              [Академический район, Район Черемушки, Район Ясенево, Район Коньково, Обручевский район, Район Теплый Стан]"
      ]
     },
     "execution_count": 24,
     "metadata": {},
     "output_type": "execute_result"
    }
   ],
   "source": [
    "top10_streets_areas.groupby('street').agg({'area': 'unique'})"
   ]
  },
  {
   "cell_type": "markdown",
   "metadata": {},
   "source": [
    "### Найдите число улиц с одним объектом общественного питания. Воспользуйтесь внешней информацией и ответьте на вопрос — в каких районах Москвы находятся эти улицы?"
   ]
  },
  {
   "cell_type": "code",
   "execution_count": 25,
   "metadata": {},
   "outputs": [
    {
     "name": "stdout",
     "output_type": "stream",
     "text": [
      "<class 'pandas.core.frame.DataFrame'>\n",
      "Int64Index: 536 entries, 47 to 1881\n",
      "Data columns (total 2 columns):\n",
      " #   Column   Non-Null Count  Dtype \n",
      "---  ------   --------------  ----- \n",
      " 0   street   536 non-null    object\n",
      " 1   objects  536 non-null    int64 \n",
      "dtypes: int64(1), object(1)\n",
      "memory usage: 12.6+ KB\n"
     ]
    },
    {
     "data": {
      "text/html": [
       "<div>\n",
       "<style scoped>\n",
       "    .dataframe tbody tr th:only-of-type {\n",
       "        vertical-align: middle;\n",
       "    }\n",
       "\n",
       "    .dataframe tbody tr th {\n",
       "        vertical-align: top;\n",
       "    }\n",
       "\n",
       "    .dataframe thead th {\n",
       "        text-align: right;\n",
       "    }\n",
       "</style>\n",
       "<table border=\"1\" class=\"dataframe\">\n",
       "  <thead>\n",
       "    <tr style=\"text-align: right;\">\n",
       "      <th></th>\n",
       "      <th>street</th>\n",
       "      <th>objects</th>\n",
       "    </tr>\n",
       "  </thead>\n",
       "  <tbody>\n",
       "    <tr>\n",
       "      <th>47</th>\n",
       "      <td>1-я аэропортовская улица</td>\n",
       "      <td>1</td>\n",
       "    </tr>\n",
       "    <tr>\n",
       "      <th>38</th>\n",
       "      <td>1-й саратовский проезд</td>\n",
       "      <td>1</td>\n",
       "    </tr>\n",
       "    <tr>\n",
       "      <th>265</th>\n",
       "      <td>банный проезд</td>\n",
       "      <td>1</td>\n",
       "    </tr>\n",
       "    <tr>\n",
       "      <th>45</th>\n",
       "      <td>1-й тушинский проезд</td>\n",
       "      <td>1</td>\n",
       "    </tr>\n",
       "    <tr>\n",
       "      <th>224</th>\n",
       "      <td>авиационный переулок</td>\n",
       "      <td>1</td>\n",
       "    </tr>\n",
       "  </tbody>\n",
       "</table>\n",
       "</div>"
      ],
      "text/plain": [
       "                       street  objects\n",
       "47   1-я аэропортовская улица        1\n",
       "38     1-й саратовский проезд        1\n",
       "265             банный проезд        1\n",
       "45       1-й тушинский проезд        1\n",
       "224      авиационный переулок        1"
      ]
     },
     "execution_count": 25,
     "metadata": {},
     "output_type": "execute_result"
    }
   ],
   "source": [
    "# Создадим таблицу с улицами, на которых находится только 1 объект общественного питания\n",
    "streets_1_object = top_streets[top_streets['objects']==1]\n",
    "streets_1_object.info()\n",
    "streets_1_object.head()"
   ]
  },
  {
   "cell_type": "markdown",
   "metadata": {},
   "source": [
    "Исходя из полученной таблицы, число улиц с одним объектом общественного питания: **536**."
   ]
  },
  {
   "cell_type": "code",
   "execution_count": 26,
   "metadata": {},
   "outputs": [
    {
     "data": {
      "text/html": [
       "<div>\n",
       "<style scoped>\n",
       "    .dataframe tbody tr th:only-of-type {\n",
       "        vertical-align: middle;\n",
       "    }\n",
       "\n",
       "    .dataframe tbody tr th {\n",
       "        vertical-align: top;\n",
       "    }\n",
       "\n",
       "    .dataframe thead th {\n",
       "        text-align: right;\n",
       "    }\n",
       "</style>\n",
       "<table border=\"1\" class=\"dataframe\">\n",
       "  <thead>\n",
       "    <tr style=\"text-align: right;\">\n",
       "      <th></th>\n",
       "      <th>street</th>\n",
       "      <th>objects</th>\n",
       "      <th>areaid</th>\n",
       "      <th>okrug</th>\n",
       "      <th>area</th>\n",
       "    </tr>\n",
       "  </thead>\n",
       "  <tbody>\n",
       "    <tr>\n",
       "      <th>0</th>\n",
       "      <td>1-я аэропортовская улица</td>\n",
       "      <td>1</td>\n",
       "      <td>54</td>\n",
       "      <td>САО</td>\n",
       "      <td>Район Аэропорт</td>\n",
       "    </tr>\n",
       "    <tr>\n",
       "      <th>1</th>\n",
       "      <td>1-й саратовский проезд</td>\n",
       "      <td>1</td>\n",
       "      <td>121</td>\n",
       "      <td>ЮВАО</td>\n",
       "      <td>Район Текстильщики</td>\n",
       "    </tr>\n",
       "    <tr>\n",
       "      <th>2</th>\n",
       "      <td>банный проезд</td>\n",
       "      <td>1</td>\n",
       "      <td>16</td>\n",
       "      <td>ЦАО</td>\n",
       "      <td>Мещанский район</td>\n",
       "    </tr>\n",
       "    <tr>\n",
       "      <th>3</th>\n",
       "      <td>1-й тушинский проезд</td>\n",
       "      <td>1</td>\n",
       "      <td>89</td>\n",
       "      <td>СЗАО</td>\n",
       "      <td>Район Покровское-Стрешнево</td>\n",
       "    </tr>\n",
       "    <tr>\n",
       "      <th>4</th>\n",
       "      <td>авиационный переулок</td>\n",
       "      <td>1</td>\n",
       "      <td>54</td>\n",
       "      <td>САО</td>\n",
       "      <td>Район Аэропорт</td>\n",
       "    </tr>\n",
       "    <tr>\n",
       "      <th>...</th>\n",
       "      <td>...</td>\n",
       "      <td>...</td>\n",
       "      <td>...</td>\n",
       "      <td>...</td>\n",
       "      <td>...</td>\n",
       "    </tr>\n",
       "    <tr>\n",
       "      <th>545</th>\n",
       "      <td>елоховский проезд</td>\n",
       "      <td>1</td>\n",
       "      <td>13</td>\n",
       "      <td>ЦАО</td>\n",
       "      <td>Басманный район</td>\n",
       "    </tr>\n",
       "    <tr>\n",
       "      <th>546</th>\n",
       "      <td>егорьевский проезд</td>\n",
       "      <td>1</td>\n",
       "      <td>115</td>\n",
       "      <td>ЮВАО</td>\n",
       "      <td>Район Люблино</td>\n",
       "    </tr>\n",
       "    <tr>\n",
       "      <th>547</th>\n",
       "      <td>улица алексея дикого</td>\n",
       "      <td>1</td>\n",
       "      <td>31</td>\n",
       "      <td>ВАО</td>\n",
       "      <td>Район Новогиреево</td>\n",
       "    </tr>\n",
       "    <tr>\n",
       "      <th>548</th>\n",
       "      <td>улица анатолия живова</td>\n",
       "      <td>1</td>\n",
       "      <td>17</td>\n",
       "      <td>ЦАО</td>\n",
       "      <td>Пресненский район</td>\n",
       "    </tr>\n",
       "    <tr>\n",
       "      <th>549</th>\n",
       "      <td>яхромская улица</td>\n",
       "      <td>1</td>\n",
       "      <td>60</td>\n",
       "      <td>САО</td>\n",
       "      <td>Дмитровский район</td>\n",
       "    </tr>\n",
       "  </tbody>\n",
       "</table>\n",
       "<p>550 rows × 5 columns</p>\n",
       "</div>"
      ],
      "text/plain": [
       "                       street  objects  areaid okrug  \\\n",
       "0    1-я аэропортовская улица        1      54   САО   \n",
       "1      1-й саратовский проезд        1     121  ЮВАО   \n",
       "2               банный проезд        1      16   ЦАО   \n",
       "3        1-й тушинский проезд        1      89  СЗАО   \n",
       "4        авиационный переулок        1      54   САО   \n",
       "..                        ...      ...     ...   ...   \n",
       "545         елоховский проезд        1      13   ЦАО   \n",
       "546        егорьевский проезд        1     115  ЮВАО   \n",
       "547      улица алексея дикого        1      31   ВАО   \n",
       "548     улица анатолия живова        1      17   ЦАО   \n",
       "549           яхромская улица        1      60   САО   \n",
       "\n",
       "                           area  \n",
       "0                Район Аэропорт  \n",
       "1            Район Текстильщики  \n",
       "2               Мещанский район  \n",
       "3    Район Покровское-Стрешнево  \n",
       "4                Район Аэропорт  \n",
       "..                          ...  \n",
       "545             Басманный район  \n",
       "546               Район Люблино  \n",
       "547           Район Новогиреево  \n",
       "548           Пресненский район  \n",
       "549           Дмитровский район  \n",
       "\n",
       "[550 rows x 5 columns]"
      ]
     },
     "execution_count": 26,
     "metadata": {},
     "output_type": "execute_result"
    }
   ],
   "source": [
    "# Объединим полученную выше таблицу с внешними данными Мосгаза\n",
    "streets_1_object_areas = streets_1_object.merge(df)\n",
    "streets_1_object_areas # Получаем датафрейм, в котором указано, к каким районам города принадлежит каждая из улиц"
   ]
  },
  {
   "cell_type": "markdown",
   "metadata": {},
   "source": [
    "Выведем таблицу топ-10 районов по количеству улиц с одним заведением:"
   ]
  },
  {
   "cell_type": "code",
   "execution_count": 27,
   "metadata": {},
   "outputs": [
    {
     "data": {
      "text/html": [
       "<div>\n",
       "<style scoped>\n",
       "    .dataframe tbody tr th:only-of-type {\n",
       "        vertical-align: middle;\n",
       "    }\n",
       "\n",
       "    .dataframe tbody tr th {\n",
       "        vertical-align: top;\n",
       "    }\n",
       "\n",
       "    .dataframe thead th {\n",
       "        text-align: right;\n",
       "    }\n",
       "</style>\n",
       "<table border=\"1\" class=\"dataframe\">\n",
       "  <thead>\n",
       "    <tr style=\"text-align: right;\">\n",
       "      <th></th>\n",
       "      <th>street</th>\n",
       "    </tr>\n",
       "    <tr>\n",
       "      <th>area</th>\n",
       "      <th></th>\n",
       "    </tr>\n",
       "  </thead>\n",
       "  <tbody>\n",
       "    <tr>\n",
       "      <th>Район Хамовники</th>\n",
       "      <td>26</td>\n",
       "    </tr>\n",
       "    <tr>\n",
       "      <th>Таганский район</th>\n",
       "      <td>25</td>\n",
       "    </tr>\n",
       "    <tr>\n",
       "      <th>Басманный район</th>\n",
       "      <td>24</td>\n",
       "    </tr>\n",
       "    <tr>\n",
       "      <th>Тверской район</th>\n",
       "      <td>20</td>\n",
       "    </tr>\n",
       "    <tr>\n",
       "      <th>Пресненский район</th>\n",
       "      <td>19</td>\n",
       "    </tr>\n",
       "    <tr>\n",
       "      <th>Район Арбат</th>\n",
       "      <td>18</td>\n",
       "    </tr>\n",
       "    <tr>\n",
       "      <th>Район Марьина роща</th>\n",
       "      <td>18</td>\n",
       "    </tr>\n",
       "    <tr>\n",
       "      <th>Мещанский район</th>\n",
       "      <td>16</td>\n",
       "    </tr>\n",
       "    <tr>\n",
       "      <th>Район Замоскворечье</th>\n",
       "      <td>14</td>\n",
       "    </tr>\n",
       "    <tr>\n",
       "      <th>Район Лефортово</th>\n",
       "      <td>12</td>\n",
       "    </tr>\n",
       "  </tbody>\n",
       "</table>\n",
       "</div>"
      ],
      "text/plain": [
       "                     street\n",
       "area                       \n",
       "Район Хамовники          26\n",
       "Таганский район          25\n",
       "Басманный район          24\n",
       "Тверской район           20\n",
       "Пресненский район        19\n",
       "Район Арбат              18\n",
       "Район Марьина роща       18\n",
       "Мещанский район          16\n",
       "Район Замоскворечье      14\n",
       "Район Лефортово          12"
      ]
     },
     "execution_count": 27,
     "metadata": {},
     "output_type": "execute_result"
    }
   ],
   "source": [
    "streets_1_object_areas = streets_1_object_areas.groupby('area').agg({'street': 'count'}).sort_values(by='street', ascending = False)\n",
    "streets_1_object_areas.head(10)"
   ]
  },
  {
   "cell_type": "markdown",
   "metadata": {},
   "source": [
    "В основном эти районы находятся в центре Москвы."
   ]
  },
  {
   "cell_type": "markdown",
   "metadata": {},
   "source": [
    "### Посмотрите на распределение количества посадочных мест для улиц с большим количеством объектов общественного питания. Какие закономерности можно выявить?"
   ]
  },
  {
   "cell_type": "code",
   "execution_count": 28,
   "metadata": {},
   "outputs": [
    {
     "data": {
      "text/html": [
       "<div>\n",
       "<style scoped>\n",
       "    .dataframe tbody tr th:only-of-type {\n",
       "        vertical-align: middle;\n",
       "    }\n",
       "\n",
       "    .dataframe tbody tr th {\n",
       "        vertical-align: top;\n",
       "    }\n",
       "\n",
       "    .dataframe thead th {\n",
       "        text-align: right;\n",
       "    }\n",
       "</style>\n",
       "<table border=\"1\" class=\"dataframe\">\n",
       "  <thead>\n",
       "    <tr style=\"text-align: right;\">\n",
       "      <th></th>\n",
       "      <th>object_name</th>\n",
       "      <th>chain</th>\n",
       "      <th>object_type</th>\n",
       "      <th>address</th>\n",
       "      <th>number</th>\n",
       "      <th>street</th>\n",
       "    </tr>\n",
       "  </thead>\n",
       "  <tbody>\n",
       "    <tr>\n",
       "      <th>151</th>\n",
       "      <td>Кафе «Андерсон»</td>\n",
       "      <td>да</td>\n",
       "      <td>кафе</td>\n",
       "      <td>город москва, варшавское шоссе, дом 2</td>\n",
       "      <td>150</td>\n",
       "      <td>варшавское шоссе</td>\n",
       "    </tr>\n",
       "    <tr>\n",
       "      <th>152</th>\n",
       "      <td>Кафе «Subway»</td>\n",
       "      <td>да</td>\n",
       "      <td>кафе</td>\n",
       "      <td>город москва, варшавское шоссе, дом 7, корпус 1</td>\n",
       "      <td>36</td>\n",
       "      <td>варшавское шоссе</td>\n",
       "    </tr>\n",
       "    <tr>\n",
       "      <th>153</th>\n",
       "      <td>Кафе «Ламаджо»</td>\n",
       "      <td>нет</td>\n",
       "      <td>кафе</td>\n",
       "      <td>город москва, варшавское шоссе, дом 29</td>\n",
       "      <td>30</td>\n",
       "      <td>варшавское шоссе</td>\n",
       "    </tr>\n",
       "    <tr>\n",
       "      <th>154</th>\n",
       "      <td>Шаурма в пите</td>\n",
       "      <td>нет</td>\n",
       "      <td>предприятие быстрого обслуживания</td>\n",
       "      <td>город москва, варшавское шоссе, дом 72, корпус 2</td>\n",
       "      <td>0</td>\n",
       "      <td>варшавское шоссе</td>\n",
       "    </tr>\n",
       "    <tr>\n",
       "      <th>155</th>\n",
       "      <td>Выпечка</td>\n",
       "      <td>нет</td>\n",
       "      <td>кафетерий</td>\n",
       "      <td>город москва, варшавское шоссе, дом 100</td>\n",
       "      <td>2</td>\n",
       "      <td>варшавское шоссе</td>\n",
       "    </tr>\n",
       "    <tr>\n",
       "      <th>...</th>\n",
       "      <td>...</td>\n",
       "      <td>...</td>\n",
       "      <td>...</td>\n",
       "      <td>...</td>\n",
       "      <td>...</td>\n",
       "      <td>...</td>\n",
       "    </tr>\n",
       "    <tr>\n",
       "      <th>15308</th>\n",
       "      <td>ДОДО пицца</td>\n",
       "      <td>да</td>\n",
       "      <td>кафе</td>\n",
       "      <td>город москва, пресненская набережная, дом 12</td>\n",
       "      <td>25</td>\n",
       "      <td>пресненская набережная</td>\n",
       "    </tr>\n",
       "    <tr>\n",
       "      <th>15325</th>\n",
       "      <td>Милти</td>\n",
       "      <td>да</td>\n",
       "      <td>предприятие быстрого обслуживания</td>\n",
       "      <td>город москва, ленинградский проспект, дом 80, корпус 17</td>\n",
       "      <td>0</td>\n",
       "      <td>ленинградский проспект</td>\n",
       "    </tr>\n",
       "    <tr>\n",
       "      <th>15347</th>\n",
       "      <td>Кальянная «Мята Lounge»</td>\n",
       "      <td>да</td>\n",
       "      <td>кафе</td>\n",
       "      <td>город москва, профсоюзная улица, дом 142, корпус 1, строение 1</td>\n",
       "      <td>40</td>\n",
       "      <td>профсоюзная улица</td>\n",
       "    </tr>\n",
       "    <tr>\n",
       "      <th>15350</th>\n",
       "      <td>Мята</td>\n",
       "      <td>да</td>\n",
       "      <td>кафетерий</td>\n",
       "      <td>город москва, каширское шоссе, дом 96, корпус 1</td>\n",
       "      <td>35</td>\n",
       "      <td>каширское шоссе</td>\n",
       "    </tr>\n",
       "    <tr>\n",
       "      <th>15358</th>\n",
       "      <td>Шоколадница</td>\n",
       "      <td>да</td>\n",
       "      <td>кафе</td>\n",
       "      <td>город москва, варшавское шоссе, дом 87б</td>\n",
       "      <td>54</td>\n",
       "      <td>варшавское шоссе</td>\n",
       "    </tr>\n",
       "  </tbody>\n",
       "</table>\n",
       "<p>1499 rows × 6 columns</p>\n",
       "</div>"
      ],
      "text/plain": [
       "                   object_name chain                        object_type  \\\n",
       "151            Кафе «Андерсон»    да                               кафе   \n",
       "152              Кафе «Subway»    да                               кафе   \n",
       "153             Кафе «Ламаджо»   нет                               кафе   \n",
       "154              Шаурма в пите   нет  предприятие быстрого обслуживания   \n",
       "155                    Выпечка   нет                          кафетерий   \n",
       "...                        ...   ...                                ...   \n",
       "15308               ДОДО пицца    да                               кафе   \n",
       "15325                    Милти    да  предприятие быстрого обслуживания   \n",
       "15347  Кальянная «Мята Lounge»    да                               кафе   \n",
       "15350                     Мята    да                          кафетерий   \n",
       "15358              Шоколадница    да                               кафе   \n",
       "\n",
       "                                                              address  number  \\\n",
       "151                             город москва, варшавское шоссе, дом 2     150   \n",
       "152                   город москва, варшавское шоссе, дом 7, корпус 1      36   \n",
       "153                            город москва, варшавское шоссе, дом 29      30   \n",
       "154                  город москва, варшавское шоссе, дом 72, корпус 2       0   \n",
       "155                           город москва, варшавское шоссе, дом 100       2   \n",
       "...                                                               ...     ...   \n",
       "15308                    город москва, пресненская набережная, дом 12      25   \n",
       "15325         город москва, ленинградский проспект, дом 80, корпус 17       0   \n",
       "15347  город москва, профсоюзная улица, дом 142, корпус 1, строение 1      40   \n",
       "15350                 город москва, каширское шоссе, дом 96, корпус 1      35   \n",
       "15358                         город москва, варшавское шоссе, дом 87б      54   \n",
       "\n",
       "                       street  \n",
       "151          варшавское шоссе  \n",
       "152          варшавское шоссе  \n",
       "153          варшавское шоссе  \n",
       "154          варшавское шоссе  \n",
       "155          варшавское шоссе  \n",
       "...                       ...  \n",
       "15308  пресненская набережная  \n",
       "15325  ленинградский проспект  \n",
       "15347       профсоюзная улица  \n",
       "15350         каширское шоссе  \n",
       "15358        варшавское шоссе  \n",
       "\n",
       "[1499 rows x 6 columns]"
      ]
     },
     "execution_count": 28,
     "metadata": {},
     "output_type": "execute_result"
    }
   ],
   "source": [
    "# Создадим таблицу-срез исходной таблицы, но только с заведениями на улицах из топ-10\n",
    "top10_streets_list = top10_streets['street'].to_list()\n",
    "top10_streets_data = data_copy.query('street in @top10_streets_list')\n",
    "top10_streets_data"
   ]
  },
  {
   "cell_type": "code",
   "execution_count": 29,
   "metadata": {},
   "outputs": [
    {
     "data": {
      "image/png": "[encoded data removed]",
      "text/plain": [
       "<Figure size 1200x600 with 1 Axes>"
      ]
     },
     "metadata": {},
     "output_type": "display_data"
    },
    {
     "name": "stdout",
     "output_type": "stream",
     "text": [
      "Среднее количество посадочных мест в заведениях на улицах из топ-10:  40.0\n",
      "Среднее количество посадочных мест в заведениях на улицах Москвы:  40.0\n"
     ]
    }
   ],
   "source": [
    "# Создадим boxplot, чтобы показать распределение количества посадочных мест\n",
    "plt.figure(figsize=(12,6))\n",
    "plt.xlim(0,400)\n",
    "sns.boxplot(data=top10_streets_data, x='number', y='street')\n",
    "plt.title('Распределение количества посадочных мест для топ-10 улиц по количеству объектов')\n",
    "plt.ylabel('Улица')\n",
    "plt.xlabel('Посадочные места')\n",
    "plt.show()\n",
    "\n",
    "print('Среднее количество посадочных мест в заведениях на улицах из топ-10: ', top10_streets_data['number'].median())\n",
    "print('Среднее количество посадочных мест в заведениях на улицах Москвы: ', data['number'].median())"
   ]
  },
  {
   "cell_type": "markdown",
   "metadata": {},
   "source": [
    "Явных закономерностей не видно, но можно сказать о том, что разницы между количеством посадочных мест на топ-10 улицах и их количеством на всех остальных улицах города *нет*. В среднем **40** посадочных мест на топ-10 улицах и на остальных улицах Москвы. "
   ]
  },
  {
   "cell_type": "markdown",
   "metadata": {},
   "source": [
    "## Выводы"
   ]
  },
  {
   "cell_type": "markdown",
   "metadata": {},
   "source": [
    "**В ходе проекта выявлено:** \n",
    "1. По общему количеству в городе Москва больше всего кафе (`40% заведений`). Также довольно много столовых (`17%`), ресторанов (`15%`) и предприятий быстрого обслуживания (`12,5%`).\n",
    "\n",
    "2. Сетевыми в Москве являются только `19%` заведений, остальные - несетевые.\n",
    "\n",
    "3. Сетевое распространение наиболее характерно для предприятий быстрого обслуживания (`41% заведений`). Также оно характерно для магазинов (`29%`), ресторанов (`24%`) и кафе (`23%`).\n",
    "\n",
    "4. Для сетевых заведений характерно малое количество заведений с большим количеством посадочных мест. В сети обычно `7` заведений и не более `150` посадочных мест.\n",
    "\n",
    "\n",
    "5. Топ-5 типов заведений по среднему количеству посадочных мест:\n",
    "  - столовые (103 места);\n",
    "  - рестораны (80 мест);  \n",
    "  - бары (35 мест);  \n",
    "  - буфеты (32 места);  \n",
    "  - кафе (30 мест).\n",
    "  \n",
    "  \n",
    "6. Топ-10 улиц с наибольшим количеством заведений:\n",
    "  - проспект Мира (204 заведения);\n",
    "  - Профсоюзная улица (182 заведения);\n",
    "  - Ленинградский проспект (172 заведения);\n",
    "  - Пресненская набережная (167 заведений);\n",
    "  - Варшавское шоссе (165 заведений);\n",
    "  - Ленинский проспект (148 заведений);\n",
    "  - проспект Вернадского (128 заведений);\n",
    "  - Кутузовский проспект (114 заведений);\n",
    "  - Каширское шоссе\t(111 заведений);\n",
    "  - Кировоградская улица (108 заведений).\n",
    "  \n",
    "  \n",
    "7. Определено, к каким районам города относится каждая улица из списка топ-10 по количеству заведений, составлена таблица. Помимо этого, было найдено число улиц только с одним заведением общественного питания - оно составило `537`. Далее было определено, к каким районам города относятся эти улицы, составлена таблица.\n",
    "\n",
    "8. Среднее количество посадочных мест в заведениях на топ-10 улицах составило `40`, столько же, сколько в остальных заведениях города. Разницы нет.\n",
    "\n",
    "---\n",
    "\n",
    "**Рекомендации** по открытию кафе с официантами-роботами следующие: исходя из исследования, кафе являются довольно популярным типом заведений общественного питания в Москве. В городе более 6000 кафе, а значит, что если они открывались и продолжают функционировать, то люди отдают предпочтение такому типу заведений. Кафе с роботами - интересная идея и вложиться инвесторам в это дело можно. Главное, чтобы качество услуг было хорошим, иначе на одном интересе долго кафе не проживет. 30 посадочных мест - оптимальный вариант.\n",
    "\n",
    "Касаемо расположения - лучше выбрать наиболее проходимые места в городе. Скорее всего, наиболее проходимые улицы - это те, которые входят в топ-10 по количеству заведений, но это не обязательно может оказаться так. Исследование не очень подробное, поэтому следует рассмотреть еще множество факторов, которые повлияют на доход от бизнеса. Например, определить, какая будет целевая аудитория посетителей такого кафе. Если это студенты, то рассмотреть места рядом с университетами / станциями метро. Также желательно подбирать место для заведения, в районе которого будет не очень много конкурентов."
   ]
  },
  {
   "cell_type": "code",
   "execution_count": 30,
   "metadata": {
    "scrolled": true
   },
   "outputs": [
    {
     "name": "stdout",
     "output_type": "stream",
     "text": [
      "Презентация по проекту представлена по ссылке ниже:\n"
     ]
    },
    {
     "data": {
      "text/html": [
       "<a href=\"https://disk.yandex.ru/i/KcJHZ4sID2NKqQ\">Ссылка на презентацию</a>"
      ],
      "text/plain": [
       "<IPython.core.display.HTML object>"
      ]
     },
     "metadata": {},
     "output_type": "display_data"
    }
   ],
   "source": [
    "print('Презентация по проекту представлена по ссылке ниже:')\n",
    "from IPython.core.display import display, HTML\n",
    "display(HTML(\"\"\"<a href=\"https://disk.yandex.ru/i/KcJHZ4sID2NKqQ\">Ссылка на презентацию</a>\"\"\"))"
   ]
  }
 ],
 "metadata": {
  "ExecuteTimeLog": [
   {
    "duration": 828,
    "start_time": "2022-01-16T14:23:07.514Z"
   },
   {
    "duration": 129,
    "start_time": "2022-01-16T14:23:14.582Z"
   },
   {
    "duration": 67,
    "start_time": "2022-01-16T14:23:37.121Z"
   },
   {
    "duration": 15,
    "start_time": "2022-01-16T14:24:10.000Z"
   },
   {
    "duration": 69,
    "start_time": "2022-01-16T14:24:43.446Z"
   },
   {
    "duration": 13,
    "start_time": "2022-01-16T14:24:44.396Z"
   },
   {
    "duration": 69,
    "start_time": "2022-01-16T14:24:58.381Z"
   },
   {
    "duration": 13,
    "start_time": "2022-01-16T14:24:58.919Z"
   },
   {
    "duration": 74,
    "start_time": "2022-01-16T14:24:59.575Z"
   },
   {
    "duration": 69,
    "start_time": "2022-01-16T14:25:09.467Z"
   },
   {
    "duration": 14,
    "start_time": "2022-01-16T14:25:09.566Z"
   },
   {
    "duration": 1547,
    "start_time": "2022-01-16T14:37:57.031Z"
   },
   {
    "duration": 16,
    "start_time": "2022-01-16T14:38:13.134Z"
   },
   {
    "duration": 66,
    "start_time": "2022-01-16T14:40:43.465Z"
   },
   {
    "duration": 28,
    "start_time": "2022-01-16T14:42:39.562Z"
   },
   {
    "duration": 25,
    "start_time": "2022-01-16T14:42:44.819Z"
   },
   {
    "duration": 23,
    "start_time": "2022-01-16T14:42:49.453Z"
   },
   {
    "duration": 118,
    "start_time": "2022-01-16T14:43:12.742Z"
   },
   {
    "duration": 22,
    "start_time": "2022-01-16T14:43:21.142Z"
   },
   {
    "duration": 11,
    "start_time": "2022-01-16T14:46:57.008Z"
   },
   {
    "duration": 774,
    "start_time": "2022-01-16T14:50:08.303Z"
   },
   {
    "duration": 19,
    "start_time": "2022-01-16T14:50:14.996Z"
   },
   {
    "duration": 25,
    "start_time": "2022-01-16T14:50:15.210Z"
   },
   {
    "duration": 10,
    "start_time": "2022-01-16T14:50:16.477Z"
   },
   {
    "duration": 629,
    "start_time": "2022-01-16T14:51:37.910Z"
   },
   {
    "duration": -1347,
    "start_time": "2022-01-16T14:54:46.559Z"
   },
   {
    "duration": 804,
    "start_time": "2022-01-16T14:54:47.134Z"
   },
   {
    "duration": 4,
    "start_time": "2022-01-16T14:59:14.990Z"
   },
   {
    "duration": 6,
    "start_time": "2022-01-16T14:59:21.786Z"
   },
   {
    "duration": 16,
    "start_time": "2022-01-16T14:59:54.981Z"
   },
   {
    "duration": 9473,
    "start_time": "2022-01-16T15:00:08.200Z"
   },
   {
    "duration": 15,
    "start_time": "2022-01-16T15:00:24.504Z"
   },
   {
    "duration": 393,
    "start_time": "2022-01-16T15:01:00.618Z"
   },
   {
    "duration": 17,
    "start_time": "2022-01-16T15:01:16.549Z"
   },
   {
    "duration": 276,
    "start_time": "2022-01-16T15:01:17.737Z"
   },
   {
    "duration": 296,
    "start_time": "2022-01-16T15:02:49.381Z"
   },
   {
    "duration": 1218,
    "start_time": "2022-01-16T15:02:55.637Z"
   },
   {
    "duration": 393,
    "start_time": "2022-01-16T15:03:41.235Z"
   },
   {
    "duration": 733,
    "start_time": "2022-01-16T15:04:12.467Z"
   },
   {
    "duration": 389,
    "start_time": "2022-01-16T15:04:43.791Z"
   },
   {
    "duration": 384,
    "start_time": "2022-01-16T15:07:13.677Z"
   },
   {
    "duration": 363,
    "start_time": "2022-01-16T15:07:24.744Z"
   },
   {
    "duration": 428,
    "start_time": "2022-01-16T15:07:31.965Z"
   },
   {
    "duration": 427,
    "start_time": "2022-01-16T15:09:33.625Z"
   },
   {
    "duration": 413,
    "start_time": "2022-01-16T15:09:45.920Z"
   },
   {
    "duration": 399,
    "start_time": "2022-01-16T15:09:53.650Z"
   },
   {
    "duration": 457,
    "start_time": "2022-01-16T15:09:59.477Z"
   },
   {
    "duration": 780,
    "start_time": "2022-01-16T15:12:04.444Z"
   },
   {
    "duration": 820,
    "start_time": "2022-01-16T15:15:47.731Z"
   },
   {
    "duration": 568,
    "start_time": "2022-01-16T15:16:00.098Z"
   },
   {
    "duration": 793,
    "start_time": "2022-01-16T15:16:37.469Z"
   },
   {
    "duration": 444,
    "start_time": "2022-01-16T15:16:51.905Z"
   },
   {
    "duration": 550,
    "start_time": "2022-01-16T15:17:53.461Z"
   },
   {
    "duration": 451,
    "start_time": "2022-01-16T15:17:58.252Z"
   },
   {
    "duration": 718,
    "start_time": "2022-01-16T15:18:06.327Z"
   },
   {
    "duration": 442,
    "start_time": "2022-01-16T15:18:12.120Z"
   },
   {
    "duration": 437,
    "start_time": "2022-01-16T15:19:58.403Z"
   },
   {
    "duration": 595,
    "start_time": "2022-01-16T15:20:08.108Z"
   },
   {
    "duration": 593,
    "start_time": "2022-01-16T15:20:21.036Z"
   },
   {
    "duration": 1074,
    "start_time": "2022-01-16T15:20:57.666Z"
   },
   {
    "duration": 1002,
    "start_time": "2022-01-16T15:21:03.581Z"
   },
   {
    "duration": 584,
    "start_time": "2022-01-16T15:22:28.553Z"
   },
   {
    "duration": 718,
    "start_time": "2022-01-16T15:22:34.598Z"
   },
   {
    "duration": 984,
    "start_time": "2022-01-16T15:30:23.511Z"
   },
   {
    "duration": 17,
    "start_time": "2022-01-16T15:31:01.305Z"
   },
   {
    "duration": 808,
    "start_time": "2022-01-16T15:36:34.462Z"
   },
   {
    "duration": 185,
    "start_time": "2022-01-16T15:37:17.800Z"
   },
   {
    "duration": 430,
    "start_time": "2022-01-16T15:38:31.230Z"
   },
   {
    "duration": 200,
    "start_time": "2022-01-16T15:38:34.486Z"
   },
   {
    "duration": 376,
    "start_time": "2022-01-16T15:39:56.218Z"
   },
   {
    "duration": 188,
    "start_time": "2022-01-16T15:40:22.466Z"
   },
   {
    "duration": 180,
    "start_time": "2022-01-16T15:41:37.538Z"
   },
   {
    "duration": 2220,
    "start_time": "2022-01-16T17:48:53.511Z"
   },
   {
    "duration": 18,
    "start_time": "2022-01-16T17:48:55.733Z"
   },
   {
    "duration": 86,
    "start_time": "2022-01-16T17:48:55.755Z"
   },
   {
    "duration": 17,
    "start_time": "2022-01-16T17:48:55.843Z"
   },
   {
    "duration": 725,
    "start_time": "2022-01-16T17:48:55.862Z"
   },
   {
    "duration": 28,
    "start_time": "2022-01-16T17:48:56.590Z"
   },
   {
    "duration": 773,
    "start_time": "2022-01-16T17:48:56.620Z"
   },
   {
    "duration": 734,
    "start_time": "2022-01-16T17:49:32.787Z"
   },
   {
    "duration": 468,
    "start_time": "2022-01-16T17:49:43.580Z"
   },
   {
    "duration": 16,
    "start_time": "2022-01-16T17:49:46.493Z"
   },
   {
    "duration": 184,
    "start_time": "2022-01-16T17:49:46.730Z"
   },
   {
    "duration": 22,
    "start_time": "2022-01-16T17:50:17.768Z"
   },
   {
    "duration": 1467,
    "start_time": "2022-01-17T12:14:16.018Z"
   },
   {
    "duration": 11,
    "start_time": "2022-01-17T12:14:17.487Z"
   },
   {
    "duration": 26,
    "start_time": "2022-01-17T12:14:17.500Z"
   },
   {
    "duration": 12,
    "start_time": "2022-01-17T12:14:17.528Z"
   },
   {
    "duration": 276,
    "start_time": "2022-01-17T12:14:17.541Z"
   },
   {
    "duration": 10,
    "start_time": "2022-01-17T12:14:17.819Z"
   },
   {
    "duration": 561,
    "start_time": "2022-01-17T12:14:18.034Z"
   },
   {
    "duration": 422,
    "start_time": "2022-01-17T12:38:02.481Z"
   },
   {
    "duration": 12,
    "start_time": "2022-01-17T12:40:55.011Z"
   },
   {
    "duration": 358,
    "start_time": "2022-01-17T12:42:04.091Z"
   },
   {
    "duration": 274,
    "start_time": "2022-01-17T12:46:18.126Z"
   },
   {
    "duration": 279,
    "start_time": "2022-01-17T12:47:18.433Z"
   },
   {
    "duration": 6690,
    "start_time": "2022-01-17T12:47:29.992Z"
   },
   {
    "duration": 9,
    "start_time": "2022-01-17T12:47:57.779Z"
   },
   {
    "duration": 13,
    "start_time": "2022-01-17T12:48:06.976Z"
   },
   {
    "duration": 12,
    "start_time": "2022-01-17T12:49:01.321Z"
   },
   {
    "duration": 11,
    "start_time": "2022-01-17T12:49:37.006Z"
   },
   {
    "duration": 53,
    "start_time": "2022-01-17T12:49:44.808Z"
   },
   {
    "duration": 10,
    "start_time": "2022-01-17T12:49:44.939Z"
   },
   {
    "duration": 17,
    "start_time": "2022-01-17T12:49:45.074Z"
   },
   {
    "duration": 13,
    "start_time": "2022-01-17T12:49:45.597Z"
   },
   {
    "duration": 294,
    "start_time": "2022-01-17T12:49:45.715Z"
   },
   {
    "duration": 10,
    "start_time": "2022-01-17T12:49:46.104Z"
   },
   {
    "duration": 111,
    "start_time": "2022-01-17T12:49:46.243Z"
   },
   {
    "duration": 12,
    "start_time": "2022-01-17T12:49:47.357Z"
   },
   {
    "duration": 271,
    "start_time": "2022-01-17T12:49:47.592Z"
   },
   {
    "duration": 11,
    "start_time": "2022-01-17T12:49:57.959Z"
   },
   {
    "duration": 10,
    "start_time": "2022-01-17T12:50:03.536Z"
   },
   {
    "duration": 11,
    "start_time": "2022-01-17T12:50:09.775Z"
   },
   {
    "duration": 12,
    "start_time": "2022-01-17T12:50:14.391Z"
   },
   {
    "duration": 284,
    "start_time": "2022-01-17T12:50:14.688Z"
   },
   {
    "duration": 255,
    "start_time": "2022-01-17T12:50:23.641Z"
   },
   {
    "duration": 12,
    "start_time": "2022-01-17T12:50:47.352Z"
   },
   {
    "duration": 265,
    "start_time": "2022-01-17T12:50:53.128Z"
   },
   {
    "duration": 12,
    "start_time": "2022-01-17T12:51:54.552Z"
   },
   {
    "duration": 272,
    "start_time": "2022-01-17T12:53:29.750Z"
   },
   {
    "duration": 284,
    "start_time": "2022-01-17T12:54:49.814Z"
   },
   {
    "duration": 1037,
    "start_time": "2022-01-17T12:54:55.229Z"
   },
   {
    "duration": 269,
    "start_time": "2022-01-17T12:55:28.365Z"
   },
   {
    "duration": 276,
    "start_time": "2022-01-17T12:55:45.197Z"
   },
   {
    "duration": 7051,
    "start_time": "2022-01-17T12:55:54.694Z"
   },
   {
    "duration": 13,
    "start_time": "2022-01-17T12:56:31.752Z"
   },
   {
    "duration": 7,
    "start_time": "2022-01-17T12:56:42.556Z"
   },
   {
    "duration": 1087,
    "start_time": "2022-01-17T12:56:48.155Z"
   },
   {
    "duration": 1750,
    "start_time": "2022-01-17T12:58:16.835Z"
   },
   {
    "duration": 12,
    "start_time": "2022-01-17T12:58:18.587Z"
   },
   {
    "duration": 35,
    "start_time": "2022-01-17T12:58:18.601Z"
   },
   {
    "duration": 12,
    "start_time": "2022-01-17T12:58:21.978Z"
   },
   {
    "duration": 264,
    "start_time": "2022-01-17T12:58:22.219Z"
   },
   {
    "duration": 13,
    "start_time": "2022-01-17T12:58:24.812Z"
   },
   {
    "duration": 7049,
    "start_time": "2022-01-17T12:58:25.194Z"
   },
   {
    "duration": -489,
    "start_time": "2022-01-17T12:58:32.735Z"
   },
   {
    "duration": -492,
    "start_time": "2022-01-17T12:58:32.739Z"
   },
   {
    "duration": 499,
    "start_time": "2022-01-17T12:58:55.021Z"
   },
   {
    "duration": 13,
    "start_time": "2022-01-17T12:59:03.938Z"
   },
   {
    "duration": 12,
    "start_time": "2022-01-17T12:59:04.451Z"
   },
   {
    "duration": 7039,
    "start_time": "2022-01-17T12:59:25.380Z"
   },
   {
    "duration": 14,
    "start_time": "2022-01-17T12:59:34.636Z"
   },
   {
    "duration": 11,
    "start_time": "2022-01-17T12:59:39.907Z"
   },
   {
    "duration": 11,
    "start_time": "2022-01-17T12:59:45.491Z"
   },
   {
    "duration": 304,
    "start_time": "2022-01-17T13:00:27.097Z"
   },
   {
    "duration": 1472,
    "start_time": "2022-01-17T13:00:32.313Z"
   },
   {
    "duration": 13,
    "start_time": "2022-01-17T13:00:33.787Z"
   },
   {
    "duration": 16,
    "start_time": "2022-01-17T13:00:33.802Z"
   },
   {
    "duration": 13,
    "start_time": "2022-01-17T13:00:33.820Z"
   },
   {
    "duration": 305,
    "start_time": "2022-01-17T13:00:33.834Z"
   },
   {
    "duration": 10,
    "start_time": "2022-01-17T13:00:34.141Z"
   },
   {
    "duration": 503,
    "start_time": "2022-01-17T13:00:34.153Z"
   },
   {
    "duration": 29,
    "start_time": "2022-01-17T13:00:34.658Z"
   },
   {
    "duration": 393,
    "start_time": "2022-01-17T13:00:34.780Z"
   },
   {
    "duration": 19,
    "start_time": "2022-01-17T13:01:07.930Z"
   },
   {
    "duration": 296,
    "start_time": "2022-01-17T13:01:48.978Z"
   },
   {
    "duration": 380,
    "start_time": "2022-01-17T13:05:49.930Z"
   },
   {
    "duration": 20,
    "start_time": "2022-01-17T13:06:03.639Z"
   },
   {
    "duration": 299,
    "start_time": "2022-01-17T13:06:04.181Z"
   },
   {
    "duration": 285,
    "start_time": "2022-01-17T13:06:05.177Z"
   },
   {
    "duration": 296,
    "start_time": "2022-01-17T13:06:26.730Z"
   },
   {
    "duration": 11,
    "start_time": "2022-01-17T13:10:30.058Z"
   },
   {
    "duration": 17,
    "start_time": "2022-01-17T13:10:47.170Z"
   },
   {
    "duration": 14,
    "start_time": "2022-01-17T13:11:02.427Z"
   },
   {
    "duration": 88,
    "start_time": "2022-01-17T13:12:54.402Z"
   },
   {
    "duration": 15,
    "start_time": "2022-01-17T13:19:10.302Z"
   },
   {
    "duration": 15,
    "start_time": "2022-01-17T13:19:19.717Z"
   },
   {
    "duration": 430,
    "start_time": "2022-01-17T13:21:19.237Z"
   },
   {
    "duration": 374,
    "start_time": "2022-01-17T13:21:26.198Z"
   },
   {
    "duration": 409,
    "start_time": "2022-01-17T13:21:43.755Z"
   },
   {
    "duration": 420,
    "start_time": "2022-01-17T13:22:18.859Z"
   },
   {
    "duration": 398,
    "start_time": "2022-01-17T13:23:01.812Z"
   },
   {
    "duration": 15,
    "start_time": "2022-01-17T13:24:16.842Z"
   },
   {
    "duration": 15,
    "start_time": "2022-01-17T13:24:33.730Z"
   },
   {
    "duration": 11,
    "start_time": "2022-01-17T13:30:24.014Z"
   },
   {
    "duration": 11,
    "start_time": "2022-01-17T13:30:43.271Z"
   },
   {
    "duration": 15,
    "start_time": "2022-01-17T13:30:48.477Z"
   },
   {
    "duration": 16,
    "start_time": "2022-01-17T13:31:04.693Z"
   },
   {
    "duration": 16,
    "start_time": "2022-01-17T13:31:07.445Z"
   },
   {
    "duration": 15,
    "start_time": "2022-01-17T13:32:15.749Z"
   },
   {
    "duration": 1291,
    "start_time": "2022-01-19T12:38:13.821Z"
   },
   {
    "duration": 10,
    "start_time": "2022-01-19T12:38:15.114Z"
   },
   {
    "duration": 17,
    "start_time": "2022-01-19T12:38:15.125Z"
   },
   {
    "duration": 11,
    "start_time": "2022-01-19T12:38:15.246Z"
   },
   {
    "duration": 257,
    "start_time": "2022-01-19T12:38:15.417Z"
   },
   {
    "duration": 10,
    "start_time": "2022-01-19T12:38:15.831Z"
   },
   {
    "duration": 452,
    "start_time": "2022-01-19T12:38:15.961Z"
   },
   {
    "duration": 18,
    "start_time": "2022-01-19T12:38:16.552Z"
   },
   {
    "duration": 336,
    "start_time": "2022-01-19T12:38:16.693Z"
   },
   {
    "duration": 284,
    "start_time": "2022-01-19T12:38:17.031Z"
   },
   {
    "duration": 13,
    "start_time": "2022-01-19T12:38:17.504Z"
   },
   {
    "duration": 381,
    "start_time": "2022-01-19T12:38:17.641Z"
   },
   {
    "duration": 13,
    "start_time": "2022-01-19T12:38:18.063Z"
   },
   {
    "duration": 14,
    "start_time": "2022-01-19T12:47:35.108Z"
   },
   {
    "duration": 14,
    "start_time": "2022-01-19T12:49:57.248Z"
   },
   {
    "duration": 14,
    "start_time": "2022-01-19T12:50:22.204Z"
   },
   {
    "duration": 14,
    "start_time": "2022-01-19T12:50:30.938Z"
   },
   {
    "duration": 206,
    "start_time": "2022-01-19T12:51:39.161Z"
   },
   {
    "duration": 259,
    "start_time": "2022-01-19T12:51:52.859Z"
   },
   {
    "duration": 298,
    "start_time": "2022-01-19T12:53:54.430Z"
   },
   {
    "duration": 389,
    "start_time": "2022-01-19T12:54:04.029Z"
   },
   {
    "duration": 443,
    "start_time": "2022-01-19T12:54:15.538Z"
   },
   {
    "duration": 256,
    "start_time": "2022-01-19T12:54:20.151Z"
   },
   {
    "duration": 1244,
    "start_time": "2022-01-19T12:54:48.659Z"
   },
   {
    "duration": 10,
    "start_time": "2022-01-19T12:54:49.905Z"
   },
   {
    "duration": 16,
    "start_time": "2022-01-19T12:54:49.917Z"
   },
   {
    "duration": 11,
    "start_time": "2022-01-19T12:54:49.958Z"
   },
   {
    "duration": 266,
    "start_time": "2022-01-19T12:54:50.085Z"
   },
   {
    "duration": 10,
    "start_time": "2022-01-19T12:54:50.711Z"
   },
   {
    "duration": 431,
    "start_time": "2022-01-19T12:54:50.962Z"
   },
   {
    "duration": 18,
    "start_time": "2022-01-19T12:54:51.475Z"
   },
   {
    "duration": 354,
    "start_time": "2022-01-19T12:54:51.581Z"
   },
   {
    "duration": 292,
    "start_time": "2022-01-19T12:54:51.937Z"
   },
   {
    "duration": 14,
    "start_time": "2022-01-19T12:54:52.454Z"
   },
   {
    "duration": 370,
    "start_time": "2022-01-19T12:54:52.553Z"
   },
   {
    "duration": 16,
    "start_time": "2022-01-19T12:54:53.304Z"
   },
   {
    "duration": 259,
    "start_time": "2022-01-19T12:54:53.552Z"
   },
   {
    "duration": 301,
    "start_time": "2022-01-19T12:57:08.971Z"
   },
   {
    "duration": 51,
    "start_time": "2022-01-19T13:04:43.345Z"
   },
   {
    "duration": 53,
    "start_time": "2022-01-19T13:04:47.497Z"
   },
   {
    "duration": 58,
    "start_time": "2022-01-19T13:05:22.959Z"
   },
   {
    "duration": 49,
    "start_time": "2022-01-19T13:05:28.286Z"
   },
   {
    "duration": 10,
    "start_time": "2022-01-19T13:07:34.702Z"
   },
   {
    "duration": 143,
    "start_time": "2022-01-19T13:10:27.854Z"
   },
   {
    "duration": 9,
    "start_time": "2022-01-19T13:10:28.740Z"
   },
   {
    "duration": 217,
    "start_time": "2022-01-19T13:11:21.033Z"
   },
   {
    "duration": 9,
    "start_time": "2022-01-19T13:11:21.937Z"
   },
   {
    "duration": 149,
    "start_time": "2022-01-19T13:14:46.930Z"
   },
   {
    "duration": 10,
    "start_time": "2022-01-19T13:14:50.205Z"
   },
   {
    "duration": 12,
    "start_time": "2022-01-19T13:31:06.432Z"
   },
   {
    "duration": 16,
    "start_time": "2022-01-19T13:31:24.468Z"
   },
   {
    "duration": 14,
    "start_time": "2022-01-19T13:32:04.954Z"
   },
   {
    "duration": 15,
    "start_time": "2022-01-19T13:32:14.208Z"
   },
   {
    "duration": 15,
    "start_time": "2022-01-19T13:32:44.743Z"
   },
   {
    "duration": 15,
    "start_time": "2022-01-19T13:33:11.443Z"
   },
   {
    "duration": 264,
    "start_time": "2022-01-19T13:33:55.429Z"
   },
   {
    "duration": 45652,
    "start_time": "2022-01-19T13:34:31.089Z"
   },
   {
    "duration": 269,
    "start_time": "2022-01-19T13:35:45.288Z"
   },
   {
    "duration": 25,
    "start_time": "2022-01-19T13:35:57.446Z"
   },
   {
    "duration": 284,
    "start_time": "2022-01-19T13:35:57.946Z"
   },
   {
    "duration": 14,
    "start_time": "2022-01-19T13:36:38.026Z"
   },
   {
    "duration": 269,
    "start_time": "2022-01-19T13:36:39.943Z"
   },
   {
    "duration": 292,
    "start_time": "2022-01-19T13:37:23.355Z"
   },
   {
    "duration": 281,
    "start_time": "2022-01-19T13:37:29.351Z"
   },
   {
    "duration": 257,
    "start_time": "2022-01-19T13:37:44.390Z"
   },
   {
    "duration": 261,
    "start_time": "2022-01-19T13:39:27.088Z"
   },
   {
    "duration": 284,
    "start_time": "2022-01-19T13:39:46.376Z"
   },
   {
    "duration": 1886,
    "start_time": "2022-01-20T07:03:45.689Z"
   },
   {
    "duration": 17,
    "start_time": "2022-01-20T07:03:47.578Z"
   },
   {
    "duration": 25,
    "start_time": "2022-01-20T07:03:47.598Z"
   },
   {
    "duration": 43,
    "start_time": "2022-01-20T07:03:47.626Z"
   },
   {
    "duration": 485,
    "start_time": "2022-01-20T07:03:47.672Z"
   },
   {
    "duration": 17,
    "start_time": "2022-01-20T07:03:48.159Z"
   },
   {
    "duration": 739,
    "start_time": "2022-01-20T07:03:48.178Z"
   },
   {
    "duration": 56,
    "start_time": "2022-01-20T07:03:48.920Z"
   },
   {
    "duration": 708,
    "start_time": "2022-01-20T07:03:48.978Z"
   },
   {
    "duration": 612,
    "start_time": "2022-01-20T07:03:49.688Z"
   },
   {
    "duration": 32,
    "start_time": "2022-01-20T07:03:50.303Z"
   },
   {
    "duration": 637,
    "start_time": "2022-01-20T07:03:50.338Z"
   },
   {
    "duration": 22,
    "start_time": "2022-01-20T07:03:50.978Z"
   },
   {
    "duration": 486,
    "start_time": "2022-01-20T07:03:51.002Z"
   },
   {
    "duration": 212,
    "start_time": "2022-01-20T07:03:51.491Z"
   },
   {
    "duration": 14,
    "start_time": "2022-01-20T07:03:51.706Z"
   },
   {
    "duration": 46,
    "start_time": "2022-01-20T07:03:51.723Z"
   },
   {
    "duration": 469,
    "start_time": "2022-01-20T07:03:51.771Z"
   },
   {
    "duration": 125,
    "start_time": "2022-01-20T07:04:48.751Z"
   },
   {
    "duration": 1278,
    "start_time": "2022-01-20T07:04:57.857Z"
   },
   {
    "duration": 937,
    "start_time": "2022-01-20T07:08:28.079Z"
   },
   {
    "duration": 962,
    "start_time": "2022-01-20T07:09:24.127Z"
   },
   {
    "duration": 500,
    "start_time": "2022-01-20T07:10:47.289Z"
   },
   {
    "duration": 12,
    "start_time": "2022-01-20T07:11:14.313Z"
   },
   {
    "duration": 15,
    "start_time": "2022-01-20T07:11:20.632Z"
   },
   {
    "duration": 24,
    "start_time": "2022-01-20T07:13:06.739Z"
   },
   {
    "duration": 483,
    "start_time": "2022-01-20T07:13:09.567Z"
   },
   {
    "duration": 1017,
    "start_time": "2022-01-20T07:13:10.542Z"
   },
   {
    "duration": 33,
    "start_time": "2022-01-20T07:16:20.169Z"
   },
   {
    "duration": 15,
    "start_time": "2022-01-20T07:16:31.141Z"
   },
   {
    "duration": 269,
    "start_time": "2022-01-20T07:17:38.516Z"
   },
   {
    "duration": 17,
    "start_time": "2022-01-20T07:17:46.623Z"
   },
   {
    "duration": 971,
    "start_time": "2022-01-20T07:18:43.591Z"
   },
   {
    "duration": 1251,
    "start_time": "2022-01-20T07:28:08.948Z"
   },
   {
    "duration": 17,
    "start_time": "2022-01-20T07:28:32.868Z"
   },
   {
    "duration": 15,
    "start_time": "2022-01-20T07:30:59.208Z"
   },
   {
    "duration": 16,
    "start_time": "2022-01-20T07:32:16.463Z"
   },
   {
    "duration": 293,
    "start_time": "2022-01-20T07:36:18.865Z"
   },
   {
    "duration": 24,
    "start_time": "2022-01-20T07:36:24.897Z"
   },
   {
    "duration": 18,
    "start_time": "2022-01-20T07:36:47.691Z"
   },
   {
    "duration": 26,
    "start_time": "2022-01-20T07:37:03.852Z"
   },
   {
    "duration": 652,
    "start_time": "2022-01-20T07:37:06.798Z"
   },
   {
    "duration": 820,
    "start_time": "2022-01-20T07:37:08.315Z"
   },
   {
    "duration": 28,
    "start_time": "2022-01-20T07:37:09.138Z"
   },
   {
    "duration": 27,
    "start_time": "2022-01-20T07:37:40.592Z"
   },
   {
    "duration": 18,
    "start_time": "2022-01-20T07:38:16.506Z"
   },
   {
    "duration": 26,
    "start_time": "2022-01-20T07:38:30.270Z"
   },
   {
    "duration": 27,
    "start_time": "2022-01-20T07:39:16.602Z"
   },
   {
    "duration": 6,
    "start_time": "2022-01-20T07:53:24.410Z"
   },
   {
    "duration": 19,
    "start_time": "2022-01-20T07:53:35.358Z"
   },
   {
    "duration": 11,
    "start_time": "2022-01-20T07:53:51.532Z"
   },
   {
    "duration": 652,
    "start_time": "2022-01-20T07:54:40.774Z"
   },
   {
    "duration": 25,
    "start_time": "2022-01-20T07:54:45.765Z"
   },
   {
    "duration": 11,
    "start_time": "2022-01-20T07:55:01.897Z"
   },
   {
    "duration": 17,
    "start_time": "2022-01-20T07:55:08.428Z"
   },
   {
    "duration": 18,
    "start_time": "2022-01-20T07:55:28.577Z"
   },
   {
    "duration": 13,
    "start_time": "2022-01-20T07:57:45.806Z"
   },
   {
    "duration": 27,
    "start_time": "2022-01-20T07:57:51.826Z"
   },
   {
    "duration": 25,
    "start_time": "2022-01-20T07:58:15.253Z"
   },
   {
    "duration": 38,
    "start_time": "2022-01-20T07:58:44.163Z"
   },
   {
    "duration": 697,
    "start_time": "2022-01-20T07:59:33.868Z"
   },
   {
    "duration": 28,
    "start_time": "2022-01-20T07:59:39.397Z"
   },
   {
    "duration": 16,
    "start_time": "2022-01-20T07:59:41.763Z"
   },
   {
    "duration": 20,
    "start_time": "2022-01-20T07:59:47.424Z"
   },
   {
    "duration": 35,
    "start_time": "2022-01-20T07:59:56.466Z"
   },
   {
    "duration": 26,
    "start_time": "2022-01-20T08:01:13.225Z"
   },
   {
    "duration": 10,
    "start_time": "2022-01-20T08:11:53.433Z"
   },
   {
    "duration": 18,
    "start_time": "2022-01-20T08:12:02.917Z"
   },
   {
    "duration": 319,
    "start_time": "2022-01-20T08:12:22.794Z"
   },
   {
    "duration": 20,
    "start_time": "2022-01-20T08:12:29.935Z"
   },
   {
    "duration": 21,
    "start_time": "2022-01-20T08:12:45.379Z"
   },
   {
    "duration": 19,
    "start_time": "2022-01-20T08:12:49.042Z"
   },
   {
    "duration": 329,
    "start_time": "2022-01-20T08:15:37.744Z"
   },
   {
    "duration": 25,
    "start_time": "2022-01-20T08:15:43.505Z"
   },
   {
    "duration": 20,
    "start_time": "2022-01-20T08:15:50.473Z"
   },
   {
    "duration": 501,
    "start_time": "2022-01-20T08:16:47.645Z"
   },
   {
    "duration": 575,
    "start_time": "2022-01-20T08:16:56.047Z"
   },
   {
    "duration": 219,
    "start_time": "2022-01-20T08:17:01.369Z"
   },
   {
    "duration": 204,
    "start_time": "2022-01-20T08:17:16.927Z"
   },
   {
    "duration": 13,
    "start_time": "2022-01-20T08:17:17.767Z"
   },
   {
    "duration": 1908,
    "start_time": "2022-01-20T08:17:32.767Z"
   },
   {
    "duration": 17,
    "start_time": "2022-01-20T08:17:34.678Z"
   },
   {
    "duration": 49,
    "start_time": "2022-01-20T08:17:34.698Z"
   },
   {
    "duration": 20,
    "start_time": "2022-01-20T08:17:35.418Z"
   },
   {
    "duration": 452,
    "start_time": "2022-01-20T08:17:35.603Z"
   },
   {
    "duration": 18,
    "start_time": "2022-01-20T08:17:36.179Z"
   },
   {
    "duration": 726,
    "start_time": "2022-01-20T08:17:36.311Z"
   },
   {
    "duration": 58,
    "start_time": "2022-01-20T08:17:37.040Z"
   },
   {
    "duration": 763,
    "start_time": "2022-01-20T08:17:37.102Z"
   },
   {
    "duration": 497,
    "start_time": "2022-01-20T08:17:37.867Z"
   },
   {
    "duration": 20,
    "start_time": "2022-01-20T08:17:38.368Z"
   },
   {
    "duration": 599,
    "start_time": "2022-01-20T08:17:38.391Z"
   },
   {
    "duration": 25,
    "start_time": "2022-01-20T08:17:38.993Z"
   },
   {
    "duration": 498,
    "start_time": "2022-01-20T08:17:39.020Z"
   },
   {
    "duration": 234,
    "start_time": "2022-01-20T08:17:39.521Z"
   },
   {
    "duration": 19,
    "start_time": "2022-01-20T08:17:39.758Z"
   },
   {
    "duration": 26,
    "start_time": "2022-01-20T08:17:39.863Z"
   },
   {
    "duration": 560,
    "start_time": "2022-01-20T08:17:40.004Z"
   },
   {
    "duration": 1642,
    "start_time": "2022-01-20T08:17:40.567Z"
   },
   {
    "duration": 26,
    "start_time": "2022-01-20T08:17:42.212Z"
   },
   {
    "duration": 19,
    "start_time": "2022-01-20T08:17:42.241Z"
   },
   {
    "duration": 26,
    "start_time": "2022-01-20T08:17:42.262Z"
   },
   {
    "duration": 32,
    "start_time": "2022-01-20T08:17:42.290Z"
   },
   {
    "duration": 23,
    "start_time": "2022-01-20T08:18:13.811Z"
   },
   {
    "duration": 558,
    "start_time": "2022-01-20T08:18:19.012Z"
   },
   {
    "duration": 724,
    "start_time": "2022-01-20T08:18:20.295Z"
   },
   {
    "duration": 28,
    "start_time": "2022-01-20T08:18:21.022Z"
   },
   {
    "duration": 17,
    "start_time": "2022-01-20T08:18:28.136Z"
   },
   {
    "duration": 25,
    "start_time": "2022-01-20T08:18:29.616Z"
   },
   {
    "duration": 27,
    "start_time": "2022-01-20T08:18:32.224Z"
   },
   {
    "duration": 800,
    "start_time": "2022-01-20T08:19:24.176Z"
   },
   {
    "duration": 6,
    "start_time": "2022-01-20T08:21:36.162Z"
   },
   {
    "duration": 6,
    "start_time": "2022-01-20T08:21:49.803Z"
   },
   {
    "duration": 797,
    "start_time": "2022-01-20T08:21:59.126Z"
   },
   {
    "duration": 810,
    "start_time": "2022-01-20T08:22:25.454Z"
   },
   {
    "duration": 984,
    "start_time": "2022-01-20T08:22:52.470Z"
   },
   {
    "duration": 916,
    "start_time": "2022-01-20T08:23:03.866Z"
   },
   {
    "duration": 842,
    "start_time": "2022-01-20T08:23:16.285Z"
   },
   {
    "duration": 830,
    "start_time": "2022-01-20T08:23:35.916Z"
   },
   {
    "duration": 1069,
    "start_time": "2022-01-20T08:23:42.996Z"
   },
   {
    "duration": 28,
    "start_time": "2022-01-20T08:24:40.414Z"
   },
   {
    "duration": 845,
    "start_time": "2022-01-20T08:24:50.372Z"
   },
   {
    "duration": 738,
    "start_time": "2022-01-20T08:24:56.652Z"
   },
   {
    "duration": 744,
    "start_time": "2022-01-20T08:25:03.667Z"
   },
   {
    "duration": 716,
    "start_time": "2022-01-20T08:25:07.227Z"
   },
   {
    "duration": 1064,
    "start_time": "2022-01-20T08:25:46.447Z"
   },
   {
    "duration": 1421,
    "start_time": "2022-01-20T08:25:52.892Z"
   },
   {
    "duration": 1068,
    "start_time": "2022-01-20T08:26:00.918Z"
   },
   {
    "duration": 740,
    "start_time": "2022-01-20T08:26:07.532Z"
   },
   {
    "duration": 1220,
    "start_time": "2022-01-20T08:26:51.043Z"
   },
   {
    "duration": 1150,
    "start_time": "2022-01-20T08:27:04.651Z"
   },
   {
    "duration": 99,
    "start_time": "2022-01-20T08:34:34.774Z"
   },
   {
    "duration": 87,
    "start_time": "2022-01-20T08:37:21.562Z"
   },
   {
    "duration": 107,
    "start_time": "2022-01-20T08:37:50.752Z"
   },
   {
    "duration": 98,
    "start_time": "2022-01-20T08:38:22.603Z"
   },
   {
    "duration": 85,
    "start_time": "2022-01-20T08:38:53.127Z"
   },
   {
    "duration": 236,
    "start_time": "2022-01-20T08:39:21.969Z"
   },
   {
    "duration": 93,
    "start_time": "2022-01-20T08:39:29.629Z"
   },
   {
    "duration": 94,
    "start_time": "2022-01-20T08:39:40.408Z"
   },
   {
    "duration": 99,
    "start_time": "2022-01-20T08:39:44.251Z"
   },
   {
    "duration": 23,
    "start_time": "2022-01-20T08:46:33.928Z"
   },
   {
    "duration": 21,
    "start_time": "2022-01-20T08:46:55.928Z"
   },
   {
    "duration": 1539,
    "start_time": "2022-01-20T20:28:39.252Z"
   },
   {
    "duration": 11,
    "start_time": "2022-01-20T20:28:40.794Z"
   },
   {
    "duration": 43,
    "start_time": "2022-01-20T20:28:40.807Z"
   },
   {
    "duration": 18,
    "start_time": "2022-01-20T20:28:40.852Z"
   },
   {
    "duration": 282,
    "start_time": "2022-01-20T20:28:40.872Z"
   },
   {
    "duration": 11,
    "start_time": "2022-01-20T20:28:41.155Z"
   },
   {
    "duration": 542,
    "start_time": "2022-01-20T20:28:41.167Z"
   },
   {
    "duration": 43,
    "start_time": "2022-01-20T20:28:41.711Z"
   },
   {
    "duration": 493,
    "start_time": "2022-01-20T20:28:41.756Z"
   },
   {
    "duration": 290,
    "start_time": "2022-01-20T20:28:42.251Z"
   },
   {
    "duration": 14,
    "start_time": "2022-01-20T20:28:42.543Z"
   },
   {
    "duration": 436,
    "start_time": "2022-01-20T20:28:42.559Z"
   },
   {
    "duration": 15,
    "start_time": "2022-01-20T20:28:42.997Z"
   },
   {
    "duration": 300,
    "start_time": "2022-01-20T20:28:43.014Z"
   },
   {
    "duration": 162,
    "start_time": "2022-01-20T20:28:43.316Z"
   },
   {
    "duration": 11,
    "start_time": "2022-01-20T20:28:43.479Z"
   },
   {
    "duration": 18,
    "start_time": "2022-01-20T20:28:43.707Z"
   },
   {
    "duration": 301,
    "start_time": "2022-01-20T20:28:43.970Z"
   },
   {
    "duration": 1569,
    "start_time": "2022-01-20T20:28:44.274Z"
   },
   {
    "duration": 17,
    "start_time": "2022-01-20T20:28:45.845Z"
   },
   {
    "duration": 42,
    "start_time": "2022-01-20T20:28:45.864Z"
   },
   {
    "duration": 41,
    "start_time": "2022-01-20T20:28:45.907Z"
   },
   {
    "duration": 32,
    "start_time": "2022-01-20T20:28:45.949Z"
   },
   {
    "duration": 435,
    "start_time": "2022-01-20T20:28:45.983Z"
   },
   {
    "duration": 68,
    "start_time": "2022-01-20T20:28:46.420Z"
   },
   {
    "duration": 391,
    "start_time": "2022-01-20T20:32:55.660Z"
   },
   {
    "duration": 150,
    "start_time": "2022-01-20T20:36:25.327Z"
   },
   {
    "duration": 10,
    "start_time": "2022-01-20T20:36:30.989Z"
   },
   {
    "duration": 17,
    "start_time": "2022-01-20T20:37:12.837Z"
   },
   {
    "duration": 284,
    "start_time": "2022-01-20T20:37:58.960Z"
   },
   {
    "duration": 1275,
    "start_time": "2022-01-20T20:39:30.416Z"
   },
   {
    "duration": 18,
    "start_time": "2022-01-20T20:39:32.101Z"
   },
   {
    "duration": 16,
    "start_time": "2022-01-20T20:40:39.384Z"
   },
   {
    "duration": 12,
    "start_time": "2022-01-20T20:40:43.373Z"
   },
   {
    "duration": 23,
    "start_time": "2022-01-20T20:40:45.093Z"
   },
   {
    "duration": 27,
    "start_time": "2022-01-20T20:40:51.059Z"
   },
   {
    "duration": 406,
    "start_time": "2022-01-20T20:40:54.974Z"
   },
   {
    "duration": 14,
    "start_time": "2022-01-20T20:43:30.181Z"
   },
   {
    "duration": 12,
    "start_time": "2022-01-20T20:43:47.475Z"
   },
   {
    "duration": 1436,
    "start_time": "2022-01-20T20:47:49.141Z"
   },
   {
    "duration": 11,
    "start_time": "2022-01-20T20:47:50.579Z"
   },
   {
    "duration": 24,
    "start_time": "2022-01-20T20:47:50.592Z"
   },
   {
    "duration": 31,
    "start_time": "2022-01-20T20:47:50.618Z"
   },
   {
    "duration": 292,
    "start_time": "2022-01-20T20:47:50.651Z"
   },
   {
    "duration": 10,
    "start_time": "2022-01-20T20:47:50.945Z"
   },
   {
    "duration": 515,
    "start_time": "2022-01-20T20:47:51.051Z"
   },
   {
    "duration": 20,
    "start_time": "2022-01-20T20:47:51.664Z"
   },
   {
    "duration": 424,
    "start_time": "2022-01-20T20:47:51.725Z"
   },
   {
    "duration": 299,
    "start_time": "2022-01-20T20:47:52.151Z"
   },
   {
    "duration": 15,
    "start_time": "2022-01-20T20:47:52.729Z"
   },
   {
    "duration": 383,
    "start_time": "2022-01-20T20:47:52.772Z"
   },
   {
    "duration": 17,
    "start_time": "2022-01-20T20:47:53.228Z"
   },
   {
    "duration": 301,
    "start_time": "2022-01-20T20:47:53.357Z"
   },
   {
    "duration": 165,
    "start_time": "2022-01-20T20:47:53.801Z"
   },
   {
    "duration": 12,
    "start_time": "2022-01-20T20:47:53.968Z"
   },
   {
    "duration": 20,
    "start_time": "2022-01-20T20:47:54.415Z"
   },
   {
    "duration": 293,
    "start_time": "2022-01-20T20:47:54.551Z"
   },
   {
    "duration": 1490,
    "start_time": "2022-01-20T20:47:54.879Z"
   },
   {
    "duration": 19,
    "start_time": "2022-01-20T20:47:56.371Z"
   },
   {
    "duration": 12,
    "start_time": "2022-01-20T20:47:56.392Z"
   },
   {
    "duration": 17,
    "start_time": "2022-01-20T20:47:56.406Z"
   },
   {
    "duration": 35,
    "start_time": "2022-01-20T20:47:56.425Z"
   },
   {
    "duration": 457,
    "start_time": "2022-01-20T20:47:56.462Z"
   },
   {
    "duration": 83,
    "start_time": "2022-01-20T20:47:56.922Z"
   },
   {
    "duration": 17,
    "start_time": "2022-01-20T20:50:46.462Z"
   },
   {
    "duration": 423,
    "start_time": "2022-01-20T20:50:47.167Z"
   },
   {
    "duration": 731,
    "start_time": "2022-01-20T20:56:39.028Z"
   },
   {
    "duration": 377,
    "start_time": "2022-01-20T20:57:00.883Z"
   },
   {
    "duration": 355,
    "start_time": "2022-01-20T20:58:12.194Z"
   },
   {
    "duration": 388,
    "start_time": "2022-01-20T21:27:23.068Z"
   },
   {
    "duration": 410,
    "start_time": "2022-01-20T21:28:22.850Z"
   },
   {
    "duration": 218,
    "start_time": "2022-01-20T21:34:41.713Z"
   },
   {
    "duration": 213,
    "start_time": "2022-01-20T21:35:02.082Z"
   },
   {
    "duration": 1495,
    "start_time": "2022-01-20T21:35:25.526Z"
   },
   {
    "duration": 11,
    "start_time": "2022-01-20T21:35:27.023Z"
   },
   {
    "duration": 28,
    "start_time": "2022-01-20T21:35:27.036Z"
   },
   {
    "duration": 18,
    "start_time": "2022-01-20T21:35:28.026Z"
   },
   {
    "duration": 266,
    "start_time": "2022-01-20T21:35:28.622Z"
   },
   {
    "duration": 267,
    "start_time": "2022-01-20T21:35:32.724Z"
   },
   {
    "duration": 256,
    "start_time": "2022-01-20T21:35:40.288Z"
   },
   {
    "duration": 384,
    "start_time": "2022-01-20T21:35:52.883Z"
   },
   {
    "duration": 190,
    "start_time": "2022-01-20T21:35:56.854Z"
   },
   {
    "duration": 299,
    "start_time": "2022-01-20T21:36:01.607Z"
   },
   {
    "duration": 261,
    "start_time": "2022-01-20T21:36:07.254Z"
   },
   {
    "duration": 66,
    "start_time": "2022-01-20T21:57:15.907Z"
   },
   {
    "duration": 1874,
    "start_time": "2022-01-21T04:53:25.371Z"
   },
   {
    "duration": 17,
    "start_time": "2022-01-21T04:53:27.247Z"
   },
   {
    "duration": 26,
    "start_time": "2022-01-21T04:53:27.267Z"
   },
   {
    "duration": 20,
    "start_time": "2022-01-21T04:53:27.296Z"
   },
   {
    "duration": 464,
    "start_time": "2022-01-21T04:53:27.319Z"
   },
   {
    "duration": 15,
    "start_time": "2022-01-21T04:53:27.785Z"
   },
   {
    "duration": 723,
    "start_time": "2022-01-21T04:53:27.803Z"
   },
   {
    "duration": 48,
    "start_time": "2022-01-21T04:53:28.529Z"
   },
   {
    "duration": 741,
    "start_time": "2022-01-21T04:53:28.581Z"
   },
   {
    "duration": 505,
    "start_time": "2022-01-21T04:53:29.325Z"
   },
   {
    "duration": 34,
    "start_time": "2022-01-21T04:53:29.832Z"
   },
   {
    "duration": 888,
    "start_time": "2022-01-21T04:53:29.868Z"
   },
   {
    "duration": 34,
    "start_time": "2022-01-21T04:53:30.764Z"
   },
   {
    "duration": 497,
    "start_time": "2022-01-21T04:53:30.801Z"
   },
   {
    "duration": 224,
    "start_time": "2022-01-21T04:53:31.300Z"
   },
   {
    "duration": 14,
    "start_time": "2022-01-21T04:53:31.527Z"
   },
   {
    "duration": 40,
    "start_time": "2022-01-21T04:53:31.543Z"
   },
   {
    "duration": 462,
    "start_time": "2022-01-21T04:53:31.586Z"
   },
   {
    "duration": 1550,
    "start_time": "2022-01-21T04:53:32.051Z"
   },
   {
    "duration": 27,
    "start_time": "2022-01-21T04:53:33.604Z"
   },
   {
    "duration": 35,
    "start_time": "2022-01-21T04:53:33.634Z"
   },
   {
    "duration": 28,
    "start_time": "2022-01-21T04:53:33.672Z"
   },
   {
    "duration": 27,
    "start_time": "2022-01-21T04:53:33.703Z"
   },
   {
    "duration": 730,
    "start_time": "2022-01-21T04:53:33.734Z"
   },
   {
    "duration": 149,
    "start_time": "2022-01-21T04:53:34.467Z"
   },
   {
    "duration": 7623,
    "start_time": "2022-01-21T04:57:24.107Z"
   },
   {
    "duration": 11,
    "start_time": "2022-01-21T04:57:40.689Z"
   },
   {
    "duration": 3695,
    "start_time": "2022-01-21T05:01:00.414Z"
   },
   {
    "duration": 2056,
    "start_time": "2022-01-21T05:01:08.765Z"
   },
   {
    "duration": 18,
    "start_time": "2022-01-21T05:01:10.823Z"
   },
   {
    "duration": 32,
    "start_time": "2022-01-21T05:01:10.844Z"
   },
   {
    "duration": 24,
    "start_time": "2022-01-21T05:01:10.879Z"
   },
   {
    "duration": 8,
    "start_time": "2022-01-21T05:01:10.906Z"
   },
   {
    "duration": 48,
    "start_time": "2022-01-21T05:01:10.917Z"
   },
   {
    "duration": 478,
    "start_time": "2022-01-21T05:01:10.968Z"
   },
   {
    "duration": 26,
    "start_time": "2022-01-21T05:01:11.452Z"
   },
   {
    "duration": 735,
    "start_time": "2022-01-21T05:01:11.482Z"
   },
   {
    "duration": 67,
    "start_time": "2022-01-21T05:01:12.219Z"
   },
   {
    "duration": 830,
    "start_time": "2022-01-21T05:01:12.289Z"
   },
   {
    "duration": 488,
    "start_time": "2022-01-21T05:01:13.122Z"
   },
   {
    "duration": 20,
    "start_time": "2022-01-21T05:01:13.612Z"
   },
   {
    "duration": 646,
    "start_time": "2022-01-21T05:01:13.634Z"
   },
   {
    "duration": 29,
    "start_time": "2022-01-21T05:01:14.283Z"
   },
   {
    "duration": 459,
    "start_time": "2022-01-21T05:01:14.314Z"
   },
   {
    "duration": 227,
    "start_time": "2022-01-21T05:01:14.776Z"
   },
   {
    "duration": 14,
    "start_time": "2022-01-21T05:01:15.006Z"
   },
   {
    "duration": 44,
    "start_time": "2022-01-21T05:01:15.022Z"
   },
   {
    "duration": 474,
    "start_time": "2022-01-21T05:01:15.069Z"
   },
   {
    "duration": 1560,
    "start_time": "2022-01-21T05:01:15.545Z"
   },
   {
    "duration": 25,
    "start_time": "2022-01-21T05:01:17.107Z"
   },
   {
    "duration": 15,
    "start_time": "2022-01-21T05:01:17.137Z"
   },
   {
    "duration": 24,
    "start_time": "2022-01-21T05:01:17.164Z"
   },
   {
    "duration": 27,
    "start_time": "2022-01-21T05:01:17.191Z"
   },
   {
    "duration": 739,
    "start_time": "2022-01-21T05:01:17.220Z"
   },
   {
    "duration": 108,
    "start_time": "2022-01-21T05:01:17.965Z"
   },
   {
    "duration": 23,
    "start_time": "2022-01-21T05:19:27.888Z"
   },
   {
    "duration": 5,
    "start_time": "2022-01-21T05:20:30.736Z"
   },
   {
    "duration": 22,
    "start_time": "2022-01-21T05:20:32.787Z"
   },
   {
    "duration": 420,
    "start_time": "2022-01-21T07:54:13.007Z"
   },
   {
    "duration": 1945,
    "start_time": "2022-01-21T07:54:20.177Z"
   },
   {
    "duration": 17,
    "start_time": "2022-01-21T07:54:22.125Z"
   },
   {
    "duration": 23,
    "start_time": "2022-01-21T07:54:22.144Z"
   },
   {
    "duration": 21,
    "start_time": "2022-01-21T07:54:22.170Z"
   },
   {
    "duration": 7,
    "start_time": "2022-01-21T07:54:22.241Z"
   },
   {
    "duration": 8,
    "start_time": "2022-01-21T07:54:22.567Z"
   },
   {
    "duration": 434,
    "start_time": "2022-01-21T07:54:23.339Z"
   },
   {
    "duration": 489,
    "start_time": "2022-01-21T07:54:57.966Z"
   },
   {
    "duration": 199,
    "start_time": "2022-01-21T08:12:58.210Z"
   },
   {
    "duration": 102,
    "start_time": "2022-01-21T08:26:39.778Z"
   },
   {
    "duration": 28,
    "start_time": "2022-01-21T08:46:48.486Z"
   },
   {
    "duration": 23,
    "start_time": "2022-01-21T08:46:53.930Z"
   },
   {
    "duration": 8,
    "start_time": "2022-01-21T08:48:38.403Z"
   },
   {
    "duration": 19,
    "start_time": "2022-01-21T08:48:43.153Z"
   },
   {
    "duration": 536,
    "start_time": "2022-01-21T08:54:55.105Z"
   },
   {
    "duration": 325,
    "start_time": "2022-01-21T08:55:03.293Z"
   },
   {
    "duration": 7,
    "start_time": "2022-01-21T08:55:08.928Z"
   },
   {
    "duration": 6,
    "start_time": "2022-01-21T08:55:14.359Z"
   },
   {
    "duration": 7,
    "start_time": "2022-01-21T08:55:31.861Z"
   },
   {
    "duration": 402,
    "start_time": "2022-01-21T08:55:35.959Z"
   },
   {
    "duration": 7,
    "start_time": "2022-01-21T08:55:38.007Z"
   },
   {
    "duration": 379,
    "start_time": "2022-01-21T08:57:21.725Z"
   },
   {
    "duration": 7,
    "start_time": "2022-01-21T08:57:36.430Z"
   },
   {
    "duration": 23,
    "start_time": "2022-01-21T08:57:41.413Z"
   },
   {
    "duration": 17,
    "start_time": "2022-01-21T08:57:55.452Z"
   },
   {
    "duration": 14,
    "start_time": "2022-01-21T08:58:11.171Z"
   },
   {
    "duration": 22,
    "start_time": "2022-01-21T08:58:16.852Z"
   },
   {
    "duration": 369,
    "start_time": "2022-01-21T08:58:20.791Z"
   },
   {
    "duration": 21,
    "start_time": "2022-01-21T08:58:29.493Z"
   },
   {
    "duration": 19,
    "start_time": "2022-01-21T08:58:47.533Z"
   },
   {
    "duration": 22,
    "start_time": "2022-01-21T08:59:04.860Z"
   },
   {
    "duration": 21,
    "start_time": "2022-01-21T09:01:30.275Z"
   },
   {
    "duration": 19,
    "start_time": "2022-01-21T09:02:20.090Z"
   },
   {
    "duration": 28,
    "start_time": "2022-01-21T09:02:55.896Z"
   },
   {
    "duration": 18,
    "start_time": "2022-01-21T09:03:04.439Z"
   },
   {
    "duration": 27,
    "start_time": "2022-01-21T09:03:10.456Z"
   },
   {
    "duration": 34,
    "start_time": "2022-01-21T09:03:28.096Z"
   },
   {
    "duration": 15,
    "start_time": "2022-01-21T09:03:52.969Z"
   },
   {
    "duration": 20,
    "start_time": "2022-01-21T09:04:03.719Z"
   },
   {
    "duration": 17,
    "start_time": "2022-01-21T09:04:04.008Z"
   },
   {
    "duration": 16,
    "start_time": "2022-01-21T09:05:35.682Z"
   },
   {
    "duration": 16,
    "start_time": "2022-01-21T09:05:56.161Z"
   },
   {
    "duration": 28,
    "start_time": "2022-01-21T09:06:04.168Z"
   },
   {
    "duration": 104,
    "start_time": "2022-01-21T09:08:16.741Z"
   },
   {
    "duration": 321,
    "start_time": "2022-01-21T09:08:22.598Z"
   },
   {
    "duration": 319,
    "start_time": "2022-01-21T09:08:59.741Z"
   },
   {
    "duration": 34,
    "start_time": "2022-01-21T09:09:15.438Z"
   },
   {
    "duration": 399,
    "start_time": "2022-01-21T09:09:57.374Z"
   },
   {
    "duration": 307,
    "start_time": "2022-01-21T09:10:06.332Z"
   },
   {
    "duration": 369,
    "start_time": "2022-01-21T09:10:32.780Z"
   },
   {
    "duration": 22,
    "start_time": "2022-01-21T09:10:37.059Z"
   },
   {
    "duration": 33,
    "start_time": "2022-01-21T09:10:37.372Z"
   },
   {
    "duration": 20,
    "start_time": "2022-01-21T09:10:45.100Z"
   },
   {
    "duration": 33,
    "start_time": "2022-01-21T09:10:45.324Z"
   },
   {
    "duration": 19,
    "start_time": "2022-01-21T09:14:23.348Z"
   },
   {
    "duration": 8,
    "start_time": "2022-01-21T09:14:53.776Z"
   },
   {
    "duration": 8,
    "start_time": "2022-01-21T09:14:55.256Z"
   },
   {
    "duration": 19,
    "start_time": "2022-01-21T09:15:33.650Z"
   },
   {
    "duration": 124,
    "start_time": "2022-01-21T09:15:49.439Z"
   },
   {
    "duration": 19,
    "start_time": "2022-01-21T09:15:53.520Z"
   },
   {
    "duration": 471,
    "start_time": "2022-01-21T09:17:01.720Z"
   },
   {
    "duration": 329,
    "start_time": "2022-01-21T09:17:29.185Z"
   },
   {
    "duration": 430,
    "start_time": "2022-01-21T09:17:41.898Z"
   },
   {
    "duration": 443,
    "start_time": "2022-01-21T09:18:01.258Z"
   },
   {
    "duration": 21,
    "start_time": "2022-01-21T09:18:08.409Z"
   },
   {
    "duration": 20,
    "start_time": "2022-01-21T09:18:13.415Z"
   },
   {
    "duration": 778,
    "start_time": "2022-01-21T09:18:15.010Z"
   },
   {
    "duration": 29,
    "start_time": "2022-01-21T09:18:47.579Z"
   },
   {
    "duration": 695,
    "start_time": "2022-01-21T09:18:49.319Z"
   },
   {
    "duration": 859,
    "start_time": "2022-01-21T09:19:26.656Z"
   },
   {
    "duration": 113,
    "start_time": "2022-01-21T09:19:44.350Z"
   },
   {
    "duration": 477,
    "start_time": "2022-01-21T09:20:08.632Z"
   },
   {
    "duration": 103,
    "start_time": "2022-01-21T09:20:33.609Z"
   },
   {
    "duration": 109,
    "start_time": "2022-01-21T09:20:53.430Z"
   },
   {
    "duration": 501,
    "start_time": "2022-01-21T09:21:03.525Z"
   },
   {
    "duration": 681,
    "start_time": "2022-01-21T09:21:23.287Z"
   },
   {
    "duration": 20,
    "start_time": "2022-01-21T09:22:27.385Z"
   },
   {
    "duration": 26,
    "start_time": "2022-01-21T09:22:35.870Z"
   },
   {
    "duration": 822,
    "start_time": "2022-01-21T09:22:37.181Z"
   },
   {
    "duration": 880,
    "start_time": "2022-01-21T09:26:15.603Z"
   },
   {
    "duration": 743,
    "start_time": "2022-01-21T09:26:20.435Z"
   },
   {
    "duration": 28,
    "start_time": "2022-01-21T09:27:08.946Z"
   },
   {
    "duration": 23,
    "start_time": "2022-01-21T09:27:16.834Z"
   },
   {
    "duration": 468,
    "start_time": "2022-01-21T09:27:20.050Z"
   },
   {
    "duration": 23,
    "start_time": "2022-01-21T09:27:23.521Z"
   },
   {
    "duration": 477,
    "start_time": "2022-01-21T09:27:24.072Z"
   },
   {
    "duration": 407,
    "start_time": "2022-01-21T09:27:43.851Z"
   },
   {
    "duration": 409,
    "start_time": "2022-01-21T09:27:49.292Z"
   },
   {
    "duration": 13,
    "start_time": "2022-01-21T09:28:36.679Z"
   },
   {
    "duration": 11,
    "start_time": "2022-01-21T09:28:42.178Z"
   },
   {
    "duration": 12,
    "start_time": "2022-01-21T09:28:45.537Z"
   },
   {
    "duration": 23,
    "start_time": "2022-01-21T09:29:02.754Z"
   },
   {
    "duration": 548,
    "start_time": "2022-01-21T09:29:11.563Z"
   },
   {
    "duration": 1091,
    "start_time": "2022-01-21T09:31:01.430Z"
   },
   {
    "duration": 15,
    "start_time": "2022-01-21T09:31:07.848Z"
   },
   {
    "duration": 754,
    "start_time": "2022-01-21T09:31:33.408Z"
   },
   {
    "duration": 27,
    "start_time": "2022-01-21T09:31:35.416Z"
   },
   {
    "duration": 3,
    "start_time": "2022-01-21T09:31:42.894Z"
   },
   {
    "duration": 22,
    "start_time": "2022-01-21T09:31:43.313Z"
   },
   {
    "duration": 15,
    "start_time": "2022-01-21T09:31:52.175Z"
   },
   {
    "duration": 343,
    "start_time": "2022-01-21T09:33:25.558Z"
   },
   {
    "duration": 23,
    "start_time": "2022-01-21T09:34:58.877Z"
   },
   {
    "duration": 17,
    "start_time": "2022-01-21T09:35:25.205Z"
   },
   {
    "duration": 16,
    "start_time": "2022-01-21T09:36:16.039Z"
   },
   {
    "duration": 313,
    "start_time": "2022-01-21T09:36:51.152Z"
   },
   {
    "duration": 330,
    "start_time": "2022-01-21T09:36:56.124Z"
   },
   {
    "duration": 391,
    "start_time": "2022-01-21T09:37:02.327Z"
   },
   {
    "duration": 352,
    "start_time": "2022-01-21T09:37:08.540Z"
   },
   {
    "duration": 329,
    "start_time": "2022-01-21T09:37:36.734Z"
   },
   {
    "duration": 325,
    "start_time": "2022-01-21T09:37:49.643Z"
   },
   {
    "duration": 396,
    "start_time": "2022-01-21T09:38:03.878Z"
   },
   {
    "duration": 21,
    "start_time": "2022-01-21T09:38:09.202Z"
   },
   {
    "duration": 25,
    "start_time": "2022-01-21T09:38:09.627Z"
   },
   {
    "duration": 603,
    "start_time": "2022-01-21T09:38:10.867Z"
   },
   {
    "duration": 18,
    "start_time": "2022-01-21T09:39:33.783Z"
   },
   {
    "duration": 20,
    "start_time": "2022-01-21T09:39:55.059Z"
   },
   {
    "duration": 15,
    "start_time": "2022-01-21T09:40:06.018Z"
   },
   {
    "duration": 17,
    "start_time": "2022-01-21T09:40:14.547Z"
   },
   {
    "duration": 726,
    "start_time": "2022-01-21T09:40:37.011Z"
   },
   {
    "duration": 16,
    "start_time": "2022-01-21T09:40:53.635Z"
   },
   {
    "duration": 13,
    "start_time": "2022-01-21T09:41:09.023Z"
   },
   {
    "duration": 15,
    "start_time": "2022-01-21T09:41:18.013Z"
   },
   {
    "duration": 19,
    "start_time": "2022-01-21T09:41:40.656Z"
   },
   {
    "duration": 26,
    "start_time": "2022-01-21T09:41:41.297Z"
   },
   {
    "duration": 18,
    "start_time": "2022-01-21T09:41:41.928Z"
   },
   {
    "duration": 365,
    "start_time": "2022-01-21T09:41:42.689Z"
   },
   {
    "duration": 14,
    "start_time": "2022-01-21T09:41:50.041Z"
   },
   {
    "duration": 14,
    "start_time": "2022-01-21T09:41:54.801Z"
   },
   {
    "duration": 20,
    "start_time": "2022-01-21T09:42:05.805Z"
   },
   {
    "duration": 24,
    "start_time": "2022-01-21T09:42:09.607Z"
   },
   {
    "duration": 32,
    "start_time": "2022-01-21T09:42:09.633Z"
   },
   {
    "duration": 23,
    "start_time": "2022-01-21T09:46:15.876Z"
   },
   {
    "duration": 691,
    "start_time": "2022-01-21T09:46:22.742Z"
   },
   {
    "duration": 2177,
    "start_time": "2022-01-21T09:51:47.863Z"
   },
   {
    "duration": 33,
    "start_time": "2022-01-21T09:51:50.043Z"
   },
   {
    "duration": 56,
    "start_time": "2022-01-21T09:51:50.079Z"
   },
   {
    "duration": 26,
    "start_time": "2022-01-21T09:51:50.138Z"
   },
   {
    "duration": 22,
    "start_time": "2022-01-21T09:51:50.166Z"
   },
   {
    "duration": 38,
    "start_time": "2022-01-21T09:51:50.191Z"
   },
   {
    "duration": 10,
    "start_time": "2022-01-21T09:51:50.231Z"
   },
   {
    "duration": 514,
    "start_time": "2022-01-21T09:51:50.245Z"
   },
   {
    "duration": 17,
    "start_time": "2022-01-21T09:51:50.762Z"
   },
   {
    "duration": 674,
    "start_time": "2022-01-21T09:51:50.875Z"
   },
   {
    "duration": 72,
    "start_time": "2022-01-21T09:51:51.553Z"
   },
   {
    "duration": 692,
    "start_time": "2022-01-21T09:51:51.628Z"
   },
   {
    "duration": 513,
    "start_time": "2022-01-21T09:51:52.323Z"
   },
   {
    "duration": 24,
    "start_time": "2022-01-21T09:51:52.840Z"
   },
   {
    "duration": 847,
    "start_time": "2022-01-21T09:51:52.866Z"
   },
   {
    "duration": 32,
    "start_time": "2022-01-21T09:51:53.717Z"
   },
   {
    "duration": 482,
    "start_time": "2022-01-21T09:51:53.752Z"
   },
   {
    "duration": 221,
    "start_time": "2022-01-21T09:51:54.238Z"
   },
   {
    "duration": 15,
    "start_time": "2022-01-21T09:51:54.461Z"
   },
   {
    "duration": 22,
    "start_time": "2022-01-21T09:51:54.898Z"
   },
   {
    "duration": 453,
    "start_time": "2022-01-21T09:51:54.978Z"
   },
   {
    "duration": 1504,
    "start_time": "2022-01-21T09:51:55.434Z"
   },
   {
    "duration": 27,
    "start_time": "2022-01-21T09:51:56.941Z"
   },
   {
    "duration": 10,
    "start_time": "2022-01-21T09:51:56.971Z"
   },
   {
    "duration": 44,
    "start_time": "2022-01-21T09:51:56.983Z"
   },
   {
    "duration": 17,
    "start_time": "2022-01-21T09:51:57.030Z"
   },
   {
    "duration": 24,
    "start_time": "2022-01-21T09:51:57.050Z"
   },
   {
    "duration": 14,
    "start_time": "2022-01-21T09:51:57.144Z"
   },
   {
    "duration": 25,
    "start_time": "2022-01-21T09:51:57.587Z"
   },
   {
    "duration": 1005,
    "start_time": "2022-01-21T09:51:57.728Z"
   },
   {
    "duration": 216,
    "start_time": "2022-01-21T11:30:02.176Z"
   },
   {
    "duration": 1997,
    "start_time": "2022-01-22T03:42:57.691Z"
   },
   {
    "duration": 34,
    "start_time": "2022-01-22T03:42:59.692Z"
   },
   {
    "duration": 52,
    "start_time": "2022-01-22T03:42:59.730Z"
   },
   {
    "duration": 29,
    "start_time": "2022-01-22T03:42:59.785Z"
   },
   {
    "duration": 52,
    "start_time": "2022-01-22T03:42:59.817Z"
   },
   {
    "duration": 9,
    "start_time": "2022-01-22T03:42:59.872Z"
   },
   {
    "duration": 10,
    "start_time": "2022-01-22T03:42:59.884Z"
   },
   {
    "duration": 500,
    "start_time": "2022-01-22T03:42:59.899Z"
   },
   {
    "duration": 16,
    "start_time": "2022-01-22T03:43:00.403Z"
   },
   {
    "duration": 760,
    "start_time": "2022-01-22T03:43:00.421Z"
   },
   {
    "duration": 88,
    "start_time": "2022-01-22T03:43:01.183Z"
   },
   {
    "duration": 790,
    "start_time": "2022-01-22T03:43:01.274Z"
   },
   {
    "duration": 471,
    "start_time": "2022-01-22T03:43:02.067Z"
   },
   {
    "duration": 31,
    "start_time": "2022-01-22T03:43:02.541Z"
   },
   {
    "duration": 605,
    "start_time": "2022-01-22T03:43:02.574Z"
   },
   {
    "duration": 23,
    "start_time": "2022-01-22T03:43:03.182Z"
   },
   {
    "duration": 486,
    "start_time": "2022-01-22T03:43:03.207Z"
   },
   {
    "duration": 216,
    "start_time": "2022-01-22T03:43:03.696Z"
   },
   {
    "duration": 15,
    "start_time": "2022-01-22T03:43:03.915Z"
   },
   {
    "duration": 45,
    "start_time": "2022-01-22T03:43:03.934Z"
   },
   {
    "duration": 470,
    "start_time": "2022-01-22T03:43:03.982Z"
   },
   {
    "duration": 1477,
    "start_time": "2022-01-22T03:43:04.455Z"
   },
   {
    "duration": 27,
    "start_time": "2022-01-22T03:43:05.936Z"
   },
   {
    "duration": 3,
    "start_time": "2022-01-22T03:43:05.966Z"
   },
   {
    "duration": 36,
    "start_time": "2022-01-22T03:43:05.972Z"
   },
   {
    "duration": 25,
    "start_time": "2022-01-22T03:43:06.011Z"
   },
   {
    "duration": 47,
    "start_time": "2022-01-22T03:43:06.039Z"
   },
   {
    "duration": 14,
    "start_time": "2022-01-22T03:43:06.088Z"
   },
   {
    "duration": 25,
    "start_time": "2022-01-22T03:43:06.104Z"
   },
   {
    "duration": 718,
    "start_time": "2022-01-22T03:43:06.164Z"
   },
   {
    "duration": 110,
    "start_time": "2022-01-22T03:43:06.885Z"
   },
   {
    "duration": 21,
    "start_time": "2022-01-22T03:49:20.382Z"
   },
   {
    "duration": 660,
    "start_time": "2022-01-22T03:51:57.319Z"
   },
   {
    "duration": 667,
    "start_time": "2022-01-22T03:52:35.152Z"
   },
   {
    "duration": 12,
    "start_time": "2022-01-22T03:53:21.441Z"
   },
   {
    "duration": 10,
    "start_time": "2022-01-22T03:53:33.592Z"
   },
   {
    "duration": 668,
    "start_time": "2022-01-22T03:53:40.517Z"
   },
   {
    "duration": 13,
    "start_time": "2022-01-22T03:54:21.784Z"
   },
   {
    "duration": 947,
    "start_time": "2022-01-22T03:54:24.422Z"
   },
   {
    "duration": 787,
    "start_time": "2022-01-22T03:54:44.272Z"
   },
   {
    "duration": 672,
    "start_time": "2022-01-22T03:54:56.662Z"
   },
   {
    "duration": 671,
    "start_time": "2022-01-22T03:55:01.440Z"
   },
   {
    "duration": 620,
    "start_time": "2022-01-22T03:55:10.509Z"
   },
   {
    "duration": 788,
    "start_time": "2022-01-22T03:56:53.229Z"
   },
   {
    "duration": 1433,
    "start_time": "2022-12-06T06:33:50.303Z"
   },
   {
    "duration": 23,
    "start_time": "2022-12-06T06:33:51.737Z"
   },
   {
    "duration": 19,
    "start_time": "2022-12-06T06:33:51.761Z"
   },
   {
    "duration": 19,
    "start_time": "2022-12-06T06:33:51.782Z"
   },
   {
    "duration": 15,
    "start_time": "2022-12-06T06:33:51.802Z"
   },
   {
    "duration": 7,
    "start_time": "2022-12-06T06:33:51.818Z"
   },
   {
    "duration": 17,
    "start_time": "2022-12-06T06:33:51.826Z"
   },
   {
    "duration": 209,
    "start_time": "2022-12-06T06:33:51.844Z"
   },
   {
    "duration": 11,
    "start_time": "2022-12-06T06:33:52.055Z"
   },
   {
    "duration": 141,
    "start_time": "2022-12-06T06:33:52.077Z"
   },
   {
    "duration": 19,
    "start_time": "2022-12-06T06:33:52.220Z"
   },
   {
    "duration": 273,
    "start_time": "2022-12-06T06:33:52.241Z"
   },
   {
    "duration": 223,
    "start_time": "2022-12-06T06:33:52.516Z"
   },
   {
    "duration": 15,
    "start_time": "2022-12-06T06:33:52.741Z"
   },
   {
    "duration": 228,
    "start_time": "2022-12-06T06:33:52.758Z"
   },
   {
    "duration": 16,
    "start_time": "2022-12-06T06:33:52.988Z"
   },
   {
    "duration": 206,
    "start_time": "2022-12-06T06:33:53.006Z"
   },
   {
    "duration": 235,
    "start_time": "2022-12-06T06:33:53.214Z"
   },
   {
    "duration": 13,
    "start_time": "2022-12-06T06:33:53.451Z"
   },
   {
    "duration": 21,
    "start_time": "2022-12-06T06:33:53.466Z"
   },
   {
    "duration": 259,
    "start_time": "2022-12-06T06:33:53.488Z"
   },
   {
    "duration": 1211,
    "start_time": "2022-12-06T06:33:53.749Z"
   },
   {
    "duration": 17,
    "start_time": "2022-12-06T06:33:54.964Z"
   },
   {
    "duration": 2,
    "start_time": "2022-12-06T06:33:54.983Z"
   },
   {
    "duration": 17,
    "start_time": "2022-12-06T06:33:54.987Z"
   },
   {
    "duration": 16,
    "start_time": "2022-12-06T06:33:55.005Z"
   },
   {
    "duration": 20,
    "start_time": "2022-12-06T06:33:55.023Z"
   },
   {
    "duration": 9,
    "start_time": "2022-12-06T06:33:55.046Z"
   },
   {
    "duration": 18,
    "start_time": "2022-12-06T06:33:55.079Z"
   },
   {
    "duration": 332,
    "start_time": "2022-12-06T06:33:55.099Z"
   },
   {
    "duration": 11,
    "start_time": "2022-12-06T06:33:55.432Z"
   },
   {
    "duration": 297,
    "start_time": "2022-12-06T06:33:55.445Z"
   },
   {
    "duration": 36,
    "start_time": "2022-12-06T06:33:55.744Z"
   },
   {
    "duration": 156,
    "start_time": "2022-12-06T06:36:15.090Z"
   },
   {
    "duration": 17,
    "start_time": "2022-12-06T06:36:20.455Z"
   },
   {
    "duration": 17,
    "start_time": "2022-12-06T06:37:12.474Z"
   },
   {
    "duration": 14,
    "start_time": "2022-12-06T06:37:27.788Z"
   },
   {
    "duration": 1300,
    "start_time": "2022-12-06T06:37:33.009Z"
   },
   {
    "duration": 23,
    "start_time": "2022-12-06T06:37:34.311Z"
   },
   {
    "duration": 47,
    "start_time": "2022-12-06T06:37:34.336Z"
   },
   {
    "duration": 34,
    "start_time": "2022-12-06T06:37:34.385Z"
   },
   {
    "duration": 19,
    "start_time": "2022-12-06T06:37:34.420Z"
   },
   {
    "duration": 33,
    "start_time": "2022-12-06T06:37:34.441Z"
   },
   {
    "duration": 36,
    "start_time": "2022-12-06T06:37:34.476Z"
   },
   {
    "duration": 206,
    "start_time": "2022-12-06T06:37:34.514Z"
   },
   {
    "duration": 11,
    "start_time": "2022-12-06T06:37:34.722Z"
   },
   {
    "duration": 167,
    "start_time": "2022-12-06T06:37:34.736Z"
   },
   {
    "duration": 25,
    "start_time": "2022-12-06T06:37:34.905Z"
   },
   {
    "duration": 282,
    "start_time": "2022-12-06T06:37:34.932Z"
   },
   {
    "duration": 214,
    "start_time": "2022-12-06T06:37:35.216Z"
   },
   {
    "duration": 15,
    "start_time": "2022-12-06T06:37:35.431Z"
   },
   {
    "duration": 264,
    "start_time": "2022-12-06T06:37:35.447Z"
   },
   {
    "duration": 18,
    "start_time": "2022-12-06T06:37:35.713Z"
   },
   {
    "duration": 237,
    "start_time": "2022-12-06T06:37:35.733Z"
   },
   {
    "duration": 258,
    "start_time": "2022-12-06T06:37:35.978Z"
   },
   {
    "duration": 16,
    "start_time": "2022-12-06T06:37:36.238Z"
   },
   {
    "duration": 56,
    "start_time": "2022-12-06T06:37:36.256Z"
   },
   {
    "duration": 298,
    "start_time": "2022-12-06T06:37:36.315Z"
   },
   {
    "duration": 1107,
    "start_time": "2022-12-06T06:37:36.615Z"
   },
   {
    "duration": 19,
    "start_time": "2022-12-06T06:37:37.723Z"
   },
   {
    "duration": 31,
    "start_time": "2022-12-06T06:37:37.743Z"
   },
   {
    "duration": 39,
    "start_time": "2022-12-06T06:37:37.776Z"
   },
   {
    "duration": 47,
    "start_time": "2022-12-06T06:37:37.816Z"
   },
   {
    "duration": 53,
    "start_time": "2022-12-06T06:37:37.864Z"
   },
   {
    "duration": 36,
    "start_time": "2022-12-06T06:37:37.921Z"
   },
   {
    "duration": 46,
    "start_time": "2022-12-06T06:37:37.959Z"
   },
   {
    "duration": 333,
    "start_time": "2022-12-06T06:37:38.007Z"
   },
   {
    "duration": 11,
    "start_time": "2022-12-06T06:37:38.341Z"
   },
   {
    "duration": 311,
    "start_time": "2022-12-06T06:37:38.354Z"
   },
   {
    "duration": 41,
    "start_time": "2022-12-06T06:37:38.666Z"
   },
   {
    "duration": 149,
    "start_time": "2022-12-06T06:37:45.419Z"
   },
   {
    "duration": 1337,
    "start_time": "2022-12-06T06:37:55.650Z"
   },
   {
    "duration": 28,
    "start_time": "2022-12-06T06:37:56.989Z"
   },
   {
    "duration": 20,
    "start_time": "2022-12-06T06:37:57.019Z"
   },
   {
    "duration": 38,
    "start_time": "2022-12-06T06:37:57.041Z"
   },
   {
    "duration": 16,
    "start_time": "2022-12-06T06:37:57.081Z"
   },
   {
    "duration": 6,
    "start_time": "2022-12-06T06:37:57.098Z"
   },
   {
    "duration": 10,
    "start_time": "2022-12-06T06:37:57.106Z"
   },
   {
    "duration": 235,
    "start_time": "2022-12-06T06:37:57.117Z"
   },
   {
    "duration": 12,
    "start_time": "2022-12-06T06:37:57.353Z"
   },
   {
    "duration": 151,
    "start_time": "2022-12-06T06:37:57.377Z"
   },
   {
    "duration": 20,
    "start_time": "2022-12-06T06:37:57.529Z"
   },
   {
    "duration": 241,
    "start_time": "2022-12-06T06:37:57.551Z"
   },
   {
    "duration": 216,
    "start_time": "2022-12-06T06:37:57.794Z"
   },
   {
    "duration": 15,
    "start_time": "2022-12-06T06:37:58.012Z"
   },
   {
    "duration": 214,
    "start_time": "2022-12-06T06:37:58.029Z"
   },
   {
    "duration": 14,
    "start_time": "2022-12-06T06:37:58.245Z"
   },
   {
    "duration": 219,
    "start_time": "2022-12-06T06:37:58.261Z"
   },
   {
    "duration": 237,
    "start_time": "2022-12-06T06:37:58.482Z"
   },
   {
    "duration": 13,
    "start_time": "2022-12-06T06:37:58.721Z"
   },
   {
    "duration": 17,
    "start_time": "2022-12-06T06:37:58.735Z"
   },
   {
    "duration": 252,
    "start_time": "2022-12-06T06:37:58.754Z"
   },
   {
    "duration": 1052,
    "start_time": "2022-12-06T06:37:59.008Z"
   },
   {
    "duration": 16,
    "start_time": "2022-12-06T06:38:00.061Z"
   },
   {
    "duration": 6,
    "start_time": "2022-12-06T06:38:00.079Z"
   },
   {
    "duration": 63,
    "start_time": "2022-12-06T06:38:00.086Z"
   },
   {
    "duration": 56,
    "start_time": "2022-12-06T06:38:00.150Z"
   },
   {
    "duration": 67,
    "start_time": "2022-12-06T06:38:00.208Z"
   },
   {
    "duration": 69,
    "start_time": "2022-12-06T06:38:00.279Z"
   },
   {
    "duration": 74,
    "start_time": "2022-12-06T06:38:00.350Z"
   },
   {
    "duration": 346,
    "start_time": "2022-12-06T06:38:00.426Z"
   },
   {
    "duration": 9,
    "start_time": "2022-12-06T06:38:00.778Z"
   },
   {
    "duration": 306,
    "start_time": "2022-12-06T06:38:00.789Z"
   },
   {
    "duration": 35,
    "start_time": "2022-12-06T06:38:01.097Z"
   }
  ],
  "kernelspec": {
   "display_name": "Python 3 (ipykernel)",
   "language": "python",
   "name": "python3"
  },
  "language_info": {
   "codemirror_mode": {
    "name": "ipython",
    "version": 3
   },
   "file_extension": ".py",
   "mimetype": "text/x-python",
   "name": "python",
   "nbconvert_exporter": "python",
   "pygments_lexer": "ipython3",
   "version": "3.7.3"
  },
  "toc": {
   "base_numbering": 1,
   "nav_menu": {},
   "number_sections": true,
   "sideBar": true,
   "skip_h1_title": true,
   "title_cell": "Table of Contents",
   "title_sidebar": "Contents",
   "toc_cell": false,
   "toc_position": {
    "height": "calc(100% - 180px)",
    "left": "10px",
    "top": "150px",
    "width": "289.6px"
   },
   "toc_section_display": true,
   "toc_window_display": false
  }
 },
 "nbformat": 4,
 "nbformat_minor": 2
}
