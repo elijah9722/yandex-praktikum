{
 "cells": [
  {
   "cell_type": "markdown",
   "metadata": {
    "id": "E0vqbgi9ay0H"
   },
   "source": [
    "# Яндекс.Музыка"
   ]
  },
  {
   "cell_type": "markdown",
   "metadata": {
    "id": "VUC88oWjTJw2"
   },
   "source": [
    "Сравнение Москвы и Петербурга окружено мифами. Например:\n",
    " * Москва — мегаполис, подчинённый жёсткому ритму рабочей недели;\n",
    " * Петербург — культурная столица, со своими вкусами.\n",
    "\n",
    "На данных Яндекс.Музыки вы сравните поведение пользователей двух столиц.\n",
    "\n",
    "**Цель исследования** — проверьте три гипотезы:\n",
    "1. Активность пользователей зависит от дня недели. Причём в Москве и Петербурге это проявляется по-разному.\n",
    "2. В понедельник утром в Москве преобладают одни жанры, а в Петербурге — другие. Так же и вечером пятницы преобладают разные жанры — в зависимости от города. \n",
    "3. Москва и Петербург предпочитают разные жанры музыки. В Москве чаще слушают поп-музыку, в Петербурге — русский рэп.\n",
    "\n",
    "**Ход исследования**\n",
    "\n",
    "Данные о поведении пользователей вы получите из файла `yandex_music_project.csv`. О качестве данных ничего не известно. Поэтому перед проверкой гипотез понадобится обзор данных. \n",
    "\n",
    "Вы проверите данные на ошибки и оцените их влияние на исследование. Затем, на этапе предобработки вы поищете возможность исправить самые критичные ошибки данных.\n",
    " \n",
    "Таким образом, исследование пройдёт в три этапа:\n",
    " 1. Обзор данных.\n",
    " 2. Предобработка данных.\n",
    " 3. Проверка гипотез.\n",
    "\n"
   ]
  },
  {
   "cell_type": "markdown",
   "metadata": {
    "id": "Ml1hmfXC_Zcs"
   },
   "source": [
    "## Обзор данных\n",
    "\n",
    "Составьте первое представление о данных Яндекс.Музыки.\n",
    "\n",
    "\n"
   ]
  },
  {
   "cell_type": "markdown",
   "metadata": {
    "id": "57eAOGIz_Zcs"
   },
   "source": [
    "Основной инструмент аналитика — `pandas`. Импортируйте эту библиотеку."
   ]
  },
  {
   "cell_type": "code",
   "execution_count": 1,
   "metadata": {
    "id": "AXN7PHPN_Zcs"
   },
   "outputs": [],
   "source": [
    "import pandas as pd # импорт библиотеки pandas"
   ]
  },
  {
   "cell_type": "markdown",
   "metadata": {
    "id": "SG23P8tt_Zcs"
   },
   "source": [
    "Прочитайте файл `yandex_music_project.csv` из папки `/datasets` и сохраните его в переменной `df`:"
   ]
  },
  {
   "cell_type": "code",
   "execution_count": 2,
   "metadata": {
    "id": "fFVu7vqh_Zct"
   },
   "outputs": [],
   "source": [
    "df = pd.read_csv('/datasets/yandex_music_project.csv') # чтение файла с данными и сохранение в df"
   ]
  },
  {
   "cell_type": "markdown",
   "metadata": {
    "id": "rDoOMd3uTqnZ"
   },
   "source": [
    "Выведите на экран первые десять строк таблицы:"
   ]
  },
  {
   "cell_type": "code",
   "execution_count": 3,
   "metadata": {
    "id": "oWTVX3gW_Zct"
   },
   "outputs": [
    {
     "data": {
      "text/html": [
       "<div>\n",
       "<style scoped>\n",
       "    .dataframe tbody tr th:only-of-type {\n",
       "        vertical-align: middle;\n",
       "    }\n",
       "\n",
       "    .dataframe tbody tr th {\n",
       "        vertical-align: top;\n",
       "    }\n",
       "\n",
       "    .dataframe thead th {\n",
       "        text-align: right;\n",
       "    }\n",
       "</style>\n",
       "<table border=\"1\" class=\"dataframe\">\n",
       "  <thead>\n",
       "    <tr style=\"text-align: right;\">\n",
       "      <th></th>\n",
       "      <th>userID</th>\n",
       "      <th>Track</th>\n",
       "      <th>artist</th>\n",
       "      <th>genre</th>\n",
       "      <th>City</th>\n",
       "      <th>time</th>\n",
       "      <th>Day</th>\n",
       "    </tr>\n",
       "  </thead>\n",
       "  <tbody>\n",
       "    <tr>\n",
       "      <th>0</th>\n",
       "      <td>FFB692EC</td>\n",
       "      <td>Kamigata To Boots</td>\n",
       "      <td>The Mass Missile</td>\n",
       "      <td>rock</td>\n",
       "      <td>Saint-Petersburg</td>\n",
       "      <td>20:28:33</td>\n",
       "      <td>Wednesday</td>\n",
       "    </tr>\n",
       "    <tr>\n",
       "      <th>1</th>\n",
       "      <td>55204538</td>\n",
       "      <td>Delayed Because of Accident</td>\n",
       "      <td>Andreas Rönnberg</td>\n",
       "      <td>rock</td>\n",
       "      <td>Moscow</td>\n",
       "      <td>14:07:09</td>\n",
       "      <td>Friday</td>\n",
       "    </tr>\n",
       "    <tr>\n",
       "      <th>2</th>\n",
       "      <td>20EC38</td>\n",
       "      <td>Funiculì funiculà</td>\n",
       "      <td>Mario Lanza</td>\n",
       "      <td>pop</td>\n",
       "      <td>Saint-Petersburg</td>\n",
       "      <td>20:58:07</td>\n",
       "      <td>Wednesday</td>\n",
       "    </tr>\n",
       "    <tr>\n",
       "      <th>3</th>\n",
       "      <td>A3DD03C9</td>\n",
       "      <td>Dragons in the Sunset</td>\n",
       "      <td>Fire + Ice</td>\n",
       "      <td>folk</td>\n",
       "      <td>Saint-Petersburg</td>\n",
       "      <td>08:37:09</td>\n",
       "      <td>Monday</td>\n",
       "    </tr>\n",
       "    <tr>\n",
       "      <th>4</th>\n",
       "      <td>E2DC1FAE</td>\n",
       "      <td>Soul People</td>\n",
       "      <td>Space Echo</td>\n",
       "      <td>dance</td>\n",
       "      <td>Moscow</td>\n",
       "      <td>08:34:34</td>\n",
       "      <td>Monday</td>\n",
       "    </tr>\n",
       "    <tr>\n",
       "      <th>5</th>\n",
       "      <td>842029A1</td>\n",
       "      <td>Преданная</td>\n",
       "      <td>IMPERVTOR</td>\n",
       "      <td>rusrap</td>\n",
       "      <td>Saint-Petersburg</td>\n",
       "      <td>13:09:41</td>\n",
       "      <td>Friday</td>\n",
       "    </tr>\n",
       "    <tr>\n",
       "      <th>6</th>\n",
       "      <td>4CB90AA5</td>\n",
       "      <td>True</td>\n",
       "      <td>Roman Messer</td>\n",
       "      <td>dance</td>\n",
       "      <td>Moscow</td>\n",
       "      <td>13:00:07</td>\n",
       "      <td>Wednesday</td>\n",
       "    </tr>\n",
       "    <tr>\n",
       "      <th>7</th>\n",
       "      <td>F03E1C1F</td>\n",
       "      <td>Feeling This Way</td>\n",
       "      <td>Polina Griffith</td>\n",
       "      <td>dance</td>\n",
       "      <td>Moscow</td>\n",
       "      <td>20:47:49</td>\n",
       "      <td>Wednesday</td>\n",
       "    </tr>\n",
       "    <tr>\n",
       "      <th>8</th>\n",
       "      <td>8FA1D3BE</td>\n",
       "      <td>И вновь продолжается бой</td>\n",
       "      <td>NaN</td>\n",
       "      <td>ruspop</td>\n",
       "      <td>Moscow</td>\n",
       "      <td>09:17:40</td>\n",
       "      <td>Friday</td>\n",
       "    </tr>\n",
       "    <tr>\n",
       "      <th>9</th>\n",
       "      <td>E772D5C0</td>\n",
       "      <td>Pessimist</td>\n",
       "      <td>NaN</td>\n",
       "      <td>dance</td>\n",
       "      <td>Saint-Petersburg</td>\n",
       "      <td>21:20:49</td>\n",
       "      <td>Wednesday</td>\n",
       "    </tr>\n",
       "  </tbody>\n",
       "</table>\n",
       "</div>"
      ],
      "text/plain": [
       "     userID                        Track            artist   genre  \\\n",
       "0  FFB692EC            Kamigata To Boots  The Mass Missile    rock   \n",
       "1  55204538  Delayed Because of Accident  Andreas Rönnberg    rock   \n",
       "2    20EC38            Funiculì funiculà       Mario Lanza     pop   \n",
       "3  A3DD03C9        Dragons in the Sunset        Fire + Ice    folk   \n",
       "4  E2DC1FAE                  Soul People        Space Echo   dance   \n",
       "5  842029A1                    Преданная         IMPERVTOR  rusrap   \n",
       "6  4CB90AA5                         True      Roman Messer   dance   \n",
       "7  F03E1C1F             Feeling This Way   Polina Griffith   dance   \n",
       "8  8FA1D3BE     И вновь продолжается бой               NaN  ruspop   \n",
       "9  E772D5C0                    Pessimist               NaN   dance   \n",
       "\n",
       "             City        time        Day  \n",
       "0  Saint-Petersburg  20:28:33  Wednesday  \n",
       "1            Moscow  14:07:09     Friday  \n",
       "2  Saint-Petersburg  20:58:07  Wednesday  \n",
       "3  Saint-Petersburg  08:37:09     Monday  \n",
       "4            Moscow  08:34:34     Monday  \n",
       "5  Saint-Petersburg  13:09:41     Friday  \n",
       "6            Moscow  13:00:07  Wednesday  \n",
       "7            Moscow  20:47:49  Wednesday  \n",
       "8            Moscow  09:17:40     Friday  \n",
       "9  Saint-Petersburg  21:20:49  Wednesday  "
      ]
     },
     "metadata": {},
     "output_type": "display_data"
    }
   ],
   "source": [
    "display(df.head(10)) # получение первых 10 строк таблицы df"
   ]
  },
  {
   "cell_type": "markdown",
   "metadata": {
    "id": "EO73Kwic_Zct"
   },
   "source": [
    "Одной командой получить общую информацию о таблице:"
   ]
  },
  {
   "cell_type": "code",
   "execution_count": 4,
   "metadata": {
    "id": "DSf2kIb-_Zct"
   },
   "outputs": [
    {
     "name": "stdout",
     "output_type": "stream",
     "text": [
      "<class 'pandas.core.frame.DataFrame'>\n",
      "RangeIndex: 65079 entries, 0 to 65078\n",
      "Data columns (total 7 columns):\n",
      " #   Column    Non-Null Count  Dtype \n",
      "---  ------    --------------  ----- \n",
      " 0     userID  65079 non-null  object\n",
      " 1   Track     63848 non-null  object\n",
      " 2   artist    57876 non-null  object\n",
      " 3   genre     63881 non-null  object\n",
      " 4     City    65079 non-null  object\n",
      " 5   time      65079 non-null  object\n",
      " 6   Day       65079 non-null  object\n",
      "dtypes: object(7)\n",
      "memory usage: 3.5+ MB\n"
     ]
    }
   ],
   "source": [
    "df.info() # получение общей информации о данных в таблице df"
   ]
  },
  {
   "cell_type": "markdown",
   "metadata": {
    "id": "TaQ2Iwbr_Zct"
   },
   "source": [
    "Итак, в таблице семь столбцов. Тип данных во всех столбцах — `object`.\n",
    "\n",
    "Согласно документации к данным:\n",
    "* `userID` — идентификатор пользователя;\n",
    "* `Track` — название трека;  \n",
    "* `artist` — имя исполнителя;\n",
    "* `genre` — название жанра;\n",
    "* `City` — город пользователя;\n",
    "* `time` — время начала прослушивания;\n",
    "* `Day` — день недели.\n",
    "\n",
    "В названиях колонок видны три нарушения стиля:\n",
    "1. Строчные буквы сочетаются с прописными.\n",
    "2. Встречаются пробелы.\n",
    "3. Отсутствует применение \"змеиного регистра\".\n",
    "\n",
    "\n",
    "\n",
    "Количество значений в столбцах различается. Значит, в данных есть пропущенные значения.\n"
   ]
  },
  {
   "cell_type": "markdown",
   "metadata": {
    "id": "MCB6-dXG_Zct"
   },
   "source": [
    "**Выводы**\n",
    "\n",
    "В каждой строке таблицы — данные о прослушанном треке. Часть колонок описывает саму композицию: название, исполнителя и жанр. Остальные данные рассказывают о пользователе: из какого он города, когда он слушал музыку. \n",
    "\n",
    "Предварительно можно утверждать, что, данных достаточно для проверки гипотез. Но встречаются пропуски в данных, а в названиях колонок — расхождения с хорошим стилем.\n",
    "\n",
    "Чтобы двигаться дальше, нужно устранить проблемы в данных."
   ]
  },
  {
   "cell_type": "markdown",
   "metadata": {
    "id": "SjYF6Ub9_Zct"
   },
   "source": [
    "## Предобработка данных\n",
    "Исправьте стиль в заголовках столбцов, исключите пропуски. Затем проверьте данные на дубликаты."
   ]
  },
  {
   "cell_type": "markdown",
   "metadata": {
    "id": "dIaKXr29_Zct"
   },
   "source": [
    "### Стиль заголовков\n",
    "Выведите на экран названия столбцов:"
   ]
  },
  {
   "cell_type": "code",
   "execution_count": 5,
   "metadata": {
    "id": "oKOTdF_Q_Zct"
   },
   "outputs": [
    {
     "data": {
      "text/plain": [
       "Index(['  userID', 'Track', 'artist', 'genre', '  City  ', 'time', 'Day'], dtype='object')"
      ]
     },
     "metadata": {},
     "output_type": "display_data"
    }
   ],
   "source": [
    "display(df.columns) # перечень названий столбцов таблицы df"
   ]
  },
  {
   "cell_type": "markdown",
   "metadata": {
    "id": "FPZA3ki8xe7T"
   },
   "source": []
  },
  {
   "cell_type": "markdown",
   "metadata": {
    "id": "zj5534cv_Zct"
   },
   "source": [
    "Приведите названия в соответствие с хорошим стилем:\n",
    "* несколько слов в названии запишите в «змеином_регистре»,\n",
    "* все символы сделайте строчными,\n",
    "* устраните пробелы.\n",
    "\n",
    "Для этого переименуйте колонки так:\n",
    "* `'  userID'` → `'user_id'`;\n",
    "* `'Track'` → `'track'`;\n",
    "* `'  City  '` → `'city'`;\n",
    "* `'Day'` → `'day'`."
   ]
  },
  {
   "cell_type": "code",
   "execution_count": 6,
   "metadata": {
    "id": "ISlFqs5y_Zct"
   },
   "outputs": [],
   "source": [
    "df = df.rename(columns={'  userID': 'user_id', 'Track': 'track', '  City  ': 'city', 'Day': 'day'}) # переименование столбцов"
   ]
  },
  {
   "cell_type": "markdown",
   "metadata": {
    "id": "1dqbh00J_Zct"
   },
   "source": [
    "Проверьте результат. Для этого ещё раз выведите на экран названия столбцов:"
   ]
  },
  {
   "cell_type": "code",
   "execution_count": 7,
   "metadata": {
    "id": "d4NOAmTW_Zct"
   },
   "outputs": [
    {
     "data": {
      "text/plain": [
       "Index(['user_id', 'track', 'artist', 'genre', 'city', 'time', 'day'], dtype='object')"
      ]
     },
     "metadata": {},
     "output_type": "display_data"
    }
   ],
   "source": [
    "display(df.columns) # проверка результатов - перечень названий столбцов"
   ]
  },
  {
   "cell_type": "markdown",
   "metadata": {
    "id": "5ISfbcfY_Zct"
   },
   "source": [
    "### Пропуски значений\n",
    "Сначала посчитайте, сколько в таблице пропущенных значений. Для этого достаточно двух методов `pandas`:"
   ]
  },
  {
   "cell_type": "code",
   "execution_count": 8,
   "metadata": {
    "id": "RskX29qr_Zct"
   },
   "outputs": [
    {
     "data": {
      "text/plain": [
       "user_id       0\n",
       "track      1231\n",
       "artist     7203\n",
       "genre      1198\n",
       "city          0\n",
       "time          0\n",
       "day           0\n",
       "dtype: int64"
      ]
     },
     "execution_count": 8,
     "metadata": {},
     "output_type": "execute_result"
    }
   ],
   "source": [
    "df.isna().sum() # подсчёт пропусков"
   ]
  },
  {
   "cell_type": "markdown",
   "metadata": {
    "id": "qubhgnlO_Zct"
   },
   "source": [
    "Не все пропущенные значения влияют на исследование. Так в `track` и `artist` пропуски не важны для вашей работы. Достаточно заменить их явными обозначениями.\n",
    "\n",
    "Но пропуски в `genre` могут помешать сравнению музыкальных вкусов в Москве и Санкт-Петербурге. На практике было бы правильно установить причину пропусков и восстановить данные. Такой возможности нет в учебном проекте. Придётся:\n",
    "* заполнить и эти пропуски явными обозначениями,\n",
    "* оценить, насколько они повредят расчётам. "
   ]
  },
  {
   "cell_type": "markdown",
   "metadata": {
    "id": "fSv2laPA_Zct"
   },
   "source": [
    "Замените пропущенные значения в столбцах `track`, `artist` и `genre` на строку `'unknown'`. Для этого создайте список `columns_to_replace`, переберите его элементы циклом `for` и для каждого столбца выполните замену пропущенных значений:"
   ]
  },
  {
   "cell_type": "code",
   "execution_count": 9,
   "metadata": {
    "id": "KplB5qWs_Zct"
   },
   "outputs": [],
   "source": [
    "columns_to_replace = ['track', 'artist', 'genre'] \n",
    "for column in columns_to_replace:\n",
    "    df[column] = df[column].fillna('unknown') # перебор названий столбцов в цикле и замена пропущенных значений на 'unknown'"
   ]
  },
  {
   "cell_type": "markdown",
   "metadata": {
    "id": "Ilsm-MZo_Zct"
   },
   "source": [
    "Убедитесь, что в таблице не осталось пропусков. Для этого ещё раз посчитайте пропущенные значения."
   ]
  },
  {
   "cell_type": "code",
   "execution_count": 10,
   "metadata": {
    "id": "Tq4nYRX4_Zct"
   },
   "outputs": [
    {
     "data": {
      "text/plain": [
       "user_id    0\n",
       "track      0\n",
       "artist     0\n",
       "genre      0\n",
       "city       0\n",
       "time       0\n",
       "day        0\n",
       "dtype: int64"
      ]
     },
     "execution_count": 10,
     "metadata": {},
     "output_type": "execute_result"
    }
   ],
   "source": [
    "df.isna().sum() # подсчёт пропусков"
   ]
  },
  {
   "cell_type": "markdown",
   "metadata": {
    "id": "BWKRtBJ3_Zct"
   },
   "source": [
    "### Дубликаты\n",
    "Посчитайте явные дубликаты в таблице одной командой:"
   ]
  },
  {
   "cell_type": "code",
   "execution_count": 11,
   "metadata": {
    "id": "36eES_S0_Zct"
   },
   "outputs": [
    {
     "data": {
      "text/plain": [
       "3826"
      ]
     },
     "execution_count": 11,
     "metadata": {},
     "output_type": "execute_result"
    }
   ],
   "source": [
    "df.duplicated().sum() # подсчёт явных дубликатов"
   ]
  },
  {
   "cell_type": "markdown",
   "metadata": {
    "id": "Ot25h6XR_Zct"
   },
   "source": [
    "Вызовите специальный метод `pandas`, чтобы удалить явные дубликаты:"
   ]
  },
  {
   "cell_type": "code",
   "execution_count": 12,
   "metadata": {
    "id": "exFHq6tt_Zct"
   },
   "outputs": [],
   "source": [
    "df = df.drop_duplicates() # удаление явных дубликатов (с удалением старых индексов и формированием новых)"
   ]
  },
  {
   "cell_type": "markdown",
   "metadata": {
    "id": "Im2YwBEG_Zct"
   },
   "source": [
    "Ещё раз посчитайте явные дубликаты в таблице — убедитесь, что полностью от них избавились:"
   ]
  },
  {
   "cell_type": "code",
   "execution_count": 13,
   "metadata": {
    "id": "-8PuNWQ0_Zct"
   },
   "outputs": [
    {
     "data": {
      "text/plain": [
       "0"
      ]
     },
     "execution_count": 13,
     "metadata": {},
     "output_type": "execute_result"
    }
   ],
   "source": [
    "df.duplicated().sum() # проверка на отсутствие дубликатов"
   ]
  },
  {
   "cell_type": "markdown",
   "metadata": {
    "id": "QlFBsxAr_Zct"
   },
   "source": [
    "Теперь избавьтесь от неявных дубликатов в колонке `genre`. Например, название одного и того же жанра может быть записано немного по-разному. Такие ошибки тоже повлияют на результат исследования."
   ]
  },
  {
   "cell_type": "markdown",
   "metadata": {
    "id": "eSjWwsOh_Zct"
   },
   "source": [
    "Выведите на экран список уникальных названий жанров, отсортированный в алфавитном порядке. Для этого:\n",
    "* извлеките нужный столбец датафрейма, \n",
    "* примените к нему метод сортировки,\n",
    "* для отсортированного столбца вызовите метод, который вернёт уникальные значения из столбца."
   ]
  },
  {
   "cell_type": "code",
   "execution_count": 14,
   "metadata": {
    "id": "JIUcqzZN_Zct"
   },
   "outputs": [
    {
     "data": {
      "text/plain": [
       "array(['acid', 'acoustic', 'action', 'adult', 'africa', 'afrikaans',\n",
       "       'alternative', 'alternativepunk', 'ambient', 'americana',\n",
       "       'animated', 'anime', 'arabesk', 'arabic', 'arena',\n",
       "       'argentinetango', 'art', 'audiobook', 'author', 'avantgarde',\n",
       "       'axé', 'baile', 'balkan', 'beats', 'bigroom', 'black', 'bluegrass',\n",
       "       'blues', 'bollywood', 'bossa', 'brazilian', 'breakbeat', 'breaks',\n",
       "       'broadway', 'cantautori', 'cantopop', 'canzone', 'caribbean',\n",
       "       'caucasian', 'celtic', 'chamber', 'chanson', 'children', 'chill',\n",
       "       'chinese', 'choral', 'christian', 'christmas', 'classical',\n",
       "       'classicmetal', 'club', 'colombian', 'comedy', 'conjazz',\n",
       "       'contemporary', 'country', 'cuban', 'dance', 'dancehall',\n",
       "       'dancepop', 'dark', 'death', 'deep', 'deutschrock', 'deutschspr',\n",
       "       'dirty', 'disco', 'dnb', 'documentary', 'downbeat', 'downtempo',\n",
       "       'drum', 'dub', 'dubstep', 'eastern', 'easy', 'electronic',\n",
       "       'electropop', 'emo', 'entehno', 'epicmetal', 'estrada', 'ethnic',\n",
       "       'eurofolk', 'european', 'experimental', 'extrememetal', 'fado',\n",
       "       'fairytail', 'film', 'fitness', 'flamenco', 'folk', 'folklore',\n",
       "       'folkmetal', 'folkrock', 'folktronica', 'forró', 'frankreich',\n",
       "       'französisch', 'french', 'funk', 'future', 'gangsta', 'garage',\n",
       "       'german', 'ghazal', 'gitarre', 'glitch', 'gospel', 'gothic',\n",
       "       'grime', 'grunge', 'gypsy', 'handsup', \"hard'n'heavy\", 'hardcore',\n",
       "       'hardstyle', 'hardtechno', 'hip', 'hip-hop', 'hiphop',\n",
       "       'historisch', 'holiday', 'hop', 'horror', 'house', 'hymn', 'idm',\n",
       "       'independent', 'indian', 'indie', 'indipop', 'industrial',\n",
       "       'inspirational', 'instrumental', 'international', 'irish', 'jam',\n",
       "       'japanese', 'jazz', 'jewish', 'jpop', 'jungle', 'k-pop',\n",
       "       'karadeniz', 'karaoke', 'kayokyoku', 'korean', 'laiko', 'latin',\n",
       "       'latino', 'leftfield', 'local', 'lounge', 'loungeelectronic',\n",
       "       'lovers', 'malaysian', 'mandopop', 'marschmusik', 'meditative',\n",
       "       'mediterranean', 'melodic', 'metal', 'metalcore', 'mexican',\n",
       "       'middle', 'minimal', 'miscellaneous', 'modern', 'mood', 'mpb',\n",
       "       'muslim', 'native', 'neoklassik', 'neue', 'new', 'newage',\n",
       "       'newwave', 'nu', 'nujazz', 'numetal', 'oceania', 'old', 'opera',\n",
       "       'orchestral', 'other', 'piano', 'podcasts', 'pop', 'popdance',\n",
       "       'popelectronic', 'popeurodance', 'poprussian', 'post',\n",
       "       'posthardcore', 'postrock', 'power', 'progmetal', 'progressive',\n",
       "       'psychedelic', 'punjabi', 'punk', 'quebecois', 'ragga', 'ram',\n",
       "       'rancheras', 'rap', 'rave', 'reggae', 'reggaeton', 'regional',\n",
       "       'relax', 'religious', 'retro', 'rhythm', 'rnb', 'rnr', 'rock',\n",
       "       'rockabilly', 'rockalternative', 'rockindie', 'rockother',\n",
       "       'romance', 'roots', 'ruspop', 'rusrap', 'rusrock', 'russian',\n",
       "       'salsa', 'samba', 'scenic', 'schlager', 'self', 'sertanejo',\n",
       "       'shanson', 'shoegazing', 'showtunes', 'singer', 'ska', 'skarock',\n",
       "       'slow', 'smooth', 'soft', 'soul', 'soulful', 'sound', 'soundtrack',\n",
       "       'southern', 'specialty', 'speech', 'spiritual', 'sport',\n",
       "       'stonerrock', 'surf', 'swing', 'synthpop', 'synthrock',\n",
       "       'sängerportrait', 'tango', 'tanzorchester', 'taraftar', 'tatar',\n",
       "       'tech', 'techno', 'teen', 'thrash', 'top', 'traditional',\n",
       "       'tradjazz', 'trance', 'tribal', 'trip', 'triphop', 'tropical',\n",
       "       'türk', 'türkçe', 'ukrrock', 'unknown', 'urban', 'uzbek',\n",
       "       'variété', 'vi', 'videogame', 'vocal', 'western', 'world',\n",
       "       'worldbeat', 'ïîï', 'электроника'], dtype=object)"
      ]
     },
     "metadata": {},
     "output_type": "display_data"
    }
   ],
   "source": [
    "df_sorted = df.sort_values(by='genre')\n",
    "df_sorted = df_sorted['genre'].unique() # Просмотр уникальных названий жанров\n",
    "display(df_sorted)"
   ]
  },
  {
   "cell_type": "markdown",
   "metadata": {
    "id": "qej-Qmuo_Zct"
   },
   "source": [
    "Просмотрите список и найдите неявные дубликаты названия `hiphop`. Это могут быть названия с ошибками или альтернативные названия того же жанра.\n",
    "\n",
    "Вы увидите следующие неявные дубликаты:\n",
    "* *hip*,\n",
    "* *hop*,\n",
    "* *hip-hop*.\n",
    "\n",
    "Чтобы очистить от них таблицу, напишите функцию `replace_wrong_genres()` с двумя параметрами: \n",
    "* `wrong_genres` — список дубликатов,\n",
    "* `correct_genre` — строка с правильным значением.\n",
    "\n",
    "Функция должна исправить колонку `genre` в таблице `df`: заменить каждое значение из списка `wrong_genres` на значение из `correct_genre`."
   ]
  },
  {
   "cell_type": "code",
   "execution_count": 15,
   "metadata": {
    "id": "ErNDkmns_Zct"
   },
   "outputs": [],
   "source": [
    "def replace_wrong_genres(wrong_genres, correct_genre): # Функция для замены неявных дубликатов\n",
    "    for wrong_genre in wrong_genres:\n",
    "        df['genre'] = df['genre'].replace(wrong_genre, correct_genre)"
   ]
  },
  {
   "cell_type": "markdown",
   "metadata": {
    "id": "aDoBJxbA_Zct"
   },
   "source": [
    "Вызовите `replace_wrong_genres()` и передайте ей такие аргументы, чтобы она устранила неявные дубликаты: вместо `hip`, `hop` и `hip-hop` в таблице должно быть значение `hiphop`:"
   ]
  },
  {
   "cell_type": "code",
   "execution_count": 16,
   "metadata": {
    "id": "YN5i2hpmSo09"
   },
   "outputs": [],
   "source": [
    "wrong = ['hip', 'hop', 'hip-hop']\n",
    "correct = 'hiphop'\n",
    "\n",
    "replace_wrong_genres(wrong, correct) # Устранение неявных дубликатов"
   ]
  },
  {
   "cell_type": "markdown",
   "metadata": {
    "id": "zQKF16_RG15m"
   },
   "source": [
    "Проверьте, что заменили неправильные названия:\n",
    "\n",
    "*   hip\n",
    "*   hop\n",
    "*   hip-hop\n",
    "\n",
    "\n",
    "Выведите отсортированный список уникальных значений столбца `genre`:"
   ]
  },
  {
   "cell_type": "code",
   "execution_count": 17,
   "metadata": {
    "id": "wvixALnFG15m"
   },
   "outputs": [
    {
     "data": {
      "text/plain": [
       "array(['acid', 'acoustic', 'action', 'adult', 'africa', 'afrikaans',\n",
       "       'alternative', 'alternativepunk', 'ambient', 'americana',\n",
       "       'animated', 'anime', 'arabesk', 'arabic', 'arena',\n",
       "       'argentinetango', 'art', 'audiobook', 'author', 'avantgarde',\n",
       "       'axé', 'baile', 'balkan', 'beats', 'bigroom', 'black', 'bluegrass',\n",
       "       'blues', 'bollywood', 'bossa', 'brazilian', 'breakbeat', 'breaks',\n",
       "       'broadway', 'cantautori', 'cantopop', 'canzone', 'caribbean',\n",
       "       'caucasian', 'celtic', 'chamber', 'chanson', 'children', 'chill',\n",
       "       'chinese', 'choral', 'christian', 'christmas', 'classical',\n",
       "       'classicmetal', 'club', 'colombian', 'comedy', 'conjazz',\n",
       "       'contemporary', 'country', 'cuban', 'dance', 'dancehall',\n",
       "       'dancepop', 'dark', 'death', 'deep', 'deutschrock', 'deutschspr',\n",
       "       'dirty', 'disco', 'dnb', 'documentary', 'downbeat', 'downtempo',\n",
       "       'drum', 'dub', 'dubstep', 'eastern', 'easy', 'electronic',\n",
       "       'electropop', 'emo', 'entehno', 'epicmetal', 'estrada', 'ethnic',\n",
       "       'eurofolk', 'european', 'experimental', 'extrememetal', 'fado',\n",
       "       'fairytail', 'film', 'fitness', 'flamenco', 'folk', 'folklore',\n",
       "       'folkmetal', 'folkrock', 'folktronica', 'forró', 'frankreich',\n",
       "       'französisch', 'french', 'funk', 'future', 'gangsta', 'garage',\n",
       "       'german', 'ghazal', 'gitarre', 'glitch', 'gospel', 'gothic',\n",
       "       'grime', 'grunge', 'gypsy', 'handsup', \"hard'n'heavy\", 'hardcore',\n",
       "       'hardstyle', 'hardtechno', 'hip', 'hip-hop', 'hiphop',\n",
       "       'historisch', 'holiday', 'hop', 'horror', 'house', 'hymn', 'idm',\n",
       "       'independent', 'indian', 'indie', 'indipop', 'industrial',\n",
       "       'inspirational', 'instrumental', 'international', 'irish', 'jam',\n",
       "       'japanese', 'jazz', 'jewish', 'jpop', 'jungle', 'k-pop',\n",
       "       'karadeniz', 'karaoke', 'kayokyoku', 'korean', 'laiko', 'latin',\n",
       "       'latino', 'leftfield', 'local', 'lounge', 'loungeelectronic',\n",
       "       'lovers', 'malaysian', 'mandopop', 'marschmusik', 'meditative',\n",
       "       'mediterranean', 'melodic', 'metal', 'metalcore', 'mexican',\n",
       "       'middle', 'minimal', 'miscellaneous', 'modern', 'mood', 'mpb',\n",
       "       'muslim', 'native', 'neoklassik', 'neue', 'new', 'newage',\n",
       "       'newwave', 'nu', 'nujazz', 'numetal', 'oceania', 'old', 'opera',\n",
       "       'orchestral', 'other', 'piano', 'podcasts', 'pop', 'popdance',\n",
       "       'popelectronic', 'popeurodance', 'poprussian', 'post',\n",
       "       'posthardcore', 'postrock', 'power', 'progmetal', 'progressive',\n",
       "       'psychedelic', 'punjabi', 'punk', 'quebecois', 'ragga', 'ram',\n",
       "       'rancheras', 'rap', 'rave', 'reggae', 'reggaeton', 'regional',\n",
       "       'relax', 'religious', 'retro', 'rhythm', 'rnb', 'rnr', 'rock',\n",
       "       'rockabilly', 'rockalternative', 'rockindie', 'rockother',\n",
       "       'romance', 'roots', 'ruspop', 'rusrap', 'rusrock', 'russian',\n",
       "       'salsa', 'samba', 'scenic', 'schlager', 'self', 'sertanejo',\n",
       "       'shanson', 'shoegazing', 'showtunes', 'singer', 'ska', 'skarock',\n",
       "       'slow', 'smooth', 'soft', 'soul', 'soulful', 'sound', 'soundtrack',\n",
       "       'southern', 'specialty', 'speech', 'spiritual', 'sport',\n",
       "       'stonerrock', 'surf', 'swing', 'synthpop', 'synthrock',\n",
       "       'sängerportrait', 'tango', 'tanzorchester', 'taraftar', 'tatar',\n",
       "       'tech', 'techno', 'teen', 'thrash', 'top', 'traditional',\n",
       "       'tradjazz', 'trance', 'tribal', 'trip', 'triphop', 'tropical',\n",
       "       'türk', 'türkçe', 'ukrrock', 'unknown', 'urban', 'uzbek',\n",
       "       'variété', 'vi', 'videogame', 'vocal', 'western', 'world',\n",
       "       'worldbeat', 'ïîï', 'электроника'], dtype=object)"
      ]
     },
     "metadata": {},
     "output_type": "display_data"
    }
   ],
   "source": [
    "display(df_sorted) # Проверка на неявные дубликаты"
   ]
  },
  {
   "cell_type": "markdown",
   "metadata": {
    "id": "jz6a9-7HQUDd"
   },
   "source": [
    "**Выводы**\n",
    "\n",
    "Предобработка обнаружила три проблемы в данных:\n",
    "\n",
    "- нарушения в стиле заголовков,\n",
    "- пропущенные значения,\n",
    "- дубликаты — явные и неявные.\n",
    "\n",
    "Вы исправили заголовки, чтобы упростить работу с таблицей. Без дубликатов исследование станет более точным.\n",
    "\n",
    "Пропущенные значения вы заменили на `'unknown'`. Ещё предстоит увидеть, не повредят ли исследованию пропуски в колонке `genre`.\n",
    "\n",
    "Теперь можно перейти к проверке гипотез. "
   ]
  },
  {
   "cell_type": "markdown",
   "metadata": {
    "id": "WttZHXH0SqKk"
   },
   "source": [
    "## Проверка гипотез"
   ]
  },
  {
   "cell_type": "markdown",
   "metadata": {
    "id": "Im936VVi_Zcu"
   },
   "source": [
    "### Сравнение поведения пользователей двух столиц"
   ]
  },
  {
   "cell_type": "markdown",
   "metadata": {
    "id": "nwt_MuaL_Zcu"
   },
   "source": [
    "Первая гипотеза утверждает, что пользователи по-разному слушают музыку в Москве и Санкт-Петербурге. Проверьте это предположение по данным о трёх днях недели — понедельнике, среде и пятнице. Для этого:\n",
    "\n",
    "* Разделите пользователей Москвы и Санкт-Петербурга\n",
    "* Сравните, сколько треков послушала каждая группа пользователей в понедельник, среду и пятницу.\n"
   ]
  },
  {
   "cell_type": "markdown",
   "metadata": {
    "id": "8Dw_YMmT_Zcu"
   },
   "source": [
    "Для тренировки сначала выполните каждый из расчётов по отдельности. \n",
    "\n",
    "Оцените активность пользователей в каждом городе. Сгруппируйте данные по городу и посчитайте прослушивания в каждой группе.\n",
    "\n"
   ]
  },
  {
   "cell_type": "code",
   "execution_count": 18,
   "metadata": {
    "id": "0_Qs96oh_Zcu"
   },
   "outputs": [
    {
     "data": {
      "text/plain": [
       "city\n",
       "Moscow              42741\n",
       "Saint-Petersburg    18512\n",
       "Name: time, dtype: int64"
      ]
     },
     "metadata": {},
     "output_type": "display_data"
    }
   ],
   "source": [
    "display(df.groupby('city')['time'].count()) # Подсчёт прослушиваний в каждом городе"
   ]
  },
  {
   "cell_type": "markdown",
   "metadata": {
    "id": "dzli3w8o_Zcu"
   },
   "source": [
    "В Москве прослушиваний больше, чем в Петербурге. Из этого не следует, что московские пользователи чаще слушают музыку. Просто самих пользователей в Москве больше.\n",
    "\n",
    "Теперь сгруппируйте данные по дню недели и подсчитайте прослушивания в понедельник, среду и пятницу. Учтите, что в данных есть информация только о прослушиваниях только за эти дни.\n"
   ]
  },
  {
   "cell_type": "code",
   "execution_count": 19,
   "metadata": {
    "id": "uZMKjiJz_Zcu"
   },
   "outputs": [
    {
     "data": {
      "text/plain": [
       "day\n",
       "Friday       21840\n",
       "Monday       21354\n",
       "Wednesday    18059\n",
       "Name: time, dtype: int64"
      ]
     },
     "metadata": {},
     "output_type": "display_data"
    }
   ],
   "source": [
    "display(df.groupby('day')['time'].count()) # Подсчёт прослушиваний в каждый из трёх дней"
   ]
  },
  {
   "cell_type": "markdown",
   "metadata": {
    "id": "cC2tNrlL_Zcu"
   },
   "source": [
    "В среднем пользователи из двух городов менее активны по средам. Но картина может измениться, если рассмотреть каждый город в отдельности."
   ]
  },
  {
   "cell_type": "markdown",
   "metadata": {
    "id": "POzs8bGa_Zcu"
   },
   "source": [
    "Вы видели, как работает группировка по городу и по дням недели. Теперь напишите функцию, которая объединит два эти расчёта.\n",
    "\n",
    "Создайте функцию `number_tracks()`, которая посчитает прослушивания для заданного дня и города. Ей понадобятся два параметра:\n",
    "* день недели,\n",
    "* название города.\n",
    "\n",
    "В функции сохраните в переменную строки исходной таблицы, у которых значение:\n",
    "  * в колонке `day` равно параметру `day`,\n",
    "  * в колонке `city` равно параметру `city`.\n",
    "\n",
    "Для этого примените последовательную фильтрацию с логической индексацией.\n",
    "\n",
    "Затем посчитайте значения в столбце `user_id` получившейся таблицы. Результат сохраните в новую переменную. Верните эту переменную из функции."
   ]
  },
  {
   "cell_type": "code",
   "execution_count": 20,
   "metadata": {
    "id": "Nz3GdQB1_Zcu"
   },
   "outputs": [],
   "source": [
    "# <создание функции number_tracks()>\n",
    "# Объявляется функция с двумя параметрами: day, city.\n",
    "\n",
    "def number_tracks(day, city):\n",
    "    track_list = df[(df['day'] == day)\n",
    "    & (df['city'] == city)]                 \n",
    "    \n",
    "    track_list_count = track_list['user_id'].count()\n",
    "    \n",
    "    return track_list_count\n",
    "\n",
    "# В переменной track_list сохраняются те строки таблицы df, для которых \n",
    "# значение в столбце 'day' равно параметру day и одновременно значение\n",
    "# в столбце 'city' равно параметру city (используйте последовательную фильтрацию\n",
    "# с помощью логической индексации).\n",
    "# В переменной track_list_count сохраняется число значений столбца 'user_id',\n",
    "# рассчитанное методом count() для таблицы track_list.\n",
    "# Функция возвращает число - значение track_list_count.\n",
    "\n",
    "# Функция для подсчёта прослушиваний для конкретного города и дня.\n",
    "# С помощью последовательной фильтрации с логической индексацией она \n",
    "# сначала получит из исходной таблицы строки с нужным днём,\n",
    "# затем из результата отфильтрует строки с нужным городом,\n",
    "# методом count() посчитает количество значений в колонке user_id. \n",
    "# Это количество функция вернёт в качестве результата"
   ]
  },
  {
   "cell_type": "markdown",
   "metadata": {
    "id": "ytf7xFrFJQ2r"
   },
   "source": [
    "Вызовите `number_tracks()` шесть раз, меняя значение параметров — так, чтобы получить данные для каждого города в каждый из трёх дней."
   ]
  },
  {
   "cell_type": "code",
   "execution_count": 21,
   "metadata": {
    "id": "rJcRATNQ_Zcu"
   },
   "outputs": [
    {
     "data": {
      "text/plain": [
       "15740"
      ]
     },
     "execution_count": 21,
     "metadata": {},
     "output_type": "execute_result"
    }
   ],
   "source": [
    "number_tracks('Monday', 'Moscow') # количество прослушиваний в Москве по понедельникам"
   ]
  },
  {
   "cell_type": "code",
   "execution_count": 22,
   "metadata": {
    "id": "hq_ncZ5T_Zcu"
   },
   "outputs": [
    {
     "data": {
      "text/plain": [
       "5614"
      ]
     },
     "execution_count": 22,
     "metadata": {},
     "output_type": "execute_result"
    }
   ],
   "source": [
    "number_tracks('Monday', 'Saint-Petersburg') # количество прослушиваний в Санкт-Петербурге по понедельникам"
   ]
  },
  {
   "cell_type": "code",
   "execution_count": 23,
   "metadata": {
    "id": "_NTy2VPU_Zcu"
   },
   "outputs": [
    {
     "data": {
      "text/plain": [
       "11056"
      ]
     },
     "execution_count": 23,
     "metadata": {},
     "output_type": "execute_result"
    }
   ],
   "source": [
    "number_tracks('Wednesday', 'Moscow') # количество прослушиваний в Москве по средам"
   ]
  },
  {
   "cell_type": "code",
   "execution_count": 24,
   "metadata": {
    "id": "j2y3TAwo_Zcu"
   },
   "outputs": [
    {
     "data": {
      "text/plain": [
       "7003"
      ]
     },
     "execution_count": 24,
     "metadata": {},
     "output_type": "execute_result"
    }
   ],
   "source": [
    "number_tracks('Wednesday', 'Saint-Petersburg') # количество прослушиваний в Санкт-Петербурге по средам"
   ]
  },
  {
   "cell_type": "code",
   "execution_count": 25,
   "metadata": {
    "id": "vYDw5u_K_Zcu"
   },
   "outputs": [
    {
     "data": {
      "text/plain": [
       "15945"
      ]
     },
     "execution_count": 25,
     "metadata": {},
     "output_type": "execute_result"
    }
   ],
   "source": [
    "number_tracks('Friday', 'Moscow') # количество прослушиваний в Москве по пятницам"
   ]
  },
  {
   "cell_type": "code",
   "execution_count": 26,
   "metadata": {
    "id": "8_yzFtW3_Zcu"
   },
   "outputs": [
    {
     "data": {
      "text/plain": [
       "5895"
      ]
     },
     "execution_count": 26,
     "metadata": {},
     "output_type": "execute_result"
    }
   ],
   "source": [
    "number_tracks('Friday', 'Saint-Petersburg') # количество прослушиваний в Санкт-Петербурге по пятницам"
   ]
  },
  {
   "cell_type": "markdown",
   "metadata": {
    "id": "7QXffbO-_Zcu"
   },
   "source": [
    "Создайте c помощью конструктора `pd.DataFrame` таблицу, где\n",
    "* названия колонок — `['city', 'monday', 'wednesday', 'friday']`;\n",
    "* данные — результаты, которые вы получили с помощью `number_tracks`."
   ]
  },
  {
   "cell_type": "code",
   "execution_count": 27,
   "metadata": {
    "id": "APAcLpOr_Zcu"
   },
   "outputs": [
    {
     "data": {
      "text/html": [
       "<div>\n",
       "<style scoped>\n",
       "    .dataframe tbody tr th:only-of-type {\n",
       "        vertical-align: middle;\n",
       "    }\n",
       "\n",
       "    .dataframe tbody tr th {\n",
       "        vertical-align: top;\n",
       "    }\n",
       "\n",
       "    .dataframe thead th {\n",
       "        text-align: right;\n",
       "    }\n",
       "</style>\n",
       "<table border=\"1\" class=\"dataframe\">\n",
       "  <thead>\n",
       "    <tr style=\"text-align: right;\">\n",
       "      <th></th>\n",
       "      <th>city</th>\n",
       "      <th>monday</th>\n",
       "      <th>wednesday</th>\n",
       "      <th>friday</th>\n",
       "    </tr>\n",
       "  </thead>\n",
       "  <tbody>\n",
       "    <tr>\n",
       "      <th>0</th>\n",
       "      <td>Moscow</td>\n",
       "      <td>15740</td>\n",
       "      <td>11056</td>\n",
       "      <td>15945</td>\n",
       "    </tr>\n",
       "    <tr>\n",
       "      <th>1</th>\n",
       "      <td>Saint-Petersburg</td>\n",
       "      <td>5614</td>\n",
       "      <td>7003</td>\n",
       "      <td>5895</td>\n",
       "    </tr>\n",
       "  </tbody>\n",
       "</table>\n",
       "</div>"
      ],
      "text/plain": [
       "               city  monday  wednesday  friday\n",
       "0            Moscow   15740      11056   15945\n",
       "1  Saint-Petersburg    5614       7003    5895"
      ]
     },
     "execution_count": 27,
     "metadata": {},
     "output_type": "execute_result"
    }
   ],
   "source": [
    "# Таблица с результатами\n",
    "\n",
    "data = [['Moscow', 15740, 11056, 15945], ['Saint-Petersburg', 5614, 7003, 5895]]\n",
    "columns = ['city', 'monday', 'wednesday', 'friday'] \n",
    "results = pd.DataFrame(data=data, columns=columns)\n",
    "results"
   ]
  },
  {
   "cell_type": "markdown",
   "metadata": {
    "id": "-EgPIHYu_Zcu"
   },
   "source": [
    "**Выводы**\n",
    "\n",
    "Данные показывают разницу поведения пользователей:\n",
    "\n",
    "- В Москве пик прослушиваний приходится на понедельник и пятницу, а в среду заметен спад.\n",
    "- В Петербурге, наоборот, больше слушают музыку по средам. Активность в понедельник и пятницу здесь почти в равной мере уступает среде.\n",
    "\n",
    "Значит, данные говорят в пользу первой гипотезы."
   ]
  },
  {
   "cell_type": "markdown",
   "metadata": {
    "id": "atZAxtq4_Zcu"
   },
   "source": [
    "### Музыка в начале и в конце недели"
   ]
  },
  {
   "cell_type": "markdown",
   "metadata": {
    "id": "eXrQqXFH_Zcu"
   },
   "source": [
    "Согласно второй гипотезе, утром в понедельник в Москве преобладают одни жанры, а в Петербурге — другие. Так же и вечером пятницы преобладают разные жанры — в зависимости от города."
   ]
  },
  {
   "cell_type": "markdown",
   "metadata": {
    "id": "S8UcW6Hw_Zcu"
   },
   "source": [
    "Сохраните таблицы с данными в две переменные:\n",
    "* по Москве — в `moscow_general`;\n",
    "* по Санкт-Петербургу — в `spb_general`."
   ]
  },
  {
   "cell_type": "code",
   "execution_count": 28,
   "metadata": {
    "id": "qeaFfM_P_Zcu"
   },
   "outputs": [],
   "source": [
    "# получение таблицы moscow_general из тех строк таблицы df, \n",
    "# для которых значение в столбце 'city' равно 'Moscow'\n",
    "\n",
    "moscow_general = df[df['city'] == 'Moscow']"
   ]
  },
  {
   "cell_type": "code",
   "execution_count": 29,
   "metadata": {
    "id": "ORaVRKto_Zcu"
   },
   "outputs": [],
   "source": [
    "# получение таблицы spb_general из тех строк таблицы df,\n",
    "# для которых значение в столбце 'city' равно 'Saint-Petersburg'\n",
    "\n",
    "spb_general = df[df['city'] == 'Saint-Petersburg']"
   ]
  },
  {
   "cell_type": "markdown",
   "metadata": {
    "id": "MEJV-CX2_Zcu"
   },
   "source": [
    "Создайте функцию `genre_weekday()` с четырьмя параметрами:\n",
    "* таблица (датафрейм) с данными,\n",
    "* день недели,\n",
    "* начальная временная метка в формате 'hh:mm', \n",
    "* последняя временная метка в формате 'hh:mm'.\n",
    "\n",
    "Функция должна вернуть информацию о топ-10 жанров тех треков, которые прослушивали в указанный день, в промежутке между двумя отметками времени."
   ]
  },
  {
   "cell_type": "code",
   "execution_count": 30,
   "metadata": {
    "id": "laJT9BYl_Zcu"
   },
   "outputs": [],
   "source": [
    "# Объявление функции genre_weekday() с параметрами table, day, time1, time2,\n",
    "# которая возвращает информацию о самых популярных жанрах в указанный день в\n",
    "# заданное время:\n",
    "\n",
    "def genre_weekday(table, day, time1, time2):\n",
    "    genre_df = table[(table['day'] == day)\n",
    "                    & (table['time'] > time1)\n",
    "                    & (table['time'] <= time2)]\n",
    "    \n",
    "    genre_df_count = genre_df.groupby('genre')['genre'].count()\n",
    "    genre_df_sorted = genre_df_count.sort_values(ascending = False)\n",
    "    \n",
    "    return genre_df_sorted.head(10)\n",
    "\n",
    "# 1) в переменную genre_df сохраняются те строки переданного датафрейма table, для\n",
    "#    которых одновременно:\n",
    "#    - значение в столбце day равно значению аргумента day\n",
    "#    - значение в столбце time больше значения аргумента time1\n",
    "#    - значение в столбце time меньше значения аргумента time2\n",
    "#    Используйте последовательную фильтрацию с помощью логической индексации.\n",
    "# 2) сгруппировать датафрейм genre_df по столбцу genre, взять один из его\n",
    "#    столбцов и посчитать методом count() количество записей для каждого из\n",
    "#    присутствующих жанров, получившийся Series записать в переменную\n",
    "#    genre_df_count\n",
    "# 3) отсортировать genre_df_count по убыванию встречаемости и сохранить\n",
    "#    в переменную genre_df_sorted\n",
    "# 4) вернуть Series из 10 первых значений genre_df_sorted, это будут топ-10\n",
    "#    популярных жанров (в указанный день, в заданное время)"
   ]
  },
  {
   "cell_type": "markdown",
   "metadata": {
    "id": "la2s2_PF_Zcu"
   },
   "source": [
    "Cравните результаты функции `genre_weekday()` для Москвы и Санкт-Петербурга в понедельник утром (с 7:00 до 11:00) и в пятницу вечером (с 17:00 до 23:00):"
   ]
  },
  {
   "cell_type": "code",
   "execution_count": 31,
   "metadata": {
    "id": "yz7itPUQ_Zcu"
   },
   "outputs": [
    {
     "data": {
      "text/plain": [
       "genre\n",
       "pop            781\n",
       "dance          549\n",
       "electronic     480\n",
       "rock           474\n",
       "hiphop         286\n",
       "ruspop         186\n",
       "world          181\n",
       "rusrap         175\n",
       "alternative    164\n",
       "unknown        161\n",
       "Name: genre, dtype: int64"
      ]
     },
     "execution_count": 31,
     "metadata": {},
     "output_type": "execute_result"
    }
   ],
   "source": [
    "# вызов функции для утра понедельника в Москве (вместо df — таблица moscow_general)\n",
    "# объекты, хранящие время, являются строками и сравниваются как строки\n",
    "# пример вызова: genre_weekday(moscow_general, 'Monday', '07:00', '11:00')\n",
    "\n",
    "genre_weekday(moscow_general, 'Monday', '07:00', '11:00')"
   ]
  },
  {
   "cell_type": "code",
   "execution_count": 32,
   "metadata": {
    "id": "kwUcHPdy_Zcu"
   },
   "outputs": [
    {
     "data": {
      "text/plain": [
       "genre\n",
       "pop            218\n",
       "dance          182\n",
       "rock           162\n",
       "electronic     147\n",
       "hiphop          80\n",
       "ruspop          64\n",
       "alternative     58\n",
       "rusrap          55\n",
       "jazz            44\n",
       "classical       40\n",
       "Name: genre, dtype: int64"
      ]
     },
     "execution_count": 32,
     "metadata": {},
     "output_type": "execute_result"
    }
   ],
   "source": [
    "# вызов функции для утра понедельника в Петербурге (вместо df — таблица spb_general)\n",
    "\n",
    "genre_weekday(spb_general, 'Monday', '07:00', '11:00')"
   ]
  },
  {
   "cell_type": "code",
   "execution_count": 33,
   "metadata": {
    "id": "EzXVRE1o_Zcu"
   },
   "outputs": [
    {
     "data": {
      "text/plain": [
       "genre\n",
       "pop            713\n",
       "rock           517\n",
       "dance          495\n",
       "electronic     482\n",
       "hiphop         273\n",
       "world          208\n",
       "ruspop         170\n",
       "alternative    163\n",
       "classical      163\n",
       "rusrap         142\n",
       "Name: genre, dtype: int64"
      ]
     },
     "execution_count": 33,
     "metadata": {},
     "output_type": "execute_result"
    }
   ],
   "source": [
    "# вызов функции для вечера пятницы в Москве\n",
    "\n",
    "genre_weekday(moscow_general, 'Friday', '17:00', '23:00')"
   ]
  },
  {
   "cell_type": "code",
   "execution_count": 34,
   "metadata": {
    "id": "JZaEKu5v_Zcu"
   },
   "outputs": [
    {
     "data": {
      "text/plain": [
       "genre\n",
       "pop            256\n",
       "electronic     216\n",
       "rock           216\n",
       "dance          210\n",
       "hiphop          97\n",
       "alternative     63\n",
       "jazz            61\n",
       "classical       60\n",
       "rusrap          59\n",
       "world           54\n",
       "Name: genre, dtype: int64"
      ]
     },
     "execution_count": 34,
     "metadata": {},
     "output_type": "execute_result"
    }
   ],
   "source": [
    "# вызов функции для вечера пятницы в Петербурге\n",
    "\n",
    "genre_weekday(spb_general, 'Friday', '17:00', '23:00')"
   ]
  },
  {
   "cell_type": "markdown",
   "metadata": {
    "id": "wrCe4MNX_Zcu"
   },
   "source": [
    "**Выводы**\n",
    "\n",
    "Если сравнить топ-10 жанров в понедельник утром, можно сделать такие выводы:\n",
    "\n",
    "1. В Москве и Петербурге слушают похожую музыку. Единственное отличие — в московский рейтинг вошёл жанр “world”, а в петербургский — джаз и классика.\n",
    "\n",
    "2. В Москве пропущенных значений оказалось так много, что значение `'unknown'` заняло десятое место среди самых популярных жанров. Значит, пропущенные значения занимают существенную долю в данных и угрожают достоверности исследования.\n",
    "\n",
    "Вечер пятницы не меняет эту картину. Некоторые жанры поднимаются немного выше, другие спускаются, но в целом топ-10 остаётся тем же самым.\n",
    "\n",
    "Таким образом, вторая гипотеза подтвердилась лишь частично:\n",
    "* Пользователи слушают похожую музыку в начале недели и в конце.\n",
    "* Разница между Москвой и Петербургом не слишком выражена. В Москве чаще слушают русскую популярную музыку, в Петербурге — джаз.\n",
    "\n",
    "Однако пропуски в данных ставят под сомнение этот результат. В Москве их так много, что рейтинг топ-10 мог бы выглядеть иначе, если бы не утерянные  данные о жанрах."
   ]
  },
  {
   "cell_type": "markdown",
   "metadata": {
    "id": "JolODAqr_Zcu"
   },
   "source": [
    "### Жанровые предпочтения в Москве и Петербурге\n",
    "\n",
    "Гипотеза: Петербург — столица рэпа, музыку этого жанра там слушают чаще, чем в Москве.  А Москва — город контрастов, в котором, тем не менее, преобладает поп-музыка."
   ]
  },
  {
   "cell_type": "markdown",
   "metadata": {
    "id": "DlegSvaT_Zcu"
   },
   "source": [
    "Сгруппируйте таблицу `moscow_general` по жанру и посчитайте прослушивания треков каждого жанра методом `count()`. Затем отсортируйте результат в порядке убывания и сохраните его в таблице `moscow_genres`."
   ]
  },
  {
   "cell_type": "code",
   "execution_count": 35,
   "metadata": {
    "id": "r19lIPke_Zcu"
   },
   "outputs": [],
   "source": [
    "# одной строкой: группировка таблицы moscow_general по столбцу 'genre', \n",
    "# подсчёт числа значений 'genre' в этой группировке методом count(), \n",
    "# сортировка получившегося Series в порядке убывания и сохранение в moscow_genres\n",
    "\n",
    "moscow_genres = moscow_general.groupby('genre')['genre'].count().sort_values(ascending = False)"
   ]
  },
  {
   "cell_type": "markdown",
   "metadata": {
    "id": "6kMuomxTiIr8"
   },
   "source": [
    "Выведите на экран первые десять строк `moscow_genres`:"
   ]
  },
  {
   "cell_type": "code",
   "execution_count": 36,
   "metadata": {
    "id": "WhCSooF8_Zcv"
   },
   "outputs": [
    {
     "data": {
      "text/plain": [
       "genre\n",
       "pop            5892\n",
       "dance          4435\n",
       "rock           3965\n",
       "electronic     3786\n",
       "hiphop         2096\n",
       "classical      1616\n",
       "world          1432\n",
       "alternative    1379\n",
       "ruspop         1372\n",
       "rusrap         1161\n",
       "Name: genre, dtype: int64"
      ]
     },
     "metadata": {},
     "output_type": "display_data"
    }
   ],
   "source": [
    "display(moscow_genres.head(10)) # просмотр первых 10 строк moscow_genres"
   ]
  },
  {
   "cell_type": "markdown",
   "metadata": {
    "id": "cnPG2vnN_Zcv"
   },
   "source": [
    "Теперь повторите то же и для Петербурга.\n",
    "\n",
    "Сгруппируйте таблицу `spb_general` по жанру. Посчитайте прослушивания треков каждого жанра. Результат отсортируйте в порядке убывания и сохраните в таблице `spb_genres`:\n"
   ]
  },
  {
   "cell_type": "code",
   "execution_count": 37,
   "metadata": {
    "id": "gluLIpE7_Zcv"
   },
   "outputs": [],
   "source": [
    "# одной строкой: группировка таблицы spb_general по столбцу 'genre', \n",
    "# подсчёт числа значений 'genre' в этой группировке методом count(), \n",
    "# сортировка получившегося Series в порядке убывания и сохранение в spb_genres\n",
    "\n",
    "spb_genres = spb_general.groupby('genre')['genre'].count().sort_values(ascending = False)"
   ]
  },
  {
   "cell_type": "markdown",
   "metadata": {
    "id": "5Doha_ODgyQ8"
   },
   "source": [
    "Выведите на экран первые десять строк `spb_genres`:"
   ]
  },
  {
   "cell_type": "code",
   "execution_count": 38,
   "metadata": {
    "id": "uaGJHjVU_Zcv"
   },
   "outputs": [
    {
     "data": {
      "text/plain": [
       "genre\n",
       "pop            2431\n",
       "dance          1932\n",
       "rock           1879\n",
       "electronic     1736\n",
       "hiphop          960\n",
       "alternative     649\n",
       "classical       646\n",
       "rusrap          564\n",
       "ruspop          538\n",
       "world           515\n",
       "Name: genre, dtype: int64"
      ]
     },
     "metadata": {},
     "output_type": "display_data"
    }
   ],
   "source": [
    "display(spb_genres.head(10)) # просмотр первых 10 строк spb_genres"
   ]
  },
  {
   "cell_type": "markdown",
   "metadata": {
    "id": "RY51YJYu_Zcv"
   },
   "source": [
    "**Выводы**"
   ]
  },
  {
   "cell_type": "markdown",
   "metadata": {
    "id": "nVhnJEm__Zcv"
   },
   "source": [
    "Гипотеза частично подтвердилась:\n",
    "* Поп-музыка — самый популярный жанр в Москве, как и предполагала гипотеза. Более того, в топ-10 жанров встречается близкий жанр — русская популярная музыка.\n",
    "* Вопреки ожиданиям, рэп одинаково популярен в Москве и Петербурге. \n"
   ]
  },
  {
   "cell_type": "markdown",
   "metadata": {
    "id": "ykKQ0N65_Zcv"
   },
   "source": [
    "## Итоги исследования"
   ]
  },
  {
   "cell_type": "markdown",
   "metadata": {
    "id": "tjUwbHb3_Zcv"
   },
   "source": [
    "Вы проверили три гипотезы и установили:\n",
    "\n",
    "1. День недели по-разному влияет на активность пользователей в Москве и Петербурге. \n",
    "\n",
    "Первая гипотеза полностью подтвердилась.\n",
    "\n",
    "2. Музыкальные предпочтения не сильно меняются в течение недели — будь то Москва или Петербург. Небольшие различия заметны в начале недели, по понедельникам:\n",
    "* в Москве слушают музыку жанра “world”,\n",
    "* в Петербурге — джаз и классику.\n",
    "\n",
    "Таким образом, вторая гипотеза подтвердилась лишь отчасти. Этот результат мог оказаться иным, если бы не пропуски в данных.\n",
    "\n",
    "3. Во вкусах пользователей Москвы и Петербурга больше общего чем различий. Вопреки ожиданиям, предпочтения жанров в Петербурге напоминают московские.\n",
    "\n",
    "Третья гипотеза не подтвердилась. Если различия в предпочтениях и существуют, на основной массе пользователей они незаметны.\n",
    "\n",
    "**На практике исследования содержат проверки статистических гипотез.**\n",
    "Из данных одного сервиса не всегда можно сделать вывод о всех жителях города.\n",
    "Проверки статистических гипотез покажут, насколько они достоверны, исходя из имеющихся данных. \n",
    "С методами проверок гипотез вы ещё познакомитесь в следующих темах."
   ]
  }
 ],
 "metadata": {
  "ExecuteTimeLog": [
   {
    "duration": 515,
    "start_time": "2021-09-20T11:19:12.490Z"
   },
   {
    "duration": 363,
    "start_time": "2021-09-20T11:19:23.013Z"
   },
   {
    "duration": 1481,
    "start_time": "2021-09-20T11:19:34.755Z"
   },
   {
    "duration": 413,
    "start_time": "2021-09-20T11:21:39.586Z"
   },
   {
    "duration": 406,
    "start_time": "2021-09-20T11:22:44.139Z"
   },
   {
    "duration": 852,
    "start_time": "2021-09-20T11:37:42.064Z"
   },
   {
    "duration": 210,
    "start_time": "2021-09-20T11:37:48.905Z"
   },
   {
    "duration": 28,
    "start_time": "2021-09-20T11:37:55.686Z"
   },
   {
    "duration": 34,
    "start_time": "2021-09-20T11:38:22.655Z"
   },
   {
    "duration": 406,
    "start_time": "2021-09-20T11:41:56.166Z"
   },
   {
    "duration": 5,
    "start_time": "2021-09-20T11:42:05.137Z"
   },
   {
    "duration": 30,
    "start_time": "2021-09-20T11:44:25.373Z"
   },
   {
    "duration": 5,
    "start_time": "2021-09-20T11:44:38.172Z"
   },
   {
    "duration": 31,
    "start_time": "2021-09-20T11:45:05.882Z"
   },
   {
    "duration": 6,
    "start_time": "2021-09-20T11:45:09.541Z"
   },
   {
    "duration": 332,
    "start_time": "2021-09-20T11:45:41.386Z"
   },
   {
    "duration": 369,
    "start_time": "2021-09-20T11:45:45.851Z"
   },
   {
    "duration": 376,
    "start_time": "2021-09-20T11:45:50.532Z"
   },
   {
    "duration": 105,
    "start_time": "2021-09-20T11:45:53.577Z"
   },
   {
    "duration": 41,
    "start_time": "2021-09-20T11:50:42.023Z"
   },
   {
    "duration": 90,
    "start_time": "2021-09-20T11:50:53.750Z"
   },
   {
    "duration": 34,
    "start_time": "2021-09-20T11:53:23.785Z"
   },
   {
    "duration": 32,
    "start_time": "2021-09-20T11:53:42.263Z"
   },
   {
    "duration": 24,
    "start_time": "2021-09-20T11:53:45.325Z"
   },
   {
    "duration": 32,
    "start_time": "2021-09-20T11:53:47.050Z"
   },
   {
    "duration": 33,
    "start_time": "2021-09-20T11:53:49.893Z"
   },
   {
    "duration": 24,
    "start_time": "2021-09-20T11:54:48.693Z"
   },
   {
    "duration": 33,
    "start_time": "2021-09-20T11:54:52.877Z"
   },
   {
    "duration": 5,
    "start_time": "2021-09-20T11:54:57.678Z"
   },
   {
    "duration": 31,
    "start_time": "2021-09-20T11:55:02.207Z"
   },
   {
    "duration": 31,
    "start_time": "2021-09-20T11:55:32.028Z"
   },
   {
    "duration": 51,
    "start_time": "2021-09-20T11:55:51.947Z"
   },
   {
    "duration": 53,
    "start_time": "2021-09-20T11:56:07.718Z"
   },
   {
    "duration": 25,
    "start_time": "2021-09-20T11:56:41.555Z"
   },
   {
    "duration": 33,
    "start_time": "2021-09-20T11:56:48.251Z"
   },
   {
    "duration": 25,
    "start_time": "2021-09-20T11:58:31.924Z"
   },
   {
    "duration": 33,
    "start_time": "2021-09-20T11:58:37.763Z"
   },
   {
    "duration": 24,
    "start_time": "2021-09-20T12:15:04.362Z"
   },
   {
    "duration": 34,
    "start_time": "2021-09-20T12:15:08.458Z"
   },
   {
    "duration": 35,
    "start_time": "2021-09-20T12:23:40.579Z"
   },
   {
    "duration": 33,
    "start_time": "2021-09-20T12:23:45.665Z"
   },
   {
    "duration": 32,
    "start_time": "2021-09-20T12:23:53.409Z"
   },
   {
    "duration": 42,
    "start_time": "2021-09-20T12:24:02.002Z"
   },
   {
    "duration": 30,
    "start_time": "2021-09-20T12:31:08.924Z"
   },
   {
    "duration": 30,
    "start_time": "2021-09-20T12:31:21.402Z"
   },
   {
    "duration": 24,
    "start_time": "2021-09-20T12:31:29.668Z"
   },
   {
    "duration": 36,
    "start_time": "2021-09-20T12:31:32.141Z"
   },
   {
    "duration": 32,
    "start_time": "2021-09-20T12:31:34.362Z"
   },
   {
    "duration": 32,
    "start_time": "2021-09-20T12:34:00.546Z"
   },
   {
    "duration": 31,
    "start_time": "2021-09-20T12:34:07.456Z"
   },
   {
    "duration": 30,
    "start_time": "2021-09-20T12:37:45.271Z"
   },
   {
    "duration": 43,
    "start_time": "2021-09-20T12:57:52.332Z"
   },
   {
    "duration": 43,
    "start_time": "2021-09-20T12:58:04.404Z"
   },
   {
    "duration": 43,
    "start_time": "2021-09-20T12:58:09.618Z"
   },
   {
    "duration": 42,
    "start_time": "2021-09-20T12:58:18.952Z"
   },
   {
    "duration": 36,
    "start_time": "2021-09-20T12:58:29.708Z"
   },
   {
    "duration": 31,
    "start_time": "2021-09-20T12:58:38.416Z"
   },
   {
    "duration": 53,
    "start_time": "2021-09-20T13:31:26.213Z"
   },
   {
    "duration": 37,
    "start_time": "2021-09-20T13:31:32.666Z"
   },
   {
    "duration": 38,
    "start_time": "2021-09-20T13:31:36.211Z"
   },
   {
    "duration": 39,
    "start_time": "2021-09-20T13:31:41.153Z"
   },
   {
    "duration": 37,
    "start_time": "2021-09-20T13:33:20.267Z"
   },
   {
    "duration": 31,
    "start_time": "2021-09-20T13:35:43.889Z"
   },
   {
    "duration": 31,
    "start_time": "2021-09-20T13:35:50.910Z"
   },
   {
    "duration": 31,
    "start_time": "2021-09-20T13:35:57.621Z"
   },
   {
    "duration": 467,
    "start_time": "2021-09-20T13:36:16.861Z"
   },
   {
    "duration": 881,
    "start_time": "2021-09-20T13:36:26.105Z"
   },
   {
    "duration": 826,
    "start_time": "2021-09-20T13:36:30.387Z"
   },
   {
    "duration": 28,
    "start_time": "2021-09-20T13:36:32.582Z"
   },
   {
    "duration": 33,
    "start_time": "2021-09-20T13:36:40.092Z"
   },
   {
    "duration": 6,
    "start_time": "2021-09-20T13:36:50.799Z"
   },
   {
    "duration": 33,
    "start_time": "2021-09-20T13:36:54.399Z"
   },
   {
    "duration": 6,
    "start_time": "2021-09-20T13:36:56.429Z"
   },
   {
    "duration": 31,
    "start_time": "2021-09-20T13:36:58.384Z"
   },
   {
    "duration": 27,
    "start_time": "2021-09-20T13:37:04.844Z"
   },
   {
    "duration": 34,
    "start_time": "2021-09-20T13:37:06.887Z"
   },
   {
    "duration": 98,
    "start_time": "2021-09-20T13:37:48.946Z"
   },
   {
    "duration": 1067,
    "start_time": "2021-09-20T13:38:14.341Z"
   },
   {
    "duration": 98,
    "start_time": "2021-09-20T13:38:24.095Z"
   },
   {
    "duration": 89,
    "start_time": "2021-09-20T13:38:31.355Z"
   },
   {
    "duration": 393,
    "start_time": "2021-09-20T13:41:04.784Z"
   },
   {
    "duration": 11,
    "start_time": "2021-09-20T13:41:08.617Z"
   },
   {
    "duration": 439,
    "start_time": "2021-09-20T13:45:10.193Z"
   },
   {
    "duration": 25,
    "start_time": "2021-09-20T13:45:15.354Z"
   },
   {
    "duration": 16,
    "start_time": "2021-09-20T13:45:21.461Z"
   },
   {
    "duration": 82,
    "start_time": "2021-09-20T13:47:44.829Z"
   },
   {
    "duration": 986,
    "start_time": "2021-09-20T13:48:25.292Z"
   },
   {
    "duration": 1159,
    "start_time": "2021-09-20T13:48:56.916Z"
   },
   {
    "duration": 279,
    "start_time": "2021-09-20T16:56:53.376Z"
   },
   {
    "duration": 256,
    "start_time": "2021-09-20T17:03:01.037Z"
   },
   {
    "duration": 279,
    "start_time": "2021-09-20T17:03:21.828Z"
   },
   {
    "duration": 248,
    "start_time": "2021-09-20T17:04:01.655Z"
   },
   {
    "duration": 621,
    "start_time": "2021-09-20T17:04:06.726Z"
   },
   {
    "duration": 148,
    "start_time": "2021-09-20T17:04:10.105Z"
   },
   {
    "duration": 15,
    "start_time": "2021-09-20T17:04:11.585Z"
   },
   {
    "duration": 39,
    "start_time": "2021-09-20T17:04:14.618Z"
   },
   {
    "duration": 4,
    "start_time": "2021-09-20T17:04:18.137Z"
   },
   {
    "duration": 24,
    "start_time": "2021-09-20T17:04:20.656Z"
   },
   {
    "duration": 4,
    "start_time": "2021-09-20T17:04:22.284Z"
   },
   {
    "duration": 22,
    "start_time": "2021-09-20T17:04:24.203Z"
   },
   {
    "duration": 18,
    "start_time": "2021-09-20T17:04:27.077Z"
   },
   {
    "duration": 29,
    "start_time": "2021-09-20T17:04:29.445Z"
   },
   {
    "duration": 60,
    "start_time": "2021-09-20T17:04:31.278Z"
   },
   {
    "duration": 60,
    "start_time": "2021-09-20T17:04:32.953Z"
   },
   {
    "duration": 53,
    "start_time": "2021-09-20T17:04:35.117Z"
   },
   {
    "duration": 54,
    "start_time": "2021-09-20T17:04:37.117Z"
   },
   {
    "duration": 2,
    "start_time": "2021-09-20T17:15:07.973Z"
   },
   {
    "duration": 2,
    "start_time": "2021-09-20T17:15:09.785Z"
   },
   {
    "duration": 309,
    "start_time": "2021-09-20T17:15:21.637Z"
   },
   {
    "duration": 5,
    "start_time": "2021-09-20T17:15:32.968Z"
   },
   {
    "duration": 3,
    "start_time": "2021-09-20T17:21:17.036Z"
   },
   {
    "duration": 3,
    "start_time": "2021-09-20T17:21:19.494Z"
   },
   {
    "duration": 5,
    "start_time": "2021-09-20T17:21:22.713Z"
   },
   {
    "duration": 2,
    "start_time": "2021-09-20T17:21:45.086Z"
   },
   {
    "duration": 3,
    "start_time": "2021-09-20T17:21:48.001Z"
   },
   {
    "duration": 540,
    "start_time": "2021-09-20T17:21:54.042Z"
   },
   {
    "duration": 539,
    "start_time": "2021-09-20T17:23:44.428Z"
   },
   {
    "duration": 3,
    "start_time": "2021-09-20T17:23:48.095Z"
   },
   {
    "duration": 560,
    "start_time": "2021-09-20T17:23:49.771Z"
   },
   {
    "duration": 3,
    "start_time": "2021-09-20T17:27:27.791Z"
   },
   {
    "duration": 527,
    "start_time": "2021-09-20T17:27:29.474Z"
   },
   {
    "duration": 3,
    "start_time": "2021-09-20T17:28:36.684Z"
   },
   {
    "duration": 494,
    "start_time": "2021-09-20T17:28:38.380Z"
   },
   {
    "duration": 4,
    "start_time": "2021-09-20T17:29:20.230Z"
   },
   {
    "duration": 15,
    "start_time": "2021-09-20T17:29:21.911Z"
   },
   {
    "duration": 15,
    "start_time": "2021-09-20T17:29:24.871Z"
   },
   {
    "duration": 3,
    "start_time": "2021-09-20T17:29:31.492Z"
   },
   {
    "duration": 4,
    "start_time": "2021-09-20T17:29:34.005Z"
   },
   {
    "duration": 244,
    "start_time": "2021-09-20T17:30:20.042Z"
   },
   {
    "duration": 243,
    "start_time": "2021-09-20T17:30:41.082Z"
   },
   {
    "duration": 4,
    "start_time": "2021-09-21T06:16:27.887Z"
   },
   {
    "duration": 560,
    "start_time": "2021-09-21T06:16:30.322Z"
   },
   {
    "duration": 234,
    "start_time": "2021-09-21T06:16:50.752Z"
   },
   {
    "duration": 709,
    "start_time": "2021-09-21T06:16:58.874Z"
   },
   {
    "duration": 205,
    "start_time": "2021-09-21T06:17:00.739Z"
   },
   {
    "duration": 60,
    "start_time": "2021-09-21T06:17:08.802Z"
   },
   {
    "duration": 489,
    "start_time": "2021-09-21T06:17:16.381Z"
   },
   {
    "duration": 277,
    "start_time": "2021-09-21T06:17:33.496Z"
   },
   {
    "duration": 310,
    "start_time": "2021-09-21T06:17:37.082Z"
   },
   {
    "duration": 496,
    "start_time": "2021-09-21T06:18:09.544Z"
   },
   {
    "duration": 551,
    "start_time": "2021-09-21T06:18:19.295Z"
   },
   {
    "duration": 3,
    "start_time": "2021-09-21T06:19:10.927Z"
   },
   {
    "duration": 10,
    "start_time": "2021-09-21T06:19:13.767Z"
   },
   {
    "duration": 239,
    "start_time": "2021-09-21T06:19:17.246Z"
   },
   {
    "duration": 7,
    "start_time": "2021-09-21T06:19:28.624Z"
   },
   {
    "duration": 245,
    "start_time": "2021-09-21T06:19:38.128Z"
   },
   {
    "duration": 86,
    "start_time": "2021-09-21T06:21:27.524Z"
   },
   {
    "duration": 4,
    "start_time": "2021-09-21T06:21:32.171Z"
   },
   {
    "duration": 10,
    "start_time": "2021-09-21T06:21:34.452Z"
   },
   {
    "duration": 266,
    "start_time": "2021-09-21T06:21:35.747Z"
   },
   {
    "duration": 5,
    "start_time": "2021-09-21T07:00:27.596Z"
   },
   {
    "duration": 730,
    "start_time": "2021-09-21T07:22:45.154Z"
   },
   {
    "duration": 82,
    "start_time": "2021-09-21T07:22:56.908Z"
   },
   {
    "duration": 278,
    "start_time": "2021-09-21T07:23:11.076Z"
   },
   {
    "duration": 257,
    "start_time": "2021-09-21T07:35:22.549Z"
   },
   {
    "duration": 281,
    "start_time": "2021-09-21T07:35:44.637Z"
   },
   {
    "duration": 5,
    "start_time": "2021-09-21T07:35:55.875Z"
   },
   {
    "duration": 15,
    "start_time": "2021-09-21T07:35:58.418Z"
   },
   {
    "duration": 5,
    "start_time": "2021-09-21T07:36:00.579Z"
   },
   {
    "duration": 36,
    "start_time": "2021-09-21T07:36:07.524Z"
   },
   {
    "duration": 18,
    "start_time": "2021-09-21T07:36:23.757Z"
   },
   {
    "duration": 57,
    "start_time": "2021-09-21T07:36:35.859Z"
   },
   {
    "duration": 16,
    "start_time": "2021-09-21T07:36:46.036Z"
   },
   {
    "duration": 58,
    "start_time": "2021-09-21T07:37:26.218Z"
   },
   {
    "duration": 6,
    "start_time": "2021-09-21T07:37:33.548Z"
   },
   {
    "duration": 46,
    "start_time": "2021-09-21T07:37:41.267Z"
   },
   {
    "duration": 5,
    "start_time": "2021-09-21T07:38:06.476Z"
   },
   {
    "duration": 254,
    "start_time": "2021-09-21T07:53:28.945Z"
   },
   {
    "duration": 274,
    "start_time": "2021-09-21T07:53:39.410Z"
   },
   {
    "duration": 34,
    "start_time": "2021-09-21T07:53:44.586Z"
   },
   {
    "duration": 13,
    "start_time": "2021-09-21T07:54:40.037Z"
   },
   {
    "duration": 12,
    "start_time": "2021-09-21T07:54:46.064Z"
   },
   {
    "duration": 4,
    "start_time": "2021-09-21T08:09:50.520Z"
   },
   {
    "duration": 5,
    "start_time": "2021-09-21T08:13:47.528Z"
   },
   {
    "duration": 540,
    "start_time": "2021-09-21T08:14:27.609Z"
   },
   {
    "duration": 4,
    "start_time": "2021-09-21T08:15:56.313Z"
   },
   {
    "duration": 483,
    "start_time": "2021-09-21T08:15:59.418Z"
   },
   {
    "duration": 91,
    "start_time": "2021-09-21T08:20:08.966Z"
   },
   {
    "duration": 4,
    "start_time": "2021-09-21T08:20:16.781Z"
   },
   {
    "duration": 3,
    "start_time": "2021-09-21T08:20:19.982Z"
   },
   {
    "duration": 2081,
    "start_time": "2021-09-21T08:20:22.622Z"
   },
   {
    "duration": 3,
    "start_time": "2021-09-21T08:20:29.958Z"
   },
   {
    "duration": 4,
    "start_time": "2021-09-21T08:22:44.893Z"
   },
   {
    "duration": 5,
    "start_time": "2021-09-21T08:26:29.130Z"
   },
   {
    "duration": 3503,
    "start_time": "2021-09-21T08:26:31.971Z"
   },
   {
    "duration": 10,
    "start_time": "2021-09-21T08:26:53.898Z"
   },
   {
    "duration": 5063,
    "start_time": "2021-09-21T08:26:56.322Z"
   },
   {
    "duration": 3,
    "start_time": "2021-09-21T08:32:18.811Z"
   },
   {
    "duration": 1426,
    "start_time": "2021-09-21T08:32:21.182Z"
   },
   {
    "duration": 585,
    "start_time": "2021-09-21T08:33:19.558Z"
   },
   {
    "duration": 149,
    "start_time": "2021-09-21T08:33:21.361Z"
   },
   {
    "duration": 18,
    "start_time": "2021-09-21T08:33:22.998Z"
   },
   {
    "duration": 41,
    "start_time": "2021-09-21T08:33:25.028Z"
   },
   {
    "duration": 5,
    "start_time": "2021-09-21T08:33:28.076Z"
   },
   {
    "duration": 31,
    "start_time": "2021-09-21T08:33:30.003Z"
   },
   {
    "duration": 5,
    "start_time": "2021-09-21T08:33:31.762Z"
   },
   {
    "duration": 24,
    "start_time": "2021-09-21T08:33:33.362Z"
   },
   {
    "duration": 17,
    "start_time": "2021-09-21T08:33:36.010Z"
   },
   {
    "duration": 24,
    "start_time": "2021-09-21T08:33:37.659Z"
   },
   {
    "duration": 58,
    "start_time": "2021-09-21T08:33:39.771Z"
   },
   {
    "duration": 77,
    "start_time": "2021-09-21T08:33:41.261Z"
   },
   {
    "duration": 57,
    "start_time": "2021-09-21T08:33:42.809Z"
   },
   {
    "duration": 53,
    "start_time": "2021-09-21T08:33:44.827Z"
   },
   {
    "duration": 3,
    "start_time": "2021-09-21T08:33:47.729Z"
   },
   {
    "duration": 10,
    "start_time": "2021-09-21T08:33:49.751Z"
   },
   {
    "duration": 5,
    "start_time": "2021-09-21T08:33:51.930Z"
   },
   {
    "duration": 11,
    "start_time": "2021-09-21T08:33:56.211Z"
   },
   {
    "duration": 13,
    "start_time": "2021-09-21T08:33:57.986Z"
   },
   {
    "duration": 4,
    "start_time": "2021-09-21T08:34:00.874Z"
   },
   {
    "duration": 1322,
    "start_time": "2021-09-21T08:34:03.393Z"
   },
   {
    "duration": 3,
    "start_time": "2021-09-21T08:34:37.629Z"
   },
   {
    "duration": 1188,
    "start_time": "2021-09-21T08:34:40.707Z"
   },
   {
    "duration": 3,
    "start_time": "2021-09-21T08:34:56.123Z"
   },
   {
    "duration": 1192,
    "start_time": "2021-09-21T08:34:58.212Z"
   },
   {
    "duration": 4,
    "start_time": "2021-09-21T08:36:26.194Z"
   },
   {
    "duration": 718,
    "start_time": "2021-09-21T08:36:28.762Z"
   },
   {
    "duration": 4,
    "start_time": "2021-09-21T08:36:38.665Z"
   },
   {
    "duration": 18,
    "start_time": "2021-09-21T08:36:40.425Z"
   },
   {
    "duration": 15,
    "start_time": "2021-09-21T08:36:57.457Z"
   },
   {
    "duration": 4,
    "start_time": "2021-09-21T08:37:40.793Z"
   },
   {
    "duration": 19,
    "start_time": "2021-09-21T08:37:42.711Z"
   },
   {
    "duration": 16,
    "start_time": "2021-09-21T08:37:44.309Z"
   },
   {
    "duration": 16,
    "start_time": "2021-09-21T08:37:56.630Z"
   },
   {
    "duration": 16,
    "start_time": "2021-09-21T08:37:59.126Z"
   },
   {
    "duration": 25,
    "start_time": "2021-09-21T08:38:07.223Z"
   },
   {
    "duration": 21,
    "start_time": "2021-09-21T08:38:11.872Z"
   },
   {
    "duration": 5,
    "start_time": "2021-09-21T08:41:29.145Z"
   },
   {
    "duration": 11,
    "start_time": "2021-09-21T08:42:28.318Z"
   },
   {
    "duration": 8,
    "start_time": "2021-09-21T08:42:42.514Z"
   },
   {
    "duration": 9,
    "start_time": "2021-09-21T08:42:50.922Z"
   },
   {
    "duration": 4504,
    "start_time": "2021-09-21T08:44:22.092Z"
   },
   {
    "duration": 27,
    "start_time": "2021-09-21T08:44:43.681Z"
   },
   {
    "duration": 15,
    "start_time": "2021-09-21T08:44:52.287Z"
   },
   {
    "duration": 10,
    "start_time": "2021-09-21T08:45:14.100Z"
   },
   {
    "duration": 4,
    "start_time": "2021-09-21T09:27:23.597Z"
   },
   {
    "duration": 4,
    "start_time": "2021-09-21T09:30:55.202Z"
   },
   {
    "duration": 4,
    "start_time": "2021-09-21T09:31:20.838Z"
   },
   {
    "duration": 524,
    "start_time": "2021-09-21T09:32:05.430Z"
   },
   {
    "duration": 5,
    "start_time": "2021-09-21T09:35:00.339Z"
   },
   {
    "duration": 499,
    "start_time": "2021-09-21T09:35:03.334Z"
   },
   {
    "duration": 4,
    "start_time": "2021-09-21T09:35:39.572Z"
   },
   {
    "duration": 18,
    "start_time": "2021-09-21T09:35:41.913Z"
   },
   {
    "duration": 15,
    "start_time": "2021-09-21T10:28:51.514Z"
   },
   {
    "duration": 17,
    "start_time": "2021-09-21T10:29:59.472Z"
   },
   {
    "duration": 243,
    "start_time": "2021-09-21T10:30:12.539Z"
   },
   {
    "duration": 13,
    "start_time": "2021-09-21T10:30:15.560Z"
   },
   {
    "duration": 266,
    "start_time": "2021-09-21T10:38:36.648Z"
   },
   {
    "duration": 314,
    "start_time": "2021-09-21T10:40:36.240Z"
   },
   {
    "duration": 12,
    "start_time": "2021-09-21T10:40:58.063Z"
   },
   {
    "duration": 5,
    "start_time": "2021-09-21T10:41:19.624Z"
   },
   {
    "duration": 6,
    "start_time": "2021-09-21T10:42:43.525Z"
   },
   {
    "duration": 4,
    "start_time": "2021-09-21T10:42:54.545Z"
   },
   {
    "duration": 612,
    "start_time": "2021-09-22T06:37:24.678Z"
   },
   {
    "duration": 143,
    "start_time": "2021-09-22T06:37:25.292Z"
   },
   {
    "duration": 18,
    "start_time": "2021-09-22T06:37:25.437Z"
   },
   {
    "duration": 34,
    "start_time": "2021-09-22T06:37:25.457Z"
   },
   {
    "duration": 4,
    "start_time": "2021-09-22T06:37:25.493Z"
   },
   {
    "duration": 21,
    "start_time": "2021-09-22T06:37:25.499Z"
   },
   {
    "duration": 3,
    "start_time": "2021-09-22T06:37:25.522Z"
   },
   {
    "duration": 28,
    "start_time": "2021-09-22T06:37:25.527Z"
   },
   {
    "duration": 38,
    "start_time": "2021-09-22T06:37:25.558Z"
   },
   {
    "duration": 26,
    "start_time": "2021-09-22T06:37:25.599Z"
   },
   {
    "duration": 78,
    "start_time": "2021-09-22T06:37:25.627Z"
   },
   {
    "duration": 73,
    "start_time": "2021-09-22T06:37:25.706Z"
   },
   {
    "duration": 52,
    "start_time": "2021-09-22T06:37:25.781Z"
   },
   {
    "duration": 62,
    "start_time": "2021-09-22T06:37:25.835Z"
   },
   {
    "duration": 3,
    "start_time": "2021-09-22T06:37:25.899Z"
   },
   {
    "duration": 15,
    "start_time": "2021-09-22T06:37:25.903Z"
   },
   {
    "duration": 7,
    "start_time": "2021-09-22T06:37:25.919Z"
   },
   {
    "duration": 13,
    "start_time": "2021-09-22T06:37:25.927Z"
   },
   {
    "duration": 36,
    "start_time": "2021-09-22T06:37:25.942Z"
   },
   {
    "duration": 4,
    "start_time": "2021-09-22T06:37:25.979Z"
   },
   {
    "duration": 22,
    "start_time": "2021-09-22T06:37:25.984Z"
   },
   {
    "duration": 15,
    "start_time": "2021-09-22T06:37:26.007Z"
   },
   {
    "duration": 16,
    "start_time": "2021-09-22T06:37:26.023Z"
   },
   {
    "duration": 43,
    "start_time": "2021-09-22T06:37:26.040Z"
   },
   {
    "duration": 16,
    "start_time": "2021-09-22T06:37:26.085Z"
   },
   {
    "duration": 17,
    "start_time": "2021-09-22T06:37:26.102Z"
   },
   {
    "duration": 8,
    "start_time": "2021-09-22T06:37:26.123Z"
   },
   {
    "duration": 14,
    "start_time": "2021-09-22T06:37:26.133Z"
   },
   {
    "duration": 35,
    "start_time": "2021-09-22T06:37:26.149Z"
   },
   {
    "duration": 5,
    "start_time": "2021-09-22T06:37:26.186Z"
   },
   {
    "duration": 24,
    "start_time": "2021-09-22T06:37:26.192Z"
   },
   {
    "duration": 22,
    "start_time": "2021-09-22T06:37:26.218Z"
   },
   {
    "duration": 20,
    "start_time": "2021-09-22T06:37:26.241Z"
   },
   {
    "duration": 13,
    "start_time": "2021-09-22T06:37:26.275Z"
   },
   {
    "duration": 17,
    "start_time": "2021-09-22T06:37:26.290Z"
   },
   {
    "duration": 13,
    "start_time": "2021-09-22T06:37:26.309Z"
   },
   {
    "duration": 15,
    "start_time": "2021-09-22T06:37:26.324Z"
   },
   {
    "duration": 17,
    "start_time": "2021-09-22T06:37:26.340Z"
   },
   {
    "duration": 406,
    "start_time": "2022-05-01T12:39:42.357Z"
   },
   {
    "duration": 157,
    "start_time": "2022-05-01T12:39:42.765Z"
   },
   {
    "duration": 20,
    "start_time": "2022-05-01T12:39:42.924Z"
   },
   {
    "duration": 53,
    "start_time": "2022-05-01T12:39:42.946Z"
   },
   {
    "duration": 5,
    "start_time": "2022-05-01T12:39:43.001Z"
   },
   {
    "duration": 17,
    "start_time": "2022-05-01T12:39:43.007Z"
   },
   {
    "duration": 9,
    "start_time": "2022-05-01T12:39:43.025Z"
   },
   {
    "duration": 27,
    "start_time": "2022-05-01T12:39:43.036Z"
   },
   {
    "duration": 24,
    "start_time": "2022-05-01T12:39:43.065Z"
   },
   {
    "duration": 43,
    "start_time": "2022-05-01T12:39:43.093Z"
   },
   {
    "duration": 69,
    "start_time": "2022-05-01T12:39:43.138Z"
   },
   {
    "duration": 94,
    "start_time": "2022-05-01T12:39:43.209Z"
   },
   {
    "duration": 79,
    "start_time": "2022-05-01T12:39:43.306Z"
   },
   {
    "duration": 63,
    "start_time": "2022-05-01T12:39:43.386Z"
   },
   {
    "duration": 3,
    "start_time": "2022-05-01T12:39:43.450Z"
   },
   {
    "duration": 13,
    "start_time": "2022-05-01T12:39:43.455Z"
   },
   {
    "duration": 5,
    "start_time": "2022-05-01T12:39:43.469Z"
   },
   {
    "duration": 14,
    "start_time": "2022-05-01T12:39:43.477Z"
   },
   {
    "duration": 43,
    "start_time": "2022-05-01T12:39:43.493Z"
   },
   {
    "duration": 4,
    "start_time": "2022-05-01T12:39:43.538Z"
   },
   {
    "duration": 23,
    "start_time": "2022-05-01T12:39:43.544Z"
   },
   {
    "duration": 15,
    "start_time": "2022-05-01T12:39:43.569Z"
   },
   {
    "duration": 17,
    "start_time": "2022-05-01T12:39:43.586Z"
   },
   {
    "duration": 36,
    "start_time": "2022-05-01T12:39:43.605Z"
   },
   {
    "duration": 16,
    "start_time": "2022-05-01T12:39:43.642Z"
   },
   {
    "duration": 14,
    "start_time": "2022-05-01T12:39:43.660Z"
   },
   {
    "duration": 9,
    "start_time": "2022-05-01T12:39:43.676Z"
   },
   {
    "duration": 46,
    "start_time": "2022-05-01T12:39:43.688Z"
   },
   {
    "duration": 9,
    "start_time": "2022-05-01T12:39:43.736Z"
   },
   {
    "duration": 4,
    "start_time": "2022-05-01T12:39:43.747Z"
   },
   {
    "duration": 22,
    "start_time": "2022-05-01T12:39:43.752Z"
   },
   {
    "duration": 16,
    "start_time": "2022-05-01T12:39:43.775Z"
   },
   {
    "duration": 19,
    "start_time": "2022-05-01T12:39:43.793Z"
   },
   {
    "duration": 14,
    "start_time": "2022-05-01T12:39:43.834Z"
   },
   {
    "duration": 11,
    "start_time": "2022-05-01T12:39:43.849Z"
   },
   {
    "duration": 8,
    "start_time": "2022-05-01T12:39:43.861Z"
   },
   {
    "duration": 14,
    "start_time": "2022-05-01T12:39:43.871Z"
   },
   {
    "duration": 11,
    "start_time": "2022-05-01T12:39:43.886Z"
   },
   {
    "duration": 372,
    "start_time": "2022-05-01T13:18:32.891Z"
   },
   {
    "duration": 170,
    "start_time": "2022-05-01T13:18:33.265Z"
   },
   {
    "duration": 18,
    "start_time": "2022-05-01T13:18:33.436Z"
   },
   {
    "duration": 31,
    "start_time": "2022-05-01T13:18:33.456Z"
   },
   {
    "duration": 4,
    "start_time": "2022-05-01T13:18:33.488Z"
   },
   {
    "duration": 39,
    "start_time": "2022-05-01T13:18:33.494Z"
   },
   {
    "duration": 6,
    "start_time": "2022-05-01T13:18:33.536Z"
   },
   {
    "duration": 27,
    "start_time": "2022-05-01T13:18:33.544Z"
   },
   {
    "duration": 18,
    "start_time": "2022-05-01T13:18:33.572Z"
   },
   {
    "duration": 46,
    "start_time": "2022-05-01T13:18:33.593Z"
   },
   {
    "duration": 64,
    "start_time": "2022-05-01T13:18:33.641Z"
   },
   {
    "duration": 84,
    "start_time": "2022-05-01T13:18:33.707Z"
   },
   {
    "duration": 81,
    "start_time": "2022-05-01T13:18:33.793Z"
   },
   {
    "duration": 59,
    "start_time": "2022-05-01T13:18:33.875Z"
   },
   {
    "duration": 3,
    "start_time": "2022-05-01T13:18:33.936Z"
   },
   {
    "duration": 13,
    "start_time": "2022-05-01T13:18:33.941Z"
   },
   {
    "duration": 4,
    "start_time": "2022-05-01T13:18:33.956Z"
   },
   {
    "duration": 16,
    "start_time": "2022-05-01T13:18:33.962Z"
   },
   {
    "duration": 14,
    "start_time": "2022-05-01T13:18:33.979Z"
   },
   {
    "duration": 4,
    "start_time": "2022-05-01T13:18:33.994Z"
   },
   {
    "duration": 49,
    "start_time": "2022-05-01T13:18:33.999Z"
   },
   {
    "duration": 15,
    "start_time": "2022-05-01T13:18:34.050Z"
   },
   {
    "duration": 22,
    "start_time": "2022-05-01T13:18:34.067Z"
   },
   {
    "duration": 15,
    "start_time": "2022-05-01T13:18:34.090Z"
   },
   {
    "duration": 41,
    "start_time": "2022-05-01T13:18:34.107Z"
   },
   {
    "duration": 15,
    "start_time": "2022-05-01T13:18:34.149Z"
   },
   {
    "duration": 9,
    "start_time": "2022-05-01T13:18:34.166Z"
   },
   {
    "duration": 12,
    "start_time": "2022-05-01T13:18:34.178Z"
   },
   {
    "duration": 9,
    "start_time": "2022-05-01T13:18:34.192Z"
   },
   {
    "duration": 4,
    "start_time": "2022-05-01T13:18:34.234Z"
   },
   {
    "duration": 22,
    "start_time": "2022-05-01T13:18:34.240Z"
   },
   {
    "duration": 12,
    "start_time": "2022-05-01T13:18:34.264Z"
   },
   {
    "duration": 17,
    "start_time": "2022-05-01T13:18:34.278Z"
   },
   {
    "duration": 36,
    "start_time": "2022-05-01T13:18:34.297Z"
   },
   {
    "duration": 10,
    "start_time": "2022-05-01T13:18:34.335Z"
   },
   {
    "duration": 5,
    "start_time": "2022-05-01T13:18:34.346Z"
   },
   {
    "duration": 8,
    "start_time": "2022-05-01T13:18:34.353Z"
   },
   {
    "duration": 6,
    "start_time": "2022-05-01T13:18:34.363Z"
   },
   {
    "duration": 408,
    "start_time": "2022-05-06T18:45:29.936Z"
   },
   {
    "duration": 155,
    "start_time": "2022-05-06T18:45:30.346Z"
   },
   {
    "duration": 17,
    "start_time": "2022-05-06T18:45:30.503Z"
   },
   {
    "duration": 35,
    "start_time": "2022-05-06T18:45:30.524Z"
   },
   {
    "duration": 4,
    "start_time": "2022-05-06T18:45:30.562Z"
   },
   {
    "duration": 20,
    "start_time": "2022-05-06T18:45:30.567Z"
   },
   {
    "duration": 8,
    "start_time": "2022-05-06T18:45:30.588Z"
   },
   {
    "duration": 47,
    "start_time": "2022-05-06T18:45:30.598Z"
   },
   {
    "duration": 17,
    "start_time": "2022-05-06T18:45:30.647Z"
   },
   {
    "duration": 25,
    "start_time": "2022-05-06T18:45:30.666Z"
   },
   {
    "duration": 82,
    "start_time": "2022-05-06T18:45:30.693Z"
   },
   {
    "duration": 84,
    "start_time": "2022-05-06T18:45:30.777Z"
   },
   {
    "duration": 64,
    "start_time": "2022-05-06T18:45:30.863Z"
   },
   {
    "duration": 59,
    "start_time": "2022-05-06T18:45:30.933Z"
   },
   {
    "duration": 3,
    "start_time": "2022-05-06T18:45:30.994Z"
   },
   {
    "duration": 28,
    "start_time": "2022-05-06T18:45:30.999Z"
   },
   {
    "duration": 11,
    "start_time": "2022-05-06T18:45:31.029Z"
   },
   {
    "duration": 21,
    "start_time": "2022-05-06T18:45:31.041Z"
   },
   {
    "duration": 19,
    "start_time": "2022-05-06T18:45:31.064Z"
   },
   {
    "duration": 6,
    "start_time": "2022-05-06T18:45:31.085Z"
   },
   {
    "duration": 33,
    "start_time": "2022-05-06T18:45:31.092Z"
   },
   {
    "duration": 19,
    "start_time": "2022-05-06T18:45:31.127Z"
   },
   {
    "duration": 29,
    "start_time": "2022-05-06T18:45:31.147Z"
   },
   {
    "duration": 15,
    "start_time": "2022-05-06T18:45:31.178Z"
   },
   {
    "duration": 19,
    "start_time": "2022-05-06T18:45:31.194Z"
   },
   {
    "duration": 21,
    "start_time": "2022-05-06T18:45:31.223Z"
   },
   {
    "duration": 10,
    "start_time": "2022-05-06T18:45:31.246Z"
   },
   {
    "duration": 25,
    "start_time": "2022-05-06T18:45:31.258Z"
   },
   {
    "duration": 12,
    "start_time": "2022-05-06T18:45:31.284Z"
   },
   {
    "duration": 11,
    "start_time": "2022-05-06T18:45:31.298Z"
   },
   {
    "duration": 41,
    "start_time": "2022-05-06T18:45:31.311Z"
   },
   {
    "duration": 30,
    "start_time": "2022-05-06T18:45:31.354Z"
   },
   {
    "duration": 18,
    "start_time": "2022-05-06T18:45:31.386Z"
   },
   {
    "duration": 13,
    "start_time": "2022-05-06T18:45:31.406Z"
   },
   {
    "duration": 10,
    "start_time": "2022-05-06T18:45:31.421Z"
   },
   {
    "duration": 18,
    "start_time": "2022-05-06T18:45:31.433Z"
   },
   {
    "duration": 18,
    "start_time": "2022-05-06T18:45:31.453Z"
   },
   {
    "duration": 9,
    "start_time": "2022-05-06T18:45:31.473Z"
   }
  ],
  "colab": {
   "collapsed_sections": [
    "E0vqbgi9ay0H",
    "VUC88oWjTJw2"
   ],
   "name": "yandex_music_project_2021.2.ipynb",
   "provenance": []
  },
  "kernelspec": {
   "display_name": "Python 3 (ipykernel)",
   "language": "python",
   "name": "python3"
  },
  "language_info": {
   "codemirror_mode": {
    "name": "ipython",
    "version": 3
   },
   "file_extension": ".py",
   "mimetype": "text/x-python",
   "name": "python",
   "nbconvert_exporter": "python",
   "pygments_lexer": "ipython3",
   "version": "3.9.5"
  },
  "toc": {
   "base_numbering": 1,
   "nav_menu": {},
   "number_sections": true,
   "sideBar": true,
   "skip_h1_title": true,
   "title_cell": "Table of Contents",
   "title_sidebar": "Contents",
   "toc_cell": false,
   "toc_position": {
    "height": "calc(100% - 180px)",
    "left": "10px",
    "top": "150px",
    "width": "206.6px"
   },
   "toc_section_display": true,
   "toc_window_display": false
  }
 },
 "nbformat": 4,
 "nbformat_minor": 1
}
