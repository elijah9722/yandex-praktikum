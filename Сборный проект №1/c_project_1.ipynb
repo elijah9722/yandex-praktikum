{
 "cells": [
  {
   "cell_type": "markdown",
   "metadata": {
    "id": "sIfNaMOxgFyK"
   },
   "source": [
    "## Исследование данных о российском кинопрокате\n",
    "\n"
   ]
  },
  {
   "cell_type": "markdown",
   "metadata": {
    "id": "3bSlkCsbgFyL"
   },
   "source": [
    "### Шаг 1. Откройте файлы с данными и объедините их в один датафрейм. \n",
    "\n",
    "Объедините данные таким образом, чтобы все объекты из датасета `mkrf_movies` обязательно вошли в получившийся датафрейм. "
   ]
  },
  {
   "cell_type": "markdown",
   "metadata": {},
   "source": [
    "Для начала посмотрим на каждый файл в отдельности: выведем на экран общую информацию и первые пять строк, чтобы увидеть названия столбцов."
   ]
  },
  {
   "cell_type": "code",
   "execution_count": 1,
   "metadata": {
    "id": "dw87FlzMgFyM",
    "scrolled": false
   },
   "outputs": [
    {
     "name": "stdout",
     "output_type": "stream",
     "text": [
      "<class 'pandas.core.frame.DataFrame'>\n",
      "RangeIndex: 7486 entries, 0 to 7485\n",
      "Data columns (total 15 columns):\n",
      " #   Column                 Non-Null Count  Dtype  \n",
      "---  ------                 --------------  -----  \n",
      " 0   title                  7486 non-null   object \n",
      " 1   puNumber               7486 non-null   object \n",
      " 2   show_start_date        7486 non-null   object \n",
      " 3   type                   7486 non-null   object \n",
      " 4   film_studio            7468 non-null   object \n",
      " 5   production_country     7484 non-null   object \n",
      " 6   director               7477 non-null   object \n",
      " 7   producer               6918 non-null   object \n",
      " 8   age_restriction        7486 non-null   object \n",
      " 9   refundable_support     332 non-null    float64\n",
      " 10  nonrefundable_support  332 non-null    float64\n",
      " 11  budget                 332 non-null    float64\n",
      " 12  financing_source       332 non-null    object \n",
      " 13  ratings                6519 non-null   object \n",
      " 14  genres                 6510 non-null   object \n",
      "dtypes: float64(3), object(12)\n",
      "memory usage: 877.4+ KB\n"
     ]
    },
    {
     "data": {
      "text/html": [
       "<div>\n",
       "<style scoped>\n",
       "    .dataframe tbody tr th:only-of-type {\n",
       "        vertical-align: middle;\n",
       "    }\n",
       "\n",
       "    .dataframe tbody tr th {\n",
       "        vertical-align: top;\n",
       "    }\n",
       "\n",
       "    .dataframe thead th {\n",
       "        text-align: right;\n",
       "    }\n",
       "</style>\n",
       "<table border=\"1\" class=\"dataframe\">\n",
       "  <thead>\n",
       "    <tr style=\"text-align: right;\">\n",
       "      <th></th>\n",
       "      <th>title</th>\n",
       "      <th>puNumber</th>\n",
       "      <th>show_start_date</th>\n",
       "      <th>type</th>\n",
       "      <th>film_studio</th>\n",
       "      <th>production_country</th>\n",
       "      <th>director</th>\n",
       "      <th>producer</th>\n",
       "      <th>age_restriction</th>\n",
       "      <th>refundable_support</th>\n",
       "      <th>nonrefundable_support</th>\n",
       "      <th>budget</th>\n",
       "      <th>financing_source</th>\n",
       "      <th>ratings</th>\n",
       "      <th>genres</th>\n",
       "    </tr>\n",
       "  </thead>\n",
       "  <tbody>\n",
       "    <tr>\n",
       "      <th>0</th>\n",
       "      <td>Открытый простор</td>\n",
       "      <td>221048915</td>\n",
       "      <td>2015-11-27T12:00:00.000Z</td>\n",
       "      <td>Художественный</td>\n",
       "      <td>Тачстоун Пикчерз, Кобальт Пикчерз, Бикон Пикче...</td>\n",
       "      <td>США</td>\n",
       "      <td>Кевин Костнер</td>\n",
       "      <td>Дэвид Валдес, Кевин Костнер, Джейк Эбертс</td>\n",
       "      <td>«18+» - запрещено для детей</td>\n",
       "      <td>NaN</td>\n",
       "      <td>NaN</td>\n",
       "      <td>NaN</td>\n",
       "      <td>NaN</td>\n",
       "      <td>7.2</td>\n",
       "      <td>боевик,драма,мелодрама</td>\n",
       "    </tr>\n",
       "    <tr>\n",
       "      <th>1</th>\n",
       "      <td>Особо важное задание</td>\n",
       "      <td>111013716</td>\n",
       "      <td>2016-09-13T12:00:00.000Z</td>\n",
       "      <td>Художественный</td>\n",
       "      <td>Киностудия \"Мосфильм\"</td>\n",
       "      <td>СССР</td>\n",
       "      <td>Е.Матвеев</td>\n",
       "      <td>NaN</td>\n",
       "      <td>«6+» - для детей старше 6 лет</td>\n",
       "      <td>NaN</td>\n",
       "      <td>NaN</td>\n",
       "      <td>NaN</td>\n",
       "      <td>NaN</td>\n",
       "      <td>6.6</td>\n",
       "      <td>драма,военный</td>\n",
       "    </tr>\n",
       "    <tr>\n",
       "      <th>2</th>\n",
       "      <td>Особо опасен</td>\n",
       "      <td>221038416</td>\n",
       "      <td>2016-10-10T12:00:00.000Z</td>\n",
       "      <td>Художественный</td>\n",
       "      <td>Юниверсал Пикчерз, Кикстарт Продакшнз, Марк Пл...</td>\n",
       "      <td>США</td>\n",
       "      <td>Тимур Бекмамбетов</td>\n",
       "      <td>Джим Лемли, Джейсон Нетер, Марк Е.Платт, Яйн Смит</td>\n",
       "      <td>«18+» - запрещено для детей</td>\n",
       "      <td>NaN</td>\n",
       "      <td>NaN</td>\n",
       "      <td>NaN</td>\n",
       "      <td>NaN</td>\n",
       "      <td>6.8</td>\n",
       "      <td>фантастика,боевик,триллер</td>\n",
       "    </tr>\n",
       "    <tr>\n",
       "      <th>3</th>\n",
       "      <td>Особо опасен</td>\n",
       "      <td>221026916</td>\n",
       "      <td>2016-06-10T12:00:00.000Z</td>\n",
       "      <td>Художественный</td>\n",
       "      <td>Юниверсал Пикчерз, Кикстарт Продакшнз, Марк Пл...</td>\n",
       "      <td>США</td>\n",
       "      <td>Тимур Бекмамбетов</td>\n",
       "      <td>Джим Лемли, Джейсон Нетер, Марк Е.Платт, Яйн Смит</td>\n",
       "      <td>«18+» - запрещено для детей</td>\n",
       "      <td>NaN</td>\n",
       "      <td>NaN</td>\n",
       "      <td>NaN</td>\n",
       "      <td>NaN</td>\n",
       "      <td>6.8</td>\n",
       "      <td>фантастика,боевик,триллер</td>\n",
       "    </tr>\n",
       "    <tr>\n",
       "      <th>4</th>\n",
       "      <td>Особо опасен</td>\n",
       "      <td>221030815</td>\n",
       "      <td>2015-07-29T12:00:00.000Z</td>\n",
       "      <td>Художественный</td>\n",
       "      <td>Юниверсал Пикчерз, Кикстарт Продакшнз, Марк Пл...</td>\n",
       "      <td>США</td>\n",
       "      <td>Тимур Бекмамбетов</td>\n",
       "      <td>Джим Лемли, Джейсон Нетер, Марк Е.Платт, Яйн Смит</td>\n",
       "      <td>«18+» - запрещено для детей</td>\n",
       "      <td>NaN</td>\n",
       "      <td>NaN</td>\n",
       "      <td>NaN</td>\n",
       "      <td>NaN</td>\n",
       "      <td>6.8</td>\n",
       "      <td>фантастика,боевик,триллер</td>\n",
       "    </tr>\n",
       "  </tbody>\n",
       "</table>\n",
       "</div>"
      ],
      "text/plain": [
       "                  title   puNumber           show_start_date            type  \\\n",
       "0      Открытый простор  221048915  2015-11-27T12:00:00.000Z  Художественный   \n",
       "1  Особо важное задание  111013716  2016-09-13T12:00:00.000Z  Художественный   \n",
       "2          Особо опасен  221038416  2016-10-10T12:00:00.000Z  Художественный   \n",
       "3          Особо опасен  221026916  2016-06-10T12:00:00.000Z  Художественный   \n",
       "4          Особо опасен  221030815  2015-07-29T12:00:00.000Z  Художественный   \n",
       "\n",
       "                                         film_studio production_country  \\\n",
       "0  Тачстоун Пикчерз, Кобальт Пикчерз, Бикон Пикче...                США   \n",
       "1                              Киностудия \"Мосфильм\"               СССР   \n",
       "2  Юниверсал Пикчерз, Кикстарт Продакшнз, Марк Пл...                США   \n",
       "3  Юниверсал Пикчерз, Кикстарт Продакшнз, Марк Пл...                США   \n",
       "4  Юниверсал Пикчерз, Кикстарт Продакшнз, Марк Пл...                США   \n",
       "\n",
       "            director                                           producer  \\\n",
       "0      Кевин Костнер          Дэвид Валдес, Кевин Костнер, Джейк Эбертс   \n",
       "1          Е.Матвеев                                                NaN   \n",
       "2  Тимур Бекмамбетов  Джим Лемли, Джейсон Нетер, Марк Е.Платт, Яйн Смит   \n",
       "3  Тимур Бекмамбетов  Джим Лемли, Джейсон Нетер, Марк Е.Платт, Яйн Смит   \n",
       "4  Тимур Бекмамбетов  Джим Лемли, Джейсон Нетер, Марк Е.Платт, Яйн Смит   \n",
       "\n",
       "                 age_restriction  refundable_support  nonrefundable_support  \\\n",
       "0    «18+» - запрещено для детей                 NaN                    NaN   \n",
       "1  «6+» - для детей старше 6 лет                 NaN                    NaN   \n",
       "2    «18+» - запрещено для детей                 NaN                    NaN   \n",
       "3    «18+» - запрещено для детей                 NaN                    NaN   \n",
       "4    «18+» - запрещено для детей                 NaN                    NaN   \n",
       "\n",
       "   budget financing_source ratings                     genres  \n",
       "0     NaN              NaN     7.2     боевик,драма,мелодрама  \n",
       "1     NaN              NaN     6.6              драма,военный  \n",
       "2     NaN              NaN     6.8  фантастика,боевик,триллер  \n",
       "3     NaN              NaN     6.8  фантастика,боевик,триллер  \n",
       "4     NaN              NaN     6.8  фантастика,боевик,триллер  "
      ]
     },
     "metadata": {},
     "output_type": "display_data"
    }
   ],
   "source": [
    "import warnings\n",
    "warnings.filterwarnings('ignore')\n",
    "import pandas as pd\n",
    "try:\n",
    "    data_1 = pd.read_csv('/datasets/mkrf_movies.csv')\n",
    "    data_1.info()\n",
    "    display(data_1.head())\n",
    "except FileNotFoundError:\n",
    "    print('Указан неверный путь к файлу')"
   ]
  },
  {
   "cell_type": "code",
   "execution_count": 2,
   "metadata": {
    "scrolled": false
   },
   "outputs": [
    {
     "name": "stdout",
     "output_type": "stream",
     "text": [
      "<class 'pandas.core.frame.DataFrame'>\n",
      "RangeIndex: 3158 entries, 0 to 3157\n",
      "Data columns (total 2 columns):\n",
      " #   Column      Non-Null Count  Dtype  \n",
      "---  ------      --------------  -----  \n",
      " 0   puNumber    3158 non-null   int64  \n",
      " 1   box_office  3158 non-null   float64\n",
      "dtypes: float64(1), int64(1)\n",
      "memory usage: 49.5 KB\n"
     ]
    },
    {
     "data": {
      "text/html": [
       "<div>\n",
       "<style scoped>\n",
       "    .dataframe tbody tr th:only-of-type {\n",
       "        vertical-align: middle;\n",
       "    }\n",
       "\n",
       "    .dataframe tbody tr th {\n",
       "        vertical-align: top;\n",
       "    }\n",
       "\n",
       "    .dataframe thead th {\n",
       "        text-align: right;\n",
       "    }\n",
       "</style>\n",
       "<table border=\"1\" class=\"dataframe\">\n",
       "  <thead>\n",
       "    <tr style=\"text-align: right;\">\n",
       "      <th></th>\n",
       "      <th>puNumber</th>\n",
       "      <th>box_office</th>\n",
       "    </tr>\n",
       "  </thead>\n",
       "  <tbody>\n",
       "    <tr>\n",
       "      <th>0</th>\n",
       "      <td>111000113</td>\n",
       "      <td>2.450000e+03</td>\n",
       "    </tr>\n",
       "    <tr>\n",
       "      <th>1</th>\n",
       "      <td>111000115</td>\n",
       "      <td>6.104000e+04</td>\n",
       "    </tr>\n",
       "    <tr>\n",
       "      <th>2</th>\n",
       "      <td>111000116</td>\n",
       "      <td>1.530300e+08</td>\n",
       "    </tr>\n",
       "    <tr>\n",
       "      <th>3</th>\n",
       "      <td>111000117</td>\n",
       "      <td>1.226096e+07</td>\n",
       "    </tr>\n",
       "    <tr>\n",
       "      <th>4</th>\n",
       "      <td>111000118</td>\n",
       "      <td>1.636841e+08</td>\n",
       "    </tr>\n",
       "  </tbody>\n",
       "</table>\n",
       "</div>"
      ],
      "text/plain": [
       "    puNumber    box_office\n",
       "0  111000113  2.450000e+03\n",
       "1  111000115  6.104000e+04\n",
       "2  111000116  1.530300e+08\n",
       "3  111000117  1.226096e+07\n",
       "4  111000118  1.636841e+08"
      ]
     },
     "metadata": {},
     "output_type": "display_data"
    }
   ],
   "source": [
    "try:\n",
    "    data_2 = pd.read_csv('/datasets/mkrf_shows.csv')\n",
    "    data_2.info()\n",
    "    display(data_2.head())\n",
    "except FileNotFoundError:\n",
    "    print('Указан неверный путь к файлу')"
   ]
  },
  {
   "cell_type": "markdown",
   "metadata": {},
   "source": [
    "Метод .info() показал, что в первом датафрейме **7486** строк и **15** столбцов, а во втором - **3158** строк и **2** столбца. Общим для обоих датафреймов является столбец `puNumber`, в котором содержатся номера прокатного удостоверения для каждого фильма. По этому столбцу можно объединить две таблицы в одну. Однако, тип данных в столбце в обеих таблицах различается. Номер прокатного удостоверения в первой таблице имеет тип **object**, значит, в столбце содержатся строки. Создадим функцию для нахождения строковых значений в столбце."
   ]
  },
  {
   "cell_type": "code",
   "execution_count": 3,
   "metadata": {},
   "outputs": [],
   "source": [
    "def check_int (value):\n",
    "    try:\n",
    "        int(value)\n",
    "        return True\n",
    "    except:\n",
    "        return False"
   ]
  },
  {
   "cell_type": "markdown",
   "metadata": {},
   "source": [
    "Применим функцию и выведем на экран результат:"
   ]
  },
  {
   "cell_type": "code",
   "execution_count": 4,
   "metadata": {
    "scrolled": true
   },
   "outputs": [
    {
     "data": {
      "text/html": [
       "<div>\n",
       "<style scoped>\n",
       "    .dataframe tbody tr th:only-of-type {\n",
       "        vertical-align: middle;\n",
       "    }\n",
       "\n",
       "    .dataframe tbody tr th {\n",
       "        vertical-align: top;\n",
       "    }\n",
       "\n",
       "    .dataframe thead th {\n",
       "        text-align: right;\n",
       "    }\n",
       "</style>\n",
       "<table border=\"1\" class=\"dataframe\">\n",
       "  <thead>\n",
       "    <tr style=\"text-align: right;\">\n",
       "      <th></th>\n",
       "      <th>title</th>\n",
       "      <th>puNumber</th>\n",
       "      <th>show_start_date</th>\n",
       "      <th>type</th>\n",
       "      <th>film_studio</th>\n",
       "      <th>production_country</th>\n",
       "      <th>director</th>\n",
       "      <th>producer</th>\n",
       "      <th>age_restriction</th>\n",
       "      <th>refundable_support</th>\n",
       "      <th>nonrefundable_support</th>\n",
       "      <th>budget</th>\n",
       "      <th>financing_source</th>\n",
       "      <th>ratings</th>\n",
       "      <th>genres</th>\n",
       "      <th>puNumber_int</th>\n",
       "    </tr>\n",
       "  </thead>\n",
       "  <tbody>\n",
       "    <tr>\n",
       "      <th>1797</th>\n",
       "      <td>Курбан-роман. (История с жертвой)</td>\n",
       "      <td>нет</td>\n",
       "      <td>2014-05-15T12:00:00.000Z</td>\n",
       "      <td>Художественный</td>\n",
       "      <td>ФОНД \"ИННОВАЦИЯ\"</td>\n",
       "      <td>Россия</td>\n",
       "      <td>С.Юзеев</td>\n",
       "      <td>М.Галицкая</td>\n",
       "      <td>«12+» - для детей старше 12 лет</td>\n",
       "      <td>NaN</td>\n",
       "      <td>NaN</td>\n",
       "      <td>NaN</td>\n",
       "      <td>NaN</td>\n",
       "      <td>NaN</td>\n",
       "      <td>NaN</td>\n",
       "      <td>False</td>\n",
       "    </tr>\n",
       "  </tbody>\n",
       "</table>\n",
       "</div>"
      ],
      "text/plain": [
       "                                  title puNumber           show_start_date  \\\n",
       "1797  Курбан-роман. (История с жертвой)      нет  2014-05-15T12:00:00.000Z   \n",
       "\n",
       "                type       film_studio production_country director  \\\n",
       "1797  Художественный  ФОНД \"ИННОВАЦИЯ\"             Россия  С.Юзеев   \n",
       "\n",
       "        producer                  age_restriction  refundable_support  \\\n",
       "1797  М.Галицкая  «12+» - для детей старше 12 лет                 NaN   \n",
       "\n",
       "      nonrefundable_support  budget financing_source ratings genres  \\\n",
       "1797                    NaN     NaN              NaN     NaN    NaN   \n",
       "\n",
       "      puNumber_int  \n",
       "1797         False  "
      ]
     },
     "execution_count": 4,
     "metadata": {},
     "output_type": "execute_result"
    }
   ],
   "source": [
    "data_1['puNumber_int'] = data_1['puNumber'].apply(check_int)\n",
    "data_1.query('puNumber_int == False')"
   ]
  },
  {
   "cell_type": "markdown",
   "metadata": {},
   "source": [
    "Функция вывела на экран только одну строку. Для фильма в этой строке вместо номера прокатного удостоверения записано слово \"нет\". Учитывая, что общее количество фильмов - более 7400, можно удалить эту строку из датафрейма, т.к. тип **object** будет мешать объединению двух таблиц по номеру удостоверения. К тому же, у этого фильма нет данных о гос. поддержке. Затем заменим тип данных в столбце `puNumber` на **int**."
   ]
  },
  {
   "cell_type": "code",
   "execution_count": 6,
   "metadata": {
    "scrolled": true
   },
   "outputs": [
    {
     "name": "stdout",
     "output_type": "stream",
     "text": [
      "<class 'pandas.core.frame.DataFrame'>\n",
      "Int64Index: 7485 entries, 0 to 7485\n",
      "Data columns (total 16 columns):\n",
      " #   Column                 Non-Null Count  Dtype  \n",
      "---  ------                 --------------  -----  \n",
      " 0   title                  7485 non-null   object \n",
      " 1   puNumber               7485 non-null   int64  \n",
      " 2   show_start_date        7485 non-null   object \n",
      " 3   type                   7485 non-null   object \n",
      " 4   film_studio            7467 non-null   object \n",
      " 5   production_country     7483 non-null   object \n",
      " 6   director               7476 non-null   object \n",
      " 7   producer               6917 non-null   object \n",
      " 8   age_restriction        7485 non-null   object \n",
      " 9   refundable_support     332 non-null    float64\n",
      " 10  nonrefundable_support  332 non-null    float64\n",
      " 11  budget                 332 non-null    float64\n",
      " 12  financing_source       332 non-null    object \n",
      " 13  ratings                6519 non-null   object \n",
      " 14  genres                 6510 non-null   object \n",
      " 15  puNumber_int           7485 non-null   bool   \n",
      "dtypes: bool(1), float64(3), int64(1), object(11)\n",
      "memory usage: 942.9+ KB\n"
     ]
    },
    {
     "data": {
      "text/plain": [
       "None"
      ]
     },
     "metadata": {},
     "output_type": "display_data"
    }
   ],
   "source": [
    "data_1 = data_1.query('puNumber != \"нет\"')\n",
    "data_1['puNumber'] = data_1['puNumber'].astype('int')\n",
    "display(data_1.info())"
   ]
  },
  {
   "cell_type": "code",
   "execution_count": 7,
   "metadata": {
    "scrolled": true
   },
   "outputs": [
    {
     "name": "stdout",
     "output_type": "stream",
     "text": [
      "<class 'pandas.core.frame.DataFrame'>\n",
      "Int64Index: 7485 entries, 0 to 7484\n",
      "Data columns (total 17 columns):\n",
      " #   Column                 Non-Null Count  Dtype  \n",
      "---  ------                 --------------  -----  \n",
      " 0   title                  7485 non-null   object \n",
      " 1   puNumber               7485 non-null   int64  \n",
      " 2   show_start_date        7485 non-null   object \n",
      " 3   type                   7485 non-null   object \n",
      " 4   film_studio            7467 non-null   object \n",
      " 5   production_country     7483 non-null   object \n",
      " 6   director               7476 non-null   object \n",
      " 7   producer               6917 non-null   object \n",
      " 8   age_restriction        7485 non-null   object \n",
      " 9   refundable_support     332 non-null    float64\n",
      " 10  nonrefundable_support  332 non-null    float64\n",
      " 11  budget                 332 non-null    float64\n",
      " 12  financing_source       332 non-null    object \n",
      " 13  ratings                6519 non-null   object \n",
      " 14  genres                 6510 non-null   object \n",
      " 15  puNumber_int           7485 non-null   bool   \n",
      " 16  box_office             3158 non-null   float64\n",
      "dtypes: bool(1), float64(4), int64(1), object(11)\n",
      "memory usage: 1001.4+ KB\n"
     ]
    },
    {
     "data": {
      "text/plain": [
       "None"
      ]
     },
     "metadata": {},
     "output_type": "display_data"
    },
    {
     "data": {
      "text/html": [
       "<div>\n",
       "<style scoped>\n",
       "    .dataframe tbody tr th:only-of-type {\n",
       "        vertical-align: middle;\n",
       "    }\n",
       "\n",
       "    .dataframe tbody tr th {\n",
       "        vertical-align: top;\n",
       "    }\n",
       "\n",
       "    .dataframe thead th {\n",
       "        text-align: right;\n",
       "    }\n",
       "</style>\n",
       "<table border=\"1\" class=\"dataframe\">\n",
       "  <thead>\n",
       "    <tr style=\"text-align: right;\">\n",
       "      <th></th>\n",
       "      <th>title</th>\n",
       "      <th>puNumber</th>\n",
       "      <th>show_start_date</th>\n",
       "      <th>type</th>\n",
       "      <th>film_studio</th>\n",
       "      <th>production_country</th>\n",
       "      <th>director</th>\n",
       "      <th>producer</th>\n",
       "      <th>age_restriction</th>\n",
       "      <th>refundable_support</th>\n",
       "      <th>nonrefundable_support</th>\n",
       "      <th>budget</th>\n",
       "      <th>financing_source</th>\n",
       "      <th>ratings</th>\n",
       "      <th>genres</th>\n",
       "      <th>puNumber_int</th>\n",
       "      <th>box_office</th>\n",
       "    </tr>\n",
       "  </thead>\n",
       "  <tbody>\n",
       "    <tr>\n",
       "      <th>0</th>\n",
       "      <td>Открытый простор</td>\n",
       "      <td>221048915</td>\n",
       "      <td>2015-11-27T12:00:00.000Z</td>\n",
       "      <td>Художественный</td>\n",
       "      <td>Тачстоун Пикчерз, Кобальт Пикчерз, Бикон Пикче...</td>\n",
       "      <td>США</td>\n",
       "      <td>Кевин Костнер</td>\n",
       "      <td>Дэвид Валдес, Кевин Костнер, Джейк Эбертс</td>\n",
       "      <td>«18+» - запрещено для детей</td>\n",
       "      <td>NaN</td>\n",
       "      <td>NaN</td>\n",
       "      <td>NaN</td>\n",
       "      <td>NaN</td>\n",
       "      <td>7.2</td>\n",
       "      <td>боевик,драма,мелодрама</td>\n",
       "      <td>True</td>\n",
       "      <td>NaN</td>\n",
       "    </tr>\n",
       "    <tr>\n",
       "      <th>1</th>\n",
       "      <td>Особо важное задание</td>\n",
       "      <td>111013716</td>\n",
       "      <td>2016-09-13T12:00:00.000Z</td>\n",
       "      <td>Художественный</td>\n",
       "      <td>Киностудия \"Мосфильм\"</td>\n",
       "      <td>СССР</td>\n",
       "      <td>Е.Матвеев</td>\n",
       "      <td>NaN</td>\n",
       "      <td>«6+» - для детей старше 6 лет</td>\n",
       "      <td>NaN</td>\n",
       "      <td>NaN</td>\n",
       "      <td>NaN</td>\n",
       "      <td>NaN</td>\n",
       "      <td>6.6</td>\n",
       "      <td>драма,военный</td>\n",
       "      <td>True</td>\n",
       "      <td>NaN</td>\n",
       "    </tr>\n",
       "    <tr>\n",
       "      <th>2</th>\n",
       "      <td>Особо опасен</td>\n",
       "      <td>221038416</td>\n",
       "      <td>2016-10-10T12:00:00.000Z</td>\n",
       "      <td>Художественный</td>\n",
       "      <td>Юниверсал Пикчерз, Кикстарт Продакшнз, Марк Пл...</td>\n",
       "      <td>США</td>\n",
       "      <td>Тимур Бекмамбетов</td>\n",
       "      <td>Джим Лемли, Джейсон Нетер, Марк Е.Платт, Яйн Смит</td>\n",
       "      <td>«18+» - запрещено для детей</td>\n",
       "      <td>NaN</td>\n",
       "      <td>NaN</td>\n",
       "      <td>NaN</td>\n",
       "      <td>NaN</td>\n",
       "      <td>6.8</td>\n",
       "      <td>фантастика,боевик,триллер</td>\n",
       "      <td>True</td>\n",
       "      <td>NaN</td>\n",
       "    </tr>\n",
       "    <tr>\n",
       "      <th>3</th>\n",
       "      <td>Особо опасен</td>\n",
       "      <td>221026916</td>\n",
       "      <td>2016-06-10T12:00:00.000Z</td>\n",
       "      <td>Художественный</td>\n",
       "      <td>Юниверсал Пикчерз, Кикстарт Продакшнз, Марк Пл...</td>\n",
       "      <td>США</td>\n",
       "      <td>Тимур Бекмамбетов</td>\n",
       "      <td>Джим Лемли, Джейсон Нетер, Марк Е.Платт, Яйн Смит</td>\n",
       "      <td>«18+» - запрещено для детей</td>\n",
       "      <td>NaN</td>\n",
       "      <td>NaN</td>\n",
       "      <td>NaN</td>\n",
       "      <td>NaN</td>\n",
       "      <td>6.8</td>\n",
       "      <td>фантастика,боевик,триллер</td>\n",
       "      <td>True</td>\n",
       "      <td>NaN</td>\n",
       "    </tr>\n",
       "    <tr>\n",
       "      <th>4</th>\n",
       "      <td>Особо опасен</td>\n",
       "      <td>221030815</td>\n",
       "      <td>2015-07-29T12:00:00.000Z</td>\n",
       "      <td>Художественный</td>\n",
       "      <td>Юниверсал Пикчерз, Кикстарт Продакшнз, Марк Пл...</td>\n",
       "      <td>США</td>\n",
       "      <td>Тимур Бекмамбетов</td>\n",
       "      <td>Джим Лемли, Джейсон Нетер, Марк Е.Платт, Яйн Смит</td>\n",
       "      <td>«18+» - запрещено для детей</td>\n",
       "      <td>NaN</td>\n",
       "      <td>NaN</td>\n",
       "      <td>NaN</td>\n",
       "      <td>NaN</td>\n",
       "      <td>6.8</td>\n",
       "      <td>фантастика,боевик,триллер</td>\n",
       "      <td>True</td>\n",
       "      <td>NaN</td>\n",
       "    </tr>\n",
       "  </tbody>\n",
       "</table>\n",
       "</div>"
      ],
      "text/plain": [
       "                  title   puNumber           show_start_date            type  \\\n",
       "0      Открытый простор  221048915  2015-11-27T12:00:00.000Z  Художественный   \n",
       "1  Особо важное задание  111013716  2016-09-13T12:00:00.000Z  Художественный   \n",
       "2          Особо опасен  221038416  2016-10-10T12:00:00.000Z  Художественный   \n",
       "3          Особо опасен  221026916  2016-06-10T12:00:00.000Z  Художественный   \n",
       "4          Особо опасен  221030815  2015-07-29T12:00:00.000Z  Художественный   \n",
       "\n",
       "                                         film_studio production_country  \\\n",
       "0  Тачстоун Пикчерз, Кобальт Пикчерз, Бикон Пикче...                США   \n",
       "1                              Киностудия \"Мосфильм\"               СССР   \n",
       "2  Юниверсал Пикчерз, Кикстарт Продакшнз, Марк Пл...                США   \n",
       "3  Юниверсал Пикчерз, Кикстарт Продакшнз, Марк Пл...                США   \n",
       "4  Юниверсал Пикчерз, Кикстарт Продакшнз, Марк Пл...                США   \n",
       "\n",
       "            director                                           producer  \\\n",
       "0      Кевин Костнер          Дэвид Валдес, Кевин Костнер, Джейк Эбертс   \n",
       "1          Е.Матвеев                                                NaN   \n",
       "2  Тимур Бекмамбетов  Джим Лемли, Джейсон Нетер, Марк Е.Платт, Яйн Смит   \n",
       "3  Тимур Бекмамбетов  Джим Лемли, Джейсон Нетер, Марк Е.Платт, Яйн Смит   \n",
       "4  Тимур Бекмамбетов  Джим Лемли, Джейсон Нетер, Марк Е.Платт, Яйн Смит   \n",
       "\n",
       "                 age_restriction  refundable_support  nonrefundable_support  \\\n",
       "0    «18+» - запрещено для детей                 NaN                    NaN   \n",
       "1  «6+» - для детей старше 6 лет                 NaN                    NaN   \n",
       "2    «18+» - запрещено для детей                 NaN                    NaN   \n",
       "3    «18+» - запрещено для детей                 NaN                    NaN   \n",
       "4    «18+» - запрещено для детей                 NaN                    NaN   \n",
       "\n",
       "   budget financing_source ratings                     genres  puNumber_int  \\\n",
       "0     NaN              NaN     7.2     боевик,драма,мелодрама          True   \n",
       "1     NaN              NaN     6.6              драма,военный          True   \n",
       "2     NaN              NaN     6.8  фантастика,боевик,триллер          True   \n",
       "3     NaN              NaN     6.8  фантастика,боевик,триллер          True   \n",
       "4     NaN              NaN     6.8  фантастика,боевик,триллер          True   \n",
       "\n",
       "   box_office  \n",
       "0         NaN  \n",
       "1         NaN  \n",
       "2         NaN  \n",
       "3         NaN  \n",
       "4         NaN  "
      ]
     },
     "metadata": {},
     "output_type": "display_data"
    }
   ],
   "source": [
    "data = data_1.merge(data_2, on='puNumber', how='outer')\n",
    "display(data.info())\n",
    "display(data.head())"
   ]
  },
  {
   "cell_type": "markdown",
   "metadata": {
    "id": "KLDGpPG0gFyM"
   },
   "source": [
    "### Шаг 2. Предобработка данных"
   ]
  },
  {
   "cell_type": "markdown",
   "metadata": {
    "id": "ssWwKXsxgFyO"
   },
   "source": [
    "#### Шаг 2.1. Проверьте типы данных\n",
    "\n",
    "- Проверьте типы данных в датафрейме и преобразуйте их там, где это необходимо."
   ]
  },
  {
   "cell_type": "code",
   "execution_count": 8,
   "metadata": {
    "id": "kVGSplJOgFyO"
   },
   "outputs": [
    {
     "name": "stdout",
     "output_type": "stream",
     "text": [
      "<class 'pandas.core.frame.DataFrame'>\n",
      "Int64Index: 7485 entries, 0 to 7484\n",
      "Data columns (total 17 columns):\n",
      " #   Column                 Non-Null Count  Dtype  \n",
      "---  ------                 --------------  -----  \n",
      " 0   title                  7485 non-null   object \n",
      " 1   puNumber               7485 non-null   int64  \n",
      " 2   show_start_date        7485 non-null   object \n",
      " 3   type                   7485 non-null   object \n",
      " 4   film_studio            7467 non-null   object \n",
      " 5   production_country     7483 non-null   object \n",
      " 6   director               7476 non-null   object \n",
      " 7   producer               6917 non-null   object \n",
      " 8   age_restriction        7485 non-null   object \n",
      " 9   refundable_support     332 non-null    float64\n",
      " 10  nonrefundable_support  332 non-null    float64\n",
      " 11  budget                 332 non-null    float64\n",
      " 12  financing_source       332 non-null    object \n",
      " 13  ratings                6519 non-null   object \n",
      " 14  genres                 6510 non-null   object \n",
      " 15  puNumber_int           7485 non-null   bool   \n",
      " 16  box_office             3158 non-null   float64\n",
      "dtypes: bool(1), float64(4), int64(1), object(11)\n",
      "memory usage: 1001.4+ KB\n"
     ]
    }
   ],
   "source": [
    "data.info()"
   ]
  },
  {
   "cell_type": "markdown",
   "metadata": {},
   "source": [
    "Замене подлежит тип данных в столбце `show_start_date`: необходимо преобразовать его в **datetime** для дальнейшей работы. Также следует зменить тип данных в столбце `ratings` на **float**."
   ]
  },
  {
   "cell_type": "markdown",
   "metadata": {},
   "source": [
    "Для начала разберемся с датами премьеры:"
   ]
  },
  {
   "cell_type": "code",
   "execution_count": 9,
   "metadata": {},
   "outputs": [],
   "source": [
    "data['show_start_date'] = pd.to_datetime(data['show_start_date'], format='%Y-%m-%dT%H:%M:%S')"
   ]
  },
  {
   "cell_type": "markdown",
   "metadata": {},
   "source": [
    "Далее посмотрим, почему столбец `ratings` имеет строковый тип:"
   ]
  },
  {
   "cell_type": "code",
   "execution_count": 10,
   "metadata": {
    "scrolled": true
   },
   "outputs": [
    {
     "data": {
      "text/plain": [
       "array(['7.2', '6.6', '6.8', '7.7', '8.3', '8.0', '7.8', '8.1', '7.1',\n",
       "       '6.0', '7.4', '5.8', '8.7', '6.3', '6.9', '5.0', '4.3', '7.3',\n",
       "       '7.0', '6.4', nan, '8.2', '7.5', '6.7', '7.9', '5.9', '6.2', '5.6',\n",
       "       '6.5', '2.4', '7.6', '6.1', '8.6', '8.5', '8.8', '5.5', '5.1',\n",
       "       '5.7', '5.4', '99%', '4.4', '4.5', '5.3', '4.1', '8.4', '2.6',\n",
       "       '3.8', '4.6', '4.8', '4.0', '3.0', '1.6', '4.2', '5.2', '4.7',\n",
       "       '4.9', '3.9', '2.7', '3.3', '2.9', '28%', '3.7', '1.4', '3.1',\n",
       "       '97%', '3.5', '3.2', '2.8', '1.5', '2.1', '2.5', '9.2', '3.4',\n",
       "       '1.1', '3.6', '83%', '64%', '91%', '94%', '62%', '79%', '90%',\n",
       "       '19%', '88%', '1.0', '89%', '1.3', '1.9', '1.8', '1.2', '1.7',\n",
       "       '9.0', '98%', '8.9', '9.1'], dtype=object)"
      ]
     },
     "execution_count": 10,
     "metadata": {},
     "output_type": "execute_result"
    }
   ],
   "source": [
    "data.ratings.unique()"
   ]
  },
  {
   "cell_type": "markdown",
   "metadata": {},
   "source": [
    "Видно, что данные записаны и дробными числами, и процентами. Необходимо привести все данные в столбце к одному виду. Для начала уберём знак **%** из значений, а затем приведём весь стролбец к типу **float**."
   ]
  },
  {
   "cell_type": "code",
   "execution_count": 11,
   "metadata": {},
   "outputs": [],
   "source": [
    "data['ratings'] = data['ratings'].str.replace('%', '')"
   ]
  },
  {
   "cell_type": "code",
   "execution_count": 12,
   "metadata": {},
   "outputs": [
    {
     "data": {
      "text/plain": [
       "array([ 7.2,  6.6,  6.8,  7.7,  8.3,  8. ,  7.8,  8.1,  7.1,  6. ,  7.4,\n",
       "        5.8,  8.7,  6.3,  6.9,  5. ,  4.3,  7.3,  7. ,  6.4,  nan,  8.2,\n",
       "        7.5,  6.7,  7.9,  5.9,  6.2,  5.6,  6.5,  2.4,  7.6,  6.1,  8.6,\n",
       "        8.5,  8.8,  5.5,  5.1,  5.7,  5.4, 99. ,  4.4,  4.5,  5.3,  4.1,\n",
       "        8.4,  2.6,  3.8,  4.6,  4.8,  4. ,  3. ,  1.6,  4.2,  5.2,  4.7,\n",
       "        4.9,  3.9,  2.7,  3.3,  2.9, 28. ,  3.7,  1.4,  3.1, 97. ,  3.5,\n",
       "        3.2,  2.8,  1.5,  2.1,  2.5,  9.2,  3.4,  1.1,  3.6, 83. , 64. ,\n",
       "       91. , 94. , 62. , 79. , 90. , 19. , 88. ,  1. , 89. ,  1.3,  1.9,\n",
       "        1.8,  1.2,  1.7,  9. , 98. ,  8.9,  9.1])"
      ]
     },
     "execution_count": 12,
     "metadata": {},
     "output_type": "execute_result"
    }
   ],
   "source": [
    "data['ratings'] = data['ratings'].astype('float')\n",
    "data['ratings'].unique() # Проверяем, что получилось"
   ]
  },
  {
   "cell_type": "markdown",
   "metadata": {},
   "source": [
    "Можно заметить, что столбец теперь содержит значения, большие чем 10 (те, которые имели ранее знак %). Напишем функцию, которая будет делить такие оценки на 10, чтобы привести весь столбец к общему виду оценок по 10-ти бальной шкале."
   ]
  },
  {
   "cell_type": "code",
   "execution_count": 13,
   "metadata": {},
   "outputs": [],
   "source": [
    "def funq (value):\n",
    "    if value > 10: return value / 10\n",
    "    else: return value"
   ]
  },
  {
   "cell_type": "code",
   "execution_count": 14,
   "metadata": {},
   "outputs": [
    {
     "data": {
      "text/plain": [
       "array([7.2, 6.6, 6.8, 7.7, 8.3, 8. , 7.8, 8.1, 7.1, 6. , 7.4, 5.8, 8.7,\n",
       "       6.3, 6.9, 5. , 4.3, 7.3, 7. , 6.4, nan, 8.2, 7.5, 6.7, 7.9, 5.9,\n",
       "       6.2, 5.6, 6.5, 2.4, 7.6, 6.1, 8.6, 8.5, 8.8, 5.5, 5.1, 5.7, 5.4,\n",
       "       9.9, 4.4, 4.5, 5.3, 4.1, 8.4, 2.6, 3.8, 4.6, 4.8, 4. , 3. , 1.6,\n",
       "       4.2, 5.2, 4.7, 4.9, 3.9, 2.7, 3.3, 2.9, 2.8, 3.7, 1.4, 3.1, 9.7,\n",
       "       3.5, 3.2, 1.5, 2.1, 2.5, 9.2, 3.4, 1.1, 3.6, 9.1, 9.4, 9. , 1.9,\n",
       "       1. , 8.9, 1.3, 1.8, 1.2, 1.7, 9.8])"
      ]
     },
     "execution_count": 14,
     "metadata": {},
     "output_type": "execute_result"
    }
   ],
   "source": [
    "data['ratings'] = data['ratings'].apply(funq)\n",
    "data['ratings'].unique() # Проверка"
   ]
  },
  {
   "cell_type": "markdown",
   "metadata": {},
   "source": [
    "Типы данных в столбцах `show_start_date` и `ratings` успешно заменены."
   ]
  },
  {
   "cell_type": "markdown",
   "metadata": {
    "id": "i0MOLbF-gFyP"
   },
   "source": [
    "#### Шаг 2.2. Изучите пропуски в датафрейме\n",
    "\n",
    "- Объясните, почему заполнили пропуски определённым образом или почему не стали этого делать."
   ]
  },
  {
   "cell_type": "markdown",
   "metadata": {},
   "source": [
    "Изучим процент пропусков по столбцам во всем датафрейме:"
   ]
  },
  {
   "cell_type": "code",
   "execution_count": 15,
   "metadata": {
    "id": "8MJD_lkngFyP"
   },
   "outputs": [
    {
     "data": {
      "text/html": [
       "<style  type=\"text/css\" >\n",
       "#T_53fa0_row0_col0,#T_53fa0_row1_col0,#T_53fa0_row2_col0,#T_53fa0_row3_col0,#T_53fa0_row4_col0,#T_53fa0_row5_col0,#T_53fa0_row6_col0,#T_53fa0_row8_col0,#T_53fa0_row15_col0{\n",
       "            background-color:  #3b4cc0;\n",
       "            color:  #f1f1f1;\n",
       "        }#T_53fa0_row7_col0{\n",
       "            background-color:  #536edd;\n",
       "            color:  #000000;\n",
       "        }#T_53fa0_row9_col0,#T_53fa0_row10_col0,#T_53fa0_row11_col0,#T_53fa0_row12_col0{\n",
       "            background-color:  #b40426;\n",
       "            color:  #f1f1f1;\n",
       "        }#T_53fa0_row13_col0,#T_53fa0_row14_col0{\n",
       "            background-color:  #6485ec;\n",
       "            color:  #000000;\n",
       "        }#T_53fa0_row16_col0{\n",
       "            background-color:  #f2cab5;\n",
       "            color:  #000000;\n",
       "        }</style><table id=\"T_53fa0_\" ><thead>    <tr>        <th class=\"blank level0\" ></th>        <th class=\"col_heading level0 col0\" >0</th>    </tr></thead><tbody>\n",
       "                <tr>\n",
       "                        <th id=\"T_53fa0_level0_row0\" class=\"row_heading level0 row0\" >title</th>\n",
       "                        <td id=\"T_53fa0_row0_col0\" class=\"data row0 col0\" >0.000000</td>\n",
       "            </tr>\n",
       "            <tr>\n",
       "                        <th id=\"T_53fa0_level0_row1\" class=\"row_heading level0 row1\" >puNumber</th>\n",
       "                        <td id=\"T_53fa0_row1_col0\" class=\"data row1 col0\" >0.000000</td>\n",
       "            </tr>\n",
       "            <tr>\n",
       "                        <th id=\"T_53fa0_level0_row2\" class=\"row_heading level0 row2\" >show_start_date</th>\n",
       "                        <td id=\"T_53fa0_row2_col0\" class=\"data row2 col0\" >0.000000</td>\n",
       "            </tr>\n",
       "            <tr>\n",
       "                        <th id=\"T_53fa0_level0_row3\" class=\"row_heading level0 row3\" >type</th>\n",
       "                        <td id=\"T_53fa0_row3_col0\" class=\"data row3 col0\" >0.000000</td>\n",
       "            </tr>\n",
       "            <tr>\n",
       "                        <th id=\"T_53fa0_level0_row4\" class=\"row_heading level0 row4\" >film_studio</th>\n",
       "                        <td id=\"T_53fa0_row4_col0\" class=\"data row4 col0\" >0.240000</td>\n",
       "            </tr>\n",
       "            <tr>\n",
       "                        <th id=\"T_53fa0_level0_row5\" class=\"row_heading level0 row5\" >production_country</th>\n",
       "                        <td id=\"T_53fa0_row5_col0\" class=\"data row5 col0\" >0.030000</td>\n",
       "            </tr>\n",
       "            <tr>\n",
       "                        <th id=\"T_53fa0_level0_row6\" class=\"row_heading level0 row6\" >director</th>\n",
       "                        <td id=\"T_53fa0_row6_col0\" class=\"data row6 col0\" >0.120000</td>\n",
       "            </tr>\n",
       "            <tr>\n",
       "                        <th id=\"T_53fa0_level0_row7\" class=\"row_heading level0 row7\" >producer</th>\n",
       "                        <td id=\"T_53fa0_row7_col0\" class=\"data row7 col0\" >7.590000</td>\n",
       "            </tr>\n",
       "            <tr>\n",
       "                        <th id=\"T_53fa0_level0_row8\" class=\"row_heading level0 row8\" >age_restriction</th>\n",
       "                        <td id=\"T_53fa0_row8_col0\" class=\"data row8 col0\" >0.000000</td>\n",
       "            </tr>\n",
       "            <tr>\n",
       "                        <th id=\"T_53fa0_level0_row9\" class=\"row_heading level0 row9\" >refundable_support</th>\n",
       "                        <td id=\"T_53fa0_row9_col0\" class=\"data row9 col0\" >95.560000</td>\n",
       "            </tr>\n",
       "            <tr>\n",
       "                        <th id=\"T_53fa0_level0_row10\" class=\"row_heading level0 row10\" >nonrefundable_support</th>\n",
       "                        <td id=\"T_53fa0_row10_col0\" class=\"data row10 col0\" >95.560000</td>\n",
       "            </tr>\n",
       "            <tr>\n",
       "                        <th id=\"T_53fa0_level0_row11\" class=\"row_heading level0 row11\" >budget</th>\n",
       "                        <td id=\"T_53fa0_row11_col0\" class=\"data row11 col0\" >95.560000</td>\n",
       "            </tr>\n",
       "            <tr>\n",
       "                        <th id=\"T_53fa0_level0_row12\" class=\"row_heading level0 row12\" >financing_source</th>\n",
       "                        <td id=\"T_53fa0_row12_col0\" class=\"data row12 col0\" >95.560000</td>\n",
       "            </tr>\n",
       "            <tr>\n",
       "                        <th id=\"T_53fa0_level0_row13\" class=\"row_heading level0 row13\" >ratings</th>\n",
       "                        <td id=\"T_53fa0_row13_col0\" class=\"data row13 col0\" >12.910000</td>\n",
       "            </tr>\n",
       "            <tr>\n",
       "                        <th id=\"T_53fa0_level0_row14\" class=\"row_heading level0 row14\" >genres</th>\n",
       "                        <td id=\"T_53fa0_row14_col0\" class=\"data row14 col0\" >13.030000</td>\n",
       "            </tr>\n",
       "            <tr>\n",
       "                        <th id=\"T_53fa0_level0_row15\" class=\"row_heading level0 row15\" >puNumber_int</th>\n",
       "                        <td id=\"T_53fa0_row15_col0\" class=\"data row15 col0\" >0.000000</td>\n",
       "            </tr>\n",
       "            <tr>\n",
       "                        <th id=\"T_53fa0_level0_row16\" class=\"row_heading level0 row16\" >box_office</th>\n",
       "                        <td id=\"T_53fa0_row16_col0\" class=\"data row16 col0\" >57.810000</td>\n",
       "            </tr>\n",
       "    </tbody></table>"
      ],
      "text/plain": [
       "<pandas.io.formats.style.Styler at 0x7f63ecd73c70>"
      ]
     },
     "execution_count": 15,
     "metadata": {},
     "output_type": "execute_result"
    }
   ],
   "source": [
    "pd.DataFrame(round((data.isna().mean()*100),2)).style.background_gradient('coolwarm')"
   ]
  },
  {
   "cell_type": "markdown",
   "metadata": {},
   "source": [
    "Сильно выделяются столбцы с объемами гос. поддержки: ее не было у 95% фильмов. Также, скорее всего, у этих же фильмов отсутствуют данные об общем бюджете. Эти пропуски заменить не представляется возможным.\n",
    "\n",
    "Колонки с процентом пропусков менее 1 трогать не будем, т.к. влияние на общий объем данных эти пропуски оказывают незначительное. Со столбцом `ratings` ничего не сделать - пропуски в нём нельзя заполнять значениями, т.к. мы не можем знать о зависимости появления этих пропусков.\n",
    "\n",
    "Столбец со сборами `box_office` имеет больше половины пропусков. Сделать с ними ничего не получится, и для задачи проекта это не требуется."
   ]
  },
  {
   "cell_type": "markdown",
   "metadata": {
    "id": "4c6k1t9ygFyQ"
   },
   "source": [
    "#### Шаг 2.3. Изучите дубликаты в датафрейме\n",
    "- Проверьте, есть ли в данных дубликаты. Опишите причины, которые могли повлиять на появление дублей."
   ]
  },
  {
   "cell_type": "code",
   "execution_count": 16,
   "metadata": {
    "id": "aKck8RIdgFyQ"
   },
   "outputs": [
    {
     "name": "stdout",
     "output_type": "stream",
     "text": [
      "Количество дубликатов в таблице: 0\n"
     ]
    }
   ],
   "source": [
    "print('Количество дубликатов в таблице:', data.duplicated().sum())"
   ]
  },
  {
   "cell_type": "markdown",
   "metadata": {},
   "source": [
    "Полных дубликатов в таблице нет. Проверим дубликаты по названиям фильмов:"
   ]
  },
  {
   "cell_type": "code",
   "execution_count": 17,
   "metadata": {},
   "outputs": [
    {
     "data": {
      "text/plain": [
       "День святого Валентина_                                        5\n",
       "Дитя тьмы                                                      4\n",
       "Белая мгла /По комиксу Грега Рукка и Стива Либера/             4\n",
       "Безумцы                                                        4\n",
       "Начало_                                                        4\n",
       "Дом грёз                                                       4\n",
       "Жена путешественника во времени                                4\n",
       "Гарри Поттер и Дары Смерти - Часть 1/По роману Дж.К.Ролинг/    4\n",
       "Рапунцель: Запутанная история                                  4\n",
       "Химера                                                         4\n",
       "Знакомство с Факерами 2.                                       4\n",
       "Не брать живым /По книге Раджива Чандрасекарана/               4\n",
       "Прощание                                                       4\n",
       "Шерлок Холмс                                                   4\n",
       "Дорога /По новелле Кормака МкКарфи/                            4\n",
       "Кошмар на улице Вязов /Фильм ужасов/                           4\n",
       "Робин Гуд (Robin Hood)                                         4\n",
       "Непокоренный.                                                  4\n",
       "Лузеры                                                         4\n",
       "Красавчик-2                                                    4\n",
       "Name: title, dtype: int64"
      ]
     },
     "execution_count": 17,
     "metadata": {},
     "output_type": "execute_result"
    }
   ],
   "source": [
    "data['title'].value_counts().head(20)"
   ]
  },
  {
   "cell_type": "markdown",
   "metadata": {},
   "source": [
    "Названия фильмов повторяются, но, учитывая, что полных дубликатов в таблице нет, можно предположить, что это могут быть ремейки фильмов с тем же названием, выпущенные в другом году. Либо это могут быть одинаковые фильмы, выпущенные в одно время, но в разных странах и поэтому имеющие разные номера прокатных удостоверений. В таком случае это все равно разные картины с точки зрения анализа, ведь они могут быть оценены по-разному в каждой стране."
   ]
  },
  {
   "cell_type": "markdown",
   "metadata": {
    "id": "52fOPrEBgFyQ"
   },
   "source": [
    "#### Шаг 2.4. Изучите категориальные значения\n",
    "\n",
    "- Посмотрите, какая общая проблема встречается почти во всех категориальных столбцах;\n",
    "- Исправьте проблемные значения в поле `type`."
   ]
  },
  {
   "cell_type": "code",
   "execution_count": 18,
   "metadata": {
    "id": "PnXKIVdFgFyR"
   },
   "outputs": [
    {
     "name": "stdout",
     "output_type": "stream",
     "text": [
      "<class 'pandas.core.frame.DataFrame'>\n",
      "Int64Index: 7485 entries, 0 to 7484\n",
      "Data columns (total 17 columns):\n",
      " #   Column                 Non-Null Count  Dtype              \n",
      "---  ------                 --------------  -----              \n",
      " 0   title                  7485 non-null   object             \n",
      " 1   puNumber               7485 non-null   int64              \n",
      " 2   show_start_date        7485 non-null   datetime64[ns, UTC]\n",
      " 3   type                   7485 non-null   object             \n",
      " 4   film_studio            7467 non-null   object             \n",
      " 5   production_country     7483 non-null   object             \n",
      " 6   director               7476 non-null   object             \n",
      " 7   producer               6917 non-null   object             \n",
      " 8   age_restriction        7485 non-null   object             \n",
      " 9   refundable_support     332 non-null    float64            \n",
      " 10  nonrefundable_support  332 non-null    float64            \n",
      " 11  budget                 332 non-null    float64            \n",
      " 12  financing_source       332 non-null    object             \n",
      " 13  ratings                6519 non-null   float64            \n",
      " 14  genres                 6510 non-null   object             \n",
      " 15  puNumber_int           7485 non-null   bool               \n",
      " 16  box_office             3158 non-null   float64            \n",
      "dtypes: bool(1), datetime64[ns, UTC](1), float64(5), int64(1), object(9)\n",
      "memory usage: 1001.4+ KB\n"
     ]
    }
   ],
   "source": [
    "data.info() # Взглянем еще раз на общую информацию"
   ]
  },
  {
   "cell_type": "markdown",
   "metadata": {},
   "source": [
    "Категориальными столбцами являются те, которые на данный момент имеют тип **object**.  Создадим список с названиями столбцов с категориальными значениями:"
   ]
  },
  {
   "cell_type": "code",
   "execution_count": 19,
   "metadata": {},
   "outputs": [
    {
     "data": {
      "text/plain": [
       "['title',\n",
       " 'type',\n",
       " 'film_studio',\n",
       " 'production_country',\n",
       " 'director',\n",
       " 'producer',\n",
       " 'age_restriction',\n",
       " 'financing_source',\n",
       " 'genres']"
      ]
     },
     "execution_count": 19,
     "metadata": {},
     "output_type": "execute_result"
    }
   ],
   "source": [
    "list_of_names = data.select_dtypes(include=['object']).columns.tolist()\n",
    "list_of_names"
   ]
  },
  {
   "cell_type": "code",
   "execution_count": 20,
   "metadata": {
    "scrolled": true
   },
   "outputs": [
    {
     "data": {
      "text/plain": [
       "'Столбец'"
      ]
     },
     "metadata": {},
     "output_type": "display_data"
    },
    {
     "data": {
      "text/plain": [
       "'title'"
      ]
     },
     "metadata": {},
     "output_type": "display_data"
    },
    {
     "data": {
      "text/plain": [
       "День святого Валентина_                               5\n",
       "Дитя тьмы                                             4\n",
       "Белая мгла /По комиксу Грега Рукка и Стива Либера/    4\n",
       "Безумцы                                               4\n",
       "Начало_                                               4\n",
       "                                                     ..\n",
       "МУЛЬТ в кино. Выпуск № 10                             1\n",
       "По следам ЧЕРНОЙ КОШКИ                                1\n",
       "Небесный суд.                                         1\n",
       "Горько в Мексике                                      1\n",
       "Непрощенный                                           1\n",
       "Name: title, Length: 6771, dtype: int64"
      ]
     },
     "metadata": {},
     "output_type": "display_data"
    },
    {
     "data": {
      "text/plain": [
       "'Количество уникальных значений:'"
      ]
     },
     "metadata": {},
     "output_type": "display_data"
    },
    {
     "data": {
      "text/plain": [
       "6771"
      ]
     },
     "metadata": {},
     "output_type": "display_data"
    },
    {
     "data": {
      "text/plain": [
       "'Столбец'"
      ]
     },
     "metadata": {},
     "output_type": "display_data"
    },
    {
     "data": {
      "text/plain": [
       "'type'"
      ]
     },
     "metadata": {},
     "output_type": "display_data"
    },
    {
     "data": {
      "text/plain": [
       "Художественный                4519\n",
       " Художественный               1389\n",
       "Анимационный                   828\n",
       "Прочие                         406\n",
       "Документальный                 288\n",
       "Научно-популярный               53\n",
       " Анимационный                    1\n",
       "Музыкально-развлекательный       1\n",
       "Name: type, dtype: int64"
      ]
     },
     "metadata": {},
     "output_type": "display_data"
    },
    {
     "data": {
      "text/plain": [
       "'Количество уникальных значений:'"
      ]
     },
     "metadata": {},
     "output_type": "display_data"
    },
    {
     "data": {
      "text/plain": [
       "8"
      ]
     },
     "metadata": {},
     "output_type": "display_data"
    },
    {
     "data": {
      "text/plain": [
       "'Столбец'"
      ]
     },
     "metadata": {},
     "output_type": "display_data"
    },
    {
     "data": {
      "text/plain": [
       "'film_studio'"
      ]
     },
     "metadata": {},
     "output_type": "display_data"
    },
    {
     "data": {
      "text/plain": [
       "Киностудия \"Мосфильм\"                                                                                                                                                                                                       341\n",
       "ООО \"Мульт в кино\"                                                                                                                                                                                                           57\n",
       "Анимаккорд Лтд                                                                                                                                                                                                               23\n",
       "ООО \"Мульт в кино\"                                                                                                                                                                                                           18\n",
       "ФГУП \"ТПО \"Киностудия \"Союзмультфильм\"                                                                                                                                                                                       16\n",
       "                                                                                                                                                                                                                           ... \n",
       "Энимал Кингдом, Эй24                                                                                                                                                                                                          1\n",
       "Дримуоркс, Рилайэнс Интертейнмент, Партисипант Медиа, Анонимус Контент, Эф Би О                                                                                                                                               1\n",
       "Мета Спарк энд Кёрнфилм                                                                                                                                                                                                       1\n",
       "Катлеа, Бабе Фильм, Эр А И Синема, Франс 2 Синема, СинеСинема, Министеро Пер и Бени и Ле Аттивита Культурали, Сентр Насьональ дю Синема и де Лимаж Аниме, Синесикилиа, Сенси Контемпрорани Синема и Аудиовизиво, Канал +      1\n",
       "Маслюков Иван Валентинович                                                                                                                                                                                                    1\n",
       "Name: film_studio, Length: 5490, dtype: int64"
      ]
     },
     "metadata": {},
     "output_type": "display_data"
    },
    {
     "data": {
      "text/plain": [
       "'Количество уникальных значений:'"
      ]
     },
     "metadata": {},
     "output_type": "display_data"
    },
    {
     "data": {
      "text/plain": [
       "5491"
      ]
     },
     "metadata": {},
     "output_type": "display_data"
    },
    {
     "data": {
      "text/plain": [
       "'Столбец'"
      ]
     },
     "metadata": {},
     "output_type": "display_data"
    },
    {
     "data": {
      "text/plain": [
       "'production_country'"
      ]
     },
     "metadata": {},
     "output_type": "display_data"
    },
    {
     "data": {
      "text/plain": [
       "США                                 2172\n",
       "Россия                              1820\n",
       "СССР                                 347\n",
       "Франция                              301\n",
       "Великобритания                       257\n",
       "                                    ... \n",
       "США - Германия - Япония                1\n",
       "Великобритания - Чехия - Франция       1\n",
       "Франция - Чехия - Бельгия              1\n",
       "Франция, Бельгия, Люксембург           1\n",
       "Испания - Канада                       1\n",
       "Name: production_country, Length: 950, dtype: int64"
      ]
     },
     "metadata": {},
     "output_type": "display_data"
    },
    {
     "data": {
      "text/plain": [
       "'Количество уникальных значений:'"
      ]
     },
     "metadata": {},
     "output_type": "display_data"
    },
    {
     "data": {
      "text/plain": [
       "951"
      ]
     },
     "metadata": {},
     "output_type": "display_data"
    },
    {
     "data": {
      "text/plain": [
       "'Столбец'"
      ]
     },
     "metadata": {},
     "output_type": "display_data"
    },
    {
     "data": {
      "text/plain": [
       "'director'"
      ]
     },
     "metadata": {},
     "output_type": "display_data"
    },
    {
     "data": {
      "text/plain": [
       "О.Семёнова                                                         47\n",
       "Стивен Содерберг                                                   17\n",
       "Д.Червяцов                                                         17\n",
       "Ридли Скотт                                                        16\n",
       "Тиль Швайгер                                                       14\n",
       "                                                                   ..\n",
       "М.Карри, У.Киндрик, И.Пьятт, А.Рис, С.Роден, С.Сури, Н.Хартанто     1\n",
       "Франк Манкузо                                                       1\n",
       "Брайан О.Мэлли                                                      1\n",
       "Тинатаин Каджришвили                                                1\n",
       "Н.Пиотровский                                                       1\n",
       "Name: director, Length: 4811, dtype: int64"
      ]
     },
     "metadata": {},
     "output_type": "display_data"
    },
    {
     "data": {
      "text/plain": [
       "'Количество уникальных значений:'"
      ]
     },
     "metadata": {},
     "output_type": "display_data"
    },
    {
     "data": {
      "text/plain": [
       "4812"
      ]
     },
     "metadata": {},
     "output_type": "display_data"
    },
    {
     "data": {
      "text/plain": [
       "'Столбец'"
      ]
     },
     "metadata": {},
     "output_type": "display_data"
    },
    {
     "data": {
      "text/plain": [
       "'producer'"
      ]
     },
     "metadata": {},
     "output_type": "display_data"
    },
    {
     "data": {
      "text/plain": [
       "П.Смирнов                                        67\n",
       "Олег Кузовков, Дмитрий Ловейко, Марина Ратина    28\n",
       "С.Сельянов                                       18\n",
       "Д.Ловейко, О.Кузовков                            17\n",
       "Джерри Брукхаймер                                11\n",
       "                                                 ..\n",
       "Тодд Гарнер, Кевин Джеймс                         1\n",
       "А.Дж.Дикс, Эван Голдберг, Барбара А.Холл          1\n",
       "Энн-Мари Желина, Пьер Ивен, Мари-Клод Пулен       1\n",
       "Ода Шефер, Дэниэл Баур, Дэниэл Бекерман           1\n",
       "Андреа Блок, Кристиан Хаас                        1\n",
       "Name: producer, Length: 5349, dtype: int64"
      ]
     },
     "metadata": {},
     "output_type": "display_data"
    },
    {
     "data": {
      "text/plain": [
       "'Количество уникальных значений:'"
      ]
     },
     "metadata": {},
     "output_type": "display_data"
    },
    {
     "data": {
      "text/plain": [
       "5350"
      ]
     },
     "metadata": {},
     "output_type": "display_data"
    },
    {
     "data": {
      "text/plain": [
       "'Столбец'"
      ]
     },
     "metadata": {},
     "output_type": "display_data"
    },
    {
     "data": {
      "text/plain": [
       "'age_restriction'"
      ]
     },
     "metadata": {},
     "output_type": "display_data"
    },
    {
     "data": {
      "text/plain": [
       "«16+» - для детей старше 16 лет           2851\n",
       "«18+» - запрещено для детей               1605\n",
       "«12+» - для детей старше 12 лет           1592\n",
       "«0+» - для любой зрительской аудитории     811\n",
       "«6+» - для детей старше 6 лет              626\n",
       "Name: age_restriction, dtype: int64"
      ]
     },
     "metadata": {},
     "output_type": "display_data"
    },
    {
     "data": {
      "text/plain": [
       "'Количество уникальных значений:'"
      ]
     },
     "metadata": {},
     "output_type": "display_data"
    },
    {
     "data": {
      "text/plain": [
       "5"
      ]
     },
     "metadata": {},
     "output_type": "display_data"
    },
    {
     "data": {
      "text/plain": [
       "'Столбец'"
      ]
     },
     "metadata": {},
     "output_type": "display_data"
    },
    {
     "data": {
      "text/plain": [
       "'financing_source'"
      ]
     },
     "metadata": {},
     "output_type": "display_data"
    },
    {
     "data": {
      "text/plain": [
       "Министерство культуры               164\n",
       "Фонд кино                           146\n",
       "Министерство культуры, Фонд кино     22\n",
       "Name: financing_source, dtype: int64"
      ]
     },
     "metadata": {},
     "output_type": "display_data"
    },
    {
     "data": {
      "text/plain": [
       "'Количество уникальных значений:'"
      ]
     },
     "metadata": {},
     "output_type": "display_data"
    },
    {
     "data": {
      "text/plain": [
       "4"
      ]
     },
     "metadata": {},
     "output_type": "display_data"
    },
    {
     "data": {
      "text/plain": [
       "'Столбец'"
      ]
     },
     "metadata": {},
     "output_type": "display_data"
    },
    {
     "data": {
      "text/plain": [
       "'genres'"
      ]
     },
     "metadata": {},
     "output_type": "display_data"
    },
    {
     "data": {
      "text/plain": [
       "драма                         476\n",
       "комедия                       352\n",
       "мелодрама,комедия             222\n",
       "драма,мелодрама,комедия       189\n",
       "драма,мелодрама               183\n",
       "                             ... \n",
       "комедия,семейный,музыка         1\n",
       "драма,боевик,криминал           1\n",
       "мультфильм,биография,драма      1\n",
       "детектив,триллер,боевик         1\n",
       "детектив,драма,триллер          1\n",
       "Name: genres, Length: 742, dtype: int64"
      ]
     },
     "metadata": {},
     "output_type": "display_data"
    },
    {
     "data": {
      "text/plain": [
       "'Количество уникальных значений:'"
      ]
     },
     "metadata": {},
     "output_type": "display_data"
    },
    {
     "data": {
      "text/plain": [
       "743"
      ]
     },
     "metadata": {},
     "output_type": "display_data"
    }
   ],
   "source": [
    "def func (list): # Напишем функцию для вывода на экран уникальных значений в каждом столбце\n",
    "    for name in list:\n",
    "        display('Столбец', name)\n",
    "        display(data[name].value_counts())\n",
    "        display('Количество уникальных значений:', len(data[name].unique()))\n",
    "        \n",
    "func(list_of_names) # Применим функцию    "
   ]
  },
  {
   "cell_type": "markdown",
   "metadata": {},
   "source": [
    "Во всех столбцах значения выглядят нормальными, кроме столбца `title`. Рассмотрим детальнее."
   ]
  },
  {
   "cell_type": "code",
   "execution_count": 21,
   "metadata": {},
   "outputs": [
    {
     "data": {
      "text/plain": [
       "День святого Валентина_                                        5\n",
       "Дитя тьмы                                                      4\n",
       "Белая мгла /По комиксу Грега Рукка и Стива Либера/             4\n",
       "Безумцы                                                        4\n",
       "Начало_                                                        4\n",
       "Дом грёз                                                       4\n",
       "Жена путешественника во времени                                4\n",
       "Гарри Поттер и Дары Смерти - Часть 1/По роману Дж.К.Ролинг/    4\n",
       "Рапунцель: Запутанная история                                  4\n",
       "Химера                                                         4\n",
       "Знакомство с Факерами 2.                                       4\n",
       "Не брать живым /По книге Раджива Чандрасекарана/               4\n",
       "Прощание                                                       4\n",
       "Шерлок Холмс                                                   4\n",
       "Дорога /По новелле Кормака МкКарфи/                            4\n",
       "Кошмар на улице Вязов /Фильм ужасов/                           4\n",
       "Робин Гуд (Robin Hood)                                         4\n",
       "Непокоренный.                                                  4\n",
       "Лузеры                                                         4\n",
       "Красавчик-2                                                    4\n",
       "Name: title, dtype: int64"
      ]
     },
     "execution_count": 21,
     "metadata": {},
     "output_type": "execute_result"
    }
   ],
   "source": [
    "data['title'].value_counts().head(20)"
   ]
  },
  {
   "cell_type": "markdown",
   "metadata": {},
   "source": [
    "В столбце замечены символы `_` и `.` в конце строки. Удалим такие символы из столбца и проверим, изменится ли количество уникальных значений."
   ]
  },
  {
   "cell_type": "code",
   "execution_count": 22,
   "metadata": {},
   "outputs": [
    {
     "data": {
      "text/plain": [
       "Волшебная страна                                                 5\n",
       "День святого Валентина                                           5\n",
       "Белая мгла /По комиксу Грега Рукка и Стива Либера/               4\n",
       "Не брать живым /По книге Раджива Чандрасекарана/                 4\n",
       "Король Лев                                                       4\n",
       "                                                                ..\n",
       "Ты и я навсегда                                                  1\n",
       "Ларри Краун                                                      1\n",
       "Три тенора: Лучано Паваротти, Пласидо Доминго и Хосе Каррерас    1\n",
       "Человек - невидимка                                              1\n",
       "Непрощенный                                                      1\n",
       "Name: title, Length: 6697, dtype: int64"
      ]
     },
     "metadata": {},
     "output_type": "display_data"
    },
    {
     "data": {
      "text/plain": [
       "'Количество уникальных значений:'"
      ]
     },
     "metadata": {},
     "output_type": "display_data"
    },
    {
     "data": {
      "text/plain": [
       "6697"
      ]
     },
     "metadata": {},
     "output_type": "display_data"
    }
   ],
   "source": [
    "data['title'] = data['title'].str.replace('_', '')\n",
    "data['title'] = data['title'].str.replace('.', '')\n",
    "display(data['title'].value_counts())\n",
    "display('Количество уникальных значений:', len(data['title'].unique()))"
   ]
  },
  {
   "cell_type": "markdown",
   "metadata": {},
   "source": [
    "Было **6757**, стало **6697**. Значит, удаление символов `_` и `.` привело к устранению дубликатов."
   ]
  },
  {
   "cell_type": "markdown",
   "metadata": {},
   "source": [
    "В колонке `type` встречаются лишние пробелы в начале названий, что приводит к появлению дубликатов. Уберем лишние пробелы методом **.str.strip()**."
   ]
  },
  {
   "cell_type": "code",
   "execution_count": 23,
   "metadata": {},
   "outputs": [
    {
     "data": {
      "text/plain": [
       "array(['Художественный', 'Анимационный', 'Прочие', 'Документальный',\n",
       "       'Научно-популярный', 'Музыкально-развлекательный'], dtype=object)"
      ]
     },
     "execution_count": 23,
     "metadata": {},
     "output_type": "execute_result"
    }
   ],
   "source": [
    "data['type'] = data['type'].str.strip()\n",
    "data.type.unique()"
   ]
  },
  {
   "cell_type": "markdown",
   "metadata": {},
   "source": [
    "Теперь категории не дублируются, проблемные начения поля `type` исправлены."
   ]
  },
  {
   "cell_type": "markdown",
   "metadata": {
    "id": "XFSN5lrEgFyR"
   },
   "source": [
    "#### Шаг 2.5. Проверьте количественные значения\n",
    "\n",
    "- Проверьте, обнаружились ли в таких столбцах подозрительные данные. Как с такими данными лучше поступить?"
   ]
  },
  {
   "cell_type": "markdown",
   "metadata": {},
   "source": [
    " Создадим список с названиями столбцов с количественными значениями:"
   ]
  },
  {
   "cell_type": "code",
   "execution_count": 24,
   "metadata": {
    "id": "YbzClBxagFyS"
   },
   "outputs": [
    {
     "data": {
      "text/plain": [
       "['puNumber',\n",
       " 'refundable_support',\n",
       " 'nonrefundable_support',\n",
       " 'budget',\n",
       " 'ratings',\n",
       " 'box_office']"
      ]
     },
     "execution_count": 24,
     "metadata": {},
     "output_type": "execute_result"
    }
   ],
   "source": [
    "list_of_names_2 = data.select_dtypes(include=['int', 'float']).columns.tolist()\n",
    "list_of_names_2"
   ]
  },
  {
   "cell_type": "code",
   "execution_count": 25,
   "metadata": {
    "scrolled": true
   },
   "outputs": [
    {
     "data": {
      "text/plain": [
       "'Столбец'"
      ]
     },
     "metadata": {},
     "output_type": "display_data"
    },
    {
     "data": {
      "text/plain": [
       "'puNumber'"
      ]
     },
     "metadata": {},
     "output_type": "display_data"
    },
    {
     "data": {
      "text/plain": [
       "221054410    2\n",
       "221154310    2\n",
       "122001411    1\n",
       "111008518    1\n",
       "114002716    1\n",
       "            ..\n",
       "221015415    1\n",
       "121021814    1\n",
       "224028210    1\n",
       "121013618    1\n",
       "126002916    1\n",
       "Name: puNumber, Length: 7483, dtype: int64"
      ]
     },
     "metadata": {},
     "output_type": "display_data"
    },
    {
     "data": {
      "text/plain": [
       "'Количество уникальных значений:'"
      ]
     },
     "metadata": {},
     "output_type": "display_data"
    },
    {
     "data": {
      "text/plain": [
       "7483"
      ]
     },
     "metadata": {},
     "output_type": "display_data"
    },
    {
     "data": {
      "text/plain": [
       "'Столбец'"
      ]
     },
     "metadata": {},
     "output_type": "display_data"
    },
    {
     "data": {
      "text/plain": [
       "'refundable_support'"
      ]
     },
     "metadata": {},
     "output_type": "display_data"
    },
    {
     "data": {
      "text/plain": [
       "0.0            221\n",
       "20000000.0      12\n",
       "10000000.0      10\n",
       "25000000.0      10\n",
       "15000000.0       9\n",
       "5000000.0        9\n",
       "50000000.0       8\n",
       "40000000.0       8\n",
       "30000000.0       7\n",
       "60000000.0       6\n",
       "100000000.0      5\n",
       "110000000.0      2\n",
       "55000000.0       2\n",
       "19000000.0       2\n",
       "75000000.0       2\n",
       "7153119.0        1\n",
       "35000000.0       1\n",
       "9000000.0        1\n",
       "150000000.0      1\n",
       "36000000.0       1\n",
       "29000000.0       1\n",
       "17000000.0       1\n",
       "180000000.0      1\n",
       "115000000.0      1\n",
       "41000000.0       1\n",
       "26000000.0       1\n",
       "7000000.0        1\n",
       "7346881.0        1\n",
       "3500000.0        1\n",
       "8000000.0        1\n",
       "38000000.0       1\n",
       "44000000.0       1\n",
       "28000000.0       1\n",
       "80000000.0       1\n",
       "Name: refundable_support, dtype: int64"
      ]
     },
     "metadata": {},
     "output_type": "display_data"
    },
    {
     "data": {
      "text/plain": [
       "'Количество уникальных значений:'"
      ]
     },
     "metadata": {},
     "output_type": "display_data"
    },
    {
     "data": {
      "text/plain": [
       "35"
      ]
     },
     "metadata": {},
     "output_type": "display_data"
    },
    {
     "data": {
      "text/plain": [
       "'Столбец'"
      ]
     },
     "metadata": {},
     "output_type": "display_data"
    },
    {
     "data": {
      "text/plain": [
       "'nonrefundable_support'"
      ]
     },
     "metadata": {},
     "output_type": "display_data"
    },
    {
     "data": {
      "text/plain": [
       "25000000.0     53\n",
       "30000000.0     48\n",
       "35000000.0     29\n",
       "40000000.0     26\n",
       "20000000.0     19\n",
       "               ..\n",
       "31000000.0      1\n",
       "29000000.0      1\n",
       "138969465.0     1\n",
       "3000000.0       1\n",
       "25900000.0      1\n",
       "Name: nonrefundable_support, Length: 75, dtype: int64"
      ]
     },
     "metadata": {},
     "output_type": "display_data"
    },
    {
     "data": {
      "text/plain": [
       "'Количество уникальных значений:'"
      ]
     },
     "metadata": {},
     "output_type": "display_data"
    },
    {
     "data": {
      "text/plain": [
       "76"
      ]
     },
     "metadata": {},
     "output_type": "display_data"
    },
    {
     "data": {
      "text/plain": [
       "'Столбец'"
      ]
     },
     "metadata": {},
     "output_type": "display_data"
    },
    {
     "data": {
      "text/plain": [
       "'budget'"
      ]
     },
     "metadata": {},
     "output_type": "display_data"
    },
    {
     "data": {
      "text/plain": [
       "0.0            17\n",
       "38000000.0      6\n",
       "80000000.0      4\n",
       "50000000.0      4\n",
       "40000000.0      3\n",
       "               ..\n",
       "49280496.0      1\n",
       "56693559.0      1\n",
       "57166797.0      1\n",
       "109814241.0     1\n",
       "42252509.0      1\n",
       "Name: budget, Length: 290, dtype: int64"
      ]
     },
     "metadata": {},
     "output_type": "display_data"
    },
    {
     "data": {
      "text/plain": [
       "'Количество уникальных значений:'"
      ]
     },
     "metadata": {},
     "output_type": "display_data"
    },
    {
     "data": {
      "text/plain": [
       "291"
      ]
     },
     "metadata": {},
     "output_type": "display_data"
    },
    {
     "data": {
      "text/plain": [
       "'Столбец'"
      ]
     },
     "metadata": {},
     "output_type": "display_data"
    },
    {
     "data": {
      "text/plain": [
       "'ratings'"
      ]
     },
     "metadata": {},
     "output_type": "display_data"
    },
    {
     "data": {
      "text/plain": [
       "6.6    312\n",
       "6.7    308\n",
       "6.8    261\n",
       "7.2    252\n",
       "6.2    244\n",
       "      ... \n",
       "1.8      1\n",
       "9.2      1\n",
       "1.2      1\n",
       "1.0      1\n",
       "1.3      1\n",
       "Name: ratings, Length: 84, dtype: int64"
      ]
     },
     "metadata": {},
     "output_type": "display_data"
    },
    {
     "data": {
      "text/plain": [
       "'Количество уникальных значений:'"
      ]
     },
     "metadata": {},
     "output_type": "display_data"
    },
    {
     "data": {
      "text/plain": [
       "85"
      ]
     },
     "metadata": {},
     "output_type": "display_data"
    },
    {
     "data": {
      "text/plain": [
       "'Столбец'"
      ]
     },
     "metadata": {},
     "output_type": "display_data"
    },
    {
     "data": {
      "text/plain": [
       "'box_office'"
      ]
     },
     "metadata": {},
     "output_type": "display_data"
    },
    {
     "data": {
      "text/plain": [
       "0.0            24\n",
       "200.0          13\n",
       "300.0          12\n",
       "360.0           9\n",
       "400.0           8\n",
       "               ..\n",
       "9585014.0       1\n",
       "809638458.6     1\n",
       "220728.0        1\n",
       "11332412.0      1\n",
       "52984377.0      1\n",
       "Name: box_office, Length: 2938, dtype: int64"
      ]
     },
     "metadata": {},
     "output_type": "display_data"
    },
    {
     "data": {
      "text/plain": [
       "'Количество уникальных значений:'"
      ]
     },
     "metadata": {},
     "output_type": "display_data"
    },
    {
     "data": {
      "text/plain": [
       "2939"
      ]
     },
     "metadata": {},
     "output_type": "display_data"
    }
   ],
   "source": [
    "def display_func (values): # Напишем функцию для вывода на экран уникальных значений в каждом столбце\n",
    "    for name in values:\n",
    "        display('Столбец', name)\n",
    "        display(data[name].value_counts())\n",
    "        display('Количество уникальных значений:', len(data[name].unique()))\n",
    "        \n",
    "display_func(list_of_names_2) # Применим функцию   "
   ]
  },
  {
   "cell_type": "markdown",
   "metadata": {},
   "source": [
    "Обнаружены следующие подозрительные данные:\n",
    "- в столбце `puNumber` повторяются уникальные номера удостоверений. Таких случаев мало, так что далее изучим строки с этими номерами;\n",
    "\n",
    "\n",
    "- в столбце `budget` есть 17 фильмов с нулевым бюджетом;\n",
    "\n",
    "\n",
    "- в столбце `box_office`встречаются как нулевые сборы, так и слишком маленькие значения (200, 300, 360 и т.д.) по сравнению с более крупными остальными. Возможно, данные о сборах записаны в других единицах(валюте)."
   ]
  },
  {
   "cell_type": "code",
   "execution_count": 26,
   "metadata": {
    "scrolled": true
   },
   "outputs": [
    {
     "data": {
      "text/html": [
       "<div>\n",
       "<style scoped>\n",
       "    .dataframe tbody tr th:only-of-type {\n",
       "        vertical-align: middle;\n",
       "    }\n",
       "\n",
       "    .dataframe tbody tr th {\n",
       "        vertical-align: top;\n",
       "    }\n",
       "\n",
       "    .dataframe thead th {\n",
       "        text-align: right;\n",
       "    }\n",
       "</style>\n",
       "<table border=\"1\" class=\"dataframe\">\n",
       "  <thead>\n",
       "    <tr style=\"text-align: right;\">\n",
       "      <th></th>\n",
       "      <th>title</th>\n",
       "      <th>puNumber</th>\n",
       "      <th>show_start_date</th>\n",
       "      <th>type</th>\n",
       "      <th>film_studio</th>\n",
       "      <th>production_country</th>\n",
       "      <th>director</th>\n",
       "      <th>producer</th>\n",
       "      <th>age_restriction</th>\n",
       "      <th>refundable_support</th>\n",
       "      <th>nonrefundable_support</th>\n",
       "      <th>budget</th>\n",
       "      <th>financing_source</th>\n",
       "      <th>ratings</th>\n",
       "      <th>genres</th>\n",
       "      <th>puNumber_int</th>\n",
       "      <th>box_office</th>\n",
       "    </tr>\n",
       "  </thead>\n",
       "  <tbody>\n",
       "    <tr>\n",
       "      <th>5066</th>\n",
       "      <td>Анализируй это!</td>\n",
       "      <td>221054410</td>\n",
       "      <td>2010-05-25 12:00:00+00:00</td>\n",
       "      <td>Художественный</td>\n",
       "      <td>Уорнер Бразерс, Вилладж Роудшоу Филмз ЛТД</td>\n",
       "      <td>США-Австралия</td>\n",
       "      <td>ХЭрольд Рэмис</td>\n",
       "      <td>Джейн Розенталь, Пола Уейнстейн</td>\n",
       "      <td>«16+» - для детей старше 16 лет</td>\n",
       "      <td>NaN</td>\n",
       "      <td>NaN</td>\n",
       "      <td>NaN</td>\n",
       "      <td>NaN</td>\n",
       "      <td>7.4</td>\n",
       "      <td>комедия,криминал</td>\n",
       "      <td>True</td>\n",
       "      <td>NaN</td>\n",
       "    </tr>\n",
       "    <tr>\n",
       "      <th>5067</th>\n",
       "      <td>Анализируй то!</td>\n",
       "      <td>221054410</td>\n",
       "      <td>2010-05-25 12:00:00+00:00</td>\n",
       "      <td>Художественный</td>\n",
       "      <td>Уорнер Бразерс, Виллидж Роадшоу Пикчерз, Эн-Пи...</td>\n",
       "      <td>США</td>\n",
       "      <td>Гарольд Реймис</td>\n",
       "      <td>Джейн Розенталь, Паул Уэйнстейн</td>\n",
       "      <td>«12+» - для детей старше 12 лет</td>\n",
       "      <td>NaN</td>\n",
       "      <td>NaN</td>\n",
       "      <td>NaN</td>\n",
       "      <td>NaN</td>\n",
       "      <td>6.8</td>\n",
       "      <td>комедия,криминал</td>\n",
       "      <td>True</td>\n",
       "      <td>NaN</td>\n",
       "    </tr>\n",
       "  </tbody>\n",
       "</table>\n",
       "</div>"
      ],
      "text/plain": [
       "                title   puNumber           show_start_date            type  \\\n",
       "5066  Анализируй это!  221054410 2010-05-25 12:00:00+00:00  Художественный   \n",
       "5067   Анализируй то!  221054410 2010-05-25 12:00:00+00:00  Художественный   \n",
       "\n",
       "                                            film_studio production_country  \\\n",
       "5066          Уорнер Бразерс, Вилладж Роудшоу Филмз ЛТД      США-Австралия   \n",
       "5067  Уорнер Бразерс, Виллидж Роадшоу Пикчерз, Эн-Пи...                США   \n",
       "\n",
       "            director                         producer  \\\n",
       "5066   ХЭрольд Рэмис  Джейн Розенталь, Пола Уейнстейн   \n",
       "5067  Гарольд Реймис  Джейн Розенталь, Паул Уэйнстейн   \n",
       "\n",
       "                      age_restriction  refundable_support  \\\n",
       "5066  «16+» - для детей старше 16 лет                 NaN   \n",
       "5067  «12+» - для детей старше 12 лет                 NaN   \n",
       "\n",
       "      nonrefundable_support  budget financing_source  ratings  \\\n",
       "5066                    NaN     NaN              NaN      7.4   \n",
       "5067                    NaN     NaN              NaN      6.8   \n",
       "\n",
       "                genres  puNumber_int  box_office  \n",
       "5066  комедия,криминал          True         NaN  \n",
       "5067  комедия,криминал          True         NaN  "
      ]
     },
     "execution_count": 26,
     "metadata": {},
     "output_type": "execute_result"
    }
   ],
   "source": [
    "data.query('puNumber == 221054410') # Проверим первый повторяющийся номер"
   ]
  },
  {
   "cell_type": "markdown",
   "metadata": {},
   "source": [
    "Заметно, что это два разных фильма. Один является продолжением другого. Изучив информацию, можно узнать, что первый вышел в 1999 году, а второй в 2002, но по данным таблицы оба они вышли в прокат, видимо, в России, в один день и в один год."
   ]
  },
  {
   "cell_type": "code",
   "execution_count": 27,
   "metadata": {},
   "outputs": [
    {
     "data": {
      "text/html": [
       "<div>\n",
       "<style scoped>\n",
       "    .dataframe tbody tr th:only-of-type {\n",
       "        vertical-align: middle;\n",
       "    }\n",
       "\n",
       "    .dataframe tbody tr th {\n",
       "        vertical-align: top;\n",
       "    }\n",
       "\n",
       "    .dataframe thead th {\n",
       "        text-align: right;\n",
       "    }\n",
       "</style>\n",
       "<table border=\"1\" class=\"dataframe\">\n",
       "  <thead>\n",
       "    <tr style=\"text-align: right;\">\n",
       "      <th></th>\n",
       "      <th>title</th>\n",
       "      <th>puNumber</th>\n",
       "      <th>show_start_date</th>\n",
       "      <th>type</th>\n",
       "      <th>film_studio</th>\n",
       "      <th>production_country</th>\n",
       "      <th>director</th>\n",
       "      <th>producer</th>\n",
       "      <th>age_restriction</th>\n",
       "      <th>refundable_support</th>\n",
       "      <th>nonrefundable_support</th>\n",
       "      <th>budget</th>\n",
       "      <th>financing_source</th>\n",
       "      <th>ratings</th>\n",
       "      <th>genres</th>\n",
       "      <th>puNumber_int</th>\n",
       "      <th>box_office</th>\n",
       "    </tr>\n",
       "  </thead>\n",
       "  <tbody>\n",
       "    <tr>\n",
       "      <th>4637</th>\n",
       "      <td>Как жениться и остаться холостым</td>\n",
       "      <td>221154310</td>\n",
       "      <td>2010-12-17 12:00:00+00:00</td>\n",
       "      <td>Художественный</td>\n",
       "      <td>Ше Вам, Скрипт Ассосье, Тэ Фэ 1 Фильм Продюксь...</td>\n",
       "      <td>Франция</td>\n",
       "      <td>Эрик Лартиго</td>\n",
       "      <td>Амандин Било, Алан Шаба</td>\n",
       "      <td>«16+» - для детей старше 16 лет</td>\n",
       "      <td>NaN</td>\n",
       "      <td>NaN</td>\n",
       "      <td>NaN</td>\n",
       "      <td>NaN</td>\n",
       "      <td>7.0</td>\n",
       "      <td>мелодрама,комедия</td>\n",
       "      <td>True</td>\n",
       "      <td>NaN</td>\n",
       "    </tr>\n",
       "    <tr>\n",
       "      <th>4638</th>\n",
       "      <td>Иоанна - женщина на папском престоле /По роман...</td>\n",
       "      <td>221154310</td>\n",
       "      <td>2010-12-17 12:00:00+00:00</td>\n",
       "      <td>Художественный</td>\n",
       "      <td>Константин Фильм, А Эр Ди Дегето Фильм, Дюне ...</td>\n",
       "      <td>Германия - Великобритания - Италия - Испания</td>\n",
       "      <td>Зенке Вортманн</td>\n",
       "      <td>Оливер Бербен, Дорис Д.Хайнце, Фарук Элтан</td>\n",
       "      <td>«16+» - для детей старше 16 лет</td>\n",
       "      <td>NaN</td>\n",
       "      <td>NaN</td>\n",
       "      <td>NaN</td>\n",
       "      <td>NaN</td>\n",
       "      <td>7.6</td>\n",
       "      <td>драма,мелодрама,история</td>\n",
       "      <td>True</td>\n",
       "      <td>NaN</td>\n",
       "    </tr>\n",
       "  </tbody>\n",
       "</table>\n",
       "</div>"
      ],
      "text/plain": [
       "                                                  title   puNumber  \\\n",
       "4637                   Как жениться и остаться холостым  221154310   \n",
       "4638  Иоанна - женщина на папском престоле /По роман...  221154310   \n",
       "\n",
       "               show_start_date            type  \\\n",
       "4637 2010-12-17 12:00:00+00:00  Художественный   \n",
       "4638 2010-12-17 12:00:00+00:00  Художественный   \n",
       "\n",
       "                                            film_studio  \\\n",
       "4637  Ше Вам, Скрипт Ассосье, Тэ Фэ 1 Фильм Продюксь...   \n",
       "4638   Константин Фильм, А Эр Ди Дегето Фильм, Дюне ...   \n",
       "\n",
       "                                production_country        director  \\\n",
       "4637                                       Франция    Эрик Лартиго   \n",
       "4638  Германия - Великобритания - Италия - Испания  Зенке Вортманн   \n",
       "\n",
       "                                        producer  \\\n",
       "4637                     Амандин Било, Алан Шаба   \n",
       "4638  Оливер Бербен, Дорис Д.Хайнце, Фарук Элтан   \n",
       "\n",
       "                      age_restriction  refundable_support  \\\n",
       "4637  «16+» - для детей старше 16 лет                 NaN   \n",
       "4638  «16+» - для детей старше 16 лет                 NaN   \n",
       "\n",
       "      nonrefundable_support  budget financing_source  ratings  \\\n",
       "4637                    NaN     NaN              NaN      7.0   \n",
       "4638                    NaN     NaN              NaN      7.6   \n",
       "\n",
       "                       genres  puNumber_int  box_office  \n",
       "4637        мелодрама,комедия          True         NaN  \n",
       "4638  драма,мелодрама,история          True         NaN  "
      ]
     },
     "execution_count": 27,
     "metadata": {},
     "output_type": "execute_result"
    }
   ],
   "source": [
    "data.query('puNumber == 221154310') # Проверим второй повторяющийся номер"
   ]
  },
  {
   "cell_type": "markdown",
   "metadata": {},
   "source": [
    "Под этим номером находятся два совершенно разных фильма, не связанные друг с другом. Они также вышли в прокат в один и тот же год и день.\n",
    "\n",
    "Можно было бы заменить повторяющийся номер в обоих случаях на другой, который еще не встречается в таблице, но для текущего исследования это не так важно, поэтому оставим все без изменений."
   ]
  },
  {
   "cell_type": "markdown",
   "metadata": {},
   "source": [
    "Рассмотрим связь столбцов `budget`, `refundable_support` и `nonrefundable_support`."
   ]
  },
  {
   "cell_type": "code",
   "execution_count": 28,
   "metadata": {
    "scrolled": true
   },
   "outputs": [
    {
     "data": {
      "text/html": [
       "<div>\n",
       "<style scoped>\n",
       "    .dataframe tbody tr th:only-of-type {\n",
       "        vertical-align: middle;\n",
       "    }\n",
       "\n",
       "    .dataframe tbody tr th {\n",
       "        vertical-align: top;\n",
       "    }\n",
       "\n",
       "    .dataframe thead th {\n",
       "        text-align: right;\n",
       "    }\n",
       "</style>\n",
       "<table border=\"1\" class=\"dataframe\">\n",
       "  <thead>\n",
       "    <tr style=\"text-align: right;\">\n",
       "      <th></th>\n",
       "      <th>refundable_support</th>\n",
       "      <th>nonrefundable_support</th>\n",
       "      <th>budget</th>\n",
       "    </tr>\n",
       "  </thead>\n",
       "  <tbody>\n",
       "    <tr>\n",
       "      <th>1281</th>\n",
       "      <td>0.0</td>\n",
       "      <td>26500000.0</td>\n",
       "      <td>79411900.0</td>\n",
       "    </tr>\n",
       "    <tr>\n",
       "      <th>1448</th>\n",
       "      <td>0.0</td>\n",
       "      <td>26000000.0</td>\n",
       "      <td>37142857.0</td>\n",
       "    </tr>\n",
       "    <tr>\n",
       "      <th>1498</th>\n",
       "      <td>0.0</td>\n",
       "      <td>107847945.0</td>\n",
       "      <td>176023490.0</td>\n",
       "    </tr>\n",
       "    <tr>\n",
       "      <th>1524</th>\n",
       "      <td>0.0</td>\n",
       "      <td>28000000.0</td>\n",
       "      <td>40574140.0</td>\n",
       "    </tr>\n",
       "    <tr>\n",
       "      <th>1792</th>\n",
       "      <td>0.0</td>\n",
       "      <td>25000000.0</td>\n",
       "      <td>40015122.0</td>\n",
       "    </tr>\n",
       "    <tr>\n",
       "      <th>1853</th>\n",
       "      <td>0.0</td>\n",
       "      <td>25000000.0</td>\n",
       "      <td>51850000.0</td>\n",
       "    </tr>\n",
       "    <tr>\n",
       "      <th>1869</th>\n",
       "      <td>50000000.0</td>\n",
       "      <td>100000000.0</td>\n",
       "      <td>220588394.0</td>\n",
       "    </tr>\n",
       "    <tr>\n",
       "      <th>1870</th>\n",
       "      <td>0.0</td>\n",
       "      <td>46502299.0</td>\n",
       "      <td>86210067.0</td>\n",
       "    </tr>\n",
       "    <tr>\n",
       "      <th>1902</th>\n",
       "      <td>0.0</td>\n",
       "      <td>75000000.0</td>\n",
       "      <td>139551503.0</td>\n",
       "    </tr>\n",
       "    <tr>\n",
       "      <th>1911</th>\n",
       "      <td>0.0</td>\n",
       "      <td>34000000.0</td>\n",
       "      <td>48571430.0</td>\n",
       "    </tr>\n",
       "    <tr>\n",
       "      <th>1986</th>\n",
       "      <td>26000000.0</td>\n",
       "      <td>30000000.0</td>\n",
       "      <td>80000000.0</td>\n",
       "    </tr>\n",
       "    <tr>\n",
       "      <th>1990</th>\n",
       "      <td>0.0</td>\n",
       "      <td>25000000.0</td>\n",
       "      <td>36259500.0</td>\n",
       "    </tr>\n",
       "    <tr>\n",
       "      <th>1996</th>\n",
       "      <td>0.0</td>\n",
       "      <td>25000000.0</td>\n",
       "      <td>70876172.0</td>\n",
       "    </tr>\n",
       "    <tr>\n",
       "      <th>2004</th>\n",
       "      <td>30000000.0</td>\n",
       "      <td>40000000.0</td>\n",
       "      <td>252489571.0</td>\n",
       "    </tr>\n",
       "    <tr>\n",
       "      <th>2013</th>\n",
       "      <td>0.0</td>\n",
       "      <td>28000000.0</td>\n",
       "      <td>74910000.0</td>\n",
       "    </tr>\n",
       "    <tr>\n",
       "      <th>2052</th>\n",
       "      <td>0.0</td>\n",
       "      <td>23000000.0</td>\n",
       "      <td>0.0</td>\n",
       "    </tr>\n",
       "    <tr>\n",
       "      <th>2057</th>\n",
       "      <td>0.0</td>\n",
       "      <td>75000000.0</td>\n",
       "      <td>0.0</td>\n",
       "    </tr>\n",
       "    <tr>\n",
       "      <th>2083</th>\n",
       "      <td>0.0</td>\n",
       "      <td>45000000.0</td>\n",
       "      <td>89782312.0</td>\n",
       "    </tr>\n",
       "    <tr>\n",
       "      <th>2091</th>\n",
       "      <td>0.0</td>\n",
       "      <td>56579055.0</td>\n",
       "      <td>436437176.0</td>\n",
       "    </tr>\n",
       "    <tr>\n",
       "      <th>2105</th>\n",
       "      <td>0.0</td>\n",
       "      <td>25500000.0</td>\n",
       "      <td>40500000.0</td>\n",
       "    </tr>\n",
       "    <tr>\n",
       "      <th>2107</th>\n",
       "      <td>0.0</td>\n",
       "      <td>45000000.0</td>\n",
       "      <td>68490606.0</td>\n",
       "    </tr>\n",
       "    <tr>\n",
       "      <th>2108</th>\n",
       "      <td>0.0</td>\n",
       "      <td>30000000.0</td>\n",
       "      <td>45006609.0</td>\n",
       "    </tr>\n",
       "    <tr>\n",
       "      <th>2131</th>\n",
       "      <td>0.0</td>\n",
       "      <td>27510000.0</td>\n",
       "      <td>131000000.0</td>\n",
       "    </tr>\n",
       "    <tr>\n",
       "      <th>2141</th>\n",
       "      <td>30000000.0</td>\n",
       "      <td>30000000.0</td>\n",
       "      <td>500000000.0</td>\n",
       "    </tr>\n",
       "    <tr>\n",
       "      <th>2142</th>\n",
       "      <td>0.0</td>\n",
       "      <td>25000000.0</td>\n",
       "      <td>61011407.0</td>\n",
       "    </tr>\n",
       "    <tr>\n",
       "      <th>2145</th>\n",
       "      <td>0.0</td>\n",
       "      <td>10000000.0</td>\n",
       "      <td>40000000.0</td>\n",
       "    </tr>\n",
       "    <tr>\n",
       "      <th>2149</th>\n",
       "      <td>0.0</td>\n",
       "      <td>25000000.0</td>\n",
       "      <td>37371262.0</td>\n",
       "    </tr>\n",
       "    <tr>\n",
       "      <th>2165</th>\n",
       "      <td>0.0</td>\n",
       "      <td>24000000.0</td>\n",
       "      <td>35296950.0</td>\n",
       "    </tr>\n",
       "    <tr>\n",
       "      <th>2168</th>\n",
       "      <td>0.0</td>\n",
       "      <td>30000000.0</td>\n",
       "      <td>43000000.0</td>\n",
       "    </tr>\n",
       "    <tr>\n",
       "      <th>2204</th>\n",
       "      <td>0.0</td>\n",
       "      <td>30000000.0</td>\n",
       "      <td>77401751.0</td>\n",
       "    </tr>\n",
       "  </tbody>\n",
       "</table>\n",
       "</div>"
      ],
      "text/plain": [
       "      refundable_support  nonrefundable_support       budget\n",
       "1281                 0.0             26500000.0   79411900.0\n",
       "1448                 0.0             26000000.0   37142857.0\n",
       "1498                 0.0            107847945.0  176023490.0\n",
       "1524                 0.0             28000000.0   40574140.0\n",
       "1792                 0.0             25000000.0   40015122.0\n",
       "1853                 0.0             25000000.0   51850000.0\n",
       "1869          50000000.0            100000000.0  220588394.0\n",
       "1870                 0.0             46502299.0   86210067.0\n",
       "1902                 0.0             75000000.0  139551503.0\n",
       "1911                 0.0             34000000.0   48571430.0\n",
       "1986          26000000.0             30000000.0   80000000.0\n",
       "1990                 0.0             25000000.0   36259500.0\n",
       "1996                 0.0             25000000.0   70876172.0\n",
       "2004          30000000.0             40000000.0  252489571.0\n",
       "2013                 0.0             28000000.0   74910000.0\n",
       "2052                 0.0             23000000.0          0.0\n",
       "2057                 0.0             75000000.0          0.0\n",
       "2083                 0.0             45000000.0   89782312.0\n",
       "2091                 0.0             56579055.0  436437176.0\n",
       "2105                 0.0             25500000.0   40500000.0\n",
       "2107                 0.0             45000000.0   68490606.0\n",
       "2108                 0.0             30000000.0   45006609.0\n",
       "2131                 0.0             27510000.0  131000000.0\n",
       "2141          30000000.0             30000000.0  500000000.0\n",
       "2142                 0.0             25000000.0   61011407.0\n",
       "2145                 0.0             10000000.0   40000000.0\n",
       "2149                 0.0             25000000.0   37371262.0\n",
       "2165                 0.0             24000000.0   35296950.0\n",
       "2168                 0.0             30000000.0   43000000.0\n",
       "2204                 0.0             30000000.0   77401751.0"
      ]
     },
     "execution_count": 28,
     "metadata": {},
     "output_type": "execute_result"
    }
   ],
   "source": [
    "budget_data = data.loc[:, 'refundable_support':'budget'].query('budget.isna() == False')\n",
    "budget_data.head(30)"
   ]
  },
  {
   "cell_type": "markdown",
   "metadata": {},
   "source": [
    "Чаще встречаются фильмы, не имеющие возвратных средств гос. поддержки. Также заметно, что бюджет всегда превышает объём гос. поддержки."
   ]
  },
  {
   "cell_type": "markdown",
   "metadata": {
    "id": "Eu6oWp2CgFyS"
   },
   "source": [
    "#### Шаг 2.6. Добавьте новые столбцы\n",
    "\n",
    "\n",
    "\n"
   ]
  },
  {
   "cell_type": "markdown",
   "metadata": {
    "id": "7GgW-UpAgFyS"
   },
   "source": [
    "- Создайте столбец с информацией о годе проката. Выделите год из даты премьеры фильма."
   ]
  },
  {
   "cell_type": "code",
   "execution_count": 29,
   "metadata": {
    "id": "I-yd1DkWgFyT"
   },
   "outputs": [
    {
     "data": {
      "text/html": [
       "<div>\n",
       "<style scoped>\n",
       "    .dataframe tbody tr th:only-of-type {\n",
       "        vertical-align: middle;\n",
       "    }\n",
       "\n",
       "    .dataframe tbody tr th {\n",
       "        vertical-align: top;\n",
       "    }\n",
       "\n",
       "    .dataframe thead th {\n",
       "        text-align: right;\n",
       "    }\n",
       "</style>\n",
       "<table border=\"1\" class=\"dataframe\">\n",
       "  <thead>\n",
       "    <tr style=\"text-align: right;\">\n",
       "      <th></th>\n",
       "      <th>title</th>\n",
       "      <th>puNumber</th>\n",
       "      <th>show_start_date</th>\n",
       "      <th>type</th>\n",
       "      <th>film_studio</th>\n",
       "      <th>production_country</th>\n",
       "      <th>director</th>\n",
       "      <th>producer</th>\n",
       "      <th>age_restriction</th>\n",
       "      <th>refundable_support</th>\n",
       "      <th>nonrefundable_support</th>\n",
       "      <th>budget</th>\n",
       "      <th>financing_source</th>\n",
       "      <th>ratings</th>\n",
       "      <th>genres</th>\n",
       "      <th>puNumber_int</th>\n",
       "      <th>box_office</th>\n",
       "      <th>year</th>\n",
       "    </tr>\n",
       "  </thead>\n",
       "  <tbody>\n",
       "    <tr>\n",
       "      <th>0</th>\n",
       "      <td>Открытый простор</td>\n",
       "      <td>221048915</td>\n",
       "      <td>2015-11-27 12:00:00+00:00</td>\n",
       "      <td>Художественный</td>\n",
       "      <td>Тачстоун Пикчерз, Кобальт Пикчерз, Бикон Пикче...</td>\n",
       "      <td>США</td>\n",
       "      <td>Кевин Костнер</td>\n",
       "      <td>Дэвид Валдес, Кевин Костнер, Джейк Эбертс</td>\n",
       "      <td>«18+» - запрещено для детей</td>\n",
       "      <td>NaN</td>\n",
       "      <td>NaN</td>\n",
       "      <td>NaN</td>\n",
       "      <td>NaN</td>\n",
       "      <td>7.2</td>\n",
       "      <td>боевик,драма,мелодрама</td>\n",
       "      <td>True</td>\n",
       "      <td>NaN</td>\n",
       "      <td>2015</td>\n",
       "    </tr>\n",
       "    <tr>\n",
       "      <th>1</th>\n",
       "      <td>Особо важное задание</td>\n",
       "      <td>111013716</td>\n",
       "      <td>2016-09-13 12:00:00+00:00</td>\n",
       "      <td>Художественный</td>\n",
       "      <td>Киностудия \"Мосфильм\"</td>\n",
       "      <td>СССР</td>\n",
       "      <td>Е.Матвеев</td>\n",
       "      <td>NaN</td>\n",
       "      <td>«6+» - для детей старше 6 лет</td>\n",
       "      <td>NaN</td>\n",
       "      <td>NaN</td>\n",
       "      <td>NaN</td>\n",
       "      <td>NaN</td>\n",
       "      <td>6.6</td>\n",
       "      <td>драма,военный</td>\n",
       "      <td>True</td>\n",
       "      <td>NaN</td>\n",
       "      <td>2016</td>\n",
       "    </tr>\n",
       "    <tr>\n",
       "      <th>2</th>\n",
       "      <td>Особо опасен</td>\n",
       "      <td>221038416</td>\n",
       "      <td>2016-10-10 12:00:00+00:00</td>\n",
       "      <td>Художественный</td>\n",
       "      <td>Юниверсал Пикчерз, Кикстарт Продакшнз, Марк Пл...</td>\n",
       "      <td>США</td>\n",
       "      <td>Тимур Бекмамбетов</td>\n",
       "      <td>Джим Лемли, Джейсон Нетер, Марк Е.Платт, Яйн Смит</td>\n",
       "      <td>«18+» - запрещено для детей</td>\n",
       "      <td>NaN</td>\n",
       "      <td>NaN</td>\n",
       "      <td>NaN</td>\n",
       "      <td>NaN</td>\n",
       "      <td>6.8</td>\n",
       "      <td>фантастика,боевик,триллер</td>\n",
       "      <td>True</td>\n",
       "      <td>NaN</td>\n",
       "      <td>2016</td>\n",
       "    </tr>\n",
       "    <tr>\n",
       "      <th>3</th>\n",
       "      <td>Особо опасен</td>\n",
       "      <td>221026916</td>\n",
       "      <td>2016-06-10 12:00:00+00:00</td>\n",
       "      <td>Художественный</td>\n",
       "      <td>Юниверсал Пикчерз, Кикстарт Продакшнз, Марк Пл...</td>\n",
       "      <td>США</td>\n",
       "      <td>Тимур Бекмамбетов</td>\n",
       "      <td>Джим Лемли, Джейсон Нетер, Марк Е.Платт, Яйн Смит</td>\n",
       "      <td>«18+» - запрещено для детей</td>\n",
       "      <td>NaN</td>\n",
       "      <td>NaN</td>\n",
       "      <td>NaN</td>\n",
       "      <td>NaN</td>\n",
       "      <td>6.8</td>\n",
       "      <td>фантастика,боевик,триллер</td>\n",
       "      <td>True</td>\n",
       "      <td>NaN</td>\n",
       "      <td>2016</td>\n",
       "    </tr>\n",
       "    <tr>\n",
       "      <th>4</th>\n",
       "      <td>Особо опасен</td>\n",
       "      <td>221030815</td>\n",
       "      <td>2015-07-29 12:00:00+00:00</td>\n",
       "      <td>Художественный</td>\n",
       "      <td>Юниверсал Пикчерз, Кикстарт Продакшнз, Марк Пл...</td>\n",
       "      <td>США</td>\n",
       "      <td>Тимур Бекмамбетов</td>\n",
       "      <td>Джим Лемли, Джейсон Нетер, Марк Е.Платт, Яйн Смит</td>\n",
       "      <td>«18+» - запрещено для детей</td>\n",
       "      <td>NaN</td>\n",
       "      <td>NaN</td>\n",
       "      <td>NaN</td>\n",
       "      <td>NaN</td>\n",
       "      <td>6.8</td>\n",
       "      <td>фантастика,боевик,триллер</td>\n",
       "      <td>True</td>\n",
       "      <td>NaN</td>\n",
       "      <td>2015</td>\n",
       "    </tr>\n",
       "  </tbody>\n",
       "</table>\n",
       "</div>"
      ],
      "text/plain": [
       "                  title   puNumber           show_start_date            type  \\\n",
       "0      Открытый простор  221048915 2015-11-27 12:00:00+00:00  Художественный   \n",
       "1  Особо важное задание  111013716 2016-09-13 12:00:00+00:00  Художественный   \n",
       "2          Особо опасен  221038416 2016-10-10 12:00:00+00:00  Художественный   \n",
       "3          Особо опасен  221026916 2016-06-10 12:00:00+00:00  Художественный   \n",
       "4          Особо опасен  221030815 2015-07-29 12:00:00+00:00  Художественный   \n",
       "\n",
       "                                         film_studio production_country  \\\n",
       "0  Тачстоун Пикчерз, Кобальт Пикчерз, Бикон Пикче...                США   \n",
       "1                              Киностудия \"Мосфильм\"               СССР   \n",
       "2  Юниверсал Пикчерз, Кикстарт Продакшнз, Марк Пл...                США   \n",
       "3  Юниверсал Пикчерз, Кикстарт Продакшнз, Марк Пл...                США   \n",
       "4  Юниверсал Пикчерз, Кикстарт Продакшнз, Марк Пл...                США   \n",
       "\n",
       "            director                                           producer  \\\n",
       "0      Кевин Костнер          Дэвид Валдес, Кевин Костнер, Джейк Эбертс   \n",
       "1          Е.Матвеев                                                NaN   \n",
       "2  Тимур Бекмамбетов  Джим Лемли, Джейсон Нетер, Марк Е.Платт, Яйн Смит   \n",
       "3  Тимур Бекмамбетов  Джим Лемли, Джейсон Нетер, Марк Е.Платт, Яйн Смит   \n",
       "4  Тимур Бекмамбетов  Джим Лемли, Джейсон Нетер, Марк Е.Платт, Яйн Смит   \n",
       "\n",
       "                 age_restriction  refundable_support  nonrefundable_support  \\\n",
       "0    «18+» - запрещено для детей                 NaN                    NaN   \n",
       "1  «6+» - для детей старше 6 лет                 NaN                    NaN   \n",
       "2    «18+» - запрещено для детей                 NaN                    NaN   \n",
       "3    «18+» - запрещено для детей                 NaN                    NaN   \n",
       "4    «18+» - запрещено для детей                 NaN                    NaN   \n",
       "\n",
       "   budget financing_source  ratings                     genres  puNumber_int  \\\n",
       "0     NaN              NaN      7.2     боевик,драма,мелодрама          True   \n",
       "1     NaN              NaN      6.6              драма,военный          True   \n",
       "2     NaN              NaN      6.8  фантастика,боевик,триллер          True   \n",
       "3     NaN              NaN      6.8  фантастика,боевик,триллер          True   \n",
       "4     NaN              NaN      6.8  фантастика,боевик,триллер          True   \n",
       "\n",
       "   box_office  year  \n",
       "0         NaN  2015  \n",
       "1         NaN  2016  \n",
       "2         NaN  2016  \n",
       "3         NaN  2016  \n",
       "4         NaN  2015  "
      ]
     },
     "execution_count": 29,
     "metadata": {},
     "output_type": "execute_result"
    }
   ],
   "source": [
    "data['year'] = data['show_start_date'].dt.year\n",
    "data.head()"
   ]
  },
  {
   "cell_type": "markdown",
   "metadata": {
    "id": "nFTDLDYOgFyT"
   },
   "source": [
    "- Создайте два столбца: с именем и фамилией главного режиссёра и основным жанром фильма. В столбцы войдут первые значения из списка режиссёров и жанров соответственно."
   ]
  },
  {
   "cell_type": "markdown",
   "metadata": {},
   "source": [
    "Для выполнения этой задачи воспользуемся методом **.str.split()**. Он будет создавать из каждой строки список с помощью разделителя (а это во всех случаях запятая), а затем \"доставать\" из этого списка первый элемент и заносить в новый столбец. Данное решение занимает всего 2 строчки кода."
   ]
  },
  {
   "cell_type": "code",
   "execution_count": 30,
   "metadata": {},
   "outputs": [
    {
     "data": {
      "text/html": [
       "<div>\n",
       "<style scoped>\n",
       "    .dataframe tbody tr th:only-of-type {\n",
       "        vertical-align: middle;\n",
       "    }\n",
       "\n",
       "    .dataframe tbody tr th {\n",
       "        vertical-align: top;\n",
       "    }\n",
       "\n",
       "    .dataframe thead th {\n",
       "        text-align: right;\n",
       "    }\n",
       "</style>\n",
       "<table border=\"1\" class=\"dataframe\">\n",
       "  <thead>\n",
       "    <tr style=\"text-align: right;\">\n",
       "      <th></th>\n",
       "      <th>title</th>\n",
       "      <th>puNumber</th>\n",
       "      <th>show_start_date</th>\n",
       "      <th>type</th>\n",
       "      <th>film_studio</th>\n",
       "      <th>production_country</th>\n",
       "      <th>director</th>\n",
       "      <th>producer</th>\n",
       "      <th>age_restriction</th>\n",
       "      <th>refundable_support</th>\n",
       "      <th>nonrefundable_support</th>\n",
       "      <th>budget</th>\n",
       "      <th>financing_source</th>\n",
       "      <th>ratings</th>\n",
       "      <th>genres</th>\n",
       "      <th>puNumber_int</th>\n",
       "      <th>box_office</th>\n",
       "      <th>year</th>\n",
       "      <th>main_genre</th>\n",
       "      <th>main_director</th>\n",
       "    </tr>\n",
       "  </thead>\n",
       "  <tbody>\n",
       "    <tr>\n",
       "      <th>0</th>\n",
       "      <td>Открытый простор</td>\n",
       "      <td>221048915</td>\n",
       "      <td>2015-11-27 12:00:00+00:00</td>\n",
       "      <td>Художественный</td>\n",
       "      <td>Тачстоун Пикчерз, Кобальт Пикчерз, Бикон Пикче...</td>\n",
       "      <td>США</td>\n",
       "      <td>Кевин Костнер</td>\n",
       "      <td>Дэвид Валдес, Кевин Костнер, Джейк Эбертс</td>\n",
       "      <td>«18+» - запрещено для детей</td>\n",
       "      <td>NaN</td>\n",
       "      <td>NaN</td>\n",
       "      <td>NaN</td>\n",
       "      <td>NaN</td>\n",
       "      <td>7.2</td>\n",
       "      <td>боевик,драма,мелодрама</td>\n",
       "      <td>True</td>\n",
       "      <td>NaN</td>\n",
       "      <td>2015</td>\n",
       "      <td>боевик</td>\n",
       "      <td>Кевин Костнер</td>\n",
       "    </tr>\n",
       "    <tr>\n",
       "      <th>1</th>\n",
       "      <td>Особо важное задание</td>\n",
       "      <td>111013716</td>\n",
       "      <td>2016-09-13 12:00:00+00:00</td>\n",
       "      <td>Художественный</td>\n",
       "      <td>Киностудия \"Мосфильм\"</td>\n",
       "      <td>СССР</td>\n",
       "      <td>Е.Матвеев</td>\n",
       "      <td>NaN</td>\n",
       "      <td>«6+» - для детей старше 6 лет</td>\n",
       "      <td>NaN</td>\n",
       "      <td>NaN</td>\n",
       "      <td>NaN</td>\n",
       "      <td>NaN</td>\n",
       "      <td>6.6</td>\n",
       "      <td>драма,военный</td>\n",
       "      <td>True</td>\n",
       "      <td>NaN</td>\n",
       "      <td>2016</td>\n",
       "      <td>драма</td>\n",
       "      <td>Е.Матвеев</td>\n",
       "    </tr>\n",
       "    <tr>\n",
       "      <th>2</th>\n",
       "      <td>Особо опасен</td>\n",
       "      <td>221038416</td>\n",
       "      <td>2016-10-10 12:00:00+00:00</td>\n",
       "      <td>Художественный</td>\n",
       "      <td>Юниверсал Пикчерз, Кикстарт Продакшнз, Марк Пл...</td>\n",
       "      <td>США</td>\n",
       "      <td>Тимур Бекмамбетов</td>\n",
       "      <td>Джим Лемли, Джейсон Нетер, Марк Е.Платт, Яйн Смит</td>\n",
       "      <td>«18+» - запрещено для детей</td>\n",
       "      <td>NaN</td>\n",
       "      <td>NaN</td>\n",
       "      <td>NaN</td>\n",
       "      <td>NaN</td>\n",
       "      <td>6.8</td>\n",
       "      <td>фантастика,боевик,триллер</td>\n",
       "      <td>True</td>\n",
       "      <td>NaN</td>\n",
       "      <td>2016</td>\n",
       "      <td>фантастика</td>\n",
       "      <td>Тимур Бекмамбетов</td>\n",
       "    </tr>\n",
       "    <tr>\n",
       "      <th>3</th>\n",
       "      <td>Особо опасен</td>\n",
       "      <td>221026916</td>\n",
       "      <td>2016-06-10 12:00:00+00:00</td>\n",
       "      <td>Художественный</td>\n",
       "      <td>Юниверсал Пикчерз, Кикстарт Продакшнз, Марк Пл...</td>\n",
       "      <td>США</td>\n",
       "      <td>Тимур Бекмамбетов</td>\n",
       "      <td>Джим Лемли, Джейсон Нетер, Марк Е.Платт, Яйн Смит</td>\n",
       "      <td>«18+» - запрещено для детей</td>\n",
       "      <td>NaN</td>\n",
       "      <td>NaN</td>\n",
       "      <td>NaN</td>\n",
       "      <td>NaN</td>\n",
       "      <td>6.8</td>\n",
       "      <td>фантастика,боевик,триллер</td>\n",
       "      <td>True</td>\n",
       "      <td>NaN</td>\n",
       "      <td>2016</td>\n",
       "      <td>фантастика</td>\n",
       "      <td>Тимур Бекмамбетов</td>\n",
       "    </tr>\n",
       "    <tr>\n",
       "      <th>4</th>\n",
       "      <td>Особо опасен</td>\n",
       "      <td>221030815</td>\n",
       "      <td>2015-07-29 12:00:00+00:00</td>\n",
       "      <td>Художественный</td>\n",
       "      <td>Юниверсал Пикчерз, Кикстарт Продакшнз, Марк Пл...</td>\n",
       "      <td>США</td>\n",
       "      <td>Тимур Бекмамбетов</td>\n",
       "      <td>Джим Лемли, Джейсон Нетер, Марк Е.Платт, Яйн Смит</td>\n",
       "      <td>«18+» - запрещено для детей</td>\n",
       "      <td>NaN</td>\n",
       "      <td>NaN</td>\n",
       "      <td>NaN</td>\n",
       "      <td>NaN</td>\n",
       "      <td>6.8</td>\n",
       "      <td>фантастика,боевик,триллер</td>\n",
       "      <td>True</td>\n",
       "      <td>NaN</td>\n",
       "      <td>2015</td>\n",
       "      <td>фантастика</td>\n",
       "      <td>Тимур Бекмамбетов</td>\n",
       "    </tr>\n",
       "  </tbody>\n",
       "</table>\n",
       "</div>"
      ],
      "text/plain": [
       "                  title   puNumber           show_start_date            type  \\\n",
       "0      Открытый простор  221048915 2015-11-27 12:00:00+00:00  Художественный   \n",
       "1  Особо важное задание  111013716 2016-09-13 12:00:00+00:00  Художественный   \n",
       "2          Особо опасен  221038416 2016-10-10 12:00:00+00:00  Художественный   \n",
       "3          Особо опасен  221026916 2016-06-10 12:00:00+00:00  Художественный   \n",
       "4          Особо опасен  221030815 2015-07-29 12:00:00+00:00  Художественный   \n",
       "\n",
       "                                         film_studio production_country  \\\n",
       "0  Тачстоун Пикчерз, Кобальт Пикчерз, Бикон Пикче...                США   \n",
       "1                              Киностудия \"Мосфильм\"               СССР   \n",
       "2  Юниверсал Пикчерз, Кикстарт Продакшнз, Марк Пл...                США   \n",
       "3  Юниверсал Пикчерз, Кикстарт Продакшнз, Марк Пл...                США   \n",
       "4  Юниверсал Пикчерз, Кикстарт Продакшнз, Марк Пл...                США   \n",
       "\n",
       "            director                                           producer  \\\n",
       "0      Кевин Костнер          Дэвид Валдес, Кевин Костнер, Джейк Эбертс   \n",
       "1          Е.Матвеев                                                NaN   \n",
       "2  Тимур Бекмамбетов  Джим Лемли, Джейсон Нетер, Марк Е.Платт, Яйн Смит   \n",
       "3  Тимур Бекмамбетов  Джим Лемли, Джейсон Нетер, Марк Е.Платт, Яйн Смит   \n",
       "4  Тимур Бекмамбетов  Джим Лемли, Джейсон Нетер, Марк Е.Платт, Яйн Смит   \n",
       "\n",
       "                 age_restriction  refundable_support  nonrefundable_support  \\\n",
       "0    «18+» - запрещено для детей                 NaN                    NaN   \n",
       "1  «6+» - для детей старше 6 лет                 NaN                    NaN   \n",
       "2    «18+» - запрещено для детей                 NaN                    NaN   \n",
       "3    «18+» - запрещено для детей                 NaN                    NaN   \n",
       "4    «18+» - запрещено для детей                 NaN                    NaN   \n",
       "\n",
       "   budget financing_source  ratings                     genres  puNumber_int  \\\n",
       "0     NaN              NaN      7.2     боевик,драма,мелодрама          True   \n",
       "1     NaN              NaN      6.6              драма,военный          True   \n",
       "2     NaN              NaN      6.8  фантастика,боевик,триллер          True   \n",
       "3     NaN              NaN      6.8  фантастика,боевик,триллер          True   \n",
       "4     NaN              NaN      6.8  фантастика,боевик,триллер          True   \n",
       "\n",
       "   box_office  year  main_genre      main_director  \n",
       "0         NaN  2015      боевик      Кевин Костнер  \n",
       "1         NaN  2016       драма          Е.Матвеев  \n",
       "2         NaN  2016  фантастика  Тимур Бекмамбетов  \n",
       "3         NaN  2016  фантастика  Тимур Бекмамбетов  \n",
       "4         NaN  2015  фантастика  Тимур Бекмамбетов  "
      ]
     },
     "execution_count": 30,
     "metadata": {},
     "output_type": "execute_result"
    }
   ],
   "source": [
    "data['main_genre'] = data['genres'].str.split(',').str[0]\n",
    "data['main_director'] = data['director'].str.split(',').str[0]\n",
    "data.head()"
   ]
  },
  {
   "cell_type": "markdown",
   "metadata": {
    "id": "1FsCXHwdgFyU"
   },
   "source": [
    "- Посчитайте, какую долю от общего бюджета фильма составляет государственная поддержка."
   ]
  },
  {
   "cell_type": "markdown",
   "metadata": {},
   "source": [
    "Посчитаем долю государственной поддержки и добавим результаты в новый столбец `perc_support`."
   ]
  },
  {
   "cell_type": "code",
   "execution_count": 31,
   "metadata": {
    "id": "LV6qFuZLgFyV",
    "scrolled": false
   },
   "outputs": [
    {
     "data": {
      "text/html": [
       "<div>\n",
       "<style scoped>\n",
       "    .dataframe tbody tr th:only-of-type {\n",
       "        vertical-align: middle;\n",
       "    }\n",
       "\n",
       "    .dataframe tbody tr th {\n",
       "        vertical-align: top;\n",
       "    }\n",
       "\n",
       "    .dataframe thead th {\n",
       "        text-align: right;\n",
       "    }\n",
       "</style>\n",
       "<table border=\"1\" class=\"dataframe\">\n",
       "  <thead>\n",
       "    <tr style=\"text-align: right;\">\n",
       "      <th></th>\n",
       "      <th>title</th>\n",
       "      <th>puNumber</th>\n",
       "      <th>show_start_date</th>\n",
       "      <th>type</th>\n",
       "      <th>film_studio</th>\n",
       "      <th>production_country</th>\n",
       "      <th>director</th>\n",
       "      <th>producer</th>\n",
       "      <th>age_restriction</th>\n",
       "      <th>refundable_support</th>\n",
       "      <th>...</th>\n",
       "      <th>budget</th>\n",
       "      <th>financing_source</th>\n",
       "      <th>ratings</th>\n",
       "      <th>genres</th>\n",
       "      <th>puNumber_int</th>\n",
       "      <th>box_office</th>\n",
       "      <th>year</th>\n",
       "      <th>main_genre</th>\n",
       "      <th>main_director</th>\n",
       "      <th>perc_support</th>\n",
       "    </tr>\n",
       "  </thead>\n",
       "  <tbody>\n",
       "    <tr>\n",
       "      <th>1281</th>\n",
       "      <td>Пока еще жива</td>\n",
       "      <td>111005313</td>\n",
       "      <td>2013-10-11 12:00:00+00:00</td>\n",
       "      <td>Художественный</td>\n",
       "      <td>АНО содействия развитию кинематографии \"Ангел-...</td>\n",
       "      <td>Россия</td>\n",
       "      <td>А.Атанесян</td>\n",
       "      <td>А.Атанесян, М.Бабаханов, Р.Бутко</td>\n",
       "      <td>«16+» - для детей старше 16 лет</td>\n",
       "      <td>0.0</td>\n",
       "      <td>...</td>\n",
       "      <td>79411900.0</td>\n",
       "      <td>Министерство культуры</td>\n",
       "      <td>8.1</td>\n",
       "      <td>драма,мелодрама</td>\n",
       "      <td>True</td>\n",
       "      <td>365353.6</td>\n",
       "      <td>2013</td>\n",
       "      <td>драма</td>\n",
       "      <td>А.Атанесян</td>\n",
       "      <td>0.333703</td>\n",
       "    </tr>\n",
       "    <tr>\n",
       "      <th>1448</th>\n",
       "      <td>Бесславные придурки</td>\n",
       "      <td>111003314</td>\n",
       "      <td>2014-03-28 12:00:00+00:00</td>\n",
       "      <td>Художественный</td>\n",
       "      <td>ООО \"Компания \"АТК-Студио\"</td>\n",
       "      <td>Россия</td>\n",
       "      <td>А.Якимчук</td>\n",
       "      <td>А.Тютрюмов</td>\n",
       "      <td>«12+» - для детей старше 12 лет</td>\n",
       "      <td>0.0</td>\n",
       "      <td>...</td>\n",
       "      <td>37142857.0</td>\n",
       "      <td>Министерство культуры</td>\n",
       "      <td>NaN</td>\n",
       "      <td>NaN</td>\n",
       "      <td>True</td>\n",
       "      <td>28140.0</td>\n",
       "      <td>2014</td>\n",
       "      <td>NaN</td>\n",
       "      <td>А.Якимчук</td>\n",
       "      <td>0.700000</td>\n",
       "    </tr>\n",
       "    <tr>\n",
       "      <th>1498</th>\n",
       "      <td>Невидимки</td>\n",
       "      <td>111004213</td>\n",
       "      <td>2013-09-10 12:00:00+00:00</td>\n",
       "      <td>Художественный</td>\n",
       "      <td>ООО \"Компания \"РЕАЛ-ДАКОТА\"</td>\n",
       "      <td>Россия</td>\n",
       "      <td>Р.Давлетьяров, С.Комаров</td>\n",
       "      <td>Р.Давлетьяров, А.Котелевский, А.Олейников</td>\n",
       "      <td>«12+» - для детей старше 12 лет</td>\n",
       "      <td>0.0</td>\n",
       "      <td>...</td>\n",
       "      <td>176023490.0</td>\n",
       "      <td>Фонд кино</td>\n",
       "      <td>5.3</td>\n",
       "      <td>комедия,фантастика</td>\n",
       "      <td>True</td>\n",
       "      <td>19957031.5</td>\n",
       "      <td>2013</td>\n",
       "      <td>комедия</td>\n",
       "      <td>Р.Давлетьяров</td>\n",
       "      <td>0.612691</td>\n",
       "    </tr>\n",
       "    <tr>\n",
       "      <th>1524</th>\n",
       "      <td>БЕРЦЫ</td>\n",
       "      <td>111004314</td>\n",
       "      <td>2014-05-05 12:00:00+00:00</td>\n",
       "      <td>Художественный</td>\n",
       "      <td>ООО \"Студия \"Пассажир\"</td>\n",
       "      <td>Россия</td>\n",
       "      <td>Е.Миндадзе (псевдоним Катя Шагалова)</td>\n",
       "      <td>Л.Антонова</td>\n",
       "      <td>«16+» - для детей старше 16 лет</td>\n",
       "      <td>0.0</td>\n",
       "      <td>...</td>\n",
       "      <td>40574140.0</td>\n",
       "      <td>Министерство культуры</td>\n",
       "      <td>4.2</td>\n",
       "      <td>драма</td>\n",
       "      <td>True</td>\n",
       "      <td>55917.5</td>\n",
       "      <td>2014</td>\n",
       "      <td>драма</td>\n",
       "      <td>Е.Миндадзе (псевдоним Катя Шагалова)</td>\n",
       "      <td>0.690095</td>\n",
       "    </tr>\n",
       "    <tr>\n",
       "      <th>1792</th>\n",
       "      <td>Братья Ч</td>\n",
       "      <td>111004414</td>\n",
       "      <td>2014-04-23 12:00:00+00:00</td>\n",
       "      <td>Художественный</td>\n",
       "      <td>ООО \"Студия \"Пассажир\"</td>\n",
       "      <td>Россия</td>\n",
       "      <td>М.Угаров</td>\n",
       "      <td>А.Миндадзе, Л.Антонова</td>\n",
       "      <td>«16+» - для детей старше 16 лет</td>\n",
       "      <td>0.0</td>\n",
       "      <td>...</td>\n",
       "      <td>40015122.0</td>\n",
       "      <td>Министерство культуры</td>\n",
       "      <td>6.4</td>\n",
       "      <td>драма</td>\n",
       "      <td>True</td>\n",
       "      <td>232100.0</td>\n",
       "      <td>2014</td>\n",
       "      <td>драма</td>\n",
       "      <td>М.Угаров</td>\n",
       "      <td>0.624764</td>\n",
       "    </tr>\n",
       "    <tr>\n",
       "      <th>1853</th>\n",
       "      <td>Тайна Сухаревой башни Чародей равновесия</td>\n",
       "      <td>114000115</td>\n",
       "      <td>2015-02-18 12:00:00+00:00</td>\n",
       "      <td>Анимационный</td>\n",
       "      <td>ООО \"Студия \"Мастер-Фильм\"</td>\n",
       "      <td>Россия</td>\n",
       "      <td>С.Серегин</td>\n",
       "      <td>А.Герасимов</td>\n",
       "      <td>«6+» - для детей старше 6 лет</td>\n",
       "      <td>0.0</td>\n",
       "      <td>...</td>\n",
       "      <td>51850000.0</td>\n",
       "      <td>Министерство культуры</td>\n",
       "      <td>6.1</td>\n",
       "      <td>мультфильм,фэнтези,история</td>\n",
       "      <td>True</td>\n",
       "      <td>15078858.6</td>\n",
       "      <td>2015</td>\n",
       "      <td>мультфильм</td>\n",
       "      <td>С.Серегин</td>\n",
       "      <td>0.482160</td>\n",
       "    </tr>\n",
       "    <tr>\n",
       "      <th>1869</th>\n",
       "      <td>А зори здесь тихие</td>\n",
       "      <td>111002915</td>\n",
       "      <td>2015-03-16 12:00:00+00:00</td>\n",
       "      <td>Художественный</td>\n",
       "      <td>ООО \"Компания \"Реал-Дакота\"</td>\n",
       "      <td>Россия</td>\n",
       "      <td>Р.Давлетьяров</td>\n",
       "      <td>NaN</td>\n",
       "      <td>«12+» - для детей старше 12 лет</td>\n",
       "      <td>50000000.0</td>\n",
       "      <td>...</td>\n",
       "      <td>220588394.0</td>\n",
       "      <td>Фонд кино</td>\n",
       "      <td>8.5</td>\n",
       "      <td>драма,военный,история</td>\n",
       "      <td>True</td>\n",
       "      <td>249166767.7</td>\n",
       "      <td>2015</td>\n",
       "      <td>драма</td>\n",
       "      <td>Р.Давлетьяров</td>\n",
       "      <td>0.680000</td>\n",
       "    </tr>\n",
       "    <tr>\n",
       "      <th>1870</th>\n",
       "      <td>Две женщины</td>\n",
       "      <td>111013714</td>\n",
       "      <td>2014-10-02 12:00:00+00:00</td>\n",
       "      <td>Художественный</td>\n",
       "      <td>ООО \"Продюсерский Центр \"Хорошо Продакшн\", Rez...</td>\n",
       "      <td>Россия, Франция, Латвия</td>\n",
       "      <td>В.Глаголева</td>\n",
       "      <td>Н.Иванова</td>\n",
       "      <td>«12+» - для детей старше 12 лет</td>\n",
       "      <td>0.0</td>\n",
       "      <td>...</td>\n",
       "      <td>86210067.0</td>\n",
       "      <td>Министерство культуры, Фонд кино</td>\n",
       "      <td>6.7</td>\n",
       "      <td>драма</td>\n",
       "      <td>True</td>\n",
       "      <td>4731239.5</td>\n",
       "      <td>2014</td>\n",
       "      <td>драма</td>\n",
       "      <td>В.Глаголева</td>\n",
       "      <td>0.539407</td>\n",
       "    </tr>\n",
       "    <tr>\n",
       "      <th>1902</th>\n",
       "      <td>Призрак</td>\n",
       "      <td>111001815</td>\n",
       "      <td>2015-03-02 12:00:00+00:00</td>\n",
       "      <td>Художественный</td>\n",
       "      <td>ООО \"Водород 2011\"</td>\n",
       "      <td>Россия</td>\n",
       "      <td>А.Войтинский</td>\n",
       "      <td>С.Сельянов</td>\n",
       "      <td>«6+» - для детей старше 6 лет</td>\n",
       "      <td>0.0</td>\n",
       "      <td>...</td>\n",
       "      <td>139551503.0</td>\n",
       "      <td>Фонд кино</td>\n",
       "      <td>7.0</td>\n",
       "      <td>триллер,боевик,приключения</td>\n",
       "      <td>True</td>\n",
       "      <td>352804320.4</td>\n",
       "      <td>2015</td>\n",
       "      <td>триллер</td>\n",
       "      <td>А.Войтинский</td>\n",
       "      <td>0.537436</td>\n",
       "    </tr>\n",
       "    <tr>\n",
       "      <th>1911</th>\n",
       "      <td>Ведьма</td>\n",
       "      <td>111002215</td>\n",
       "      <td>2015-03-05 12:00:00+00:00</td>\n",
       "      <td>Художественный</td>\n",
       "      <td>ООО \"Кинокомпания \"Ракурс\"</td>\n",
       "      <td>Россия</td>\n",
       "      <td>Д.Федоров</td>\n",
       "      <td>В.Сидоренко</td>\n",
       "      <td>«16+» - для детей старше 16 лет</td>\n",
       "      <td>0.0</td>\n",
       "      <td>...</td>\n",
       "      <td>48571430.0</td>\n",
       "      <td>Министерство культуры</td>\n",
       "      <td>7.4</td>\n",
       "      <td>фэнтези,приключения,драма</td>\n",
       "      <td>True</td>\n",
       "      <td>51907.5</td>\n",
       "      <td>2015</td>\n",
       "      <td>фэнтези</td>\n",
       "      <td>Д.Федоров</td>\n",
       "      <td>0.700000</td>\n",
       "    </tr>\n",
       "  </tbody>\n",
       "</table>\n",
       "<p>10 rows × 21 columns</p>\n",
       "</div>"
      ],
      "text/plain": [
       "                                         title   puNumber  \\\n",
       "1281                             Пока еще жива  111005313   \n",
       "1448                       Бесславные придурки  111003314   \n",
       "1498                                 Невидимки  111004213   \n",
       "1524                                     БЕРЦЫ  111004314   \n",
       "1792                                  Братья Ч  111004414   \n",
       "1853  Тайна Сухаревой башни Чародей равновесия  114000115   \n",
       "1869                        А зори здесь тихие  111002915   \n",
       "1870                               Две женщины  111013714   \n",
       "1902                                   Призрак  111001815   \n",
       "1911                                   Ведьма   111002215   \n",
       "\n",
       "               show_start_date            type  \\\n",
       "1281 2013-10-11 12:00:00+00:00  Художественный   \n",
       "1448 2014-03-28 12:00:00+00:00  Художественный   \n",
       "1498 2013-09-10 12:00:00+00:00  Художественный   \n",
       "1524 2014-05-05 12:00:00+00:00  Художественный   \n",
       "1792 2014-04-23 12:00:00+00:00  Художественный   \n",
       "1853 2015-02-18 12:00:00+00:00    Анимационный   \n",
       "1869 2015-03-16 12:00:00+00:00  Художественный   \n",
       "1870 2014-10-02 12:00:00+00:00  Художественный   \n",
       "1902 2015-03-02 12:00:00+00:00  Художественный   \n",
       "1911 2015-03-05 12:00:00+00:00  Художественный   \n",
       "\n",
       "                                            film_studio  \\\n",
       "1281  АНО содействия развитию кинематографии \"Ангел-...   \n",
       "1448                         ООО \"Компания \"АТК-Студио\"   \n",
       "1498                        ООО \"Компания \"РЕАЛ-ДАКОТА\"   \n",
       "1524                             ООО \"Студия \"Пассажир\"   \n",
       "1792                             ООО \"Студия \"Пассажир\"   \n",
       "1853                        ООО \"Студия \"Мастер-Фильм\"    \n",
       "1869                        ООО \"Компания \"Реал-Дакота\"   \n",
       "1870  ООО \"Продюсерский Центр \"Хорошо Продакшн\", Rez...   \n",
       "1902                                 ООО \"Водород 2011\"   \n",
       "1911                         ООО \"Кинокомпания \"Ракурс\"   \n",
       "\n",
       "           production_country                              director  \\\n",
       "1281                   Россия                            А.Атанесян   \n",
       "1448                   Россия                             А.Якимчук   \n",
       "1498                   Россия              Р.Давлетьяров, С.Комаров   \n",
       "1524                   Россия  Е.Миндадзе (псевдоним Катя Шагалова)   \n",
       "1792                   Россия                              М.Угаров   \n",
       "1853                   Россия                             С.Серегин   \n",
       "1869                   Россия                         Р.Давлетьяров   \n",
       "1870  Россия, Франция, Латвия                           В.Глаголева   \n",
       "1902                   Россия                          А.Войтинский   \n",
       "1911                   Россия                             Д.Федоров   \n",
       "\n",
       "                                       producer  \\\n",
       "1281           А.Атанесян, М.Бабаханов, Р.Бутко   \n",
       "1448                                 А.Тютрюмов   \n",
       "1498  Р.Давлетьяров, А.Котелевский, А.Олейников   \n",
       "1524                                 Л.Антонова   \n",
       "1792                     А.Миндадзе, Л.Антонова   \n",
       "1853                                А.Герасимов   \n",
       "1869                                        NaN   \n",
       "1870                                  Н.Иванова   \n",
       "1902                                 С.Сельянов   \n",
       "1911                                В.Сидоренко   \n",
       "\n",
       "                      age_restriction  refundable_support  ...       budget  \\\n",
       "1281  «16+» - для детей старше 16 лет                 0.0  ...   79411900.0   \n",
       "1448  «12+» - для детей старше 12 лет                 0.0  ...   37142857.0   \n",
       "1498  «12+» - для детей старше 12 лет                 0.0  ...  176023490.0   \n",
       "1524  «16+» - для детей старше 16 лет                 0.0  ...   40574140.0   \n",
       "1792  «16+» - для детей старше 16 лет                 0.0  ...   40015122.0   \n",
       "1853    «6+» - для детей старше 6 лет                 0.0  ...   51850000.0   \n",
       "1869  «12+» - для детей старше 12 лет          50000000.0  ...  220588394.0   \n",
       "1870  «12+» - для детей старше 12 лет                 0.0  ...   86210067.0   \n",
       "1902    «6+» - для детей старше 6 лет                 0.0  ...  139551503.0   \n",
       "1911  «16+» - для детей старше 16 лет                 0.0  ...   48571430.0   \n",
       "\n",
       "                      financing_source ratings                      genres  \\\n",
       "1281             Министерство культуры     8.1             драма,мелодрама   \n",
       "1448             Министерство культуры     NaN                         NaN   \n",
       "1498                         Фонд кино     5.3          комедия,фантастика   \n",
       "1524             Министерство культуры     4.2                       драма   \n",
       "1792             Министерство культуры     6.4                       драма   \n",
       "1853             Министерство культуры     6.1  мультфильм,фэнтези,история   \n",
       "1869                         Фонд кино     8.5       драма,военный,история   \n",
       "1870  Министерство культуры, Фонд кино     6.7                       драма   \n",
       "1902                         Фонд кино     7.0  триллер,боевик,приключения   \n",
       "1911             Министерство культуры     7.4   фэнтези,приключения,драма   \n",
       "\n",
       "     puNumber_int   box_office  year  main_genre  \\\n",
       "1281         True     365353.6  2013       драма   \n",
       "1448         True      28140.0  2014         NaN   \n",
       "1498         True   19957031.5  2013     комедия   \n",
       "1524         True      55917.5  2014       драма   \n",
       "1792         True     232100.0  2014       драма   \n",
       "1853         True   15078858.6  2015  мультфильм   \n",
       "1869         True  249166767.7  2015       драма   \n",
       "1870         True    4731239.5  2014       драма   \n",
       "1902         True  352804320.4  2015     триллер   \n",
       "1911         True      51907.5  2015     фэнтези   \n",
       "\n",
       "                             main_director perc_support  \n",
       "1281                            А.Атанесян     0.333703  \n",
       "1448                             А.Якимчук     0.700000  \n",
       "1498                         Р.Давлетьяров     0.612691  \n",
       "1524  Е.Миндадзе (псевдоним Катя Шагалова)     0.690095  \n",
       "1792                              М.Угаров     0.624764  \n",
       "1853                             С.Серегин     0.482160  \n",
       "1869                         Р.Давлетьяров     0.680000  \n",
       "1870                           В.Глаголева     0.539407  \n",
       "1902                          А.Войтинский     0.537436  \n",
       "1911                             Д.Федоров     0.700000  \n",
       "\n",
       "[10 rows x 21 columns]"
      ]
     },
     "execution_count": 31,
     "metadata": {},
     "output_type": "execute_result"
    }
   ],
   "source": [
    "data['perc_support'] = (data['refundable_support'] + data['nonrefundable_support']) / data['budget']\n",
    "data.query('perc_support.isna() == False').head(10)"
   ]
  },
  {
   "cell_type": "markdown",
   "metadata": {
    "id": "6t4EukPLgFyV"
   },
   "source": [
    "### Шаг 3. Проведите исследовательский анализ данных\n"
   ]
  },
  {
   "cell_type": "markdown",
   "metadata": {
    "id": "vAH8WCzugFyV"
   },
   "source": [
    "- Посмотрите, сколько фильмов выходило в прокат каждый год. Обратите внимание, что данные о прокате в кинотеатрах известны не для всех фильмов. Посчитайте, какую долю составляют фильмы с указанной информацией о прокате в кинотеатрах."
   ]
  },
  {
   "cell_type": "markdown",
   "metadata": {},
   "source": [
    "Построим гистограмму, на которой покажем количество вышедших в прокат фильмов за каждый год:"
   ]
  },
  {
   "cell_type": "code",
   "execution_count": 32,
   "metadata": {
    "scrolled": true
   },
   "outputs": [
    {
     "data": {
      "image/png": "[encoded data removed]",
      "text/plain": [
       "<Figure size 720x288 with 1 Axes>"
      ]
     },
     "metadata": {
      "needs_background": "light"
     },
     "output_type": "display_data"
    }
   ],
   "source": [
    "import matplotlib.pyplot as plt\n",
    "data.hist('year', bins=20, figsize=(10,4))\n",
    "plt.title('Выход фильмов в прокат по годам')\n",
    "plt.xlabel('Год')\n",
    "plt.ylabel('Количество фильмов')\n",
    "plt.show()"
   ]
  },
  {
   "cell_type": "code",
   "execution_count": 33,
   "metadata": {},
   "outputs": [
    {
     "data": {
      "text/html": [
       "<div>\n",
       "<style scoped>\n",
       "    .dataframe tbody tr th:only-of-type {\n",
       "        vertical-align: middle;\n",
       "    }\n",
       "\n",
       "    .dataframe tbody tr th {\n",
       "        vertical-align: top;\n",
       "    }\n",
       "\n",
       "    .dataframe thead th {\n",
       "        text-align: right;\n",
       "    }\n",
       "</style>\n",
       "<table border=\"1\" class=\"dataframe\">\n",
       "  <thead>\n",
       "    <tr style=\"text-align: right;\">\n",
       "      <th></th>\n",
       "      <th>year</th>\n",
       "      <th>puNumber</th>\n",
       "    </tr>\n",
       "  </thead>\n",
       "  <tbody>\n",
       "    <tr>\n",
       "      <th>0</th>\n",
       "      <td>2010</td>\n",
       "      <td>985</td>\n",
       "    </tr>\n",
       "    <tr>\n",
       "      <th>1</th>\n",
       "      <td>2011</td>\n",
       "      <td>622</td>\n",
       "    </tr>\n",
       "    <tr>\n",
       "      <th>2</th>\n",
       "      <td>2012</td>\n",
       "      <td>593</td>\n",
       "    </tr>\n",
       "    <tr>\n",
       "      <th>3</th>\n",
       "      <td>2013</td>\n",
       "      <td>630</td>\n",
       "    </tr>\n",
       "    <tr>\n",
       "      <th>4</th>\n",
       "      <td>2014</td>\n",
       "      <td>806</td>\n",
       "    </tr>\n",
       "    <tr>\n",
       "      <th>5</th>\n",
       "      <td>2015</td>\n",
       "      <td>705</td>\n",
       "    </tr>\n",
       "    <tr>\n",
       "      <th>6</th>\n",
       "      <td>2016</td>\n",
       "      <td>818</td>\n",
       "    </tr>\n",
       "    <tr>\n",
       "      <th>7</th>\n",
       "      <td>2017</td>\n",
       "      <td>505</td>\n",
       "    </tr>\n",
       "    <tr>\n",
       "      <th>8</th>\n",
       "      <td>2018</td>\n",
       "      <td>891</td>\n",
       "    </tr>\n",
       "    <tr>\n",
       "      <th>9</th>\n",
       "      <td>2019</td>\n",
       "      <td>930</td>\n",
       "    </tr>\n",
       "  </tbody>\n",
       "</table>\n",
       "</div>"
      ],
      "text/plain": [
       "   year  puNumber\n",
       "0  2010       985\n",
       "1  2011       622\n",
       "2  2012       593\n",
       "3  2013       630\n",
       "4  2014       806\n",
       "5  2015       705\n",
       "6  2016       818\n",
       "7  2017       505\n",
       "8  2018       891\n",
       "9  2019       930"
      ]
     },
     "execution_count": 33,
     "metadata": {},
     "output_type": "execute_result"
    }
   ],
   "source": [
    "table_for_graph = data.pivot_table(index='year', values='puNumber', aggfunc='count').reset_index()\n",
    "table_for_graph"
   ]
  },
  {
   "cell_type": "code",
   "execution_count": 34,
   "metadata": {
    "scrolled": true
   },
   "outputs": [
    {
     "data": {
      "image/png": "[encoded data removed]",
      "text/plain": [
       "<Figure size 432x288 with 1 Axes>"
      ]
     },
     "metadata": {
      "needs_background": "light"
     },
     "output_type": "display_data"
    }
   ],
   "source": [
    "plt.bar(table_for_graph.year, table_for_graph.puNumber)\n",
    "plt.title('Выход фильмов в прокат по годам')\n",
    "plt.xlabel('Год')\n",
    "plt.ylabel('Количество фильмов')\n",
    "plt.grid()\n",
    "plt.show()"
   ]
  },
  {
   "cell_type": "markdown",
   "metadata": {},
   "source": [
    "По графику видно, что больше всего фильмов вышло в **2010** году (почти 1000), чуть меньше - в **2018** и **2019**. Меньше всего фильмов вышло в **2017** году (около 500)."
   ]
  },
  {
   "cell_type": "markdown",
   "metadata": {},
   "source": [
    "Выведем на экран долю фильмов, которые были в прокате. Для этого разделим число прокатных удостоверений из таблицы с данными о прокате в РФ на число прокатных удостоверений из первой таблицы, а также применим форматирование для отображения процентов."
   ]
  },
  {
   "cell_type": "code",
   "execution_count": 35,
   "metadata": {},
   "outputs": [
    {
     "data": {
      "text/plain": [
       "'Доля фильмов с информацией о прокате в кинотеатрах: 42.19%'"
      ]
     },
     "metadata": {},
     "output_type": "display_data"
    }
   ],
   "source": [
    "display('Доля фильмов с информацией о прокате в кинотеатрах: {:.2%}'.format(data_2['puNumber'].count()/data_1['puNumber'].count()))"
   ]
  },
  {
   "cell_type": "code",
   "execution_count": 36,
   "metadata": {},
   "outputs": [
    {
     "data": {
      "text/html": [
       "<div>\n",
       "<style scoped>\n",
       "    .dataframe tbody tr th:only-of-type {\n",
       "        vertical-align: middle;\n",
       "    }\n",
       "\n",
       "    .dataframe tbody tr th {\n",
       "        vertical-align: top;\n",
       "    }\n",
       "\n",
       "    .dataframe thead th {\n",
       "        text-align: right;\n",
       "    }\n",
       "</style>\n",
       "<table border=\"1\" class=\"dataframe\">\n",
       "  <thead>\n",
       "    <tr style=\"text-align: right;\">\n",
       "      <th></th>\n",
       "      <th>доля информации о сборах</th>\n",
       "    </tr>\n",
       "    <tr>\n",
       "      <th>year</th>\n",
       "      <th></th>\n",
       "    </tr>\n",
       "  </thead>\n",
       "  <tbody>\n",
       "    <tr>\n",
       "      <th>2010</th>\n",
       "      <td>10.66%</td>\n",
       "    </tr>\n",
       "    <tr>\n",
       "      <th>2011</th>\n",
       "      <td>17.52%</td>\n",
       "    </tr>\n",
       "    <tr>\n",
       "      <th>2012</th>\n",
       "      <td>21.59%</td>\n",
       "    </tr>\n",
       "    <tr>\n",
       "      <th>2013</th>\n",
       "      <td>29.21%</td>\n",
       "    </tr>\n",
       "    <tr>\n",
       "      <th>2014</th>\n",
       "      <td>34.62%</td>\n",
       "    </tr>\n",
       "    <tr>\n",
       "      <th>2015</th>\n",
       "      <td>65.96%</td>\n",
       "    </tr>\n",
       "    <tr>\n",
       "      <th>2016</th>\n",
       "      <td>64.30%</td>\n",
       "    </tr>\n",
       "    <tr>\n",
       "      <th>2017</th>\n",
       "      <td>70.69%</td>\n",
       "    </tr>\n",
       "    <tr>\n",
       "      <th>2018</th>\n",
       "      <td>53.31%</td>\n",
       "    </tr>\n",
       "    <tr>\n",
       "      <th>2019</th>\n",
       "      <td>56.99%</td>\n",
       "    </tr>\n",
       "  </tbody>\n",
       "</table>\n",
       "</div>"
      ],
      "text/plain": [
       "      доля информации о сборах\n",
       "year                          \n",
       "2010                    10.66%\n",
       "2011                    17.52%\n",
       "2012                    21.59%\n",
       "2013                    29.21%\n",
       "2014                    34.62%\n",
       "2015                    65.96%\n",
       "2016                    64.30%\n",
       "2017                    70.69%\n",
       "2018                    53.31%\n",
       "2019                    56.99%"
      ]
     },
     "metadata": {},
     "output_type": "display_data"
    }
   ],
   "source": [
    "with pd.option_context('display.float_format', '{:.2%}'.format):\n",
    "    display((data[['year','box_office']].groupby('year').apply(lambda x : x['box_office'].apply(pd.notna).mean())).to_frame().rename(columns={0 : 'доля информации о сборах'}))"
   ]
  },
  {
   "cell_type": "code",
   "execution_count": 38,
   "metadata": {},
   "outputs": [
    {
     "data": {
      "text/html": [
       "<div>\n",
       "<style scoped>\n",
       "    .dataframe tbody tr th:only-of-type {\n",
       "        vertical-align: middle;\n",
       "    }\n",
       "\n",
       "    .dataframe tbody tr th {\n",
       "        vertical-align: top;\n",
       "    }\n",
       "\n",
       "    .dataframe thead th {\n",
       "        text-align: right;\n",
       "    }\n",
       "</style>\n",
       "<table border=\"1\" class=\"dataframe\">\n",
       "  <thead>\n",
       "    <tr style=\"text-align: right;\">\n",
       "      <th></th>\n",
       "      <th>total_films</th>\n",
       "      <th>in_cinemas</th>\n",
       "      <th>perc_films</th>\n",
       "      <th>year</th>\n",
       "    </tr>\n",
       "  </thead>\n",
       "  <tbody>\n",
       "    <tr>\n",
       "      <th>0</th>\n",
       "      <td>985</td>\n",
       "      <td>105</td>\n",
       "      <td>10.659898</td>\n",
       "      <td>2010</td>\n",
       "    </tr>\n",
       "    <tr>\n",
       "      <th>1</th>\n",
       "      <td>622</td>\n",
       "      <td>109</td>\n",
       "      <td>17.524116</td>\n",
       "      <td>2011</td>\n",
       "    </tr>\n",
       "    <tr>\n",
       "      <th>2</th>\n",
       "      <td>593</td>\n",
       "      <td>128</td>\n",
       "      <td>21.585160</td>\n",
       "      <td>2012</td>\n",
       "    </tr>\n",
       "    <tr>\n",
       "      <th>3</th>\n",
       "      <td>630</td>\n",
       "      <td>184</td>\n",
       "      <td>29.206349</td>\n",
       "      <td>2013</td>\n",
       "    </tr>\n",
       "    <tr>\n",
       "      <th>4</th>\n",
       "      <td>806</td>\n",
       "      <td>279</td>\n",
       "      <td>34.615385</td>\n",
       "      <td>2014</td>\n",
       "    </tr>\n",
       "    <tr>\n",
       "      <th>5</th>\n",
       "      <td>705</td>\n",
       "      <td>465</td>\n",
       "      <td>65.957447</td>\n",
       "      <td>2015</td>\n",
       "    </tr>\n",
       "    <tr>\n",
       "      <th>6</th>\n",
       "      <td>818</td>\n",
       "      <td>526</td>\n",
       "      <td>64.303178</td>\n",
       "      <td>2016</td>\n",
       "    </tr>\n",
       "    <tr>\n",
       "      <th>7</th>\n",
       "      <td>505</td>\n",
       "      <td>357</td>\n",
       "      <td>70.693069</td>\n",
       "      <td>2017</td>\n",
       "    </tr>\n",
       "    <tr>\n",
       "      <th>8</th>\n",
       "      <td>891</td>\n",
       "      <td>475</td>\n",
       "      <td>53.310887</td>\n",
       "      <td>2018</td>\n",
       "    </tr>\n",
       "    <tr>\n",
       "      <th>9</th>\n",
       "      <td>930</td>\n",
       "      <td>530</td>\n",
       "      <td>56.989247</td>\n",
       "      <td>2019</td>\n",
       "    </tr>\n",
       "  </tbody>\n",
       "</table>\n",
       "</div>"
      ],
      "text/plain": [
       "   total_films  in_cinemas  perc_films  year\n",
       "0          985         105   10.659898  2010\n",
       "1          622         109   17.524116  2011\n",
       "2          593         128   21.585160  2012\n",
       "3          630         184   29.206349  2013\n",
       "4          806         279   34.615385  2014\n",
       "5          705         465   65.957447  2015\n",
       "6          818         526   64.303178  2016\n",
       "7          505         357   70.693069  2017\n",
       "8          891         475   53.310887  2018\n",
       "9          930         530   56.989247  2019"
      ]
     },
     "execution_count": 38,
     "metadata": {},
     "output_type": "execute_result"
    }
   ],
   "source": [
    "test = pd.DataFrame([a_1, a_2, a_3, a_4, a_5, a_6, a_7, a_8, a_9, a_10], [b_1, b_2, b_3, b_4, b_5, b_6, b_7, b_8, b_9, b_10]).reset_index()\n",
    "test.rename(columns={'index': 'total_films', 0: 'in_cinemas'}, inplace=True)\n",
    "test['perc_films'] = test['in_cinemas'] / test['total_films'] * 100\n",
    "test['year'] = table_for_graph['year']\n",
    "test"
   ]
  },
  {
   "cell_type": "code",
   "execution_count": 39,
   "metadata": {},
   "outputs": [],
   "source": [
    "test = (data[['year','box_office']].groupby('year').apply(lambda x : x['box_office'].apply(pd.notna).mean())).to_frame() \\\n",
    ".rename(columns={0 : 'perc_films'}).reset_index()"
   ]
  },
  {
   "cell_type": "code",
   "execution_count": 40,
   "metadata": {},
   "outputs": [
    {
     "data": {
      "image/png": "[encoded data removed]",
      "text/plain": [
       "<Figure size 432x288 with 1 Axes>"
      ]
     },
     "metadata": {
      "needs_background": "light"
     },
     "output_type": "display_data"
    }
   ],
   "source": [
    "plt.bar(test.year, test.perc_films)\n",
    "plt.title('Доля фильмов с информацией о прокате')\n",
    "plt.xlabel('Год')\n",
    "plt.ylabel('Доля')\n",
    "plt.grid()\n",
    "plt.show()"
   ]
  },
  {
   "cell_type": "markdown",
   "metadata": {},
   "source": [
    "Видно, что доля фильмов с информацией о прокате росла с 2010 по 2017, затем немного упала к 2019 году."
   ]
  },
  {
   "cell_type": "markdown",
   "metadata": {
    "id": "BEOdcIrIgFyW"
   },
   "source": [
    "- Изучите, как менялась динамика проката по годам. В каком году сумма сборов была минимальной? А максимальной?"
   ]
  },
  {
   "cell_type": "markdown",
   "metadata": {
    "id": "tfEhofYvgFyX"
   },
   "source": [
    "Рассматривать будем ту часть данных, в которой имеется информация о сборах."
   ]
  },
  {
   "cell_type": "code",
   "execution_count": 41,
   "metadata": {
    "scrolled": false
   },
   "outputs": [],
   "source": [
    "data_cut = data.query('box_office.isna() == False')"
   ]
  },
  {
   "cell_type": "code",
   "execution_count": 42,
   "metadata": {
    "scrolled": true
   },
   "outputs": [
    {
     "data": {
      "text/html": [
       "<div>\n",
       "<style scoped>\n",
       "    .dataframe tbody tr th:only-of-type {\n",
       "        vertical-align: middle;\n",
       "    }\n",
       "\n",
       "    .dataframe tbody tr th {\n",
       "        vertical-align: top;\n",
       "    }\n",
       "\n",
       "    .dataframe thead th {\n",
       "        text-align: right;\n",
       "    }\n",
       "</style>\n",
       "<table border=\"1\" class=\"dataframe\">\n",
       "  <thead>\n",
       "    <tr style=\"text-align: right;\">\n",
       "      <th></th>\n",
       "      <th>title</th>\n",
       "      <th>puNumber</th>\n",
       "      <th>show_start_date</th>\n",
       "      <th>type</th>\n",
       "      <th>film_studio</th>\n",
       "      <th>production_country</th>\n",
       "      <th>director</th>\n",
       "      <th>producer</th>\n",
       "      <th>age_restriction</th>\n",
       "      <th>refundable_support</th>\n",
       "      <th>...</th>\n",
       "      <th>budget</th>\n",
       "      <th>financing_source</th>\n",
       "      <th>ratings</th>\n",
       "      <th>genres</th>\n",
       "      <th>puNumber_int</th>\n",
       "      <th>box_office</th>\n",
       "      <th>year</th>\n",
       "      <th>main_genre</th>\n",
       "      <th>main_director</th>\n",
       "      <th>perc_support</th>\n",
       "    </tr>\n",
       "  </thead>\n",
       "  <tbody>\n",
       "    <tr>\n",
       "      <th>6</th>\n",
       "      <td>Любовь и голуби</td>\n",
       "      <td>111007013</td>\n",
       "      <td>2013-10-18 12:00:00+00:00</td>\n",
       "      <td>Художественный</td>\n",
       "      <td>Киностудия \"Мосфильм\"</td>\n",
       "      <td>СССР</td>\n",
       "      <td>В.Меньшов</td>\n",
       "      <td>NaN</td>\n",
       "      <td>«12+» - для детей старше 12 лет</td>\n",
       "      <td>NaN</td>\n",
       "      <td>...</td>\n",
       "      <td>NaN</td>\n",
       "      <td>NaN</td>\n",
       "      <td>8.300</td>\n",
       "      <td>мелодрама,комедия</td>\n",
       "      <td>True</td>\n",
       "      <td>2700.000</td>\n",
       "      <td>2013</td>\n",
       "      <td>мелодрама</td>\n",
       "      <td>В.Меньшов</td>\n",
       "      <td>NaN</td>\n",
       "    </tr>\n",
       "    <tr>\n",
       "      <th>18</th>\n",
       "      <td>Неподдающиеся</td>\n",
       "      <td>111003616</td>\n",
       "      <td>2016-02-12 12:00:00+00:00</td>\n",
       "      <td>Художественный</td>\n",
       "      <td>Киностудия \"Мосфильм\"</td>\n",
       "      <td>СССР</td>\n",
       "      <td>Ю.Чулюкин</td>\n",
       "      <td>NaN</td>\n",
       "      <td>«6+» - для детей старше 6 лет</td>\n",
       "      <td>NaN</td>\n",
       "      <td>...</td>\n",
       "      <td>NaN</td>\n",
       "      <td>NaN</td>\n",
       "      <td>8.000</td>\n",
       "      <td>мелодрама,комедия</td>\n",
       "      <td>True</td>\n",
       "      <td>360.000</td>\n",
       "      <td>2016</td>\n",
       "      <td>мелодрама</td>\n",
       "      <td>Ю.Чулюкин</td>\n",
       "      <td>NaN</td>\n",
       "    </tr>\n",
       "    <tr>\n",
       "      <th>19</th>\n",
       "      <td>Неподсуден</td>\n",
       "      <td>111003716</td>\n",
       "      <td>2016-02-12 12:00:00+00:00</td>\n",
       "      <td>Художественный</td>\n",
       "      <td>Киностудия \"Мосфильм\"</td>\n",
       "      <td>СССР</td>\n",
       "      <td>В.Краснопольский, В.Усков</td>\n",
       "      <td>NaN</td>\n",
       "      <td>«6+» - для детей старше 6 лет</td>\n",
       "      <td>NaN</td>\n",
       "      <td>...</td>\n",
       "      <td>NaN</td>\n",
       "      <td>NaN</td>\n",
       "      <td>7.700</td>\n",
       "      <td>драма</td>\n",
       "      <td>True</td>\n",
       "      <td>420.000</td>\n",
       "      <td>2016</td>\n",
       "      <td>драма</td>\n",
       "      <td>В.Краснопольский</td>\n",
       "      <td>NaN</td>\n",
       "    </tr>\n",
       "    <tr>\n",
       "      <th>22</th>\n",
       "      <td>Операция \"Ы\" и другие приключения Шурика</td>\n",
       "      <td>111007413</td>\n",
       "      <td>2013-10-18 12:00:00+00:00</td>\n",
       "      <td>Художественный</td>\n",
       "      <td>Киностудия \"Мосфильм\"</td>\n",
       "      <td>СССР</td>\n",
       "      <td>Л.Гайдай</td>\n",
       "      <td>NaN</td>\n",
       "      <td>«6+» - для детей старше 6 лет</td>\n",
       "      <td>NaN</td>\n",
       "      <td>...</td>\n",
       "      <td>NaN</td>\n",
       "      <td>NaN</td>\n",
       "      <td>8.700</td>\n",
       "      <td>комедия,мелодрама,криминал</td>\n",
       "      <td>True</td>\n",
       "      <td>380.000</td>\n",
       "      <td>2013</td>\n",
       "      <td>комедия</td>\n",
       "      <td>Л.Гайдай</td>\n",
       "      <td>NaN</td>\n",
       "    </tr>\n",
       "    <tr>\n",
       "      <th>38</th>\n",
       "      <td>Мужики!</td>\n",
       "      <td>111007213</td>\n",
       "      <td>2013-10-18 12:00:00+00:00</td>\n",
       "      <td>Художественный</td>\n",
       "      <td>Киностудия \"Мосфильм\"</td>\n",
       "      <td>СССР</td>\n",
       "      <td>И.Бабич</td>\n",
       "      <td>NaN</td>\n",
       "      <td>«6+» - для детей старше 6 лет</td>\n",
       "      <td>NaN</td>\n",
       "      <td>...</td>\n",
       "      <td>NaN</td>\n",
       "      <td>NaN</td>\n",
       "      <td>8.100</td>\n",
       "      <td>драма</td>\n",
       "      <td>True</td>\n",
       "      <td>1165.000</td>\n",
       "      <td>2013</td>\n",
       "      <td>драма</td>\n",
       "      <td>И.Бабич</td>\n",
       "      <td>NaN</td>\n",
       "    </tr>\n",
       "    <tr>\n",
       "      <th>...</th>\n",
       "      <td>...</td>\n",
       "      <td>...</td>\n",
       "      <td>...</td>\n",
       "      <td>...</td>\n",
       "      <td>...</td>\n",
       "      <td>...</td>\n",
       "      <td>...</td>\n",
       "      <td>...</td>\n",
       "      <td>...</td>\n",
       "      <td>...</td>\n",
       "      <td>...</td>\n",
       "      <td>...</td>\n",
       "      <td>...</td>\n",
       "      <td>...</td>\n",
       "      <td>...</td>\n",
       "      <td>...</td>\n",
       "      <td>...</td>\n",
       "      <td>...</td>\n",
       "      <td>...</td>\n",
       "      <td>...</td>\n",
       "      <td>...</td>\n",
       "    </tr>\n",
       "    <tr>\n",
       "      <th>7463</th>\n",
       "      <td>Союз спасения</td>\n",
       "      <td>111022019</td>\n",
       "      <td>2019-12-26 12:00:00+00:00</td>\n",
       "      <td>Художественный</td>\n",
       "      <td>ЗАО \"Дирекция кино\"</td>\n",
       "      <td>Россия</td>\n",
       "      <td>А.Кравчук</td>\n",
       "      <td>А.Максимов, К.Эрнст</td>\n",
       "      <td>«12+» - для детей старше 12 лет</td>\n",
       "      <td>100000000.000</td>\n",
       "      <td>...</td>\n",
       "      <td>980000000.000</td>\n",
       "      <td>Фонд кино</td>\n",
       "      <td>6.000</td>\n",
       "      <td>история,биография,драма</td>\n",
       "      <td>True</td>\n",
       "      <td>717703185.530</td>\n",
       "      <td>2019</td>\n",
       "      <td>история</td>\n",
       "      <td>А.Кравчук</td>\n",
       "      <td>0.510</td>\n",
       "    </tr>\n",
       "    <tr>\n",
       "      <th>7465</th>\n",
       "      <td>Иван Царевич и Серый Волк 4</td>\n",
       "      <td>114005019</td>\n",
       "      <td>2019-12-20 12:00:00+00:00</td>\n",
       "      <td>Анимационный</td>\n",
       "      <td>ООО \"Студия анимационного кино \"Мельница\"</td>\n",
       "      <td>Россия</td>\n",
       "      <td>Д.Шмидт, К.Феоктистов</td>\n",
       "      <td>С.Сельянов, А.Боярский</td>\n",
       "      <td>«6+» - для детей старше 6 лет</td>\n",
       "      <td>100000000.000</td>\n",
       "      <td>...</td>\n",
       "      <td>190000000.000</td>\n",
       "      <td>Фонд кино</td>\n",
       "      <td>6.700</td>\n",
       "      <td>мультфильм,приключения,семейный</td>\n",
       "      <td>True</td>\n",
       "      <td>501069235.000</td>\n",
       "      <td>2019</td>\n",
       "      <td>мультфильм</td>\n",
       "      <td>Д.Шмидт</td>\n",
       "      <td>0.526</td>\n",
       "    </tr>\n",
       "    <tr>\n",
       "      <th>7470</th>\n",
       "      <td>Реальная любовь в Нью-Йорке</td>\n",
       "      <td>121038219</td>\n",
       "      <td>2019-12-19 12:00:00+00:00</td>\n",
       "      <td>Художественный</td>\n",
       "      <td>Креатив Энлэйнс, Арт, Копенгаген Филм, Дет Дан...</td>\n",
       "      <td>Дания - Канада - Швеция - Франция - Германия -...</td>\n",
       "      <td>Лоне Шерфиг</td>\n",
       "      <td>Малене Бленков, Сандра Каннингэм</td>\n",
       "      <td>«16+» - для детей старше 16 лет</td>\n",
       "      <td>NaN</td>\n",
       "      <td>...</td>\n",
       "      <td>NaN</td>\n",
       "      <td>NaN</td>\n",
       "      <td>6.100</td>\n",
       "      <td>драма</td>\n",
       "      <td>True</td>\n",
       "      <td>3143790.500</td>\n",
       "      <td>2019</td>\n",
       "      <td>драма</td>\n",
       "      <td>Лоне Шерфиг</td>\n",
       "      <td>NaN</td>\n",
       "    </tr>\n",
       "    <tr>\n",
       "      <th>7471</th>\n",
       "      <td>Черное Рождество</td>\n",
       "      <td>121038319</td>\n",
       "      <td>2019-12-19 12:00:00+00:00</td>\n",
       "      <td>Художественный</td>\n",
       "      <td>Юниверсал Пикчерз, Блюмхауз Продакшнз, Дивид/К...</td>\n",
       "      <td>США - Новая Зеландия</td>\n",
       "      <td>Софи Такал</td>\n",
       "      <td>Джесси Хендерсон</td>\n",
       "      <td>«18+» - запрещено для детей</td>\n",
       "      <td>NaN</td>\n",
       "      <td>...</td>\n",
       "      <td>NaN</td>\n",
       "      <td>NaN</td>\n",
       "      <td>3.900</td>\n",
       "      <td>ужасы,триллер,детектив</td>\n",
       "      <td>True</td>\n",
       "      <td>18001772.430</td>\n",
       "      <td>2019</td>\n",
       "      <td>ужасы</td>\n",
       "      <td>Софи Такал</td>\n",
       "      <td>NaN</td>\n",
       "    </tr>\n",
       "    <tr>\n",
       "      <th>7479</th>\n",
       "      <td>Акрам Хан: Родом из Карри Хауса</td>\n",
       "      <td>126007919</td>\n",
       "      <td>2019-12-23 12:00:00+00:00</td>\n",
       "      <td>Прочие</td>\n",
       "      <td>Свон Филмз</td>\n",
       "      <td>Великобритания</td>\n",
       "      <td>Ник Пойнц</td>\n",
       "      <td>Поппи Бегум, Ник Пойнц</td>\n",
       "      <td>«12+» - для детей старше 12 лет</td>\n",
       "      <td>NaN</td>\n",
       "      <td>...</td>\n",
       "      <td>NaN</td>\n",
       "      <td>NaN</td>\n",
       "      <td>NaN</td>\n",
       "      <td>NaN</td>\n",
       "      <td>True</td>\n",
       "      <td>219569.000</td>\n",
       "      <td>2019</td>\n",
       "      <td>NaN</td>\n",
       "      <td>Ник Пойнц</td>\n",
       "      <td>NaN</td>\n",
       "    </tr>\n",
       "  </tbody>\n",
       "</table>\n",
       "<p>3158 rows × 21 columns</p>\n",
       "</div>"
      ],
      "text/plain": [
       "                                         title   puNumber  \\\n",
       "6                              Любовь и голуби  111007013   \n",
       "18                               Неподдающиеся  111003616   \n",
       "19                                  Неподсуден  111003716   \n",
       "22    Операция \"Ы\" и другие приключения Шурика  111007413   \n",
       "38                                     Мужики!  111007213   \n",
       "...                                        ...        ...   \n",
       "7463                             Союз спасения  111022019   \n",
       "7465               Иван Царевич и Серый Волк 4  114005019   \n",
       "7470               Реальная любовь в Нью-Йорке  121038219   \n",
       "7471                          Черное Рождество  121038319   \n",
       "7479           Акрам Хан: Родом из Карри Хауса  126007919   \n",
       "\n",
       "               show_start_date            type  \\\n",
       "6    2013-10-18 12:00:00+00:00  Художественный   \n",
       "18   2016-02-12 12:00:00+00:00  Художественный   \n",
       "19   2016-02-12 12:00:00+00:00  Художественный   \n",
       "22   2013-10-18 12:00:00+00:00  Художественный   \n",
       "38   2013-10-18 12:00:00+00:00  Художественный   \n",
       "...                        ...             ...   \n",
       "7463 2019-12-26 12:00:00+00:00  Художественный   \n",
       "7465 2019-12-20 12:00:00+00:00    Анимационный   \n",
       "7470 2019-12-19 12:00:00+00:00  Художественный   \n",
       "7471 2019-12-19 12:00:00+00:00  Художественный   \n",
       "7479 2019-12-23 12:00:00+00:00          Прочие   \n",
       "\n",
       "                                            film_studio  \\\n",
       "6                                 Киностудия \"Мосфильм\"   \n",
       "18                                Киностудия \"Мосфильм\"   \n",
       "19                                Киностудия \"Мосфильм\"   \n",
       "22                                Киностудия \"Мосфильм\"   \n",
       "38                                Киностудия \"Мосфильм\"   \n",
       "...                                                 ...   \n",
       "7463                                ЗАО \"Дирекция кино\"   \n",
       "7465          ООО \"Студия анимационного кино \"Мельница\"   \n",
       "7470  Креатив Энлэйнс, Арт, Копенгаген Филм, Дет Дан...   \n",
       "7471  Юниверсал Пикчерз, Блюмхауз Продакшнз, Дивид/К...   \n",
       "7479                                         Свон Филмз   \n",
       "\n",
       "                                     production_country  \\\n",
       "6                                                  СССР   \n",
       "18                                                 СССР   \n",
       "19                                                 СССР   \n",
       "22                                                 СССР   \n",
       "38                                                 СССР   \n",
       "...                                                 ...   \n",
       "7463                                             Россия   \n",
       "7465                                             Россия   \n",
       "7470  Дания - Канада - Швеция - Франция - Германия -...   \n",
       "7471                               США - Новая Зеландия   \n",
       "7479                                     Великобритания   \n",
       "\n",
       "                       director                          producer  \\\n",
       "6                     В.Меньшов                               NaN   \n",
       "18                    Ю.Чулюкин                               NaN   \n",
       "19    В.Краснопольский, В.Усков                               NaN   \n",
       "22                     Л.Гайдай                               NaN   \n",
       "38                      И.Бабич                               NaN   \n",
       "...                         ...                               ...   \n",
       "7463                  А.Кравчук               А.Максимов, К.Эрнст   \n",
       "7465      Д.Шмидт, К.Феоктистов            С.Сельянов, А.Боярский   \n",
       "7470                Лоне Шерфиг  Малене Бленков, Сандра Каннингэм   \n",
       "7471                 Софи Такал                  Джесси Хендерсон   \n",
       "7479                  Ник Пойнц            Поппи Бегум, Ник Пойнц   \n",
       "\n",
       "                      age_restriction  refundable_support  ...        budget  \\\n",
       "6     «12+» - для детей старше 12 лет                 NaN  ...           NaN   \n",
       "18      «6+» - для детей старше 6 лет                 NaN  ...           NaN   \n",
       "19      «6+» - для детей старше 6 лет                 NaN  ...           NaN   \n",
       "22      «6+» - для детей старше 6 лет                 NaN  ...           NaN   \n",
       "38      «6+» - для детей старше 6 лет                 NaN  ...           NaN   \n",
       "...                               ...                 ...  ...           ...   \n",
       "7463  «12+» - для детей старше 12 лет       100000000.000  ... 980000000.000   \n",
       "7465    «6+» - для детей старше 6 лет       100000000.000  ... 190000000.000   \n",
       "7470  «16+» - для детей старше 16 лет                 NaN  ...           NaN   \n",
       "7471      «18+» - запрещено для детей                 NaN  ...           NaN   \n",
       "7479  «12+» - для детей старше 12 лет                 NaN  ...           NaN   \n",
       "\n",
       "      financing_source ratings                           genres puNumber_int  \\\n",
       "6                  NaN   8.300                мелодрама,комедия         True   \n",
       "18                 NaN   8.000                мелодрама,комедия         True   \n",
       "19                 NaN   7.700                            драма         True   \n",
       "22                 NaN   8.700       комедия,мелодрама,криминал         True   \n",
       "38                 NaN   8.100                            драма         True   \n",
       "...                ...     ...                              ...          ...   \n",
       "7463         Фонд кино   6.000          история,биография,драма         True   \n",
       "7465         Фонд кино   6.700  мультфильм,приключения,семейный         True   \n",
       "7470               NaN   6.100                            драма         True   \n",
       "7471               NaN   3.900           ужасы,триллер,детектив         True   \n",
       "7479               NaN     NaN                              NaN         True   \n",
       "\n",
       "        box_office  year  main_genre     main_director perc_support  \n",
       "6         2700.000  2013   мелодрама         В.Меньшов          NaN  \n",
       "18         360.000  2016   мелодрама         Ю.Чулюкин          NaN  \n",
       "19         420.000  2016       драма  В.Краснопольский          NaN  \n",
       "22         380.000  2013     комедия          Л.Гайдай          NaN  \n",
       "38        1165.000  2013       драма           И.Бабич          NaN  \n",
       "...            ...   ...         ...               ...          ...  \n",
       "7463 717703185.530  2019     история         А.Кравчук        0.510  \n",
       "7465 501069235.000  2019  мультфильм           Д.Шмидт        0.526  \n",
       "7470   3143790.500  2019       драма       Лоне Шерфиг          NaN  \n",
       "7471  18001772.430  2019       ужасы        Софи Такал          NaN  \n",
       "7479    219569.000  2019         NaN         Ник Пойнц          NaN  \n",
       "\n",
       "[3158 rows x 21 columns]"
      ]
     },
     "execution_count": 42,
     "metadata": {},
     "output_type": "execute_result"
    }
   ],
   "source": [
    "data_cut.box_office = data_cut.box_office.astype('float')\n",
    "pd.set_option('display.float_format', lambda x: '%.3f' % x)\n",
    "data_cut"
   ]
  },
  {
   "cell_type": "code",
   "execution_count": 43,
   "metadata": {},
   "outputs": [
    {
     "data": {
      "text/plain": [
       "count         3158.000\n",
       "mean      76478696.161\n",
       "std      240353122.823\n",
       "min              0.000\n",
       "25%          86239.000\n",
       "50%        2327987.550\n",
       "75%       23979671.025\n",
       "max     3073568690.790\n",
       "Name: box_office, dtype: float64"
      ]
     },
     "execution_count": 43,
     "metadata": {},
     "output_type": "execute_result"
    }
   ],
   "source": [
    "data_cut.box_office.describe()"
   ]
  },
  {
   "cell_type": "code",
   "execution_count": 44,
   "metadata": {},
   "outputs": [
    {
     "data": {
      "image/png": "[encoded data removed]",
      "text/plain": [
       "<Figure size 432x288 with 1 Axes>"
      ]
     },
     "metadata": {
      "needs_background": "light"
     },
     "output_type": "display_data"
    }
   ],
   "source": [
    "data_cut.sort_values(by='year').plot(x='year', y='box_office', grid=True)\n",
    "plt.title('Сборы фильмов по годам')\n",
    "plt.xlabel('Год')\n",
    "plt.ylabel('Сборы')\n",
    "plt.show()"
   ]
  },
  {
   "cell_type": "code",
   "execution_count": 45,
   "metadata": {},
   "outputs": [
    {
     "data": {
      "text/html": [
       "<div>\n",
       "<style scoped>\n",
       "    .dataframe tbody tr th:only-of-type {\n",
       "        vertical-align: middle;\n",
       "    }\n",
       "\n",
       "    .dataframe tbody tr th {\n",
       "        vertical-align: top;\n",
       "    }\n",
       "\n",
       "    .dataframe thead th {\n",
       "        text-align: right;\n",
       "    }\n",
       "</style>\n",
       "<table border=\"1\" class=\"dataframe\">\n",
       "  <thead>\n",
       "    <tr style=\"text-align: right;\">\n",
       "      <th></th>\n",
       "      <th>year</th>\n",
       "      <th>box_office</th>\n",
       "    </tr>\n",
       "  </thead>\n",
       "  <tbody>\n",
       "    <tr>\n",
       "      <th>0</th>\n",
       "      <td>2010</td>\n",
       "      <td>2428654.000</td>\n",
       "    </tr>\n",
       "    <tr>\n",
       "      <th>1</th>\n",
       "      <td>2011</td>\n",
       "      <td>14102765.000</td>\n",
       "    </tr>\n",
       "    <tr>\n",
       "      <th>2</th>\n",
       "      <td>2012</td>\n",
       "      <td>6955423.000</td>\n",
       "    </tr>\n",
       "    <tr>\n",
       "      <th>3</th>\n",
       "      <td>2013</td>\n",
       "      <td>29799706.200</td>\n",
       "    </tr>\n",
       "    <tr>\n",
       "      <th>4</th>\n",
       "      <td>2014</td>\n",
       "      <td>7444951859.200</td>\n",
       "    </tr>\n",
       "    <tr>\n",
       "      <th>5</th>\n",
       "      <td>2015</td>\n",
       "      <td>39497365196.400</td>\n",
       "    </tr>\n",
       "    <tr>\n",
       "      <th>6</th>\n",
       "      <td>2016</td>\n",
       "      <td>47866299741.910</td>\n",
       "    </tr>\n",
       "    <tr>\n",
       "      <th>7</th>\n",
       "      <td>2017</td>\n",
       "      <td>48563707217.510</td>\n",
       "    </tr>\n",
       "    <tr>\n",
       "      <th>8</th>\n",
       "      <td>2018</td>\n",
       "      <td>49668403134.320</td>\n",
       "    </tr>\n",
       "    <tr>\n",
       "      <th>9</th>\n",
       "      <td>2019</td>\n",
       "      <td>48425708779.590</td>\n",
       "    </tr>\n",
       "  </tbody>\n",
       "</table>\n",
       "</div>"
      ],
      "text/plain": [
       "   year      box_office\n",
       "0  2010     2428654.000\n",
       "1  2011    14102765.000\n",
       "2  2012     6955423.000\n",
       "3  2013    29799706.200\n",
       "4  2014  7444951859.200\n",
       "5  2015 39497365196.400\n",
       "6  2016 47866299741.910\n",
       "7  2017 48563707217.510\n",
       "8  2018 49668403134.320\n",
       "9  2019 48425708779.590"
      ]
     },
     "execution_count": 45,
     "metadata": {},
     "output_type": "execute_result"
    }
   ],
   "source": [
    "table_for_graph_2 = pd.pivot_table(data, index='year', values='box_office', aggfunc='sum').reset_index()\n",
    "table_for_graph_2"
   ]
  },
  {
   "cell_type": "code",
   "execution_count": 46,
   "metadata": {},
   "outputs": [
    {
     "data": {
      "image/png": "[encoded data removed]",
      "text/plain": [
       "<Figure size 432x288 with 1 Axes>"
      ]
     },
     "metadata": {
      "needs_background": "light"
     },
     "output_type": "display_data"
    }
   ],
   "source": [
    "plt.bar(table_for_graph_2.year, table_for_graph_2.box_office)\n",
    "plt.title('Сборы фильмов по годам')\n",
    "plt.xlabel('Год')\n",
    "plt.ylabel('Сборы')\n",
    "plt.grid()\n",
    "plt.show()"
   ]
  },
  {
   "cell_type": "markdown",
   "metadata": {},
   "source": [
    "По графику заметно, что фильмы до **2014** года собирали очень мало с проката, а после - сборы начали сильно расти. Самые большие сборы у фильмов в **2018** году."
   ]
  },
  {
   "cell_type": "markdown",
   "metadata": {
    "id": "G-7qS-N-gFyY"
   },
   "source": [
    "- С помощью сводной таблицы посчитайте среднюю и медианную сумму сборов для каждого года."
   ]
  },
  {
   "cell_type": "code",
   "execution_count": 47,
   "metadata": {
    "id": "jmp-rgg9gFyY"
   },
   "outputs": [
    {
     "data": {
      "text/html": [
       "<div>\n",
       "<style scoped>\n",
       "    .dataframe tbody tr th:only-of-type {\n",
       "        vertical-align: middle;\n",
       "    }\n",
       "\n",
       "    .dataframe tbody tr th {\n",
       "        vertical-align: top;\n",
       "    }\n",
       "\n",
       "    .dataframe thead tr th {\n",
       "        text-align: left;\n",
       "    }\n",
       "\n",
       "    .dataframe thead tr:last-of-type th {\n",
       "        text-align: right;\n",
       "    }\n",
       "</style>\n",
       "<table border=\"1\" class=\"dataframe\">\n",
       "  <thead>\n",
       "    <tr>\n",
       "      <th></th>\n",
       "      <th>mean</th>\n",
       "      <th>median</th>\n",
       "    </tr>\n",
       "    <tr>\n",
       "      <th></th>\n",
       "      <th>box_office</th>\n",
       "      <th>box_office</th>\n",
       "    </tr>\n",
       "    <tr>\n",
       "      <th>year</th>\n",
       "      <th></th>\n",
       "      <th></th>\n",
       "    </tr>\n",
       "  </thead>\n",
       "  <tbody>\n",
       "    <tr>\n",
       "      <th>2010</th>\n",
       "      <td>23130.038</td>\n",
       "      <td>1700.000</td>\n",
       "    </tr>\n",
       "    <tr>\n",
       "      <th>2011</th>\n",
       "      <td>129383.165</td>\n",
       "      <td>3000.000</td>\n",
       "    </tr>\n",
       "    <tr>\n",
       "      <th>2012</th>\n",
       "      <td>54339.242</td>\n",
       "      <td>5660.000</td>\n",
       "    </tr>\n",
       "    <tr>\n",
       "      <th>2013</th>\n",
       "      <td>161954.925</td>\n",
       "      <td>3522.500</td>\n",
       "    </tr>\n",
       "    <tr>\n",
       "      <th>2014</th>\n",
       "      <td>26684415.266</td>\n",
       "      <td>18160.000</td>\n",
       "    </tr>\n",
       "    <tr>\n",
       "      <th>2015</th>\n",
       "      <td>84940570.315</td>\n",
       "      <td>4920933.000</td>\n",
       "    </tr>\n",
       "    <tr>\n",
       "      <th>2016</th>\n",
       "      <td>91000569.852</td>\n",
       "      <td>3846679.410</td>\n",
       "    </tr>\n",
       "    <tr>\n",
       "      <th>2017</th>\n",
       "      <td>136032793.326</td>\n",
       "      <td>9968340.000</td>\n",
       "    </tr>\n",
       "    <tr>\n",
       "      <th>2018</th>\n",
       "      <td>104565059.230</td>\n",
       "      <td>8891102.210</td>\n",
       "    </tr>\n",
       "    <tr>\n",
       "      <th>2019</th>\n",
       "      <td>91369261.848</td>\n",
       "      <td>4627798.345</td>\n",
       "    </tr>\n",
       "  </tbody>\n",
       "</table>\n",
       "</div>"
      ],
      "text/plain": [
       "              mean      median\n",
       "        box_office  box_office\n",
       "year                          \n",
       "2010     23130.038    1700.000\n",
       "2011    129383.165    3000.000\n",
       "2012     54339.242    5660.000\n",
       "2013    161954.925    3522.500\n",
       "2014  26684415.266   18160.000\n",
       "2015  84940570.315 4920933.000\n",
       "2016  91000569.852 3846679.410\n",
       "2017 136032793.326 9968340.000\n",
       "2018 104565059.230 8891102.210\n",
       "2019  91369261.848 4627798.345"
      ]
     },
     "execution_count": 47,
     "metadata": {},
     "output_type": "execute_result"
    }
   ],
   "source": [
    "table = data_cut.sort_values(by='year').pivot_table(values='box_office', index='year', aggfunc=['mean','median'])\n",
    "table"
   ]
  },
  {
   "cell_type": "markdown",
   "metadata": {
    "id": "Ok89WFwJgFyZ"
   },
   "source": [
    "- Определите, влияет ли возрастное ограничение аудитории («6+», «12+», «16+», «18+» и т. д.) на сборы фильма в прокате в период с 2015 по 2019 год? Фильмы с каким возрастным ограничением собрали больше всего денег в прокате? Меняется ли картина в зависимости от года? Если да, предположите, с чем это может быть связано."
   ]
  },
  {
   "cell_type": "markdown",
   "metadata": {},
   "source": [
    "Создадим таблицу с колонками года выхода, возрастным ограничением и сборами за 2015 - 2019 года:"
   ]
  },
  {
   "cell_type": "code",
   "execution_count": 48,
   "metadata": {
    "scrolled": true
   },
   "outputs": [
    {
     "data": {
      "text/html": [
       "<div>\n",
       "<style scoped>\n",
       "    .dataframe tbody tr th:only-of-type {\n",
       "        vertical-align: middle;\n",
       "    }\n",
       "\n",
       "    .dataframe tbody tr th {\n",
       "        vertical-align: top;\n",
       "    }\n",
       "\n",
       "    .dataframe thead th {\n",
       "        text-align: right;\n",
       "    }\n",
       "</style>\n",
       "<table border=\"1\" class=\"dataframe\">\n",
       "  <thead>\n",
       "    <tr style=\"text-align: right;\">\n",
       "      <th></th>\n",
       "      <th>age_restriction</th>\n",
       "      <th>box_office</th>\n",
       "      <th>year</th>\n",
       "    </tr>\n",
       "  </thead>\n",
       "  <tbody>\n",
       "    <tr>\n",
       "      <th>18</th>\n",
       "      <td>«6+» - для детей старше 6 лет</td>\n",
       "      <td>360.000</td>\n",
       "      <td>2016</td>\n",
       "    </tr>\n",
       "    <tr>\n",
       "      <th>19</th>\n",
       "      <td>«6+» - для детей старше 6 лет</td>\n",
       "      <td>420.000</td>\n",
       "      <td>2016</td>\n",
       "    </tr>\n",
       "    <tr>\n",
       "      <th>50</th>\n",
       "      <td>«16+» - для детей старше 16 лет</td>\n",
       "      <td>84720.000</td>\n",
       "      <td>2015</td>\n",
       "    </tr>\n",
       "    <tr>\n",
       "      <th>61</th>\n",
       "      <td>«6+» - для детей старше 6 лет</td>\n",
       "      <td>300.000</td>\n",
       "      <td>2015</td>\n",
       "    </tr>\n",
       "    <tr>\n",
       "      <th>64</th>\n",
       "      <td>«12+» - для детей старше 12 лет</td>\n",
       "      <td>67500.000</td>\n",
       "      <td>2015</td>\n",
       "    </tr>\n",
       "    <tr>\n",
       "      <th>...</th>\n",
       "      <td>...</td>\n",
       "      <td>...</td>\n",
       "      <td>...</td>\n",
       "    </tr>\n",
       "    <tr>\n",
       "      <th>7463</th>\n",
       "      <td>«12+» - для детей старше 12 лет</td>\n",
       "      <td>717703185.530</td>\n",
       "      <td>2019</td>\n",
       "    </tr>\n",
       "    <tr>\n",
       "      <th>7465</th>\n",
       "      <td>«6+» - для детей старше 6 лет</td>\n",
       "      <td>501069235.000</td>\n",
       "      <td>2019</td>\n",
       "    </tr>\n",
       "    <tr>\n",
       "      <th>7470</th>\n",
       "      <td>«16+» - для детей старше 16 лет</td>\n",
       "      <td>3143790.500</td>\n",
       "      <td>2019</td>\n",
       "    </tr>\n",
       "    <tr>\n",
       "      <th>7471</th>\n",
       "      <td>«18+» - запрещено для детей</td>\n",
       "      <td>18001772.430</td>\n",
       "      <td>2019</td>\n",
       "    </tr>\n",
       "    <tr>\n",
       "      <th>7479</th>\n",
       "      <td>«12+» - для детей старше 12 лет</td>\n",
       "      <td>219569.000</td>\n",
       "      <td>2019</td>\n",
       "    </tr>\n",
       "  </tbody>\n",
       "</table>\n",
       "<p>2353 rows × 3 columns</p>\n",
       "</div>"
      ],
      "text/plain": [
       "                      age_restriction    box_office  year\n",
       "18      «6+» - для детей старше 6 лет       360.000  2016\n",
       "19      «6+» - для детей старше 6 лет       420.000  2016\n",
       "50    «16+» - для детей старше 16 лет     84720.000  2015\n",
       "61      «6+» - для детей старше 6 лет       300.000  2015\n",
       "64    «12+» - для детей старше 12 лет     67500.000  2015\n",
       "...                               ...           ...   ...\n",
       "7463  «12+» - для детей старше 12 лет 717703185.530  2019\n",
       "7465    «6+» - для детей старше 6 лет 501069235.000  2019\n",
       "7470  «16+» - для детей старше 16 лет   3143790.500  2019\n",
       "7471      «18+» - запрещено для детей  18001772.430  2019\n",
       "7479  «12+» - для детей старше 12 лет    219569.000  2019\n",
       "\n",
       "[2353 rows x 3 columns]"
      ]
     },
     "execution_count": 48,
     "metadata": {},
     "output_type": "execute_result"
    }
   ],
   "source": [
    "df = data_cut.query('year >= 2015')\n",
    "df = df.loc[:, ['age_restriction' , 'box_office', 'year']]\n",
    "df"
   ]
  },
  {
   "cell_type": "markdown",
   "metadata": {},
   "source": [
    "Затем создадим сводную таблицу для визуализации данных:"
   ]
  },
  {
   "cell_type": "code",
   "execution_count": 49,
   "metadata": {},
   "outputs": [
    {
     "data": {
      "text/html": [
       "<div>\n",
       "<style scoped>\n",
       "    .dataframe tbody tr th:only-of-type {\n",
       "        vertical-align: middle;\n",
       "    }\n",
       "\n",
       "    .dataframe tbody tr th {\n",
       "        vertical-align: top;\n",
       "    }\n",
       "\n",
       "    .dataframe thead th {\n",
       "        text-align: right;\n",
       "    }\n",
       "</style>\n",
       "<table border=\"1\" class=\"dataframe\">\n",
       "  <thead>\n",
       "    <tr style=\"text-align: right;\">\n",
       "      <th></th>\n",
       "      <th></th>\n",
       "      <th>box_office</th>\n",
       "    </tr>\n",
       "    <tr>\n",
       "      <th>year</th>\n",
       "      <th>age_restriction</th>\n",
       "      <th></th>\n",
       "    </tr>\n",
       "  </thead>\n",
       "  <tbody>\n",
       "    <tr>\n",
       "      <th rowspan=\"5\" valign=\"top\">2015</th>\n",
       "      <th>«0+» - для любой зрительской аудитории</th>\n",
       "      <td>9719348.163</td>\n",
       "    </tr>\n",
       "    <tr>\n",
       "      <th>«12+» - для детей старше 12 лет</th>\n",
       "      <td>186521671.355</td>\n",
       "    </tr>\n",
       "    <tr>\n",
       "      <th>«16+» - для детей старше 16 лет</th>\n",
       "      <td>67667386.133</td>\n",
       "    </tr>\n",
       "    <tr>\n",
       "      <th>«18+» - запрещено для детей</th>\n",
       "      <td>41153851.268</td>\n",
       "    </tr>\n",
       "    <tr>\n",
       "      <th>«6+» - для детей старше 6 лет</th>\n",
       "      <td>164184893.800</td>\n",
       "    </tr>\n",
       "    <tr>\n",
       "      <th rowspan=\"5\" valign=\"top\">2016</th>\n",
       "      <th>«0+» - для любой зрительской аудитории</th>\n",
       "      <td>3664118.260</td>\n",
       "    </tr>\n",
       "    <tr>\n",
       "      <th>«12+» - для детей старше 12 лет</th>\n",
       "      <td>148834713.712</td>\n",
       "    </tr>\n",
       "    <tr>\n",
       "      <th>«16+» - для детей старше 16 лет</th>\n",
       "      <td>91563453.526</td>\n",
       "    </tr>\n",
       "    <tr>\n",
       "      <th>«18+» - запрещено для детей</th>\n",
       "      <td>44992912.708</td>\n",
       "    </tr>\n",
       "    <tr>\n",
       "      <th>«6+» - для детей старше 6 лет</th>\n",
       "      <td>172187800.118</td>\n",
       "    </tr>\n",
       "    <tr>\n",
       "      <th rowspan=\"5\" valign=\"top\">2017</th>\n",
       "      <th>«0+» - для любой зрительской аудитории</th>\n",
       "      <td>76532976.667</td>\n",
       "    </tr>\n",
       "    <tr>\n",
       "      <th>«12+» - для детей старше 12 лет</th>\n",
       "      <td>191498235.626</td>\n",
       "    </tr>\n",
       "    <tr>\n",
       "      <th>«16+» - для детей старше 16 лет</th>\n",
       "      <td>154917709.918</td>\n",
       "    </tr>\n",
       "    <tr>\n",
       "      <th>«18+» - запрещено для детей</th>\n",
       "      <td>65656432.524</td>\n",
       "    </tr>\n",
       "    <tr>\n",
       "      <th>«6+» - для детей старше 6 лет</th>\n",
       "      <td>268580936.572</td>\n",
       "    </tr>\n",
       "    <tr>\n",
       "      <th rowspan=\"5\" valign=\"top\">2018</th>\n",
       "      <th>«0+» - для любой зрительской аудитории</th>\n",
       "      <td>6489800.422</td>\n",
       "    </tr>\n",
       "    <tr>\n",
       "      <th>«12+» - для детей старше 12 лет</th>\n",
       "      <td>212944651.652</td>\n",
       "    </tr>\n",
       "    <tr>\n",
       "      <th>«16+» - для детей старше 16 лет</th>\n",
       "      <td>105792322.737</td>\n",
       "    </tr>\n",
       "    <tr>\n",
       "      <th>«18+» - запрещено для детей</th>\n",
       "      <td>48939025.146</td>\n",
       "    </tr>\n",
       "    <tr>\n",
       "      <th>«6+» - для детей старше 6 лет</th>\n",
       "      <td>148602567.991</td>\n",
       "    </tr>\n",
       "    <tr>\n",
       "      <th rowspan=\"5\" valign=\"top\">2019</th>\n",
       "      <th>«0+» - для любой зрительской аудитории</th>\n",
       "      <td>5915355.607</td>\n",
       "    </tr>\n",
       "    <tr>\n",
       "      <th>«12+» - для детей старше 12 лет</th>\n",
       "      <td>149178809.102</td>\n",
       "    </tr>\n",
       "    <tr>\n",
       "      <th>«16+» - для детей старше 16 лет</th>\n",
       "      <td>71648421.262</td>\n",
       "    </tr>\n",
       "    <tr>\n",
       "      <th>«18+» - запрещено для детей</th>\n",
       "      <td>55310362.315</td>\n",
       "    </tr>\n",
       "    <tr>\n",
       "      <th>«6+» - для детей старше 6 лет</th>\n",
       "      <td>158673440.134</td>\n",
       "    </tr>\n",
       "  </tbody>\n",
       "</table>\n",
       "</div>"
      ],
      "text/plain": [
       "                                               box_office\n",
       "year age_restriction                                     \n",
       "2015 «0+» - для любой зрительской аудитории   9719348.163\n",
       "     «12+» - для детей старше 12 лет        186521671.355\n",
       "     «16+» - для детей старше 16 лет         67667386.133\n",
       "     «18+» - запрещено для детей             41153851.268\n",
       "     «6+» - для детей старше 6 лет          164184893.800\n",
       "2016 «0+» - для любой зрительской аудитории   3664118.260\n",
       "     «12+» - для детей старше 12 лет        148834713.712\n",
       "     «16+» - для детей старше 16 лет         91563453.526\n",
       "     «18+» - запрещено для детей             44992912.708\n",
       "     «6+» - для детей старше 6 лет          172187800.118\n",
       "2017 «0+» - для любой зрительской аудитории  76532976.667\n",
       "     «12+» - для детей старше 12 лет        191498235.626\n",
       "     «16+» - для детей старше 16 лет        154917709.918\n",
       "     «18+» - запрещено для детей             65656432.524\n",
       "     «6+» - для детей старше 6 лет          268580936.572\n",
       "2018 «0+» - для любой зрительской аудитории   6489800.422\n",
       "     «12+» - для детей старше 12 лет        212944651.652\n",
       "     «16+» - для детей старше 16 лет        105792322.737\n",
       "     «18+» - запрещено для детей             48939025.146\n",
       "     «6+» - для детей старше 6 лет          148602567.991\n",
       "2019 «0+» - для любой зрительской аудитории   5915355.607\n",
       "     «12+» - для детей старше 12 лет        149178809.102\n",
       "     «16+» - для детей старше 16 лет         71648421.262\n",
       "     «18+» - запрещено для детей             55310362.315\n",
       "     «6+» - для детей старше 6 лет          158673440.134"
      ]
     },
     "execution_count": 49,
     "metadata": {},
     "output_type": "execute_result"
    }
   ],
   "source": [
    "age_df = pd.pivot_table(df, index=['year', 'age_restriction'])\n",
    "age_df"
   ]
  },
  {
   "cell_type": "markdown",
   "metadata": {},
   "source": [
    "Чтобы отобразить данные более наглядно, построим графики для каждого года:"
   ]
  },
  {
   "cell_type": "code",
   "execution_count": 50,
   "metadata": {},
   "outputs": [],
   "source": [
    "age_df = age_df.reset_index()"
   ]
  },
  {
   "cell_type": "code",
   "execution_count": 51,
   "metadata": {
    "scrolled": false
   },
   "outputs": [
    {
     "data": {
      "image/png": "[encoded data removed]",
      "text/plain": [
       "<Figure size 360x144 with 1 Axes>"
      ]
     },
     "metadata": {
      "needs_background": "light"
     },
     "output_type": "display_data"
    }
   ],
   "source": [
    "age_df.query('year == 2015').plot(x='age_restriction', y='box_office', kind='bar', figsize=(5,2), grid=True)\n",
    "plt.title('Сборы за 2015 год')\n",
    "plt.xlabel('Возрастное ограничение')\n",
    "plt.ylabel('Сборы')\n",
    "plt.show()"
   ]
  },
  {
   "cell_type": "code",
   "execution_count": 52,
   "metadata": {},
   "outputs": [
    {
     "data": {
      "image/png": "[encoded data removed]",
      "text/plain": [
       "<Figure size 360x144 with 1 Axes>"
      ]
     },
     "metadata": {
      "needs_background": "light"
     },
     "output_type": "display_data"
    }
   ],
   "source": [
    "age_df.query('year == 2016').plot(x='age_restriction', y='box_office', kind='bar', figsize=(5,2), grid=True)\n",
    "plt.title('Сборы за 2016 год')\n",
    "plt.xlabel('Возрастное ограничение')\n",
    "plt.ylabel('Сборы')\n",
    "plt.show()"
   ]
  },
  {
   "cell_type": "code",
   "execution_count": 53,
   "metadata": {
    "scrolled": false
   },
   "outputs": [
    {
     "data": {
      "image/png": "[encoded data removed]",
      "text/plain": [
       "<Figure size 360x144 with 1 Axes>"
      ]
     },
     "metadata": {
      "needs_background": "light"
     },
     "output_type": "display_data"
    }
   ],
   "source": [
    "age_df.query('year == 2017').plot(x='age_restriction', y='box_office', kind='bar', figsize=(5,2), grid=True)\n",
    "plt.title('Сборы за 2017 год')\n",
    "plt.xlabel('Возрастное ограничение')\n",
    "plt.ylabel('Сборы')\n",
    "plt.show()"
   ]
  },
  {
   "cell_type": "code",
   "execution_count": 54,
   "metadata": {},
   "outputs": [
    {
     "data": {
      "image/png": "[encoded data removed]",
      "text/plain": [
       "<Figure size 360x144 with 1 Axes>"
      ]
     },
     "metadata": {
      "needs_background": "light"
     },
     "output_type": "display_data"
    }
   ],
   "source": [
    "age_df.query('year == 2018').plot(x='age_restriction', y='box_office', kind='bar', figsize=(5,2), grid=True)\n",
    "plt.title('Сборы за 2018 год')\n",
    "plt.xlabel('Возрастное ограничение')\n",
    "plt.ylabel('Сборы')\n",
    "plt.show()"
   ]
  },
  {
   "cell_type": "code",
   "execution_count": 55,
   "metadata": {},
   "outputs": [
    {
     "data": {
      "image/png": "[encoded data removed]",
      "text/plain": [
       "<Figure size 360x144 with 1 Axes>"
      ]
     },
     "metadata": {
      "needs_background": "light"
     },
     "output_type": "display_data"
    }
   ],
   "source": [
    "age_df.query('year == 2019').plot(x='age_restriction', y='box_office', kind='bar', figsize=(5,2), grid=True)\n",
    "plt.title('Сборы за 2019 год')\n",
    "plt.xlabel('Возрастное ограничение')\n",
    "plt.ylabel('Сборы')\n",
    "plt.show()"
   ]
  },
  {
   "cell_type": "code",
   "execution_count": 56,
   "metadata": {},
   "outputs": [
    {
     "data": {
      "text/plain": [
       "<AxesSubplot:xlabel='year', ylabel='box_office'>"
      ]
     },
     "execution_count": 56,
     "metadata": {},
     "output_type": "execute_result"
    },
    {
     "data": {
      "image/png": "[encoded data removed]",
      "text/plain": [
       "<Figure size 720x360 with 1 Axes>"
      ]
     },
     "metadata": {
      "needs_background": "light"
     },
     "output_type": "display_data"
    }
   ],
   "source": [
    "import seaborn as sns\n",
    "plt.figure(figsize=(10,5))\n",
    "sns.barplot(x='year', y='box_office', hue='age_restriction', data=age_df)"
   ]
  },
  {
   "cell_type": "code",
   "execution_count": 57,
   "metadata": {},
   "outputs": [
    {
     "data": {
      "text/plain": [
       "(0.0, 500000000.0)"
      ]
     },
     "execution_count": 57,
     "metadata": {},
     "output_type": "execute_result"
    },
    {
     "data": {
      "image/png": "[encoded data removed]",
      "text/plain": [
       "<Figure size 720x360 with 1 Axes>"
      ]
     },
     "metadata": {
      "needs_background": "light"
     },
     "output_type": "display_data"
    }
   ],
   "source": [
    "plt.figure(figsize=(10,5))\n",
    "sns.boxplot(x='year', y='box_office', hue='age_restriction', data=df)\n",
    "plt.ylim(0,5e8)"
   ]
  },
  {
   "cell_type": "markdown",
   "metadata": {},
   "source": [
    "Анализируя данные, заметно, что самые большие сборы у фильмов с возрастным ограничением **6+** и **12+**. Это может быть связано с тем, что поход в кино на фильм с таким возрастным ограничением доступен большему числу людей, т.к. в кино могут пойти родители со своими детьми. В целом, по моему личному опыту, с детьми чаще ходят в кино, чем во взрослом возрасте. В таком случае, фильмы с ограничением 0+ не собрали такого количества денег потому, что их, скорее всего, выходило меньше. В зависимости от года картина остается почти неизменной."
   ]
  },
  {
   "cell_type": "markdown",
   "metadata": {
    "id": "l_Kg6Ku4gFya"
   },
   "source": [
    "### Шаг 4. Исследуйте фильмы, которые получили государственную поддержку\n",
    "\n",
    "На этом этапе нет конкретных инструкций и заданий — поищите интересные закономерности в данных. Посмотрите, сколько выделяют средств на поддержку кино. Проверьте, хорошо ли окупаются такие фильмы, какой у них рейтинг."
   ]
  },
  {
   "cell_type": "markdown",
   "metadata": {},
   "source": [
    "Сначала создадим таблицу-срез с данными о фильмах, которые имели гос. поддержку."
   ]
  },
  {
   "cell_type": "code",
   "execution_count": 58,
   "metadata": {
    "id": "W9QKpjUdgFyb"
   },
   "outputs": [
    {
     "name": "stdout",
     "output_type": "stream",
     "text": [
      "<class 'pandas.core.frame.DataFrame'>\n",
      "Int64Index: 332 entries, 1281 to 7477\n",
      "Data columns (total 21 columns):\n",
      " #   Column                 Non-Null Count  Dtype              \n",
      "---  ------                 --------------  -----              \n",
      " 0   title                  332 non-null    object             \n",
      " 1   puNumber               332 non-null    int64              \n",
      " 2   show_start_date        332 non-null    datetime64[ns, UTC]\n",
      " 3   type                   332 non-null    object             \n",
      " 4   film_studio            332 non-null    object             \n",
      " 5   production_country     332 non-null    object             \n",
      " 6   director               332 non-null    object             \n",
      " 7   producer               330 non-null    object             \n",
      " 8   age_restriction        332 non-null    object             \n",
      " 9   refundable_support     332 non-null    float64            \n",
      " 10  nonrefundable_support  332 non-null    float64            \n",
      " 11  budget                 332 non-null    float64            \n",
      " 12  financing_source       332 non-null    object             \n",
      " 13  ratings                316 non-null    float64            \n",
      " 14  genres                 316 non-null    object             \n",
      " 15  puNumber_int           332 non-null    bool               \n",
      " 16  box_office             318 non-null    float64            \n",
      " 17  year                   332 non-null    int64              \n",
      " 18  main_genre             316 non-null    object             \n",
      " 19  main_director          332 non-null    object             \n",
      " 20  perc_support           332 non-null    float64            \n",
      "dtypes: bool(1), datetime64[ns, UTC](1), float64(6), int64(2), object(11)\n",
      "memory usage: 54.8+ KB\n"
     ]
    },
    {
     "data": {
      "text/plain": [
       "None"
      ]
     },
     "metadata": {},
     "output_type": "display_data"
    },
    {
     "data": {
      "text/html": [
       "<div>\n",
       "<style scoped>\n",
       "    .dataframe tbody tr th:only-of-type {\n",
       "        vertical-align: middle;\n",
       "    }\n",
       "\n",
       "    .dataframe tbody tr th {\n",
       "        vertical-align: top;\n",
       "    }\n",
       "\n",
       "    .dataframe thead th {\n",
       "        text-align: right;\n",
       "    }\n",
       "</style>\n",
       "<table border=\"1\" class=\"dataframe\">\n",
       "  <thead>\n",
       "    <tr style=\"text-align: right;\">\n",
       "      <th></th>\n",
       "      <th>title</th>\n",
       "      <th>puNumber</th>\n",
       "      <th>show_start_date</th>\n",
       "      <th>type</th>\n",
       "      <th>film_studio</th>\n",
       "      <th>production_country</th>\n",
       "      <th>director</th>\n",
       "      <th>producer</th>\n",
       "      <th>age_restriction</th>\n",
       "      <th>refundable_support</th>\n",
       "      <th>...</th>\n",
       "      <th>budget</th>\n",
       "      <th>financing_source</th>\n",
       "      <th>ratings</th>\n",
       "      <th>genres</th>\n",
       "      <th>puNumber_int</th>\n",
       "      <th>box_office</th>\n",
       "      <th>year</th>\n",
       "      <th>main_genre</th>\n",
       "      <th>main_director</th>\n",
       "      <th>perc_support</th>\n",
       "    </tr>\n",
       "  </thead>\n",
       "  <tbody>\n",
       "    <tr>\n",
       "      <th>1281</th>\n",
       "      <td>Пока еще жива</td>\n",
       "      <td>111005313</td>\n",
       "      <td>2013-10-11 12:00:00+00:00</td>\n",
       "      <td>Художественный</td>\n",
       "      <td>АНО содействия развитию кинематографии \"Ангел-...</td>\n",
       "      <td>Россия</td>\n",
       "      <td>А.Атанесян</td>\n",
       "      <td>А.Атанесян, М.Бабаханов, Р.Бутко</td>\n",
       "      <td>«16+» - для детей старше 16 лет</td>\n",
       "      <td>0.000</td>\n",
       "      <td>...</td>\n",
       "      <td>79411900.000</td>\n",
       "      <td>Министерство культуры</td>\n",
       "      <td>8.100</td>\n",
       "      <td>драма,мелодрама</td>\n",
       "      <td>True</td>\n",
       "      <td>365353.600</td>\n",
       "      <td>2013</td>\n",
       "      <td>драма</td>\n",
       "      <td>А.Атанесян</td>\n",
       "      <td>0.334</td>\n",
       "    </tr>\n",
       "    <tr>\n",
       "      <th>1448</th>\n",
       "      <td>Бесславные придурки</td>\n",
       "      <td>111003314</td>\n",
       "      <td>2014-03-28 12:00:00+00:00</td>\n",
       "      <td>Художественный</td>\n",
       "      <td>ООО \"Компания \"АТК-Студио\"</td>\n",
       "      <td>Россия</td>\n",
       "      <td>А.Якимчук</td>\n",
       "      <td>А.Тютрюмов</td>\n",
       "      <td>«12+» - для детей старше 12 лет</td>\n",
       "      <td>0.000</td>\n",
       "      <td>...</td>\n",
       "      <td>37142857.000</td>\n",
       "      <td>Министерство культуры</td>\n",
       "      <td>NaN</td>\n",
       "      <td>NaN</td>\n",
       "      <td>True</td>\n",
       "      <td>28140.000</td>\n",
       "      <td>2014</td>\n",
       "      <td>NaN</td>\n",
       "      <td>А.Якимчук</td>\n",
       "      <td>0.700</td>\n",
       "    </tr>\n",
       "    <tr>\n",
       "      <th>1498</th>\n",
       "      <td>Невидимки</td>\n",
       "      <td>111004213</td>\n",
       "      <td>2013-09-10 12:00:00+00:00</td>\n",
       "      <td>Художественный</td>\n",
       "      <td>ООО \"Компания \"РЕАЛ-ДАКОТА\"</td>\n",
       "      <td>Россия</td>\n",
       "      <td>Р.Давлетьяров, С.Комаров</td>\n",
       "      <td>Р.Давлетьяров, А.Котелевский, А.Олейников</td>\n",
       "      <td>«12+» - для детей старше 12 лет</td>\n",
       "      <td>0.000</td>\n",
       "      <td>...</td>\n",
       "      <td>176023490.000</td>\n",
       "      <td>Фонд кино</td>\n",
       "      <td>5.300</td>\n",
       "      <td>комедия,фантастика</td>\n",
       "      <td>True</td>\n",
       "      <td>19957031.500</td>\n",
       "      <td>2013</td>\n",
       "      <td>комедия</td>\n",
       "      <td>Р.Давлетьяров</td>\n",
       "      <td>0.613</td>\n",
       "    </tr>\n",
       "    <tr>\n",
       "      <th>1524</th>\n",
       "      <td>БЕРЦЫ</td>\n",
       "      <td>111004314</td>\n",
       "      <td>2014-05-05 12:00:00+00:00</td>\n",
       "      <td>Художественный</td>\n",
       "      <td>ООО \"Студия \"Пассажир\"</td>\n",
       "      <td>Россия</td>\n",
       "      <td>Е.Миндадзе (псевдоним Катя Шагалова)</td>\n",
       "      <td>Л.Антонова</td>\n",
       "      <td>«16+» - для детей старше 16 лет</td>\n",
       "      <td>0.000</td>\n",
       "      <td>...</td>\n",
       "      <td>40574140.000</td>\n",
       "      <td>Министерство культуры</td>\n",
       "      <td>4.200</td>\n",
       "      <td>драма</td>\n",
       "      <td>True</td>\n",
       "      <td>55917.500</td>\n",
       "      <td>2014</td>\n",
       "      <td>драма</td>\n",
       "      <td>Е.Миндадзе (псевдоним Катя Шагалова)</td>\n",
       "      <td>0.690</td>\n",
       "    </tr>\n",
       "    <tr>\n",
       "      <th>1792</th>\n",
       "      <td>Братья Ч</td>\n",
       "      <td>111004414</td>\n",
       "      <td>2014-04-23 12:00:00+00:00</td>\n",
       "      <td>Художественный</td>\n",
       "      <td>ООО \"Студия \"Пассажир\"</td>\n",
       "      <td>Россия</td>\n",
       "      <td>М.Угаров</td>\n",
       "      <td>А.Миндадзе, Л.Антонова</td>\n",
       "      <td>«16+» - для детей старше 16 лет</td>\n",
       "      <td>0.000</td>\n",
       "      <td>...</td>\n",
       "      <td>40015122.000</td>\n",
       "      <td>Министерство культуры</td>\n",
       "      <td>6.400</td>\n",
       "      <td>драма</td>\n",
       "      <td>True</td>\n",
       "      <td>232100.000</td>\n",
       "      <td>2014</td>\n",
       "      <td>драма</td>\n",
       "      <td>М.Угаров</td>\n",
       "      <td>0.625</td>\n",
       "    </tr>\n",
       "  </tbody>\n",
       "</table>\n",
       "<p>5 rows × 21 columns</p>\n",
       "</div>"
      ],
      "text/plain": [
       "                    title   puNumber           show_start_date  \\\n",
       "1281        Пока еще жива  111005313 2013-10-11 12:00:00+00:00   \n",
       "1448  Бесславные придурки  111003314 2014-03-28 12:00:00+00:00   \n",
       "1498            Невидимки  111004213 2013-09-10 12:00:00+00:00   \n",
       "1524                БЕРЦЫ  111004314 2014-05-05 12:00:00+00:00   \n",
       "1792             Братья Ч  111004414 2014-04-23 12:00:00+00:00   \n",
       "\n",
       "                type                                        film_studio  \\\n",
       "1281  Художественный  АНО содействия развитию кинематографии \"Ангел-...   \n",
       "1448  Художественный                         ООО \"Компания \"АТК-Студио\"   \n",
       "1498  Художественный                        ООО \"Компания \"РЕАЛ-ДАКОТА\"   \n",
       "1524  Художественный                             ООО \"Студия \"Пассажир\"   \n",
       "1792  Художественный                             ООО \"Студия \"Пассажир\"   \n",
       "\n",
       "     production_country                              director  \\\n",
       "1281             Россия                            А.Атанесян   \n",
       "1448             Россия                             А.Якимчук   \n",
       "1498             Россия              Р.Давлетьяров, С.Комаров   \n",
       "1524             Россия  Е.Миндадзе (псевдоним Катя Шагалова)   \n",
       "1792             Россия                              М.Угаров   \n",
       "\n",
       "                                       producer  \\\n",
       "1281           А.Атанесян, М.Бабаханов, Р.Бутко   \n",
       "1448                                 А.Тютрюмов   \n",
       "1498  Р.Давлетьяров, А.Котелевский, А.Олейников   \n",
       "1524                                 Л.Антонова   \n",
       "1792                     А.Миндадзе, Л.Антонова   \n",
       "\n",
       "                      age_restriction  refundable_support  ...        budget  \\\n",
       "1281  «16+» - для детей старше 16 лет               0.000  ...  79411900.000   \n",
       "1448  «12+» - для детей старше 12 лет               0.000  ...  37142857.000   \n",
       "1498  «12+» - для детей старше 12 лет               0.000  ... 176023490.000   \n",
       "1524  «16+» - для детей старше 16 лет               0.000  ...  40574140.000   \n",
       "1792  «16+» - для детей старше 16 лет               0.000  ...  40015122.000   \n",
       "\n",
       "           financing_source ratings              genres puNumber_int  \\\n",
       "1281  Министерство культуры   8.100     драма,мелодрама         True   \n",
       "1448  Министерство культуры     NaN                 NaN         True   \n",
       "1498              Фонд кино   5.300  комедия,фантастика         True   \n",
       "1524  Министерство культуры   4.200               драма         True   \n",
       "1792  Министерство культуры   6.400               драма         True   \n",
       "\n",
       "       box_office  year  main_genre                         main_director  \\\n",
       "1281   365353.600  2013       драма                            А.Атанесян   \n",
       "1448    28140.000  2014         NaN                             А.Якимчук   \n",
       "1498 19957031.500  2013     комедия                         Р.Давлетьяров   \n",
       "1524    55917.500  2014       драма  Е.Миндадзе (псевдоним Катя Шагалова)   \n",
       "1792   232100.000  2014       драма                              М.Угаров   \n",
       "\n",
       "     perc_support  \n",
       "1281        0.334  \n",
       "1448        0.700  \n",
       "1498        0.613  \n",
       "1524        0.690  \n",
       "1792        0.625  \n",
       "\n",
       "[5 rows x 21 columns]"
      ]
     },
     "metadata": {},
     "output_type": "display_data"
    }
   ],
   "source": [
    "data_supported = data.query('financing_source.isna() == False')\n",
    "display(data_supported.info())\n",
    "display(data_supported.head())"
   ]
  },
  {
   "cell_type": "markdown",
   "metadata": {},
   "source": [
    "Добавим столбец с долей гос. поддержки от общего бюджета фильма."
   ]
  },
  {
   "cell_type": "code",
   "execution_count": 59,
   "metadata": {
    "scrolled": true
   },
   "outputs": [
    {
     "data": {
      "text/plain": [
       "count   332.000\n",
       "mean        inf\n",
       "std         NaN\n",
       "min       4.404\n",
       "25%      38.462\n",
       "50%      61.404\n",
       "75%      66.141\n",
       "max         inf\n",
       "Name: perc_support, dtype: float64"
      ]
     },
     "metadata": {},
     "output_type": "display_data"
    },
    {
     "data": {
      "text/plain": [
       "inf       17\n",
       "64.935     6\n",
       "70.000     5\n",
       "65.789     5\n",
       "50.000     5\n",
       "          ..\n",
       "62.000     1\n",
       "33.048     1\n",
       "44.308     1\n",
       "23.635     1\n",
       "66.622     1\n",
       "Name: perc_support, Length: 282, dtype: int64"
      ]
     },
     "metadata": {},
     "output_type": "display_data"
    }
   ],
   "source": [
    "data_supported['perc_support'] = (data_supported['refundable_support'] + data_supported['nonrefundable_support']) / data_supported['budget'] * 100\n",
    "display(data_supported['perc_support'].describe())\n",
    "display(data_supported['perc_support'].value_counts())"
   ]
  },
  {
   "cell_type": "markdown",
   "metadata": {},
   "source": [
    "В столбце появилось 17 значений `inf`. Это может означать, что в 17 случаях происходит деление на ноль, т.к. у фильмов указан нулевой бюджет. Рассмотрим подробнее:"
   ]
  },
  {
   "cell_type": "code",
   "execution_count": 60,
   "metadata": {
    "scrolled": true
   },
   "outputs": [
    {
     "data": {
      "text/html": [
       "<div>\n",
       "<style scoped>\n",
       "    .dataframe tbody tr th:only-of-type {\n",
       "        vertical-align: middle;\n",
       "    }\n",
       "\n",
       "    .dataframe tbody tr th {\n",
       "        vertical-align: top;\n",
       "    }\n",
       "\n",
       "    .dataframe thead th {\n",
       "        text-align: right;\n",
       "    }\n",
       "</style>\n",
       "<table border=\"1\" class=\"dataframe\">\n",
       "  <thead>\n",
       "    <tr style=\"text-align: right;\">\n",
       "      <th></th>\n",
       "      <th>title</th>\n",
       "      <th>puNumber</th>\n",
       "      <th>show_start_date</th>\n",
       "      <th>type</th>\n",
       "      <th>film_studio</th>\n",
       "      <th>production_country</th>\n",
       "      <th>director</th>\n",
       "      <th>producer</th>\n",
       "      <th>age_restriction</th>\n",
       "      <th>refundable_support</th>\n",
       "      <th>...</th>\n",
       "      <th>budget</th>\n",
       "      <th>financing_source</th>\n",
       "      <th>ratings</th>\n",
       "      <th>genres</th>\n",
       "      <th>puNumber_int</th>\n",
       "      <th>box_office</th>\n",
       "      <th>year</th>\n",
       "      <th>main_genre</th>\n",
       "      <th>main_director</th>\n",
       "      <th>perc_support</th>\n",
       "    </tr>\n",
       "  </thead>\n",
       "  <tbody>\n",
       "    <tr>\n",
       "      <th>2052</th>\n",
       "      <td>14+</td>\n",
       "      <td>111023614</td>\n",
       "      <td>2014-12-19 12:00:00+00:00</td>\n",
       "      <td>Художественный</td>\n",
       "      <td>ООО Киностудия  \"Сентябрь\"</td>\n",
       "      <td>Россия</td>\n",
       "      <td>А.Зайцев</td>\n",
       "      <td>О.Гранина, А.Зайцев</td>\n",
       "      <td>«16+» - для детей старше 16 лет</td>\n",
       "      <td>0.000</td>\n",
       "      <td>...</td>\n",
       "      <td>0.000</td>\n",
       "      <td>Министерство культуры, Фонд кино</td>\n",
       "      <td>6.600</td>\n",
       "      <td>мелодрама</td>\n",
       "      <td>True</td>\n",
       "      <td>10234016.100</td>\n",
       "      <td>2014</td>\n",
       "      <td>мелодрама</td>\n",
       "      <td>А.Зайцев</td>\n",
       "      <td>inf</td>\n",
       "    </tr>\n",
       "    <tr>\n",
       "      <th>2057</th>\n",
       "      <td>Дуxless 2</td>\n",
       "      <td>111000415</td>\n",
       "      <td>2015-01-26 12:00:00+00:00</td>\n",
       "      <td>Художественный</td>\n",
       "      <td>ООО \"Киностудия \"Слово\", ООО \"Арт Пикчерс Студия\"</td>\n",
       "      <td>Россия</td>\n",
       "      <td>Р.Прыгунов</td>\n",
       "      <td>П.Ануров, Ф.Бондарчук, Д.Рудовский</td>\n",
       "      <td>«16+» - для детей старше 16 лет</td>\n",
       "      <td>0.000</td>\n",
       "      <td>...</td>\n",
       "      <td>0.000</td>\n",
       "      <td>Фонд кино</td>\n",
       "      <td>6.600</td>\n",
       "      <td>драма</td>\n",
       "      <td>True</td>\n",
       "      <td>446163511.000</td>\n",
       "      <td>2015</td>\n",
       "      <td>драма</td>\n",
       "      <td>Р.Прыгунов</td>\n",
       "      <td>inf</td>\n",
       "    </tr>\n",
       "    <tr>\n",
       "      <th>2471</th>\n",
       "      <td>Воин (2015)</td>\n",
       "      <td>111017315</td>\n",
       "      <td>2015-09-28 12:00:00+00:00</td>\n",
       "      <td>Художественный</td>\n",
       "      <td>ООО \"Форпост Продакшн\", ООО \"Арт Пикчерс Студия\"</td>\n",
       "      <td>Россия</td>\n",
       "      <td>А.Андрианов</td>\n",
       "      <td>ООО \"Арт Пикчерс Студия\"</td>\n",
       "      <td>«12+» - для детей старше 12 лет</td>\n",
       "      <td>10000000.000</td>\n",
       "      <td>...</td>\n",
       "      <td>0.000</td>\n",
       "      <td>Фонд кино</td>\n",
       "      <td>7.800</td>\n",
       "      <td>боевик,драма,криминал</td>\n",
       "      <td>True</td>\n",
       "      <td>196572438.400</td>\n",
       "      <td>2015</td>\n",
       "      <td>боевик</td>\n",
       "      <td>А.Андрианов</td>\n",
       "      <td>inf</td>\n",
       "    </tr>\n",
       "    <tr>\n",
       "      <th>2531</th>\n",
       "      <td>Бармен</td>\n",
       "      <td>111009615</td>\n",
       "      <td>2015-05-26 12:00:00+00:00</td>\n",
       "      <td>Художественный</td>\n",
       "      <td>АО \"ВайТ Медиа\", ООО \"Арт Пикчерс Студия\"</td>\n",
       "      <td>Россия</td>\n",
       "      <td>Д.Штурманова</td>\n",
       "      <td>Т.Вайнштейн</td>\n",
       "      <td>«16+» - для детей старше 16 лет</td>\n",
       "      <td>20000000.000</td>\n",
       "      <td>...</td>\n",
       "      <td>0.000</td>\n",
       "      <td>Фонд кино</td>\n",
       "      <td>6.200</td>\n",
       "      <td>комедия,фэнтези</td>\n",
       "      <td>True</td>\n",
       "      <td>67418974.800</td>\n",
       "      <td>2015</td>\n",
       "      <td>комедия</td>\n",
       "      <td>Д.Штурманова</td>\n",
       "      <td>inf</td>\n",
       "    </tr>\n",
       "    <tr>\n",
       "      <th>2614</th>\n",
       "      <td>Савва Сердце воина</td>\n",
       "      <td>114001715</td>\n",
       "      <td>2015-07-21 12:00:00+00:00</td>\n",
       "      <td>Анимационный</td>\n",
       "      <td>ООО \"Глюкоза Продакшн\", ООО \"Арт Пикчерс Студия\"</td>\n",
       "      <td>Россия</td>\n",
       "      <td>М.Фадеев</td>\n",
       "      <td>А.Чистяков</td>\n",
       "      <td>«6+» - для детей старше 6 лет</td>\n",
       "      <td>60000000.000</td>\n",
       "      <td>...</td>\n",
       "      <td>0.000</td>\n",
       "      <td>Фонд кино</td>\n",
       "      <td>4.600</td>\n",
       "      <td>мультфильм,приключения,фэнтези</td>\n",
       "      <td>True</td>\n",
       "      <td>184487551.400</td>\n",
       "      <td>2015</td>\n",
       "      <td>мультфильм</td>\n",
       "      <td>М.Фадеев</td>\n",
       "      <td>inf</td>\n",
       "    </tr>\n",
       "    <tr>\n",
       "      <th>2683</th>\n",
       "      <td>Тряпичный союз</td>\n",
       "      <td>111010215</td>\n",
       "      <td>2015-06-08 12:00:00+00:00</td>\n",
       "      <td>Художественный</td>\n",
       "      <td>ООО \"Кинокомпания \"КОКТЕБЕЛЬ\"</td>\n",
       "      <td>Россия</td>\n",
       "      <td>М.Местецкий</td>\n",
       "      <td>Р.Борисевич, А.Кушаев</td>\n",
       "      <td>«18+» - запрещено для детей</td>\n",
       "      <td>0.000</td>\n",
       "      <td>...</td>\n",
       "      <td>0.000</td>\n",
       "      <td>Фонд кино</td>\n",
       "      <td>6.300</td>\n",
       "      <td>комедия,драма</td>\n",
       "      <td>True</td>\n",
       "      <td>1957738.510</td>\n",
       "      <td>2015</td>\n",
       "      <td>комедия</td>\n",
       "      <td>М.Местецкий</td>\n",
       "      <td>inf</td>\n",
       "    </tr>\n",
       "    <tr>\n",
       "      <th>2787</th>\n",
       "      <td>Срочно выйду замуж</td>\n",
       "      <td>111017115</td>\n",
       "      <td>2015-09-30 12:00:00+00:00</td>\n",
       "      <td>Художественный</td>\n",
       "      <td>АО \"ВайТ Медиа\", ООО \"Арт Пикчерс Студия\"</td>\n",
       "      <td>Россия</td>\n",
       "      <td>С Чекалов</td>\n",
       "      <td>Ф.Бондарчук, Т.Вайнштейн, Д.Рудовский</td>\n",
       "      <td>«16+» - для детей старше 16 лет</td>\n",
       "      <td>0.000</td>\n",
       "      <td>...</td>\n",
       "      <td>0.000</td>\n",
       "      <td>Фонд кино</td>\n",
       "      <td>5.100</td>\n",
       "      <td>комедия,мелодрама</td>\n",
       "      <td>True</td>\n",
       "      <td>72937783.200</td>\n",
       "      <td>2015</td>\n",
       "      <td>комедия</td>\n",
       "      <td>С Чекалов</td>\n",
       "      <td>inf</td>\n",
       "    </tr>\n",
       "    <tr>\n",
       "      <th>2873</th>\n",
       "      <td>Помню - не помню!</td>\n",
       "      <td>111004916</td>\n",
       "      <td>2016-03-01 12:00:00+00:00</td>\n",
       "      <td>Художественный</td>\n",
       "      <td>ООО \"КиноФирма\"</td>\n",
       "      <td>Россия</td>\n",
       "      <td>В.Ровенский</td>\n",
       "      <td>ООО \"КиноФирма\"</td>\n",
       "      <td>«12+» - для детей старше 12 лет</td>\n",
       "      <td>0.000</td>\n",
       "      <td>...</td>\n",
       "      <td>0.000</td>\n",
       "      <td>Министерство культуры</td>\n",
       "      <td>4.300</td>\n",
       "      <td>комедия</td>\n",
       "      <td>True</td>\n",
       "      <td>15362931.430</td>\n",
       "      <td>2016</td>\n",
       "      <td>комедия</td>\n",
       "      <td>В.Ровенский</td>\n",
       "      <td>inf</td>\n",
       "    </tr>\n",
       "    <tr>\n",
       "      <th>3046</th>\n",
       "      <td>Любовь с ограничениями</td>\n",
       "      <td>111008216</td>\n",
       "      <td>2016-04-29 12:00:00+00:00</td>\n",
       "      <td>Художественный</td>\n",
       "      <td>АО \"ВайТ Медиа\", ООО \"Арт Пикчерс Студия\"</td>\n",
       "      <td>Россия</td>\n",
       "      <td>Д.Тюрин</td>\n",
       "      <td>Ф.Бондарчук, Т.Вайнштейн, Д.Рудовский</td>\n",
       "      <td>«16+» - для детей старше 16 лет</td>\n",
       "      <td>19000000.000</td>\n",
       "      <td>...</td>\n",
       "      <td>0.000</td>\n",
       "      <td>Фонд кино</td>\n",
       "      <td>6.300</td>\n",
       "      <td>комедия,мелодрама</td>\n",
       "      <td>True</td>\n",
       "      <td>70299052.000</td>\n",
       "      <td>2016</td>\n",
       "      <td>комедия</td>\n",
       "      <td>Д.Тюрин</td>\n",
       "      <td>inf</td>\n",
       "    </tr>\n",
       "    <tr>\n",
       "      <th>3564</th>\n",
       "      <td>Притяжение (2016)</td>\n",
       "      <td>111018116</td>\n",
       "      <td>2016-12-16 12:00:00+00:00</td>\n",
       "      <td>Художественный</td>\n",
       "      <td>ООО \"Водород 2011\",  ООО \"Арт Пикчерс Студия\"</td>\n",
       "      <td>Россия</td>\n",
       "      <td>Ф.Бондарчук</td>\n",
       "      <td>ООО \"Арт Пикчерс Студия\"</td>\n",
       "      <td>«12+» - для детей старше 12 лет</td>\n",
       "      <td>0.000</td>\n",
       "      <td>...</td>\n",
       "      <td>0.000</td>\n",
       "      <td>Фонд кино</td>\n",
       "      <td>5.600</td>\n",
       "      <td>фантастика</td>\n",
       "      <td>True</td>\n",
       "      <td>1038321489.000</td>\n",
       "      <td>2016</td>\n",
       "      <td>фантастика</td>\n",
       "      <td>Ф.Бондарчук</td>\n",
       "      <td>inf</td>\n",
       "    </tr>\n",
       "    <tr>\n",
       "      <th>3674</th>\n",
       "      <td>Чудо-юдо</td>\n",
       "      <td>114001817</td>\n",
       "      <td>2017-06-27 12:00:00+00:00</td>\n",
       "      <td>Анимационный</td>\n",
       "      <td>ООО \"КиноФирма\"</td>\n",
       "      <td>Россия</td>\n",
       "      <td>А.Лукичев</td>\n",
       "      <td>ООО \"КиноФирма\"</td>\n",
       "      <td>«6+» - для детей старше 6 лет</td>\n",
       "      <td>20000000.000</td>\n",
       "      <td>...</td>\n",
       "      <td>0.000</td>\n",
       "      <td>Фонд кино</td>\n",
       "      <td>5.200</td>\n",
       "      <td>мультфильм,фэнтези,семейный</td>\n",
       "      <td>True</td>\n",
       "      <td>55108014.760</td>\n",
       "      <td>2017</td>\n",
       "      <td>мультфильм</td>\n",
       "      <td>А.Лукичев</td>\n",
       "      <td>inf</td>\n",
       "    </tr>\n",
       "    <tr>\n",
       "      <th>3738</th>\n",
       "      <td>Мифы</td>\n",
       "      <td>111004317</td>\n",
       "      <td>2017-06-07 12:00:00+00:00</td>\n",
       "      <td>Художественный</td>\n",
       "      <td>ООО \"ХАЙПФИЛМ\", ООО \"Арт Пикчерс Студия\"</td>\n",
       "      <td>Россия</td>\n",
       "      <td>А.Молочников</td>\n",
       "      <td>Ф.Бондарчук, Д.Рудовский, И.Стюарт, М.Османн, ...</td>\n",
       "      <td>«16+» - для детей старше 16 лет</td>\n",
       "      <td>25000000.000</td>\n",
       "      <td>...</td>\n",
       "      <td>0.000</td>\n",
       "      <td>Фонд кино</td>\n",
       "      <td>4.800</td>\n",
       "      <td>комедия</td>\n",
       "      <td>True</td>\n",
       "      <td>50451949.000</td>\n",
       "      <td>2017</td>\n",
       "      <td>комедия</td>\n",
       "      <td>А.Молочников</td>\n",
       "      <td>inf</td>\n",
       "    </tr>\n",
       "    <tr>\n",
       "      <th>5672</th>\n",
       "      <td>Селфи</td>\n",
       "      <td>111012117</td>\n",
       "      <td>2018-02-01 12:00:00+00:00</td>\n",
       "      <td>Художественный</td>\n",
       "      <td>ООО \"Киностудия \"Слово\", ООО \"Арт Пикчерс Студия\"</td>\n",
       "      <td>Россия</td>\n",
       "      <td>Н.Хомерики</td>\n",
       "      <td>П.Ануров, Ф.Бондарчук, Д.Рудовский</td>\n",
       "      <td>«16+» - для детей старше 16 лет</td>\n",
       "      <td>20000000.000</td>\n",
       "      <td>...</td>\n",
       "      <td>0.000</td>\n",
       "      <td>Фонд кино</td>\n",
       "      <td>5.800</td>\n",
       "      <td>триллер,драма</td>\n",
       "      <td>True</td>\n",
       "      <td>225196400.030</td>\n",
       "      <td>2018</td>\n",
       "      <td>триллер</td>\n",
       "      <td>Н.Хомерики</td>\n",
       "      <td>inf</td>\n",
       "    </tr>\n",
       "    <tr>\n",
       "      <th>5805</th>\n",
       "      <td>Два хвоста</td>\n",
       "      <td>114001018</td>\n",
       "      <td>2018-05-31 12:00:00+00:00</td>\n",
       "      <td>Анимационный</td>\n",
       "      <td>ООО \"ЛИЦЕНЗИОННЫЕ БРЕНДЫ\"</td>\n",
       "      <td>Россия</td>\n",
       "      <td>В.Ровенский, Н.Лопато, В.Азеев</td>\n",
       "      <td>ООО \"ЛИЦЕНЗИОННЫЕ БРЕНДЫ\"</td>\n",
       "      <td>«6+» - для детей старше 6 лет</td>\n",
       "      <td>10000000.000</td>\n",
       "      <td>...</td>\n",
       "      <td>0.000</td>\n",
       "      <td>Фонд кино</td>\n",
       "      <td>5.000</td>\n",
       "      <td>мультфильм,детский</td>\n",
       "      <td>True</td>\n",
       "      <td>106514301.030</td>\n",
       "      <td>2018</td>\n",
       "      <td>мультфильм</td>\n",
       "      <td>В.Ровенский</td>\n",
       "      <td>inf</td>\n",
       "    </tr>\n",
       "    <tr>\n",
       "      <th>6007</th>\n",
       "      <td>Принцесса и дракон</td>\n",
       "      <td>114003018</td>\n",
       "      <td>2018-08-23 12:00:00+00:00</td>\n",
       "      <td>Анимационный</td>\n",
       "      <td>ООО \"ЛИЦЕНЗИОННЫЕ БРЕНДЫ\"</td>\n",
       "      <td>Россия</td>\n",
       "      <td>М.Нефедова</td>\n",
       "      <td>ООО \"ЛИЦЕНЗИОННЫЕ БРЕНДЫ\"</td>\n",
       "      <td>«6+» - для детей старше 6 лет</td>\n",
       "      <td>40000000.000</td>\n",
       "      <td>...</td>\n",
       "      <td>0.000</td>\n",
       "      <td>Фонд кино</td>\n",
       "      <td>5.200</td>\n",
       "      <td>мультфильм,фэнтези,детский</td>\n",
       "      <td>True</td>\n",
       "      <td>83366328.660</td>\n",
       "      <td>2018</td>\n",
       "      <td>мультфильм</td>\n",
       "      <td>М.Нефедова</td>\n",
       "      <td>inf</td>\n",
       "    </tr>\n",
       "    <tr>\n",
       "      <th>6322</th>\n",
       "      <td>Баба Яга</td>\n",
       "      <td>114006518</td>\n",
       "      <td>2018-11-08 12:00:00+00:00</td>\n",
       "      <td>Анимационный</td>\n",
       "      <td>ООО \"Арт Пикчерс Студия\"</td>\n",
       "      <td>Россия</td>\n",
       "      <td>В.Саков</td>\n",
       "      <td>ООО \"Арт Пикчерс Студия\", ООО \"КРИЭЙТИВ АНИМЭЙ...</td>\n",
       "      <td>«6+» - для детей старше 6 лет</td>\n",
       "      <td>0.000</td>\n",
       "      <td>...</td>\n",
       "      <td>0.000</td>\n",
       "      <td>Фонд кино</td>\n",
       "      <td>NaN</td>\n",
       "      <td>NaN</td>\n",
       "      <td>True</td>\n",
       "      <td>1334699.400</td>\n",
       "      <td>2018</td>\n",
       "      <td>NaN</td>\n",
       "      <td>В.Саков</td>\n",
       "      <td>inf</td>\n",
       "    </tr>\n",
       "    <tr>\n",
       "      <th>6822</th>\n",
       "      <td>Большое путешествие</td>\n",
       "      <td>114002419</td>\n",
       "      <td>2019-04-20 12:00:00+00:00</td>\n",
       "      <td>Анимационный</td>\n",
       "      <td>ООО \"ЛИЦЕНЗИОННЫЕ БРЕНДЫ\"</td>\n",
       "      <td>Россия</td>\n",
       "      <td>Н.Лопато, В.Ровенский</td>\n",
       "      <td>ООО \"ЛИЦЕНЗИОННЫЕ БРЕНДЫ\"</td>\n",
       "      <td>«6+» - для детей старше 6 лет</td>\n",
       "      <td>60000000.000</td>\n",
       "      <td>...</td>\n",
       "      <td>0.000</td>\n",
       "      <td>Фонд кино</td>\n",
       "      <td>6.200</td>\n",
       "      <td>мультфильм,комедия,приключения</td>\n",
       "      <td>True</td>\n",
       "      <td>147606826.510</td>\n",
       "      <td>2019</td>\n",
       "      <td>мультфильм</td>\n",
       "      <td>Н.Лопато</td>\n",
       "      <td>inf</td>\n",
       "    </tr>\n",
       "  </tbody>\n",
       "</table>\n",
       "<p>17 rows × 21 columns</p>\n",
       "</div>"
      ],
      "text/plain": [
       "                       title   puNumber           show_start_date  \\\n",
       "2052                     14+  111023614 2014-12-19 12:00:00+00:00   \n",
       "2057               Дуxless 2  111000415 2015-01-26 12:00:00+00:00   \n",
       "2471             Воин (2015)  111017315 2015-09-28 12:00:00+00:00   \n",
       "2531                  Бармен  111009615 2015-05-26 12:00:00+00:00   \n",
       "2614      Савва Сердце воина  114001715 2015-07-21 12:00:00+00:00   \n",
       "2683          Тряпичный союз  111010215 2015-06-08 12:00:00+00:00   \n",
       "2787      Срочно выйду замуж  111017115 2015-09-30 12:00:00+00:00   \n",
       "2873       Помню - не помню!  111004916 2016-03-01 12:00:00+00:00   \n",
       "3046  Любовь с ограничениями  111008216 2016-04-29 12:00:00+00:00   \n",
       "3564       Притяжение (2016)  111018116 2016-12-16 12:00:00+00:00   \n",
       "3674                Чудо-юдо  114001817 2017-06-27 12:00:00+00:00   \n",
       "3738                    Мифы  111004317 2017-06-07 12:00:00+00:00   \n",
       "5672                   Селфи  111012117 2018-02-01 12:00:00+00:00   \n",
       "5805              Два хвоста  114001018 2018-05-31 12:00:00+00:00   \n",
       "6007      Принцесса и дракон  114003018 2018-08-23 12:00:00+00:00   \n",
       "6322                Баба Яга  114006518 2018-11-08 12:00:00+00:00   \n",
       "6822     Большое путешествие  114002419 2019-04-20 12:00:00+00:00   \n",
       "\n",
       "                type                                        film_studio  \\\n",
       "2052  Художественный                         ООО Киностудия  \"Сентябрь\"   \n",
       "2057  Художественный  ООО \"Киностудия \"Слово\", ООО \"Арт Пикчерс Студия\"   \n",
       "2471  Художественный   ООО \"Форпост Продакшн\", ООО \"Арт Пикчерс Студия\"   \n",
       "2531  Художественный          АО \"ВайТ Медиа\", ООО \"Арт Пикчерс Студия\"   \n",
       "2614    Анимационный   ООО \"Глюкоза Продакшн\", ООО \"Арт Пикчерс Студия\"   \n",
       "2683  Художественный                      ООО \"Кинокомпания \"КОКТЕБЕЛЬ\"   \n",
       "2787  Художественный          АО \"ВайТ Медиа\", ООО \"Арт Пикчерс Студия\"   \n",
       "2873  Художественный                                    ООО \"КиноФирма\"   \n",
       "3046  Художественный          АО \"ВайТ Медиа\", ООО \"Арт Пикчерс Студия\"   \n",
       "3564  Художественный      ООО \"Водород 2011\",  ООО \"Арт Пикчерс Студия\"   \n",
       "3674    Анимационный                                    ООО \"КиноФирма\"   \n",
       "3738  Художественный           ООО \"ХАЙПФИЛМ\", ООО \"Арт Пикчерс Студия\"   \n",
       "5672  Художественный  ООО \"Киностудия \"Слово\", ООО \"Арт Пикчерс Студия\"   \n",
       "5805    Анимационный                          ООО \"ЛИЦЕНЗИОННЫЕ БРЕНДЫ\"   \n",
       "6007    Анимационный                          ООО \"ЛИЦЕНЗИОННЫЕ БРЕНДЫ\"   \n",
       "6322    Анимационный                           ООО \"Арт Пикчерс Студия\"   \n",
       "6822    Анимационный                          ООО \"ЛИЦЕНЗИОННЫЕ БРЕНДЫ\"   \n",
       "\n",
       "     production_country                        director  \\\n",
       "2052             Россия                        А.Зайцев   \n",
       "2057             Россия                      Р.Прыгунов   \n",
       "2471             Россия                     А.Андрианов   \n",
       "2531             Россия                    Д.Штурманова   \n",
       "2614             Россия                        М.Фадеев   \n",
       "2683             Россия                     М.Местецкий   \n",
       "2787             Россия                       С Чекалов   \n",
       "2873             Россия                     В.Ровенский   \n",
       "3046             Россия                         Д.Тюрин   \n",
       "3564             Россия                     Ф.Бондарчук   \n",
       "3674             Россия                       А.Лукичев   \n",
       "3738             Россия                    А.Молочников   \n",
       "5672             Россия                      Н.Хомерики   \n",
       "5805             Россия  В.Ровенский, Н.Лопато, В.Азеев   \n",
       "6007             Россия                      М.Нефедова   \n",
       "6322             Россия                         В.Саков   \n",
       "6822             Россия           Н.Лопато, В.Ровенский   \n",
       "\n",
       "                                               producer  \\\n",
       "2052                                О.Гранина, А.Зайцев   \n",
       "2057                 П.Ануров, Ф.Бондарчук, Д.Рудовский   \n",
       "2471                           ООО \"Арт Пикчерс Студия\"   \n",
       "2531                                        Т.Вайнштейн   \n",
       "2614                                         А.Чистяков   \n",
       "2683                              Р.Борисевич, А.Кушаев   \n",
       "2787              Ф.Бондарчук, Т.Вайнштейн, Д.Рудовский   \n",
       "2873                                    ООО \"КиноФирма\"   \n",
       "3046              Ф.Бондарчук, Т.Вайнштейн, Д.Рудовский   \n",
       "3564                           ООО \"Арт Пикчерс Студия\"   \n",
       "3674                                    ООО \"КиноФирма\"   \n",
       "3738  Ф.Бондарчук, Д.Рудовский, И.Стюарт, М.Османн, ...   \n",
       "5672                 П.Ануров, Ф.Бондарчук, Д.Рудовский   \n",
       "5805                          ООО \"ЛИЦЕНЗИОННЫЕ БРЕНДЫ\"   \n",
       "6007                          ООО \"ЛИЦЕНЗИОННЫЕ БРЕНДЫ\"   \n",
       "6322  ООО \"Арт Пикчерс Студия\", ООО \"КРИЭЙТИВ АНИМЭЙ...   \n",
       "6822                          ООО \"ЛИЦЕНЗИОННЫЕ БРЕНДЫ\"   \n",
       "\n",
       "                      age_restriction  refundable_support  ...  budget  \\\n",
       "2052  «16+» - для детей старше 16 лет               0.000  ...   0.000   \n",
       "2057  «16+» - для детей старше 16 лет               0.000  ...   0.000   \n",
       "2471  «12+» - для детей старше 12 лет        10000000.000  ...   0.000   \n",
       "2531  «16+» - для детей старше 16 лет        20000000.000  ...   0.000   \n",
       "2614    «6+» - для детей старше 6 лет        60000000.000  ...   0.000   \n",
       "2683      «18+» - запрещено для детей               0.000  ...   0.000   \n",
       "2787  «16+» - для детей старше 16 лет               0.000  ...   0.000   \n",
       "2873  «12+» - для детей старше 12 лет               0.000  ...   0.000   \n",
       "3046  «16+» - для детей старше 16 лет        19000000.000  ...   0.000   \n",
       "3564  «12+» - для детей старше 12 лет               0.000  ...   0.000   \n",
       "3674    «6+» - для детей старше 6 лет        20000000.000  ...   0.000   \n",
       "3738  «16+» - для детей старше 16 лет        25000000.000  ...   0.000   \n",
       "5672  «16+» - для детей старше 16 лет        20000000.000  ...   0.000   \n",
       "5805    «6+» - для детей старше 6 лет        10000000.000  ...   0.000   \n",
       "6007    «6+» - для детей старше 6 лет        40000000.000  ...   0.000   \n",
       "6322    «6+» - для детей старше 6 лет               0.000  ...   0.000   \n",
       "6822    «6+» - для детей старше 6 лет        60000000.000  ...   0.000   \n",
       "\n",
       "                      financing_source ratings  \\\n",
       "2052  Министерство культуры, Фонд кино   6.600   \n",
       "2057                         Фонд кино   6.600   \n",
       "2471                         Фонд кино   7.800   \n",
       "2531                         Фонд кино   6.200   \n",
       "2614                         Фонд кино   4.600   \n",
       "2683                         Фонд кино   6.300   \n",
       "2787                         Фонд кино   5.100   \n",
       "2873             Министерство культуры   4.300   \n",
       "3046                         Фонд кино   6.300   \n",
       "3564                         Фонд кино   5.600   \n",
       "3674                         Фонд кино   5.200   \n",
       "3738                         Фонд кино   4.800   \n",
       "5672                         Фонд кино   5.800   \n",
       "5805                         Фонд кино   5.000   \n",
       "6007                         Фонд кино   5.200   \n",
       "6322                         Фонд кино     NaN   \n",
       "6822                         Фонд кино   6.200   \n",
       "\n",
       "                              genres puNumber_int     box_office  year  \\\n",
       "2052                       мелодрама         True   10234016.100  2014   \n",
       "2057                           драма         True  446163511.000  2015   \n",
       "2471           боевик,драма,криминал         True  196572438.400  2015   \n",
       "2531                 комедия,фэнтези         True   67418974.800  2015   \n",
       "2614  мультфильм,приключения,фэнтези         True  184487551.400  2015   \n",
       "2683                   комедия,драма         True    1957738.510  2015   \n",
       "2787               комедия,мелодрама         True   72937783.200  2015   \n",
       "2873                         комедия         True   15362931.430  2016   \n",
       "3046               комедия,мелодрама         True   70299052.000  2016   \n",
       "3564                      фантастика         True 1038321489.000  2016   \n",
       "3674     мультфильм,фэнтези,семейный         True   55108014.760  2017   \n",
       "3738                         комедия         True   50451949.000  2017   \n",
       "5672                   триллер,драма         True  225196400.030  2018   \n",
       "5805              мультфильм,детский         True  106514301.030  2018   \n",
       "6007      мультфильм,фэнтези,детский         True   83366328.660  2018   \n",
       "6322                             NaN         True    1334699.400  2018   \n",
       "6822  мультфильм,комедия,приключения         True  147606826.510  2019   \n",
       "\n",
       "      main_genre main_director perc_support  \n",
       "2052   мелодрама      А.Зайцев          inf  \n",
       "2057       драма    Р.Прыгунов          inf  \n",
       "2471      боевик   А.Андрианов          inf  \n",
       "2531     комедия  Д.Штурманова          inf  \n",
       "2614  мультфильм      М.Фадеев          inf  \n",
       "2683     комедия   М.Местецкий          inf  \n",
       "2787     комедия     С Чекалов          inf  \n",
       "2873     комедия   В.Ровенский          inf  \n",
       "3046     комедия       Д.Тюрин          inf  \n",
       "3564  фантастика   Ф.Бондарчук          inf  \n",
       "3674  мультфильм     А.Лукичев          inf  \n",
       "3738     комедия  А.Молочников          inf  \n",
       "5672     триллер    Н.Хомерики          inf  \n",
       "5805  мультфильм   В.Ровенский          inf  \n",
       "6007  мультфильм    М.Нефедова          inf  \n",
       "6322         NaN       В.Саков          inf  \n",
       "6822  мультфильм      Н.Лопато          inf  \n",
       "\n",
       "[17 rows x 21 columns]"
      ]
     },
     "execution_count": 60,
     "metadata": {},
     "output_type": "execute_result"
    }
   ],
   "source": [
    "data_supported.query('budget == 0')"
   ]
  },
  {
   "cell_type": "markdown",
   "metadata": {},
   "source": [
    "Эти фильмы в некоторых случаях имеют данные об объемах гос.поддержки, но бюджет при этом был, скорее всего, не заполнен. Удалим строки с нулевым бюджетом:"
   ]
  },
  {
   "cell_type": "code",
   "execution_count": 61,
   "metadata": {},
   "outputs": [
    {
     "data": {
      "text/plain": [
       "count   315.000\n",
       "mean     51.739\n",
       "std      17.004\n",
       "min       4.404\n",
       "25%      37.346\n",
       "50%      59.226\n",
       "75%      65.693\n",
       "max      78.475\n",
       "Name: perc_support, dtype: float64"
      ]
     },
     "execution_count": 61,
     "metadata": {},
     "output_type": "execute_result"
    }
   ],
   "source": [
    "data_supported = data_supported.drop(data_supported[data_supported.budget == 0].index)\n",
    "data_supported['perc_support'].describe()"
   ]
  },
  {
   "cell_type": "markdown",
   "metadata": {},
   "source": [
    "По полученным данным видно, что средний объем гос. поддержки для фильмов - около **52%** от всего бюджета. Максимальный обьем поддержки - **78%**, минимальный - **4%**."
   ]
  },
  {
   "cell_type": "markdown",
   "metadata": {},
   "source": [
    "Рассмотрим, окупаются ли фильмы с гос. поддержкой. Для начала добавим столбец с общей суммой поддержки:"
   ]
  },
  {
   "cell_type": "code",
   "execution_count": 62,
   "metadata": {},
   "outputs": [],
   "source": [
    "data_supported['total_support'] = data_supported['refundable_support'] + data_supported['nonrefundable_support']"
   ]
  },
  {
   "cell_type": "markdown",
   "metadata": {},
   "source": [
    "Затем рассмотрим с помощью сводной таблицы сумму сборов и сумму бюджетов за каждый год:"
   ]
  },
  {
   "cell_type": "code",
   "execution_count": 63,
   "metadata": {},
   "outputs": [
    {
     "data": {
      "text/html": [
       "<div>\n",
       "<style scoped>\n",
       "    .dataframe tbody tr th:only-of-type {\n",
       "        vertical-align: middle;\n",
       "    }\n",
       "\n",
       "    .dataframe tbody tr th {\n",
       "        vertical-align: top;\n",
       "    }\n",
       "\n",
       "    .dataframe thead th {\n",
       "        text-align: right;\n",
       "    }\n",
       "</style>\n",
       "<table border=\"1\" class=\"dataframe\">\n",
       "  <thead>\n",
       "    <tr style=\"text-align: right;\">\n",
       "      <th></th>\n",
       "      <th>box_office</th>\n",
       "      <th>budget</th>\n",
       "      <th>total_support</th>\n",
       "    </tr>\n",
       "    <tr>\n",
       "      <th>year</th>\n",
       "      <th></th>\n",
       "      <th></th>\n",
       "      <th></th>\n",
       "    </tr>\n",
       "  </thead>\n",
       "  <tbody>\n",
       "    <tr>\n",
       "      <th>2013</th>\n",
       "      <td>20322385.100</td>\n",
       "      <td>255435390.000</td>\n",
       "      <td>134347945.000</td>\n",
       "    </tr>\n",
       "    <tr>\n",
       "      <th>2014</th>\n",
       "      <td>1007188150.500</td>\n",
       "      <td>1279484783.000</td>\n",
       "      <td>549002299.000</td>\n",
       "    </tr>\n",
       "    <tr>\n",
       "      <th>2015</th>\n",
       "      <td>4815747420.830</td>\n",
       "      <td>7309669207.000</td>\n",
       "      <td>3227241459.000</td>\n",
       "    </tr>\n",
       "    <tr>\n",
       "      <th>2016</th>\n",
       "      <td>4957724366.670</td>\n",
       "      <td>7228942748.000</td>\n",
       "      <td>3977155482.000</td>\n",
       "    </tr>\n",
       "    <tr>\n",
       "      <th>2017</th>\n",
       "      <td>10759515337.200</td>\n",
       "      <td>6972172568.000</td>\n",
       "      <td>3098971662.000</td>\n",
       "    </tr>\n",
       "    <tr>\n",
       "      <th>2018</th>\n",
       "      <td>9517657281.130</td>\n",
       "      <td>6651694634.000</td>\n",
       "      <td>3098000000.000</td>\n",
       "    </tr>\n",
       "    <tr>\n",
       "      <th>2019</th>\n",
       "      <td>8262020628.120</td>\n",
       "      <td>12542866609.000</td>\n",
       "      <td>4724000000.000</td>\n",
       "    </tr>\n",
       "  </tbody>\n",
       "</table>\n",
       "</div>"
      ],
      "text/plain": [
       "          box_office          budget  total_support\n",
       "year                                               \n",
       "2013    20322385.100   255435390.000  134347945.000\n",
       "2014  1007188150.500  1279484783.000  549002299.000\n",
       "2015  4815747420.830  7309669207.000 3227241459.000\n",
       "2016  4957724366.670  7228942748.000 3977155482.000\n",
       "2017 10759515337.200  6972172568.000 3098971662.000\n",
       "2018  9517657281.130  6651694634.000 3098000000.000\n",
       "2019  8262020628.120 12542866609.000 4724000000.000"
      ]
     },
     "execution_count": 63,
     "metadata": {},
     "output_type": "execute_result"
    }
   ],
   "source": [
    "df_1 = data_supported[['total_support', 'box_office', 'year', 'budget']]\n",
    "pd.pivot_table(df_1, index=['year'], aggfunc='sum')"
   ]
  },
  {
   "cell_type": "markdown",
   "metadata": {},
   "source": [
    "Отчетливо видно, что фильмы с гос. поддержкой в общем не окупались ни в один год с 2013 по 2019. Взглянем на средний рейтинг этих фильмов:"
   ]
  },
  {
   "cell_type": "code",
   "execution_count": 64,
   "metadata": {},
   "outputs": [
    {
     "data": {
      "text/html": [
       "<div>\n",
       "<style scoped>\n",
       "    .dataframe tbody tr th:only-of-type {\n",
       "        vertical-align: middle;\n",
       "    }\n",
       "\n",
       "    .dataframe tbody tr th {\n",
       "        vertical-align: top;\n",
       "    }\n",
       "\n",
       "    .dataframe thead th {\n",
       "        text-align: right;\n",
       "    }\n",
       "</style>\n",
       "<table border=\"1\" class=\"dataframe\">\n",
       "  <thead>\n",
       "    <tr style=\"text-align: right;\">\n",
       "      <th></th>\n",
       "      <th>ratings</th>\n",
       "    </tr>\n",
       "    <tr>\n",
       "      <th>year</th>\n",
       "      <th></th>\n",
       "    </tr>\n",
       "  </thead>\n",
       "  <tbody>\n",
       "    <tr>\n",
       "      <th>2013</th>\n",
       "      <td>6.700</td>\n",
       "    </tr>\n",
       "    <tr>\n",
       "      <th>2014</th>\n",
       "      <td>5.964</td>\n",
       "    </tr>\n",
       "    <tr>\n",
       "      <th>2015</th>\n",
       "      <td>6.143</td>\n",
       "    </tr>\n",
       "    <tr>\n",
       "      <th>2016</th>\n",
       "      <td>5.693</td>\n",
       "    </tr>\n",
       "    <tr>\n",
       "      <th>2017</th>\n",
       "      <td>6.054</td>\n",
       "    </tr>\n",
       "    <tr>\n",
       "      <th>2018</th>\n",
       "      <td>6.042</td>\n",
       "    </tr>\n",
       "    <tr>\n",
       "      <th>2019</th>\n",
       "      <td>6.176</td>\n",
       "    </tr>\n",
       "  </tbody>\n",
       "</table>\n",
       "</div>"
      ],
      "text/plain": [
       "      ratings\n",
       "year         \n",
       "2013    6.700\n",
       "2014    5.964\n",
       "2015    6.143\n",
       "2016    5.693\n",
       "2017    6.054\n",
       "2018    6.042\n",
       "2019    6.176"
      ]
     },
     "execution_count": 64,
     "metadata": {},
     "output_type": "execute_result"
    }
   ],
   "source": [
    "df_2 = data_supported[['year', 'ratings']]\n",
    "pd.pivot_table(df_2, index=['year'])"
   ]
  },
  {
   "cell_type": "markdown",
   "metadata": {},
   "source": [
    "В среднем, рейтинги фильмов с гос. поддержкой не превышают 6.7. Самые высокие рейтинги были у фильмов в 2013 году, самые низкие - в 2016."
   ]
  },
  {
   "cell_type": "markdown",
   "metadata": {
    "id": "V2gYwMcPgFyd"
   },
   "source": [
    "### Шаг 5. Напишите общий вывод"
   ]
  },
  {
   "cell_type": "markdown",
   "metadata": {
    "id": "AYRg3dzXgFye"
   },
   "source": [
    "В ходе проекта выявлено, что в российском прокате с 2015 по 2019 год больше всего зрителей, а, следовательно, денег, собрали картины с возрастным ограничением **6+** и **12+**. Фильмы с таким ограничением наиболее популярны у зрителей.\n",
    "\n",
    "Большинство фильмов в российском прокате имели достаточный объем государственной поддержки, в среднем **52%** от общего бюджета картины. \n",
    "\n",
    "Также замечено, что ни в один год с 2013 по 2019 общий объем сборов не превысил объем денег, потраченных на производство фильма. К тому же, средний рейтинг фильмов с государственной поддержкой не превышал **6.7**, а по большей части находился около 6.0. Это неплохие результаты, но не отличные. Они означают, что российские фильмы не часто высоко оценивают, и этот результат с годами не изменился."
   ]
  }
 ],
 "metadata": {
  "ExecuteTimeLog": [
   {
    "duration": 537,
    "start_time": "2021-07-07T10:12:08.634Z"
   },
   {
    "duration": 206,
    "start_time": "2021-07-07T10:12:30.191Z"
   },
   {
    "duration": 227,
    "start_time": "2021-07-07T10:12:33.078Z"
   },
   {
    "duration": 153,
    "start_time": "2021-07-07T10:13:42.146Z"
   },
   {
    "duration": 233,
    "start_time": "2021-07-07T10:30:09.252Z"
   },
   {
    "duration": 19,
    "start_time": "2021-07-07T10:30:15.577Z"
   },
   {
    "duration": 18,
    "start_time": "2021-07-07T10:30:57.348Z"
   },
   {
    "duration": 19,
    "start_time": "2021-07-07T10:31:17.452Z"
   },
   {
    "duration": 21,
    "start_time": "2021-07-07T10:31:32.227Z"
   },
   {
    "duration": 27,
    "start_time": "2021-07-07T10:32:06.588Z"
   },
   {
    "duration": 23,
    "start_time": "2021-07-07T10:32:43.645Z"
   },
   {
    "duration": 24,
    "start_time": "2021-07-07T10:33:06.948Z"
   },
   {
    "duration": 7,
    "start_time": "2021-07-07T10:33:28.558Z"
   },
   {
    "duration": 23,
    "start_time": "2021-07-07T10:33:43.761Z"
   },
   {
    "duration": 28,
    "start_time": "2021-07-07T10:34:13.466Z"
   },
   {
    "duration": 23,
    "start_time": "2021-07-07T10:35:56.187Z"
   },
   {
    "duration": 6,
    "start_time": "2021-07-07T10:36:48.182Z"
   },
   {
    "duration": 14,
    "start_time": "2021-07-07T10:37:49.641Z"
   },
   {
    "duration": 6,
    "start_time": "2021-07-07T10:38:06.694Z"
   },
   {
    "duration": 6,
    "start_time": "2021-07-07T10:38:13.493Z"
   },
   {
    "duration": 19,
    "start_time": "2021-07-07T10:38:44.056Z"
   },
   {
    "duration": 186,
    "start_time": "2021-07-07T10:48:35.618Z"
   },
   {
    "duration": 24,
    "start_time": "2021-07-07T10:48:51.498Z"
   },
   {
    "duration": 20,
    "start_time": "2021-07-07T10:48:59.415Z"
   },
   {
    "duration": 20,
    "start_time": "2021-07-07T10:53:02.195Z"
   },
   {
    "duration": 188,
    "start_time": "2021-07-07T10:54:40.486Z"
   },
   {
    "duration": 115,
    "start_time": "2021-07-07T10:54:52.552Z"
   },
   {
    "duration": 214,
    "start_time": "2021-07-07T10:54:56.354Z"
   },
   {
    "duration": 47,
    "start_time": "2021-07-07T10:54:58.282Z"
   },
   {
    "duration": 217,
    "start_time": "2021-07-07T10:59:16.075Z"
   },
   {
    "duration": 51,
    "start_time": "2021-07-07T10:59:16.243Z"
   },
   {
    "duration": 578,
    "start_time": "2021-07-07T10:59:18.774Z"
   },
   {
    "duration": 161,
    "start_time": "2021-07-07T10:59:21.238Z"
   },
   {
    "duration": 59,
    "start_time": "2021-07-07T10:59:21.453Z"
   },
   {
    "duration": 3,
    "start_time": "2021-07-07T11:02:10.786Z"
   },
   {
    "duration": 13,
    "start_time": "2021-07-07T11:07:07.722Z"
   },
   {
    "duration": 26,
    "start_time": "2021-07-07T11:07:17.958Z"
   },
   {
    "duration": 22,
    "start_time": "2021-07-07T11:08:17.939Z"
   },
   {
    "duration": 212,
    "start_time": "2021-07-07T11:08:19.665Z"
   },
   {
    "duration": 21,
    "start_time": "2021-07-07T11:08:29.945Z"
   },
   {
    "duration": 31,
    "start_time": "2021-07-07T11:08:38.899Z"
   },
   {
    "duration": 23,
    "start_time": "2021-07-07T11:08:54.527Z"
   },
   {
    "duration": 8,
    "start_time": "2021-07-07T11:18:55.974Z"
   },
   {
    "duration": 7,
    "start_time": "2021-07-07T11:19:03.639Z"
   },
   {
    "duration": 7,
    "start_time": "2021-07-07T11:19:06.444Z"
   },
   {
    "duration": 578,
    "start_time": "2021-07-07T12:09:59.576Z"
   },
   {
    "duration": 195,
    "start_time": "2021-07-07T12:10:00.156Z"
   },
   {
    "duration": 115,
    "start_time": "2021-07-07T12:10:00.353Z"
   },
   {
    "duration": 3,
    "start_time": "2021-07-07T12:10:00.470Z"
   },
   {
    "duration": 32,
    "start_time": "2021-07-07T12:10:00.474Z"
   },
   {
    "duration": 23,
    "start_time": "2021-07-07T12:10:00.508Z"
   },
   {
    "duration": 19,
    "start_time": "2021-07-07T12:10:00.533Z"
   },
   {
    "duration": 44,
    "start_time": "2021-07-07T12:10:00.553Z"
   },
   {
    "duration": 7,
    "start_time": "2021-07-07T12:10:00.600Z"
   },
   {
    "duration": 7,
    "start_time": "2021-07-07T12:19:45.761Z"
   },
   {
    "duration": 21,
    "start_time": "2021-07-07T12:21:35.482Z"
   },
   {
    "duration": 21,
    "start_time": "2021-07-07T12:29:23.569Z"
   },
   {
    "duration": 525,
    "start_time": "2021-07-07T12:29:44.542Z"
   },
   {
    "duration": 214,
    "start_time": "2021-07-07T12:29:45.069Z"
   },
   {
    "duration": 92,
    "start_time": "2021-07-07T12:29:45.285Z"
   },
   {
    "duration": 3,
    "start_time": "2021-07-07T12:29:45.379Z"
   },
   {
    "duration": 28,
    "start_time": "2021-07-07T12:29:45.384Z"
   },
   {
    "duration": 23,
    "start_time": "2021-07-07T12:29:45.413Z"
   },
   {
    "duration": 21,
    "start_time": "2021-07-07T12:29:45.437Z"
   },
   {
    "duration": 41,
    "start_time": "2021-07-07T12:29:45.460Z"
   },
   {
    "duration": 7,
    "start_time": "2021-07-07T12:29:45.502Z"
   },
   {
    "duration": 20,
    "start_time": "2021-07-07T12:29:45.511Z"
   },
   {
    "duration": 12,
    "start_time": "2021-07-07T12:34:02.800Z"
   },
   {
    "duration": 7,
    "start_time": "2021-07-07T12:35:10.479Z"
   },
   {
    "duration": 8,
    "start_time": "2021-07-07T12:35:22.440Z"
   },
   {
    "duration": 6,
    "start_time": "2021-07-07T12:35:35.649Z"
   },
   {
    "duration": 6,
    "start_time": "2021-07-07T12:35:43.107Z"
   },
   {
    "duration": 22,
    "start_time": "2021-07-07T12:38:03.029Z"
   },
   {
    "duration": 10,
    "start_time": "2021-07-07T12:38:06.592Z"
   },
   {
    "duration": 563,
    "start_time": "2021-07-07T12:38:46.493Z"
   },
   {
    "duration": 265,
    "start_time": "2021-07-07T12:38:47.058Z"
   },
   {
    "duration": 94,
    "start_time": "2021-07-07T12:38:47.325Z"
   },
   {
    "duration": 3,
    "start_time": "2021-07-07T12:38:47.422Z"
   },
   {
    "duration": 30,
    "start_time": "2021-07-07T12:38:47.427Z"
   },
   {
    "duration": 16,
    "start_time": "2021-07-07T12:38:53.305Z"
   },
   {
    "duration": 10,
    "start_time": "2021-07-07T12:38:53.499Z"
   },
   {
    "duration": 8,
    "start_time": "2021-07-07T12:39:48.161Z"
   },
   {
    "duration": 27,
    "start_time": "2021-07-07T12:41:17.629Z"
   },
   {
    "duration": 17,
    "start_time": "2021-07-07T12:41:17.867Z"
   },
   {
    "duration": 21,
    "start_time": "2021-07-07T12:41:19.310Z"
   },
   {
    "duration": 7,
    "start_time": "2021-07-07T12:41:19.544Z"
   },
   {
    "duration": 20,
    "start_time": "2021-07-07T12:41:20.504Z"
   },
   {
    "duration": 554,
    "start_time": "2021-07-07T12:56:23.696Z"
   },
   {
    "duration": 200,
    "start_time": "2021-07-07T12:56:25.234Z"
   },
   {
    "duration": 119,
    "start_time": "2021-07-07T12:56:25.480Z"
   },
   {
    "duration": 4,
    "start_time": "2021-07-07T12:56:25.762Z"
   },
   {
    "duration": 26,
    "start_time": "2021-07-07T12:56:27.172Z"
   },
   {
    "duration": 12,
    "start_time": "2021-07-07T12:56:29.051Z"
   },
   {
    "duration": 10,
    "start_time": "2021-07-07T12:56:29.291Z"
   },
   {
    "duration": 8,
    "start_time": "2021-07-07T12:56:29.623Z"
   },
   {
    "duration": 28,
    "start_time": "2021-07-07T12:56:32.137Z"
   },
   {
    "duration": 19,
    "start_time": "2021-07-07T12:56:39.785Z"
   },
   {
    "duration": 20,
    "start_time": "2021-07-07T12:56:44.297Z"
   },
   {
    "duration": 7,
    "start_time": "2021-07-07T12:56:45.392Z"
   },
   {
    "duration": 23,
    "start_time": "2021-07-07T12:56:46.615Z"
   },
   {
    "duration": 4,
    "start_time": "2021-07-07T12:57:06.625Z"
   },
   {
    "duration": 32,
    "start_time": "2021-07-07T12:57:36.690Z"
   },
   {
    "duration": 18,
    "start_time": "2021-07-07T12:58:00.149Z"
   },
   {
    "duration": 15,
    "start_time": "2021-07-07T12:59:16.793Z"
   },
   {
    "duration": 7,
    "start_time": "2021-07-07T13:19:22.624Z"
   },
   {
    "duration": 6,
    "start_time": "2021-07-07T14:17:33.527Z"
   },
   {
    "duration": 9,
    "start_time": "2021-07-07T14:17:48.409Z"
   },
   {
    "duration": 8,
    "start_time": "2021-07-07T14:20:13.060Z"
   },
   {
    "duration": 8,
    "start_time": "2021-07-07T14:20:37.957Z"
   },
   {
    "duration": 8,
    "start_time": "2021-07-07T14:20:47.470Z"
   },
   {
    "duration": 9,
    "start_time": "2021-07-07T14:20:54.503Z"
   },
   {
    "duration": 10,
    "start_time": "2021-07-07T14:28:57.763Z"
   },
   {
    "duration": 3,
    "start_time": "2021-07-07T14:30:23.377Z"
   },
   {
    "duration": 3,
    "start_time": "2021-07-07T14:30:36.489Z"
   },
   {
    "duration": 103,
    "start_time": "2021-07-07T14:30:52.351Z"
   },
   {
    "duration": 8,
    "start_time": "2021-07-07T14:30:54.763Z"
   },
   {
    "duration": 8,
    "start_time": "2021-07-07T14:31:29.301Z"
   },
   {
    "duration": 13,
    "start_time": "2021-07-07T14:31:44.516Z"
   },
   {
    "duration": 7,
    "start_time": "2021-07-07T14:33:10.972Z"
   },
   {
    "duration": 11,
    "start_time": "2021-07-07T14:33:27.780Z"
   },
   {
    "duration": 8,
    "start_time": "2021-07-07T14:34:44.588Z"
   },
   {
    "duration": 57,
    "start_time": "2021-07-07T14:35:59.042Z"
   },
   {
    "duration": 3,
    "start_time": "2021-07-07T14:36:28.168Z"
   },
   {
    "duration": 5,
    "start_time": "2021-07-07T14:36:46.254Z"
   },
   {
    "duration": 4,
    "start_time": "2021-07-07T14:36:52.714Z"
   },
   {
    "duration": 3,
    "start_time": "2021-07-07T14:36:56.612Z"
   },
   {
    "duration": 4,
    "start_time": "2021-07-07T14:36:57.049Z"
   },
   {
    "duration": 3,
    "start_time": "2021-07-07T14:39:21.214Z"
   },
   {
    "duration": 7,
    "start_time": "2021-07-07T14:39:52.406Z"
   },
   {
    "duration": 11,
    "start_time": "2021-07-07T14:39:58.576Z"
   },
   {
    "duration": 9,
    "start_time": "2021-07-07T14:40:26.301Z"
   },
   {
    "duration": 10,
    "start_time": "2021-07-07T14:40:31.704Z"
   },
   {
    "duration": 11,
    "start_time": "2021-07-07T14:40:36.249Z"
   },
   {
    "duration": 10,
    "start_time": "2021-07-07T14:40:39.783Z"
   },
   {
    "duration": 9,
    "start_time": "2021-07-07T14:40:48.558Z"
   },
   {
    "duration": 10,
    "start_time": "2021-07-07T14:40:57.143Z"
   },
   {
    "duration": 9,
    "start_time": "2021-07-07T14:41:06.074Z"
   },
   {
    "duration": 4324,
    "start_time": "2021-07-07T14:41:22.004Z"
   },
   {
    "duration": 11,
    "start_time": "2021-07-07T14:41:33.392Z"
   },
   {
    "duration": 9,
    "start_time": "2021-07-07T14:41:39.288Z"
   },
   {
    "duration": 569,
    "start_time": "2021-07-07T14:42:14.387Z"
   },
   {
    "duration": 197,
    "start_time": "2021-07-07T14:42:14.959Z"
   },
   {
    "duration": 84,
    "start_time": "2021-07-07T14:42:16.052Z"
   },
   {
    "duration": 4,
    "start_time": "2021-07-07T14:42:16.900Z"
   },
   {
    "duration": 27,
    "start_time": "2021-07-07T14:42:19.898Z"
   },
   {
    "duration": 12,
    "start_time": "2021-07-07T14:42:21.577Z"
   },
   {
    "duration": 9,
    "start_time": "2021-07-07T14:42:21.813Z"
   },
   {
    "duration": 9,
    "start_time": "2021-07-07T14:42:22.569Z"
   },
   {
    "duration": 29,
    "start_time": "2021-07-07T14:42:25.837Z"
   },
   {
    "duration": 20,
    "start_time": "2021-07-07T14:42:27.003Z"
   },
   {
    "duration": 21,
    "start_time": "2021-07-07T14:42:28.767Z"
   },
   {
    "duration": 7,
    "start_time": "2021-07-07T14:42:29.838Z"
   },
   {
    "duration": 4,
    "start_time": "2021-07-07T14:43:25.493Z"
   },
   {
    "duration": 7,
    "start_time": "2021-07-07T14:43:26.573Z"
   },
   {
    "duration": 10,
    "start_time": "2021-07-07T14:43:31.639Z"
   },
   {
    "duration": 9,
    "start_time": "2021-07-07T14:43:32.046Z"
   },
   {
    "duration": 10,
    "start_time": "2021-07-07T14:43:33.301Z"
   },
   {
    "duration": 12,
    "start_time": "2021-07-07T14:43:33.658Z"
   },
   {
    "duration": 8,
    "start_time": "2021-07-07T14:43:34.552Z"
   },
   {
    "duration": 9,
    "start_time": "2021-07-07T14:43:35.058Z"
   },
   {
    "duration": 12,
    "start_time": "2021-07-07T14:43:35.914Z"
   },
   {
    "duration": 17,
    "start_time": "2021-07-07T14:45:34.368Z"
   },
   {
    "duration": 512,
    "start_time": "2021-07-07T14:51:58.236Z"
   },
   {
    "duration": 223,
    "start_time": "2021-07-07T14:51:58.750Z"
   },
   {
    "duration": 93,
    "start_time": "2021-07-07T14:51:58.977Z"
   },
   {
    "duration": 4,
    "start_time": "2021-07-07T14:51:59.071Z"
   },
   {
    "duration": 37,
    "start_time": "2021-07-07T14:51:59.077Z"
   },
   {
    "duration": 18,
    "start_time": "2021-07-07T14:51:59.116Z"
   },
   {
    "duration": 10,
    "start_time": "2021-07-07T14:51:59.137Z"
   },
   {
    "duration": 8,
    "start_time": "2021-07-07T14:51:59.149Z"
   },
   {
    "duration": 54,
    "start_time": "2021-07-07T14:51:59.158Z"
   },
   {
    "duration": 18,
    "start_time": "2021-07-07T14:51:59.213Z"
   },
   {
    "duration": 22,
    "start_time": "2021-07-07T14:51:59.232Z"
   },
   {
    "duration": 36,
    "start_time": "2021-07-07T14:51:59.255Z"
   },
   {
    "duration": 7,
    "start_time": "2021-07-07T14:51:59.293Z"
   },
   {
    "duration": 10,
    "start_time": "2021-07-07T14:51:59.302Z"
   },
   {
    "duration": 9,
    "start_time": "2021-07-07T14:51:59.313Z"
   },
   {
    "duration": 11,
    "start_time": "2021-07-07T14:51:59.324Z"
   },
   {
    "duration": 8,
    "start_time": "2021-07-07T14:51:59.337Z"
   },
   {
    "duration": 46,
    "start_time": "2021-07-07T14:51:59.347Z"
   },
   {
    "duration": 22,
    "start_time": "2021-07-07T14:51:59.395Z"
   },
   {
    "duration": 24,
    "start_time": "2021-07-07T14:57:32.911Z"
   },
   {
    "duration": 7,
    "start_time": "2021-07-07T14:58:22.070Z"
   },
   {
    "duration": 4,
    "start_time": "2021-07-07T14:59:11.239Z"
   },
   {
    "duration": 25,
    "start_time": "2021-07-07T15:07:22.208Z"
   },
   {
    "duration": 16,
    "start_time": "2021-07-07T15:08:25.560Z"
   },
   {
    "duration": 15,
    "start_time": "2021-07-07T15:08:40.647Z"
   },
   {
    "duration": 14,
    "start_time": "2021-07-07T15:08:46.669Z"
   },
   {
    "duration": 533,
    "start_time": "2021-07-07T15:18:07.440Z"
   },
   {
    "duration": 173,
    "start_time": "2021-07-07T15:18:07.974Z"
   },
   {
    "duration": 84,
    "start_time": "2021-07-07T15:18:08.149Z"
   },
   {
    "duration": 3,
    "start_time": "2021-07-07T15:18:08.235Z"
   },
   {
    "duration": 30,
    "start_time": "2021-07-07T15:18:08.240Z"
   },
   {
    "duration": 22,
    "start_time": "2021-07-07T15:18:08.272Z"
   },
   {
    "duration": 11,
    "start_time": "2021-07-07T15:18:08.295Z"
   },
   {
    "duration": 11,
    "start_time": "2021-07-07T15:18:08.309Z"
   },
   {
    "duration": 40,
    "start_time": "2021-07-07T15:18:08.322Z"
   },
   {
    "duration": 42,
    "start_time": "2021-07-07T15:18:08.364Z"
   },
   {
    "duration": 22,
    "start_time": "2021-07-07T15:18:08.408Z"
   },
   {
    "duration": 5,
    "start_time": "2021-07-07T15:18:08.432Z"
   },
   {
    "duration": 13,
    "start_time": "2021-07-07T15:18:08.439Z"
   },
   {
    "duration": 9,
    "start_time": "2021-07-07T15:18:08.454Z"
   },
   {
    "duration": 32,
    "start_time": "2021-07-07T15:18:08.465Z"
   },
   {
    "duration": 10,
    "start_time": "2021-07-07T15:18:08.501Z"
   },
   {
    "duration": 7,
    "start_time": "2021-07-07T15:18:08.513Z"
   },
   {
    "duration": 11,
    "start_time": "2021-07-07T15:18:08.521Z"
   },
   {
    "duration": 17,
    "start_time": "2021-07-07T15:18:08.534Z"
   },
   {
    "duration": 44,
    "start_time": "2021-07-07T15:18:08.553Z"
   },
   {
    "duration": 22,
    "start_time": "2021-07-07T15:18:08.599Z"
   },
   {
    "duration": 61,
    "start_time": "2021-07-07T15:18:08.622Z"
   },
   {
    "duration": 7,
    "start_time": "2021-07-07T15:18:39.457Z"
   },
   {
    "duration": 5,
    "start_time": "2021-07-07T16:05:17.020Z"
   },
   {
    "duration": 5,
    "start_time": "2021-07-07T16:51:28.794Z"
   },
   {
    "duration": 546,
    "start_time": "2021-07-07T16:52:26.306Z"
   },
   {
    "duration": 203,
    "start_time": "2021-07-07T16:52:27.523Z"
   },
   {
    "duration": 85,
    "start_time": "2021-07-07T16:52:27.736Z"
   },
   {
    "duration": 4,
    "start_time": "2021-07-07T16:52:27.899Z"
   },
   {
    "duration": 25,
    "start_time": "2021-07-07T16:52:28.674Z"
   },
   {
    "duration": 8,
    "start_time": "2021-07-07T16:52:32.956Z"
   },
   {
    "duration": 18,
    "start_time": "2021-07-07T16:52:35.616Z"
   },
   {
    "duration": 6,
    "start_time": "2021-07-07T16:52:36.913Z"
   },
   {
    "duration": 11,
    "start_time": "2021-07-07T16:52:40.258Z"
   },
   {
    "duration": 10,
    "start_time": "2021-07-07T16:52:46.251Z"
   },
   {
    "duration": 8,
    "start_time": "2021-07-07T16:52:47.182Z"
   },
   {
    "duration": 27,
    "start_time": "2021-07-07T16:53:20.391Z"
   },
   {
    "duration": 20,
    "start_time": "2021-07-07T16:53:22.022Z"
   },
   {
    "duration": 23,
    "start_time": "2021-07-07T16:53:23.690Z"
   },
   {
    "duration": 8,
    "start_time": "2021-07-07T16:53:24.261Z"
   },
   {
    "duration": 4,
    "start_time": "2021-07-07T16:53:38.733Z"
   },
   {
    "duration": 7,
    "start_time": "2021-07-07T16:53:40.445Z"
   },
   {
    "duration": 11,
    "start_time": "2021-07-07T16:53:41.348Z"
   },
   {
    "duration": 13,
    "start_time": "2021-07-07T16:53:45.250Z"
   },
   {
    "duration": 12,
    "start_time": "2021-07-07T16:53:45.467Z"
   },
   {
    "duration": 4,
    "start_time": "2021-07-07T16:55:32.704Z"
   },
   {
    "duration": 12,
    "start_time": "2021-07-07T16:55:49.012Z"
   },
   {
    "duration": 18,
    "start_time": "2021-07-07T16:55:49.547Z"
   },
   {
    "duration": 611,
    "start_time": "2021-07-07T16:58:35.156Z"
   },
   {
    "duration": 200,
    "start_time": "2021-07-07T16:58:35.770Z"
   },
   {
    "duration": 86,
    "start_time": "2021-07-07T16:58:35.972Z"
   },
   {
    "duration": 3,
    "start_time": "2021-07-07T16:58:36.060Z"
   },
   {
    "duration": 27,
    "start_time": "2021-07-07T16:58:36.065Z"
   },
   {
    "duration": 8,
    "start_time": "2021-07-07T16:58:36.094Z"
   },
   {
    "duration": 17,
    "start_time": "2021-07-07T16:58:36.103Z"
   },
   {
    "duration": 5,
    "start_time": "2021-07-07T16:58:36.123Z"
   },
   {
    "duration": 11,
    "start_time": "2021-07-07T16:58:36.130Z"
   },
   {
    "duration": 7,
    "start_time": "2021-07-07T16:58:36.143Z"
   },
   {
    "duration": 37,
    "start_time": "2021-07-07T16:58:36.152Z"
   },
   {
    "duration": 27,
    "start_time": "2021-07-07T16:58:36.191Z"
   },
   {
    "duration": 19,
    "start_time": "2021-07-07T16:58:36.219Z"
   },
   {
    "duration": 49,
    "start_time": "2021-07-07T16:58:36.240Z"
   },
   {
    "duration": 6,
    "start_time": "2021-07-07T16:58:36.291Z"
   },
   {
    "duration": 3,
    "start_time": "2021-07-07T16:58:36.299Z"
   },
   {
    "duration": 13,
    "start_time": "2021-07-07T16:58:36.304Z"
   },
   {
    "duration": 10,
    "start_time": "2021-07-07T16:58:36.319Z"
   },
   {
    "duration": 10,
    "start_time": "2021-07-07T16:58:36.331Z"
   },
   {
    "duration": 44,
    "start_time": "2021-07-07T16:58:36.343Z"
   },
   {
    "duration": 4,
    "start_time": "2021-07-07T16:58:36.388Z"
   },
   {
    "duration": 13,
    "start_time": "2021-07-07T16:58:36.394Z"
   },
   {
    "duration": 16,
    "start_time": "2021-07-07T16:58:36.410Z"
   },
   {
    "duration": 8,
    "start_time": "2021-07-07T17:02:31.629Z"
   },
   {
    "duration": 8,
    "start_time": "2021-07-07T17:02:34.308Z"
   },
   {
    "duration": 6,
    "start_time": "2021-07-07T17:05:13.483Z"
   },
   {
    "duration": 17,
    "start_time": "2021-07-07T17:05:20.606Z"
   },
   {
    "duration": 7,
    "start_time": "2021-07-07T17:05:34.638Z"
   },
   {
    "duration": 3,
    "start_time": "2021-07-07T17:06:31.883Z"
   },
   {
    "duration": 570,
    "start_time": "2021-07-07T17:06:37.165Z"
   },
   {
    "duration": 174,
    "start_time": "2021-07-07T17:06:37.737Z"
   },
   {
    "duration": 47,
    "start_time": "2021-07-07T17:06:37.913Z"
   },
   {
    "duration": 3,
    "start_time": "2021-07-07T17:06:37.962Z"
   },
   {
    "duration": 27,
    "start_time": "2021-07-07T17:06:37.967Z"
   },
   {
    "duration": 7,
    "start_time": "2021-07-07T17:06:37.996Z"
   },
   {
    "duration": 16,
    "start_time": "2021-07-07T17:06:38.005Z"
   },
   {
    "duration": 6,
    "start_time": "2021-07-07T17:06:38.024Z"
   },
   {
    "duration": 12,
    "start_time": "2021-07-07T17:06:38.031Z"
   },
   {
    "duration": 41,
    "start_time": "2021-07-07T17:06:38.045Z"
   },
   {
    "duration": 8,
    "start_time": "2021-07-07T17:06:38.088Z"
   },
   {
    "duration": 26,
    "start_time": "2021-07-07T17:06:38.098Z"
   },
   {
    "duration": 17,
    "start_time": "2021-07-07T17:06:38.126Z"
   },
   {
    "duration": 43,
    "start_time": "2021-07-07T17:06:38.144Z"
   },
   {
    "duration": 6,
    "start_time": "2021-07-07T17:06:38.188Z"
   },
   {
    "duration": 5,
    "start_time": "2021-07-07T17:06:38.195Z"
   },
   {
    "duration": 9,
    "start_time": "2021-07-07T17:06:38.201Z"
   },
   {
    "duration": 12,
    "start_time": "2021-07-07T17:06:38.212Z"
   },
   {
    "duration": 11,
    "start_time": "2021-07-07T17:06:38.226Z"
   },
   {
    "duration": 47,
    "start_time": "2021-07-07T17:06:38.239Z"
   },
   {
    "duration": 4,
    "start_time": "2021-07-07T17:06:38.288Z"
   },
   {
    "duration": 13,
    "start_time": "2021-07-07T17:06:38.293Z"
   },
   {
    "duration": 5,
    "start_time": "2021-07-07T17:06:38.309Z"
   },
   {
    "duration": 18,
    "start_time": "2021-07-07T17:06:38.325Z"
   },
   {
    "duration": 20,
    "start_time": "2021-07-07T17:07:02.805Z"
   },
   {
    "duration": 19,
    "start_time": "2021-07-07T17:07:08.527Z"
   },
   {
    "duration": 19,
    "start_time": "2021-07-07T17:07:12.758Z"
   },
   {
    "duration": 22,
    "start_time": "2021-07-07T17:07:17.497Z"
   },
   {
    "duration": 19,
    "start_time": "2021-07-07T17:07:19.645Z"
   },
   {
    "duration": 10,
    "start_time": "2021-07-07T17:07:34.239Z"
   },
   {
    "duration": 17,
    "start_time": "2021-07-07T17:07:54.144Z"
   },
   {
    "duration": 14,
    "start_time": "2021-07-07T17:08:14.357Z"
   },
   {
    "duration": 616,
    "start_time": "2021-07-07T17:08:45.254Z"
   },
   {
    "duration": 178,
    "start_time": "2021-07-07T17:08:45.872Z"
   },
   {
    "duration": 60,
    "start_time": "2021-07-07T17:08:46.054Z"
   },
   {
    "duration": 3,
    "start_time": "2021-07-07T17:08:46.116Z"
   },
   {
    "duration": 26,
    "start_time": "2021-07-07T17:08:46.121Z"
   },
   {
    "duration": 7,
    "start_time": "2021-07-07T17:08:46.149Z"
   },
   {
    "duration": 17,
    "start_time": "2021-07-07T17:08:46.158Z"
   },
   {
    "duration": 14,
    "start_time": "2021-07-07T17:08:46.176Z"
   },
   {
    "duration": 17,
    "start_time": "2021-07-07T17:08:46.193Z"
   },
   {
    "duration": 9,
    "start_time": "2021-07-07T17:08:46.211Z"
   },
   {
    "duration": 21,
    "start_time": "2021-07-07T17:08:46.221Z"
   },
   {
    "duration": 49,
    "start_time": "2021-07-07T17:08:46.244Z"
   },
   {
    "duration": 24,
    "start_time": "2021-07-07T17:08:46.295Z"
   },
   {
    "duration": 22,
    "start_time": "2021-07-07T17:08:46.321Z"
   },
   {
    "duration": 6,
    "start_time": "2021-07-07T17:08:46.345Z"
   },
   {
    "duration": 5,
    "start_time": "2021-07-07T17:08:46.353Z"
   },
   {
    "duration": 13,
    "start_time": "2021-07-07T17:08:46.386Z"
   },
   {
    "duration": 12,
    "start_time": "2021-07-07T17:08:46.402Z"
   },
   {
    "duration": 10,
    "start_time": "2021-07-07T17:08:46.415Z"
   },
   {
    "duration": 7,
    "start_time": "2021-07-07T17:08:46.427Z"
   },
   {
    "duration": 8,
    "start_time": "2021-07-07T17:08:46.435Z"
   },
   {
    "duration": 68,
    "start_time": "2021-07-07T17:08:46.446Z"
   },
   {
    "duration": 13,
    "start_time": "2021-07-07T17:08:46.516Z"
   },
   {
    "duration": 78,
    "start_time": "2021-07-07T17:08:46.530Z"
   },
   {
    "duration": 40,
    "start_time": "2021-07-07T17:09:08.185Z"
   },
   {
    "duration": 16,
    "start_time": "2021-07-07T17:09:19.324Z"
   },
   {
    "duration": 21,
    "start_time": "2021-07-07T17:09:23.290Z"
   },
   {
    "duration": 13,
    "start_time": "2021-07-07T17:09:54.812Z"
   },
   {
    "duration": 13,
    "start_time": "2021-07-07T17:10:02.039Z"
   },
   {
    "duration": 10,
    "start_time": "2021-07-07T17:10:29.632Z"
   },
   {
    "duration": 13,
    "start_time": "2021-07-07T17:10:52.372Z"
   },
   {
    "duration": 13,
    "start_time": "2021-07-07T17:11:17.270Z"
   },
   {
    "duration": 13,
    "start_time": "2021-07-07T17:14:59.284Z"
   },
   {
    "duration": 547,
    "start_time": "2021-07-07T17:18:52.403Z"
   },
   {
    "duration": 163,
    "start_time": "2021-07-07T17:18:52.952Z"
   },
   {
    "duration": 44,
    "start_time": "2021-07-07T17:18:53.117Z"
   },
   {
    "duration": 3,
    "start_time": "2021-07-07T17:18:53.162Z"
   },
   {
    "duration": 26,
    "start_time": "2021-07-07T17:18:53.167Z"
   },
   {
    "duration": 6,
    "start_time": "2021-07-07T17:18:53.195Z"
   },
   {
    "duration": 15,
    "start_time": "2021-07-07T17:18:53.203Z"
   },
   {
    "duration": 5,
    "start_time": "2021-07-07T17:18:53.220Z"
   },
   {
    "duration": 11,
    "start_time": "2021-07-07T17:18:53.228Z"
   },
   {
    "duration": 9,
    "start_time": "2021-07-07T17:18:53.241Z"
   },
   {
    "duration": 41,
    "start_time": "2021-07-07T17:18:53.252Z"
   },
   {
    "duration": 33,
    "start_time": "2021-07-07T17:18:53.295Z"
   },
   {
    "duration": 19,
    "start_time": "2021-07-07T17:18:53.330Z"
   },
   {
    "duration": 49,
    "start_time": "2021-07-07T17:18:53.350Z"
   },
   {
    "duration": 5,
    "start_time": "2021-07-07T17:18:53.401Z"
   },
   {
    "duration": 5,
    "start_time": "2021-07-07T17:18:53.408Z"
   },
   {
    "duration": 11,
    "start_time": "2021-07-07T17:18:53.414Z"
   },
   {
    "duration": 9,
    "start_time": "2021-07-07T17:18:53.427Z"
   },
   {
    "duration": 10,
    "start_time": "2021-07-07T17:18:53.437Z"
   },
   {
    "duration": 39,
    "start_time": "2021-07-07T17:18:53.448Z"
   },
   {
    "duration": 26,
    "start_time": "2021-07-07T17:18:55.799Z"
   },
   {
    "duration": 598,
    "start_time": "2021-07-07T17:20:17.862Z"
   },
   {
    "duration": 161,
    "start_time": "2021-07-07T17:20:18.462Z"
   },
   {
    "duration": 45,
    "start_time": "2021-07-07T17:20:18.626Z"
   },
   {
    "duration": 4,
    "start_time": "2021-07-07T17:20:18.673Z"
   },
   {
    "duration": 38,
    "start_time": "2021-07-07T17:20:26.877Z"
   },
   {
    "duration": 7,
    "start_time": "2021-07-07T17:20:37.405Z"
   },
   {
    "duration": 19,
    "start_time": "2021-07-07T17:20:51.534Z"
   },
   {
    "duration": 5,
    "start_time": "2021-07-07T17:20:57.228Z"
   },
   {
    "duration": 7,
    "start_time": "2021-07-07T17:21:08.235Z"
   },
   {
    "duration": 19,
    "start_time": "2021-07-07T17:21:42.158Z"
   },
   {
    "duration": 14,
    "start_time": "2021-07-07T17:21:50.225Z"
   },
   {
    "duration": 22,
    "start_time": "2021-07-07T17:22:54.104Z"
   },
   {
    "duration": 5,
    "start_time": "2021-07-07T17:22:56.371Z"
   },
   {
    "duration": 14,
    "start_time": "2021-07-07T17:22:58.316Z"
   },
   {
    "duration": 5,
    "start_time": "2021-07-07T17:22:58.493Z"
   },
   {
    "duration": 35,
    "start_time": "2021-07-07T17:22:59.666Z"
   },
   {
    "duration": 6,
    "start_time": "2021-07-07T17:23:02.410Z"
   },
   {
    "duration": 611,
    "start_time": "2021-07-07T17:24:59.664Z"
   },
   {
    "duration": 178,
    "start_time": "2021-07-07T17:25:01.945Z"
   },
   {
    "duration": 47,
    "start_time": "2021-07-07T17:25:02.125Z"
   },
   {
    "duration": 2,
    "start_time": "2021-07-07T17:25:07.903Z"
   },
   {
    "duration": 254,
    "start_time": "2021-07-07T17:25:08.232Z"
   },
   {
    "duration": 182,
    "start_time": "2021-07-07T17:25:08.671Z"
   },
   {
    "duration": 6,
    "start_time": "2021-07-07T17:25:13.104Z"
   },
   {
    "duration": 36,
    "start_time": "2021-07-07T17:25:13.662Z"
   },
   {
    "duration": 7,
    "start_time": "2021-07-07T17:25:14.528Z"
   },
   {
    "duration": 24,
    "start_time": "2021-07-07T17:25:27.982Z"
   },
   {
    "duration": 3,
    "start_time": "2021-07-07T17:25:48.982Z"
   },
   {
    "duration": 165,
    "start_time": "2021-07-07T17:25:48.987Z"
   },
   {
    "duration": 50,
    "start_time": "2021-07-07T17:25:49.154Z"
   },
   {
    "duration": 4,
    "start_time": "2021-07-07T17:25:49.206Z"
   },
   {
    "duration": 26,
    "start_time": "2021-07-07T17:25:49.212Z"
   },
   {
    "duration": 7,
    "start_time": "2021-07-07T17:25:49.240Z"
   },
   {
    "duration": 16,
    "start_time": "2021-07-07T17:25:49.249Z"
   },
   {
    "duration": 22,
    "start_time": "2021-07-07T17:25:49.266Z"
   },
   {
    "duration": 16,
    "start_time": "2021-07-07T17:25:49.291Z"
   },
   {
    "duration": 9,
    "start_time": "2021-07-07T17:25:49.309Z"
   },
   {
    "duration": 7,
    "start_time": "2021-07-07T17:25:49.319Z"
   },
   {
    "duration": 28,
    "start_time": "2021-07-07T17:25:49.328Z"
   },
   {
    "duration": 44,
    "start_time": "2021-07-07T17:25:49.357Z"
   },
   {
    "duration": 22,
    "start_time": "2021-07-07T17:25:49.403Z"
   },
   {
    "duration": 7,
    "start_time": "2021-07-07T17:25:49.427Z"
   },
   {
    "duration": 3,
    "start_time": "2021-07-07T17:25:49.436Z"
   },
   {
    "duration": 44,
    "start_time": "2021-07-07T17:25:49.441Z"
   },
   {
    "duration": 12,
    "start_time": "2021-07-07T17:25:49.488Z"
   },
   {
    "duration": 13,
    "start_time": "2021-07-07T17:25:49.502Z"
   },
   {
    "duration": 10,
    "start_time": "2021-07-07T17:25:49.516Z"
   },
   {
    "duration": 62,
    "start_time": "2021-07-07T17:25:49.527Z"
   },
   {
    "duration": 26,
    "start_time": "2021-07-07T17:26:51.809Z"
   },
   {
    "duration": 26,
    "start_time": "2021-07-07T17:26:55.759Z"
   },
   {
    "duration": 26,
    "start_time": "2021-07-07T17:27:04.501Z"
   },
   {
    "duration": 25,
    "start_time": "2021-07-07T17:28:24.859Z"
   },
   {
    "duration": 21,
    "start_time": "2021-07-07T17:28:55.250Z"
   },
   {
    "duration": 21,
    "start_time": "2021-07-07T17:28:58.885Z"
   },
   {
    "duration": 7,
    "start_time": "2021-07-07T17:45:40.972Z"
   },
   {
    "duration": 13,
    "start_time": "2021-07-07T17:45:42.529Z"
   },
   {
    "duration": 27,
    "start_time": "2021-07-07T17:45:51.026Z"
   },
   {
    "duration": 518,
    "start_time": "2021-07-07T17:46:15.532Z"
   },
   {
    "duration": 235,
    "start_time": "2021-07-07T17:46:16.053Z"
   },
   {
    "duration": 80,
    "start_time": "2021-07-07T17:46:16.292Z"
   },
   {
    "duration": 5,
    "start_time": "2021-07-07T17:46:16.373Z"
   },
   {
    "duration": 26,
    "start_time": "2021-07-07T17:46:16.380Z"
   },
   {
    "duration": 7,
    "start_time": "2021-07-07T17:46:16.408Z"
   },
   {
    "duration": 16,
    "start_time": "2021-07-07T17:46:16.418Z"
   },
   {
    "duration": 5,
    "start_time": "2021-07-07T17:46:16.436Z"
   },
   {
    "duration": 13,
    "start_time": "2021-07-07T17:46:16.442Z"
   },
   {
    "duration": 35,
    "start_time": "2021-07-07T17:46:16.456Z"
   },
   {
    "duration": 8,
    "start_time": "2021-07-07T17:46:16.493Z"
   },
   {
    "duration": 28,
    "start_time": "2021-07-07T17:46:16.502Z"
   },
   {
    "duration": 17,
    "start_time": "2021-07-07T17:46:16.532Z"
   },
   {
    "duration": 44,
    "start_time": "2021-07-07T17:46:16.551Z"
   },
   {
    "duration": 6,
    "start_time": "2021-07-07T17:46:16.597Z"
   },
   {
    "duration": 4,
    "start_time": "2021-07-07T17:46:16.605Z"
   },
   {
    "duration": 9,
    "start_time": "2021-07-07T17:46:16.610Z"
   },
   {
    "duration": 9,
    "start_time": "2021-07-07T17:46:16.621Z"
   },
   {
    "duration": 10,
    "start_time": "2021-07-07T17:46:16.632Z"
   },
   {
    "duration": 43,
    "start_time": "2021-07-07T17:46:16.644Z"
   },
   {
    "duration": 26,
    "start_time": "2021-07-07T17:46:16.689Z"
   },
   {
    "duration": 19,
    "start_time": "2021-07-07T17:46:16.718Z"
   },
   {
    "duration": 8,
    "start_time": "2021-07-07T17:46:16.738Z"
   },
   {
    "duration": 43,
    "start_time": "2021-07-07T17:46:16.747Z"
   },
   {
    "duration": 19,
    "start_time": "2021-07-07T17:46:16.791Z"
   },
   {
    "duration": 9,
    "start_time": "2021-07-07T17:46:16.812Z"
   },
   {
    "duration": 60,
    "start_time": "2021-07-07T17:46:16.822Z"
   },
   {
    "duration": -8,
    "start_time": "2021-07-07T17:46:16.892Z"
   },
   {
    "duration": 12,
    "start_time": "2021-07-07T17:48:47.707Z"
   },
   {
    "duration": 553,
    "start_time": "2021-07-07T18:10:09.350Z"
   },
   {
    "duration": 230,
    "start_time": "2021-07-07T18:10:09.905Z"
   },
   {
    "duration": 97,
    "start_time": "2021-07-07T18:10:10.137Z"
   },
   {
    "duration": 5,
    "start_time": "2021-07-07T18:10:10.236Z"
   },
   {
    "duration": 29,
    "start_time": "2021-07-07T18:10:10.242Z"
   },
   {
    "duration": 7,
    "start_time": "2021-07-07T18:10:10.272Z"
   },
   {
    "duration": 15,
    "start_time": "2021-07-07T18:10:10.281Z"
   },
   {
    "duration": 4,
    "start_time": "2021-07-07T18:10:10.299Z"
   },
   {
    "duration": 14,
    "start_time": "2021-07-07T18:10:10.305Z"
   },
   {
    "duration": 8,
    "start_time": "2021-07-07T18:10:10.321Z"
   },
   {
    "duration": 8,
    "start_time": "2021-07-07T18:10:10.331Z"
   },
   {
    "duration": 56,
    "start_time": "2021-07-07T18:10:10.341Z"
   },
   {
    "duration": 19,
    "start_time": "2021-07-07T18:10:10.399Z"
   },
   {
    "duration": 23,
    "start_time": "2021-07-07T18:10:10.419Z"
   },
   {
    "duration": 6,
    "start_time": "2021-07-07T18:10:10.444Z"
   },
   {
    "duration": 9,
    "start_time": "2021-07-07T18:10:10.451Z"
   },
   {
    "duration": 30,
    "start_time": "2021-07-07T18:10:10.462Z"
   },
   {
    "duration": 9,
    "start_time": "2021-07-07T18:10:10.494Z"
   },
   {
    "duration": 14,
    "start_time": "2021-07-07T18:10:10.505Z"
   },
   {
    "duration": 7,
    "start_time": "2021-07-07T18:10:10.521Z"
   },
   {
    "duration": 26,
    "start_time": "2021-07-07T18:10:10.530Z"
   },
   {
    "duration": 44,
    "start_time": "2021-07-07T18:10:10.558Z"
   },
   {
    "duration": 7,
    "start_time": "2021-07-07T18:10:10.605Z"
   },
   {
    "duration": 11,
    "start_time": "2021-07-07T18:10:10.614Z"
   },
   {
    "duration": 19,
    "start_time": "2021-07-07T18:10:10.626Z"
   },
   {
    "duration": 44,
    "start_time": "2021-07-07T18:10:10.646Z"
   },
   {
    "duration": 516,
    "start_time": "2021-07-07T18:14:00.826Z"
   },
   {
    "duration": 230,
    "start_time": "2021-07-07T18:14:01.344Z"
   },
   {
    "duration": 105,
    "start_time": "2021-07-07T18:14:01.576Z"
   },
   {
    "duration": 5,
    "start_time": "2021-07-07T18:14:01.683Z"
   },
   {
    "duration": 46,
    "start_time": "2021-07-07T18:14:01.690Z"
   },
   {
    "duration": 7,
    "start_time": "2021-07-07T18:14:01.738Z"
   },
   {
    "duration": 20,
    "start_time": "2021-07-07T18:14:01.747Z"
   },
   {
    "duration": 16,
    "start_time": "2021-07-07T18:14:01.769Z"
   },
   {
    "duration": 14,
    "start_time": "2021-07-07T18:14:01.787Z"
   },
   {
    "duration": 15,
    "start_time": "2021-07-07T18:14:01.803Z"
   },
   {
    "duration": 12,
    "start_time": "2021-07-07T18:14:01.820Z"
   },
   {
    "duration": 35,
    "start_time": "2021-07-07T18:14:01.833Z"
   },
   {
    "duration": 31,
    "start_time": "2021-07-07T18:14:01.869Z"
   },
   {
    "duration": 37,
    "start_time": "2021-07-07T18:14:01.902Z"
   },
   {
    "duration": 8,
    "start_time": "2021-07-07T18:14:01.942Z"
   },
   {
    "duration": 16,
    "start_time": "2021-07-07T18:14:01.952Z"
   },
   {
    "duration": 13,
    "start_time": "2021-07-07T18:14:01.970Z"
   },
   {
    "duration": 32,
    "start_time": "2021-07-07T18:14:01.985Z"
   },
   {
    "duration": 11,
    "start_time": "2021-07-07T18:14:02.019Z"
   },
   {
    "duration": 22,
    "start_time": "2021-07-07T18:14:02.031Z"
   },
   {
    "duration": 27,
    "start_time": "2021-07-07T18:14:02.055Z"
   },
   {
    "duration": 18,
    "start_time": "2021-07-07T18:14:02.084Z"
   },
   {
    "duration": 18,
    "start_time": "2021-07-07T18:14:02.106Z"
   },
   {
    "duration": 11,
    "start_time": "2021-07-07T18:14:02.126Z"
   },
   {
    "duration": 21,
    "start_time": "2021-07-07T18:14:02.138Z"
   },
   {
    "duration": 32,
    "start_time": "2021-07-07T18:14:02.161Z"
   },
   {
    "duration": 28,
    "start_time": "2021-07-07T18:14:44.295Z"
   },
   {
    "duration": 6,
    "start_time": "2021-07-07T18:15:05.834Z"
   },
   {
    "duration": 511,
    "start_time": "2021-07-07T18:15:41.541Z"
   },
   {
    "duration": 183,
    "start_time": "2021-07-07T18:15:42.054Z"
   },
   {
    "duration": 50,
    "start_time": "2021-07-07T18:15:42.239Z"
   },
   {
    "duration": 5,
    "start_time": "2021-07-07T18:15:42.291Z"
   },
   {
    "duration": 48,
    "start_time": "2021-07-07T18:15:42.297Z"
   },
   {
    "duration": 8,
    "start_time": "2021-07-07T18:15:42.346Z"
   },
   {
    "duration": 17,
    "start_time": "2021-07-07T18:15:42.356Z"
   },
   {
    "duration": 15,
    "start_time": "2021-07-07T18:15:42.375Z"
   },
   {
    "duration": 12,
    "start_time": "2021-07-07T18:15:42.392Z"
   },
   {
    "duration": 7,
    "start_time": "2021-07-07T18:15:42.406Z"
   },
   {
    "duration": 7,
    "start_time": "2021-07-07T18:15:42.415Z"
   },
   {
    "duration": 29,
    "start_time": "2021-07-07T18:15:42.423Z"
   },
   {
    "duration": 43,
    "start_time": "2021-07-07T18:15:42.453Z"
   },
   {
    "duration": 18,
    "start_time": "2021-07-07T18:15:42.497Z"
   },
   {
    "duration": 6,
    "start_time": "2021-07-07T18:15:42.516Z"
   },
   {
    "duration": 3,
    "start_time": "2021-07-07T18:15:42.523Z"
   },
   {
    "duration": 18,
    "start_time": "2021-07-07T18:15:42.528Z"
   },
   {
    "duration": 10,
    "start_time": "2021-07-07T18:15:42.547Z"
   },
   {
    "duration": 36,
    "start_time": "2021-07-07T18:15:42.559Z"
   },
   {
    "duration": 8,
    "start_time": "2021-07-07T18:15:42.597Z"
   },
   {
    "duration": 28,
    "start_time": "2021-07-07T18:15:42.606Z"
   },
   {
    "duration": 52,
    "start_time": "2021-07-07T18:15:42.635Z"
   },
   {
    "duration": 7,
    "start_time": "2021-07-07T18:15:42.690Z"
   },
   {
    "duration": 10,
    "start_time": "2021-07-07T18:15:42.699Z"
   },
   {
    "duration": 19,
    "start_time": "2021-07-07T18:15:42.711Z"
   },
   {
    "duration": 9,
    "start_time": "2021-07-07T18:15:42.732Z"
   },
   {
    "duration": 5,
    "start_time": "2021-07-07T18:15:42.743Z"
   },
   {
    "duration": 1450,
    "start_time": "2021-07-07T18:15:51.984Z"
   },
   {
    "duration": 161,
    "start_time": "2021-07-07T18:15:53.435Z"
   },
   {
    "duration": 124,
    "start_time": "2021-07-07T18:15:53.598Z"
   },
   {
    "duration": 5,
    "start_time": "2021-07-07T18:15:53.724Z"
   },
   {
    "duration": 34,
    "start_time": "2021-07-07T18:15:53.730Z"
   },
   {
    "duration": 7,
    "start_time": "2021-07-07T18:15:53.765Z"
   },
   {
    "duration": 15,
    "start_time": "2021-07-07T18:15:53.773Z"
   },
   {
    "duration": 5,
    "start_time": "2021-07-07T18:15:53.791Z"
   },
   {
    "duration": 19,
    "start_time": "2021-07-07T18:15:53.798Z"
   },
   {
    "duration": 9,
    "start_time": "2021-07-07T18:15:53.818Z"
   },
   {
    "duration": 19,
    "start_time": "2021-07-07T18:15:53.828Z"
   },
   {
    "duration": 27,
    "start_time": "2021-07-07T18:15:53.848Z"
   },
   {
    "duration": 16,
    "start_time": "2021-07-07T18:15:53.884Z"
   },
   {
    "duration": 29,
    "start_time": "2021-07-07T18:15:53.901Z"
   },
   {
    "duration": 5,
    "start_time": "2021-07-07T18:15:53.932Z"
   },
   {
    "duration": 15,
    "start_time": "2021-07-07T18:15:53.939Z"
   },
   {
    "duration": 13,
    "start_time": "2021-07-07T18:15:53.956Z"
   },
   {
    "duration": 20,
    "start_time": "2021-07-07T18:15:53.971Z"
   },
   {
    "duration": 14,
    "start_time": "2021-07-07T18:15:53.992Z"
   },
   {
    "duration": 9,
    "start_time": "2021-07-07T18:15:54.009Z"
   },
   {
    "duration": 28,
    "start_time": "2021-07-07T18:15:54.020Z"
   },
   {
    "duration": 50,
    "start_time": "2021-07-07T18:15:54.051Z"
   },
   {
    "duration": 8,
    "start_time": "2021-07-07T18:15:54.105Z"
   },
   {
    "duration": 11,
    "start_time": "2021-07-07T18:15:54.115Z"
   },
   {
    "duration": 20,
    "start_time": "2021-07-07T18:15:54.128Z"
   },
   {
    "duration": 13,
    "start_time": "2021-07-07T18:15:54.184Z"
   },
   {
    "duration": 7,
    "start_time": "2021-07-07T18:15:54.199Z"
   },
   {
    "duration": 7,
    "start_time": "2021-07-07T18:17:08.042Z"
   },
   {
    "duration": 8,
    "start_time": "2021-07-07T18:17:21.008Z"
   },
   {
    "duration": 7,
    "start_time": "2021-07-07T18:17:29.003Z"
   },
   {
    "duration": 8,
    "start_time": "2021-07-07T18:17:32.492Z"
   },
   {
    "duration": 9,
    "start_time": "2021-07-07T18:17:41.758Z"
   },
   {
    "duration": 255,
    "start_time": "2021-07-07T18:20:20.897Z"
   },
   {
    "duration": 173,
    "start_time": "2021-07-07T18:20:26.636Z"
   },
   {
    "duration": 7,
    "start_time": "2021-07-07T18:21:47.164Z"
   },
   {
    "duration": 254,
    "start_time": "2021-07-07T18:23:08.703Z"
   },
   {
    "duration": 21,
    "start_time": "2021-07-07T18:23:22.506Z"
   },
   {
    "duration": 315,
    "start_time": "2021-07-07T18:25:54.801Z"
   },
   {
    "duration": 34,
    "start_time": "2021-07-07T18:26:51.817Z"
   },
   {
    "duration": 327,
    "start_time": "2021-07-07T18:26:56.147Z"
   },
   {
    "duration": 342,
    "start_time": "2021-07-07T18:27:15.887Z"
   },
   {
    "duration": 302,
    "start_time": "2021-07-07T18:28:18.569Z"
   },
   {
    "duration": 226,
    "start_time": "2021-07-07T18:29:20.879Z"
   },
   {
    "duration": 207,
    "start_time": "2021-07-07T18:29:58.114Z"
   },
   {
    "duration": 140,
    "start_time": "2021-07-07T18:32:04.372Z"
   },
   {
    "duration": 158,
    "start_time": "2021-07-07T18:32:32.508Z"
   },
   {
    "duration": 145,
    "start_time": "2021-07-07T18:32:41.365Z"
   },
   {
    "duration": 132,
    "start_time": "2021-07-07T18:32:45.199Z"
   },
   {
    "duration": 11,
    "start_time": "2021-07-07T18:35:24.679Z"
   },
   {
    "duration": 268,
    "start_time": "2021-07-07T18:36:16.145Z"
   },
   {
    "duration": 227,
    "start_time": "2021-07-07T18:37:04.918Z"
   },
   {
    "duration": 3,
    "start_time": "2021-07-07T18:37:33.012Z"
   },
   {
    "duration": 671,
    "start_time": "2021-07-07T18:37:38.295Z"
   },
   {
    "duration": 54,
    "start_time": "2021-07-07T18:37:53.406Z"
   },
   {
    "duration": 631,
    "start_time": "2021-07-07T18:37:56.463Z"
   },
   {
    "duration": 19,
    "start_time": "2021-07-07T18:39:40.535Z"
   },
   {
    "duration": 20,
    "start_time": "2021-07-07T18:40:12.236Z"
   },
   {
    "duration": 633,
    "start_time": "2021-07-07T18:42:00.398Z"
   },
   {
    "duration": 218,
    "start_time": "2021-07-07T18:42:01.033Z"
   },
   {
    "duration": 49,
    "start_time": "2021-07-07T18:42:01.253Z"
   },
   {
    "duration": 5,
    "start_time": "2021-07-07T18:42:01.303Z"
   },
   {
    "duration": 27,
    "start_time": "2021-07-07T18:42:01.310Z"
   },
   {
    "duration": 8,
    "start_time": "2021-07-07T18:42:01.339Z"
   },
   {
    "duration": 20,
    "start_time": "2021-07-07T18:42:01.348Z"
   },
   {
    "duration": 6,
    "start_time": "2021-07-07T18:42:01.386Z"
   },
   {
    "duration": 16,
    "start_time": "2021-07-07T18:42:01.394Z"
   },
   {
    "duration": 9,
    "start_time": "2021-07-07T18:42:01.411Z"
   },
   {
    "duration": 11,
    "start_time": "2021-07-07T18:42:01.421Z"
   },
   {
    "duration": 31,
    "start_time": "2021-07-07T18:42:01.434Z"
   },
   {
    "duration": 18,
    "start_time": "2021-07-07T18:42:01.485Z"
   },
   {
    "duration": 23,
    "start_time": "2021-07-07T18:42:01.505Z"
   },
   {
    "duration": 6,
    "start_time": "2021-07-07T18:42:01.530Z"
   },
   {
    "duration": 10,
    "start_time": "2021-07-07T18:42:01.538Z"
   },
   {
    "duration": 13,
    "start_time": "2021-07-07T18:42:01.550Z"
   },
   {
    "duration": 24,
    "start_time": "2021-07-07T18:42:01.564Z"
   },
   {
    "duration": 20,
    "start_time": "2021-07-07T18:42:01.590Z"
   },
   {
    "duration": 8,
    "start_time": "2021-07-07T18:42:01.611Z"
   },
   {
    "duration": 31,
    "start_time": "2021-07-07T18:42:01.620Z"
   },
   {
    "duration": 39,
    "start_time": "2021-07-07T18:42:01.653Z"
   },
   {
    "duration": 8,
    "start_time": "2021-07-07T18:42:01.696Z"
   },
   {
    "duration": 13,
    "start_time": "2021-07-07T18:42:01.705Z"
   },
   {
    "duration": 20,
    "start_time": "2021-07-07T18:42:01.720Z"
   },
   {
    "duration": 12,
    "start_time": "2021-07-07T18:42:01.741Z"
   },
   {
    "duration": 35,
    "start_time": "2021-07-07T18:42:01.755Z"
   },
   {
    "duration": 14,
    "start_time": "2021-07-07T18:42:01.792Z"
   },
   {
    "duration": 188,
    "start_time": "2021-07-07T18:42:01.808Z"
   },
   {
    "duration": 19,
    "start_time": "2021-07-07T18:42:01.998Z"
   },
   {
    "duration": 175,
    "start_time": "2021-07-07T18:42:02.019Z"
   },
   {
    "duration": 134,
    "start_time": "2021-07-07T18:42:02.196Z"
   },
   {
    "duration": 10,
    "start_time": "2021-07-07T18:42:02.331Z"
   },
   {
    "duration": 19,
    "start_time": "2021-07-07T18:42:02.343Z"
   },
   {
    "duration": 628,
    "start_time": "2021-07-07T18:46:30.701Z"
   },
   {
    "duration": 183,
    "start_time": "2021-07-07T18:46:31.331Z"
   },
   {
    "duration": 48,
    "start_time": "2021-07-07T18:46:31.516Z"
   },
   {
    "duration": 5,
    "start_time": "2021-07-07T18:46:31.566Z"
   },
   {
    "duration": 28,
    "start_time": "2021-07-07T18:46:31.572Z"
   },
   {
    "duration": 8,
    "start_time": "2021-07-07T18:46:31.602Z"
   },
   {
    "duration": 19,
    "start_time": "2021-07-07T18:46:31.611Z"
   },
   {
    "duration": 6,
    "start_time": "2021-07-07T18:46:31.633Z"
   },
   {
    "duration": 17,
    "start_time": "2021-07-07T18:46:31.642Z"
   },
   {
    "duration": 10,
    "start_time": "2021-07-07T18:46:31.684Z"
   },
   {
    "duration": 9,
    "start_time": "2021-07-07T18:46:31.695Z"
   },
   {
    "duration": 28,
    "start_time": "2021-07-07T18:46:31.705Z"
   },
   {
    "duration": 18,
    "start_time": "2021-07-07T18:46:31.735Z"
   },
   {
    "duration": 48,
    "start_time": "2021-07-07T18:46:31.755Z"
   },
   {
    "duration": 6,
    "start_time": "2021-07-07T18:46:31.804Z"
   },
   {
    "duration": 4,
    "start_time": "2021-07-07T18:46:31.812Z"
   },
   {
    "duration": 9,
    "start_time": "2021-07-07T18:46:31.817Z"
   },
   {
    "duration": 10,
    "start_time": "2021-07-07T18:46:31.827Z"
   },
   {
    "duration": 12,
    "start_time": "2021-07-07T18:46:31.838Z"
   },
   {
    "duration": 39,
    "start_time": "2021-07-07T18:46:31.851Z"
   },
   {
    "duration": 24,
    "start_time": "2021-07-07T18:46:31.892Z"
   },
   {
    "duration": 15,
    "start_time": "2021-07-07T18:46:31.918Z"
   },
   {
    "duration": 7,
    "start_time": "2021-07-07T18:46:31.936Z"
   },
   {
    "duration": 8,
    "start_time": "2021-07-07T18:46:31.944Z"
   },
   {
    "duration": 19,
    "start_time": "2021-07-07T18:46:31.984Z"
   },
   {
    "duration": 10,
    "start_time": "2021-07-07T18:46:32.004Z"
   },
   {
    "duration": 5,
    "start_time": "2021-07-07T18:46:32.016Z"
   },
   {
    "duration": 9,
    "start_time": "2021-07-07T18:46:32.023Z"
   },
   {
    "duration": 199,
    "start_time": "2021-07-07T18:46:32.033Z"
   },
   {
    "duration": 19,
    "start_time": "2021-07-07T18:46:32.234Z"
   },
   {
    "duration": 159,
    "start_time": "2021-07-07T18:46:32.255Z"
   },
   {
    "duration": 134,
    "start_time": "2021-07-07T18:46:32.416Z"
   },
   {
    "duration": 10,
    "start_time": "2021-07-07T18:46:32.552Z"
   },
   {
    "duration": 34,
    "start_time": "2021-07-07T18:46:32.563Z"
   },
   {
    "duration": 1039,
    "start_time": "2021-07-08T08:41:09.419Z"
   },
   {
    "duration": 333,
    "start_time": "2021-07-08T08:41:10.459Z"
   },
   {
    "duration": 173,
    "start_time": "2021-07-08T08:41:10.794Z"
   },
   {
    "duration": 5,
    "start_time": "2021-07-08T08:41:10.968Z"
   },
   {
    "duration": 25,
    "start_time": "2021-07-08T08:41:10.975Z"
   },
   {
    "duration": 9,
    "start_time": "2021-07-08T08:41:11.002Z"
   },
   {
    "duration": 18,
    "start_time": "2021-07-08T08:41:11.013Z"
   },
   {
    "duration": 6,
    "start_time": "2021-07-08T08:41:11.033Z"
   },
   {
    "duration": 44,
    "start_time": "2021-07-08T08:41:11.042Z"
   },
   {
    "duration": 10,
    "start_time": "2021-07-08T08:41:11.088Z"
   },
   {
    "duration": 9,
    "start_time": "2021-07-08T08:41:11.100Z"
   },
   {
    "duration": 27,
    "start_time": "2021-07-08T08:41:11.111Z"
   },
   {
    "duration": 46,
    "start_time": "2021-07-08T08:41:11.140Z"
   },
   {
    "duration": 17,
    "start_time": "2021-07-08T08:41:11.187Z"
   },
   {
    "duration": 6,
    "start_time": "2021-07-08T08:41:11.206Z"
   },
   {
    "duration": 5,
    "start_time": "2021-07-08T08:41:11.213Z"
   },
   {
    "duration": 10,
    "start_time": "2021-07-08T08:41:11.219Z"
   },
   {
    "duration": 9,
    "start_time": "2021-07-08T08:41:11.230Z"
   },
   {
    "duration": 45,
    "start_time": "2021-07-08T08:41:11.241Z"
   },
   {
    "duration": 7,
    "start_time": "2021-07-08T08:41:11.287Z"
   },
   {
    "duration": 24,
    "start_time": "2021-07-08T08:41:11.296Z"
   },
   {
    "duration": 16,
    "start_time": "2021-07-08T08:41:11.322Z"
   },
   {
    "duration": 7,
    "start_time": "2021-07-08T08:41:11.341Z"
   },
   {
    "duration": 41,
    "start_time": "2021-07-08T08:41:11.349Z"
   },
   {
    "duration": 17,
    "start_time": "2021-07-08T08:41:11.391Z"
   },
   {
    "duration": 9,
    "start_time": "2021-07-08T08:41:11.410Z"
   },
   {
    "duration": 5,
    "start_time": "2021-07-08T08:41:11.421Z"
   },
   {
    "duration": 6,
    "start_time": "2021-07-08T08:41:11.428Z"
   },
   {
    "duration": 198,
    "start_time": "2021-07-08T08:41:11.435Z"
   },
   {
    "duration": 18,
    "start_time": "2021-07-08T08:41:11.635Z"
   },
   {
    "duration": 155,
    "start_time": "2021-07-08T08:41:11.655Z"
   },
   {
    "duration": 138,
    "start_time": "2021-07-08T08:41:11.811Z"
   },
   {
    "duration": 10,
    "start_time": "2021-07-08T08:41:11.950Z"
   },
   {
    "duration": 29,
    "start_time": "2021-07-08T08:41:11.961Z"
   },
   {
    "duration": 171,
    "start_time": "2021-07-08T08:47:44.522Z"
   },
   {
    "duration": 124,
    "start_time": "2021-07-08T08:47:46.872Z"
   },
   {
    "duration": 191,
    "start_time": "2021-07-08T08:47:58.148Z"
   },
   {
    "duration": 191,
    "start_time": "2021-07-08T08:48:07.412Z"
   },
   {
    "duration": 261,
    "start_time": "2021-07-08T08:48:10.385Z"
   },
   {
    "duration": 255,
    "start_time": "2021-07-08T08:48:14.494Z"
   },
   {
    "duration": 219,
    "start_time": "2021-07-08T08:48:22.752Z"
   },
   {
    "duration": 173,
    "start_time": "2021-07-08T08:49:06.395Z"
   },
   {
    "duration": 180,
    "start_time": "2021-07-08T08:49:21.011Z"
   },
   {
    "duration": 6,
    "start_time": "2021-07-08T08:50:31.697Z"
   },
   {
    "duration": 10,
    "start_time": "2021-07-08T08:50:47.394Z"
   },
   {
    "duration": 11,
    "start_time": "2021-07-08T08:53:49.332Z"
   },
   {
    "duration": 171,
    "start_time": "2021-07-08T08:54:28.408Z"
   },
   {
    "duration": 636,
    "start_time": "2021-07-08T09:02:48.385Z"
   },
   {
    "duration": 227,
    "start_time": "2021-07-08T09:02:49.023Z"
   },
   {
    "duration": 104,
    "start_time": "2021-07-08T09:02:49.252Z"
   },
   {
    "duration": 5,
    "start_time": "2021-07-08T09:02:49.358Z"
   },
   {
    "duration": 27,
    "start_time": "2021-07-08T09:02:49.365Z"
   },
   {
    "duration": 8,
    "start_time": "2021-07-08T09:02:49.394Z"
   },
   {
    "duration": 18,
    "start_time": "2021-07-08T09:02:49.404Z"
   },
   {
    "duration": 6,
    "start_time": "2021-07-08T09:02:49.424Z"
   },
   {
    "duration": 11,
    "start_time": "2021-07-08T09:02:49.433Z"
   },
   {
    "duration": 13,
    "start_time": "2021-07-08T09:02:49.485Z"
   },
   {
    "duration": 9,
    "start_time": "2021-07-08T09:02:49.500Z"
   },
   {
    "duration": 38,
    "start_time": "2021-07-08T09:02:49.511Z"
   },
   {
    "duration": 42,
    "start_time": "2021-07-08T09:02:49.551Z"
   },
   {
    "duration": 21,
    "start_time": "2021-07-08T09:02:49.594Z"
   },
   {
    "duration": 6,
    "start_time": "2021-07-08T09:02:49.616Z"
   },
   {
    "duration": 3,
    "start_time": "2021-07-08T09:02:49.623Z"
   },
   {
    "duration": 9,
    "start_time": "2021-07-08T09:02:49.628Z"
   },
   {
    "duration": 52,
    "start_time": "2021-07-08T09:02:49.638Z"
   },
   {
    "duration": 11,
    "start_time": "2021-07-08T09:02:49.692Z"
   },
   {
    "duration": 8,
    "start_time": "2021-07-08T09:02:49.704Z"
   },
   {
    "duration": 27,
    "start_time": "2021-07-08T09:02:49.713Z"
   },
   {
    "duration": 59,
    "start_time": "2021-07-08T09:02:49.741Z"
   },
   {
    "duration": 8,
    "start_time": "2021-07-08T09:02:49.803Z"
   },
   {
    "duration": 14,
    "start_time": "2021-07-08T09:02:49.813Z"
   },
   {
    "duration": 20,
    "start_time": "2021-07-08T09:02:49.829Z"
   },
   {
    "duration": 44,
    "start_time": "2021-07-08T09:02:49.851Z"
   },
   {
    "duration": 14,
    "start_time": "2021-07-08T09:02:49.896Z"
   },
   {
    "duration": 221,
    "start_time": "2021-07-08T09:02:49.912Z"
   },
   {
    "duration": 6,
    "start_time": "2021-07-08T09:02:50.134Z"
   },
   {
    "duration": 206,
    "start_time": "2021-07-08T09:02:50.142Z"
   },
   {
    "duration": 19,
    "start_time": "2021-07-08T09:02:50.350Z"
   },
   {
    "duration": 21,
    "start_time": "2021-07-08T09:02:50.370Z"
   },
   {
    "duration": 20,
    "start_time": "2021-07-08T09:02:50.393Z"
   },
   {
    "duration": 5,
    "start_time": "2021-07-08T09:02:50.414Z"
   },
   {
    "duration": 5,
    "start_time": "2021-07-08T09:03:34.173Z"
   },
   {
    "duration": 6,
    "start_time": "2021-07-08T09:04:49.062Z"
   },
   {
    "duration": 9,
    "start_time": "2021-07-08T09:04:50.118Z"
   },
   {
    "duration": 14,
    "start_time": "2021-07-08T09:04:58.512Z"
   },
   {
    "duration": 9,
    "start_time": "2021-07-08T09:05:10.988Z"
   },
   {
    "duration": 11,
    "start_time": "2021-07-08T09:05:11.743Z"
   },
   {
    "duration": 7,
    "start_time": "2021-07-08T09:05:25.677Z"
   },
   {
    "duration": 13,
    "start_time": "2021-07-08T09:05:47.189Z"
   },
   {
    "duration": 13,
    "start_time": "2021-07-08T09:05:54.755Z"
   },
   {
    "duration": 4,
    "start_time": "2021-07-08T09:06:29.189Z"
   },
   {
    "duration": 244,
    "start_time": "2021-07-08T09:06:29.195Z"
   },
   {
    "duration": 91,
    "start_time": "2021-07-08T09:06:29.441Z"
   },
   {
    "duration": 4,
    "start_time": "2021-07-08T09:06:29.534Z"
   },
   {
    "duration": 28,
    "start_time": "2021-07-08T09:06:29.540Z"
   },
   {
    "duration": 6,
    "start_time": "2021-07-08T09:06:29.570Z"
   },
   {
    "duration": 18,
    "start_time": "2021-07-08T09:06:29.578Z"
   },
   {
    "duration": 5,
    "start_time": "2021-07-08T09:06:29.597Z"
   },
   {
    "duration": 13,
    "start_time": "2021-07-08T09:06:29.605Z"
   },
   {
    "duration": 8,
    "start_time": "2021-07-08T09:06:29.620Z"
   },
   {
    "duration": 7,
    "start_time": "2021-07-08T09:06:29.630Z"
   },
   {
    "duration": 63,
    "start_time": "2021-07-08T09:06:29.639Z"
   },
   {
    "duration": 17,
    "start_time": "2021-07-08T09:06:29.704Z"
   },
   {
    "duration": 20,
    "start_time": "2021-07-08T09:06:29.723Z"
   },
   {
    "duration": 6,
    "start_time": "2021-07-08T09:06:29.745Z"
   },
   {
    "duration": 3,
    "start_time": "2021-07-08T09:06:29.752Z"
   },
   {
    "duration": 7,
    "start_time": "2021-07-08T09:06:29.785Z"
   },
   {
    "duration": 11,
    "start_time": "2021-07-08T09:06:29.794Z"
   },
   {
    "duration": 15,
    "start_time": "2021-07-08T09:06:29.807Z"
   },
   {
    "duration": 8,
    "start_time": "2021-07-08T09:06:29.823Z"
   },
   {
    "duration": 70,
    "start_time": "2021-07-08T09:06:29.832Z"
   },
   {
    "duration": 17,
    "start_time": "2021-07-08T09:06:29.903Z"
   },
   {
    "duration": 9,
    "start_time": "2021-07-08T09:06:29.921Z"
   },
   {
    "duration": 9,
    "start_time": "2021-07-08T09:06:29.932Z"
   },
   {
    "duration": 57,
    "start_time": "2021-07-08T09:06:29.942Z"
   },
   {
    "duration": 11,
    "start_time": "2021-07-08T09:06:30.001Z"
   },
   {
    "duration": 19,
    "start_time": "2021-07-08T09:06:30.016Z"
   },
   {
    "duration": 217,
    "start_time": "2021-07-08T09:06:30.037Z"
   },
   {
    "duration": 6,
    "start_time": "2021-07-08T09:06:30.255Z"
   },
   {
    "duration": 205,
    "start_time": "2021-07-08T09:06:30.263Z"
   },
   {
    "duration": 27,
    "start_time": "2021-07-08T09:06:30.470Z"
   },
   {
    "duration": 11,
    "start_time": "2021-07-08T09:06:30.500Z"
   },
   {
    "duration": 31,
    "start_time": "2021-07-08T09:06:30.513Z"
   },
   {
    "duration": 18,
    "start_time": "2021-07-08T09:06:30.546Z"
   },
   {
    "duration": 11,
    "start_time": "2021-07-08T09:06:30.566Z"
   },
   {
    "duration": 19,
    "start_time": "2021-07-08T09:06:30.579Z"
   },
   {
    "duration": 20,
    "start_time": "2021-07-08T09:06:49.466Z"
   },
   {
    "duration": 9,
    "start_time": "2021-07-08T09:06:51.994Z"
   },
   {
    "duration": 20,
    "start_time": "2021-07-08T09:06:52.273Z"
   },
   {
    "duration": 246,
    "start_time": "2021-07-08T09:10:21.272Z"
   },
   {
    "duration": 84,
    "start_time": "2021-07-08T09:10:21.436Z"
   },
   {
    "duration": 7,
    "start_time": "2021-07-08T09:10:37.608Z"
   },
   {
    "duration": 189,
    "start_time": "2021-07-08T09:10:38.573Z"
   },
   {
    "duration": 185,
    "start_time": "2021-07-08T09:10:53.181Z"
   },
   {
    "duration": 11,
    "start_time": "2021-07-08T09:10:59.549Z"
   },
   {
    "duration": 42,
    "start_time": "2021-07-08T09:10:59.709Z"
   },
   {
    "duration": 12,
    "start_time": "2021-07-08T09:11:02.857Z"
   },
   {
    "duration": 28,
    "start_time": "2021-07-08T09:11:10.062Z"
   },
   {
    "duration": 249,
    "start_time": "2021-07-08T09:11:37.388Z"
   },
   {
    "duration": 232,
    "start_time": "2021-07-08T09:11:49.485Z"
   },
   {
    "duration": 453,
    "start_time": "2021-07-08T09:12:01.546Z"
   },
   {
    "duration": 440,
    "start_time": "2021-07-08T09:12:12.347Z"
   },
   {
    "duration": 213,
    "start_time": "2021-07-08T09:13:32.196Z"
   },
   {
    "duration": 172,
    "start_time": "2021-07-08T09:14:07.400Z"
   },
   {
    "duration": 185,
    "start_time": "2021-07-08T09:14:14.905Z"
   },
   {
    "duration": 209,
    "start_time": "2021-07-08T09:14:40.109Z"
   },
   {
    "duration": 201,
    "start_time": "2021-07-08T09:14:54.506Z"
   },
   {
    "duration": 622,
    "start_time": "2021-07-08T09:18:14.497Z"
   },
   {
    "duration": 220,
    "start_time": "2021-07-08T09:18:15.121Z"
   },
   {
    "duration": 79,
    "start_time": "2021-07-08T09:18:15.343Z"
   },
   {
    "duration": 4,
    "start_time": "2021-07-08T09:18:15.425Z"
   },
   {
    "duration": 24,
    "start_time": "2021-07-08T09:18:15.431Z"
   },
   {
    "duration": 8,
    "start_time": "2021-07-08T09:18:15.457Z"
   },
   {
    "duration": 16,
    "start_time": "2021-07-08T09:18:15.466Z"
   },
   {
    "duration": 5,
    "start_time": "2021-07-08T09:18:15.484Z"
   },
   {
    "duration": 10,
    "start_time": "2021-07-08T09:18:15.493Z"
   },
   {
    "duration": 8,
    "start_time": "2021-07-08T09:18:15.504Z"
   },
   {
    "duration": 7,
    "start_time": "2021-07-08T09:18:15.513Z"
   },
   {
    "duration": 26,
    "start_time": "2021-07-08T09:18:15.522Z"
   },
   {
    "duration": 49,
    "start_time": "2021-07-08T09:18:15.550Z"
   },
   {
    "duration": 21,
    "start_time": "2021-07-08T09:18:15.601Z"
   },
   {
    "duration": 8,
    "start_time": "2021-07-08T09:18:15.624Z"
   },
   {
    "duration": 3,
    "start_time": "2021-07-08T09:18:15.634Z"
   },
   {
    "duration": 8,
    "start_time": "2021-07-08T09:18:15.639Z"
   },
   {
    "duration": 45,
    "start_time": "2021-07-08T09:18:15.649Z"
   },
   {
    "duration": 13,
    "start_time": "2021-07-08T09:18:15.696Z"
   },
   {
    "duration": 10,
    "start_time": "2021-07-08T09:18:15.711Z"
   },
   {
    "duration": 64,
    "start_time": "2021-07-08T09:18:15.722Z"
   },
   {
    "duration": 19,
    "start_time": "2021-07-08T09:18:15.788Z"
   },
   {
    "duration": 9,
    "start_time": "2021-07-08T09:18:15.809Z"
   },
   {
    "duration": 9,
    "start_time": "2021-07-08T09:18:15.820Z"
   },
   {
    "duration": 18,
    "start_time": "2021-07-08T09:18:15.831Z"
   },
   {
    "duration": 43,
    "start_time": "2021-07-08T09:18:15.851Z"
   },
   {
    "duration": 12,
    "start_time": "2021-07-08T09:18:15.897Z"
   },
   {
    "duration": 219,
    "start_time": "2021-07-08T09:18:15.911Z"
   },
   {
    "duration": 8,
    "start_time": "2021-07-08T09:18:16.132Z"
   },
   {
    "duration": 199,
    "start_time": "2021-07-08T09:18:16.141Z"
   },
   {
    "duration": 18,
    "start_time": "2021-07-08T09:18:16.341Z"
   },
   {
    "duration": 24,
    "start_time": "2021-07-08T09:18:16.361Z"
   },
   {
    "duration": 24,
    "start_time": "2021-07-08T09:18:16.387Z"
   },
   {
    "duration": 211,
    "start_time": "2021-07-08T09:18:16.413Z"
   },
   {
    "duration": 18,
    "start_time": "2021-07-08T09:18:16.626Z"
   },
   {
    "duration": 596,
    "start_time": "2021-07-08T10:06:33.623Z"
   },
   {
    "duration": 181,
    "start_time": "2021-07-08T10:06:34.221Z"
   },
   {
    "duration": 176,
    "start_time": "2021-07-08T10:06:34.635Z"
   },
   {
    "duration": 239,
    "start_time": "2021-07-08T10:06:55.572Z"
   },
   {
    "duration": 6,
    "start_time": "2021-07-08T10:06:57.687Z"
   },
   {
    "duration": 4,
    "start_time": "2021-07-08T10:07:03.956Z"
   },
   {
    "duration": 4,
    "start_time": "2021-07-08T10:07:10.376Z"
   },
   {
    "duration": 4,
    "start_time": "2021-07-08T10:17:19.889Z"
   },
   {
    "duration": 3,
    "start_time": "2021-07-08T10:19:19.407Z"
   },
   {
    "duration": 197,
    "start_time": "2021-07-08T10:19:19.412Z"
   },
   {
    "duration": 127,
    "start_time": "2021-07-08T10:19:19.611Z"
   },
   {
    "duration": 4,
    "start_time": "2021-07-08T10:19:19.740Z"
   },
   {
    "duration": 27,
    "start_time": "2021-07-08T10:19:19.746Z"
   },
   {
    "duration": 7,
    "start_time": "2021-07-08T10:19:19.775Z"
   },
   {
    "duration": 30,
    "start_time": "2021-07-08T10:19:19.784Z"
   },
   {
    "duration": 7,
    "start_time": "2021-07-08T10:19:19.817Z"
   },
   {
    "duration": 26,
    "start_time": "2021-07-08T10:19:19.826Z"
   },
   {
    "duration": 18,
    "start_time": "2021-07-08T10:19:19.854Z"
   },
   {
    "duration": 14,
    "start_time": "2021-07-08T10:19:19.874Z"
   },
   {
    "duration": 48,
    "start_time": "2021-07-08T10:19:19.890Z"
   },
   {
    "duration": 17,
    "start_time": "2021-07-08T10:19:19.940Z"
   },
   {
    "duration": 38,
    "start_time": "2021-07-08T10:19:19.959Z"
   },
   {
    "duration": 8,
    "start_time": "2021-07-08T10:19:19.999Z"
   },
   {
    "duration": 15,
    "start_time": "2021-07-08T10:19:20.009Z"
   },
   {
    "duration": 22,
    "start_time": "2021-07-08T10:19:20.026Z"
   },
   {
    "duration": 10,
    "start_time": "2021-07-08T10:19:20.050Z"
   },
   {
    "duration": 10,
    "start_time": "2021-07-08T10:19:20.062Z"
   },
   {
    "duration": 20,
    "start_time": "2021-07-08T10:19:20.073Z"
   },
   {
    "duration": 29,
    "start_time": "2021-07-08T10:19:20.095Z"
   },
   {
    "duration": 17,
    "start_time": "2021-07-08T10:19:20.126Z"
   },
   {
    "duration": 40,
    "start_time": "2021-07-08T10:19:20.146Z"
   },
   {
    "duration": 15,
    "start_time": "2021-07-08T10:19:20.189Z"
   },
   {
    "duration": 19,
    "start_time": "2021-07-08T10:19:20.206Z"
   },
   {
    "duration": 10,
    "start_time": "2021-07-08T10:19:20.226Z"
   },
   {
    "duration": 11,
    "start_time": "2021-07-08T10:19:20.238Z"
   },
   {
    "duration": 297,
    "start_time": "2021-07-08T10:19:20.250Z"
   },
   {
    "duration": 6,
    "start_time": "2021-07-08T10:19:20.549Z"
   },
   {
    "duration": 191,
    "start_time": "2021-07-08T10:19:20.557Z"
   },
   {
    "duration": 19,
    "start_time": "2021-07-08T10:19:20.750Z"
   },
   {
    "duration": 20,
    "start_time": "2021-07-08T10:19:20.771Z"
   },
   {
    "duration": 15,
    "start_time": "2021-07-08T10:19:20.793Z"
   },
   {
    "duration": 222,
    "start_time": "2021-07-08T10:19:20.809Z"
   },
   {
    "duration": 20,
    "start_time": "2021-07-08T10:19:21.033Z"
   },
   {
    "duration": 27,
    "start_time": "2021-07-08T10:45:04.055Z"
   },
   {
    "duration": 8,
    "start_time": "2021-07-08T10:45:08.478Z"
   },
   {
    "duration": 8,
    "start_time": "2021-07-08T10:45:31.982Z"
   },
   {
    "duration": 10,
    "start_time": "2021-07-08T10:46:01.221Z"
   },
   {
    "duration": 17,
    "start_time": "2021-07-08T10:46:40.011Z"
   },
   {
    "duration": 193,
    "start_time": "2021-07-08T10:48:19.471Z"
   },
   {
    "duration": 225,
    "start_time": "2021-07-08T10:49:26.480Z"
   },
   {
    "duration": 204,
    "start_time": "2021-07-08T10:49:59.992Z"
   },
   {
    "duration": 435,
    "start_time": "2021-07-08T10:50:06.779Z"
   },
   {
    "duration": 199,
    "start_time": "2021-07-08T10:50:14.891Z"
   },
   {
    "duration": 204,
    "start_time": "2021-07-08T10:50:18.501Z"
   },
   {
    "duration": 244,
    "start_time": "2021-07-08T10:50:23.359Z"
   },
   {
    "duration": 192,
    "start_time": "2021-07-08T10:50:29.135Z"
   },
   {
    "duration": 218,
    "start_time": "2021-07-08T10:50:33.092Z"
   },
   {
    "duration": 207,
    "start_time": "2021-07-08T10:52:45.381Z"
   },
   {
    "duration": 5,
    "start_time": "2021-07-08T10:53:34.641Z"
   },
   {
    "duration": 196,
    "start_time": "2021-07-08T10:53:41.478Z"
   },
   {
    "duration": 43,
    "start_time": "2021-07-08T10:53:50.335Z"
   },
   {
    "duration": 32,
    "start_time": "2021-07-08T10:53:55.294Z"
   },
   {
    "duration": 55,
    "start_time": "2021-07-08T10:54:09.675Z"
   },
   {
    "duration": 16,
    "start_time": "2021-07-08T10:54:12.260Z"
   },
   {
    "duration": 15,
    "start_time": "2021-07-08T10:54:49.150Z"
   },
   {
    "duration": 20,
    "start_time": "2021-07-08T10:56:07.596Z"
   },
   {
    "duration": 16,
    "start_time": "2021-07-08T10:58:26.276Z"
   },
   {
    "duration": 22,
    "start_time": "2021-07-08T10:59:00.486Z"
   },
   {
    "duration": 18,
    "start_time": "2021-07-08T11:02:09.653Z"
   },
   {
    "duration": 10,
    "start_time": "2021-07-08T11:03:44.331Z"
   },
   {
    "duration": 10,
    "start_time": "2021-07-08T11:03:54.055Z"
   },
   {
    "duration": 12,
    "start_time": "2021-07-08T11:04:41.967Z"
   },
   {
    "duration": 24,
    "start_time": "2021-07-08T11:07:30.732Z"
   },
   {
    "duration": 6,
    "start_time": "2021-07-08T11:07:37.364Z"
   },
   {
    "duration": 16,
    "start_time": "2021-07-08T11:08:01.819Z"
   },
   {
    "duration": 17,
    "start_time": "2021-07-08T11:09:47.488Z"
   },
   {
    "duration": 246,
    "start_time": "2021-07-08T11:10:00.830Z"
   },
   {
    "duration": 18,
    "start_time": "2021-07-08T11:13:55.195Z"
   },
   {
    "duration": 204,
    "start_time": "2021-07-08T11:14:04.951Z"
   },
   {
    "duration": 19,
    "start_time": "2021-07-08T11:15:10.613Z"
   },
   {
    "duration": 680,
    "start_time": "2021-07-08T11:16:25.793Z"
   },
   {
    "duration": 451,
    "start_time": "2021-07-08T11:16:40.313Z"
   },
   {
    "duration": 469,
    "start_time": "2021-07-08T11:17:21.286Z"
   },
   {
    "duration": 20,
    "start_time": "2021-07-08T11:19:12.554Z"
   },
   {
    "duration": 35,
    "start_time": "2021-07-08T11:20:05.484Z"
   },
   {
    "duration": 53,
    "start_time": "2021-07-08T11:21:40.050Z"
   },
   {
    "duration": 13,
    "start_time": "2021-07-08T11:22:26.059Z"
   },
   {
    "duration": 19,
    "start_time": "2021-07-08T11:22:47.419Z"
   },
   {
    "duration": 25,
    "start_time": "2021-07-08T11:23:19.958Z"
   },
   {
    "duration": 29,
    "start_time": "2021-07-08T11:23:25.415Z"
   },
   {
    "duration": 10,
    "start_time": "2021-07-08T11:24:45.138Z"
   },
   {
    "duration": 19,
    "start_time": "2021-07-08T11:24:54.498Z"
   },
   {
    "duration": 12,
    "start_time": "2021-07-08T11:25:32.225Z"
   },
   {
    "duration": 19,
    "start_time": "2021-07-08T11:25:37.092Z"
   },
   {
    "duration": 17,
    "start_time": "2021-07-08T11:25:58.116Z"
   },
   {
    "duration": 15,
    "start_time": "2021-07-08T11:26:02.258Z"
   },
   {
    "duration": 8,
    "start_time": "2021-07-08T11:26:59.682Z"
   },
   {
    "duration": 184,
    "start_time": "2021-07-08T11:27:21.894Z"
   },
   {
    "duration": 8,
    "start_time": "2021-07-08T11:27:23.824Z"
   },
   {
    "duration": 202,
    "start_time": "2021-07-08T11:27:23.962Z"
   },
   {
    "duration": 360,
    "start_time": "2021-07-08T11:28:33.215Z"
   },
   {
    "duration": 231,
    "start_time": "2021-07-08T11:32:05.542Z"
   },
   {
    "duration": 607,
    "start_time": "2021-07-08T11:36:27.854Z"
   },
   {
    "duration": 241,
    "start_time": "2021-07-08T11:36:28.463Z"
   },
   {
    "duration": 67,
    "start_time": "2021-07-08T11:36:28.709Z"
   },
   {
    "duration": 5,
    "start_time": "2021-07-08T11:36:28.778Z"
   },
   {
    "duration": 32,
    "start_time": "2021-07-08T11:36:28.784Z"
   },
   {
    "duration": 11,
    "start_time": "2021-07-08T11:36:28.819Z"
   },
   {
    "duration": 20,
    "start_time": "2021-07-08T11:36:28.834Z"
   },
   {
    "duration": 36,
    "start_time": "2021-07-08T11:36:28.857Z"
   },
   {
    "duration": 16,
    "start_time": "2021-07-08T11:36:28.895Z"
   },
   {
    "duration": 14,
    "start_time": "2021-07-08T11:36:28.913Z"
   },
   {
    "duration": 9,
    "start_time": "2021-07-08T11:36:28.930Z"
   },
   {
    "duration": 55,
    "start_time": "2021-07-08T11:36:28.941Z"
   },
   {
    "duration": 27,
    "start_time": "2021-07-08T11:36:28.999Z"
   },
   {
    "duration": 30,
    "start_time": "2021-07-08T11:36:29.028Z"
   },
   {
    "duration": 31,
    "start_time": "2021-07-08T11:36:29.060Z"
   },
   {
    "duration": 3,
    "start_time": "2021-07-08T11:36:29.093Z"
   },
   {
    "duration": 12,
    "start_time": "2021-07-08T11:36:29.099Z"
   },
   {
    "duration": 11,
    "start_time": "2021-07-08T11:36:29.112Z"
   },
   {
    "duration": 12,
    "start_time": "2021-07-08T11:36:29.125Z"
   },
   {
    "duration": 9,
    "start_time": "2021-07-08T11:36:29.139Z"
   },
   {
    "duration": 31,
    "start_time": "2021-07-08T11:36:29.191Z"
   },
   {
    "duration": 17,
    "start_time": "2021-07-08T11:36:29.226Z"
   },
   {
    "duration": 7,
    "start_time": "2021-07-08T11:36:29.245Z"
   },
   {
    "duration": 10,
    "start_time": "2021-07-08T11:36:29.254Z"
   },
   {
    "duration": 30,
    "start_time": "2021-07-08T11:36:29.292Z"
   },
   {
    "duration": 11,
    "start_time": "2021-07-08T11:36:29.324Z"
   },
   {
    "duration": 11,
    "start_time": "2021-07-08T11:36:29.337Z"
   },
   {
    "duration": 230,
    "start_time": "2021-07-08T11:36:29.349Z"
   },
   {
    "duration": 13,
    "start_time": "2021-07-08T11:36:29.588Z"
   },
   {
    "duration": 205,
    "start_time": "2021-07-08T11:36:29.603Z"
   },
   {
    "duration": 20,
    "start_time": "2021-07-08T11:36:29.810Z"
   },
   {
    "duration": 9,
    "start_time": "2021-07-08T11:36:29.832Z"
   },
   {
    "duration": 16,
    "start_time": "2021-07-08T11:36:29.843Z"
   },
   {
    "duration": 283,
    "start_time": "2021-07-08T11:36:29.861Z"
   },
   {
    "duration": 50,
    "start_time": "2021-07-08T11:36:30.146Z"
   },
   {
    "duration": 14,
    "start_time": "2021-07-08T11:36:30.198Z"
   },
   {
    "duration": 11,
    "start_time": "2021-07-08T11:36:30.214Z"
   },
   {
    "duration": 245,
    "start_time": "2021-07-08T11:36:30.227Z"
   },
   {
    "duration": 439,
    "start_time": "2021-07-08T11:36:30.474Z"
   },
   {
    "duration": 210,
    "start_time": "2021-07-08T11:36:30.915Z"
   },
   {
    "duration": 15,
    "start_time": "2021-07-08T11:36:31.127Z"
   },
   {
    "duration": 17,
    "start_time": "2021-07-08T11:38:20.451Z"
   },
   {
    "duration": 642,
    "start_time": "2021-07-08T11:46:17.881Z"
   },
   {
    "duration": 210,
    "start_time": "2021-07-08T11:46:18.525Z"
   },
   {
    "duration": 104,
    "start_time": "2021-07-08T11:46:18.741Z"
   },
   {
    "duration": 8,
    "start_time": "2021-07-08T11:46:18.847Z"
   },
   {
    "duration": 25,
    "start_time": "2021-07-08T11:46:18.857Z"
   },
   {
    "duration": 14,
    "start_time": "2021-07-08T11:46:18.884Z"
   },
   {
    "duration": 22,
    "start_time": "2021-07-08T11:46:18.900Z"
   },
   {
    "duration": 5,
    "start_time": "2021-07-08T11:46:18.924Z"
   },
   {
    "duration": 13,
    "start_time": "2021-07-08T11:46:18.931Z"
   },
   {
    "duration": 45,
    "start_time": "2021-07-08T11:46:18.946Z"
   },
   {
    "duration": 12,
    "start_time": "2021-07-08T11:46:18.993Z"
   },
   {
    "duration": 38,
    "start_time": "2021-07-08T11:46:19.006Z"
   },
   {
    "duration": 50,
    "start_time": "2021-07-08T11:46:19.046Z"
   },
   {
    "duration": 29,
    "start_time": "2021-07-08T11:46:19.099Z"
   },
   {
    "duration": 7,
    "start_time": "2021-07-08T11:46:19.130Z"
   },
   {
    "duration": 3,
    "start_time": "2021-07-08T11:46:19.139Z"
   },
   {
    "duration": 11,
    "start_time": "2021-07-08T11:46:19.144Z"
   },
   {
    "duration": 40,
    "start_time": "2021-07-08T11:46:19.157Z"
   },
   {
    "duration": 15,
    "start_time": "2021-07-08T11:46:19.199Z"
   },
   {
    "duration": 10,
    "start_time": "2021-07-08T11:46:19.217Z"
   },
   {
    "duration": 68,
    "start_time": "2021-07-08T11:46:19.230Z"
   },
   {
    "duration": 17,
    "start_time": "2021-07-08T11:46:19.301Z"
   },
   {
    "duration": 7,
    "start_time": "2021-07-08T11:46:19.321Z"
   },
   {
    "duration": 11,
    "start_time": "2021-07-08T11:46:19.330Z"
   },
   {
    "duration": 59,
    "start_time": "2021-07-08T11:46:19.343Z"
   },
   {
    "duration": 17,
    "start_time": "2021-07-08T11:46:19.405Z"
   },
   {
    "duration": 16,
    "start_time": "2021-07-08T11:46:19.424Z"
   },
   {
    "duration": 252,
    "start_time": "2021-07-08T11:46:19.443Z"
   },
   {
    "duration": 9,
    "start_time": "2021-07-08T11:46:19.697Z"
   },
   {
    "duration": 224,
    "start_time": "2021-07-08T11:46:19.708Z"
   },
   {
    "duration": 21,
    "start_time": "2021-07-08T11:46:19.934Z"
   },
   {
    "duration": 9,
    "start_time": "2021-07-08T11:46:19.956Z"
   },
   {
    "duration": 32,
    "start_time": "2021-07-08T11:46:19.967Z"
   },
   {
    "duration": 288,
    "start_time": "2021-07-08T11:46:20.004Z"
   },
   {
    "duration": 23,
    "start_time": "2021-07-08T11:46:20.300Z"
   },
   {
    "duration": 11,
    "start_time": "2021-07-08T11:46:20.325Z"
   },
   {
    "duration": 11,
    "start_time": "2021-07-08T11:46:20.339Z"
   },
   {
    "duration": 259,
    "start_time": "2021-07-08T11:46:20.352Z"
   },
   {
    "duration": 438,
    "start_time": "2021-07-08T11:46:20.613Z"
   },
   {
    "duration": 207,
    "start_time": "2021-07-08T11:46:21.054Z"
   },
   {
    "duration": 27,
    "start_time": "2021-07-08T11:46:21.262Z"
   },
   {
    "duration": 19,
    "start_time": "2021-07-08T11:46:21.291Z"
   },
   {
    "duration": 820,
    "start_time": "2021-07-08T11:49:01.655Z"
   },
   {
    "duration": 372,
    "start_time": "2021-07-08T11:49:02.478Z"
   },
   {
    "duration": 98,
    "start_time": "2021-07-08T11:49:02.853Z"
   },
   {
    "duration": 6,
    "start_time": "2021-07-08T11:49:02.953Z"
   },
   {
    "duration": 39,
    "start_time": "2021-07-08T11:49:02.960Z"
   },
   {
    "duration": 9,
    "start_time": "2021-07-08T11:49:03.003Z"
   },
   {
    "duration": 23,
    "start_time": "2021-07-08T11:49:03.014Z"
   },
   {
    "duration": 6,
    "start_time": "2021-07-08T11:49:03.041Z"
   },
   {
    "duration": 20,
    "start_time": "2021-07-08T11:49:03.049Z"
   },
   {
    "duration": 18,
    "start_time": "2021-07-08T11:49:03.084Z"
   },
   {
    "duration": 14,
    "start_time": "2021-07-08T11:49:03.104Z"
   },
   {
    "duration": 39,
    "start_time": "2021-07-08T11:49:03.119Z"
   },
   {
    "duration": 38,
    "start_time": "2021-07-08T11:49:03.160Z"
   },
   {
    "duration": 26,
    "start_time": "2021-07-08T11:49:03.200Z"
   },
   {
    "duration": 7,
    "start_time": "2021-07-08T11:49:03.227Z"
   },
   {
    "duration": 4,
    "start_time": "2021-07-08T11:49:03.236Z"
   },
   {
    "duration": 15,
    "start_time": "2021-07-08T11:49:03.243Z"
   },
   {
    "duration": 21,
    "start_time": "2021-07-08T11:49:03.285Z"
   },
   {
    "duration": 17,
    "start_time": "2021-07-08T11:49:03.309Z"
   },
   {
    "duration": 10,
    "start_time": "2021-07-08T11:49:03.328Z"
   },
   {
    "duration": 65,
    "start_time": "2021-07-08T11:49:03.340Z"
   },
   {
    "duration": 18,
    "start_time": "2021-07-08T11:49:03.407Z"
   },
   {
    "duration": 8,
    "start_time": "2021-07-08T11:49:03.428Z"
   },
   {
    "duration": 15,
    "start_time": "2021-07-08T11:49:03.438Z"
   },
   {
    "duration": 40,
    "start_time": "2021-07-08T11:49:03.455Z"
   },
   {
    "duration": 12,
    "start_time": "2021-07-08T11:49:03.497Z"
   },
   {
    "duration": 29,
    "start_time": "2021-07-08T11:49:03.511Z"
   },
   {
    "duration": 285,
    "start_time": "2021-07-08T11:49:03.542Z"
   },
   {
    "duration": 8,
    "start_time": "2021-07-08T11:49:03.829Z"
   },
   {
    "duration": 227,
    "start_time": "2021-07-08T11:49:03.838Z"
   },
   {
    "duration": 40,
    "start_time": "2021-07-08T11:49:04.066Z"
   },
   {
    "duration": 10,
    "start_time": "2021-07-08T11:49:04.108Z"
   },
   {
    "duration": 26,
    "start_time": "2021-07-08T11:49:04.121Z"
   },
   {
    "duration": 290,
    "start_time": "2021-07-08T11:49:04.149Z"
   },
   {
    "duration": 26,
    "start_time": "2021-07-08T11:49:04.441Z"
   },
   {
    "duration": 31,
    "start_time": "2021-07-08T11:49:04.470Z"
   },
   {
    "duration": 14,
    "start_time": "2021-07-08T11:49:04.503Z"
   },
   {
    "duration": 259,
    "start_time": "2021-07-08T11:49:04.521Z"
   },
   {
    "duration": 480,
    "start_time": "2021-07-08T11:49:04.782Z"
   },
   {
    "duration": 225,
    "start_time": "2021-07-08T11:49:05.264Z"
   },
   {
    "duration": 22,
    "start_time": "2021-07-08T11:49:05.491Z"
   },
   {
    "duration": 24,
    "start_time": "2021-07-08T11:49:05.515Z"
   },
   {
    "duration": 634,
    "start_time": "2021-07-08T11:52:24.960Z"
   },
   {
    "duration": 199,
    "start_time": "2021-07-08T11:52:25.599Z"
   },
   {
    "duration": 106,
    "start_time": "2021-07-08T11:52:25.803Z"
   },
   {
    "duration": 7,
    "start_time": "2021-07-08T11:52:25.911Z"
   },
   {
    "duration": 29,
    "start_time": "2021-07-08T11:52:25.920Z"
   },
   {
    "duration": 7,
    "start_time": "2021-07-08T11:52:25.951Z"
   },
   {
    "duration": 26,
    "start_time": "2021-07-08T11:52:25.961Z"
   },
   {
    "duration": 11,
    "start_time": "2021-07-08T11:52:25.990Z"
   },
   {
    "duration": 29,
    "start_time": "2021-07-08T11:52:26.005Z"
   },
   {
    "duration": 9,
    "start_time": "2021-07-08T11:52:26.036Z"
   },
   {
    "duration": 8,
    "start_time": "2021-07-08T11:52:26.047Z"
   },
   {
    "duration": 63,
    "start_time": "2021-07-08T11:52:26.057Z"
   },
   {
    "duration": 17,
    "start_time": "2021-07-08T11:52:26.122Z"
   },
   {
    "duration": 43,
    "start_time": "2021-07-08T11:52:26.142Z"
   },
   {
    "duration": 17,
    "start_time": "2021-07-08T11:52:26.187Z"
   },
   {
    "duration": 5,
    "start_time": "2021-07-08T11:52:26.206Z"
   },
   {
    "duration": 12,
    "start_time": "2021-07-08T11:52:26.212Z"
   },
   {
    "duration": 11,
    "start_time": "2021-07-08T11:52:26.226Z"
   },
   {
    "duration": 12,
    "start_time": "2021-07-08T11:52:26.238Z"
   },
   {
    "duration": 38,
    "start_time": "2021-07-08T11:52:26.252Z"
   },
   {
    "duration": 40,
    "start_time": "2021-07-08T11:52:26.292Z"
   },
   {
    "duration": 17,
    "start_time": "2021-07-08T11:52:26.336Z"
   },
   {
    "duration": 39,
    "start_time": "2021-07-08T11:52:26.355Z"
   },
   {
    "duration": 11,
    "start_time": "2021-07-08T11:52:26.395Z"
   },
   {
    "duration": 23,
    "start_time": "2021-07-08T11:52:26.408Z"
   },
   {
    "duration": 12,
    "start_time": "2021-07-08T11:52:26.432Z"
   },
   {
    "duration": 41,
    "start_time": "2021-07-08T11:52:26.446Z"
   },
   {
    "duration": 215,
    "start_time": "2021-07-08T11:52:26.493Z"
   },
   {
    "duration": 8,
    "start_time": "2021-07-08T11:52:26.710Z"
   },
   {
    "duration": 228,
    "start_time": "2021-07-08T11:52:26.720Z"
   },
   {
    "duration": 18,
    "start_time": "2021-07-08T11:52:26.950Z"
   },
   {
    "duration": 35,
    "start_time": "2021-07-08T11:52:26.969Z"
   },
   {
    "duration": 23,
    "start_time": "2021-07-08T11:52:27.006Z"
   },
   {
    "duration": 258,
    "start_time": "2021-07-08T11:52:27.030Z"
   },
   {
    "duration": 24,
    "start_time": "2021-07-08T11:52:27.290Z"
   },
   {
    "duration": 12,
    "start_time": "2021-07-08T11:52:27.316Z"
   },
   {
    "duration": 10,
    "start_time": "2021-07-08T11:52:27.329Z"
   },
   {
    "duration": 298,
    "start_time": "2021-07-08T11:52:27.341Z"
   },
   {
    "duration": 436,
    "start_time": "2021-07-08T11:52:27.641Z"
   },
   {
    "duration": 216,
    "start_time": "2021-07-08T11:52:28.079Z"
   },
   {
    "duration": 20,
    "start_time": "2021-07-08T11:52:28.297Z"
   },
   {
    "duration": 17,
    "start_time": "2021-07-08T11:52:28.319Z"
   },
   {
    "duration": 871,
    "start_time": "2021-11-15T08:59:33.508Z"
   },
   {
    "duration": 100,
    "start_time": "2021-11-15T09:00:26.891Z"
   },
   {
    "duration": 43,
    "start_time": "2021-11-15T09:00:31.965Z"
   },
   {
    "duration": 40,
    "start_time": "2021-11-15T09:00:46.627Z"
   },
   {
    "duration": 95,
    "start_time": "2021-11-15T09:00:52.430Z"
   },
   {
    "duration": 90,
    "start_time": "2021-11-15T09:01:01.277Z"
   },
   {
    "duration": 410,
    "start_time": "2021-11-15T09:04:30.250Z"
   },
   {
    "duration": 291,
    "start_time": "2021-11-15T09:04:52.393Z"
   },
   {
    "duration": 334,
    "start_time": "2021-11-15T09:04:56.672Z"
   },
   {
    "duration": 308,
    "start_time": "2021-11-15T09:05:07.715Z"
   },
   {
    "duration": 295,
    "start_time": "2021-11-15T09:05:48.417Z"
   },
   {
    "duration": 509,
    "start_time": "2021-11-15T09:05:58.745Z"
   },
   {
    "duration": 37,
    "start_time": "2021-11-15T09:06:19.103Z"
   },
   {
    "duration": 4,
    "start_time": "2021-11-15T09:06:24.079Z"
   },
   {
    "duration": 87,
    "start_time": "2021-11-15T09:06:30.554Z"
   },
   {
    "duration": 40,
    "start_time": "2021-11-15T09:07:23.703Z"
   },
   {
    "duration": 13,
    "start_time": "2021-11-15T09:07:29.293Z"
   },
   {
    "duration": 21,
    "start_time": "2021-11-15T09:07:34.566Z"
   },
   {
    "duration": 850,
    "start_time": "2021-11-15T09:07:44.637Z"
   },
   {
    "duration": 41,
    "start_time": "2021-11-15T09:07:45.490Z"
   },
   {
    "duration": 32,
    "start_time": "2021-11-15T09:07:45.534Z"
   },
   {
    "duration": 25,
    "start_time": "2021-11-15T09:07:57.359Z"
   },
   {
    "duration": 25,
    "start_time": "2021-11-15T09:08:03.505Z"
   },
   {
    "duration": 37,
    "start_time": "2021-11-15T09:08:23.198Z"
   },
   {
    "duration": 42,
    "start_time": "2021-11-15T09:08:47.854Z"
   },
   {
    "duration": 24,
    "start_time": "2021-11-15T09:08:58.143Z"
   },
   {
    "duration": 43,
    "start_time": "2021-11-15T09:09:03.670Z"
   },
   {
    "duration": 13,
    "start_time": "2021-11-15T09:10:18.197Z"
   },
   {
    "duration": 35,
    "start_time": "2021-11-15T09:23:08.728Z"
   },
   {
    "duration": 59,
    "start_time": "2021-11-15T09:23:14.990Z"
   },
   {
    "duration": 35,
    "start_time": "2021-11-15T09:23:28.102Z"
   },
   {
    "duration": 40,
    "start_time": "2021-11-15T09:24:22.453Z"
   },
   {
    "duration": 796,
    "start_time": "2021-11-15T09:24:26.851Z"
   },
   {
    "duration": 41,
    "start_time": "2021-11-15T09:24:27.650Z"
   },
   {
    "duration": 49,
    "start_time": "2021-11-15T09:24:27.695Z"
   },
   {
    "duration": 42,
    "start_time": "2021-11-15T09:24:48.189Z"
   },
   {
    "duration": 38,
    "start_time": "2021-11-15T09:25:23.621Z"
   },
   {
    "duration": 10,
    "start_time": "2021-11-15T09:25:40.788Z"
   },
   {
    "duration": 42,
    "start_time": "2021-11-15T09:26:01.782Z"
   },
   {
    "duration": 52,
    "start_time": "2021-11-15T09:26:12.213Z"
   },
   {
    "duration": 54,
    "start_time": "2021-11-15T09:26:32.725Z"
   },
   {
    "duration": 40,
    "start_time": "2021-11-15T09:27:07.035Z"
   },
   {
    "duration": 373,
    "start_time": "2021-11-15T09:27:51.397Z"
   },
   {
    "duration": 336,
    "start_time": "2021-11-15T09:27:57.299Z"
   },
   {
    "duration": 856,
    "start_time": "2021-11-15T09:28:06.905Z"
   },
   {
    "duration": 40,
    "start_time": "2021-11-15T09:28:07.764Z"
   },
   {
    "duration": 14,
    "start_time": "2021-11-15T09:28:07.807Z"
   },
   {
    "duration": 73,
    "start_time": "2021-11-15T09:28:07.824Z"
   },
   {
    "duration": 1191,
    "start_time": "2021-11-15T09:29:08.118Z"
   },
   {
    "duration": 863,
    "start_time": "2021-11-15T09:29:18.990Z"
   },
   {
    "duration": 41,
    "start_time": "2021-11-15T09:29:19.857Z"
   },
   {
    "duration": 1229,
    "start_time": "2021-11-15T09:29:19.901Z"
   },
   {
    "duration": -208,
    "start_time": "2021-11-15T09:29:21.341Z"
   },
   {
    "duration": 16,
    "start_time": "2021-11-15T09:30:01.164Z"
   },
   {
    "duration": 798,
    "start_time": "2021-11-15T09:30:16.323Z"
   },
   {
    "duration": 325,
    "start_time": "2021-11-15T09:30:22.427Z"
   },
   {
    "duration": 15,
    "start_time": "2021-11-15T09:30:29.570Z"
   },
   {
    "duration": 64,
    "start_time": "2021-11-15T09:30:40.952Z"
   },
   {
    "duration": 569,
    "start_time": "2021-11-15T18:27:52.952Z"
   },
   {
    "duration": 60,
    "start_time": "2021-11-15T18:27:53.523Z"
   },
   {
    "duration": 9,
    "start_time": "2021-11-15T18:27:53.585Z"
   },
   {
    "duration": 41,
    "start_time": "2021-11-15T18:27:53.596Z"
   },
   {
    "duration": 230,
    "start_time": "2021-11-15T18:28:37.787Z"
   },
   {
    "duration": 715,
    "start_time": "2021-11-15T18:29:49.449Z"
   },
   {
    "duration": 65,
    "start_time": "2021-11-15T18:30:13.268Z"
   },
   {
    "duration": 47,
    "start_time": "2021-11-15T18:30:29.185Z"
   },
   {
    "duration": 7,
    "start_time": "2021-11-15T18:30:37.032Z"
   },
   {
    "duration": 40,
    "start_time": "2021-11-15T18:30:56.231Z"
   },
   {
    "duration": 29,
    "start_time": "2021-11-15T18:32:13.355Z"
   },
   {
    "duration": 30,
    "start_time": "2021-11-15T18:32:20.247Z"
   },
   {
    "duration": 38,
    "start_time": "2021-11-15T18:32:31.680Z"
   },
   {
    "duration": 242,
    "start_time": "2021-11-15T18:35:40.756Z"
   },
   {
    "duration": 68,
    "start_time": "2021-11-15T18:35:49.274Z"
   },
   {
    "duration": 78,
    "start_time": "2021-11-15T18:36:06.650Z"
   },
   {
    "duration": 6,
    "start_time": "2021-11-15T18:36:34.347Z"
   },
   {
    "duration": 175,
    "start_time": "2021-11-15T18:36:40.626Z"
   },
   {
    "duration": 5,
    "start_time": "2021-11-15T18:36:51.900Z"
   },
   {
    "duration": 52,
    "start_time": "2021-11-15T18:37:36.749Z"
   },
   {
    "duration": 171,
    "start_time": "2021-11-15T18:38:30.948Z"
   },
   {
    "duration": 615,
    "start_time": "2021-11-15T18:38:38.902Z"
   },
   {
    "duration": 4,
    "start_time": "2021-11-15T18:38:39.518Z"
   },
   {
    "duration": 73,
    "start_time": "2021-11-15T18:38:39.524Z"
   },
   {
    "duration": 23,
    "start_time": "2021-11-15T18:38:39.599Z"
   },
   {
    "duration": 40,
    "start_time": "2021-11-15T18:38:39.624Z"
   },
   {
    "duration": 281,
    "start_time": "2021-11-15T18:39:12.028Z"
   },
   {
    "duration": 6,
    "start_time": "2021-11-15T18:40:57.475Z"
   },
   {
    "duration": 12,
    "start_time": "2021-11-15T18:41:00.351Z"
   },
   {
    "duration": 20,
    "start_time": "2021-11-15T18:42:06.411Z"
   },
   {
    "duration": 629,
    "start_time": "2021-11-15T18:42:16.012Z"
   },
   {
    "duration": 63,
    "start_time": "2021-11-15T18:42:16.643Z"
   },
   {
    "duration": 6,
    "start_time": "2021-11-15T18:42:16.708Z"
   },
   {
    "duration": 22,
    "start_time": "2021-11-15T18:42:16.716Z"
   },
   {
    "duration": 23,
    "start_time": "2021-11-15T18:42:26.253Z"
   },
   {
    "duration": 594,
    "start_time": "2021-11-15T18:43:10.342Z"
   },
   {
    "duration": 51,
    "start_time": "2021-11-15T18:43:10.938Z"
   },
   {
    "duration": 6,
    "start_time": "2021-11-15T18:43:10.990Z"
   },
   {
    "duration": 24,
    "start_time": "2021-11-15T18:43:10.998Z"
   },
   {
    "duration": 41,
    "start_time": "2021-11-15T18:43:49.352Z"
   },
   {
    "duration": 31,
    "start_time": "2021-11-15T18:44:07.767Z"
   },
   {
    "duration": 35,
    "start_time": "2021-11-15T18:44:13.588Z"
   },
   {
    "duration": 243,
    "start_time": "2021-11-15T18:45:57.885Z"
   },
   {
    "duration": 176,
    "start_time": "2021-11-15T18:46:07.093Z"
   },
   {
    "duration": 174,
    "start_time": "2021-11-15T18:46:11.972Z"
   },
   {
    "duration": 170,
    "start_time": "2021-11-15T18:46:20.165Z"
   },
   {
    "duration": 8,
    "start_time": "2021-11-15T18:48:19.062Z"
   },
   {
    "duration": 59,
    "start_time": "2021-11-15T18:48:53.091Z"
   },
   {
    "duration": 171,
    "start_time": "2021-11-15T18:48:59.311Z"
   },
   {
    "duration": 7,
    "start_time": "2021-11-15T18:49:32.168Z"
   },
   {
    "duration": 18,
    "start_time": "2021-11-15T18:49:41.212Z"
   },
   {
    "duration": 21,
    "start_time": "2021-11-15T18:49:47.908Z"
   },
   {
    "duration": 42,
    "start_time": "2021-11-15T18:49:55.969Z"
   },
   {
    "duration": 37,
    "start_time": "2021-11-15T18:50:02.767Z"
   },
   {
    "duration": 185,
    "start_time": "2021-11-15T18:50:54.161Z"
   },
   {
    "duration": 40,
    "start_time": "2021-11-15T18:51:06.094Z"
   },
   {
    "duration": 4,
    "start_time": "2021-11-15T18:57:43.914Z"
   },
   {
    "duration": 5,
    "start_time": "2021-11-15T18:58:03.831Z"
   },
   {
    "duration": 5,
    "start_time": "2021-11-15T18:58:15.398Z"
   },
   {
    "duration": 52,
    "start_time": "2021-11-15T18:58:35.803Z"
   },
   {
    "duration": 75,
    "start_time": "2021-11-15T18:58:41.512Z"
   },
   {
    "duration": 7,
    "start_time": "2021-11-15T18:58:59.630Z"
   },
   {
    "duration": 37,
    "start_time": "2021-11-15T18:59:00.773Z"
   },
   {
    "duration": 18,
    "start_time": "2021-11-15T19:03:06.002Z"
   },
   {
    "duration": 35,
    "start_time": "2021-11-15T19:03:20.800Z"
   },
   {
    "duration": 38,
    "start_time": "2021-11-15T19:10:42.122Z"
   },
   {
    "duration": 884,
    "start_time": "2021-11-17T12:26:09.630Z"
   },
   {
    "duration": 47,
    "start_time": "2021-11-17T12:26:10.516Z"
   },
   {
    "duration": 9,
    "start_time": "2021-11-17T12:26:10.566Z"
   },
   {
    "duration": 396,
    "start_time": "2021-11-17T12:29:14.282Z"
   },
   {
    "duration": 328,
    "start_time": "2021-11-17T12:29:23.210Z"
   },
   {
    "duration": 337,
    "start_time": "2021-11-17T12:32:32.274Z"
   },
   {
    "duration": 53,
    "start_time": "2021-11-17T12:33:13.028Z"
   },
   {
    "duration": 49,
    "start_time": "2021-11-17T12:33:22.447Z"
   },
   {
    "duration": 10,
    "start_time": "2021-11-17T12:33:27.477Z"
   },
   {
    "duration": 317,
    "start_time": "2021-11-17T12:33:27.999Z"
   },
   {
    "duration": 319,
    "start_time": "2021-11-17T12:33:33.128Z"
   },
   {
    "duration": 15,
    "start_time": "2021-11-17T12:34:49.631Z"
   },
   {
    "duration": 22,
    "start_time": "2021-11-17T12:34:53.301Z"
   },
   {
    "duration": 22,
    "start_time": "2021-11-17T12:35:07.575Z"
   },
   {
    "duration": 53,
    "start_time": "2021-11-17T12:35:15.350Z"
   },
   {
    "duration": 327,
    "start_time": "2021-11-17T12:35:47.517Z"
   },
   {
    "duration": 7,
    "start_time": "2021-11-17T12:35:52.390Z"
   },
   {
    "duration": 47,
    "start_time": "2021-11-17T12:36:02.863Z"
   },
   {
    "duration": 13,
    "start_time": "2021-11-17T12:36:40.630Z"
   },
   {
    "duration": 37,
    "start_time": "2021-11-17T12:36:41.054Z"
   },
   {
    "duration": 855,
    "start_time": "2021-11-17T12:36:51.954Z"
   },
   {
    "duration": 49,
    "start_time": "2021-11-17T12:36:52.812Z"
   },
   {
    "duration": 8,
    "start_time": "2021-11-17T12:36:52.864Z"
   },
   {
    "duration": 411,
    "start_time": "2021-11-17T12:36:52.875Z"
   },
   {
    "duration": -2836,
    "start_time": "2021-11-17T12:36:56.124Z"
   },
   {
    "duration": 10,
    "start_time": "2021-11-17T12:37:00.424Z"
   },
   {
    "duration": 41,
    "start_time": "2021-11-17T12:37:00.817Z"
   },
   {
    "duration": 7,
    "start_time": "2021-11-17T12:37:07.392Z"
   },
   {
    "duration": 10,
    "start_time": "2021-11-17T12:43:39.479Z"
   },
   {
    "duration": 4,
    "start_time": "2021-11-17T12:54:50.319Z"
   },
   {
    "duration": 35,
    "start_time": "2021-11-17T12:56:19.605Z"
   },
   {
    "duration": 9,
    "start_time": "2021-11-17T13:05:07.240Z"
   },
   {
    "duration": 42,
    "start_time": "2021-11-17T13:05:16.880Z"
   },
   {
    "duration": 44,
    "start_time": "2021-11-17T13:05:46.051Z"
   },
   {
    "duration": 315,
    "start_time": "2021-11-17T13:06:51.470Z"
   },
   {
    "duration": 315,
    "start_time": "2021-11-17T13:07:42.262Z"
   },
   {
    "duration": 25,
    "start_time": "2021-11-17T13:09:32.311Z"
   },
   {
    "duration": 48,
    "start_time": "2021-11-17T13:09:52.500Z"
   },
   {
    "duration": 5,
    "start_time": "2021-11-17T13:13:32.317Z"
   },
   {
    "duration": 48,
    "start_time": "2021-11-17T13:13:34.824Z"
   },
   {
    "duration": 899,
    "start_time": "2021-11-17T13:14:06.571Z"
   },
   {
    "duration": 47,
    "start_time": "2021-11-17T13:14:07.472Z"
   },
   {
    "duration": 3,
    "start_time": "2021-11-17T13:14:07.522Z"
   },
   {
    "duration": 41,
    "start_time": "2021-11-17T13:14:07.528Z"
   },
   {
    "duration": 66,
    "start_time": "2021-11-17T13:14:07.571Z"
   },
   {
    "duration": 70,
    "start_time": "2021-11-17T13:14:07.640Z"
   },
   {
    "duration": 913,
    "start_time": "2021-11-17T13:36:39.393Z"
   },
   {
    "duration": 48,
    "start_time": "2021-11-17T13:36:40.310Z"
   },
   {
    "duration": 4,
    "start_time": "2021-11-17T13:36:40.361Z"
   },
   {
    "duration": 37,
    "start_time": "2021-11-17T13:36:40.368Z"
   },
   {
    "duration": 46,
    "start_time": "2021-11-17T13:36:40.408Z"
   },
   {
    "duration": 71,
    "start_time": "2021-11-17T13:36:40.457Z"
   },
   {
    "duration": 45,
    "start_time": "2021-11-17T13:37:07.058Z"
   },
   {
    "duration": 47,
    "start_time": "2021-11-17T13:41:35.440Z"
   },
   {
    "duration": 53,
    "start_time": "2021-11-17T13:41:43.146Z"
   },
   {
    "duration": 50,
    "start_time": "2021-11-17T13:41:58.857Z"
   },
   {
    "duration": 735,
    "start_time": "2021-11-17T18:00:26.134Z"
   },
   {
    "duration": 46,
    "start_time": "2021-11-17T18:00:26.871Z"
   },
   {
    "duration": 3,
    "start_time": "2021-11-17T18:00:26.919Z"
   },
   {
    "duration": 25,
    "start_time": "2021-11-17T18:00:26.923Z"
   },
   {
    "duration": 35,
    "start_time": "2021-11-17T18:00:26.949Z"
   },
   {
    "duration": 33,
    "start_time": "2021-11-17T18:00:26.985Z"
   },
   {
    "duration": 23,
    "start_time": "2021-11-17T18:01:33.893Z"
   },
   {
    "duration": 38,
    "start_time": "2021-11-17T18:01:36.787Z"
   },
   {
    "duration": 692,
    "start_time": "2021-11-17T18:01:44.483Z"
   },
   {
    "duration": 43,
    "start_time": "2021-11-17T18:01:45.177Z"
   },
   {
    "duration": 3,
    "start_time": "2021-11-17T18:01:45.222Z"
   },
   {
    "duration": 22,
    "start_time": "2021-11-17T18:01:45.227Z"
   },
   {
    "duration": 22,
    "start_time": "2021-11-17T18:01:45.251Z"
   },
   {
    "duration": 40,
    "start_time": "2021-11-17T18:01:45.274Z"
   },
   {
    "duration": 28,
    "start_time": "2021-11-17T18:03:49.943Z"
   },
   {
    "duration": 46,
    "start_time": "2021-11-17T18:03:51.400Z"
   },
   {
    "duration": 701,
    "start_time": "2021-11-17T18:03:57.352Z"
   },
   {
    "duration": 43,
    "start_time": "2021-11-17T18:03:58.055Z"
   },
   {
    "duration": 3,
    "start_time": "2021-11-17T18:03:58.101Z"
   },
   {
    "duration": 32,
    "start_time": "2021-11-17T18:03:58.105Z"
   },
   {
    "duration": 28,
    "start_time": "2021-11-17T18:03:58.139Z"
   },
   {
    "duration": 387,
    "start_time": "2021-11-17T18:03:58.169Z"
   },
   {
    "duration": 852,
    "start_time": "2021-11-17T18:04:20.360Z"
   },
   {
    "duration": 44,
    "start_time": "2021-11-17T18:04:21.214Z"
   },
   {
    "duration": 3,
    "start_time": "2021-11-17T18:04:21.260Z"
   },
   {
    "duration": 23,
    "start_time": "2021-11-17T18:04:21.265Z"
   },
   {
    "duration": 31,
    "start_time": "2021-11-17T18:04:21.290Z"
   },
   {
    "duration": 43,
    "start_time": "2021-11-17T18:04:21.323Z"
   },
   {
    "duration": 42,
    "start_time": "2021-11-17T18:04:56.423Z"
   },
   {
    "duration": 19,
    "start_time": "2021-11-17T18:09:28.240Z"
   },
   {
    "duration": 35,
    "start_time": "2021-11-17T18:09:54.995Z"
   },
   {
    "duration": 10,
    "start_time": "2021-11-17T18:24:11.047Z"
   },
   {
    "duration": 5,
    "start_time": "2021-11-17T18:27:42.451Z"
   },
   {
    "duration": 6,
    "start_time": "2021-11-17T18:31:18.256Z"
   },
   {
    "duration": 9,
    "start_time": "2021-11-17T18:31:34.863Z"
   },
   {
    "duration": 329,
    "start_time": "2021-11-17T18:31:40.845Z"
   },
   {
    "duration": 273,
    "start_time": "2021-11-17T18:32:00.620Z"
   },
   {
    "duration": 252,
    "start_time": "2021-11-17T18:32:31.868Z"
   },
   {
    "duration": 342,
    "start_time": "2021-11-17T18:32:37.607Z"
   },
   {
    "duration": 259,
    "start_time": "2021-11-17T18:35:10.647Z"
   },
   {
    "duration": 682,
    "start_time": "2021-11-17T18:35:16.159Z"
   },
   {
    "duration": 42,
    "start_time": "2021-11-17T18:35:16.843Z"
   },
   {
    "duration": 2,
    "start_time": "2021-11-17T18:35:16.888Z"
   },
   {
    "duration": 21,
    "start_time": "2021-11-17T18:35:16.892Z"
   },
   {
    "duration": 18,
    "start_time": "2021-11-17T18:35:16.915Z"
   },
   {
    "duration": 50,
    "start_time": "2021-11-17T18:35:16.935Z"
   },
   {
    "duration": 9,
    "start_time": "2021-11-17T18:35:16.987Z"
   },
   {
    "duration": 5,
    "start_time": "2021-11-17T18:35:16.998Z"
   },
   {
    "duration": 8,
    "start_time": "2021-11-17T18:35:17.005Z"
   },
   {
    "duration": 6,
    "start_time": "2021-11-17T18:35:22.710Z"
   },
   {
    "duration": 9,
    "start_time": "2021-11-17T18:35:30.581Z"
   },
   {
    "duration": 8,
    "start_time": "2021-11-17T18:35:37.919Z"
   },
   {
    "duration": 8,
    "start_time": "2021-11-17T18:35:43.271Z"
   },
   {
    "duration": 5,
    "start_time": "2021-11-17T18:38:21.952Z"
   },
   {
    "duration": 7,
    "start_time": "2021-11-17T18:38:37.601Z"
   },
   {
    "duration": 293,
    "start_time": "2021-11-17T18:40:44.549Z"
   },
   {
    "duration": 327,
    "start_time": "2021-11-17T18:42:04.607Z"
   },
   {
    "duration": 7,
    "start_time": "2021-11-17T18:42:20.188Z"
   },
   {
    "duration": 8,
    "start_time": "2021-11-17T18:42:30.964Z"
   },
   {
    "duration": 7,
    "start_time": "2021-11-17T18:42:35.585Z"
   },
   {
    "duration": 688,
    "start_time": "2021-11-17T18:42:55.952Z"
   },
   {
    "duration": 43,
    "start_time": "2021-11-17T18:42:56.642Z"
   },
   {
    "duration": 3,
    "start_time": "2021-11-17T18:42:56.687Z"
   },
   {
    "duration": 24,
    "start_time": "2021-11-17T18:42:56.691Z"
   },
   {
    "duration": 17,
    "start_time": "2021-11-17T18:42:56.717Z"
   },
   {
    "duration": 44,
    "start_time": "2021-11-17T18:42:56.736Z"
   },
   {
    "duration": 11,
    "start_time": "2021-11-17T18:42:56.782Z"
   },
   {
    "duration": 10,
    "start_time": "2021-11-17T18:42:56.796Z"
   },
   {
    "duration": 9,
    "start_time": "2021-11-17T18:42:56.808Z"
   },
   {
    "duration": 10,
    "start_time": "2021-11-17T18:42:56.819Z"
   },
   {
    "duration": 11,
    "start_time": "2021-11-17T18:43:34.620Z"
   },
   {
    "duration": 3,
    "start_time": "2021-11-17T18:44:34.361Z"
   },
   {
    "duration": 3,
    "start_time": "2021-11-17T18:44:41.108Z"
   },
   {
    "duration": 5,
    "start_time": "2021-11-17T18:44:48.805Z"
   },
   {
    "duration": 7,
    "start_time": "2021-11-17T18:44:58.083Z"
   },
   {
    "duration": 663,
    "start_time": "2021-11-17T18:45:47.283Z"
   },
   {
    "duration": 45,
    "start_time": "2021-11-17T18:45:47.948Z"
   },
   {
    "duration": 4,
    "start_time": "2021-11-17T18:45:47.995Z"
   },
   {
    "duration": 33,
    "start_time": "2021-11-17T18:45:48.001Z"
   },
   {
    "duration": 32,
    "start_time": "2021-11-17T18:45:48.036Z"
   },
   {
    "duration": 47,
    "start_time": "2021-11-17T18:45:48.071Z"
   },
   {
    "duration": 10,
    "start_time": "2021-11-17T18:45:48.120Z"
   },
   {
    "duration": 34,
    "start_time": "2021-11-17T18:45:48.133Z"
   },
   {
    "duration": 11,
    "start_time": "2021-11-17T18:45:48.169Z"
   },
   {
    "duration": 20,
    "start_time": "2021-11-17T18:45:48.182Z"
   },
   {
    "duration": 4,
    "start_time": "2021-11-17T18:45:48.204Z"
   },
   {
    "duration": 8,
    "start_time": "2021-11-17T18:45:48.210Z"
   },
   {
    "duration": 4,
    "start_time": "2021-11-17T18:46:37.084Z"
   },
   {
    "duration": 327,
    "start_time": "2021-11-17T18:46:42.892Z"
   },
   {
    "duration": 5,
    "start_time": "2021-11-17T18:47:53.611Z"
   },
   {
    "duration": 28,
    "start_time": "2021-11-17T18:48:35.632Z"
   },
   {
    "duration": 7,
    "start_time": "2021-11-17T18:53:02.433Z"
   },
   {
    "duration": 5,
    "start_time": "2021-11-17T18:53:06.988Z"
   },
   {
    "duration": 12,
    "start_time": "2021-11-17T18:53:37.689Z"
   },
   {
    "duration": 6,
    "start_time": "2021-11-17T18:53:38.926Z"
   },
   {
    "duration": 11,
    "start_time": "2021-11-17T18:54:15.064Z"
   },
   {
    "duration": 7,
    "start_time": "2021-11-17T18:54:15.466Z"
   },
   {
    "duration": 4,
    "start_time": "2021-11-17T18:55:22.194Z"
   },
   {
    "duration": 6,
    "start_time": "2021-11-17T18:55:22.584Z"
   },
   {
    "duration": 706,
    "start_time": "2021-11-17T18:55:29.789Z"
   },
   {
    "duration": 51,
    "start_time": "2021-11-17T18:55:30.498Z"
   },
   {
    "duration": 4,
    "start_time": "2021-11-17T18:55:30.552Z"
   },
   {
    "duration": 26,
    "start_time": "2021-11-17T18:55:30.558Z"
   },
   {
    "duration": 27,
    "start_time": "2021-11-17T18:55:30.586Z"
   },
   {
    "duration": 50,
    "start_time": "2021-11-17T18:55:30.615Z"
   },
   {
    "duration": 12,
    "start_time": "2021-11-17T18:55:30.667Z"
   },
   {
    "duration": 26,
    "start_time": "2021-11-17T18:55:30.682Z"
   },
   {
    "duration": 21,
    "start_time": "2021-11-17T18:55:30.710Z"
   },
   {
    "duration": 35,
    "start_time": "2021-11-17T18:55:30.733Z"
   },
   {
    "duration": 4,
    "start_time": "2021-11-17T18:55:30.771Z"
   },
   {
    "duration": 24,
    "start_time": "2021-11-17T18:55:30.777Z"
   },
   {
    "duration": 884,
    "start_time": "2021-11-18T08:57:50.920Z"
   },
   {
    "duration": 72,
    "start_time": "2021-11-18T08:57:51.807Z"
   },
   {
    "duration": 5,
    "start_time": "2021-11-18T08:57:51.883Z"
   },
   {
    "duration": 41,
    "start_time": "2021-11-18T08:57:51.891Z"
   },
   {
    "duration": 23,
    "start_time": "2021-11-18T08:57:51.935Z"
   },
   {
    "duration": 68,
    "start_time": "2021-11-18T08:57:51.961Z"
   },
   {
    "duration": 14,
    "start_time": "2021-11-18T08:57:52.031Z"
   },
   {
    "duration": 7,
    "start_time": "2021-11-18T08:57:52.083Z"
   },
   {
    "duration": 14,
    "start_time": "2021-11-18T08:57:52.092Z"
   },
   {
    "duration": 19,
    "start_time": "2021-11-18T08:57:52.108Z"
   },
   {
    "duration": 17,
    "start_time": "2021-11-18T08:57:52.129Z"
   },
   {
    "duration": 35,
    "start_time": "2021-11-18T08:57:52.149Z"
   },
   {
    "duration": 5,
    "start_time": "2021-11-18T08:58:54.084Z"
   },
   {
    "duration": 7,
    "start_time": "2021-11-18T08:58:54.700Z"
   },
   {
    "duration": 892,
    "start_time": "2021-11-18T08:59:04.845Z"
   },
   {
    "duration": 58,
    "start_time": "2021-11-18T08:59:05.740Z"
   },
   {
    "duration": 4,
    "start_time": "2021-11-18T08:59:05.804Z"
   },
   {
    "duration": 43,
    "start_time": "2021-11-18T08:59:05.811Z"
   },
   {
    "duration": 25,
    "start_time": "2021-11-18T08:59:05.882Z"
   },
   {
    "duration": 81,
    "start_time": "2021-11-18T08:59:05.910Z"
   },
   {
    "duration": 14,
    "start_time": "2021-11-18T08:59:05.996Z"
   },
   {
    "duration": 8,
    "start_time": "2021-11-18T08:59:06.012Z"
   },
   {
    "duration": 22,
    "start_time": "2021-11-18T08:59:06.023Z"
   },
   {
    "duration": 51,
    "start_time": "2021-11-18T08:59:06.047Z"
   },
   {
    "duration": 7,
    "start_time": "2021-11-18T08:59:06.101Z"
   },
   {
    "duration": 11,
    "start_time": "2021-11-18T08:59:06.110Z"
   },
   {
    "duration": 7,
    "start_time": "2021-11-18T09:02:41.295Z"
   },
   {
    "duration": 1145,
    "start_time": "2021-11-18T09:02:47.205Z"
   },
   {
    "duration": 57,
    "start_time": "2021-11-18T09:02:48.353Z"
   },
   {
    "duration": 5,
    "start_time": "2021-11-18T09:02:48.414Z"
   },
   {
    "duration": 66,
    "start_time": "2021-11-18T09:02:48.423Z"
   },
   {
    "duration": 37,
    "start_time": "2021-11-18T09:02:48.492Z"
   },
   {
    "duration": 75,
    "start_time": "2021-11-18T09:02:48.531Z"
   },
   {
    "duration": 13,
    "start_time": "2021-11-18T09:02:48.609Z"
   },
   {
    "duration": 11,
    "start_time": "2021-11-18T09:02:48.626Z"
   },
   {
    "duration": 45,
    "start_time": "2021-11-18T09:02:48.639Z"
   },
   {
    "duration": 16,
    "start_time": "2021-11-18T09:02:48.687Z"
   },
   {
    "duration": 8,
    "start_time": "2021-11-18T09:02:48.705Z"
   },
   {
    "duration": 4,
    "start_time": "2021-11-18T09:05:18.595Z"
   },
   {
    "duration": 9,
    "start_time": "2021-11-18T09:05:29.409Z"
   },
   {
    "duration": 6,
    "start_time": "2021-11-18T09:05:41.232Z"
   },
   {
    "duration": 10,
    "start_time": "2021-11-18T09:05:46.736Z"
   },
   {
    "duration": 1618,
    "start_time": "2021-11-18T09:05:53.175Z"
   },
   {
    "duration": 3,
    "start_time": "2021-11-18T09:06:17.719Z"
   },
   {
    "duration": 3688,
    "start_time": "2021-11-18T09:06:18.416Z"
   },
   {
    "duration": 4,
    "start_time": "2021-11-18T09:06:27.663Z"
   },
   {
    "duration": 1761,
    "start_time": "2021-11-18T09:06:28.304Z"
   },
   {
    "duration": 1829,
    "start_time": "2021-11-18T09:06:36.600Z"
   },
   {
    "duration": 99,
    "start_time": "2021-11-18T09:06:43.480Z"
   },
   {
    "duration": 1686,
    "start_time": "2021-11-18T09:06:47.510Z"
   },
   {
    "duration": 5,
    "start_time": "2021-11-18T09:14:22.098Z"
   },
   {
    "duration": 1494,
    "start_time": "2021-11-18T09:14:22.819Z"
   },
   {
    "duration": 3,
    "start_time": "2021-11-18T09:14:34.041Z"
   },
   {
    "duration": 2822,
    "start_time": "2021-11-18T09:14:35.657Z"
   },
   {
    "duration": 13,
    "start_time": "2021-11-18T09:15:03.931Z"
   },
   {
    "duration": 2027,
    "start_time": "2021-11-18T09:15:04.409Z"
   },
   {
    "duration": 4,
    "start_time": "2021-11-18T09:15:17.944Z"
   },
   {
    "duration": 1475,
    "start_time": "2021-11-18T09:15:19.057Z"
   },
   {
    "duration": 26,
    "start_time": "2021-11-18T09:15:50.409Z"
   },
   {
    "duration": 99,
    "start_time": "2021-11-18T09:16:59.226Z"
   },
   {
    "duration": 195,
    "start_time": "2021-11-18T09:17:06.680Z"
   },
   {
    "duration": 103,
    "start_time": "2021-11-18T09:17:10.927Z"
   },
   {
    "duration": 16,
    "start_time": "2021-11-18T09:17:14.944Z"
   },
   {
    "duration": 333,
    "start_time": "2021-11-18T09:17:22.392Z"
   },
   {
    "duration": 17,
    "start_time": "2021-11-18T09:17:35.718Z"
   },
   {
    "duration": 7,
    "start_time": "2021-11-18T09:17:48.352Z"
   },
   {
    "duration": 821,
    "start_time": "2021-11-18T09:17:58.901Z"
   },
   {
    "duration": 70,
    "start_time": "2021-11-18T09:17:59.725Z"
   },
   {
    "duration": 3,
    "start_time": "2021-11-18T09:17:59.798Z"
   },
   {
    "duration": 33,
    "start_time": "2021-11-18T09:17:59.804Z"
   },
   {
    "duration": 43,
    "start_time": "2021-11-18T09:17:59.839Z"
   },
   {
    "duration": 51,
    "start_time": "2021-11-18T09:17:59.885Z"
   },
   {
    "duration": 43,
    "start_time": "2021-11-18T09:17:59.939Z"
   },
   {
    "duration": 7,
    "start_time": "2021-11-18T09:17:59.986Z"
   },
   {
    "duration": 15,
    "start_time": "2021-11-18T09:17:59.995Z"
   },
   {
    "duration": 19,
    "start_time": "2021-11-18T09:18:00.012Z"
   },
   {
    "duration": 3,
    "start_time": "2021-11-18T09:18:00.034Z"
   },
   {
    "duration": 44,
    "start_time": "2021-11-18T09:18:00.039Z"
   },
   {
    "duration": 48,
    "start_time": "2021-11-18T09:18:15.300Z"
   },
   {
    "duration": 480,
    "start_time": "2021-11-18T09:19:50.155Z"
   },
   {
    "duration": 835,
    "start_time": "2021-11-18T09:20:03.220Z"
   },
   {
    "duration": 78,
    "start_time": "2021-11-18T09:20:04.057Z"
   },
   {
    "duration": 3,
    "start_time": "2021-11-18T09:20:04.138Z"
   },
   {
    "duration": 39,
    "start_time": "2021-11-18T09:20:04.144Z"
   },
   {
    "duration": 24,
    "start_time": "2021-11-18T09:20:04.186Z"
   },
   {
    "duration": 79,
    "start_time": "2021-11-18T09:20:04.212Z"
   },
   {
    "duration": 15,
    "start_time": "2021-11-18T09:20:04.294Z"
   },
   {
    "duration": 6,
    "start_time": "2021-11-18T09:20:04.313Z"
   },
   {
    "duration": 457,
    "start_time": "2021-11-18T09:20:04.322Z"
   },
   {
    "duration": -4210,
    "start_time": "2021-11-18T09:20:08.992Z"
   },
   {
    "duration": -4212,
    "start_time": "2021-11-18T09:20:08.996Z"
   },
   {
    "duration": 292,
    "start_time": "2021-11-18T09:20:12.219Z"
   },
   {
    "duration": 299,
    "start_time": "2021-11-18T09:20:29.100Z"
   },
   {
    "duration": 4,
    "start_time": "2021-11-18T09:25:01.488Z"
   },
   {
    "duration": 13,
    "start_time": "2021-11-18T09:25:21.895Z"
   },
   {
    "duration": 11,
    "start_time": "2021-11-18T09:25:28.223Z"
   },
   {
    "duration": 11,
    "start_time": "2021-11-18T09:25:36.264Z"
   },
   {
    "duration": 5,
    "start_time": "2021-11-18T09:26:20.542Z"
   },
   {
    "duration": 12,
    "start_time": "2021-11-18T09:26:21.062Z"
   },
   {
    "duration": 1142,
    "start_time": "2021-11-18T09:26:26.775Z"
   },
   {
    "duration": 84,
    "start_time": "2021-11-18T09:26:27.920Z"
   },
   {
    "duration": 5,
    "start_time": "2021-11-18T09:26:28.007Z"
   },
   {
    "duration": 38,
    "start_time": "2021-11-18T09:26:28.015Z"
   },
   {
    "duration": 47,
    "start_time": "2021-11-18T09:26:28.056Z"
   },
   {
    "duration": 83,
    "start_time": "2021-11-18T09:26:28.106Z"
   },
   {
    "duration": 20,
    "start_time": "2021-11-18T09:26:28.193Z"
   },
   {
    "duration": 8,
    "start_time": "2021-11-18T09:26:28.218Z"
   },
   {
    "duration": 7,
    "start_time": "2021-11-18T09:26:28.228Z"
   },
   {
    "duration": 50,
    "start_time": "2021-11-18T09:26:28.237Z"
   },
   {
    "duration": 3,
    "start_time": "2021-11-18T09:26:28.289Z"
   },
   {
    "duration": 27,
    "start_time": "2021-11-18T09:26:28.295Z"
   },
   {
    "duration": 4,
    "start_time": "2021-11-18T09:28:52.426Z"
   },
   {
    "duration": 11,
    "start_time": "2021-11-18T09:28:53.052Z"
   },
   {
    "duration": 136,
    "start_time": "2021-11-18T09:29:06.693Z"
   },
   {
    "duration": 11,
    "start_time": "2021-11-18T09:29:09.900Z"
   },
   {
    "duration": 4,
    "start_time": "2021-11-18T09:29:12.109Z"
   },
   {
    "duration": 5,
    "start_time": "2021-11-18T09:29:23.165Z"
   },
   {
    "duration": 10,
    "start_time": "2021-11-18T09:29:23.637Z"
   },
   {
    "duration": 7,
    "start_time": "2021-11-18T09:29:34.237Z"
   },
   {
    "duration": 9,
    "start_time": "2021-11-18T09:29:59.220Z"
   },
   {
    "duration": 6,
    "start_time": "2021-11-18T09:30:00.094Z"
   },
   {
    "duration": 16,
    "start_time": "2021-11-18T10:28:02.673Z"
   },
   {
    "duration": 1581,
    "start_time": "2021-11-18T10:33:02.820Z"
   },
   {
    "duration": 1151,
    "start_time": "2021-11-18T10:33:38.645Z"
   },
   {
    "duration": 307,
    "start_time": "2021-11-18T10:34:03.261Z"
   },
   {
    "duration": 334,
    "start_time": "2021-11-18T10:34:49.762Z"
   },
   {
    "duration": 13,
    "start_time": "2021-11-18T10:34:59.981Z"
   },
   {
    "duration": 5,
    "start_time": "2021-11-18T10:35:01.082Z"
   },
   {
    "duration": 10,
    "start_time": "2021-11-18T10:35:12.834Z"
   },
   {
    "duration": 8,
    "start_time": "2021-11-18T10:35:17.281Z"
   },
   {
    "duration": 1189,
    "start_time": "2021-11-18T11:03:36.666Z"
   },
   {
    "duration": 74,
    "start_time": "2021-11-18T11:03:37.859Z"
   },
   {
    "duration": 5,
    "start_time": "2021-11-18T11:03:37.937Z"
   },
   {
    "duration": 43,
    "start_time": "2021-11-18T11:03:37.945Z"
   },
   {
    "duration": 26,
    "start_time": "2021-11-18T11:03:37.990Z"
   },
   {
    "duration": 84,
    "start_time": "2021-11-18T11:03:38.019Z"
   },
   {
    "duration": 22,
    "start_time": "2021-11-18T11:03:38.106Z"
   },
   {
    "duration": 8,
    "start_time": "2021-11-18T11:03:38.133Z"
   },
   {
    "duration": 37,
    "start_time": "2021-11-18T11:03:38.145Z"
   },
   {
    "duration": 408,
    "start_time": "2021-11-18T11:03:38.185Z"
   },
   {
    "duration": -4315,
    "start_time": "2021-11-18T11:03:42.911Z"
   },
   {
    "duration": -4319,
    "start_time": "2021-11-18T11:03:42.917Z"
   },
   {
    "duration": 9,
    "start_time": "2021-11-18T11:03:48.443Z"
   },
   {
    "duration": 11,
    "start_time": "2021-11-18T11:03:49.166Z"
   },
   {
    "duration": 4,
    "start_time": "2021-11-18T11:10:18.809Z"
   },
   {
    "duration": 9,
    "start_time": "2021-11-18T11:10:35.839Z"
   },
   {
    "duration": 1498,
    "start_time": "2021-11-18T11:10:44.399Z"
   },
   {
    "duration": 1453,
    "start_time": "2021-11-18T11:10:55.992Z"
   },
   {
    "duration": 355,
    "start_time": "2021-11-18T11:11:21.706Z"
   },
   {
    "duration": 10,
    "start_time": "2021-11-18T11:11:26.503Z"
   },
   {
    "duration": 2172,
    "start_time": "2021-11-18T11:11:32.199Z"
   },
   {
    "duration": 25,
    "start_time": "2021-11-18T11:16:41.669Z"
   },
   {
    "duration": 3,
    "start_time": "2021-11-18T11:16:54.031Z"
   },
   {
    "duration": 22,
    "start_time": "2021-11-18T11:16:54.338Z"
   },
   {
    "duration": 20,
    "start_time": "2021-11-18T11:17:00.060Z"
   },
   {
    "duration": 10,
    "start_time": "2021-11-18T11:19:31.282Z"
   },
   {
    "duration": 1081,
    "start_time": "2021-11-18T11:19:38.355Z"
   },
   {
    "duration": 57,
    "start_time": "2021-11-18T11:19:39.439Z"
   },
   {
    "duration": 4,
    "start_time": "2021-11-18T11:19:39.500Z"
   },
   {
    "duration": 36,
    "start_time": "2021-11-18T11:19:39.507Z"
   },
   {
    "duration": 55,
    "start_time": "2021-11-18T11:19:39.546Z"
   },
   {
    "duration": 83,
    "start_time": "2021-11-18T11:19:39.604Z"
   },
   {
    "duration": 18,
    "start_time": "2021-11-18T11:19:39.691Z"
   },
   {
    "duration": 6,
    "start_time": "2021-11-18T11:19:39.712Z"
   },
   {
    "duration": 11,
    "start_time": "2021-11-18T11:19:39.720Z"
   },
   {
    "duration": 53,
    "start_time": "2021-11-18T11:19:39.734Z"
   },
   {
    "duration": 11,
    "start_time": "2021-11-18T11:19:39.790Z"
   },
   {
    "duration": 19,
    "start_time": "2021-11-18T11:19:39.805Z"
   },
   {
    "duration": 4,
    "start_time": "2021-11-18T11:20:07.376Z"
   },
   {
    "duration": 10,
    "start_time": "2021-11-18T11:20:07.783Z"
   },
   {
    "duration": 4,
    "start_time": "2021-11-18T11:20:13.392Z"
   },
   {
    "duration": 11,
    "start_time": "2021-11-18T11:20:14.352Z"
   },
   {
    "duration": 4,
    "start_time": "2021-11-18T11:20:20.815Z"
   },
   {
    "duration": 12,
    "start_time": "2021-11-18T11:20:21.465Z"
   },
   {
    "duration": 994,
    "start_time": "2021-11-18T11:20:27.149Z"
   },
   {
    "duration": 52,
    "start_time": "2021-11-18T11:20:28.147Z"
   },
   {
    "duration": 5,
    "start_time": "2021-11-18T11:20:28.203Z"
   },
   {
    "duration": 72,
    "start_time": "2021-11-18T11:20:28.212Z"
   },
   {
    "duration": 29,
    "start_time": "2021-11-18T11:20:28.286Z"
   },
   {
    "duration": 82,
    "start_time": "2021-11-18T11:20:28.318Z"
   },
   {
    "duration": 20,
    "start_time": "2021-11-18T11:20:28.403Z"
   },
   {
    "duration": 6,
    "start_time": "2021-11-18T11:20:28.427Z"
   },
   {
    "duration": 47,
    "start_time": "2021-11-18T11:20:28.436Z"
   },
   {
    "duration": 20,
    "start_time": "2021-11-18T11:20:28.486Z"
   },
   {
    "duration": 5,
    "start_time": "2021-11-18T11:20:28.509Z"
   },
   {
    "duration": 16,
    "start_time": "2021-11-18T11:20:28.517Z"
   },
   {
    "duration": 408,
    "start_time": "2021-11-18T11:29:27.171Z"
   },
   {
    "duration": -4306,
    "start_time": "2021-11-18T11:29:31.888Z"
   },
   {
    "duration": 12,
    "start_time": "2021-11-18T11:29:27.914Z"
   },
   {
    "duration": 338,
    "start_time": "2021-11-18T11:29:43.852Z"
   },
   {
    "duration": 9,
    "start_time": "2021-11-18T11:29:44.387Z"
   },
   {
    "duration": 890,
    "start_time": "2021-11-18T11:29:49.830Z"
   },
   {
    "duration": 44,
    "start_time": "2021-11-18T11:29:50.723Z"
   },
   {
    "duration": 12,
    "start_time": "2021-11-18T11:29:50.770Z"
   },
   {
    "duration": 49,
    "start_time": "2021-11-18T11:29:50.785Z"
   },
   {
    "duration": 24,
    "start_time": "2021-11-18T11:29:50.836Z"
   },
   {
    "duration": 65,
    "start_time": "2021-11-18T11:29:50.862Z"
   },
   {
    "duration": 52,
    "start_time": "2021-11-18T11:29:50.930Z"
   },
   {
    "duration": 6,
    "start_time": "2021-11-18T11:29:50.986Z"
   },
   {
    "duration": 15,
    "start_time": "2021-11-18T11:29:50.995Z"
   },
   {
    "duration": 20,
    "start_time": "2021-11-18T11:29:51.013Z"
   },
   {
    "duration": 9,
    "start_time": "2021-11-18T11:29:51.036Z"
   },
   {
    "duration": 42,
    "start_time": "2021-11-18T11:29:51.048Z"
   },
   {
    "duration": 11,
    "start_time": "2021-11-18T11:35:09.935Z"
   },
   {
    "duration": 43,
    "start_time": "2021-11-18T11:35:15.630Z"
   },
   {
    "duration": 28,
    "start_time": "2021-11-18T11:36:20.171Z"
   },
   {
    "duration": 6,
    "start_time": "2021-11-18T11:41:45.907Z"
   },
   {
    "duration": 8,
    "start_time": "2021-11-18T11:42:32.801Z"
   },
   {
    "duration": 8,
    "start_time": "2021-11-18T11:44:31.105Z"
   },
   {
    "duration": 12,
    "start_time": "2021-11-18T11:44:34.816Z"
   },
   {
    "duration": 919,
    "start_time": "2021-11-18T11:45:12.114Z"
   },
   {
    "duration": 58,
    "start_time": "2021-11-18T11:45:13.036Z"
   },
   {
    "duration": 5,
    "start_time": "2021-11-18T11:45:13.101Z"
   },
   {
    "duration": 35,
    "start_time": "2021-11-18T11:45:13.108Z"
   },
   {
    "duration": 25,
    "start_time": "2021-11-18T11:45:13.182Z"
   },
   {
    "duration": 74,
    "start_time": "2021-11-18T11:45:13.210Z"
   },
   {
    "duration": 13,
    "start_time": "2021-11-18T11:45:13.288Z"
   },
   {
    "duration": 13,
    "start_time": "2021-11-18T11:45:13.304Z"
   },
   {
    "duration": 6,
    "start_time": "2021-11-18T11:45:13.320Z"
   },
   {
    "duration": 17,
    "start_time": "2021-11-18T11:45:13.329Z"
   },
   {
    "duration": 44,
    "start_time": "2021-11-18T11:45:13.348Z"
   },
   {
    "duration": 4,
    "start_time": "2021-11-18T11:45:13.395Z"
   },
   {
    "duration": 16,
    "start_time": "2021-11-18T11:45:13.401Z"
   },
   {
    "duration": 15,
    "start_time": "2021-11-18T11:48:39.233Z"
   },
   {
    "duration": 112,
    "start_time": "2021-11-18T11:51:08.856Z"
   },
   {
    "duration": 105,
    "start_time": "2021-11-18T11:51:46.982Z"
   },
   {
    "duration": 114,
    "start_time": "2021-11-18T11:52:10.943Z"
   },
   {
    "duration": 72,
    "start_time": "2021-11-18T11:52:11.756Z"
   },
   {
    "duration": 50,
    "start_time": "2021-11-18T11:52:17.884Z"
   },
   {
    "duration": 825,
    "start_time": "2021-11-18T11:54:32.859Z"
   },
   {
    "duration": 33,
    "start_time": "2021-11-18T11:55:39.468Z"
   },
   {
    "duration": 106,
    "start_time": "2021-11-18T12:13:07.239Z"
   },
   {
    "duration": 436,
    "start_time": "2021-11-18T12:13:17.943Z"
   },
   {
    "duration": 325,
    "start_time": "2021-11-18T12:13:21.381Z"
   },
   {
    "duration": 50,
    "start_time": "2021-11-18T12:13:30.933Z"
   },
   {
    "duration": 47,
    "start_time": "2021-11-18T12:18:20.179Z"
   },
   {
    "duration": 315,
    "start_time": "2021-11-18T12:19:20.791Z"
   },
   {
    "duration": 307,
    "start_time": "2021-11-18T12:19:27.116Z"
   },
   {
    "duration": 16,
    "start_time": "2021-11-18T12:19:55.090Z"
   },
   {
    "duration": 16,
    "start_time": "2021-11-18T12:20:11.921Z"
   },
   {
    "duration": 1101,
    "start_time": "2021-11-18T12:23:34.873Z"
   },
   {
    "duration": 1346,
    "start_time": "2021-11-18T12:30:15.285Z"
   },
   {
    "duration": 16,
    "start_time": "2021-11-18T12:30:38.541Z"
   },
   {
    "duration": 14,
    "start_time": "2021-11-18T12:30:51.189Z"
   },
   {
    "duration": 29,
    "start_time": "2021-11-18T12:31:18.723Z"
   },
   {
    "duration": 26,
    "start_time": "2021-11-18T12:31:23.004Z"
   },
   {
    "duration": 16,
    "start_time": "2021-11-18T12:35:14.296Z"
   },
   {
    "duration": 12,
    "start_time": "2021-11-18T12:35:19.560Z"
   },
   {
    "duration": 18,
    "start_time": "2021-11-18T12:35:36.439Z"
   },
   {
    "duration": 13,
    "start_time": "2021-11-18T12:35:41.362Z"
   },
   {
    "duration": 15,
    "start_time": "2021-11-18T12:35:46.512Z"
   },
   {
    "duration": 18,
    "start_time": "2021-11-18T12:35:52.456Z"
   },
   {
    "duration": 18,
    "start_time": "2021-11-18T12:35:56.736Z"
   },
   {
    "duration": 18,
    "start_time": "2021-11-18T12:35:59.552Z"
   },
   {
    "duration": 18,
    "start_time": "2021-11-18T12:36:01.531Z"
   },
   {
    "duration": 19,
    "start_time": "2021-11-18T12:36:03.616Z"
   },
   {
    "duration": 18,
    "start_time": "2021-11-18T12:36:05.816Z"
   },
   {
    "duration": 18,
    "start_time": "2021-11-18T12:36:09.127Z"
   },
   {
    "duration": 12,
    "start_time": "2021-11-18T12:36:11.553Z"
   },
   {
    "duration": 14,
    "start_time": "2021-11-18T12:36:14.041Z"
   },
   {
    "duration": 13,
    "start_time": "2021-11-18T12:36:21.215Z"
   },
   {
    "duration": 17,
    "start_time": "2021-11-18T12:36:25.208Z"
   },
   {
    "duration": 18,
    "start_time": "2021-11-18T12:36:28.182Z"
   },
   {
    "duration": 17,
    "start_time": "2021-11-18T12:36:30.753Z"
   },
   {
    "duration": 13,
    "start_time": "2021-11-18T12:49:22.838Z"
   },
   {
    "duration": 13,
    "start_time": "2021-11-18T12:51:01.832Z"
   },
   {
    "duration": 14,
    "start_time": "2021-11-18T12:51:20.102Z"
   },
   {
    "duration": 14,
    "start_time": "2021-11-18T12:54:13.772Z"
   },
   {
    "duration": 8,
    "start_time": "2021-11-18T12:56:05.571Z"
   },
   {
    "duration": 7,
    "start_time": "2021-11-18T12:56:15.157Z"
   },
   {
    "duration": 14,
    "start_time": "2021-11-18T12:56:34.998Z"
   },
   {
    "duration": 14,
    "start_time": "2021-11-18T13:00:34.689Z"
   },
   {
    "duration": 4,
    "start_time": "2021-11-18T13:03:59.135Z"
   },
   {
    "duration": 11,
    "start_time": "2021-11-18T13:04:12.454Z"
   },
   {
    "duration": 15,
    "start_time": "2021-11-18T13:04:21.230Z"
   },
   {
    "duration": 305,
    "start_time": "2021-11-18T13:05:02.293Z"
   },
   {
    "duration": 6,
    "start_time": "2021-11-18T13:05:12.893Z"
   },
   {
    "duration": 8,
    "start_time": "2021-11-18T13:05:15.333Z"
   },
   {
    "duration": 7,
    "start_time": "2021-11-18T13:05:23.581Z"
   },
   {
    "duration": 307,
    "start_time": "2021-11-18T13:05:28.390Z"
   },
   {
    "duration": 8,
    "start_time": "2021-11-18T13:05:34.838Z"
   },
   {
    "duration": 291,
    "start_time": "2021-11-18T13:10:13.746Z"
   },
   {
    "duration": 6,
    "start_time": "2021-11-18T13:10:19.487Z"
   },
   {
    "duration": 15,
    "start_time": "2021-11-18T13:12:32.096Z"
   },
   {
    "duration": 14,
    "start_time": "2021-11-18T13:12:51.343Z"
   },
   {
    "duration": 945,
    "start_time": "2021-11-19T08:53:58.469Z"
   },
   {
    "duration": 45,
    "start_time": "2021-11-19T08:53:59.416Z"
   },
   {
    "duration": 3,
    "start_time": "2021-11-19T08:53:59.465Z"
   },
   {
    "duration": 27,
    "start_time": "2021-11-19T08:53:59.469Z"
   },
   {
    "duration": 18,
    "start_time": "2021-11-19T08:53:59.497Z"
   },
   {
    "duration": 56,
    "start_time": "2021-11-19T08:53:59.517Z"
   },
   {
    "duration": 9,
    "start_time": "2021-11-19T08:53:59.575Z"
   },
   {
    "duration": 8,
    "start_time": "2021-11-19T08:53:59.586Z"
   },
   {
    "duration": 4,
    "start_time": "2021-11-19T08:53:59.595Z"
   },
   {
    "duration": 43,
    "start_time": "2021-11-19T08:53:59.601Z"
   },
   {
    "duration": 10,
    "start_time": "2021-11-19T08:53:59.646Z"
   },
   {
    "duration": 5,
    "start_time": "2021-11-19T08:53:59.658Z"
   },
   {
    "duration": 9,
    "start_time": "2021-11-19T08:53:59.665Z"
   },
   {
    "duration": 596,
    "start_time": "2021-11-19T08:53:59.676Z"
   },
   {
    "duration": 22,
    "start_time": "2021-11-19T08:54:00.274Z"
   },
   {
    "duration": 9,
    "start_time": "2021-11-19T08:54:00.298Z"
   },
   {
    "duration": 13,
    "start_time": "2021-11-19T08:54:00.309Z"
   },
   {
    "duration": 25,
    "start_time": "2021-11-19T08:54:00.323Z"
   },
   {
    "duration": 5,
    "start_time": "2021-11-19T08:54:00.350Z"
   },
   {
    "duration": 24,
    "start_time": "2021-11-19T08:54:00.357Z"
   },
   {
    "duration": 721,
    "start_time": "2021-11-19T08:54:21.532Z"
   },
   {
    "duration": 47,
    "start_time": "2021-11-19T08:54:22.256Z"
   },
   {
    "duration": 3,
    "start_time": "2021-11-19T08:54:22.306Z"
   },
   {
    "duration": 28,
    "start_time": "2021-11-19T08:54:22.311Z"
   },
   {
    "duration": 24,
    "start_time": "2021-11-19T08:54:22.341Z"
   },
   {
    "duration": 48,
    "start_time": "2021-11-19T08:54:22.367Z"
   },
   {
    "duration": 31,
    "start_time": "2021-11-19T08:54:22.416Z"
   },
   {
    "duration": 11,
    "start_time": "2021-11-19T08:54:22.450Z"
   },
   {
    "duration": 6,
    "start_time": "2021-11-19T08:54:22.463Z"
   },
   {
    "duration": 7,
    "start_time": "2021-11-19T08:54:22.471Z"
   },
   {
    "duration": 9,
    "start_time": "2021-11-19T08:54:22.479Z"
   },
   {
    "duration": 4,
    "start_time": "2021-11-19T08:54:22.490Z"
   },
   {
    "duration": 9,
    "start_time": "2021-11-19T08:54:22.495Z"
   },
   {
    "duration": 568,
    "start_time": "2021-11-19T08:54:22.545Z"
   },
   {
    "duration": 23,
    "start_time": "2021-11-19T08:54:23.115Z"
   },
   {
    "duration": 9,
    "start_time": "2021-11-19T08:54:23.139Z"
   },
   {
    "duration": 10,
    "start_time": "2021-11-19T08:54:23.150Z"
   },
   {
    "duration": 9,
    "start_time": "2021-11-19T08:54:23.161Z"
   },
   {
    "duration": 5,
    "start_time": "2021-11-19T08:54:23.172Z"
   },
   {
    "duration": 2,
    "start_time": "2021-11-19T08:54:23.179Z"
   },
   {
    "duration": 15,
    "start_time": "2021-11-19T08:55:39.019Z"
   },
   {
    "duration": 8,
    "start_time": "2021-11-19T09:01:45.086Z"
   },
   {
    "duration": 5,
    "start_time": "2021-11-19T09:01:59.590Z"
   },
   {
    "duration": 8,
    "start_time": "2021-11-19T09:02:07.285Z"
   },
   {
    "duration": 6,
    "start_time": "2021-11-19T09:11:28.585Z"
   },
   {
    "duration": 5,
    "start_time": "2021-11-19T09:11:43.745Z"
   },
   {
    "duration": 85,
    "start_time": "2021-11-19T09:14:04.430Z"
   },
   {
    "duration": 8,
    "start_time": "2021-11-19T09:14:07.661Z"
   },
   {
    "duration": 707,
    "start_time": "2021-11-19T09:14:35.584Z"
   },
   {
    "duration": 7,
    "start_time": "2021-11-19T09:14:44.046Z"
   },
   {
    "duration": 11,
    "start_time": "2021-11-19T09:16:22.565Z"
   },
   {
    "duration": 8,
    "start_time": "2021-11-19T09:16:31.468Z"
   },
   {
    "duration": 10,
    "start_time": "2021-11-19T09:16:35.636Z"
   },
   {
    "duration": 8,
    "start_time": "2021-11-19T09:18:04.482Z"
   },
   {
    "duration": 260,
    "start_time": "2021-11-19T09:20:24.565Z"
   },
   {
    "duration": 6,
    "start_time": "2021-11-19T09:20:27.826Z"
   },
   {
    "duration": 280,
    "start_time": "2021-11-19T09:20:34.632Z"
   },
   {
    "duration": 5,
    "start_time": "2021-11-19T09:20:38.785Z"
   },
   {
    "duration": 8,
    "start_time": "2021-11-19T09:22:02.648Z"
   },
   {
    "duration": 9,
    "start_time": "2021-11-19T09:22:08.894Z"
   },
   {
    "duration": 11,
    "start_time": "2021-11-19T09:22:24.913Z"
   },
   {
    "duration": 11,
    "start_time": "2021-11-19T09:24:39.265Z"
   },
   {
    "duration": 11,
    "start_time": "2021-11-19T09:24:45.496Z"
   },
   {
    "duration": 3,
    "start_time": "2021-11-19T09:27:20.118Z"
   },
   {
    "duration": 52,
    "start_time": "2021-11-19T09:27:36.292Z"
   },
   {
    "duration": 91,
    "start_time": "2021-11-19T09:27:52.102Z"
   },
   {
    "duration": 87,
    "start_time": "2021-11-19T09:27:58.460Z"
   },
   {
    "duration": 55,
    "start_time": "2021-11-19T09:28:01.988Z"
   },
   {
    "duration": 78,
    "start_time": "2021-11-19T09:28:52.870Z"
   },
   {
    "duration": 59,
    "start_time": "2021-11-19T09:29:08.613Z"
   },
   {
    "duration": 505,
    "start_time": "2021-11-19T09:29:57.374Z"
   },
   {
    "duration": 132,
    "start_time": "2021-11-19T09:30:17.624Z"
   },
   {
    "duration": 735,
    "start_time": "2021-11-19T09:32:18.086Z"
   },
   {
    "duration": 43,
    "start_time": "2021-11-19T09:32:18.823Z"
   },
   {
    "duration": 3,
    "start_time": "2021-11-19T09:32:18.868Z"
   },
   {
    "duration": 19,
    "start_time": "2021-11-19T09:32:18.873Z"
   },
   {
    "duration": 18,
    "start_time": "2021-11-19T09:32:18.894Z"
   },
   {
    "duration": 45,
    "start_time": "2021-11-19T09:32:18.914Z"
   },
   {
    "duration": 9,
    "start_time": "2021-11-19T09:32:18.960Z"
   },
   {
    "duration": 7,
    "start_time": "2021-11-19T09:32:18.972Z"
   },
   {
    "duration": 5,
    "start_time": "2021-11-19T09:32:18.981Z"
   },
   {
    "duration": 5,
    "start_time": "2021-11-19T09:32:18.988Z"
   },
   {
    "duration": 8,
    "start_time": "2021-11-19T09:32:18.995Z"
   },
   {
    "duration": 2,
    "start_time": "2021-11-19T09:32:19.005Z"
   },
   {
    "duration": 8,
    "start_time": "2021-11-19T09:32:19.045Z"
   },
   {
    "duration": 630,
    "start_time": "2021-11-19T09:32:19.055Z"
   },
   {
    "duration": 21,
    "start_time": "2021-11-19T09:32:19.687Z"
   },
   {
    "duration": 9,
    "start_time": "2021-11-19T09:32:19.710Z"
   },
   {
    "duration": 28,
    "start_time": "2021-11-19T09:32:19.721Z"
   },
   {
    "duration": 9,
    "start_time": "2021-11-19T09:32:19.751Z"
   },
   {
    "duration": 121,
    "start_time": "2021-11-19T09:32:19.762Z"
   },
   {
    "duration": 4,
    "start_time": "2021-11-19T09:32:19.885Z"
   },
   {
    "duration": 55,
    "start_time": "2021-11-19T09:32:19.890Z"
   },
   {
    "duration": 7,
    "start_time": "2021-11-19T09:39:19.936Z"
   },
   {
    "duration": 14,
    "start_time": "2021-11-19T09:46:24.249Z"
   },
   {
    "duration": 133,
    "start_time": "2021-11-19T09:47:24.374Z"
   },
   {
    "duration": 18,
    "start_time": "2021-11-19T09:47:28.082Z"
   },
   {
    "duration": 121,
    "start_time": "2021-11-19T09:48:00.849Z"
   },
   {
    "duration": 22,
    "start_time": "2021-11-19T09:52:42.552Z"
   },
   {
    "duration": 759,
    "start_time": "2021-11-19T09:53:34.116Z"
   },
   {
    "duration": 44,
    "start_time": "2021-11-19T09:53:34.877Z"
   },
   {
    "duration": 2,
    "start_time": "2021-11-19T09:53:34.923Z"
   },
   {
    "duration": 22,
    "start_time": "2021-11-19T09:53:34.927Z"
   },
   {
    "duration": 17,
    "start_time": "2021-11-19T09:53:34.951Z"
   },
   {
    "duration": 33,
    "start_time": "2021-11-19T09:53:34.970Z"
   },
   {
    "duration": 44,
    "start_time": "2021-11-19T09:53:35.004Z"
   },
   {
    "duration": 8,
    "start_time": "2021-11-19T09:53:35.051Z"
   },
   {
    "duration": 5,
    "start_time": "2021-11-19T09:53:35.061Z"
   },
   {
    "duration": 8,
    "start_time": "2021-11-19T09:53:35.068Z"
   },
   {
    "duration": 10,
    "start_time": "2021-11-19T09:53:35.078Z"
   },
   {
    "duration": 2,
    "start_time": "2021-11-19T09:53:35.090Z"
   },
   {
    "duration": 10,
    "start_time": "2021-11-19T09:53:35.094Z"
   },
   {
    "duration": 625,
    "start_time": "2021-11-19T09:53:35.106Z"
   },
   {
    "duration": 24,
    "start_time": "2021-11-19T09:53:35.733Z"
   },
   {
    "duration": 11,
    "start_time": "2021-11-19T09:53:35.759Z"
   },
   {
    "duration": 15,
    "start_time": "2021-11-19T09:53:35.771Z"
   },
   {
    "duration": 9,
    "start_time": "2021-11-19T09:53:35.788Z"
   },
   {
    "duration": 147,
    "start_time": "2021-11-19T09:53:35.798Z"
   },
   {
    "duration": 22,
    "start_time": "2021-11-19T09:53:35.947Z"
   },
   {
    "duration": 16,
    "start_time": "2021-11-19T09:53:35.971Z"
   },
   {
    "duration": 10,
    "start_time": "2021-11-19T09:54:57.908Z"
   },
   {
    "duration": 684,
    "start_time": "2021-11-19T09:55:06.539Z"
   },
   {
    "duration": 44,
    "start_time": "2021-11-19T09:55:07.225Z"
   },
   {
    "duration": 2,
    "start_time": "2021-11-19T09:55:07.271Z"
   },
   {
    "duration": 21,
    "start_time": "2021-11-19T09:55:07.275Z"
   },
   {
    "duration": 18,
    "start_time": "2021-11-19T09:55:07.297Z"
   },
   {
    "duration": 44,
    "start_time": "2021-11-19T09:55:07.317Z"
   },
   {
    "duration": 10,
    "start_time": "2021-11-19T09:55:07.362Z"
   },
   {
    "duration": 7,
    "start_time": "2021-11-19T09:55:07.375Z"
   },
   {
    "duration": 5,
    "start_time": "2021-11-19T09:55:07.384Z"
   },
   {
    "duration": 6,
    "start_time": "2021-11-19T09:55:07.390Z"
   },
   {
    "duration": 8,
    "start_time": "2021-11-19T09:55:07.398Z"
   },
   {
    "duration": 2,
    "start_time": "2021-11-19T09:55:07.408Z"
   },
   {
    "duration": 12,
    "start_time": "2021-11-19T09:55:07.445Z"
   },
   {
    "duration": 588,
    "start_time": "2021-11-19T09:55:07.458Z"
   },
   {
    "duration": 25,
    "start_time": "2021-11-19T09:55:08.048Z"
   },
   {
    "duration": 11,
    "start_time": "2021-11-19T09:55:08.075Z"
   },
   {
    "duration": 11,
    "start_time": "2021-11-19T09:55:08.088Z"
   },
   {
    "duration": 9,
    "start_time": "2021-11-19T09:55:08.102Z"
   },
   {
    "duration": 121,
    "start_time": "2021-11-19T09:55:08.145Z"
   },
   {
    "duration": 8,
    "start_time": "2021-11-19T09:55:08.268Z"
   },
   {
    "duration": 21,
    "start_time": "2021-11-19T09:55:08.278Z"
   },
   {
    "duration": 49,
    "start_time": "2021-11-19T09:55:08.301Z"
   },
   {
    "duration": 89,
    "start_time": "2021-11-19T09:56:36.106Z"
   },
   {
    "duration": 99,
    "start_time": "2021-11-19T09:59:33.649Z"
   },
   {
    "duration": 325,
    "start_time": "2021-11-19T09:59:42.439Z"
   },
   {
    "duration": 7,
    "start_time": "2021-11-19T09:59:54.468Z"
   },
   {
    "duration": 8,
    "start_time": "2021-11-19T10:00:27.863Z"
   },
   {
    "duration": 45,
    "start_time": "2021-11-19T10:02:35.134Z"
   },
   {
    "duration": 118,
    "start_time": "2021-11-19T10:04:03.232Z"
   },
   {
    "duration": 25,
    "start_time": "2021-11-19T10:04:29.749Z"
   },
   {
    "duration": 33,
    "start_time": "2021-11-19T10:37:47.329Z"
   },
   {
    "duration": 18,
    "start_time": "2021-11-19T10:45:15.882Z"
   },
   {
    "duration": 16,
    "start_time": "2021-11-19T10:45:40.753Z"
   },
   {
    "duration": 16,
    "start_time": "2021-11-19T10:51:31.544Z"
   },
   {
    "duration": 258,
    "start_time": "2021-11-19T11:49:40.383Z"
   },
   {
    "duration": 300,
    "start_time": "2021-11-19T11:49:48.282Z"
   },
   {
    "duration": 17,
    "start_time": "2021-11-19T11:50:17.537Z"
   },
   {
    "duration": 21,
    "start_time": "2021-11-19T11:50:20.452Z"
   },
   {
    "duration": 714,
    "start_time": "2021-11-19T11:50:29.130Z"
   },
   {
    "duration": 44,
    "start_time": "2021-11-19T11:50:29.846Z"
   },
   {
    "duration": 28,
    "start_time": "2021-11-19T11:50:29.892Z"
   },
   {
    "duration": 41,
    "start_time": "2021-11-19T11:50:29.922Z"
   },
   {
    "duration": 28,
    "start_time": "2021-11-19T11:50:29.965Z"
   },
   {
    "duration": 51,
    "start_time": "2021-11-19T11:50:29.995Z"
   },
   {
    "duration": 11,
    "start_time": "2021-11-19T11:50:30.048Z"
   },
   {
    "duration": 28,
    "start_time": "2021-11-19T11:50:30.061Z"
   },
   {
    "duration": 35,
    "start_time": "2021-11-19T11:50:30.091Z"
   },
   {
    "duration": 34,
    "start_time": "2021-11-19T11:50:30.128Z"
   },
   {
    "duration": 35,
    "start_time": "2021-11-19T11:50:30.163Z"
   },
   {
    "duration": 32,
    "start_time": "2021-11-19T11:50:30.200Z"
   },
   {
    "duration": 21,
    "start_time": "2021-11-19T11:50:30.234Z"
   },
   {
    "duration": 584,
    "start_time": "2021-11-19T11:50:30.257Z"
   },
   {
    "duration": 23,
    "start_time": "2021-11-19T11:50:30.843Z"
   },
   {
    "duration": 9,
    "start_time": "2021-11-19T11:50:30.868Z"
   },
   {
    "duration": 17,
    "start_time": "2021-11-19T11:50:30.878Z"
   },
   {
    "duration": 38,
    "start_time": "2021-11-19T11:50:30.897Z"
   },
   {
    "duration": 124,
    "start_time": "2021-11-19T11:50:30.936Z"
   },
   {
    "duration": 9,
    "start_time": "2021-11-19T11:50:31.062Z"
   },
   {
    "duration": 66,
    "start_time": "2021-11-19T11:50:31.072Z"
   },
   {
    "duration": 63,
    "start_time": "2021-11-19T11:50:31.139Z"
   },
   {
    "duration": 31,
    "start_time": "2021-11-19T11:50:31.205Z"
   },
   {
    "duration": 144,
    "start_time": "2021-11-19T11:50:31.238Z"
   },
   {
    "duration": 18,
    "start_time": "2021-11-19T11:50:31.383Z"
   },
   {
    "duration": 49,
    "start_time": "2021-11-19T11:50:31.403Z"
   },
   {
    "duration": 55,
    "start_time": "2021-11-19T11:50:31.454Z"
   },
   {
    "duration": 15,
    "start_time": "2021-11-19T11:50:43.807Z"
   },
   {
    "duration": 7,
    "start_time": "2021-11-19T11:51:14.570Z"
   },
   {
    "duration": 14,
    "start_time": "2021-11-19T11:51:25.228Z"
   },
   {
    "duration": 28,
    "start_time": "2021-11-19T12:24:56.473Z"
   },
   {
    "duration": 18,
    "start_time": "2021-11-19T12:25:01.955Z"
   },
   {
    "duration": 7,
    "start_time": "2021-11-19T12:33:25.350Z"
   },
   {
    "duration": 10,
    "start_time": "2021-11-19T12:33:27.860Z"
   },
   {
    "duration": 332,
    "start_time": "2021-11-19T12:36:07.386Z"
   },
   {
    "duration": 65,
    "start_time": "2021-11-19T12:36:11.722Z"
   },
   {
    "duration": 21,
    "start_time": "2021-11-19T12:37:29.803Z"
   },
   {
    "duration": 18,
    "start_time": "2021-11-19T12:38:37.303Z"
   },
   {
    "duration": 20,
    "start_time": "2021-11-19T12:38:50.937Z"
   },
   {
    "duration": 269,
    "start_time": "2021-11-19T12:42:04.502Z"
   },
   {
    "duration": 83,
    "start_time": "2021-11-19T12:42:15.934Z"
   },
   {
    "duration": 7808,
    "start_time": "2021-11-19T12:42:21.142Z"
   },
   {
    "duration": 5,
    "start_time": "2021-11-19T12:42:40.713Z"
   },
   {
    "duration": 19,
    "start_time": "2021-11-19T12:42:46.365Z"
   },
   {
    "duration": 4,
    "start_time": "2021-11-19T12:48:19.074Z"
   },
   {
    "duration": 120,
    "start_time": "2021-11-19T12:48:23.581Z"
   },
   {
    "duration": 86,
    "start_time": "2021-11-19T12:48:28.800Z"
   },
   {
    "duration": 2,
    "start_time": "2021-11-19T12:48:39.283Z"
   },
   {
    "duration": 257,
    "start_time": "2021-11-19T12:48:55.217Z"
   },
   {
    "duration": 245,
    "start_time": "2021-11-19T12:48:59.610Z"
   },
   {
    "duration": 259,
    "start_time": "2021-11-19T12:49:15.426Z"
   },
   {
    "duration": 576,
    "start_time": "2021-11-19T12:50:35.657Z"
   },
   {
    "duration": 88,
    "start_time": "2021-11-19T12:51:25.474Z"
   },
   {
    "duration": 467,
    "start_time": "2021-11-19T12:51:30.912Z"
   },
   {
    "duration": 6399,
    "start_time": "2021-11-19T12:51:43.050Z"
   },
   {
    "duration": 1042,
    "start_time": "2021-11-19T12:52:11.195Z"
   },
   {
    "duration": -9066,
    "start_time": "2021-11-19T12:52:39.051Z"
   },
   {
    "duration": 8376,
    "start_time": "2021-11-19T12:52:37.879Z"
   },
   {
    "duration": 1359,
    "start_time": "2021-11-19T12:53:03.170Z"
   },
   {
    "duration": 7628,
    "start_time": "2021-11-19T12:53:10.952Z"
   },
   {
    "duration": 92,
    "start_time": "2021-11-19T12:56:52.593Z"
   },
   {
    "duration": 105,
    "start_time": "2021-11-19T12:57:37.837Z"
   },
   {
    "duration": 1341,
    "start_time": "2021-11-19T12:59:02.009Z"
   },
   {
    "duration": 7336,
    "start_time": "2021-11-19T12:59:12.627Z"
   },
   {
    "duration": 6703,
    "start_time": "2021-11-19T13:00:10.978Z"
   },
   {
    "duration": 7960,
    "start_time": "2021-11-19T13:00:33.963Z"
   },
   {
    "duration": 749,
    "start_time": "2021-11-19T14:16:14.963Z"
   },
   {
    "duration": 44,
    "start_time": "2021-11-19T14:16:15.714Z"
   },
   {
    "duration": 2,
    "start_time": "2021-11-19T14:16:15.760Z"
   },
   {
    "duration": 21,
    "start_time": "2021-11-19T14:16:15.764Z"
   },
   {
    "duration": 17,
    "start_time": "2021-11-19T14:16:15.786Z"
   },
   {
    "duration": 51,
    "start_time": "2021-11-19T14:16:15.805Z"
   },
   {
    "duration": 9,
    "start_time": "2021-11-19T14:16:15.858Z"
   },
   {
    "duration": 8,
    "start_time": "2021-11-19T14:16:15.870Z"
   },
   {
    "duration": 4,
    "start_time": "2021-11-19T14:16:15.879Z"
   },
   {
    "duration": 7,
    "start_time": "2021-11-19T14:16:15.885Z"
   },
   {
    "duration": 8,
    "start_time": "2021-11-19T14:16:15.893Z"
   },
   {
    "duration": 3,
    "start_time": "2021-11-19T14:16:15.902Z"
   },
   {
    "duration": 43,
    "start_time": "2021-11-19T14:16:15.906Z"
   },
   {
    "duration": 658,
    "start_time": "2021-11-19T14:16:15.951Z"
   },
   {
    "duration": 22,
    "start_time": "2021-11-19T14:16:16.610Z"
   },
   {
    "duration": 17,
    "start_time": "2021-11-19T14:16:16.634Z"
   },
   {
    "duration": 12,
    "start_time": "2021-11-19T14:16:16.653Z"
   },
   {
    "duration": 11,
    "start_time": "2021-11-19T14:16:16.667Z"
   },
   {
    "duration": 115,
    "start_time": "2021-11-19T14:16:16.680Z"
   },
   {
    "duration": 53,
    "start_time": "2021-11-19T14:16:16.797Z"
   },
   {
    "duration": 20,
    "start_time": "2021-11-19T14:16:16.852Z"
   },
   {
    "duration": 7,
    "start_time": "2021-11-19T14:16:16.874Z"
   },
   {
    "duration": 8,
    "start_time": "2021-11-19T14:16:16.883Z"
   },
   {
    "duration": 84,
    "start_time": "2021-11-19T14:16:16.893Z"
   },
   {
    "duration": 19,
    "start_time": "2021-11-19T14:16:16.979Z"
   },
   {
    "duration": 60,
    "start_time": "2021-11-19T14:16:17.000Z"
   },
   {
    "duration": 15,
    "start_time": "2021-11-19T14:16:17.062Z"
   },
   {
    "duration": 17,
    "start_time": "2021-11-19T14:16:17.079Z"
   },
   {
    "duration": 11136,
    "start_time": "2021-11-19T14:16:17.098Z"
   },
   {
    "duration": 9,
    "start_time": "2021-11-19T14:20:10.701Z"
   },
   {
    "duration": 14,
    "start_time": "2021-11-19T14:20:19.622Z"
   },
   {
    "duration": 3,
    "start_time": "2021-11-19T14:20:36.475Z"
   },
   {
    "duration": 12,
    "start_time": "2021-11-19T14:22:27.704Z"
   },
   {
    "duration": 14,
    "start_time": "2021-11-19T14:22:31.221Z"
   },
   {
    "duration": 266,
    "start_time": "2021-11-19T14:22:41.561Z"
   },
   {
    "duration": 96,
    "start_time": "2021-11-19T14:25:44.579Z"
   },
   {
    "duration": 46,
    "start_time": "2021-11-19T14:25:44.677Z"
   },
   {
    "duration": 6,
    "start_time": "2021-11-19T14:25:44.725Z"
   },
   {
    "duration": 25,
    "start_time": "2021-11-19T14:25:44.733Z"
   },
   {
    "duration": 19,
    "start_time": "2021-11-19T14:25:44.761Z"
   },
   {
    "duration": 34,
    "start_time": "2021-11-19T14:25:44.782Z"
   },
   {
    "duration": 12,
    "start_time": "2021-11-19T14:25:44.845Z"
   },
   {
    "duration": 24,
    "start_time": "2021-11-19T14:25:44.859Z"
   },
   {
    "duration": 13,
    "start_time": "2021-11-19T14:25:44.885Z"
   },
   {
    "duration": 9,
    "start_time": "2021-11-19T14:25:44.900Z"
   },
   {
    "duration": 25,
    "start_time": "2021-11-19T14:25:44.911Z"
   },
   {
    "duration": 17,
    "start_time": "2021-11-19T14:25:44.938Z"
   },
   {
    "duration": 15,
    "start_time": "2021-11-19T14:25:44.956Z"
   },
   {
    "duration": 26,
    "start_time": "2021-11-19T14:25:44.972Z"
   },
   {
    "duration": 20,
    "start_time": "2021-11-19T14:25:44.999Z"
   },
   {
    "duration": 10,
    "start_time": "2021-11-19T14:25:45.021Z"
   },
   {
    "duration": 33,
    "start_time": "2021-11-19T14:25:45.032Z"
   },
   {
    "duration": 24,
    "start_time": "2021-11-19T14:25:45.067Z"
   },
   {
    "duration": 90,
    "start_time": "2021-11-19T14:25:45.093Z"
   },
   {
    "duration": 9,
    "start_time": "2021-11-19T14:25:45.185Z"
   },
   {
    "duration": 67,
    "start_time": "2021-11-19T14:25:45.196Z"
   },
   {
    "duration": 15,
    "start_time": "2021-11-19T14:25:45.265Z"
   },
   {
    "duration": 15,
    "start_time": "2021-11-19T14:25:45.282Z"
   },
   {
    "duration": 68,
    "start_time": "2021-11-19T14:25:45.298Z"
   },
   {
    "duration": 16,
    "start_time": "2021-11-19T14:25:45.367Z"
   },
   {
    "duration": 26,
    "start_time": "2021-11-19T14:25:45.385Z"
   },
   {
    "duration": 14,
    "start_time": "2021-11-19T14:25:45.444Z"
   },
   {
    "duration": 38,
    "start_time": "2021-11-19T14:25:45.460Z"
   },
   {
    "duration": 14,
    "start_time": "2021-11-19T14:25:45.499Z"
   },
   {
    "duration": 11,
    "start_time": "2021-11-19T14:25:45.515Z"
   },
   {
    "duration": 69,
    "start_time": "2021-11-19T14:27:01.893Z"
   },
   {
    "duration": 86,
    "start_time": "2021-11-19T14:28:09.873Z"
   },
   {
    "duration": 3,
    "start_time": "2021-11-19T14:28:12.580Z"
   },
   {
    "duration": 7901,
    "start_time": "2021-11-19T14:28:50.358Z"
   },
   {
    "duration": 2,
    "start_time": "2021-11-19T14:29:11.573Z"
   },
   {
    "duration": 279,
    "start_time": "2021-11-19T14:29:12.935Z"
   },
   {
    "duration": 2,
    "start_time": "2021-11-19T14:31:21.098Z"
   },
   {
    "duration": 3,
    "start_time": "2021-11-19T14:32:01.242Z"
   },
   {
    "duration": 565,
    "start_time": "2021-11-19T14:32:01.764Z"
   },
   {
    "duration": 3,
    "start_time": "2021-11-19T14:34:39.023Z"
   },
   {
    "duration": 550,
    "start_time": "2021-11-19T14:34:39.595Z"
   },
   {
    "duration": 4,
    "start_time": "2021-11-19T14:35:34.673Z"
   },
   {
    "duration": 85,
    "start_time": "2021-11-19T14:35:56.960Z"
   },
   {
    "duration": 11,
    "start_time": "2021-11-19T14:36:00.823Z"
   },
   {
    "duration": 11,
    "start_time": "2021-11-19T14:36:13.222Z"
   },
   {
    "duration": 705,
    "start_time": "2021-11-19T14:36:53.108Z"
   },
   {
    "duration": 45,
    "start_time": "2021-11-19T14:36:53.815Z"
   },
   {
    "duration": 3,
    "start_time": "2021-11-19T14:36:53.864Z"
   },
   {
    "duration": 31,
    "start_time": "2021-11-19T14:36:53.869Z"
   },
   {
    "duration": 20,
    "start_time": "2021-11-19T14:36:53.902Z"
   },
   {
    "duration": 53,
    "start_time": "2021-11-19T14:36:53.924Z"
   },
   {
    "duration": 11,
    "start_time": "2021-11-19T14:36:53.979Z"
   },
   {
    "duration": 16,
    "start_time": "2021-11-19T14:36:53.994Z"
   },
   {
    "duration": 9,
    "start_time": "2021-11-19T14:36:54.012Z"
   },
   {
    "duration": 11,
    "start_time": "2021-11-19T14:36:54.044Z"
   },
   {
    "duration": 25,
    "start_time": "2021-11-19T14:36:54.056Z"
   },
   {
    "duration": 14,
    "start_time": "2021-11-19T14:36:54.083Z"
   },
   {
    "duration": 25,
    "start_time": "2021-11-19T14:36:54.099Z"
   },
   {
    "duration": 573,
    "start_time": "2021-11-19T14:36:54.126Z"
   },
   {
    "duration": 23,
    "start_time": "2021-11-19T14:36:54.702Z"
   },
   {
    "duration": 18,
    "start_time": "2021-11-19T14:36:54.727Z"
   },
   {
    "duration": 11,
    "start_time": "2021-11-19T14:36:54.747Z"
   },
   {
    "duration": 29,
    "start_time": "2021-11-19T14:36:54.760Z"
   },
   {
    "duration": 159,
    "start_time": "2021-11-19T14:36:54.791Z"
   },
   {
    "duration": 9,
    "start_time": "2021-11-19T14:36:54.952Z"
   },
   {
    "duration": 64,
    "start_time": "2021-11-19T14:36:54.962Z"
   },
   {
    "duration": 24,
    "start_time": "2021-11-19T14:36:55.028Z"
   },
   {
    "duration": 55,
    "start_time": "2021-11-19T14:36:55.054Z"
   },
   {
    "duration": 57,
    "start_time": "2021-11-19T14:36:55.111Z"
   },
   {
    "duration": 17,
    "start_time": "2021-11-19T14:36:55.170Z"
   },
   {
    "duration": 16,
    "start_time": "2021-11-19T14:36:55.190Z"
   },
   {
    "duration": 16,
    "start_time": "2021-11-19T14:36:55.244Z"
   },
   {
    "duration": 23,
    "start_time": "2021-11-19T14:36:55.261Z"
   },
   {
    "duration": 11,
    "start_time": "2021-11-19T14:36:55.286Z"
   },
   {
    "duration": 16,
    "start_time": "2021-11-19T14:36:55.298Z"
   },
   {
    "duration": 673,
    "start_time": "2021-11-19T14:36:55.316Z"
   },
   {
    "duration": 14,
    "start_time": "2021-11-19T14:38:19.576Z"
   },
   {
    "duration": 3,
    "start_time": "2021-11-19T14:39:38.273Z"
   },
   {
    "duration": 549,
    "start_time": "2021-11-19T14:39:38.721Z"
   },
   {
    "duration": 4,
    "start_time": "2021-11-19T14:40:04.230Z"
   },
   {
    "duration": 649,
    "start_time": "2021-11-19T14:40:04.711Z"
   },
   {
    "duration": 13,
    "start_time": "2021-11-19T14:40:35.975Z"
   },
   {
    "duration": 4,
    "start_time": "2021-11-19T14:40:39.877Z"
   },
   {
    "duration": 551,
    "start_time": "2021-11-19T14:40:40.216Z"
   },
   {
    "duration": 14,
    "start_time": "2021-11-19T14:41:25.318Z"
   },
   {
    "duration": 12,
    "start_time": "2021-11-19T14:41:42.765Z"
   },
   {
    "duration": 41,
    "start_time": "2021-11-19T14:41:48.356Z"
   },
   {
    "duration": 33,
    "start_time": "2021-11-19T14:42:32.561Z"
   },
   {
    "duration": 35,
    "start_time": "2021-11-19T14:44:36.637Z"
   },
   {
    "duration": 91,
    "start_time": "2021-11-19T14:45:35.649Z"
   },
   {
    "duration": 37,
    "start_time": "2021-11-19T14:45:54.563Z"
   },
   {
    "duration": 679,
    "start_time": "2021-11-21T11:09:50.048Z"
   },
   {
    "duration": 83,
    "start_time": "2021-11-21T11:09:50.729Z"
   },
   {
    "duration": 3,
    "start_time": "2021-11-21T11:09:50.815Z"
   },
   {
    "duration": 20,
    "start_time": "2021-11-21T11:09:50.820Z"
   },
   {
    "duration": 23,
    "start_time": "2021-11-21T11:09:50.842Z"
   },
   {
    "duration": 57,
    "start_time": "2021-11-21T11:09:50.866Z"
   },
   {
    "duration": 9,
    "start_time": "2021-11-21T11:09:50.925Z"
   },
   {
    "duration": 23,
    "start_time": "2021-11-21T11:09:50.936Z"
   },
   {
    "duration": 6,
    "start_time": "2021-11-21T11:09:50.961Z"
   },
   {
    "duration": 12,
    "start_time": "2021-11-21T11:09:50.969Z"
   },
   {
    "duration": 9,
    "start_time": "2021-11-21T11:09:50.982Z"
   },
   {
    "duration": 15,
    "start_time": "2021-11-21T11:09:50.993Z"
   },
   {
    "duration": 22,
    "start_time": "2021-11-21T11:09:51.009Z"
   },
   {
    "duration": 638,
    "start_time": "2021-11-21T11:09:51.032Z"
   },
   {
    "duration": 23,
    "start_time": "2021-11-21T11:09:51.672Z"
   },
   {
    "duration": 18,
    "start_time": "2021-11-21T11:09:51.697Z"
   },
   {
    "duration": 26,
    "start_time": "2021-11-21T11:09:51.717Z"
   },
   {
    "duration": 21,
    "start_time": "2021-11-21T11:09:51.744Z"
   },
   {
    "duration": 140,
    "start_time": "2021-11-21T11:09:51.766Z"
   },
   {
    "duration": 9,
    "start_time": "2021-11-21T11:09:51.908Z"
   },
   {
    "duration": 25,
    "start_time": "2021-11-21T11:09:51.918Z"
   },
   {
    "duration": 9,
    "start_time": "2021-11-21T11:09:51.945Z"
   },
   {
    "duration": 9,
    "start_time": "2021-11-21T11:09:51.958Z"
   },
   {
    "duration": 79,
    "start_time": "2021-11-21T11:09:51.969Z"
   },
   {
    "duration": 62,
    "start_time": "2021-11-21T11:09:52.049Z"
   },
   {
    "duration": 30,
    "start_time": "2021-11-21T11:09:52.113Z"
   },
   {
    "duration": 14,
    "start_time": "2021-11-21T11:09:52.144Z"
   },
   {
    "duration": 27,
    "start_time": "2021-11-21T11:09:52.160Z"
   },
   {
    "duration": 96,
    "start_time": "2021-11-21T11:09:52.189Z"
   },
   {
    "duration": 7,
    "start_time": "2021-11-21T11:15:39.696Z"
   },
   {
    "duration": 46,
    "start_time": "2021-11-21T11:15:50.010Z"
   },
   {
    "duration": 213,
    "start_time": "2021-11-21T11:16:29.607Z"
   },
   {
    "duration": 42,
    "start_time": "2021-11-21T11:16:41.618Z"
   },
   {
    "duration": 122,
    "start_time": "2021-11-21T11:17:45.874Z"
   },
   {
    "duration": 115,
    "start_time": "2021-11-21T11:18:25.779Z"
   },
   {
    "duration": 128,
    "start_time": "2021-11-21T11:18:34.272Z"
   },
   {
    "duration": 125,
    "start_time": "2021-11-21T11:18:46.960Z"
   },
   {
    "duration": 750,
    "start_time": "2021-11-21T11:18:51.997Z"
   },
   {
    "duration": 52,
    "start_time": "2021-11-21T11:18:52.749Z"
   },
   {
    "duration": 3,
    "start_time": "2021-11-21T11:18:52.803Z"
   },
   {
    "duration": 19,
    "start_time": "2021-11-21T11:18:52.808Z"
   },
   {
    "duration": 17,
    "start_time": "2021-11-21T11:18:52.829Z"
   },
   {
    "duration": 61,
    "start_time": "2021-11-21T11:18:52.847Z"
   },
   {
    "duration": 11,
    "start_time": "2021-11-21T11:18:52.909Z"
   },
   {
    "duration": 8,
    "start_time": "2021-11-21T11:18:52.923Z"
   },
   {
    "duration": 5,
    "start_time": "2021-11-21T11:18:52.933Z"
   },
   {
    "duration": 7,
    "start_time": "2021-11-21T11:18:52.940Z"
   },
   {
    "duration": 9,
    "start_time": "2021-11-21T11:18:52.948Z"
   },
   {
    "duration": 3,
    "start_time": "2021-11-21T11:18:52.959Z"
   },
   {
    "duration": 48,
    "start_time": "2021-11-21T11:18:52.964Z"
   },
   {
    "duration": 581,
    "start_time": "2021-11-21T11:18:53.014Z"
   },
   {
    "duration": 23,
    "start_time": "2021-11-21T11:18:53.597Z"
   },
   {
    "duration": 13,
    "start_time": "2021-11-21T11:18:53.622Z"
   },
   {
    "duration": 40,
    "start_time": "2021-11-21T11:18:53.637Z"
   },
   {
    "duration": 18,
    "start_time": "2021-11-21T11:18:53.680Z"
   },
   {
    "duration": 153,
    "start_time": "2021-11-21T11:18:53.700Z"
   },
   {
    "duration": 9,
    "start_time": "2021-11-21T11:18:53.855Z"
   },
   {
    "duration": 64,
    "start_time": "2021-11-21T11:18:53.866Z"
   },
   {
    "duration": 9,
    "start_time": "2021-11-21T11:18:53.932Z"
   },
   {
    "duration": 14,
    "start_time": "2021-11-21T11:18:53.944Z"
   },
   {
    "duration": 82,
    "start_time": "2021-11-21T11:18:53.961Z"
   },
   {
    "duration": 63,
    "start_time": "2021-11-21T11:18:54.044Z"
   },
   {
    "duration": 18,
    "start_time": "2021-11-21T11:18:54.109Z"
   },
   {
    "duration": 18,
    "start_time": "2021-11-21T11:18:54.129Z"
   },
   {
    "duration": 17,
    "start_time": "2021-11-21T11:18:54.148Z"
   },
   {
    "duration": 118,
    "start_time": "2021-11-21T11:18:54.167Z"
   },
   {
    "duration": 152,
    "start_time": "2021-11-21T11:18:54.287Z"
   },
   {
    "duration": 41,
    "start_time": "2021-11-21T11:19:21.121Z"
   },
   {
    "duration": 41,
    "start_time": "2021-11-21T11:20:33.052Z"
   },
   {
    "duration": 29,
    "start_time": "2021-11-21T11:20:49.937Z"
   },
   {
    "duration": 11,
    "start_time": "2021-11-21T11:21:33.002Z"
   },
   {
    "duration": 300,
    "start_time": "2021-11-21T11:31:21.680Z"
   },
   {
    "duration": 807,
    "start_time": "2021-11-21T11:32:50.475Z"
   },
   {
    "duration": 304,
    "start_time": "2021-11-21T11:33:14.591Z"
   },
   {
    "duration": 287,
    "start_time": "2021-11-21T11:33:38.793Z"
   },
   {
    "duration": 181,
    "start_time": "2021-11-21T11:33:41.840Z"
   },
   {
    "duration": 193,
    "start_time": "2021-11-21T11:33:44.575Z"
   },
   {
    "duration": 211,
    "start_time": "2021-11-21T11:33:50.296Z"
   },
   {
    "duration": 331,
    "start_time": "2021-11-21T11:34:15.232Z"
   },
   {
    "duration": 243,
    "start_time": "2021-11-21T11:34:22.187Z"
   },
   {
    "duration": 238,
    "start_time": "2021-11-21T11:34:26.863Z"
   },
   {
    "duration": 256,
    "start_time": "2021-11-21T11:34:30.119Z"
   },
   {
    "duration": 273,
    "start_time": "2021-11-21T11:34:33.718Z"
   },
   {
    "duration": 329,
    "start_time": "2021-11-21T11:34:36.789Z"
   },
   {
    "duration": 204,
    "start_time": "2021-11-21T11:34:40.394Z"
   },
   {
    "duration": 11,
    "start_time": "2021-11-21T11:37:12.915Z"
   },
   {
    "duration": 8,
    "start_time": "2021-11-21T11:39:03.882Z"
   },
   {
    "duration": 1580,
    "start_time": "2021-11-21T11:39:06.795Z"
   },
   {
    "duration": 4,
    "start_time": "2021-11-21T12:01:48.670Z"
   },
   {
    "duration": 4,
    "start_time": "2021-11-21T12:02:55.251Z"
   },
   {
    "duration": 5,
    "start_time": "2021-11-21T12:02:58.870Z"
   },
   {
    "duration": 104,
    "start_time": "2021-11-21T12:03:17.539Z"
   },
   {
    "duration": 341,
    "start_time": "2021-11-21T12:03:21.854Z"
   },
   {
    "duration": 117,
    "start_time": "2021-11-21T12:03:34.728Z"
   },
   {
    "duration": 351,
    "start_time": "2021-11-21T12:04:45.516Z"
   },
   {
    "duration": 5,
    "start_time": "2021-11-21T12:06:12.590Z"
   },
   {
    "duration": 109,
    "start_time": "2021-11-21T12:06:20.107Z"
   },
   {
    "duration": 110,
    "start_time": "2021-11-21T12:06:24.817Z"
   },
   {
    "duration": 120,
    "start_time": "2021-11-21T12:10:57.086Z"
   },
   {
    "duration": 5,
    "start_time": "2021-11-21T12:11:05.574Z"
   },
   {
    "duration": 5,
    "start_time": "2021-11-21T12:17:04.410Z"
   },
   {
    "duration": 15,
    "start_time": "2021-11-21T12:17:33.527Z"
   },
   {
    "duration": 9,
    "start_time": "2021-11-21T12:22:01.190Z"
   },
   {
    "duration": 15,
    "start_time": "2021-11-21T12:22:07.760Z"
   },
   {
    "duration": 8,
    "start_time": "2021-11-21T12:22:21.564Z"
   },
   {
    "duration": 672,
    "start_time": "2021-11-21T12:25:43.443Z"
   },
   {
    "duration": 44,
    "start_time": "2021-11-21T12:25:44.117Z"
   },
   {
    "duration": 3,
    "start_time": "2021-11-21T12:25:44.163Z"
   },
   {
    "duration": 24,
    "start_time": "2021-11-21T12:25:44.167Z"
   },
   {
    "duration": 16,
    "start_time": "2021-11-21T12:25:44.193Z"
   },
   {
    "duration": 31,
    "start_time": "2021-11-21T12:25:44.211Z"
   },
   {
    "duration": 10,
    "start_time": "2021-11-21T12:25:44.244Z"
   },
   {
    "duration": 13,
    "start_time": "2021-11-21T12:25:44.257Z"
   },
   {
    "duration": 4,
    "start_time": "2021-11-21T12:25:44.272Z"
   },
   {
    "duration": 35,
    "start_time": "2021-11-21T12:25:44.278Z"
   },
   {
    "duration": 15,
    "start_time": "2021-11-21T12:25:44.315Z"
   },
   {
    "duration": 11,
    "start_time": "2021-11-21T12:25:44.331Z"
   },
   {
    "duration": 21,
    "start_time": "2021-11-21T12:25:44.343Z"
   },
   {
    "duration": 579,
    "start_time": "2021-11-21T12:25:44.366Z"
   },
   {
    "duration": 22,
    "start_time": "2021-11-21T12:25:44.947Z"
   },
   {
    "duration": 9,
    "start_time": "2021-11-21T12:25:44.971Z"
   },
   {
    "duration": 27,
    "start_time": "2021-11-21T12:25:44.982Z"
   },
   {
    "duration": 8,
    "start_time": "2021-11-21T12:25:45.011Z"
   },
   {
    "duration": 123,
    "start_time": "2021-11-21T12:25:45.021Z"
   },
   {
    "duration": 8,
    "start_time": "2021-11-21T12:25:45.146Z"
   },
   {
    "duration": 63,
    "start_time": "2021-11-21T12:25:45.155Z"
   },
   {
    "duration": 7,
    "start_time": "2021-11-21T12:25:45.220Z"
   },
   {
    "duration": 7,
    "start_time": "2021-11-21T12:25:45.230Z"
   },
   {
    "duration": 87,
    "start_time": "2021-11-21T12:25:45.239Z"
   },
   {
    "duration": 18,
    "start_time": "2021-11-21T12:25:45.328Z"
   },
   {
    "duration": 17,
    "start_time": "2021-11-21T12:25:45.348Z"
   },
   {
    "duration": 50,
    "start_time": "2021-11-21T12:25:45.367Z"
   },
   {
    "duration": 17,
    "start_time": "2021-11-21T12:25:45.419Z"
   },
   {
    "duration": 105,
    "start_time": "2021-11-21T12:25:45.437Z"
   },
   {
    "duration": 32,
    "start_time": "2021-11-21T12:25:45.544Z"
   },
   {
    "duration": 223,
    "start_time": "2021-11-21T12:25:45.577Z"
   },
   {
    "duration": 5,
    "start_time": "2021-11-21T12:25:45.802Z"
   },
   {
    "duration": 15,
    "start_time": "2021-11-21T12:25:45.809Z"
   },
   {
    "duration": 55,
    "start_time": "2021-11-21T12:26:18.064Z"
   },
   {
    "duration": 33567,
    "start_time": "2021-11-21T12:26:18.122Z"
   },
   {
    "duration": 10,
    "start_time": "2021-11-21T12:26:58.949Z"
   },
   {
    "duration": 32622,
    "start_time": "2021-11-21T12:27:10.063Z"
   },
   {
    "duration": 14,
    "start_time": "2021-11-21T12:28:34.684Z"
   },
   {
    "duration": 6,
    "start_time": "2021-11-21T12:29:19.591Z"
   },
   {
    "duration": 10,
    "start_time": "2021-11-21T12:29:35.075Z"
   },
   {
    "duration": 32376,
    "start_time": "2021-11-21T12:33:33.224Z"
   },
   {
    "duration": 16,
    "start_time": "2021-11-21T12:38:09.400Z"
   },
   {
    "duration": 45,
    "start_time": "2021-11-21T12:38:14.032Z"
   },
   {
    "duration": 32735,
    "start_time": "2021-11-21T12:38:19.092Z"
   },
   {
    "duration": 42,
    "start_time": "2021-11-21T12:39:02.021Z"
   },
   {
    "duration": 135,
    "start_time": "2021-11-21T12:39:26.842Z"
   },
   {
    "duration": 31928,
    "start_time": "2021-11-21T12:41:21.316Z"
   },
   {
    "duration": 341,
    "start_time": "2021-11-21T12:44:37.047Z"
   },
   {
    "duration": 446,
    "start_time": "2021-11-21T12:44:56.321Z"
   },
   {
    "duration": 8,
    "start_time": "2021-11-21T12:45:39.562Z"
   },
   {
    "duration": 43,
    "start_time": "2021-11-21T12:45:44.469Z"
   },
   {
    "duration": 348,
    "start_time": "2021-11-21T12:46:04.418Z"
   },
   {
    "duration": 41,
    "start_time": "2021-11-21T12:46:07.286Z"
   },
   {
    "duration": 41,
    "start_time": "2021-11-21T12:46:16.462Z"
   },
   {
    "duration": 742,
    "start_time": "2021-11-21T12:46:33.201Z"
   },
   {
    "duration": 45,
    "start_time": "2021-11-21T12:46:33.945Z"
   },
   {
    "duration": 6,
    "start_time": "2021-11-21T12:46:33.993Z"
   },
   {
    "duration": 33,
    "start_time": "2021-11-21T12:46:34.001Z"
   },
   {
    "duration": 18,
    "start_time": "2021-11-21T12:46:34.035Z"
   },
   {
    "duration": 36,
    "start_time": "2021-11-21T12:46:34.055Z"
   },
   {
    "duration": 24,
    "start_time": "2021-11-21T12:46:34.093Z"
   },
   {
    "duration": 12,
    "start_time": "2021-11-21T12:46:34.121Z"
   },
   {
    "duration": 12,
    "start_time": "2021-11-21T12:46:34.135Z"
   },
   {
    "duration": 10,
    "start_time": "2021-11-21T12:46:34.149Z"
   },
   {
    "duration": 14,
    "start_time": "2021-11-21T12:46:34.161Z"
   },
   {
    "duration": 16,
    "start_time": "2021-11-21T12:46:34.177Z"
   },
   {
    "duration": 22,
    "start_time": "2021-11-21T12:46:34.195Z"
   },
   {
    "duration": 599,
    "start_time": "2021-11-21T12:46:34.219Z"
   },
   {
    "duration": 22,
    "start_time": "2021-11-21T12:46:34.820Z"
   },
   {
    "duration": 32,
    "start_time": "2021-11-21T12:46:34.844Z"
   },
   {
    "duration": 25,
    "start_time": "2021-11-21T12:46:34.878Z"
   },
   {
    "duration": 11,
    "start_time": "2021-11-21T12:46:34.905Z"
   },
   {
    "duration": 122,
    "start_time": "2021-11-21T12:46:34.918Z"
   },
   {
    "duration": 9,
    "start_time": "2021-11-21T12:46:35.042Z"
   },
   {
    "duration": 68,
    "start_time": "2021-11-21T12:46:35.052Z"
   },
   {
    "duration": 8,
    "start_time": "2021-11-21T12:46:35.122Z"
   },
   {
    "duration": 8,
    "start_time": "2021-11-21T12:46:35.133Z"
   },
   {
    "duration": 93,
    "start_time": "2021-11-21T12:46:35.143Z"
   },
   {
    "duration": 18,
    "start_time": "2021-11-21T12:46:35.237Z"
   },
   {
    "duration": 58,
    "start_time": "2021-11-21T12:46:35.257Z"
   },
   {
    "duration": 16,
    "start_time": "2021-11-21T12:46:35.317Z"
   },
   {
    "duration": 22,
    "start_time": "2021-11-21T12:46:35.335Z"
   },
   {
    "duration": 102,
    "start_time": "2021-11-21T12:46:35.359Z"
   },
   {
    "duration": 48,
    "start_time": "2021-11-21T12:46:35.463Z"
   },
   {
    "duration": 224,
    "start_time": "2021-11-21T12:46:35.513Z"
   },
   {
    "duration": 5,
    "start_time": "2021-11-21T12:46:35.740Z"
   },
   {
    "duration": 62,
    "start_time": "2021-11-21T12:46:35.746Z"
   },
   {
    "duration": 39,
    "start_time": "2021-11-21T12:46:35.810Z"
   },
   {
    "duration": 386,
    "start_time": "2021-11-21T12:52:52.421Z"
   },
   {
    "duration": 645,
    "start_time": "2021-11-21T12:52:57.310Z"
   },
   {
    "duration": 1308,
    "start_time": "2021-11-21T12:53:15.428Z"
   },
   {
    "duration": 13,
    "start_time": "2021-11-21T12:53:21.616Z"
   },
   {
    "duration": 12,
    "start_time": "2021-11-21T12:53:39.528Z"
   },
   {
    "duration": 48,
    "start_time": "2021-11-21T12:53:43.572Z"
   },
   {
    "duration": 47,
    "start_time": "2021-11-21T12:54:05.744Z"
   },
   {
    "duration": 14,
    "start_time": "2021-11-21T12:55:32.662Z"
   },
   {
    "duration": 329,
    "start_time": "2021-11-21T12:56:08.098Z"
   },
   {
    "duration": 14,
    "start_time": "2021-11-21T12:56:19.758Z"
   },
   {
    "duration": 199,
    "start_time": "2021-11-21T12:56:46.745Z"
   },
   {
    "duration": -170,
    "start_time": "2021-11-21T12:57:23.028Z"
   },
   {
    "duration": 199,
    "start_time": "2021-11-21T12:57:23.532Z"
   },
   {
    "duration": 328,
    "start_time": "2021-11-21T12:57:36.319Z"
   },
   {
    "duration": 14,
    "start_time": "2021-11-21T12:58:11.485Z"
   },
   {
    "duration": 192,
    "start_time": "2021-11-21T12:58:14.918Z"
   },
   {
    "duration": 190,
    "start_time": "2021-11-21T12:58:47.077Z"
   },
   {
    "duration": 202,
    "start_time": "2021-11-21T12:59:05.649Z"
   },
   {
    "duration": 207,
    "start_time": "2021-11-21T13:00:42.779Z"
   },
   {
    "duration": 33,
    "start_time": "2021-11-21T13:03:27.979Z"
   },
   {
    "duration": 9,
    "start_time": "2021-11-21T13:04:09.189Z"
   },
   {
    "duration": 752,
    "start_time": "2021-11-21T13:04:20.210Z"
   },
   {
    "duration": 45,
    "start_time": "2021-11-21T13:04:20.964Z"
   },
   {
    "duration": 3,
    "start_time": "2021-11-21T13:04:21.012Z"
   },
   {
    "duration": 32,
    "start_time": "2021-11-21T13:04:21.017Z"
   },
   {
    "duration": 19,
    "start_time": "2021-11-21T13:04:21.051Z"
   },
   {
    "duration": 70,
    "start_time": "2021-11-21T13:04:21.073Z"
   },
   {
    "duration": 12,
    "start_time": "2021-11-21T13:04:21.145Z"
   },
   {
    "duration": 9,
    "start_time": "2021-11-21T13:04:21.159Z"
   },
   {
    "duration": 6,
    "start_time": "2021-11-21T13:04:21.171Z"
   },
   {
    "duration": 19,
    "start_time": "2021-11-21T13:04:21.208Z"
   },
   {
    "duration": 11,
    "start_time": "2021-11-21T13:04:21.231Z"
   },
   {
    "duration": 7,
    "start_time": "2021-11-21T13:04:21.244Z"
   },
   {
    "duration": 13,
    "start_time": "2021-11-21T13:04:21.254Z"
   },
   {
    "duration": 2508,
    "start_time": "2021-11-21T13:04:21.269Z"
   },
   {
    "duration": 30,
    "start_time": "2021-11-21T13:04:23.779Z"
   },
   {
    "duration": 13,
    "start_time": "2021-11-21T13:04:23.811Z"
   },
   {
    "duration": 13,
    "start_time": "2021-11-21T13:04:23.826Z"
   },
   {
    "duration": 10,
    "start_time": "2021-11-21T13:04:23.842Z"
   },
   {
    "duration": 191,
    "start_time": "2021-11-21T13:04:23.854Z"
   },
   {
    "duration": 12,
    "start_time": "2021-11-21T13:04:24.047Z"
   },
   {
    "duration": 68,
    "start_time": "2021-11-21T13:04:24.061Z"
   },
   {
    "duration": 17,
    "start_time": "2021-11-21T13:04:24.131Z"
   },
   {
    "duration": 14,
    "start_time": "2021-11-21T13:04:24.150Z"
   },
   {
    "duration": 96,
    "start_time": "2021-11-21T13:04:24.166Z"
   },
   {
    "duration": 63,
    "start_time": "2021-11-21T13:04:24.264Z"
   },
   {
    "duration": 19,
    "start_time": "2021-11-21T13:04:24.329Z"
   },
   {
    "duration": 40,
    "start_time": "2021-11-21T13:04:24.352Z"
   },
   {
    "duration": 27,
    "start_time": "2021-11-21T13:04:24.394Z"
   },
   {
    "duration": 99,
    "start_time": "2021-11-21T13:04:24.427Z"
   },
   {
    "duration": 35,
    "start_time": "2021-11-21T13:04:24.528Z"
   },
   {
    "duration": 354,
    "start_time": "2021-11-21T13:04:24.565Z"
   },
   {
    "duration": 6,
    "start_time": "2021-11-21T13:04:24.922Z"
   },
   {
    "duration": 21,
    "start_time": "2021-11-21T13:04:24.930Z"
   },
   {
    "duration": 9,
    "start_time": "2021-11-21T13:04:24.953Z"
   },
   {
    "duration": 316,
    "start_time": "2021-11-21T13:04:24.963Z"
   },
   {
    "duration": 9,
    "start_time": "2021-11-21T13:04:36.848Z"
   },
   {
    "duration": 9,
    "start_time": "2021-11-21T13:04:37.294Z"
   },
   {
    "duration": 309,
    "start_time": "2021-11-21T13:04:44.531Z"
   },
   {
    "duration": 4,
    "start_time": "2021-11-21T13:05:30.087Z"
   },
   {
    "duration": 9,
    "start_time": "2021-11-21T13:05:30.893Z"
   },
   {
    "duration": 6,
    "start_time": "2021-11-21T13:05:56.557Z"
   },
   {
    "duration": 8,
    "start_time": "2021-11-21T13:05:56.948Z"
   },
   {
    "duration": 44,
    "start_time": "2021-11-21T13:06:12.171Z"
   },
   {
    "duration": 41,
    "start_time": "2021-11-21T13:12:07.148Z"
   },
   {
    "duration": 15,
    "start_time": "2021-11-21T13:12:14.606Z"
   },
   {
    "duration": 43,
    "start_time": "2021-11-21T13:12:22.290Z"
   },
   {
    "duration": 44,
    "start_time": "2021-11-21T13:12:26.087Z"
   },
   {
    "duration": 43,
    "start_time": "2021-11-21T13:12:28.994Z"
   },
   {
    "duration": 9,
    "start_time": "2021-11-21T13:12:29.327Z"
   },
   {
    "duration": 234,
    "start_time": "2021-11-21T13:12:34.105Z"
   },
   {
    "duration": 330,
    "start_time": "2021-11-21T13:13:03.575Z"
   },
   {
    "duration": 16,
    "start_time": "2021-11-21T13:17:38.237Z"
   },
   {
    "duration": 22,
    "start_time": "2021-11-21T13:17:41.779Z"
   },
   {
    "duration": 14,
    "start_time": "2021-11-21T13:26:18.488Z"
   },
   {
    "duration": 7,
    "start_time": "2021-11-21T13:26:27.362Z"
   },
   {
    "duration": 24,
    "start_time": "2021-11-21T13:27:36.710Z"
   },
   {
    "duration": 23,
    "start_time": "2021-11-21T13:27:43.771Z"
   },
   {
    "duration": 1474,
    "start_time": "2021-11-21T13:27:56.490Z"
   },
   {
    "duration": 335,
    "start_time": "2021-11-21T13:28:02.736Z"
   },
   {
    "duration": 215,
    "start_time": "2021-11-21T13:29:13.339Z"
   },
   {
    "duration": 126,
    "start_time": "2021-11-21T13:29:22.945Z"
   },
   {
    "duration": 84,
    "start_time": "2021-11-21T13:30:14.351Z"
   },
   {
    "duration": 66,
    "start_time": "2021-11-21T13:30:14.436Z"
   },
   {
    "duration": 3,
    "start_time": "2021-11-21T13:30:14.505Z"
   },
   {
    "duration": 40,
    "start_time": "2021-11-21T13:30:14.510Z"
   },
   {
    "duration": 28,
    "start_time": "2021-11-21T13:30:14.552Z"
   },
   {
    "duration": 49,
    "start_time": "2021-11-21T13:30:14.582Z"
   },
   {
    "duration": 11,
    "start_time": "2021-11-21T13:30:14.633Z"
   },
   {
    "duration": 11,
    "start_time": "2021-11-21T13:30:14.645Z"
   },
   {
    "duration": 12,
    "start_time": "2021-11-21T13:30:14.657Z"
   },
   {
    "duration": 16,
    "start_time": "2021-11-21T13:30:14.670Z"
   },
   {
    "duration": 26,
    "start_time": "2021-11-21T13:30:14.688Z"
   },
   {
    "duration": 3,
    "start_time": "2021-11-21T13:30:14.716Z"
   },
   {
    "duration": 14,
    "start_time": "2021-11-21T13:30:14.721Z"
   },
   {
    "duration": 20,
    "start_time": "2021-11-21T13:30:14.737Z"
   },
   {
    "duration": 20,
    "start_time": "2021-11-21T13:30:14.759Z"
   },
   {
    "duration": 10,
    "start_time": "2021-11-21T13:30:14.807Z"
   },
   {
    "duration": 14,
    "start_time": "2021-11-21T13:30:14.819Z"
   },
   {
    "duration": 12,
    "start_time": "2021-11-21T13:30:14.835Z"
   },
   {
    "duration": 173,
    "start_time": "2021-11-21T13:30:14.849Z"
   },
   {
    "duration": 10,
    "start_time": "2021-11-21T13:30:15.023Z"
   },
   {
    "duration": 29,
    "start_time": "2021-11-21T13:30:15.035Z"
   },
   {
    "duration": 42,
    "start_time": "2021-11-21T13:30:15.065Z"
   },
   {
    "duration": 8,
    "start_time": "2021-11-21T13:30:15.109Z"
   },
   {
    "duration": 99,
    "start_time": "2021-11-21T13:30:15.118Z"
   },
   {
    "duration": 16,
    "start_time": "2021-11-21T13:30:15.219Z"
   },
   {
    "duration": 21,
    "start_time": "2021-11-21T13:30:15.237Z"
   },
   {
    "duration": 12,
    "start_time": "2021-11-21T13:30:15.259Z"
   },
   {
    "duration": 46,
    "start_time": "2021-11-21T13:30:15.273Z"
   },
   {
    "duration": 35,
    "start_time": "2021-11-21T13:30:15.320Z"
   },
   {
    "duration": 66,
    "start_time": "2021-11-21T13:30:15.360Z"
   },
   {
    "duration": 264,
    "start_time": "2021-11-21T13:30:15.428Z"
   },
   {
    "duration": 14,
    "start_time": "2021-11-21T13:30:15.694Z"
   },
   {
    "duration": 8,
    "start_time": "2021-11-21T13:30:15.710Z"
   },
   {
    "duration": 40,
    "start_time": "2021-11-21T13:30:15.720Z"
   },
   {
    "duration": 9,
    "start_time": "2021-11-21T13:30:15.762Z"
   },
   {
    "duration": 238,
    "start_time": "2021-11-21T13:30:15.772Z"
   },
   {
    "duration": 22,
    "start_time": "2021-11-21T13:30:16.012Z"
   },
   {
    "duration": 233,
    "start_time": "2021-11-21T13:30:16.036Z"
   },
   {
    "duration": 62,
    "start_time": "2021-11-21T13:30:38.580Z"
   },
   {
    "duration": 391,
    "start_time": "2021-11-21T13:30:49.425Z"
   },
   {
    "duration": 347,
    "start_time": "2021-11-21T13:30:54.879Z"
   },
   {
    "duration": 7,
    "start_time": "2021-11-21T13:31:07.004Z"
   },
   {
    "duration": 216,
    "start_time": "2021-11-21T13:33:06.134Z"
   },
   {
    "duration": 396,
    "start_time": "2021-11-21T16:58:49.972Z"
   },
   {
    "duration": 971,
    "start_time": "2021-11-21T17:00:35.531Z"
   },
   {
    "duration": 50,
    "start_time": "2021-11-21T17:00:36.505Z"
   },
   {
    "duration": 4,
    "start_time": "2021-11-21T17:00:36.558Z"
   },
   {
    "duration": 36,
    "start_time": "2021-11-21T17:00:36.566Z"
   },
   {
    "duration": 24,
    "start_time": "2021-11-21T17:00:36.604Z"
   },
   {
    "duration": 78,
    "start_time": "2021-11-21T17:00:36.630Z"
   },
   {
    "duration": 14,
    "start_time": "2021-11-21T17:00:36.710Z"
   },
   {
    "duration": 11,
    "start_time": "2021-11-21T17:00:36.728Z"
   },
   {
    "duration": 6,
    "start_time": "2021-11-21T17:00:36.742Z"
   },
   {
    "duration": 8,
    "start_time": "2021-11-21T17:00:36.750Z"
   },
   {
    "duration": 47,
    "start_time": "2021-11-21T17:00:36.760Z"
   },
   {
    "duration": 9,
    "start_time": "2021-11-21T17:00:36.809Z"
   },
   {
    "duration": 16,
    "start_time": "2021-11-21T17:00:36.821Z"
   },
   {
    "duration": 742,
    "start_time": "2021-11-21T17:00:36.840Z"
   },
   {
    "duration": 39,
    "start_time": "2021-11-21T17:00:37.585Z"
   },
   {
    "duration": 13,
    "start_time": "2021-11-21T17:00:37.627Z"
   },
   {
    "duration": 14,
    "start_time": "2021-11-21T17:00:37.642Z"
   },
   {
    "duration": 50,
    "start_time": "2021-11-21T17:00:37.658Z"
   },
   {
    "duration": 220,
    "start_time": "2021-11-21T17:00:37.710Z"
   },
   {
    "duration": 12,
    "start_time": "2021-11-21T17:00:37.932Z"
   },
   {
    "duration": 84,
    "start_time": "2021-11-21T17:00:37.946Z"
   },
   {
    "duration": 10,
    "start_time": "2021-11-21T17:00:38.033Z"
   },
   {
    "duration": 11,
    "start_time": "2021-11-21T17:00:38.048Z"
   },
   {
    "duration": 163,
    "start_time": "2021-11-21T17:00:38.062Z"
   },
   {
    "duration": 28,
    "start_time": "2021-11-21T17:00:38.227Z"
   },
   {
    "duration": 64,
    "start_time": "2021-11-21T17:00:38.258Z"
   },
   {
    "duration": 26,
    "start_time": "2021-11-21T17:00:38.324Z"
   },
   {
    "duration": 56,
    "start_time": "2021-11-21T17:00:38.353Z"
   },
   {
    "duration": 119,
    "start_time": "2021-11-21T17:00:38.411Z"
   },
   {
    "duration": 70,
    "start_time": "2021-11-21T17:00:38.532Z"
   },
   {
    "duration": 370,
    "start_time": "2021-11-21T17:00:38.604Z"
   },
   {
    "duration": 6,
    "start_time": "2021-11-21T17:00:38.977Z"
   },
   {
    "duration": 12,
    "start_time": "2021-11-21T17:00:39.000Z"
   },
   {
    "duration": 63,
    "start_time": "2021-11-21T17:00:39.015Z"
   },
   {
    "duration": 11,
    "start_time": "2021-11-21T17:00:39.101Z"
   },
   {
    "duration": 354,
    "start_time": "2021-11-21T17:00:39.114Z"
   },
   {
    "duration": 49,
    "start_time": "2021-11-21T17:00:39.471Z"
   },
   {
    "duration": 345,
    "start_time": "2021-11-21T17:00:39.522Z"
   },
   {
    "duration": 6,
    "start_time": "2021-11-21T17:00:39.870Z"
   },
   {
    "duration": 6,
    "start_time": "2021-11-21T17:00:53.738Z"
   },
   {
    "duration": 6,
    "start_time": "2021-11-21T17:01:12.690Z"
   },
   {
    "duration": 14,
    "start_time": "2021-11-21T17:06:59.866Z"
   },
   {
    "duration": 6,
    "start_time": "2021-11-21T17:12:08.686Z"
   },
   {
    "duration": 16,
    "start_time": "2021-11-21T17:12:10.928Z"
   },
   {
    "duration": 24,
    "start_time": "2021-11-21T17:13:14.478Z"
   },
   {
    "duration": 126,
    "start_time": "2021-11-21T17:14:41.493Z"
   },
   {
    "duration": 10,
    "start_time": "2021-11-21T17:14:48.927Z"
   },
   {
    "duration": 13,
    "start_time": "2021-11-21T17:14:53.225Z"
   },
   {
    "duration": 22,
    "start_time": "2021-11-21T17:15:02.677Z"
   },
   {
    "duration": 20,
    "start_time": "2021-11-21T17:15:26.399Z"
   },
   {
    "duration": 17,
    "start_time": "2021-11-21T17:15:28.262Z"
   },
   {
    "duration": 22,
    "start_time": "2021-11-21T17:17:01.142Z"
   },
   {
    "duration": 21,
    "start_time": "2021-11-21T17:17:06.292Z"
   },
   {
    "duration": 108,
    "start_time": "2021-11-21T17:19:19.156Z"
   },
   {
    "duration": 115,
    "start_time": "2021-11-21T17:19:24.962Z"
   },
   {
    "duration": 18,
    "start_time": "2021-11-21T17:19:29.496Z"
   },
   {
    "duration": 19,
    "start_time": "2021-11-21T17:19:49.678Z"
   },
   {
    "duration": 25,
    "start_time": "2021-11-21T17:19:53.102Z"
   },
   {
    "duration": 487,
    "start_time": "2021-11-21T17:20:04.543Z"
   },
   {
    "duration": 119,
    "start_time": "2021-11-21T17:20:17.559Z"
   },
   {
    "duration": 111,
    "start_time": "2021-11-21T17:20:30.096Z"
   },
   {
    "duration": 336,
    "start_time": "2021-11-21T17:20:42.055Z"
   },
   {
    "duration": 20,
    "start_time": "2021-11-21T17:20:51.512Z"
   },
   {
    "duration": 26,
    "start_time": "2021-11-21T17:20:52.263Z"
   },
   {
    "duration": 32,
    "start_time": "2021-11-21T17:21:08.321Z"
   },
   {
    "duration": 22,
    "start_time": "2021-11-21T17:21:09.353Z"
   },
   {
    "duration": 9,
    "start_time": "2021-11-21T17:22:56.303Z"
   },
   {
    "duration": 14,
    "start_time": "2021-11-21T17:23:56.814Z"
   },
   {
    "duration": 23,
    "start_time": "2021-11-21T17:24:00.755Z"
   },
   {
    "duration": 8682,
    "start_time": "2021-11-21T17:24:24.310Z"
   },
   {
    "duration": 8,
    "start_time": "2021-11-21T17:24:56.502Z"
   },
   {
    "duration": 27,
    "start_time": "2021-11-21T17:25:13.852Z"
   },
   {
    "duration": 9,
    "start_time": "2021-11-21T17:25:17.010Z"
   },
   {
    "duration": 23,
    "start_time": "2021-11-21T17:25:42.568Z"
   },
   {
    "duration": 6,
    "start_time": "2021-11-21T17:26:01.143Z"
   },
   {
    "duration": 9,
    "start_time": "2021-11-21T17:26:03.020Z"
   },
   {
    "duration": 699,
    "start_time": "2021-11-21T17:26:07.519Z"
   },
   {
    "duration": 384,
    "start_time": "2021-11-21T17:27:18.834Z"
   },
   {
    "duration": 365,
    "start_time": "2021-11-21T17:27:34.045Z"
   },
   {
    "duration": 367,
    "start_time": "2021-11-21T17:27:38.100Z"
   },
   {
    "duration": 112,
    "start_time": "2021-11-21T17:29:28.765Z"
   },
   {
    "duration": 116,
    "start_time": "2021-11-21T17:29:37.763Z"
   },
   {
    "duration": 18,
    "start_time": "2021-11-21T17:31:41.698Z"
   },
   {
    "duration": 35,
    "start_time": "2021-11-21T17:31:58.091Z"
   },
   {
    "duration": 29,
    "start_time": "2021-11-21T17:32:12.539Z"
   },
   {
    "duration": 29,
    "start_time": "2021-11-21T17:32:16.212Z"
   },
   {
    "duration": 933,
    "start_time": "2021-11-21T17:32:21.308Z"
   },
   {
    "duration": 50,
    "start_time": "2021-11-21T17:32:22.244Z"
   },
   {
    "duration": 5,
    "start_time": "2021-11-21T17:32:22.297Z"
   },
   {
    "duration": 47,
    "start_time": "2021-11-21T17:32:22.305Z"
   },
   {
    "duration": 52,
    "start_time": "2021-11-21T17:32:22.355Z"
   },
   {
    "duration": 51,
    "start_time": "2021-11-21T17:32:22.409Z"
   },
   {
    "duration": 39,
    "start_time": "2021-11-21T17:32:22.462Z"
   },
   {
    "duration": 12,
    "start_time": "2021-11-21T17:32:22.505Z"
   },
   {
    "duration": 7,
    "start_time": "2021-11-21T17:32:22.521Z"
   },
   {
    "duration": 12,
    "start_time": "2021-11-21T17:32:22.532Z"
   },
   {
    "duration": 55,
    "start_time": "2021-11-21T17:32:22.547Z"
   },
   {
    "duration": 4,
    "start_time": "2021-11-21T17:32:22.605Z"
   },
   {
    "duration": 18,
    "start_time": "2021-11-21T17:32:22.613Z"
   },
   {
    "duration": 950,
    "start_time": "2021-11-21T17:32:22.633Z"
   },
   {
    "duration": 37,
    "start_time": "2021-11-21T17:32:23.586Z"
   },
   {
    "duration": 14,
    "start_time": "2021-11-21T17:32:23.626Z"
   },
   {
    "duration": 14,
    "start_time": "2021-11-21T17:32:23.643Z"
   },
   {
    "duration": 52,
    "start_time": "2021-11-21T17:32:23.660Z"
   },
   {
    "duration": 218,
    "start_time": "2021-11-21T17:32:23.715Z"
   },
   {
    "duration": 66,
    "start_time": "2021-11-21T17:32:23.935Z"
   },
   {
    "duration": 33,
    "start_time": "2021-11-21T17:32:24.004Z"
   },
   {
    "duration": 61,
    "start_time": "2021-11-21T17:32:24.040Z"
   },
   {
    "duration": 12,
    "start_time": "2021-11-21T17:32:24.106Z"
   },
   {
    "duration": 120,
    "start_time": "2021-11-21T17:32:24.122Z"
   },
   {
    "duration": 72,
    "start_time": "2021-11-21T17:32:24.244Z"
   },
   {
    "duration": 51,
    "start_time": "2021-11-21T17:32:24.319Z"
   },
   {
    "duration": 40,
    "start_time": "2021-11-21T17:32:24.373Z"
   },
   {
    "duration": 36,
    "start_time": "2021-11-21T17:32:24.416Z"
   },
   {
    "duration": 124,
    "start_time": "2021-11-21T17:32:24.454Z"
   },
   {
    "duration": 67,
    "start_time": "2021-11-21T17:32:24.580Z"
   },
   {
    "duration": 390,
    "start_time": "2021-11-21T17:32:24.650Z"
   },
   {
    "duration": 7,
    "start_time": "2021-11-21T17:32:25.042Z"
   },
   {
    "duration": 17,
    "start_time": "2021-11-21T17:32:25.051Z"
   },
   {
    "duration": 89,
    "start_time": "2021-11-21T17:32:25.071Z"
   },
   {
    "duration": 12,
    "start_time": "2021-11-21T17:32:25.163Z"
   },
   {
    "duration": 345,
    "start_time": "2021-11-21T17:32:25.201Z"
   },
   {
    "duration": 32,
    "start_time": "2021-11-21T17:32:25.548Z"
   },
   {
    "duration": 19,
    "start_time": "2021-11-21T17:32:25.601Z"
   },
   {
    "duration": 35,
    "start_time": "2021-11-21T17:32:25.623Z"
   },
   {
    "duration": 40,
    "start_time": "2021-11-21T17:32:25.661Z"
   },
   {
    "duration": 17,
    "start_time": "2021-11-21T17:32:25.703Z"
   },
   {
    "duration": 377,
    "start_time": "2021-11-21T17:32:25.723Z"
   },
   {
    "duration": 19,
    "start_time": "2021-11-21T17:32:46.926Z"
   },
   {
    "duration": 19,
    "start_time": "2021-11-21T17:33:05.896Z"
   },
   {
    "duration": 32,
    "start_time": "2021-11-21T17:33:46.220Z"
   },
   {
    "duration": 22,
    "start_time": "2021-11-21T17:33:50.928Z"
   },
   {
    "duration": 7,
    "start_time": "2021-11-21T17:33:54.638Z"
   },
   {
    "duration": 9,
    "start_time": "2021-11-21T17:33:54.901Z"
   },
   {
    "duration": 373,
    "start_time": "2021-11-21T17:33:56.279Z"
   },
   {
    "duration": 515,
    "start_time": "2021-11-21T17:35:17.147Z"
   },
   {
    "duration": 372,
    "start_time": "2021-11-21T17:35:39.031Z"
   },
   {
    "duration": 356,
    "start_time": "2021-11-21T17:36:00.048Z"
   },
   {
    "duration": 353,
    "start_time": "2021-11-21T17:36:02.318Z"
   },
   {
    "duration": 361,
    "start_time": "2021-11-21T17:36:09.425Z"
   },
   {
    "duration": 361,
    "start_time": "2021-11-21T17:36:16.572Z"
   },
   {
    "duration": 112,
    "start_time": "2021-11-21T17:37:28.800Z"
   },
   {
    "duration": -1026,
    "start_time": "2021-11-21T17:37:49.282Z"
   },
   {
    "duration": -1025,
    "start_time": "2021-11-21T17:38:23.390Z"
   },
   {
    "duration": 369,
    "start_time": "2021-11-21T17:38:25.832Z"
   },
   {
    "duration": 267,
    "start_time": "2021-11-21T17:40:38.189Z"
   },
   {
    "duration": 277,
    "start_time": "2021-11-21T17:40:59.491Z"
   },
   {
    "duration": 433,
    "start_time": "2021-11-21T17:41:03.298Z"
   },
   {
    "duration": 284,
    "start_time": "2021-11-21T17:41:09.132Z"
   },
   {
    "duration": 275,
    "start_time": "2021-11-21T17:41:13.106Z"
   },
   {
    "duration": 23,
    "start_time": "2021-11-21T17:43:01.492Z"
   },
   {
    "duration": 728,
    "start_time": "2021-11-21T17:49:03.461Z"
   },
   {
    "duration": 276,
    "start_time": "2021-11-21T17:49:23.826Z"
   },
   {
    "duration": 9,
    "start_time": "2021-11-21T17:53:42.687Z"
   },
   {
    "duration": 283,
    "start_time": "2021-11-21T17:57:21.376Z"
   },
   {
    "duration": 10,
    "start_time": "2021-11-21T18:04:28.974Z"
   },
   {
    "duration": 66,
    "start_time": "2021-11-21T18:04:34.584Z"
   },
   {
    "duration": 43,
    "start_time": "2021-11-21T18:05:45.399Z"
   },
   {
    "duration": 52,
    "start_time": "2021-11-21T18:06:09.203Z"
   },
   {
    "duration": 6,
    "start_time": "2021-11-21T18:11:26.297Z"
   },
   {
    "duration": 60,
    "start_time": "2021-11-21T18:11:35.942Z"
   },
   {
    "duration": 872,
    "start_time": "2021-11-21T18:12:06.042Z"
   },
   {
    "duration": 52,
    "start_time": "2021-11-21T18:12:06.918Z"
   },
   {
    "duration": 4,
    "start_time": "2021-11-21T18:12:06.974Z"
   },
   {
    "duration": 49,
    "start_time": "2021-11-21T18:12:06.982Z"
   },
   {
    "duration": 29,
    "start_time": "2021-11-21T18:12:07.035Z"
   },
   {
    "duration": 83,
    "start_time": "2021-11-21T18:12:07.067Z"
   },
   {
    "duration": 46,
    "start_time": "2021-11-21T18:12:07.154Z"
   },
   {
    "duration": 15,
    "start_time": "2021-11-21T18:12:07.203Z"
   },
   {
    "duration": 9,
    "start_time": "2021-11-21T18:12:07.223Z"
   },
   {
    "duration": 13,
    "start_time": "2021-11-21T18:12:07.236Z"
   },
   {
    "duration": 51,
    "start_time": "2021-11-21T18:12:07.251Z"
   },
   {
    "duration": 4,
    "start_time": "2021-11-21T18:12:07.304Z"
   },
   {
    "duration": 16,
    "start_time": "2021-11-21T18:12:07.311Z"
   },
   {
    "duration": 744,
    "start_time": "2021-11-21T18:12:07.330Z"
   },
   {
    "duration": 48,
    "start_time": "2021-11-21T18:12:08.078Z"
   },
   {
    "duration": 16,
    "start_time": "2021-11-21T18:12:08.130Z"
   },
   {
    "duration": 54,
    "start_time": "2021-11-21T18:12:08.149Z"
   },
   {
    "duration": 16,
    "start_time": "2021-11-21T18:12:08.206Z"
   },
   {
    "duration": 222,
    "start_time": "2021-11-21T18:12:08.226Z"
   },
   {
    "duration": 61,
    "start_time": "2021-11-21T18:12:08.450Z"
   },
   {
    "duration": 36,
    "start_time": "2021-11-21T18:12:08.514Z"
   },
   {
    "duration": 49,
    "start_time": "2021-11-21T18:12:08.553Z"
   },
   {
    "duration": 14,
    "start_time": "2021-11-21T18:12:08.605Z"
   },
   {
    "duration": 190,
    "start_time": "2021-11-21T18:12:08.622Z"
   },
   {
    "duration": 28,
    "start_time": "2021-11-21T18:12:08.815Z"
   },
   {
    "duration": 62,
    "start_time": "2021-11-21T18:12:08.846Z"
   },
   {
    "duration": 25,
    "start_time": "2021-11-21T18:12:08.914Z"
   },
   {
    "duration": 31,
    "start_time": "2021-11-21T18:12:08.942Z"
   },
   {
    "duration": 137,
    "start_time": "2021-11-21T18:12:08.999Z"
   },
   {
    "duration": 66,
    "start_time": "2021-11-21T18:12:09.139Z"
   },
   {
    "duration": 371,
    "start_time": "2021-11-21T18:12:09.208Z"
   },
   {
    "duration": 8,
    "start_time": "2021-11-21T18:12:09.581Z"
   },
   {
    "duration": 11,
    "start_time": "2021-11-21T18:12:09.601Z"
   },
   {
    "duration": 85,
    "start_time": "2021-11-21T18:12:09.615Z"
   },
   {
    "duration": 11,
    "start_time": "2021-11-21T18:12:09.702Z"
   },
   {
    "duration": 375,
    "start_time": "2021-11-21T18:12:09.715Z"
   },
   {
    "duration": 36,
    "start_time": "2021-11-21T18:12:10.093Z"
   },
   {
    "duration": 30,
    "start_time": "2021-11-21T18:12:10.132Z"
   },
   {
    "duration": 48,
    "start_time": "2021-11-21T18:12:10.165Z"
   },
   {
    "duration": 6,
    "start_time": "2021-11-21T18:12:10.215Z"
   },
   {
    "duration": 299,
    "start_time": "2021-11-21T18:12:10.224Z"
   },
   {
    "duration": 285,
    "start_time": "2021-11-21T18:12:10.526Z"
   },
   {
    "duration": 287,
    "start_time": "2021-11-21T18:12:10.813Z"
   },
   {
    "duration": 283,
    "start_time": "2021-11-21T18:12:11.102Z"
   },
   {
    "duration": 288,
    "start_time": "2021-11-21T18:12:11.388Z"
   },
   {
    "duration": 57,
    "start_time": "2021-11-21T18:12:11.678Z"
   },
   {
    "duration": 93,
    "start_time": "2021-11-21T18:12:11.737Z"
   },
   {
    "duration": 39,
    "start_time": "2021-11-21T18:12:32.447Z"
   },
   {
    "duration": 14,
    "start_time": "2021-11-21T18:13:08.228Z"
   },
   {
    "duration": 6,
    "start_time": "2021-11-21T18:13:58.903Z"
   },
   {
    "duration": 8,
    "start_time": "2021-11-21T18:14:11.426Z"
   },
   {
    "duration": 9,
    "start_time": "2021-11-21T18:14:48.911Z"
   },
   {
    "duration": 10,
    "start_time": "2021-11-21T18:15:12.341Z"
   },
   {
    "duration": 10,
    "start_time": "2021-11-21T18:15:36.939Z"
   },
   {
    "duration": 10,
    "start_time": "2021-11-21T18:15:47.495Z"
   },
   {
    "duration": 112,
    "start_time": "2021-11-21T18:17:55.879Z"
   },
   {
    "duration": 952,
    "start_time": "2021-11-21T18:18:01.112Z"
   },
   {
    "duration": 87,
    "start_time": "2021-11-21T18:18:02.068Z"
   },
   {
    "duration": 8,
    "start_time": "2021-11-21T18:18:02.159Z"
   },
   {
    "duration": 54,
    "start_time": "2021-11-21T18:18:02.170Z"
   },
   {
    "duration": 27,
    "start_time": "2021-11-21T18:18:02.227Z"
   },
   {
    "duration": 74,
    "start_time": "2021-11-21T18:18:02.256Z"
   },
   {
    "duration": 17,
    "start_time": "2021-11-21T18:18:02.332Z"
   },
   {
    "duration": 18,
    "start_time": "2021-11-21T18:18:02.355Z"
   },
   {
    "duration": 8,
    "start_time": "2021-11-21T18:18:02.403Z"
   },
   {
    "duration": 34,
    "start_time": "2021-11-21T18:18:02.414Z"
   },
   {
    "duration": 26,
    "start_time": "2021-11-21T18:18:02.450Z"
   },
   {
    "duration": 14,
    "start_time": "2021-11-21T18:18:02.479Z"
   },
   {
    "duration": 23,
    "start_time": "2021-11-21T18:18:02.495Z"
   },
   {
    "duration": 756,
    "start_time": "2021-11-21T18:18:02.521Z"
   },
   {
    "duration": 65,
    "start_time": "2021-11-21T18:18:03.281Z"
   },
   {
    "duration": 22,
    "start_time": "2021-11-21T18:18:03.349Z"
   },
   {
    "duration": 46,
    "start_time": "2021-11-21T18:18:03.375Z"
   },
   {
    "duration": 24,
    "start_time": "2021-11-21T18:18:03.425Z"
   },
   {
    "duration": 276,
    "start_time": "2021-11-21T18:18:03.453Z"
   },
   {
    "duration": 69,
    "start_time": "2021-11-21T18:18:03.731Z"
   },
   {
    "duration": 36,
    "start_time": "2021-11-21T18:18:03.803Z"
   },
   {
    "duration": 65,
    "start_time": "2021-11-21T18:18:03.841Z"
   },
   {
    "duration": 13,
    "start_time": "2021-11-21T18:18:03.912Z"
   },
   {
    "duration": 123,
    "start_time": "2021-11-21T18:18:03.928Z"
   },
   {
    "duration": 74,
    "start_time": "2021-11-21T18:18:04.053Z"
   },
   {
    "duration": 28,
    "start_time": "2021-11-21T18:18:04.129Z"
   },
   {
    "duration": 58,
    "start_time": "2021-11-21T18:18:04.160Z"
   },
   {
    "duration": 28,
    "start_time": "2021-11-21T18:18:04.221Z"
   },
   {
    "duration": 152,
    "start_time": "2021-11-21T18:18:04.251Z"
   },
   {
    "duration": 67,
    "start_time": "2021-11-21T18:18:04.406Z"
   },
   {
    "duration": 387,
    "start_time": "2021-11-21T18:18:04.476Z"
   },
   {
    "duration": 6,
    "start_time": "2021-11-21T18:18:04.865Z"
   },
   {
    "duration": 37,
    "start_time": "2021-11-21T18:18:04.873Z"
   },
   {
    "duration": 72,
    "start_time": "2021-11-21T18:18:04.912Z"
   },
   {
    "duration": 23,
    "start_time": "2021-11-21T18:18:04.986Z"
   },
   {
    "duration": 365,
    "start_time": "2021-11-21T18:18:05.012Z"
   },
   {
    "duration": 47,
    "start_time": "2021-11-21T18:18:05.380Z"
   },
   {
    "duration": 31,
    "start_time": "2021-11-21T18:18:05.430Z"
   },
   {
    "duration": 55,
    "start_time": "2021-11-21T18:18:05.464Z"
   },
   {
    "duration": 6,
    "start_time": "2021-11-21T18:18:05.521Z"
   },
   {
    "duration": 392,
    "start_time": "2021-11-21T18:18:05.530Z"
   },
   {
    "duration": 502,
    "start_time": "2021-11-21T18:18:05.924Z"
   },
   {
    "duration": 286,
    "start_time": "2021-11-21T18:18:06.429Z"
   },
   {
    "duration": 395,
    "start_time": "2021-11-21T18:18:06.717Z"
   },
   {
    "duration": 540,
    "start_time": "2021-11-21T18:18:07.115Z"
   },
   {
    "duration": 61,
    "start_time": "2021-11-21T18:18:07.658Z"
   },
   {
    "duration": 13,
    "start_time": "2021-11-21T18:18:07.722Z"
   },
   {
    "duration": 63,
    "start_time": "2021-11-21T18:18:07.737Z"
   },
   {
    "duration": 10,
    "start_time": "2021-11-21T18:18:26.126Z"
   },
   {
    "duration": 463,
    "start_time": "2021-11-21T18:20:44.677Z"
   },
   {
    "duration": 393,
    "start_time": "2021-11-21T18:20:50.009Z"
   },
   {
    "duration": 444,
    "start_time": "2021-11-21T18:21:11.704Z"
   },
   {
    "duration": 12,
    "start_time": "2021-11-21T18:21:19.407Z"
   },
   {
    "duration": 130,
    "start_time": "2021-11-21T18:21:42.846Z"
   },
   {
    "duration": 12,
    "start_time": "2021-11-21T18:21:50.768Z"
   },
   {
    "duration": 10,
    "start_time": "2021-11-21T18:24:27.984Z"
   },
   {
    "duration": 15,
    "start_time": "2021-11-21T18:24:28.669Z"
   },
   {
    "duration": 11,
    "start_time": "2021-11-21T18:24:43.184Z"
   },
   {
    "duration": 12,
    "start_time": "2021-11-21T18:24:44.368Z"
   },
   {
    "duration": 12,
    "start_time": "2021-11-21T18:25:12.001Z"
   },
   {
    "duration": 11,
    "start_time": "2021-11-21T18:25:18.804Z"
   },
   {
    "duration": 359,
    "start_time": "2021-11-21T18:26:10.608Z"
   },
   {
    "duration": 348,
    "start_time": "2021-11-21T18:28:44.612Z"
   },
   {
    "duration": 8,
    "start_time": "2021-11-21T18:28:48.763Z"
   },
   {
    "duration": 18,
    "start_time": "2021-11-21T18:28:50.318Z"
   },
   {
    "duration": 12,
    "start_time": "2021-11-21T18:29:00.348Z"
   },
   {
    "duration": 958,
    "start_time": "2021-11-21T18:29:04.769Z"
   },
   {
    "duration": 75,
    "start_time": "2021-11-21T18:29:05.730Z"
   },
   {
    "duration": 3,
    "start_time": "2021-11-21T18:29:05.808Z"
   },
   {
    "duration": 36,
    "start_time": "2021-11-21T18:29:05.814Z"
   },
   {
    "duration": 24,
    "start_time": "2021-11-21T18:29:05.852Z"
   },
   {
    "duration": 51,
    "start_time": "2021-11-21T18:29:05.899Z"
   },
   {
    "duration": 15,
    "start_time": "2021-11-21T18:29:05.953Z"
   },
   {
    "duration": 12,
    "start_time": "2021-11-21T18:29:06.000Z"
   },
   {
    "duration": 14,
    "start_time": "2021-11-21T18:29:06.015Z"
   },
   {
    "duration": 17,
    "start_time": "2021-11-21T18:29:06.032Z"
   },
   {
    "duration": 15,
    "start_time": "2021-11-21T18:29:06.051Z"
   },
   {
    "duration": 3,
    "start_time": "2021-11-21T18:29:06.069Z"
   },
   {
    "duration": 37,
    "start_time": "2021-11-21T18:29:06.075Z"
   },
   {
    "duration": 745,
    "start_time": "2021-11-21T18:29:06.114Z"
   },
   {
    "duration": 47,
    "start_time": "2021-11-21T18:29:06.861Z"
   },
   {
    "duration": 14,
    "start_time": "2021-11-21T18:29:06.910Z"
   },
   {
    "duration": 15,
    "start_time": "2021-11-21T18:29:06.926Z"
   },
   {
    "duration": 14,
    "start_time": "2021-11-21T18:29:06.943Z"
   },
   {
    "duration": 250,
    "start_time": "2021-11-21T18:29:06.959Z"
   },
   {
    "duration": 12,
    "start_time": "2021-11-21T18:29:07.212Z"
   },
   {
    "duration": 32,
    "start_time": "2021-11-21T18:29:07.226Z"
   },
   {
    "duration": 44,
    "start_time": "2021-11-21T18:29:07.261Z"
   },
   {
    "duration": 13,
    "start_time": "2021-11-21T18:29:07.311Z"
   },
   {
    "duration": 114,
    "start_time": "2021-11-21T18:29:07.327Z"
   },
   {
    "duration": 73,
    "start_time": "2021-11-21T18:29:07.443Z"
   },
   {
    "duration": 29,
    "start_time": "2021-11-21T18:29:07.518Z"
   },
   {
    "duration": 22,
    "start_time": "2021-11-21T18:29:07.549Z"
   },
   {
    "duration": 29,
    "start_time": "2021-11-21T18:29:07.601Z"
   },
   {
    "duration": 133,
    "start_time": "2021-11-21T18:29:07.632Z"
   },
   {
    "duration": 73,
    "start_time": "2021-11-21T18:29:07.768Z"
   },
   {
    "duration": 367,
    "start_time": "2021-11-21T18:29:07.843Z"
   },
   {
    "duration": 6,
    "start_time": "2021-11-21T18:29:08.213Z"
   },
   {
    "duration": 16,
    "start_time": "2021-11-21T18:29:08.222Z"
   },
   {
    "duration": 86,
    "start_time": "2021-11-21T18:29:08.241Z"
   },
   {
    "duration": 12,
    "start_time": "2021-11-21T18:29:08.329Z"
   },
   {
    "duration": 354,
    "start_time": "2021-11-21T18:29:08.343Z"
   },
   {
    "duration": 33,
    "start_time": "2021-11-21T18:29:08.700Z"
   },
   {
    "duration": 32,
    "start_time": "2021-11-21T18:29:08.735Z"
   },
   {
    "duration": 51,
    "start_time": "2021-11-21T18:29:08.769Z"
   },
   {
    "duration": 6,
    "start_time": "2021-11-21T18:29:08.823Z"
   },
   {
    "duration": 294,
    "start_time": "2021-11-21T18:29:08.832Z"
   },
   {
    "duration": 297,
    "start_time": "2021-11-21T18:29:09.128Z"
   },
   {
    "duration": 286,
    "start_time": "2021-11-21T18:29:09.427Z"
   },
   {
    "duration": 298,
    "start_time": "2021-11-21T18:29:09.716Z"
   },
   {
    "duration": 292,
    "start_time": "2021-11-21T18:29:10.017Z"
   },
   {
    "duration": 54,
    "start_time": "2021-11-21T18:29:10.312Z"
   },
   {
    "duration": 37,
    "start_time": "2021-11-21T18:29:10.369Z"
   },
   {
    "duration": 15,
    "start_time": "2021-11-21T18:29:10.408Z"
   },
   {
    "duration": 24,
    "start_time": "2021-11-21T18:30:07.422Z"
   },
   {
    "duration": 957,
    "start_time": "2021-11-21T18:30:23.444Z"
   },
   {
    "duration": 67,
    "start_time": "2021-11-21T18:30:24.405Z"
   },
   {
    "duration": 3,
    "start_time": "2021-11-21T18:30:24.476Z"
   },
   {
    "duration": 45,
    "start_time": "2021-11-21T18:30:24.482Z"
   },
   {
    "duration": 27,
    "start_time": "2021-11-21T18:30:24.530Z"
   },
   {
    "duration": 84,
    "start_time": "2021-11-21T18:30:24.559Z"
   },
   {
    "duration": 15,
    "start_time": "2021-11-21T18:30:24.645Z"
   },
   {
    "duration": 52,
    "start_time": "2021-11-21T18:30:24.663Z"
   },
   {
    "duration": 11,
    "start_time": "2021-11-21T18:30:24.720Z"
   },
   {
    "duration": 12,
    "start_time": "2021-11-21T18:30:24.735Z"
   },
   {
    "duration": 15,
    "start_time": "2021-11-21T18:30:24.752Z"
   },
   {
    "duration": 4,
    "start_time": "2021-11-21T18:30:24.770Z"
   },
   {
    "duration": 11,
    "start_time": "2021-11-21T18:30:24.801Z"
   },
   {
    "duration": 1985,
    "start_time": "2021-11-21T18:30:24.815Z"
   },
   {
    "duration": 36,
    "start_time": "2021-11-21T18:30:26.805Z"
   },
   {
    "duration": 15,
    "start_time": "2021-11-21T18:30:26.844Z"
   },
   {
    "duration": 47,
    "start_time": "2021-11-21T18:30:26.862Z"
   },
   {
    "duration": 18,
    "start_time": "2021-11-21T18:30:26.912Z"
   },
   {
    "duration": 285,
    "start_time": "2021-11-21T18:30:26.933Z"
   },
   {
    "duration": 19,
    "start_time": "2021-11-21T18:30:27.222Z"
   },
   {
    "duration": 88,
    "start_time": "2021-11-21T18:30:27.244Z"
   },
   {
    "duration": 16,
    "start_time": "2021-11-21T18:30:27.335Z"
   },
   {
    "duration": 55,
    "start_time": "2021-11-21T18:30:27.355Z"
   },
   {
    "duration": 133,
    "start_time": "2021-11-21T18:30:27.413Z"
   },
   {
    "duration": 76,
    "start_time": "2021-11-21T18:30:27.548Z"
   },
   {
    "duration": 28,
    "start_time": "2021-11-21T18:30:27.627Z"
   },
   {
    "duration": 55,
    "start_time": "2021-11-21T18:30:27.660Z"
   },
   {
    "duration": 28,
    "start_time": "2021-11-21T18:30:27.719Z"
   },
   {
    "duration": 156,
    "start_time": "2021-11-21T18:30:27.750Z"
   },
   {
    "duration": 58,
    "start_time": "2021-11-21T18:30:27.909Z"
   },
   {
    "duration": 399,
    "start_time": "2021-11-21T18:30:27.970Z"
   },
   {
    "duration": 7,
    "start_time": "2021-11-21T18:30:28.371Z"
   },
   {
    "duration": 31,
    "start_time": "2021-11-21T18:30:28.381Z"
   },
   {
    "duration": 64,
    "start_time": "2021-11-21T18:30:28.415Z"
   },
   {
    "duration": 28,
    "start_time": "2021-11-21T18:30:28.481Z"
   },
   {
    "duration": 362,
    "start_time": "2021-11-21T18:30:28.512Z"
   },
   {
    "duration": 44,
    "start_time": "2021-11-21T18:30:28.876Z"
   },
   {
    "duration": 47,
    "start_time": "2021-11-21T18:30:28.924Z"
   },
   {
    "duration": 49,
    "start_time": "2021-11-21T18:30:28.974Z"
   },
   {
    "duration": 5,
    "start_time": "2021-11-21T18:30:29.026Z"
   },
   {
    "duration": 305,
    "start_time": "2021-11-21T18:30:29.034Z"
   },
   {
    "duration": 294,
    "start_time": "2021-11-21T18:30:29.341Z"
   },
   {
    "duration": 387,
    "start_time": "2021-11-21T18:30:29.638Z"
   },
   {
    "duration": 405,
    "start_time": "2021-11-21T18:30:30.028Z"
   },
   {
    "duration": 296,
    "start_time": "2021-11-21T18:30:30.436Z"
   },
   {
    "duration": 77,
    "start_time": "2021-11-21T18:30:30.735Z"
   },
   {
    "duration": 18,
    "start_time": "2021-11-21T18:30:30.815Z"
   },
   {
    "duration": 11,
    "start_time": "2021-11-21T18:30:30.835Z"
   },
   {
    "duration": 9,
    "start_time": "2021-11-21T18:31:31.649Z"
   },
   {
    "duration": 17,
    "start_time": "2021-11-21T18:31:47.871Z"
   },
   {
    "duration": 31,
    "start_time": "2021-11-21T18:33:47.209Z"
   },
   {
    "duration": 2,
    "start_time": "2021-11-21T18:33:58.519Z"
   },
   {
    "duration": 31,
    "start_time": "2021-11-21T18:34:01.664Z"
   },
   {
    "duration": 949,
    "start_time": "2021-11-21T18:34:08.491Z"
   },
   {
    "duration": 57,
    "start_time": "2021-11-21T18:34:09.443Z"
   },
   {
    "duration": 4,
    "start_time": "2021-11-21T18:34:09.503Z"
   },
   {
    "duration": 39,
    "start_time": "2021-11-21T18:34:09.510Z"
   },
   {
    "duration": 49,
    "start_time": "2021-11-21T18:34:09.553Z"
   },
   {
    "duration": 94,
    "start_time": "2021-11-21T18:34:09.606Z"
   },
   {
    "duration": 15,
    "start_time": "2021-11-21T18:34:09.703Z"
   },
   {
    "duration": 12,
    "start_time": "2021-11-21T18:34:09.721Z"
   },
   {
    "duration": 9,
    "start_time": "2021-11-21T18:34:09.738Z"
   },
   {
    "duration": 51,
    "start_time": "2021-11-21T18:34:09.750Z"
   },
   {
    "duration": 13,
    "start_time": "2021-11-21T18:34:09.804Z"
   },
   {
    "duration": 5,
    "start_time": "2021-11-21T18:34:09.819Z"
   },
   {
    "duration": 13,
    "start_time": "2021-11-21T18:34:09.826Z"
   },
   {
    "duration": 783,
    "start_time": "2021-11-21T18:34:09.842Z"
   },
   {
    "duration": 32,
    "start_time": "2021-11-21T18:34:10.629Z"
   },
   {
    "duration": 37,
    "start_time": "2021-11-21T18:34:10.664Z"
   },
   {
    "duration": 15,
    "start_time": "2021-11-21T18:34:10.704Z"
   },
   {
    "duration": 14,
    "start_time": "2021-11-21T18:34:10.722Z"
   },
   {
    "duration": 277,
    "start_time": "2021-11-21T18:34:10.738Z"
   },
   {
    "duration": 14,
    "start_time": "2021-11-21T18:34:11.017Z"
   },
   {
    "duration": 67,
    "start_time": "2021-11-21T18:34:11.033Z"
   },
   {
    "duration": 11,
    "start_time": "2021-11-21T18:34:11.103Z"
   },
   {
    "duration": 15,
    "start_time": "2021-11-21T18:34:11.117Z"
   },
   {
    "duration": 193,
    "start_time": "2021-11-21T18:34:11.135Z"
   },
   {
    "duration": 75,
    "start_time": "2021-11-21T18:34:11.332Z"
   },
   {
    "duration": 27,
    "start_time": "2021-11-21T18:34:11.409Z"
   },
   {
    "duration": 23,
    "start_time": "2021-11-21T18:34:11.442Z"
   },
   {
    "duration": 61,
    "start_time": "2021-11-21T18:34:11.468Z"
   },
   {
    "duration": 134,
    "start_time": "2021-11-21T18:34:11.532Z"
   },
   {
    "duration": 80,
    "start_time": "2021-11-21T18:34:11.669Z"
   },
   {
    "duration": 381,
    "start_time": "2021-11-21T18:34:11.752Z"
   },
   {
    "duration": 7,
    "start_time": "2021-11-21T18:34:12.136Z"
   },
   {
    "duration": 15,
    "start_time": "2021-11-21T18:34:12.146Z"
   },
   {
    "duration": 150,
    "start_time": "2021-11-21T18:34:12.164Z"
   },
   {
    "duration": 13,
    "start_time": "2021-11-21T18:34:12.317Z"
   },
   {
    "duration": 363,
    "start_time": "2021-11-21T18:34:12.333Z"
   },
   {
    "duration": 34,
    "start_time": "2021-11-21T18:34:12.701Z"
   },
   {
    "duration": 37,
    "start_time": "2021-11-21T18:34:12.737Z"
   },
   {
    "duration": 44,
    "start_time": "2021-11-21T18:34:12.777Z"
   },
   {
    "duration": 8,
    "start_time": "2021-11-21T18:34:12.823Z"
   },
   {
    "duration": 310,
    "start_time": "2021-11-21T18:34:12.833Z"
   },
   {
    "duration": 300,
    "start_time": "2021-11-21T18:34:13.146Z"
   },
   {
    "duration": 284,
    "start_time": "2021-11-21T18:34:13.449Z"
   },
   {
    "duration": 292,
    "start_time": "2021-11-21T18:34:13.736Z"
   },
   {
    "duration": 312,
    "start_time": "2021-11-21T18:34:14.030Z"
   },
   {
    "duration": 69,
    "start_time": "2021-11-21T18:34:14.345Z"
   },
   {
    "duration": 17,
    "start_time": "2021-11-21T18:34:14.416Z"
   },
   {
    "duration": 4,
    "start_time": "2021-11-21T18:34:14.436Z"
   },
   {
    "duration": 91,
    "start_time": "2021-11-21T18:34:14.443Z"
   },
   {
    "duration": 15,
    "start_time": "2021-11-21T18:36:23.434Z"
   },
   {
    "duration": -906,
    "start_time": "2021-11-21T18:38:37.014Z"
   },
   {
    "duration": 13,
    "start_time": "2021-11-21T18:38:37.980Z"
   },
   {
    "duration": 23,
    "start_time": "2021-11-21T18:38:54.344Z"
   },
   {
    "duration": 450,
    "start_time": "2021-11-21T18:39:57.166Z"
   },
   {
    "duration": 678,
    "start_time": "2021-11-21T18:40:14.685Z"
   },
   {
    "duration": 16,
    "start_time": "2021-11-21T18:43:35.298Z"
   },
   {
    "duration": 5,
    "start_time": "2021-11-21T18:44:13.791Z"
   },
   {
    "duration": 23,
    "start_time": "2021-11-21T18:44:30.982Z"
   },
   {
    "duration": 6,
    "start_time": "2021-11-21T18:45:35.337Z"
   },
   {
    "duration": 22,
    "start_time": "2021-11-21T18:45:41.305Z"
   },
   {
    "duration": 20,
    "start_time": "2021-11-21T18:51:22.184Z"
   },
   {
    "duration": 23,
    "start_time": "2021-11-21T18:51:24.880Z"
   },
   {
    "duration": 104,
    "start_time": "2021-11-21T18:52:00.066Z"
   },
   {
    "duration": 343,
    "start_time": "2021-11-21T18:54:58.561Z"
   },
   {
    "duration": 340,
    "start_time": "2021-11-21T18:55:04.037Z"
   },
   {
    "duration": 21,
    "start_time": "2021-11-21T18:55:10.414Z"
   },
   {
    "duration": 9,
    "start_time": "2021-11-21T18:55:26.508Z"
   },
   {
    "duration": 9,
    "start_time": "2021-11-21T18:55:30.444Z"
   },
   {
    "duration": 12,
    "start_time": "2021-11-21T18:55:55.876Z"
   },
   {
    "duration": 12,
    "start_time": "2021-11-21T18:56:00.773Z"
   },
   {
    "duration": 12,
    "start_time": "2021-11-21T18:56:10.854Z"
   },
   {
    "duration": 5,
    "start_time": "2021-11-21T18:56:38.124Z"
   },
   {
    "duration": 22,
    "start_time": "2021-11-21T18:57:03.396Z"
   },
   {
    "duration": 22,
    "start_time": "2021-11-21T18:57:27.511Z"
   },
   {
    "duration": 21,
    "start_time": "2021-11-21T18:58:48.317Z"
   },
   {
    "duration": 20,
    "start_time": "2021-11-21T18:59:12.899Z"
   },
   {
    "duration": 22,
    "start_time": "2021-11-21T19:00:19.090Z"
   },
   {
    "duration": 23,
    "start_time": "2021-11-21T19:04:56.818Z"
   },
   {
    "duration": 26,
    "start_time": "2021-11-21T19:05:03.065Z"
   },
   {
    "duration": 26,
    "start_time": "2021-11-21T19:05:27.620Z"
   },
   {
    "duration": 22,
    "start_time": "2021-11-21T19:06:37.085Z"
   },
   {
    "duration": 22,
    "start_time": "2021-11-21T19:06:50.501Z"
   },
   {
    "duration": 22,
    "start_time": "2021-11-21T19:07:03.292Z"
   },
   {
    "duration": 33,
    "start_time": "2021-11-21T19:07:08.789Z"
   },
   {
    "duration": 36,
    "start_time": "2021-11-21T19:07:26.641Z"
   },
   {
    "duration": 22,
    "start_time": "2021-11-21T19:07:45.912Z"
   },
   {
    "duration": 19,
    "start_time": "2021-11-21T19:09:27.934Z"
   },
   {
    "duration": 20,
    "start_time": "2021-11-21T19:09:34.569Z"
   },
   {
    "duration": 150,
    "start_time": "2021-11-22T09:06:23.170Z"
   },
   {
    "duration": 816,
    "start_time": "2021-11-22T09:06:33.195Z"
   },
   {
    "duration": 50,
    "start_time": "2021-11-22T09:06:34.013Z"
   },
   {
    "duration": 2,
    "start_time": "2021-11-22T09:06:34.065Z"
   },
   {
    "duration": 20,
    "start_time": "2021-11-22T09:06:34.070Z"
   },
   {
    "duration": 22,
    "start_time": "2021-11-22T09:06:34.092Z"
   },
   {
    "duration": 41,
    "start_time": "2021-11-22T09:06:34.116Z"
   },
   {
    "duration": 34,
    "start_time": "2021-11-22T09:06:34.159Z"
   },
   {
    "duration": 10,
    "start_time": "2021-11-22T09:06:34.197Z"
   },
   {
    "duration": 40,
    "start_time": "2021-11-22T09:06:34.209Z"
   },
   {
    "duration": 7,
    "start_time": "2021-11-22T09:06:34.251Z"
   },
   {
    "duration": 10,
    "start_time": "2021-11-22T09:06:34.260Z"
   },
   {
    "duration": 9,
    "start_time": "2021-11-22T09:06:34.272Z"
   },
   {
    "duration": 4,
    "start_time": "2021-11-22T09:06:34.283Z"
   },
   {
    "duration": 10,
    "start_time": "2021-11-22T09:06:34.289Z"
   },
   {
    "duration": 1047,
    "start_time": "2021-11-22T09:06:34.301Z"
   },
   {
    "duration": 22,
    "start_time": "2021-11-22T09:06:35.350Z"
   },
   {
    "duration": 34,
    "start_time": "2021-11-22T09:06:35.374Z"
   },
   {
    "duration": 27,
    "start_time": "2021-11-22T09:06:35.410Z"
   },
   {
    "duration": 22,
    "start_time": "2021-11-22T09:06:35.438Z"
   },
   {
    "duration": 124,
    "start_time": "2021-11-22T09:06:35.461Z"
   },
   {
    "duration": 9,
    "start_time": "2021-11-22T09:06:35.586Z"
   },
   {
    "duration": 72,
    "start_time": "2021-11-22T09:06:35.597Z"
   },
   {
    "duration": 8,
    "start_time": "2021-11-22T09:06:35.673Z"
   },
   {
    "duration": 9,
    "start_time": "2021-11-22T09:06:35.683Z"
   },
   {
    "duration": 88,
    "start_time": "2021-11-22T09:06:35.694Z"
   },
   {
    "duration": 61,
    "start_time": "2021-11-22T09:06:35.784Z"
   },
   {
    "duration": 20,
    "start_time": "2021-11-22T09:06:35.847Z"
   },
   {
    "duration": 15,
    "start_time": "2021-11-22T09:06:35.869Z"
   },
   {
    "duration": 20,
    "start_time": "2021-11-22T09:06:35.886Z"
   },
   {
    "duration": 125,
    "start_time": "2021-11-22T09:06:35.907Z"
   },
   {
    "duration": 46,
    "start_time": "2021-11-22T09:06:36.034Z"
   },
   {
    "duration": 227,
    "start_time": "2021-11-22T09:06:36.081Z"
   },
   {
    "duration": 4,
    "start_time": "2021-11-22T09:06:36.310Z"
   },
   {
    "duration": 32,
    "start_time": "2021-11-22T09:06:36.315Z"
   },
   {
    "duration": 41,
    "start_time": "2021-11-22T09:06:36.348Z"
   },
   {
    "duration": 8,
    "start_time": "2021-11-22T09:06:36.390Z"
   },
   {
    "duration": 224,
    "start_time": "2021-11-22T09:06:36.399Z"
   },
   {
    "duration": 33,
    "start_time": "2021-11-22T09:06:36.624Z"
   },
   {
    "duration": 22,
    "start_time": "2021-11-22T09:06:36.658Z"
   },
   {
    "duration": 13,
    "start_time": "2021-11-22T09:06:36.682Z"
   },
   {
    "duration": 4,
    "start_time": "2021-11-22T09:06:36.696Z"
   },
   {
    "duration": 201,
    "start_time": "2021-11-22T09:06:36.702Z"
   },
   {
    "duration": 200,
    "start_time": "2021-11-22T09:06:36.905Z"
   },
   {
    "duration": 189,
    "start_time": "2021-11-22T09:06:37.107Z"
   },
   {
    "duration": 183,
    "start_time": "2021-11-22T09:06:37.298Z"
   },
   {
    "duration": 176,
    "start_time": "2021-11-22T09:06:37.483Z"
   },
   {
    "duration": 31,
    "start_time": "2021-11-22T09:06:37.661Z"
   },
   {
    "duration": 11,
    "start_time": "2021-11-22T09:06:37.693Z"
   },
   {
    "duration": 70,
    "start_time": "2021-11-22T09:06:37.706Z"
   },
   {
    "duration": 10,
    "start_time": "2021-11-22T09:06:37.778Z"
   },
   {
    "duration": 3,
    "start_time": "2021-11-22T09:06:37.789Z"
   },
   {
    "duration": 16,
    "start_time": "2021-11-22T09:06:37.794Z"
   },
   {
    "duration": 34,
    "start_time": "2021-11-22T09:06:37.811Z"
   },
   {
    "duration": 391,
    "start_time": "2021-11-22T09:06:45.488Z"
   },
   {
    "duration": 266,
    "start_time": "2021-11-22T09:07:00.518Z"
   },
   {
    "duration": 95,
    "start_time": "2021-11-22T09:07:05.482Z"
   },
   {
    "duration": 43,
    "start_time": "2021-11-22T09:07:05.579Z"
   },
   {
    "duration": 3,
    "start_time": "2021-11-22T09:07:05.624Z"
   },
   {
    "duration": 33,
    "start_time": "2021-11-22T09:07:05.629Z"
   },
   {
    "duration": 17,
    "start_time": "2021-11-22T09:07:05.663Z"
   },
   {
    "duration": 20,
    "start_time": "2021-11-22T09:07:05.681Z"
   },
   {
    "duration": 60,
    "start_time": "2021-11-22T09:07:05.703Z"
   },
   {
    "duration": 10,
    "start_time": "2021-11-22T09:07:05.766Z"
   },
   {
    "duration": 9,
    "start_time": "2021-11-22T09:07:05.779Z"
   },
   {
    "duration": 6,
    "start_time": "2021-11-22T09:07:05.789Z"
   },
   {
    "duration": 7,
    "start_time": "2021-11-22T09:07:05.797Z"
   },
   {
    "duration": 45,
    "start_time": "2021-11-22T09:07:05.806Z"
   },
   {
    "duration": 8,
    "start_time": "2021-11-22T09:07:05.852Z"
   },
   {
    "duration": 11,
    "start_time": "2021-11-22T09:07:05.862Z"
   },
   {
    "duration": 21,
    "start_time": "2021-11-22T09:07:05.875Z"
   },
   {
    "duration": 20,
    "start_time": "2021-11-22T09:07:05.897Z"
   },
   {
    "duration": 13,
    "start_time": "2021-11-22T09:07:05.946Z"
   },
   {
    "duration": 13,
    "start_time": "2021-11-22T09:07:05.961Z"
   },
   {
    "duration": 9,
    "start_time": "2021-11-22T09:07:05.976Z"
   },
   {
    "duration": 183,
    "start_time": "2021-11-22T09:07:05.987Z"
   },
   {
    "duration": 9,
    "start_time": "2021-11-22T09:07:06.172Z"
   },
   {
    "duration": 62,
    "start_time": "2021-11-22T09:07:06.183Z"
   },
   {
    "duration": 11,
    "start_time": "2021-11-22T09:07:06.250Z"
   },
   {
    "duration": 11,
    "start_time": "2021-11-22T09:07:06.264Z"
   },
   {
    "duration": 90,
    "start_time": "2021-11-22T09:07:06.276Z"
   },
   {
    "duration": 17,
    "start_time": "2021-11-22T09:07:06.367Z"
   },
   {
    "duration": 17,
    "start_time": "2021-11-22T09:07:06.385Z"
   },
   {
    "duration": 52,
    "start_time": "2021-11-22T09:07:06.404Z"
   },
   {
    "duration": 19,
    "start_time": "2021-11-22T09:07:06.457Z"
   },
   {
    "duration": 37,
    "start_time": "2021-11-22T09:07:06.478Z"
   },
   {
    "duration": 60,
    "start_time": "2021-11-22T09:07:06.516Z"
   },
   {
    "duration": 240,
    "start_time": "2021-11-22T09:07:06.578Z"
   },
   {
    "duration": 5,
    "start_time": "2021-11-22T09:07:06.820Z"
   },
   {
    "duration": 21,
    "start_time": "2021-11-22T09:07:06.826Z"
   },
   {
    "duration": 114,
    "start_time": "2021-11-22T09:07:06.849Z"
   },
   {
    "duration": 8,
    "start_time": "2021-11-22T09:07:06.965Z"
   },
   {
    "duration": 239,
    "start_time": "2021-11-22T09:07:06.975Z"
   },
   {
    "duration": 30,
    "start_time": "2021-11-22T09:07:07.216Z"
   },
   {
    "duration": 28,
    "start_time": "2021-11-22T09:07:07.248Z"
   },
   {
    "duration": 14,
    "start_time": "2021-11-22T09:07:07.278Z"
   },
   {
    "duration": 4,
    "start_time": "2021-11-22T09:07:07.294Z"
   },
   {
    "duration": 202,
    "start_time": "2021-11-22T09:07:07.299Z"
   },
   {
    "duration": 183,
    "start_time": "2021-11-22T09:07:07.503Z"
   },
   {
    "duration": 195,
    "start_time": "2021-11-22T09:07:07.688Z"
   },
   {
    "duration": 205,
    "start_time": "2021-11-22T09:07:07.886Z"
   },
   {
    "duration": 194,
    "start_time": "2021-11-22T09:07:08.094Z"
   },
   {
    "duration": 35,
    "start_time": "2021-11-22T09:07:08.290Z"
   },
   {
    "duration": 13,
    "start_time": "2021-11-22T09:07:08.344Z"
   },
   {
    "duration": 32,
    "start_time": "2021-11-22T09:07:08.358Z"
   },
   {
    "duration": 10,
    "start_time": "2021-11-22T09:07:08.392Z"
   },
   {
    "duration": 3,
    "start_time": "2021-11-22T09:07:08.403Z"
   },
   {
    "duration": 48,
    "start_time": "2021-11-22T09:07:08.408Z"
   },
   {
    "duration": 11,
    "start_time": "2021-11-22T09:07:08.457Z"
   },
   {
    "duration": 113,
    "start_time": "2021-11-22T09:12:23.063Z"
   },
   {
    "duration": 80,
    "start_time": "2021-11-22T09:12:36.270Z"
   },
   {
    "duration": 42,
    "start_time": "2021-11-22T09:12:36.352Z"
   },
   {
    "duration": 5,
    "start_time": "2021-11-22T09:12:36.396Z"
   },
   {
    "duration": 28,
    "start_time": "2021-11-22T09:12:36.403Z"
   },
   {
    "duration": 24,
    "start_time": "2021-11-22T09:12:36.433Z"
   },
   {
    "duration": 21,
    "start_time": "2021-11-22T09:12:36.459Z"
   },
   {
    "duration": 30,
    "start_time": "2021-11-22T09:12:36.482Z"
   },
   {
    "duration": 9,
    "start_time": "2021-11-22T09:12:36.514Z"
   },
   {
    "duration": 9,
    "start_time": "2021-11-22T09:12:36.544Z"
   },
   {
    "duration": 7,
    "start_time": "2021-11-22T09:12:36.554Z"
   },
   {
    "duration": 270,
    "start_time": "2021-11-22T09:12:40.149Z"
   },
   {
    "duration": 11,
    "start_time": "2021-11-22T09:12:49.281Z"
   },
   {
    "duration": 93,
    "start_time": "2021-11-22T09:13:14.491Z"
   },
   {
    "duration": 44,
    "start_time": "2021-11-22T09:13:14.586Z"
   },
   {
    "duration": 12,
    "start_time": "2021-11-22T09:13:14.632Z"
   },
   {
    "duration": 19,
    "start_time": "2021-11-22T09:13:14.646Z"
   },
   {
    "duration": 26,
    "start_time": "2021-11-22T09:13:14.667Z"
   },
   {
    "duration": 35,
    "start_time": "2021-11-22T09:13:14.694Z"
   },
   {
    "duration": 39,
    "start_time": "2021-11-22T09:13:14.731Z"
   },
   {
    "duration": 9,
    "start_time": "2021-11-22T09:13:14.772Z"
   },
   {
    "duration": 23,
    "start_time": "2021-11-22T09:13:14.783Z"
   },
   {
    "duration": 8,
    "start_time": "2021-11-22T09:13:14.808Z"
   },
   {
    "duration": 21,
    "start_time": "2021-11-22T09:13:14.818Z"
   },
   {
    "duration": 23,
    "start_time": "2021-11-22T09:13:14.840Z"
   },
   {
    "duration": 21,
    "start_time": "2021-11-22T09:13:14.864Z"
   },
   {
    "duration": 23,
    "start_time": "2021-11-22T09:13:14.887Z"
   },
   {
    "duration": 31,
    "start_time": "2021-11-22T09:13:14.911Z"
   },
   {
    "duration": 18,
    "start_time": "2021-11-22T09:13:14.944Z"
   },
   {
    "duration": 9,
    "start_time": "2021-11-22T09:13:14.963Z"
   },
   {
    "duration": 26,
    "start_time": "2021-11-22T09:13:14.973Z"
   },
   {
    "duration": 25,
    "start_time": "2021-11-22T09:13:15.001Z"
   },
   {
    "duration": 136,
    "start_time": "2021-11-22T09:13:15.028Z"
   },
   {
    "duration": 8,
    "start_time": "2021-11-22T09:13:15.166Z"
   },
   {
    "duration": 44,
    "start_time": "2021-11-22T09:13:15.176Z"
   },
   {
    "duration": 23,
    "start_time": "2021-11-22T09:13:15.224Z"
   },
   {
    "duration": 28,
    "start_time": "2021-11-22T09:13:15.249Z"
   },
   {
    "duration": 74,
    "start_time": "2021-11-22T09:13:15.279Z"
   },
   {
    "duration": 16,
    "start_time": "2021-11-22T09:13:15.355Z"
   },
   {
    "duration": 44,
    "start_time": "2021-11-22T09:13:15.372Z"
   },
   {
    "duration": 12,
    "start_time": "2021-11-22T09:13:15.418Z"
   },
   {
    "duration": 30,
    "start_time": "2021-11-22T09:13:15.432Z"
   },
   {
    "duration": 44,
    "start_time": "2021-11-22T09:13:15.463Z"
   },
   {
    "duration": 32,
    "start_time": "2021-11-22T09:13:15.509Z"
   },
   {
    "duration": 214,
    "start_time": "2021-11-22T09:13:15.543Z"
   },
   {
    "duration": 4,
    "start_time": "2021-11-22T09:13:15.758Z"
   },
   {
    "duration": 23,
    "start_time": "2021-11-22T09:13:15.764Z"
   },
   {
    "duration": 48,
    "start_time": "2021-11-22T09:13:15.789Z"
   },
   {
    "duration": 7,
    "start_time": "2021-11-22T09:13:15.839Z"
   },
   {
    "duration": 223,
    "start_time": "2021-11-22T09:13:15.847Z"
   },
   {
    "duration": 19,
    "start_time": "2021-11-22T09:13:16.072Z"
   },
   {
    "duration": 31,
    "start_time": "2021-11-22T09:13:16.092Z"
   },
   {
    "duration": 31,
    "start_time": "2021-11-22T09:13:16.125Z"
   },
   {
    "duration": 17,
    "start_time": "2021-11-22T09:13:16.158Z"
   },
   {
    "duration": 180,
    "start_time": "2021-11-22T09:13:16.176Z"
   },
   {
    "duration": 224,
    "start_time": "2021-11-22T09:13:16.357Z"
   },
   {
    "duration": 174,
    "start_time": "2021-11-22T09:13:16.583Z"
   },
   {
    "duration": 178,
    "start_time": "2021-11-22T09:13:16.759Z"
   },
   {
    "duration": 171,
    "start_time": "2021-11-22T09:13:16.939Z"
   },
   {
    "duration": 45,
    "start_time": "2021-11-22T09:13:17.111Z"
   },
   {
    "duration": 18,
    "start_time": "2021-11-22T09:13:17.158Z"
   },
   {
    "duration": 43,
    "start_time": "2021-11-22T09:13:17.178Z"
   },
   {
    "duration": 24,
    "start_time": "2021-11-22T09:13:17.223Z"
   },
   {
    "duration": 25,
    "start_time": "2021-11-22T09:13:17.249Z"
   },
   {
    "duration": 22,
    "start_time": "2021-11-22T09:13:17.275Z"
   },
   {
    "duration": 27,
    "start_time": "2021-11-22T09:13:17.299Z"
   },
   {
    "duration": 86,
    "start_time": "2021-11-22T09:16:44.544Z"
   },
   {
    "duration": 188,
    "start_time": "2021-11-22T09:29:40.017Z"
   },
   {
    "duration": 841,
    "start_time": "2021-11-22T10:06:45.097Z"
   },
   {
    "duration": 85,
    "start_time": "2021-11-22T10:06:56.255Z"
   },
   {
    "duration": 1091,
    "start_time": "2021-11-22T10:07:21.078Z"
   },
   {
    "duration": 58,
    "start_time": "2021-11-22T10:07:22.172Z"
   },
   {
    "duration": 3,
    "start_time": "2021-11-22T10:07:22.233Z"
   },
   {
    "duration": 45,
    "start_time": "2021-11-22T10:07:22.239Z"
   },
   {
    "duration": 27,
    "start_time": "2021-11-22T10:07:22.286Z"
   },
   {
    "duration": 26,
    "start_time": "2021-11-22T10:07:22.315Z"
   },
   {
    "duration": 80,
    "start_time": "2021-11-22T10:07:22.343Z"
   },
   {
    "duration": 19,
    "start_time": "2021-11-22T10:07:22.428Z"
   },
   {
    "duration": 39,
    "start_time": "2021-11-22T10:07:22.451Z"
   },
   {
    "duration": 8,
    "start_time": "2021-11-22T10:07:22.493Z"
   },
   {
    "duration": 14,
    "start_time": "2021-11-22T10:07:22.504Z"
   },
   {
    "duration": 17,
    "start_time": "2021-11-22T10:07:22.520Z"
   },
   {
    "duration": 17,
    "start_time": "2021-11-22T10:07:22.540Z"
   },
   {
    "duration": 36,
    "start_time": "2021-11-22T10:07:22.560Z"
   },
   {
    "duration": 816,
    "start_time": "2021-11-22T10:07:22.599Z"
   },
   {
    "duration": 32,
    "start_time": "2021-11-22T10:07:23.418Z"
   },
   {
    "duration": 30,
    "start_time": "2021-11-22T10:07:23.453Z"
   },
   {
    "duration": 20,
    "start_time": "2021-11-22T10:07:23.486Z"
   },
   {
    "duration": 19,
    "start_time": "2021-11-22T10:07:23.509Z"
   },
   {
    "duration": 265,
    "start_time": "2021-11-22T10:07:23.531Z"
   },
   {
    "duration": 13,
    "start_time": "2021-11-22T10:07:23.799Z"
   },
   {
    "duration": 77,
    "start_time": "2021-11-22T10:07:23.815Z"
   },
   {
    "duration": 10,
    "start_time": "2021-11-22T10:07:23.898Z"
   },
   {
    "duration": 12,
    "start_time": "2021-11-22T10:07:23.911Z"
   },
   {
    "duration": 174,
    "start_time": "2021-11-22T10:07:23.926Z"
   },
   {
    "duration": 38,
    "start_time": "2021-11-22T10:07:24.103Z"
   },
   {
    "duration": 59,
    "start_time": "2021-11-22T10:07:24.144Z"
   },
   {
    "duration": 27,
    "start_time": "2021-11-22T10:07:24.206Z"
   },
   {
    "duration": 53,
    "start_time": "2021-11-22T10:07:24.235Z"
   },
   {
    "duration": 121,
    "start_time": "2021-11-22T10:07:24.291Z"
   },
   {
    "duration": 71,
    "start_time": "2021-11-22T10:07:24.414Z"
   },
   {
    "duration": 354,
    "start_time": "2021-11-22T10:07:24.488Z"
   },
   {
    "duration": 7,
    "start_time": "2021-11-22T10:07:24.845Z"
   },
   {
    "duration": 33,
    "start_time": "2021-11-22T10:07:24.854Z"
   },
   {
    "duration": 61,
    "start_time": "2021-11-22T10:07:24.890Z"
   },
   {
    "duration": 31,
    "start_time": "2021-11-22T10:07:24.953Z"
   },
   {
    "duration": 346,
    "start_time": "2021-11-22T10:07:24.986Z"
   },
   {
    "duration": 31,
    "start_time": "2021-11-22T10:07:25.334Z"
   },
   {
    "duration": 30,
    "start_time": "2021-11-22T10:07:25.381Z"
   },
   {
    "duration": 23,
    "start_time": "2021-11-22T10:07:25.413Z"
   },
   {
    "duration": 6,
    "start_time": "2021-11-22T10:07:25.439Z"
   },
   {
    "duration": 464,
    "start_time": "2021-11-22T10:07:25.448Z"
   },
   {
    "duration": 432,
    "start_time": "2021-11-22T10:07:25.915Z"
   },
   {
    "duration": 397,
    "start_time": "2021-11-22T10:07:26.350Z"
   },
   {
    "duration": 334,
    "start_time": "2021-11-22T10:07:26.751Z"
   },
   {
    "duration": 293,
    "start_time": "2021-11-22T10:07:27.089Z"
   },
   {
    "duration": 52,
    "start_time": "2021-11-22T10:07:27.384Z"
   },
   {
    "duration": 50,
    "start_time": "2021-11-22T10:07:27.439Z"
   },
   {
    "duration": 48,
    "start_time": "2021-11-22T10:07:27.491Z"
   },
   {
    "duration": 43,
    "start_time": "2021-11-22T10:07:27.541Z"
   },
   {
    "duration": 6,
    "start_time": "2021-11-22T10:07:27.587Z"
   },
   {
    "duration": 23,
    "start_time": "2021-11-22T10:07:27.596Z"
   },
   {
    "duration": 17,
    "start_time": "2021-11-22T10:07:27.621Z"
   },
   {
    "duration": 390,
    "start_time": "2021-11-22T10:12:07.837Z"
   },
   {
    "duration": 7,
    "start_time": "2021-11-22T10:12:12.310Z"
   },
   {
    "duration": 9,
    "start_time": "2021-11-22T10:12:22.007Z"
   },
   {
    "duration": 9,
    "start_time": "2021-11-22T10:12:38.925Z"
   },
   {
    "duration": 11,
    "start_time": "2021-11-22T10:13:28.635Z"
   },
   {
    "duration": 124,
    "start_time": "2021-11-22T10:14:56.897Z"
   },
   {
    "duration": 17,
    "start_time": "2021-11-22T11:32:28.353Z"
   },
   {
    "duration": 399,
    "start_time": "2021-11-22T11:33:05.163Z"
   },
   {
    "duration": 19,
    "start_time": "2021-11-22T11:33:09.488Z"
   },
   {
    "duration": 18,
    "start_time": "2021-11-22T11:33:22.994Z"
   },
   {
    "duration": 33,
    "start_time": "2021-11-22T12:17:32.068Z"
   },
   {
    "duration": 26,
    "start_time": "2021-11-22T12:17:33.489Z"
   },
   {
    "duration": 294,
    "start_time": "2021-11-22T12:25:29.271Z"
   },
   {
    "duration": 319,
    "start_time": "2021-11-22T12:25:34.382Z"
   },
   {
    "duration": 9405,
    "start_time": "2021-11-22T12:25:40.485Z"
   },
   {
    "duration": 608,
    "start_time": "2021-11-22T12:26:38.439Z"
   },
   {
    "duration": 882,
    "start_time": "2021-11-22T12:27:05.897Z"
   },
   {
    "duration": 87,
    "start_time": "2021-11-22T12:27:06.782Z"
   },
   {
    "duration": 4,
    "start_time": "2021-11-22T12:27:06.873Z"
   },
   {
    "duration": 37,
    "start_time": "2021-11-22T12:27:06.881Z"
   },
   {
    "duration": 27,
    "start_time": "2021-11-22T12:27:06.920Z"
   },
   {
    "duration": 46,
    "start_time": "2021-11-22T12:27:06.949Z"
   },
   {
    "duration": 51,
    "start_time": "2021-11-22T12:27:06.997Z"
   },
   {
    "duration": 38,
    "start_time": "2021-11-22T12:27:07.051Z"
   },
   {
    "duration": 12,
    "start_time": "2021-11-22T12:27:07.093Z"
   },
   {
    "duration": 6,
    "start_time": "2021-11-22T12:27:07.107Z"
   },
   {
    "duration": 16,
    "start_time": "2021-11-22T12:27:07.115Z"
   },
   {
    "duration": 19,
    "start_time": "2021-11-22T12:27:07.133Z"
   },
   {
    "duration": 5,
    "start_time": "2021-11-22T12:27:07.154Z"
   },
   {
    "duration": 15,
    "start_time": "2021-11-22T12:27:07.183Z"
   },
   {
    "duration": 770,
    "start_time": "2021-11-22T12:27:07.201Z"
   },
   {
    "duration": 38,
    "start_time": "2021-11-22T12:27:07.974Z"
   },
   {
    "duration": 14,
    "start_time": "2021-11-22T12:27:08.014Z"
   },
   {
    "duration": 14,
    "start_time": "2021-11-22T12:27:08.031Z"
   },
   {
    "duration": 46,
    "start_time": "2021-11-22T12:27:08.048Z"
   },
   {
    "duration": 224,
    "start_time": "2021-11-22T12:27:08.097Z"
   },
   {
    "duration": 64,
    "start_time": "2021-11-22T12:27:08.324Z"
   },
   {
    "duration": 31,
    "start_time": "2021-11-22T12:27:08.390Z"
   },
   {
    "duration": 9,
    "start_time": "2021-11-22T12:27:08.427Z"
   },
   {
    "duration": 53,
    "start_time": "2021-11-22T12:27:08.439Z"
   },
   {
    "duration": 131,
    "start_time": "2021-11-22T12:27:08.495Z"
   },
   {
    "duration": 28,
    "start_time": "2021-11-22T12:27:08.682Z"
   },
   {
    "duration": 30,
    "start_time": "2021-11-22T12:27:08.712Z"
   },
   {
    "duration": 49,
    "start_time": "2021-11-22T12:27:08.745Z"
   },
   {
    "duration": 31,
    "start_time": "2021-11-22T12:27:08.796Z"
   },
   {
    "duration": 142,
    "start_time": "2021-11-22T12:27:08.829Z"
   },
   {
    "duration": 60,
    "start_time": "2021-11-22T12:27:08.974Z"
   },
   {
    "duration": 390,
    "start_time": "2021-11-22T12:27:09.036Z"
   },
   {
    "duration": 90,
    "start_time": "2021-11-22T12:27:09.429Z"
   },
   {
    "duration": -337,
    "start_time": "2021-11-22T12:27:09.859Z"
   },
   {
    "duration": -358,
    "start_time": "2021-11-22T12:27:09.882Z"
   },
   {
    "duration": -358,
    "start_time": "2021-11-22T12:27:09.884Z"
   },
   {
    "duration": -358,
    "start_time": "2021-11-22T12:27:09.886Z"
   },
   {
    "duration": -359,
    "start_time": "2021-11-22T12:27:09.889Z"
   },
   {
    "duration": -360,
    "start_time": "2021-11-22T12:27:09.892Z"
   },
   {
    "duration": -365,
    "start_time": "2021-11-22T12:27:09.899Z"
   },
   {
    "duration": -366,
    "start_time": "2021-11-22T12:27:09.902Z"
   },
   {
    "duration": -366,
    "start_time": "2021-11-22T12:27:09.904Z"
   },
   {
    "duration": -366,
    "start_time": "2021-11-22T12:27:09.907Z"
   },
   {
    "duration": -373,
    "start_time": "2021-11-22T12:27:09.916Z"
   },
   {
    "duration": -374,
    "start_time": "2021-11-22T12:27:09.919Z"
   },
   {
    "duration": -375,
    "start_time": "2021-11-22T12:27:09.922Z"
   },
   {
    "duration": -376,
    "start_time": "2021-11-22T12:27:09.925Z"
   },
   {
    "duration": -377,
    "start_time": "2021-11-22T12:27:09.928Z"
   },
   {
    "duration": -383,
    "start_time": "2021-11-22T12:27:09.936Z"
   },
   {
    "duration": -384,
    "start_time": "2021-11-22T12:27:09.939Z"
   },
   {
    "duration": -385,
    "start_time": "2021-11-22T12:27:09.942Z"
   },
   {
    "duration": -391,
    "start_time": "2021-11-22T12:27:09.950Z"
   },
   {
    "duration": -369,
    "start_time": "2021-11-22T12:27:09.952Z"
   },
   {
    "duration": -369,
    "start_time": "2021-11-22T12:27:09.954Z"
   },
   {
    "duration": -370,
    "start_time": "2021-11-22T12:27:09.957Z"
   },
   {
    "duration": -370,
    "start_time": "2021-11-22T12:27:09.960Z"
   },
   {
    "duration": 413,
    "start_time": "2021-11-22T12:28:18.291Z"
   },
   {
    "duration": 306,
    "start_time": "2021-11-22T12:28:30.338Z"
   },
   {
    "duration": 19,
    "start_time": "2021-11-22T12:32:43.757Z"
   },
   {
    "duration": 15,
    "start_time": "2021-11-22T12:33:06.201Z"
   },
   {
    "duration": 22,
    "start_time": "2021-11-22T12:33:12.841Z"
   },
   {
    "duration": 28,
    "start_time": "2021-11-22T12:33:50.204Z"
   },
   {
    "duration": 441,
    "start_time": "2021-11-22T12:34:03.249Z"
   },
   {
    "duration": 2442,
    "start_time": "2021-11-22T12:34:31.849Z"
   },
   {
    "duration": 684,
    "start_time": "2021-11-22T12:34:38.506Z"
   },
   {
    "duration": 433,
    "start_time": "2021-11-22T12:34:45.187Z"
   },
   {
    "duration": 449,
    "start_time": "2021-11-22T12:34:59.756Z"
   },
   {
    "duration": 443,
    "start_time": "2021-11-22T12:37:08.711Z"
   },
   {
    "duration": 19,
    "start_time": "2021-11-22T12:37:38.576Z"
   },
   {
    "duration": 928,
    "start_time": "2021-11-22T12:37:44.313Z"
   },
   {
    "duration": 72,
    "start_time": "2021-11-22T12:37:45.244Z"
   },
   {
    "duration": 5,
    "start_time": "2021-11-22T12:37:45.319Z"
   },
   {
    "duration": 37,
    "start_time": "2021-11-22T12:37:45.327Z"
   },
   {
    "duration": 35,
    "start_time": "2021-11-22T12:37:45.367Z"
   },
   {
    "duration": 28,
    "start_time": "2021-11-22T12:37:45.405Z"
   },
   {
    "duration": 84,
    "start_time": "2021-11-22T12:37:45.436Z"
   },
   {
    "duration": 13,
    "start_time": "2021-11-22T12:37:45.525Z"
   },
   {
    "duration": 46,
    "start_time": "2021-11-22T12:37:45.543Z"
   },
   {
    "duration": 8,
    "start_time": "2021-11-22T12:37:45.592Z"
   },
   {
    "duration": 10,
    "start_time": "2021-11-22T12:37:45.603Z"
   },
   {
    "duration": 10,
    "start_time": "2021-11-22T12:37:45.615Z"
   },
   {
    "duration": 5,
    "start_time": "2021-11-22T12:37:45.628Z"
   },
   {
    "duration": 53,
    "start_time": "2021-11-22T12:37:45.636Z"
   },
   {
    "duration": 1035,
    "start_time": "2021-11-22T12:37:45.691Z"
   },
   {
    "duration": 33,
    "start_time": "2021-11-22T12:37:46.729Z"
   },
   {
    "duration": 14,
    "start_time": "2021-11-22T12:37:46.782Z"
   },
   {
    "duration": 25,
    "start_time": "2021-11-22T12:37:46.799Z"
   },
   {
    "duration": 24,
    "start_time": "2021-11-22T12:37:46.827Z"
   },
   {
    "duration": 257,
    "start_time": "2021-11-22T12:37:46.853Z"
   },
   {
    "duration": 13,
    "start_time": "2021-11-22T12:37:47.112Z"
   },
   {
    "duration": 79,
    "start_time": "2021-11-22T12:37:47.127Z"
   },
   {
    "duration": 12,
    "start_time": "2021-11-22T12:37:47.212Z"
   },
   {
    "duration": 14,
    "start_time": "2021-11-22T12:37:47.228Z"
   },
   {
    "duration": 168,
    "start_time": "2021-11-22T12:37:47.245Z"
   },
   {
    "duration": 87,
    "start_time": "2021-11-22T12:37:47.415Z"
   },
   {
    "duration": 29,
    "start_time": "2021-11-22T12:37:47.505Z"
   },
   {
    "duration": 31,
    "start_time": "2021-11-22T12:37:47.537Z"
   },
   {
    "duration": 30,
    "start_time": "2021-11-22T12:37:47.583Z"
   },
   {
    "duration": 154,
    "start_time": "2021-11-22T12:37:47.615Z"
   },
   {
    "duration": 59,
    "start_time": "2021-11-22T12:37:47.772Z"
   },
   {
    "duration": 485,
    "start_time": "2021-11-22T12:37:47.833Z"
   },
   {
    "duration": 19,
    "start_time": "2021-11-22T12:37:48.320Z"
   },
   {
    "duration": 301,
    "start_time": "2021-11-22T12:37:48.342Z"
   },
   {
    "duration": 6,
    "start_time": "2021-11-22T12:37:48.645Z"
   },
   {
    "duration": 40,
    "start_time": "2021-11-22T12:37:48.654Z"
   },
   {
    "duration": 16,
    "start_time": "2021-11-22T12:37:48.697Z"
   },
   {
    "duration": 80,
    "start_time": "2021-11-22T12:37:48.715Z"
   },
   {
    "duration": 11,
    "start_time": "2021-11-22T12:37:48.798Z"
   },
   {
    "duration": 536,
    "start_time": "2021-11-22T12:37:48.813Z"
   },
   {
    "duration": 16888,
    "start_time": "2021-11-22T12:37:49.352Z"
   },
   {
    "duration": 56,
    "start_time": "2021-11-22T12:38:06.244Z"
   },
   {
    "duration": 26,
    "start_time": "2021-11-22T12:38:06.303Z"
   },
   {
    "duration": 56,
    "start_time": "2021-11-22T12:38:06.332Z"
   },
   {
    "duration": 7,
    "start_time": "2021-11-22T12:38:06.391Z"
   },
   {
    "duration": 443,
    "start_time": "2021-11-22T12:38:06.401Z"
   },
   {
    "duration": 436,
    "start_time": "2021-11-22T12:38:06.848Z"
   },
   {
    "duration": 382,
    "start_time": "2021-11-22T12:38:07.286Z"
   },
   {
    "duration": 295,
    "start_time": "2021-11-22T12:38:07.671Z"
   },
   {
    "duration": 443,
    "start_time": "2021-11-22T12:38:07.969Z"
   },
   {
    "duration": 99,
    "start_time": "2021-11-22T12:38:08.416Z"
   },
   {
    "duration": 17,
    "start_time": "2021-11-22T12:38:08.518Z"
   },
   {
    "duration": 76,
    "start_time": "2021-11-22T12:38:08.538Z"
   },
   {
    "duration": 17,
    "start_time": "2021-11-22T12:38:08.616Z"
   },
   {
    "duration": 10,
    "start_time": "2021-11-22T12:38:08.635Z"
   },
   {
    "duration": 60,
    "start_time": "2021-11-22T12:38:08.648Z"
   },
   {
    "duration": 23,
    "start_time": "2021-11-22T12:38:08.710Z"
   },
   {
    "duration": 48,
    "start_time": "2021-11-22T12:38:08.739Z"
   },
   {
    "duration": 20,
    "start_time": "2021-11-22T12:39:51.282Z"
   },
   {
    "duration": 489,
    "start_time": "2021-11-22T12:40:40.357Z"
   },
   {
    "duration": 31,
    "start_time": "2021-11-22T12:40:58.928Z"
   },
   {
    "duration": 284,
    "start_time": "2021-11-22T12:41:01.991Z"
   },
   {
    "duration": 437,
    "start_time": "2021-11-22T12:41:27.374Z"
   },
   {
    "duration": 312,
    "start_time": "2021-11-22T12:49:57.306Z"
   },
   {
    "duration": 22,
    "start_time": "2021-11-22T12:49:59.185Z"
   },
   {
    "duration": 307,
    "start_time": "2021-11-22T12:50:00.601Z"
   },
   {
    "duration": 23,
    "start_time": "2021-11-22T13:00:54.115Z"
   },
   {
    "duration": 23,
    "start_time": "2021-11-22T13:00:58.385Z"
   },
   {
    "duration": 51,
    "start_time": "2021-11-22T13:01:05.850Z"
   },
   {
    "duration": 113,
    "start_time": "2021-11-22T13:01:18.858Z"
   },
   {
    "duration": 327,
    "start_time": "2021-11-22T13:02:45.172Z"
   },
   {
    "duration": 23,
    "start_time": "2021-11-22T13:02:53.620Z"
   },
   {
    "duration": 11,
    "start_time": "2021-11-22T13:02:57.600Z"
   },
   {
    "duration": 11,
    "start_time": "2021-11-22T13:03:18.880Z"
   },
   {
    "duration": 12,
    "start_time": "2021-11-22T13:05:16.365Z"
   },
   {
    "duration": 22,
    "start_time": "2021-11-22T13:05:22.327Z"
   },
   {
    "duration": 324,
    "start_time": "2021-11-22T13:05:43.983Z"
   },
   {
    "duration": 20,
    "start_time": "2021-11-22T13:05:47.263Z"
   },
   {
    "duration": 16,
    "start_time": "2021-11-22T13:06:08.231Z"
   },
   {
    "duration": 16,
    "start_time": "2021-11-22T13:06:33.927Z"
   },
   {
    "duration": 15,
    "start_time": "2021-11-22T13:07:08.983Z"
   },
   {
    "duration": 95,
    "start_time": "2021-11-22T13:14:30.288Z"
   },
   {
    "duration": 4,
    "start_time": "2021-11-22T13:14:35.778Z"
   },
   {
    "duration": 6,
    "start_time": "2021-11-22T13:14:37.225Z"
   },
   {
    "duration": 6,
    "start_time": "2021-11-22T13:14:50.680Z"
   },
   {
    "duration": 14,
    "start_time": "2021-11-22T13:14:56.554Z"
   },
   {
    "duration": 5,
    "start_time": "2021-11-22T13:15:09.305Z"
   },
   {
    "duration": 50,
    "start_time": "2021-11-22T13:15:09.983Z"
   },
   {
    "duration": 5,
    "start_time": "2021-11-22T13:16:26.128Z"
   },
   {
    "duration": 52,
    "start_time": "2021-11-22T13:16:26.647Z"
   },
   {
    "duration": 4,
    "start_time": "2021-11-22T13:16:29.158Z"
   },
   {
    "duration": 5,
    "start_time": "2021-11-22T13:16:29.398Z"
   },
   {
    "duration": 51,
    "start_time": "2021-11-22T13:16:29.670Z"
   },
   {
    "duration": 5,
    "start_time": "2021-11-22T13:16:45.671Z"
   },
   {
    "duration": 12,
    "start_time": "2021-11-22T13:16:46.311Z"
   },
   {
    "duration": 7,
    "start_time": "2021-11-22T13:17:17.432Z"
   },
   {
    "duration": 12,
    "start_time": "2021-11-22T13:17:17.894Z"
   },
   {
    "duration": 4,
    "start_time": "2021-11-22T13:17:37.031Z"
   },
   {
    "duration": 51,
    "start_time": "2021-11-22T13:17:37.456Z"
   },
   {
    "duration": 5,
    "start_time": "2021-11-22T13:17:41.119Z"
   },
   {
    "duration": 11,
    "start_time": "2021-11-22T13:17:41.383Z"
   },
   {
    "duration": 357,
    "start_time": "2021-11-22T13:19:40.286Z"
   },
   {
    "duration": 5,
    "start_time": "2021-11-22T13:19:45.050Z"
   },
   {
    "duration": 11,
    "start_time": "2021-11-22T13:19:47.910Z"
   },
   {
    "duration": 7,
    "start_time": "2021-11-22T13:20:02.526Z"
   },
   {
    "duration": 58,
    "start_time": "2021-11-22T13:20:04.396Z"
   },
   {
    "duration": 6,
    "start_time": "2021-11-22T13:20:10.686Z"
   },
   {
    "duration": 17,
    "start_time": "2021-11-22T13:20:11.229Z"
   },
   {
    "duration": 7,
    "start_time": "2021-11-22T13:20:16.805Z"
   },
   {
    "duration": 62,
    "start_time": "2021-11-22T13:20:17.300Z"
   },
   {
    "duration": 13,
    "start_time": "2021-11-22T13:21:31.022Z"
   },
   {
    "duration": 6,
    "start_time": "2021-11-22T13:21:35.940Z"
   },
   {
    "duration": 82,
    "start_time": "2021-11-22T13:21:36.348Z"
   },
   {
    "duration": 6,
    "start_time": "2021-11-22T13:21:49.371Z"
   },
   {
    "duration": 585,
    "start_time": "2021-11-22T13:21:50.355Z"
   },
   {
    "duration": 5,
    "start_time": "2021-11-22T13:21:53.438Z"
   },
   {
    "duration": 607,
    "start_time": "2021-11-22T13:21:53.981Z"
   },
   {
    "duration": 17,
    "start_time": "2021-11-22T13:26:16.893Z"
   },
   {
    "duration": 34,
    "start_time": "2021-11-22T13:27:08.596Z"
   },
   {
    "duration": 85,
    "start_time": "2021-11-22T13:28:47.521Z"
   },
   {
    "duration": 5,
    "start_time": "2021-11-22T13:30:18.672Z"
   },
   {
    "duration": 10,
    "start_time": "2021-11-22T13:30:22.296Z"
   },
   {
    "duration": 1333,
    "start_time": "2021-11-22T13:32:53.773Z"
   },
   {
    "duration": 6,
    "start_time": "2021-11-22T13:33:07.760Z"
   },
   {
    "duration": 7,
    "start_time": "2021-11-22T13:33:12.671Z"
   },
   {
    "duration": 7,
    "start_time": "2021-11-22T13:33:17.101Z"
   },
   {
    "duration": 7,
    "start_time": "2021-11-22T13:33:23.323Z"
   },
   {
    "duration": 9,
    "start_time": "2021-11-22T13:33:31.532Z"
   },
   {
    "duration": 13,
    "start_time": "2021-11-22T13:33:38.271Z"
   },
   {
    "duration": 9,
    "start_time": "2021-11-22T13:34:38.864Z"
   },
   {
    "duration": 13,
    "start_time": "2021-11-22T13:34:43.366Z"
   },
   {
    "duration": 15,
    "start_time": "2021-11-22T13:34:50.390Z"
   },
   {
    "duration": 11,
    "start_time": "2021-11-22T13:35:50.637Z"
   },
   {
    "duration": 17,
    "start_time": "2021-11-22T13:35:54.750Z"
   },
   {
    "duration": 19,
    "start_time": "2021-11-22T13:37:00.351Z"
   },
   {
    "duration": 512,
    "start_time": "2021-11-22T13:38:08.101Z"
   },
   {
    "duration": 1151,
    "start_time": "2021-11-22T13:45:04.312Z"
   },
   {
    "duration": 300,
    "start_time": "2021-11-22T13:45:13.133Z"
   },
   {
    "duration": 360,
    "start_time": "2021-11-22T13:45:21.467Z"
   },
   {
    "duration": 363,
    "start_time": "2021-11-22T15:42:49.663Z"
   },
   {
    "duration": 1016,
    "start_time": "2021-11-22T15:42:58.469Z"
   },
   {
    "duration": 58,
    "start_time": "2021-11-22T15:42:59.486Z"
   },
   {
    "duration": 3,
    "start_time": "2021-11-22T15:42:59.546Z"
   },
   {
    "duration": 23,
    "start_time": "2021-11-22T15:42:59.551Z"
   },
   {
    "duration": 16,
    "start_time": "2021-11-22T15:42:59.575Z"
   },
   {
    "duration": 20,
    "start_time": "2021-11-22T15:42:59.593Z"
   },
   {
    "duration": 35,
    "start_time": "2021-11-22T15:42:59.615Z"
   },
   {
    "duration": 11,
    "start_time": "2021-11-22T15:42:59.653Z"
   },
   {
    "duration": 8,
    "start_time": "2021-11-22T15:42:59.666Z"
   },
   {
    "duration": 33,
    "start_time": "2021-11-22T15:42:59.676Z"
   },
   {
    "duration": 8,
    "start_time": "2021-11-22T15:42:59.711Z"
   },
   {
    "duration": 10,
    "start_time": "2021-11-22T15:42:59.720Z"
   },
   {
    "duration": 4,
    "start_time": "2021-11-22T15:42:59.732Z"
   },
   {
    "duration": 13,
    "start_time": "2021-11-22T15:42:59.738Z"
   },
   {
    "duration": 771,
    "start_time": "2021-11-22T15:42:59.753Z"
   },
   {
    "duration": 23,
    "start_time": "2021-11-22T15:43:00.526Z"
   },
   {
    "duration": 10,
    "start_time": "2021-11-22T15:43:00.551Z"
   },
   {
    "duration": 36,
    "start_time": "2021-11-22T15:43:00.563Z"
   },
   {
    "duration": 27,
    "start_time": "2021-11-22T15:43:00.601Z"
   },
   {
    "duration": 125,
    "start_time": "2021-11-22T15:43:00.630Z"
   },
   {
    "duration": 58,
    "start_time": "2021-11-22T15:43:00.756Z"
   },
   {
    "duration": 38,
    "start_time": "2021-11-22T15:43:00.816Z"
   },
   {
    "duration": 22,
    "start_time": "2021-11-22T15:43:00.858Z"
   },
   {
    "duration": 15,
    "start_time": "2021-11-22T15:43:00.882Z"
   },
   {
    "duration": 62,
    "start_time": "2021-11-22T15:43:00.899Z"
   },
   {
    "duration": 51,
    "start_time": "2021-11-22T15:43:00.963Z"
   },
   {
    "duration": 41,
    "start_time": "2021-11-22T15:43:01.016Z"
   },
   {
    "duration": 32,
    "start_time": "2021-11-22T15:43:01.059Z"
   },
   {
    "duration": 33,
    "start_time": "2021-11-22T15:43:01.092Z"
   },
   {
    "duration": 143,
    "start_time": "2021-11-22T15:43:01.127Z"
   },
   {
    "duration": 44,
    "start_time": "2021-11-22T15:43:01.272Z"
   },
   {
    "duration": 227,
    "start_time": "2021-11-22T15:43:01.318Z"
   },
   {
    "duration": 12,
    "start_time": "2021-11-22T15:43:01.547Z"
   },
   {
    "duration": 205,
    "start_time": "2021-11-22T15:43:01.561Z"
   },
   {
    "duration": 4,
    "start_time": "2021-11-22T15:43:01.769Z"
   },
   {
    "duration": 91,
    "start_time": "2021-11-22T15:43:01.775Z"
   },
   {
    "duration": 44,
    "start_time": "2021-11-22T15:43:01.868Z"
   },
   {
    "duration": 235,
    "start_time": "2021-11-22T15:43:01.914Z"
   },
   {
    "duration": 10,
    "start_time": "2021-11-22T15:43:02.151Z"
   },
   {
    "duration": 60,
    "start_time": "2021-11-22T15:43:02.162Z"
   },
   {
    "duration": 9,
    "start_time": "2021-11-22T15:43:02.225Z"
   },
   {
    "duration": 229,
    "start_time": "2021-11-22T15:43:02.236Z"
   },
   {
    "duration": 15,
    "start_time": "2021-11-22T15:43:02.467Z"
   },
   {
    "duration": 190,
    "start_time": "2021-11-22T15:43:02.484Z"
   },
   {
    "duration": 35,
    "start_time": "2021-11-22T15:43:02.676Z"
   },
   {
    "duration": 15,
    "start_time": "2021-11-22T15:43:02.713Z"
   },
   {
    "duration": 433,
    "start_time": "2021-11-22T15:43:02.730Z"
   },
   {
    "duration": -1074,
    "start_time": "2021-11-22T15:43:04.239Z"
   },
   {
    "duration": -1094,
    "start_time": "2021-11-22T15:43:04.261Z"
   },
   {
    "duration": -1100,
    "start_time": "2021-11-22T15:43:04.268Z"
   },
   {
    "duration": -1104,
    "start_time": "2021-11-22T15:43:04.274Z"
   },
   {
    "duration": -1109,
    "start_time": "2021-11-22T15:43:04.280Z"
   },
   {
    "duration": -1114,
    "start_time": "2021-11-22T15:43:04.287Z"
   },
   {
    "duration": -1119,
    "start_time": "2021-11-22T15:43:04.293Z"
   },
   {
    "duration": -1123,
    "start_time": "2021-11-22T15:43:04.299Z"
   },
   {
    "duration": -1127,
    "start_time": "2021-11-22T15:43:04.305Z"
   },
   {
    "duration": -1132,
    "start_time": "2021-11-22T15:43:04.311Z"
   },
   {
    "duration": -1137,
    "start_time": "2021-11-22T15:43:04.317Z"
   },
   {
    "duration": -1141,
    "start_time": "2021-11-22T15:43:04.323Z"
   },
   {
    "duration": -1144,
    "start_time": "2021-11-22T15:43:04.328Z"
   },
   {
    "duration": -1150,
    "start_time": "2021-11-22T15:43:04.335Z"
   },
   {
    "duration": 332,
    "start_time": "2021-11-22T15:43:18.971Z"
   },
   {
    "duration": 15,
    "start_time": "2021-11-22T15:43:48.259Z"
   },
   {
    "duration": 327,
    "start_time": "2021-11-22T15:44:22.034Z"
   },
   {
    "duration": 311,
    "start_time": "2021-11-22T15:44:35.087Z"
   },
   {
    "duration": 333,
    "start_time": "2021-11-22T15:44:46.586Z"
   },
   {
    "duration": 14,
    "start_time": "2021-11-22T15:44:54.162Z"
   },
   {
    "duration": 15,
    "start_time": "2021-11-22T15:45:14.307Z"
   },
   {
    "duration": 15,
    "start_time": "2021-11-22T15:45:22.789Z"
   },
   {
    "duration": 5,
    "start_time": "2021-11-22T15:45:23.330Z"
   },
   {
    "duration": 181,
    "start_time": "2021-11-22T15:45:23.481Z"
   },
   {
    "duration": 187,
    "start_time": "2021-11-22T15:45:23.663Z"
   },
   {
    "duration": 175,
    "start_time": "2021-11-22T15:45:23.853Z"
   },
   {
    "duration": 186,
    "start_time": "2021-11-22T15:45:24.030Z"
   },
   {
    "duration": 183,
    "start_time": "2021-11-22T15:45:24.218Z"
   },
   {
    "duration": 946,
    "start_time": "2021-11-22T15:45:24.406Z"
   },
   {
    "duration": -1342,
    "start_time": "2021-11-22T15:45:26.696Z"
   },
   {
    "duration": -1350,
    "start_time": "2021-11-22T15:45:26.705Z"
   },
   {
    "duration": -1414,
    "start_time": "2021-11-22T15:45:26.770Z"
   },
   {
    "duration": 417,
    "start_time": "2021-11-22T15:45:25.580Z"
   },
   {
    "duration": -1200,
    "start_time": "2021-11-22T15:45:27.199Z"
   },
   {
    "duration": 329,
    "start_time": "2021-11-22T15:45:26.213Z"
   },
   {
    "duration": 396,
    "start_time": "2021-11-22T15:45:26.610Z"
   },
   {
    "duration": 364,
    "start_time": "2021-11-22T15:45:47.400Z"
   },
   {
    "duration": 3,
    "start_time": "2021-11-22T15:46:10.250Z"
   },
   {
    "duration": 34,
    "start_time": "2021-11-22T15:46:11.218Z"
   },
   {
    "duration": 12,
    "start_time": "2021-11-22T15:46:11.773Z"
   },
   {
    "duration": 32,
    "start_time": "2021-11-22T15:46:12.334Z"
   },
   {
    "duration": 12,
    "start_time": "2021-11-22T15:46:12.901Z"
   },
   {
    "duration": 4,
    "start_time": "2021-11-22T15:46:13.768Z"
   },
   {
    "duration": 15,
    "start_time": "2021-11-22T15:46:14.341Z"
   },
   {
    "duration": 12,
    "start_time": "2021-11-22T15:46:15.204Z"
   },
   {
    "duration": 140,
    "start_time": "2021-11-22T15:47:37.964Z"
   },
   {
    "duration": 650,
    "start_time": "2021-11-22T15:48:03.938Z"
   },
   {
    "duration": 500,
    "start_time": "2021-11-22T15:48:23.610Z"
   },
   {
    "duration": 575,
    "start_time": "2021-11-22T15:48:28.464Z"
   },
   {
    "duration": 984,
    "start_time": "2021-11-23T09:48:40.146Z"
   },
   {
    "duration": 91,
    "start_time": "2021-11-23T09:48:41.132Z"
   },
   {
    "duration": 3,
    "start_time": "2021-11-23T09:48:41.226Z"
   },
   {
    "duration": 40,
    "start_time": "2021-11-23T09:48:41.232Z"
   },
   {
    "duration": 25,
    "start_time": "2021-11-23T09:48:41.274Z"
   },
   {
    "duration": 27,
    "start_time": "2021-11-23T09:48:41.303Z"
   },
   {
    "duration": 93,
    "start_time": "2021-11-23T09:48:41.333Z"
   },
   {
    "duration": 14,
    "start_time": "2021-11-23T09:48:41.430Z"
   },
   {
    "duration": 42,
    "start_time": "2021-11-23T09:48:41.447Z"
   },
   {
    "duration": 8,
    "start_time": "2021-11-23T09:48:41.491Z"
   },
   {
    "duration": 13,
    "start_time": "2021-11-23T09:48:41.502Z"
   },
   {
    "duration": 13,
    "start_time": "2021-11-23T09:48:41.518Z"
   },
   {
    "duration": 4,
    "start_time": "2021-11-23T09:48:41.535Z"
   },
   {
    "duration": 48,
    "start_time": "2021-11-23T09:48:41.541Z"
   },
   {
    "duration": 1370,
    "start_time": "2021-11-23T09:48:41.591Z"
   },
   {
    "duration": 54,
    "start_time": "2021-11-23T09:48:42.964Z"
   },
   {
    "duration": 18,
    "start_time": "2021-11-23T09:48:43.021Z"
   },
   {
    "duration": 41,
    "start_time": "2021-11-23T09:48:43.042Z"
   },
   {
    "duration": 13,
    "start_time": "2021-11-23T09:48:43.086Z"
   },
   {
    "duration": 216,
    "start_time": "2021-11-23T09:48:43.101Z"
   },
   {
    "duration": 16,
    "start_time": "2021-11-23T09:48:43.320Z"
   },
   {
    "duration": 91,
    "start_time": "2021-11-23T09:48:43.339Z"
   },
   {
    "duration": 43,
    "start_time": "2021-11-23T09:48:43.439Z"
   },
   {
    "duration": 13,
    "start_time": "2021-11-23T09:48:43.486Z"
   },
   {
    "duration": 106,
    "start_time": "2021-11-23T09:48:43.502Z"
   },
   {
    "duration": 75,
    "start_time": "2021-11-23T09:48:43.611Z"
   },
   {
    "duration": 28,
    "start_time": "2021-11-23T09:48:43.689Z"
   },
   {
    "duration": 28,
    "start_time": "2021-11-23T09:48:43.720Z"
   },
   {
    "duration": 55,
    "start_time": "2021-11-23T09:48:43.750Z"
   },
   {
    "duration": 123,
    "start_time": "2021-11-23T09:48:43.807Z"
   },
   {
    "duration": 71,
    "start_time": "2021-11-23T09:48:43.933Z"
   },
   {
    "duration": 461,
    "start_time": "2021-11-23T09:48:44.007Z"
   },
   {
    "duration": 26,
    "start_time": "2021-11-23T09:48:44.470Z"
   },
   {
    "duration": 352,
    "start_time": "2021-11-23T09:48:44.498Z"
   },
   {
    "duration": 6,
    "start_time": "2021-11-23T09:48:44.853Z"
   },
   {
    "duration": 77,
    "start_time": "2021-11-23T09:48:44.861Z"
   },
   {
    "duration": 18,
    "start_time": "2021-11-23T09:48:44.941Z"
   },
   {
    "duration": 480,
    "start_time": "2021-11-23T09:48:44.962Z"
   },
   {
    "duration": 15,
    "start_time": "2021-11-23T09:48:45.445Z"
   },
   {
    "duration": 106,
    "start_time": "2021-11-23T09:48:45.463Z"
   },
   {
    "duration": 14,
    "start_time": "2021-11-23T09:48:45.583Z"
   },
   {
    "duration": 525,
    "start_time": "2021-11-23T09:48:45.600Z"
   },
   {
    "duration": 29,
    "start_time": "2021-11-23T09:48:46.127Z"
   },
   {
    "duration": 373,
    "start_time": "2021-11-23T09:48:46.160Z"
   },
   {
    "duration": 48,
    "start_time": "2021-11-23T09:48:46.535Z"
   },
   {
    "duration": 30,
    "start_time": "2021-11-23T09:48:46.587Z"
   },
   {
    "duration": 24,
    "start_time": "2021-11-23T09:48:46.619Z"
   },
   {
    "duration": 36,
    "start_time": "2021-11-23T09:48:46.646Z"
   },
   {
    "duration": 282,
    "start_time": "2021-11-23T09:48:46.685Z"
   },
   {
    "duration": 286,
    "start_time": "2021-11-23T09:48:46.969Z"
   },
   {
    "duration": 285,
    "start_time": "2021-11-23T09:48:47.258Z"
   },
   {
    "duration": 304,
    "start_time": "2021-11-23T09:48:47.546Z"
   },
   {
    "duration": 283,
    "start_time": "2021-11-23T09:48:47.853Z"
   },
   {
    "duration": 2273,
    "start_time": "2021-11-23T09:48:48.138Z"
   },
   {
    "duration": 87,
    "start_time": "2021-11-23T09:48:50.414Z"
   },
   {
    "duration": 16,
    "start_time": "2021-11-23T09:48:50.504Z"
   },
   {
    "duration": 77,
    "start_time": "2021-11-23T09:48:50.523Z"
   },
   {
    "duration": 18,
    "start_time": "2021-11-23T09:48:50.602Z"
   },
   {
    "duration": 6,
    "start_time": "2021-11-23T09:48:50.623Z"
   },
   {
    "duration": 49,
    "start_time": "2021-11-23T09:48:50.632Z"
   },
   {
    "duration": 19,
    "start_time": "2021-11-23T09:48:50.684Z"
   },
   {
    "duration": 19,
    "start_time": "2021-11-23T09:52:11.255Z"
   },
   {
    "duration": 130,
    "start_time": "2021-11-23T09:52:14.512Z"
   },
   {
    "duration": 28,
    "start_time": "2021-11-23T09:52:25.782Z"
   },
   {
    "duration": 36,
    "start_time": "2021-11-23T09:52:43.842Z"
   },
   {
    "duration": 27,
    "start_time": "2021-11-23T09:52:47.688Z"
   },
   {
    "duration": 29,
    "start_time": "2021-11-23T09:52:51.043Z"
   },
   {
    "duration": 33,
    "start_time": "2021-11-23T09:52:55.882Z"
   },
   {
    "duration": 34,
    "start_time": "2021-11-23T09:53:07.824Z"
   },
   {
    "duration": 28,
    "start_time": "2021-11-23T09:53:36.972Z"
   },
   {
    "duration": 31,
    "start_time": "2021-11-23T09:53:40.722Z"
   },
   {
    "duration": 29,
    "start_time": "2021-11-23T09:53:43.620Z"
   },
   {
    "duration": 32,
    "start_time": "2021-11-23T09:54:41.163Z"
   },
   {
    "duration": 32,
    "start_time": "2021-11-23T09:55:30.302Z"
   },
   {
    "duration": 1102,
    "start_time": "2021-11-23T10:01:16.147Z"
   },
   {
    "duration": 542,
    "start_time": "2021-11-23T10:01:31.686Z"
   },
   {
    "duration": 387,
    "start_time": "2021-11-23T10:01:37.115Z"
   },
   {
    "duration": 468,
    "start_time": "2021-11-23T10:01:46.137Z"
   },
   {
    "duration": 635,
    "start_time": "2021-11-23T10:02:04.990Z"
   },
   {
    "duration": 1621,
    "start_time": "2021-11-23T10:03:18.877Z"
   },
   {
    "duration": 439,
    "start_time": "2021-11-23T10:03:23.992Z"
   },
   {
    "duration": 1021,
    "start_time": "2021-11-23T10:03:29.000Z"
   },
   {
    "duration": 998,
    "start_time": "2021-11-23T10:03:58.531Z"
   },
   {
    "duration": 910,
    "start_time": "2021-11-23T10:04:05.046Z"
   },
   {
    "duration": 1009,
    "start_time": "2021-11-23T10:04:09.576Z"
   },
   {
    "duration": 992,
    "start_time": "2021-11-23T10:04:25.958Z"
   },
   {
    "duration": 1111,
    "start_time": "2021-11-23T10:04:39.041Z"
   },
   {
    "duration": 896,
    "start_time": "2022-05-01T16:39:25.273Z"
   },
   {
    "duration": 126,
    "start_time": "2022-05-01T16:39:26.171Z"
   },
   {
    "duration": 2,
    "start_time": "2022-05-01T16:39:26.299Z"
   },
   {
    "duration": 24,
    "start_time": "2022-05-01T16:39:26.304Z"
   },
   {
    "duration": 18,
    "start_time": "2022-05-01T16:39:26.329Z"
   },
   {
    "duration": 28,
    "start_time": "2022-05-01T16:39:26.349Z"
   },
   {
    "duration": 38,
    "start_time": "2022-05-01T16:39:26.378Z"
   },
   {
    "duration": 28,
    "start_time": "2022-05-01T16:39:26.418Z"
   },
   {
    "duration": 7,
    "start_time": "2022-05-01T16:39:26.448Z"
   },
   {
    "duration": 6,
    "start_time": "2022-05-01T16:39:26.458Z"
   },
   {
    "duration": 8,
    "start_time": "2022-05-01T16:39:26.466Z"
   },
   {
    "duration": 8,
    "start_time": "2022-05-01T16:39:26.475Z"
   },
   {
    "duration": 5,
    "start_time": "2022-05-01T16:39:26.485Z"
   },
   {
    "duration": 42,
    "start_time": "2022-05-01T16:39:26.492Z"
   },
   {
    "duration": 334,
    "start_time": "2022-05-01T16:39:26.536Z"
   },
   {
    "duration": 20,
    "start_time": "2022-05-01T16:39:26.872Z"
   },
   {
    "duration": 9,
    "start_time": "2022-05-01T16:39:26.894Z"
   },
   {
    "duration": 37,
    "start_time": "2022-05-01T16:39:26.905Z"
   },
   {
    "duration": 8,
    "start_time": "2022-05-01T16:39:26.944Z"
   },
   {
    "duration": 122,
    "start_time": "2022-05-01T16:39:26.954Z"
   },
   {
    "duration": 8,
    "start_time": "2022-05-01T16:39:27.077Z"
   },
   {
    "duration": 67,
    "start_time": "2022-05-01T16:39:27.087Z"
   },
   {
    "duration": 8,
    "start_time": "2022-05-01T16:39:27.156Z"
   },
   {
    "duration": 9,
    "start_time": "2022-05-01T16:39:27.165Z"
   },
   {
    "duration": 89,
    "start_time": "2022-05-01T16:39:27.175Z"
   },
   {
    "duration": 19,
    "start_time": "2022-05-01T16:39:27.266Z"
   },
   {
    "duration": 61,
    "start_time": "2022-05-01T16:39:27.286Z"
   },
   {
    "duration": 19,
    "start_time": "2022-05-01T16:39:27.350Z"
   },
   {
    "duration": 23,
    "start_time": "2022-05-01T16:39:27.371Z"
   },
   {
    "duration": 63,
    "start_time": "2022-05-01T16:39:27.395Z"
   },
   {
    "duration": 35,
    "start_time": "2022-05-01T16:39:27.460Z"
   },
   {
    "duration": 191,
    "start_time": "2022-05-01T16:39:27.496Z"
   },
   {
    "duration": 13,
    "start_time": "2022-05-01T16:39:27.689Z"
   },
   {
    "duration": 201,
    "start_time": "2022-05-01T16:39:27.704Z"
   },
   {
    "duration": 5,
    "start_time": "2022-05-01T16:39:27.906Z"
   },
   {
    "duration": 32,
    "start_time": "2022-05-01T16:39:27.913Z"
   },
   {
    "duration": 34,
    "start_time": "2022-05-01T16:39:27.947Z"
   },
   {
    "duration": 13,
    "start_time": "2022-05-01T16:39:27.982Z"
   },
   {
    "duration": 167,
    "start_time": "2022-05-01T16:39:27.997Z"
   },
   {
    "duration": 8,
    "start_time": "2022-05-01T16:39:28.166Z"
   },
   {
    "duration": 58,
    "start_time": "2022-05-01T16:39:28.176Z"
   },
   {
    "duration": 9,
    "start_time": "2022-05-01T16:39:28.236Z"
   },
   {
    "duration": 182,
    "start_time": "2022-05-01T16:39:28.247Z"
   },
   {
    "duration": 15,
    "start_time": "2022-05-01T16:39:28.431Z"
   },
   {
    "duration": 154,
    "start_time": "2022-05-01T16:39:28.447Z"
   },
   {
    "duration": 32,
    "start_time": "2022-05-01T16:39:28.602Z"
   },
   {
    "duration": 16,
    "start_time": "2022-05-01T16:39:28.636Z"
   },
   {
    "duration": 14,
    "start_time": "2022-05-01T16:39:28.653Z"
   },
   {
    "duration": 4,
    "start_time": "2022-05-01T16:39:28.669Z"
   },
   {
    "duration": 191,
    "start_time": "2022-05-01T16:39:28.675Z"
   },
   {
    "duration": 173,
    "start_time": "2022-05-01T16:39:28.868Z"
   },
   {
    "duration": 158,
    "start_time": "2022-05-01T16:39:29.043Z"
   },
   {
    "duration": 171,
    "start_time": "2022-05-01T16:39:29.203Z"
   },
   {
    "duration": 173,
    "start_time": "2022-05-01T16:39:29.376Z"
   },
   {
    "duration": 860,
    "start_time": "2022-05-01T16:39:29.551Z"
   },
   {
    "duration": 770,
    "start_time": "2022-05-01T16:39:30.413Z"
   },
   {
    "duration": 50,
    "start_time": "2022-05-01T16:39:31.185Z"
   },
   {
    "duration": 12,
    "start_time": "2022-05-01T16:39:31.237Z"
   },
   {
    "duration": 43,
    "start_time": "2022-05-01T16:39:31.251Z"
   },
   {
    "duration": 14,
    "start_time": "2022-05-01T16:39:31.297Z"
   },
   {
    "duration": 20,
    "start_time": "2022-05-01T16:39:31.313Z"
   },
   {
    "duration": 22,
    "start_time": "2022-05-01T16:39:31.335Z"
   },
   {
    "duration": 30,
    "start_time": "2022-05-01T16:39:31.359Z"
   },
   {
    "duration": 686,
    "start_time": "2022-11-11T12:05:55.704Z"
   },
   {
    "duration": 63,
    "start_time": "2022-11-11T12:05:56.392Z"
   },
   {
    "duration": 3,
    "start_time": "2022-11-11T12:05:56.456Z"
   },
   {
    "duration": 20,
    "start_time": "2022-11-11T12:05:56.460Z"
   },
   {
    "duration": 14,
    "start_time": "2022-11-11T12:05:56.481Z"
   },
   {
    "duration": 23,
    "start_time": "2022-11-11T12:05:56.497Z"
   },
   {
    "duration": 30,
    "start_time": "2022-11-11T12:05:56.521Z"
   },
   {
    "duration": 13,
    "start_time": "2022-11-11T12:05:56.553Z"
   },
   {
    "duration": 6,
    "start_time": "2022-11-11T12:05:56.567Z"
   },
   {
    "duration": 7,
    "start_time": "2022-11-11T12:05:56.575Z"
   },
   {
    "duration": 31,
    "start_time": "2022-11-11T12:05:56.584Z"
   },
   {
    "duration": 5,
    "start_time": "2022-11-11T12:05:56.617Z"
   },
   {
    "duration": 4,
    "start_time": "2022-11-11T12:05:56.624Z"
   },
   {
    "duration": 11,
    "start_time": "2022-11-11T12:05:56.629Z"
   },
   {
    "duration": 416,
    "start_time": "2022-11-11T12:05:56.641Z"
   },
   {
    "duration": 23,
    "start_time": "2022-11-11T12:05:57.059Z"
   },
   {
    "duration": 10,
    "start_time": "2022-11-11T12:05:57.083Z"
   },
   {
    "duration": 21,
    "start_time": "2022-11-11T12:05:57.094Z"
   },
   {
    "duration": 7,
    "start_time": "2022-11-11T12:05:57.117Z"
   },
   {
    "duration": 115,
    "start_time": "2022-11-11T12:05:57.125Z"
   },
   {
    "duration": 7,
    "start_time": "2022-11-11T12:05:57.242Z"
   },
   {
    "duration": 19,
    "start_time": "2022-11-11T12:05:57.250Z"
   },
   {
    "duration": 48,
    "start_time": "2022-11-11T12:05:57.270Z"
   },
   {
    "duration": 6,
    "start_time": "2022-11-11T12:05:57.319Z"
   },
   {
    "duration": 87,
    "start_time": "2022-11-11T12:05:57.327Z"
   },
   {
    "duration": 18,
    "start_time": "2022-11-11T12:05:57.415Z"
   },
   {
    "duration": 17,
    "start_time": "2022-11-11T12:05:57.434Z"
   },
   {
    "duration": 16,
    "start_time": "2022-11-11T12:05:57.455Z"
   },
   {
    "duration": 41,
    "start_time": "2022-11-11T12:05:57.473Z"
   },
   {
    "duration": 34,
    "start_time": "2022-11-11T12:05:57.515Z"
   },
   {
    "duration": 31,
    "start_time": "2022-11-11T12:05:57.551Z"
   },
   {
    "duration": 215,
    "start_time": "2022-11-11T12:05:57.583Z"
   },
   {
    "duration": 18,
    "start_time": "2022-11-11T12:05:57.799Z"
   },
   {
    "duration": 124,
    "start_time": "2022-11-11T12:05:57.818Z"
   },
   {
    "duration": 5,
    "start_time": "2022-11-11T12:05:57.944Z"
   },
   {
    "duration": 18,
    "start_time": "2022-11-11T12:05:57.950Z"
   },
   {
    "duration": 57,
    "start_time": "2022-11-11T12:05:57.970Z"
   },
   {
    "duration": 12,
    "start_time": "2022-11-11T12:05:58.029Z"
   },
   {
    "duration": 140,
    "start_time": "2022-11-11T12:05:58.042Z"
   },
   {
    "duration": 8,
    "start_time": "2022-11-11T12:05:58.183Z"
   },
   {
    "duration": 39,
    "start_time": "2022-11-11T12:05:58.192Z"
   },
   {
    "duration": 6,
    "start_time": "2022-11-11T12:05:58.233Z"
   },
   {
    "duration": 139,
    "start_time": "2022-11-11T12:05:58.240Z"
   },
   {
    "duration": 11,
    "start_time": "2022-11-11T12:05:58.381Z"
   },
   {
    "duration": 128,
    "start_time": "2022-11-11T12:05:58.393Z"
   },
   {
    "duration": 18,
    "start_time": "2022-11-11T12:05:58.523Z"
   },
   {
    "duration": 15,
    "start_time": "2022-11-11T12:05:58.542Z"
   },
   {
    "duration": 15,
    "start_time": "2022-11-11T12:05:58.559Z"
   },
   {
    "duration": 4,
    "start_time": "2022-11-11T12:05:58.575Z"
   },
   {
    "duration": 154,
    "start_time": "2022-11-11T12:05:58.612Z"
   },
   {
    "duration": 145,
    "start_time": "2022-11-11T12:05:58.767Z"
   },
   {
    "duration": 150,
    "start_time": "2022-11-11T12:05:58.913Z"
   },
   {
    "duration": 154,
    "start_time": "2022-11-11T12:05:59.065Z"
   },
   {
    "duration": 152,
    "start_time": "2022-11-11T12:05:59.221Z"
   },
   {
    "duration": 810,
    "start_time": "2022-11-11T12:05:59.374Z"
   },
   {
    "duration": 746,
    "start_time": "2022-11-11T12:06:00.186Z"
   },
   {
    "duration": 35,
    "start_time": "2022-11-11T12:06:00.934Z"
   },
   {
    "duration": 10,
    "start_time": "2022-11-11T12:06:00.971Z"
   },
   {
    "duration": 110,
    "start_time": "2022-11-11T12:06:00.983Z"
   },
   {
    "duration": 28,
    "start_time": "2022-11-11T12:06:01.094Z"
   },
   {
    "duration": 3,
    "start_time": "2022-11-11T12:06:01.124Z"
   },
   {
    "duration": 36,
    "start_time": "2022-11-11T12:06:01.129Z"
   },
   {
    "duration": 11,
    "start_time": "2022-11-11T12:06:01.166Z"
   },
   {
    "duration": 5,
    "start_time": "2022-11-11T12:27:50.288Z"
   },
   {
    "duration": 15,
    "start_time": "2022-11-11T12:27:55.904Z"
   },
   {
    "duration": 74,
    "start_time": "2022-11-11T12:28:16.280Z"
   },
   {
    "duration": 66,
    "start_time": "2022-11-11T12:28:21.014Z"
   },
   {
    "duration": 81,
    "start_time": "2022-11-11T12:28:23.473Z"
   },
   {
    "duration": 95,
    "start_time": "2022-11-11T12:28:29.609Z"
   },
   {
    "duration": 86,
    "start_time": "2022-11-11T12:28:35.437Z"
   },
   {
    "duration": 14,
    "start_time": "2022-11-11T12:28:40.898Z"
   },
   {
    "duration": 81,
    "start_time": "2022-11-11T12:28:53.188Z"
   },
   {
    "duration": 71,
    "start_time": "2022-11-11T12:28:58.624Z"
   },
   {
    "duration": 70,
    "start_time": "2022-11-11T12:29:02.579Z"
   },
   {
    "duration": 13,
    "start_time": "2022-11-11T12:29:04.770Z"
   },
   {
    "duration": 18,
    "start_time": "2022-11-11T12:29:13.787Z"
   },
   {
    "duration": 89,
    "start_time": "2022-11-11T12:29:32.628Z"
   },
   {
    "duration": 17,
    "start_time": "2022-11-11T12:29:46.404Z"
   },
   {
    "duration": 10,
    "start_time": "2022-11-11T12:29:48.306Z"
   },
   {
    "duration": 17,
    "start_time": "2022-11-11T12:30:09.076Z"
   },
   {
    "duration": 125,
    "start_time": "2022-11-11T12:30:09.595Z"
   },
   {
    "duration": 17,
    "start_time": "2022-11-11T12:30:28.445Z"
   },
   {
    "duration": 141,
    "start_time": "2022-11-11T12:30:32.898Z"
   },
   {
    "duration": 14,
    "start_time": "2022-11-11T12:30:53.787Z"
   },
   {
    "duration": 487,
    "start_time": "2022-11-11T12:31:32.413Z"
   },
   {
    "duration": 43,
    "start_time": "2022-11-11T12:31:32.901Z"
   },
   {
    "duration": 3,
    "start_time": "2022-11-11T12:31:32.946Z"
   },
   {
    "duration": 26,
    "start_time": "2022-11-11T12:31:32.951Z"
   },
   {
    "duration": 15,
    "start_time": "2022-11-11T12:31:32.979Z"
   },
   {
    "duration": 23,
    "start_time": "2022-11-11T12:31:32.996Z"
   },
   {
    "duration": 33,
    "start_time": "2022-11-11T12:31:33.021Z"
   },
   {
    "duration": 12,
    "start_time": "2022-11-11T12:31:33.055Z"
   },
   {
    "duration": 6,
    "start_time": "2022-11-11T12:31:33.069Z"
   },
   {
    "duration": 7,
    "start_time": "2022-11-11T12:31:33.077Z"
   },
   {
    "duration": 28,
    "start_time": "2022-11-11T12:31:33.085Z"
   },
   {
    "duration": 10,
    "start_time": "2022-11-11T12:31:33.115Z"
   },
   {
    "duration": 8,
    "start_time": "2022-11-11T12:31:33.126Z"
   },
   {
    "duration": 10,
    "start_time": "2022-11-11T12:31:33.136Z"
   },
   {
    "duration": 298,
    "start_time": "2022-11-11T12:31:33.147Z"
   },
   {
    "duration": 19,
    "start_time": "2022-11-11T12:31:33.447Z"
   },
   {
    "duration": 9,
    "start_time": "2022-11-11T12:31:33.467Z"
   },
   {
    "duration": 16,
    "start_time": "2022-11-11T12:31:33.478Z"
   },
   {
    "duration": 22,
    "start_time": "2022-11-11T12:31:33.496Z"
   },
   {
    "duration": 130,
    "start_time": "2022-11-11T12:31:33.519Z"
   },
   {
    "duration": 9,
    "start_time": "2022-11-11T12:31:33.651Z"
   },
   {
    "duration": 66,
    "start_time": "2022-11-11T12:31:33.662Z"
   },
   {
    "duration": 7,
    "start_time": "2022-11-11T12:31:33.729Z"
   },
   {
    "duration": 7,
    "start_time": "2022-11-11T12:31:33.738Z"
   },
   {
    "duration": 82,
    "start_time": "2022-11-11T12:31:33.747Z"
   },
   {
    "duration": 18,
    "start_time": "2022-11-11T12:31:33.830Z"
   },
   {
    "duration": 19,
    "start_time": "2022-11-11T12:31:33.850Z"
   },
   {
    "duration": 48,
    "start_time": "2022-11-11T12:31:33.873Z"
   },
   {
    "duration": 17,
    "start_time": "2022-11-11T12:31:33.922Z"
   },
   {
    "duration": 33,
    "start_time": "2022-11-11T12:31:33.940Z"
   },
   {
    "duration": 53,
    "start_time": "2022-11-11T12:31:33.974Z"
   },
   {
    "duration": 153,
    "start_time": "2022-11-11T12:31:34.028Z"
   },
   {
    "duration": 12,
    "start_time": "2022-11-11T12:31:34.182Z"
   },
   {
    "duration": 176,
    "start_time": "2022-11-11T12:31:34.196Z"
   },
   {
    "duration": 4,
    "start_time": "2022-11-11T12:31:34.374Z"
   },
   {
    "duration": 21,
    "start_time": "2022-11-11T12:31:34.380Z"
   },
   {
    "duration": 34,
    "start_time": "2022-11-11T12:31:34.413Z"
   },
   {
    "duration": 12,
    "start_time": "2022-11-11T12:31:34.448Z"
   },
   {
    "duration": 22,
    "start_time": "2022-11-11T12:31:34.461Z"
   },
   {
    "duration": 155,
    "start_time": "2022-11-11T12:31:34.485Z"
   },
   {
    "duration": 9,
    "start_time": "2022-11-11T12:31:34.641Z"
   },
   {
    "duration": 61,
    "start_time": "2022-11-11T12:31:34.651Z"
   },
   {
    "duration": 9,
    "start_time": "2022-11-11T12:31:34.714Z"
   },
   {
    "duration": 150,
    "start_time": "2022-11-11T12:31:34.725Z"
   },
   {
    "duration": 13,
    "start_time": "2022-11-11T12:31:34.877Z"
   },
   {
    "duration": 137,
    "start_time": "2022-11-11T12:31:34.892Z"
   },
   {
    "duration": 20,
    "start_time": "2022-11-11T12:31:35.031Z"
   },
   {
    "duration": 14,
    "start_time": "2022-11-11T12:31:35.052Z"
   },
   {
    "duration": 13,
    "start_time": "2022-11-11T12:31:35.067Z"
   },
   {
    "duration": 3,
    "start_time": "2022-11-11T12:31:35.082Z"
   },
   {
    "duration": 149,
    "start_time": "2022-11-11T12:31:35.113Z"
   },
   {
    "duration": 151,
    "start_time": "2022-11-11T12:31:35.264Z"
   },
   {
    "duration": 141,
    "start_time": "2022-11-11T12:31:35.419Z"
   },
   {
    "duration": 154,
    "start_time": "2022-11-11T12:31:35.562Z"
   },
   {
    "duration": 149,
    "start_time": "2022-11-11T12:31:35.718Z"
   },
   {
    "duration": 814,
    "start_time": "2022-11-11T12:31:35.869Z"
   },
   {
    "duration": 651,
    "start_time": "2022-11-11T12:31:36.685Z"
   },
   {
    "duration": 34,
    "start_time": "2022-11-11T12:31:37.338Z"
   },
   {
    "duration": 11,
    "start_time": "2022-11-11T12:31:37.373Z"
   },
   {
    "duration": 48,
    "start_time": "2022-11-11T12:31:37.385Z"
   },
   {
    "duration": 9,
    "start_time": "2022-11-11T12:31:37.435Z"
   },
   {
    "duration": 8,
    "start_time": "2022-11-11T12:31:37.446Z"
   },
   {
    "duration": 15,
    "start_time": "2022-11-11T12:31:37.456Z"
   },
   {
    "duration": 10,
    "start_time": "2022-11-11T12:31:37.473Z"
   }
  ],
  "colab": {
   "name": "DA+. Сборный проект 1. Шаблон (1).ipynb",
   "provenance": []
  },
  "kernelspec": {
   "display_name": "Python 3 (ipykernel)",
   "language": "python",
   "name": "python3"
  },
  "language_info": {
   "codemirror_mode": {
    "name": "ipython",
    "version": 3
   },
   "file_extension": ".py",
   "mimetype": "text/x-python",
   "name": "python",
   "nbconvert_exporter": "python",
   "pygments_lexer": "ipython3",
   "version": "3.9.12"
  },
  "toc": {
   "base_numbering": 1,
   "nav_menu": {},
   "number_sections": true,
   "sideBar": true,
   "skip_h1_title": true,
   "title_cell": "Table of Contents",
   "title_sidebar": "Contents",
   "toc_cell": false,
   "toc_position": {
    "height": "calc(100% - 180px)",
    "left": "10px",
    "top": "150px",
    "width": "375.391px"
   },
   "toc_section_display": true,
   "toc_window_display": false
  }
 },
 "nbformat": 4,
 "nbformat_minor": 1
}
