{
 "cells": [
  {
   "cell_type": "code",
   "execution_count": 1,
   "id": "68c340d5",
   "metadata": {
    "tags": [
     "aa81075c-062f-4de0-b5fe-14c73dc7468e"
    ]
   },
   "outputs": [],
   "source": [
    "import pandas as pd\n",
    "import numpy as np\n",
    "\n",
    "from sqlalchemy import create_engine"
   ]
  },
  {
   "cell_type": "code",
   "execution_count": 2,
   "id": "8e8e5b7b",
   "metadata": {},
   "outputs": [],
   "source": [
    "path_to_db = '/datasets/telecomm_csi.db'\n",
    "engine = create_engine(f'sqlite:///{path_to_db}', echo = False)"
   ]
  },
  {
   "cell_type": "code",
   "execution_count": 3,
   "id": "6efe0939",
   "metadata": {},
   "outputs": [],
   "source": [
    "query = \"\"\"\n",
    "\n",
    "SELECT us.user_id,\n",
    "       us.lt_day,\n",
    "       CASE\n",
    "           WHEN us.lt_day <= 365 THEN 'новый клиент'\n",
    "           ELSE 'старый клиент'\n",
    "       END AS is_new,\n",
    "       us.age,\n",
    "       CASE \n",
    "           WHEN us.gender_segment = 1 THEN 'женщина'\n",
    "           WHEN us.gender_segment = 0 THEN 'мужчина'\n",
    "       END as gender_segment,\n",
    "       us.os_name,\n",
    "       us.cpe_type_name,\n",
    "       loc.country,\n",
    "       loc.city,\n",
    "       age.title AS age_segment,\n",
    "       ts.title AS traffic_segment,\n",
    "       ls.title AS lifetime_segment,\n",
    "       us.nps_score,\n",
    "       CASE\n",
    "           WHEN us.nps_score >= 9 THEN 'сторонники'\n",
    "           WHEN us.nps_score >= 7 AND us.nps_score < 9 THEN 'нейтралы'\n",
    "           ELSE 'критики'\n",
    "       END AS nps_group\n",
    "FROM\n",
    "user AS us\n",
    "JOIN location AS loc ON us.location_id = loc.location_id\n",
    "JOIN age_segment AS age ON us.age_gr_id = age.age_gr_id\n",
    "JOIN traffic_segment AS ts ON us.tr_gr_id = ts.tr_gr_id\n",
    "JOIN lifetime_segment AS ls ON us.lt_gr_id = ls.lt_gr_id;\n",
    "\n",
    "\"\"\""
   ]
  },
  {
   "cell_type": "code",
   "execution_count": 4,
   "id": "7a1f3cc7",
   "metadata": {},
   "outputs": [
    {
     "data": {
      "text/html": [
       "<div>\n",
       "<style scoped>\n",
       "    .dataframe tbody tr th:only-of-type {\n",
       "        vertical-align: middle;\n",
       "    }\n",
       "\n",
       "    .dataframe tbody tr th {\n",
       "        vertical-align: top;\n",
       "    }\n",
       "\n",
       "    .dataframe thead th {\n",
       "        text-align: right;\n",
       "    }\n",
       "</style>\n",
       "<table border=\"1\" class=\"dataframe\">\n",
       "  <thead>\n",
       "    <tr style=\"text-align: right;\">\n",
       "      <th></th>\n",
       "      <th>user_id</th>\n",
       "      <th>lt_day</th>\n",
       "      <th>is_new</th>\n",
       "      <th>age</th>\n",
       "      <th>gender_segment</th>\n",
       "      <th>os_name</th>\n",
       "      <th>cpe_type_name</th>\n",
       "      <th>country</th>\n",
       "      <th>city</th>\n",
       "      <th>age_segment</th>\n",
       "      <th>traffic_segment</th>\n",
       "      <th>lifetime_segment</th>\n",
       "      <th>nps_score</th>\n",
       "      <th>nps_group</th>\n",
       "    </tr>\n",
       "  </thead>\n",
       "  <tbody>\n",
       "    <tr>\n",
       "      <td>0</td>\n",
       "      <td>A001A2</td>\n",
       "      <td>2320</td>\n",
       "      <td>старый клиент</td>\n",
       "      <td>45.0</td>\n",
       "      <td>женщина</td>\n",
       "      <td>ANDROID</td>\n",
       "      <td>SMARTPHONE</td>\n",
       "      <td>Россия</td>\n",
       "      <td>Уфа</td>\n",
       "      <td>05 45-54</td>\n",
       "      <td>04 1-5</td>\n",
       "      <td>08 36+</td>\n",
       "      <td>10</td>\n",
       "      <td>сторонники</td>\n",
       "    </tr>\n",
       "    <tr>\n",
       "      <td>1</td>\n",
       "      <td>A001WF</td>\n",
       "      <td>2344</td>\n",
       "      <td>старый клиент</td>\n",
       "      <td>53.0</td>\n",
       "      <td>мужчина</td>\n",
       "      <td>ANDROID</td>\n",
       "      <td>SMARTPHONE</td>\n",
       "      <td>Россия</td>\n",
       "      <td>Киров</td>\n",
       "      <td>05 45-54</td>\n",
       "      <td>04 1-5</td>\n",
       "      <td>08 36+</td>\n",
       "      <td>10</td>\n",
       "      <td>сторонники</td>\n",
       "    </tr>\n",
       "    <tr>\n",
       "      <td>2</td>\n",
       "      <td>A003Q7</td>\n",
       "      <td>467</td>\n",
       "      <td>старый клиент</td>\n",
       "      <td>57.0</td>\n",
       "      <td>мужчина</td>\n",
       "      <td>ANDROID</td>\n",
       "      <td>SMARTPHONE</td>\n",
       "      <td>Россия</td>\n",
       "      <td>Москва</td>\n",
       "      <td>06 55-64</td>\n",
       "      <td>08 20-25</td>\n",
       "      <td>06 13-24</td>\n",
       "      <td>10</td>\n",
       "      <td>сторонники</td>\n",
       "    </tr>\n",
       "    <tr>\n",
       "      <td>3</td>\n",
       "      <td>A004TB</td>\n",
       "      <td>4190</td>\n",
       "      <td>старый клиент</td>\n",
       "      <td>44.0</td>\n",
       "      <td>женщина</td>\n",
       "      <td>IOS</td>\n",
       "      <td>SMARTPHONE</td>\n",
       "      <td>Россия</td>\n",
       "      <td>РостовнаДону</td>\n",
       "      <td>04 35-44</td>\n",
       "      <td>03 0.1-1</td>\n",
       "      <td>08 36+</td>\n",
       "      <td>10</td>\n",
       "      <td>сторонники</td>\n",
       "    </tr>\n",
       "    <tr>\n",
       "      <td>4</td>\n",
       "      <td>A004XT</td>\n",
       "      <td>1163</td>\n",
       "      <td>старый клиент</td>\n",
       "      <td>24.0</td>\n",
       "      <td>мужчина</td>\n",
       "      <td>ANDROID</td>\n",
       "      <td>SMARTPHONE</td>\n",
       "      <td>Россия</td>\n",
       "      <td>Рязань</td>\n",
       "      <td>02 16-24</td>\n",
       "      <td>05 5-10</td>\n",
       "      <td>08 36+</td>\n",
       "      <td>10</td>\n",
       "      <td>сторонники</td>\n",
       "    </tr>\n",
       "  </tbody>\n",
       "</table>\n",
       "</div>"
      ],
      "text/plain": [
       "  user_id  lt_day         is_new   age gender_segment  os_name cpe_type_name  \\\n",
       "0  A001A2    2320  старый клиент  45.0        женщина  ANDROID    SMARTPHONE   \n",
       "1  A001WF    2344  старый клиент  53.0        мужчина  ANDROID    SMARTPHONE   \n",
       "2  A003Q7     467  старый клиент  57.0        мужчина  ANDROID    SMARTPHONE   \n",
       "3  A004TB    4190  старый клиент  44.0        женщина      IOS    SMARTPHONE   \n",
       "4  A004XT    1163  старый клиент  24.0        мужчина  ANDROID    SMARTPHONE   \n",
       "\n",
       "  country          city age_segment traffic_segment lifetime_segment  \\\n",
       "0  Россия           Уфа    05 45-54          04 1-5           08 36+   \n",
       "1  Россия         Киров    05 45-54          04 1-5           08 36+   \n",
       "2  Россия        Москва    06 55-64        08 20-25         06 13-24   \n",
       "3  Россия  РостовнаДону    04 35-44        03 0.1-1           08 36+   \n",
       "4  Россия        Рязань    02 16-24         05 5-10           08 36+   \n",
       "\n",
       "   nps_score   nps_group  \n",
       "0         10  сторонники  \n",
       "1         10  сторонники  \n",
       "2         10  сторонники  \n",
       "3         10  сторонники  \n",
       "4         10  сторонники  "
      ]
     },
     "execution_count": 4,
     "metadata": {},
     "output_type": "execute_result"
    }
   ],
   "source": [
    "df = pd.read_sql(query, engine)\n",
    "df.head()"
   ]
  },
  {
   "cell_type": "code",
   "execution_count": 5,
   "id": "ad5409b5",
   "metadata": {},
   "outputs": [],
   "source": [
    "df.to_csv('telecomm_csi_tableau.csv', index=False)"
   ]
  },
  {
   "cell_type": "markdown",
   "id": "ff56211c",
   "metadata": {},
   "source": [
    "### Ссылка на дашборд на сайте Tableau Public:"
   ]
  },
  {
   "cell_type": "markdown",
   "id": "f1bf4511",
   "metadata": {},
   "source": [
    "[Дашборд](https://public.tableau.com/app/profile/elias1880/viz/__2_16464158850830/sheet0?publish=yes)"
   ]
  },
  {
   "cell_type": "markdown",
   "id": "21264585",
   "metadata": {},
   "source": [
    "### Ссылка на pdf-файл с презентацией:"
   ]
  },
  {
   "cell_type": "markdown",
   "id": "74cf7343",
   "metadata": {},
   "source": [
    "[Презентация](https://disk.yandex.ru/i/AnWdxcm0qgyW_Q)"
   ]
  }
 ],
 "metadata": {
  "ExecuteTimeLog": [
   {
    "duration": 752,
    "start_time": "2021-10-03T17:40:52.731Z"
   },
   {
    "duration": 20,
    "start_time": "2021-10-03T17:40:53.486Z"
   },
   {
    "duration": 4,
    "start_time": "2021-10-03T17:41:04.638Z"
   },
   {
    "duration": 461,
    "start_time": "2021-10-03T17:41:04.912Z"
   },
   {
    "duration": 284,
    "start_time": "2021-10-03T17:41:05.376Z"
   },
   {
    "duration": 574,
    "start_time": "2021-10-06T07:55:05.029Z"
   },
   {
    "duration": 6,
    "start_time": "2021-10-06T07:55:05.605Z"
   },
   {
    "duration": 3,
    "start_time": "2021-10-06T07:55:14.685Z"
   },
   {
    "duration": 406,
    "start_time": "2021-10-06T07:55:15.522Z"
   },
   {
    "duration": 67,
    "start_time": "2021-10-06T07:55:15.929Z"
   },
   {
    "duration": 840,
    "start_time": "2021-10-07T07:54:04.647Z"
   },
   {
    "duration": 10,
    "start_time": "2021-10-07T07:54:05.490Z"
   },
   {
    "duration": 4,
    "start_time": "2021-10-07T07:54:05.544Z"
   },
   {
    "duration": 391,
    "start_time": "2021-10-07T07:54:06.237Z"
   },
   {
    "duration": 293,
    "start_time": "2021-10-07T07:54:06.654Z"
   },
   {
    "duration": 4,
    "start_time": "2022-03-01T17:37:08.163Z"
   },
   {
    "duration": 277,
    "start_time": "2022-03-01T17:37:09.871Z"
   },
   {
    "duration": 631,
    "start_time": "2022-03-01T17:37:12.910Z"
   },
   {
    "duration": 19,
    "start_time": "2022-03-01T17:37:13.543Z"
   },
   {
    "duration": 3,
    "start_time": "2022-03-01T17:37:13.564Z"
   },
   {
    "duration": 6292,
    "start_time": "2022-03-01T17:37:13.568Z"
   },
   {
    "duration": 5859,
    "start_time": "2022-03-01T17:37:19.862Z"
   },
   {
    "duration": 3,
    "start_time": "2022-03-01T17:38:36.801Z"
   },
   {
    "duration": 4735,
    "start_time": "2022-03-01T17:38:37.292Z"
   },
   {
    "duration": 2,
    "start_time": "2022-03-01T17:39:12.539Z"
   },
   {
    "duration": 4748,
    "start_time": "2022-03-01T17:39:13.115Z"
   },
   {
    "duration": 2,
    "start_time": "2022-03-01T17:44:16.488Z"
   },
   {
    "duration": 6821,
    "start_time": "2022-03-01T17:44:16.756Z"
   },
   {
    "duration": 2,
    "start_time": "2022-03-01T17:45:11.154Z"
   },
   {
    "duration": 6729,
    "start_time": "2022-03-01T17:45:11.843Z"
   },
   {
    "duration": 3,
    "start_time": "2022-03-01T17:47:04.680Z"
   },
   {
    "duration": 706,
    "start_time": "2022-03-01T17:47:04.992Z"
   },
   {
    "duration": 3,
    "start_time": "2022-03-01T18:05:44.860Z"
   },
   {
    "duration": 447,
    "start_time": "2022-03-01T18:05:45.127Z"
   },
   {
    "duration": 3,
    "start_time": "2022-03-01T18:07:14.410Z"
   },
   {
    "duration": 446,
    "start_time": "2022-03-01T18:07:14.700Z"
   },
   {
    "duration": 3,
    "start_time": "2022-03-01T18:07:27.131Z"
   },
   {
    "duration": 448,
    "start_time": "2022-03-01T18:07:27.424Z"
   },
   {
    "duration": 3,
    "start_time": "2022-03-01T18:07:36.096Z"
   },
   {
    "duration": 4,
    "start_time": "2022-03-01T18:07:36.299Z"
   },
   {
    "duration": 2,
    "start_time": "2022-03-01T18:07:36.495Z"
   },
   {
    "duration": 449,
    "start_time": "2022-03-01T18:07:36.898Z"
   },
   {
    "duration": 836,
    "start_time": "2022-03-01T19:23:32.086Z"
   },
   {
    "duration": 11,
    "start_time": "2022-03-01T19:23:32.924Z"
   },
   {
    "duration": 5,
    "start_time": "2022-03-01T19:23:32.938Z"
   },
   {
    "duration": 520,
    "start_time": "2022-03-01T19:23:33.038Z"
   },
   {
    "duration": 4,
    "start_time": "2022-03-01T19:24:41.098Z"
   },
   {
    "duration": 367,
    "start_time": "2022-03-01T19:24:41.337Z"
   },
   {
    "duration": 4,
    "start_time": "2022-03-01T19:24:52.326Z"
   },
   {
    "duration": 4,
    "start_time": "2022-03-01T19:24:52.610Z"
   },
   {
    "duration": 4,
    "start_time": "2022-03-01T19:24:52.863Z"
   },
   {
    "duration": 407,
    "start_time": "2022-03-01T19:24:53.150Z"
   },
   {
    "duration": 4,
    "start_time": "2022-03-01T19:26:15.123Z"
   },
   {
    "duration": 418,
    "start_time": "2022-03-01T19:26:15.418Z"
   },
   {
    "duration": 4,
    "start_time": "2022-03-01T19:26:46.314Z"
   },
   {
    "duration": 396,
    "start_time": "2022-03-01T19:26:46.500Z"
   },
   {
    "duration": 103,
    "start_time": "2022-03-01T19:28:43.902Z"
   },
   {
    "duration": 389,
    "start_time": "2022-03-01T19:28:44.125Z"
   },
   {
    "duration": 124,
    "start_time": "2022-03-01T19:28:59.012Z"
   },
   {
    "duration": 390,
    "start_time": "2022-03-01T19:28:59.192Z"
   },
   {
    "duration": 3,
    "start_time": "2022-03-01T19:29:13.001Z"
   },
   {
    "duration": 380,
    "start_time": "2022-03-01T19:29:13.639Z"
   },
   {
    "duration": 4,
    "start_time": "2022-03-01T19:29:55.886Z"
   },
   {
    "duration": 381,
    "start_time": "2022-03-01T19:29:56.065Z"
   },
   {
    "duration": 4,
    "start_time": "2022-03-01T19:35:20.001Z"
   },
   {
    "duration": 1906,
    "start_time": "2022-03-01T19:35:20.188Z"
   },
   {
    "duration": 4,
    "start_time": "2022-03-01T19:35:34.116Z"
   },
   {
    "duration": 5912,
    "start_time": "2022-03-01T19:35:34.293Z"
   },
   {
    "duration": 3,
    "start_time": "2022-03-01T19:36:13.526Z"
   },
   {
    "duration": 7353,
    "start_time": "2022-03-01T19:36:13.767Z"
   },
   {
    "duration": 5379,
    "start_time": "2022-03-01T19:37:08.156Z"
   },
   {
    "duration": 602,
    "start_time": "2022-03-04T16:44:54.158Z"
   },
   {
    "duration": 7,
    "start_time": "2022-03-04T16:44:54.761Z"
   },
   {
    "duration": 3,
    "start_time": "2022-03-04T16:44:54.769Z"
   },
   {
    "duration": 3736,
    "start_time": "2022-03-04T16:44:55.134Z"
   },
   {
    "duration": 4979,
    "start_time": "2022-03-04T16:44:58.872Z"
   },
   {
    "duration": 3,
    "start_time": "2022-03-04T16:57:48.921Z"
   },
   {
    "duration": 3,
    "start_time": "2022-03-04T16:57:49.228Z"
   },
   {
    "duration": 3,
    "start_time": "2022-03-04T16:57:49.498Z"
   },
   {
    "duration": 4209,
    "start_time": "2022-03-04T16:57:49.895Z"
   },
   {
    "duration": 4347,
    "start_time": "2022-03-04T16:57:54.106Z"
   },
   {
    "duration": 2,
    "start_time": "2022-03-04T16:58:22.129Z"
   },
   {
    "duration": 4236,
    "start_time": "2022-03-04T16:58:22.660Z"
   },
   {
    "duration": 4478,
    "start_time": "2022-03-04T16:58:42.842Z"
   },
   {
    "duration": 549,
    "start_time": "2022-03-08T22:28:07.048Z"
   },
   {
    "duration": 5,
    "start_time": "2022-03-08T22:28:07.599Z"
   },
   {
    "duration": 3,
    "start_time": "2022-03-08T22:28:07.625Z"
   },
   {
    "duration": 4502,
    "start_time": "2022-03-08T22:28:07.947Z"
   },
   {
    "duration": 4844,
    "start_time": "2022-03-08T22:28:12.450Z"
   },
   {
    "duration": 571,
    "start_time": "2022-03-09T16:53:43.145Z"
   },
   {
    "duration": 6,
    "start_time": "2022-03-09T16:53:43.718Z"
   },
   {
    "duration": 3,
    "start_time": "2022-03-09T16:53:43.869Z"
   },
   {
    "duration": 4157,
    "start_time": "2022-03-09T16:53:44.239Z"
   },
   {
    "duration": 4283,
    "start_time": "2022-03-09T16:53:48.397Z"
   },
   {
    "duration": 619,
    "start_time": "2022-03-10T04:19:25.441Z"
   },
   {
    "duration": 7,
    "start_time": "2022-03-10T04:19:26.061Z"
   },
   {
    "duration": 3,
    "start_time": "2022-03-10T04:19:26.070Z"
   },
   {
    "duration": 4456,
    "start_time": "2022-03-10T04:19:26.075Z"
   },
   {
    "duration": 4576,
    "start_time": "2022-03-10T04:19:30.533Z"
   },
   {
    "duration": 1088,
    "start_time": "2022-03-10T04:23:26.845Z"
   },
   {
    "duration": 111,
    "start_time": "2022-03-10T04:23:46.675Z"
   },
   {
    "duration": 1030,
    "start_time": "2022-03-10T04:24:09.486Z"
   },
   {
    "duration": 1020,
    "start_time": "2022-03-10T04:24:21.143Z"
   },
   {
    "duration": 1085,
    "start_time": "2022-03-10T04:32:51.514Z"
   },
   {
    "duration": 1149,
    "start_time": "2022-03-10T04:33:07.225Z"
   },
   {
    "duration": 109,
    "start_time": "2022-03-10T04:33:52.803Z"
   },
   {
    "duration": 506,
    "start_time": "2022-03-10T17:40:50.616Z"
   },
   {
    "duration": 882,
    "start_time": "2022-03-10T17:40:57.821Z"
   },
   {
    "duration": 10,
    "start_time": "2022-03-10T17:40:58.705Z"
   },
   {
    "duration": 16,
    "start_time": "2022-03-10T17:40:58.718Z"
   },
   {
    "duration": 6438,
    "start_time": "2022-03-10T17:40:58.736Z"
   },
   {
    "duration": 8183,
    "start_time": "2022-03-10T17:41:05.176Z"
   },
   {
    "duration": 1472,
    "start_time": "2022-03-10T17:41:13.362Z"
   },
   {
    "duration": 865,
    "start_time": "2022-03-11T05:31:39.612Z"
   },
   {
    "duration": 9,
    "start_time": "2022-03-11T05:31:40.481Z"
   },
   {
    "duration": 4,
    "start_time": "2022-03-11T05:31:40.493Z"
   },
   {
    "duration": 6346,
    "start_time": "2022-03-11T05:31:40.499Z"
   },
   {
    "duration": 8139,
    "start_time": "2022-03-11T05:31:46.848Z"
   },
   {
    "duration": 1426,
    "start_time": "2022-03-11T05:31:54.990Z"
   }
  ],
  "kernelspec": {
   "display_name": "Python 3 (ipykernel)",
   "language": "python",
   "name": "python3"
  },
  "language_info": {
   "codemirror_mode": {
    "name": "ipython",
    "version": 3
   },
   "file_extension": ".py",
   "mimetype": "text/x-python",
   "name": "python",
   "nbconvert_exporter": "python",
   "pygments_lexer": "ipython3",
   "version": "3.7.3"
  },
  "toc": {
   "base_numbering": 1,
   "nav_menu": {},
   "number_sections": true,
   "sideBar": true,
   "skip_h1_title": true,
   "title_cell": "Table of Contents",
   "title_sidebar": "Contents",
   "toc_cell": false,
   "toc_position": {},
   "toc_section_display": true,
   "toc_window_display": false
  }
 },
 "nbformat": 4,
 "nbformat_minor": 5
}
