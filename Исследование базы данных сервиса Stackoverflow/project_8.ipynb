{
 "cells": [
  {
   "cell_type": "code",
   "execution_count": 1,
   "metadata": {
    "id": "nlZBlglMDWKe"
   },
   "outputs": [],
   "source": [
    "import pandas as pd\n",
    "import matplotlib.pyplot as plt\n",
    "from sqlalchemy import create_engine "
   ]
  },
  {
   "cell_type": "markdown",
   "metadata": {
    "id": "XnOE3n28DWKg"
   },
   "source": [
    "### Конфигурация для подключения к базе данных `data-analyst-advanced-sql`\n",
    "Эта база данных содержит схему `stackoverflow`, с которой будет вестись работа в проекте"
   ]
  },
  {
   "cell_type": "code",
   "execution_count": 2,
   "metadata": {
    "id": "6p-yGp7qDWKg"
   },
   "outputs": [],
   "source": [
    "db_config = {\n",
    "    'user': 'praktikum_student',\n",
    "    'pwd': 'Sdf4$2;d-d30pp',\n",
    "    'host': 'rc1b-wcoijxj3yxfsf3fs.mdb.yandexcloud.net',\n",
    "    'port': 6432,\n",
    "    'db': 'data-analyst-advanced-sql'\n",
    "}  \n",
    "\n",
    "connection_string = 'postgresql://{}:{}@{}:{}/{}'.format(\n",
    "    db_config['user'],\n",
    "    db_config['pwd'],\n",
    "    db_config['host'],\n",
    "    db_config['port'],\n",
    "    db_config['db'],\n",
    ")"
   ]
  },
  {
   "cell_type": "markdown",
   "metadata": {
    "id": "2Rg8ZpS0DWKh"
   },
   "source": [
    "Создание подключения"
   ]
  },
  {
   "cell_type": "code",
   "execution_count": 3,
   "metadata": {
    "id": "DamCUTR6DWKi"
   },
   "outputs": [],
   "source": [
    "engine = create_engine(connection_string) "
   ]
  },
  {
   "cell_type": "markdown",
   "metadata": {
    "id": "gnBMXkDBDWKm"
   },
   "source": [
    "# Задание 1"
   ]
  },
  {
   "cell_type": "markdown",
   "metadata": {
    "id": "vHsfOrrNDWKn"
   },
   "source": [
    "Выведите общую сумму просмотров постов за каждый месяц 2008 года. Если данных за какой-либо месяц в базе нет, такой месяц можно пропустить. Результат отсортируйте по убыванию общего количества просмотров."
   ]
  },
  {
   "cell_type": "code",
   "execution_count": 4,
   "metadata": {
    "id": "eWvykcXTDWKo"
   },
   "outputs": [
    {
     "data": {
      "text/html": [
       "<div>\n",
       "<style scoped>\n",
       "    .dataframe tbody tr th:only-of-type {\n",
       "        vertical-align: middle;\n",
       "    }\n",
       "\n",
       "    .dataframe tbody tr th {\n",
       "        vertical-align: top;\n",
       "    }\n",
       "\n",
       "    .dataframe thead th {\n",
       "        text-align: right;\n",
       "    }\n",
       "</style>\n",
       "<table border=\"1\" class=\"dataframe\">\n",
       "  <thead>\n",
       "    <tr style=\"text-align: right;\">\n",
       "      <th></th>\n",
       "      <th>month</th>\n",
       "      <th>posts</th>\n",
       "    </tr>\n",
       "  </thead>\n",
       "  <tbody>\n",
       "    <tr>\n",
       "      <th>0</th>\n",
       "      <td>2008-09-01</td>\n",
       "      <td>452928568</td>\n",
       "    </tr>\n",
       "    <tr>\n",
       "      <th>1</th>\n",
       "      <td>2008-10-01</td>\n",
       "      <td>365400138</td>\n",
       "    </tr>\n",
       "    <tr>\n",
       "      <th>2</th>\n",
       "      <td>2008-11-01</td>\n",
       "      <td>221759651</td>\n",
       "    </tr>\n",
       "    <tr>\n",
       "      <th>3</th>\n",
       "      <td>2008-12-01</td>\n",
       "      <td>197792841</td>\n",
       "    </tr>\n",
       "    <tr>\n",
       "      <th>4</th>\n",
       "      <td>2008-08-01</td>\n",
       "      <td>131367083</td>\n",
       "    </tr>\n",
       "    <tr>\n",
       "      <th>5</th>\n",
       "      <td>2008-07-01</td>\n",
       "      <td>669895</td>\n",
       "    </tr>\n",
       "  </tbody>\n",
       "</table>\n",
       "</div>"
      ],
      "text/plain": [
       "        month      posts\n",
       "0  2008-09-01  452928568\n",
       "1  2008-10-01  365400138\n",
       "2  2008-11-01  221759651\n",
       "3  2008-12-01  197792841\n",
       "4  2008-08-01  131367083\n",
       "5  2008-07-01     669895"
      ]
     },
     "execution_count": 4,
     "metadata": {},
     "output_type": "execute_result"
    }
   ],
   "source": [
    "# запрос\n",
    "query = '''\n",
    "SELECT DATE_TRUNC('month', creation_date)::date AS month,\n",
    "       SUM(views_count) AS posts\n",
    "FROM stackoverflow.posts\n",
    "WHERE creation_date::date BETWEEN '2008-01-01' AND '2008-12-31'\n",
    "GROUP BY CAST(DATE_TRUNC('month', creation_date) AS date)\n",
    "ORDER BY posts DESC;\n",
    "'''\n",
    "\n",
    "df = pd.read_sql_query(query, con=engine) # выполнение запроса\n",
    "df"
   ]
  },
  {
   "cell_type": "markdown",
   "metadata": {
    "id": "I_ZvhOxkDWKp"
   },
   "source": [
    "Проанализируйте итоговую таблицу. Отличаются ли данные за разные месяцы? С чем могут быть связаны отличия?"
   ]
  },
  {
   "cell_type": "markdown",
   "metadata": {
    "id": "luxSj17oDWKq"
   },
   "source": [
    "<div class=\"alert alert-info\">\n",
    "    <b> Ответ </b>\n",
    "\n",
    "    Значительно меньше постов в июле и августе 2008 года, чем в последующие месяцы. Летом люди в основном\n",
    "    отдыхают от учёбы/работы, а осенью начинают создавать посты с вопросами, в сентябре постов больше всего.\n",
    "    \n",
    "</div>"
   ]
  },
  {
   "cell_type": "markdown",
   "metadata": {
    "id": "FziIXkn5DWKr"
   },
   "source": [
    "# Задание 2"
   ]
  },
  {
   "cell_type": "markdown",
   "metadata": {
    "id": "fTGESZvYDWKr"
   },
   "source": [
    "Выведите имена самых активных пользователей, которые в первый месяц после регистрации (включая день регистрации) дали больше 100 ответов. Вопросы, которые задавали пользователи, не учитывайте. Для каждого имени пользователя выведите количество уникальных значений `user_id`. Отсортируйте результат по полю с именами в лексикографическом порядке."
   ]
  },
  {
   "cell_type": "code",
   "execution_count": 5,
   "metadata": {
    "id": "fIO-y-YjDWKt"
   },
   "outputs": [
    {
     "data": {
      "text/html": [
       "<div>\n",
       "<style scoped>\n",
       "    .dataframe tbody tr th:only-of-type {\n",
       "        vertical-align: middle;\n",
       "    }\n",
       "\n",
       "    .dataframe tbody tr th {\n",
       "        vertical-align: top;\n",
       "    }\n",
       "\n",
       "    .dataframe thead th {\n",
       "        text-align: right;\n",
       "    }\n",
       "</style>\n",
       "<table border=\"1\" class=\"dataframe\">\n",
       "  <thead>\n",
       "    <tr style=\"text-align: right;\">\n",
       "      <th></th>\n",
       "      <th>display_name</th>\n",
       "      <th>count</th>\n",
       "    </tr>\n",
       "  </thead>\n",
       "  <tbody>\n",
       "    <tr>\n",
       "      <th>0</th>\n",
       "      <td>1800 INFORMATION</td>\n",
       "      <td>1</td>\n",
       "    </tr>\n",
       "    <tr>\n",
       "      <th>1</th>\n",
       "      <td>Adam Bellaire</td>\n",
       "      <td>1</td>\n",
       "    </tr>\n",
       "    <tr>\n",
       "      <th>2</th>\n",
       "      <td>Adam Davis</td>\n",
       "      <td>1</td>\n",
       "    </tr>\n",
       "    <tr>\n",
       "      <th>3</th>\n",
       "      <td>Adam Liss</td>\n",
       "      <td>1</td>\n",
       "    </tr>\n",
       "    <tr>\n",
       "      <th>4</th>\n",
       "      <td>Alan</td>\n",
       "      <td>8</td>\n",
       "    </tr>\n",
       "    <tr>\n",
       "      <th>5</th>\n",
       "      <td>Amy B</td>\n",
       "      <td>1</td>\n",
       "    </tr>\n",
       "    <tr>\n",
       "      <th>6</th>\n",
       "      <td>Ben Hoffstein</td>\n",
       "      <td>1</td>\n",
       "    </tr>\n",
       "    <tr>\n",
       "      <th>7</th>\n",
       "      <td>Brian</td>\n",
       "      <td>15</td>\n",
       "    </tr>\n",
       "    <tr>\n",
       "      <th>8</th>\n",
       "      <td>Cade Roux</td>\n",
       "      <td>1</td>\n",
       "    </tr>\n",
       "    <tr>\n",
       "      <th>9</th>\n",
       "      <td>CesarB</td>\n",
       "      <td>1</td>\n",
       "    </tr>\n",
       "    <tr>\n",
       "      <th>10</th>\n",
       "      <td>Chris</td>\n",
       "      <td>29</td>\n",
       "    </tr>\n",
       "    <tr>\n",
       "      <th>11</th>\n",
       "      <td>ConcernedOfTunbridgeWells</td>\n",
       "      <td>1</td>\n",
       "    </tr>\n",
       "    <tr>\n",
       "      <th>12</th>\n",
       "      <td>Craig</td>\n",
       "      <td>10</td>\n",
       "    </tr>\n",
       "    <tr>\n",
       "      <th>13</th>\n",
       "      <td>Dale Ragan</td>\n",
       "      <td>1</td>\n",
       "    </tr>\n",
       "    <tr>\n",
       "      <th>14</th>\n",
       "      <td>Dan</td>\n",
       "      <td>21</td>\n",
       "    </tr>\n",
       "    <tr>\n",
       "      <th>15</th>\n",
       "      <td>Eric Z Beard</td>\n",
       "      <td>1</td>\n",
       "    </tr>\n",
       "    <tr>\n",
       "      <th>16</th>\n",
       "      <td>Espo</td>\n",
       "      <td>1</td>\n",
       "    </tr>\n",
       "    <tr>\n",
       "      <th>17</th>\n",
       "      <td>FlySwat</td>\n",
       "      <td>1</td>\n",
       "    </tr>\n",
       "    <tr>\n",
       "      <th>18</th>\n",
       "      <td>Franci Penov</td>\n",
       "      <td>1</td>\n",
       "    </tr>\n",
       "    <tr>\n",
       "      <th>19</th>\n",
       "      <td>GEOCHET</td>\n",
       "      <td>1</td>\n",
       "    </tr>\n",
       "  </tbody>\n",
       "</table>\n",
       "</div>"
      ],
      "text/plain": [
       "                 display_name  count\n",
       "0            1800 INFORMATION      1\n",
       "1               Adam Bellaire      1\n",
       "2                  Adam Davis      1\n",
       "3                   Adam Liss      1\n",
       "4                        Alan      8\n",
       "5                       Amy B      1\n",
       "6               Ben Hoffstein      1\n",
       "7                       Brian     15\n",
       "8                   Cade Roux      1\n",
       "9                      CesarB      1\n",
       "10                      Chris     29\n",
       "11  ConcernedOfTunbridgeWells      1\n",
       "12                      Craig     10\n",
       "13                 Dale Ragan      1\n",
       "14                        Dan     21\n",
       "15               Eric Z Beard      1\n",
       "16                       Espo      1\n",
       "17                    FlySwat      1\n",
       "18               Franci Penov      1\n",
       "19                    GEOCHET      1"
      ]
     },
     "execution_count": 5,
     "metadata": {},
     "output_type": "execute_result"
    }
   ],
   "source": [
    "query = '''\n",
    "SELECT u.display_name,\n",
    "       COUNT(DISTINCT u.id)\n",
    "FROM stackoverflow.posts p\n",
    "JOIN stackoverflow.post_types pt ON pt.id = p.post_type_id\n",
    "JOIN stackoverflow.users u ON u.id = p.user_id\n",
    "WHERE pt.type = 'Answer' AND p.creation_date <= (u.creation_date + INTERVAL '1 month')\n",
    "GROUP BY u.display_name\n",
    "HAVING COUNT(pt.type) > 100\n",
    "ORDER BY u.display_name;\n",
    "'''\n",
    "\n",
    "df = pd.read_sql_query(query, con=engine)\n",
    "df.head(20)"
   ]
  },
  {
   "cell_type": "markdown",
   "metadata": {
    "id": "I3Wr82TplKpI"
   },
   "source": [
    "Какие аномалии наблюдаются в данных? О чём они говорят?"
   ]
  },
  {
   "cell_type": "markdown",
   "metadata": {
    "id": "CEIGGQ6ODWKy"
   },
   "source": [
    "<div class=\"alert alert-info\">\n",
    "    <b> Ответ </b>\n",
    "\n",
    "    Заметно, что в некоторых случаях одному имени пользователя соответствуют несколько уникальных id пользователя.\n",
    "    Взглянув на имена пользователей, становится ясно, что это обычные имена, которые задали себе разные пользователи,\n",
    "    т.е. такой никнейм достаточно легко придумать, ведь он повторяет имя человека.\n",
    "    \n",
    "</div>"
   ]
  },
  {
   "cell_type": "markdown",
   "metadata": {
    "id": "JhM2xXj5DWKu"
   },
   "source": [
    "# Задание 3"
   ]
  },
  {
   "cell_type": "markdown",
   "metadata": {
    "id": "IS6xPqyyDWKu"
   },
   "source": [
    "Выведите количество постов за 2008 год по месяцам. Отберите посты от пользователей, которые зарегистрировались в сентябре 2008 года и сделали хотя бы один пост в декабре того же года. Отсортируйте таблицу по значению месяца по убыванию."
   ]
  },
  {
   "cell_type": "code",
   "execution_count": 6,
   "metadata": {
    "id": "kVu0FB8WDWKv"
   },
   "outputs": [
    {
     "data": {
      "text/html": [
       "<div>\n",
       "<style scoped>\n",
       "    .dataframe tbody tr th:only-of-type {\n",
       "        vertical-align: middle;\n",
       "    }\n",
       "\n",
       "    .dataframe tbody tr th {\n",
       "        vertical-align: top;\n",
       "    }\n",
       "\n",
       "    .dataframe thead th {\n",
       "        text-align: right;\n",
       "    }\n",
       "</style>\n",
       "<table border=\"1\" class=\"dataframe\">\n",
       "  <thead>\n",
       "    <tr style=\"text-align: right;\">\n",
       "      <th></th>\n",
       "      <th>month</th>\n",
       "      <th>count</th>\n",
       "    </tr>\n",
       "  </thead>\n",
       "  <tbody>\n",
       "    <tr>\n",
       "      <th>0</th>\n",
       "      <td>2008-12-01</td>\n",
       "      <td>17641</td>\n",
       "    </tr>\n",
       "    <tr>\n",
       "      <th>1</th>\n",
       "      <td>2008-11-01</td>\n",
       "      <td>18294</td>\n",
       "    </tr>\n",
       "    <tr>\n",
       "      <th>2</th>\n",
       "      <td>2008-10-01</td>\n",
       "      <td>27171</td>\n",
       "    </tr>\n",
       "    <tr>\n",
       "      <th>3</th>\n",
       "      <td>2008-09-01</td>\n",
       "      <td>24870</td>\n",
       "    </tr>\n",
       "    <tr>\n",
       "      <th>4</th>\n",
       "      <td>2008-08-01</td>\n",
       "      <td>32</td>\n",
       "    </tr>\n",
       "  </tbody>\n",
       "</table>\n",
       "</div>"
      ],
      "text/plain": [
       "        month  count\n",
       "0  2008-12-01  17641\n",
       "1  2008-11-01  18294\n",
       "2  2008-10-01  27171\n",
       "3  2008-09-01  24870\n",
       "4  2008-08-01     32"
      ]
     },
     "execution_count": 6,
     "metadata": {},
     "output_type": "execute_result"
    }
   ],
   "source": [
    "query = '''\n",
    "SELECT DATE_TRUNC('month', creation_date)::date AS month,\n",
    "       COUNT(*)\n",
    "FROM stackoverflow.posts\n",
    "WHERE user_id IN\n",
    "    (SELECT DISTINCT u.id\n",
    "     FROM stackoverflow.users u\n",
    "     JOIN stackoverflow.posts p ON u.id = p.user_id\n",
    "     WHERE DATE_TRUNC('month', u.creation_date) = '2008-09-01'\n",
    "       AND DATE_TRUNC('month', p.creation_date) = '2008-12-01')\n",
    "GROUP BY month\n",
    "ORDER BY month DESC;\n",
    "'''\n",
    "\n",
    "df = pd.read_sql_query(query, con=engine)\n",
    "df"
   ]
  },
  {
   "cell_type": "markdown",
   "metadata": {
    "id": "Vnxn9DVHDWKx"
   },
   "source": [
    "Изучите данные: есть ли в них аномалии? Предположите, почему могли появиться аномальные значения."
   ]
  },
  {
   "cell_type": "markdown",
   "metadata": {
    "id": "MMVIz4yMlKpN"
   },
   "source": [
    "<div class=\"alert alert-info\">\n",
    "    <b> Ответ </b>\n",
    "\n",
    "    Имеется 32 поста, созданных в августе 2008 года, но их авторы при этом были зарегистрированы в сентябре. Возможно,\n",
    "    это ошибки в записи данных о регистрации. Могу также предположить, что эти пользователи могли делать посты\n",
    "    без регистрации. \n",
    "    \n",
    "</div>"
   ]
  },
  {
   "cell_type": "markdown",
   "metadata": {
    "id": "5Pcizm0DDWKz"
   },
   "source": [
    "# Задание 4"
   ]
  },
  {
   "cell_type": "markdown",
   "metadata": {
    "id": "KUZPF6vHDWKz"
   },
   "source": [
    "Используя данные о постах, выведите несколько полей:\n",
    "\n",
    "- идентификатор пользователя, который написал пост;\n",
    "- дата создания поста;\n",
    "- количество просмотров у текущего поста;\n",
    "- сумму просмотров постов автора с накоплением.\n",
    "\n",
    "Данные в таблице должны быть отсортированы по возрастанию идентификаторов пользователей, а данные об одном и том же пользователе — по возрастанию даты создания поста."
   ]
  },
  {
   "cell_type": "code",
   "execution_count": 7,
   "metadata": {
    "id": "hDoJhMzfDWK0"
   },
   "outputs": [
    {
     "data": {
      "text/html": [
       "<div>\n",
       "<style scoped>\n",
       "    .dataframe tbody tr th:only-of-type {\n",
       "        vertical-align: middle;\n",
       "    }\n",
       "\n",
       "    .dataframe tbody tr th {\n",
       "        vertical-align: top;\n",
       "    }\n",
       "\n",
       "    .dataframe thead th {\n",
       "        text-align: right;\n",
       "    }\n",
       "</style>\n",
       "<table border=\"1\" class=\"dataframe\">\n",
       "  <thead>\n",
       "    <tr style=\"text-align: right;\">\n",
       "      <th></th>\n",
       "      <th>user_id</th>\n",
       "      <th>creation_date</th>\n",
       "      <th>views_count</th>\n",
       "      <th>cumulative_count</th>\n",
       "    </tr>\n",
       "  </thead>\n",
       "  <tbody>\n",
       "    <tr>\n",
       "      <th>0</th>\n",
       "      <td>1</td>\n",
       "      <td>2008-07-31 23:41:00</td>\n",
       "      <td>480476</td>\n",
       "      <td>480476</td>\n",
       "    </tr>\n",
       "    <tr>\n",
       "      <th>1</th>\n",
       "      <td>1</td>\n",
       "      <td>2008-07-31 23:55:38</td>\n",
       "      <td>136033</td>\n",
       "      <td>616509</td>\n",
       "    </tr>\n",
       "    <tr>\n",
       "      <th>2</th>\n",
       "      <td>1</td>\n",
       "      <td>2008-07-31 23:56:41</td>\n",
       "      <td>0</td>\n",
       "      <td>616509</td>\n",
       "    </tr>\n",
       "    <tr>\n",
       "      <th>3</th>\n",
       "      <td>1</td>\n",
       "      <td>2008-08-04 02:45:08</td>\n",
       "      <td>0</td>\n",
       "      <td>616509</td>\n",
       "    </tr>\n",
       "    <tr>\n",
       "      <th>4</th>\n",
       "      <td>1</td>\n",
       "      <td>2008-08-04 04:31:03</td>\n",
       "      <td>0</td>\n",
       "      <td>616509</td>\n",
       "    </tr>\n",
       "    <tr>\n",
       "      <th>...</th>\n",
       "      <td>...</td>\n",
       "      <td>...</td>\n",
       "      <td>...</td>\n",
       "      <td>...</td>\n",
       "    </tr>\n",
       "    <tr>\n",
       "      <th>243791</th>\n",
       "      <td>5696608</td>\n",
       "      <td>2008-12-23 16:00:37</td>\n",
       "      <td>0</td>\n",
       "      <td>2804</td>\n",
       "    </tr>\n",
       "    <tr>\n",
       "      <th>243792</th>\n",
       "      <td>5696608</td>\n",
       "      <td>2008-12-23 17:35:09</td>\n",
       "      <td>0</td>\n",
       "      <td>2804</td>\n",
       "    </tr>\n",
       "    <tr>\n",
       "      <th>243793</th>\n",
       "      <td>5696608</td>\n",
       "      <td>2008-12-24 01:02:48</td>\n",
       "      <td>0</td>\n",
       "      <td>2804</td>\n",
       "    </tr>\n",
       "    <tr>\n",
       "      <th>243794</th>\n",
       "      <td>5696608</td>\n",
       "      <td>2008-12-30 14:34:45</td>\n",
       "      <td>0</td>\n",
       "      <td>2804</td>\n",
       "    </tr>\n",
       "    <tr>\n",
       "      <th>243795</th>\n",
       "      <td>5696608</td>\n",
       "      <td>2008-12-30 16:32:12</td>\n",
       "      <td>0</td>\n",
       "      <td>2804</td>\n",
       "    </tr>\n",
       "  </tbody>\n",
       "</table>\n",
       "<p>243796 rows × 4 columns</p>\n",
       "</div>"
      ],
      "text/plain": [
       "        user_id       creation_date  views_count  cumulative_count\n",
       "0             1 2008-07-31 23:41:00       480476            480476\n",
       "1             1 2008-07-31 23:55:38       136033            616509\n",
       "2             1 2008-07-31 23:56:41            0            616509\n",
       "3             1 2008-08-04 02:45:08            0            616509\n",
       "4             1 2008-08-04 04:31:03            0            616509\n",
       "...         ...                 ...          ...               ...\n",
       "243791  5696608 2008-12-23 16:00:37            0              2804\n",
       "243792  5696608 2008-12-23 17:35:09            0              2804\n",
       "243793  5696608 2008-12-24 01:02:48            0              2804\n",
       "243794  5696608 2008-12-30 14:34:45            0              2804\n",
       "243795  5696608 2008-12-30 16:32:12            0              2804\n",
       "\n",
       "[243796 rows x 4 columns]"
      ]
     },
     "execution_count": 7,
     "metadata": {},
     "output_type": "execute_result"
    }
   ],
   "source": [
    "query = '''\n",
    "SELECT user_id,\n",
    "       creation_date,\n",
    "       views_count,\n",
    "       SUM(views_count) OVER (PARTITION BY user_id ORDER BY creation_date) AS cumulative_count\n",
    "FROM stackoverflow.posts\n",
    "ORDER BY user_id, creation_date ASC;\n",
    "'''\n",
    "\n",
    "df = pd.read_sql_query(query, con=engine)\n",
    "df"
   ]
  },
  {
   "cell_type": "markdown",
   "metadata": {
    "id": "N0kHRHvIDWK2"
   },
   "source": [
    "# Задание 5"
   ]
  },
  {
   "cell_type": "markdown",
   "metadata": {
    "id": "gBgvmPtODWK2"
   },
   "source": [
    "Найдите среднее количество постов пользователей в день за август 2008 года. Отберите данные о пользователях, которые опубликовали больше 120 постов за август. Дни без публикаций не учитывайте. \n",
    "\n",
    "Отсортируйте результат по возрастанию среднего количества постов. Значения можно не округлять."
   ]
  },
  {
   "cell_type": "code",
   "execution_count": 8,
   "metadata": {
    "id": "YFyPNz5GDWK3"
   },
   "outputs": [
    {
     "data": {
      "text/html": [
       "<div>\n",
       "<style scoped>\n",
       "    .dataframe tbody tr th:only-of-type {\n",
       "        vertical-align: middle;\n",
       "    }\n",
       "\n",
       "    .dataframe tbody tr th {\n",
       "        vertical-align: top;\n",
       "    }\n",
       "\n",
       "    .dataframe thead th {\n",
       "        text-align: right;\n",
       "    }\n",
       "</style>\n",
       "<table border=\"1\" class=\"dataframe\">\n",
       "  <thead>\n",
       "    <tr style=\"text-align: right;\">\n",
       "      <th></th>\n",
       "      <th>user_id</th>\n",
       "      <th>avg_daily</th>\n",
       "    </tr>\n",
       "  </thead>\n",
       "  <tbody>\n",
       "    <tr>\n",
       "      <th>0</th>\n",
       "      <td>116</td>\n",
       "      <td>4.777778</td>\n",
       "    </tr>\n",
       "    <tr>\n",
       "      <th>1</th>\n",
       "      <td>234</td>\n",
       "      <td>5.208333</td>\n",
       "    </tr>\n",
       "    <tr>\n",
       "      <th>2</th>\n",
       "      <td>91</td>\n",
       "      <td>5.681818</td>\n",
       "    </tr>\n",
       "    <tr>\n",
       "      <th>3</th>\n",
       "      <td>905</td>\n",
       "      <td>7.000000</td>\n",
       "    </tr>\n",
       "    <tr>\n",
       "      <th>4</th>\n",
       "      <td>383</td>\n",
       "      <td>7.277778</td>\n",
       "    </tr>\n",
       "  </tbody>\n",
       "</table>\n",
       "</div>"
      ],
      "text/plain": [
       "   user_id  avg_daily\n",
       "0      116   4.777778\n",
       "1      234   5.208333\n",
       "2       91   5.681818\n",
       "3      905   7.000000\n",
       "4      383   7.277778"
      ]
     },
     "execution_count": 8,
     "metadata": {},
     "output_type": "execute_result"
    }
   ],
   "source": [
    "query = '''\n",
    "WITH users AS\n",
    "    (SELECT user_id,\n",
    "            DATE_TRUNC('day', creation_date)::date AS day,\n",
    "            COUNT(id) AS count_posts\n",
    "     FROM stackoverflow.posts\n",
    "     WHERE user_id IN\n",
    "         (SELECT user_id       \n",
    "          FROM stackoverflow.posts\n",
    "          WHERE DATE_TRUNC('month', creation_date)::date  = '2008-08-01'\n",
    "          GROUP BY 1\n",
    "          HAVING COUNT(id) > 120) AND DATE_TRUNC ('month', creation_date)::date = '2008-08-01'\n",
    "    GROUP BY 1,\n",
    "             2\n",
    "    ORDER BY day DESC)\n",
    "SELECT user_id,\n",
    "       AVG(count_posts) AS avg_daily\n",
    "FROM users\n",
    "GROUP BY user_id\n",
    "ORDER BY avg_daily;\n",
    "'''\n",
    "\n",
    "df = pd.read_sql_query(query, con=engine)\n",
    "df"
   ]
  },
  {
   "cell_type": "markdown",
   "metadata": {
    "id": "EQ0dcFH4DWK5"
   },
   "source": [
    "# Задание 6"
   ]
  },
  {
   "cell_type": "markdown",
   "metadata": {
    "id": "c7flfg_hDWK5"
   },
   "source": [
    "Сколько в среднем дней в период с 1 по 7 декабря 2008 года пользователи взаимодействовали с платформой? Для каждого пользователя отберите дни, в которые он или она опубликовали хотя бы один пост. Нужно получить одно целое число — не забудьте округлить результат. "
   ]
  },
  {
   "cell_type": "code",
   "execution_count": 9,
   "metadata": {
    "id": "kZ7LXTr6DWK6"
   },
   "outputs": [
    {
     "data": {
      "text/html": [
       "<div>\n",
       "<style scoped>\n",
       "    .dataframe tbody tr th:only-of-type {\n",
       "        vertical-align: middle;\n",
       "    }\n",
       "\n",
       "    .dataframe tbody tr th {\n",
       "        vertical-align: top;\n",
       "    }\n",
       "\n",
       "    .dataframe thead th {\n",
       "        text-align: right;\n",
       "    }\n",
       "</style>\n",
       "<table border=\"1\" class=\"dataframe\">\n",
       "  <thead>\n",
       "    <tr style=\"text-align: right;\">\n",
       "      <th></th>\n",
       "      <th>result</th>\n",
       "    </tr>\n",
       "  </thead>\n",
       "  <tbody>\n",
       "    <tr>\n",
       "      <th>0</th>\n",
       "      <td>2.0</td>\n",
       "    </tr>\n",
       "  </tbody>\n",
       "</table>\n",
       "</div>"
      ],
      "text/plain": [
       "   result\n",
       "0     2.0"
      ]
     },
     "execution_count": 9,
     "metadata": {},
     "output_type": "execute_result"
    }
   ],
   "source": [
    "query = '''\n",
    "WITH tab AS \n",
    "(SELECT DISTINCT user_id,\n",
    "        COUNT (DISTINCT p.creation_date :: date) AS active_days\n",
    "FROM stackoverflow.users u\n",
    "JOIN stackoverflow.posts p ON u.id = p.user_id\n",
    "WHERE p.creation_date::date BETWEEN '2008-12-01' AND '2008-12-07'\n",
    "GROUP BY p.user_id)\n",
    "SELECT ROUND(AVG(tab.active_days)) AS result\n",
    "FROM tab;\n",
    "'''\n",
    "\n",
    "df = pd.read_sql_query(query, con=engine)\n",
    "df"
   ]
  },
  {
   "cell_type": "markdown",
   "metadata": {
    "id": "UJFtNNggDWK7"
   },
   "source": [
    "Проанализируйте итоговую таблицу — какие выводы можно сделать?"
   ]
  },
  {
   "cell_type": "markdown",
   "metadata": {
    "id": "LfUuYz-1DWK8"
   },
   "source": [
    "<div class=\"alert alert-info\">\n",
    "    <b> Ответ </b>\n",
    "\n",
    "    В среднем в период с 1 по 7 декабря 2008 года каждый пользователь имел два активных дня.\n",
    "     \n",
    "</div>"
   ]
  },
  {
   "cell_type": "markdown",
   "metadata": {
    "id": "wfOmqmfLDWK8"
   },
   "source": [
    "# Задание 7"
   ]
  },
  {
   "cell_type": "markdown",
   "metadata": {
    "id": "X4ARQimADWK9"
   },
   "source": [
    "Выведите историю активности каждого пользователя в таком виде: идентификатор пользователя, дата публикации поста. Отсортируйте вывод по возрастанию идентификаторов пользователей, а для каждого пользователя — по возрастанию даты публикации.\n",
    "\n",
    "Добавьте в таблицу новое поле: для каждого поста в нём будет указано название месяца предпоследней публикации пользователя относительно текущей. Если такой публикации нет, укажите `NULL`.  Python автоматически поменяет `NULL` на `None`, но дополнительно преобразовывать значения `None` вам не нужно.\n",
    "\n",
    "Посмотрите внимательно на образец таблицы: для первых двух постов предпоследней публикации нет, но, начиная с третьего поста, в новое поле входит нужный месяц. Для следующего пользователя в первые две записи поля `second_last_month` тоже войдёт `NULL`."
   ]
  },
  {
   "cell_type": "code",
   "execution_count": 10,
   "metadata": {
    "id": "HzI1vhaMDWK-"
   },
   "outputs": [
    {
     "data": {
      "text/html": [
       "<div>\n",
       "<style scoped>\n",
       "    .dataframe tbody tr th:only-of-type {\n",
       "        vertical-align: middle;\n",
       "    }\n",
       "\n",
       "    .dataframe tbody tr th {\n",
       "        vertical-align: top;\n",
       "    }\n",
       "\n",
       "    .dataframe thead th {\n",
       "        text-align: right;\n",
       "    }\n",
       "</style>\n",
       "<table border=\"1\" class=\"dataframe\">\n",
       "  <thead>\n",
       "    <tr style=\"text-align: right;\">\n",
       "      <th></th>\n",
       "      <th>user_id</th>\n",
       "      <th>creation_date</th>\n",
       "      <th>prelast_month</th>\n",
       "    </tr>\n",
       "  </thead>\n",
       "  <tbody>\n",
       "    <tr>\n",
       "      <th>0</th>\n",
       "      <td>1</td>\n",
       "      <td>2008-07-31 23:41:00</td>\n",
       "      <td>None</td>\n",
       "    </tr>\n",
       "    <tr>\n",
       "      <th>1</th>\n",
       "      <td>1</td>\n",
       "      <td>2008-07-31 23:55:38</td>\n",
       "      <td>None</td>\n",
       "    </tr>\n",
       "    <tr>\n",
       "      <th>2</th>\n",
       "      <td>1</td>\n",
       "      <td>2008-07-31 23:56:41</td>\n",
       "      <td>July</td>\n",
       "    </tr>\n",
       "    <tr>\n",
       "      <th>3</th>\n",
       "      <td>1</td>\n",
       "      <td>2008-08-04 02:45:08</td>\n",
       "      <td>July</td>\n",
       "    </tr>\n",
       "    <tr>\n",
       "      <th>4</th>\n",
       "      <td>1</td>\n",
       "      <td>2008-08-04 04:31:03</td>\n",
       "      <td>July</td>\n",
       "    </tr>\n",
       "    <tr>\n",
       "      <th>5</th>\n",
       "      <td>1</td>\n",
       "      <td>2008-08-04 08:04:42</td>\n",
       "      <td>August</td>\n",
       "    </tr>\n",
       "    <tr>\n",
       "      <th>6</th>\n",
       "      <td>1</td>\n",
       "      <td>2008-08-10 08:28:52</td>\n",
       "      <td>August</td>\n",
       "    </tr>\n",
       "    <tr>\n",
       "      <th>7</th>\n",
       "      <td>1</td>\n",
       "      <td>2008-08-11 19:23:47</td>\n",
       "      <td>August</td>\n",
       "    </tr>\n",
       "    <tr>\n",
       "      <th>8</th>\n",
       "      <td>1</td>\n",
       "      <td>2008-08-12 00:30:43</td>\n",
       "      <td>August</td>\n",
       "    </tr>\n",
       "    <tr>\n",
       "      <th>9</th>\n",
       "      <td>1</td>\n",
       "      <td>2008-08-12 04:59:35</td>\n",
       "      <td>August</td>\n",
       "    </tr>\n",
       "  </tbody>\n",
       "</table>\n",
       "</div>"
      ],
      "text/plain": [
       "   user_id       creation_date prelast_month\n",
       "0        1 2008-07-31 23:41:00          None\n",
       "1        1 2008-07-31 23:55:38          None\n",
       "2        1 2008-07-31 23:56:41     July     \n",
       "3        1 2008-08-04 02:45:08     July     \n",
       "4        1 2008-08-04 04:31:03     July     \n",
       "5        1 2008-08-04 08:04:42     August   \n",
       "6        1 2008-08-10 08:28:52     August   \n",
       "7        1 2008-08-11 19:23:47     August   \n",
       "8        1 2008-08-12 00:30:43     August   \n",
       "9        1 2008-08-12 04:59:35     August   "
      ]
     },
     "execution_count": 10,
     "metadata": {},
     "output_type": "execute_result"
    }
   ],
   "source": [
    "query = '''\n",
    "SELECT user_id,\n",
    "       creation_date,\n",
    "       TO_CHAR(prelast_date, 'Month') as prelast_month\n",
    "FROM\n",
    "(WITH tab AS\n",
    "(SELECT user_id,\n",
    "        creation_date \n",
    "FROM stackoverflow.posts\n",
    "GROUP BY user_id, creation_date\n",
    "ORDER BY user_id, creation_date)\n",
    "SELECT user_id,\n",
    "       creation_date,\n",
    "       LAG(DATE_TRUNC('month', creation_date)::date, 2, null ) OVER (PARTITION BY user_id ORDER BY creation_date ROWS BETWEEN CURRENT ROW AND UNBOUNDED FOLLOWING) AS prelast_date\n",
    "FROM tab) AS tab_2\n",
    "'''\n",
    "\n",
    "df = pd.read_sql_query(query, con=engine)\n",
    "df.head(10)"
   ]
  },
  {
   "cell_type": "markdown",
   "metadata": {
    "id": "tf9qq2yzDWK_"
   },
   "source": [
    "# Задание 8"
   ]
  },
  {
   "cell_type": "markdown",
   "metadata": {
    "id": "gfwLVXBYDWLA"
   },
   "source": [
    "Рассчитайте аналог Retention Rate по месяцам для пользователей StackOverflow. Объедините пользователей в когорты по месяцу их первого поста. Возвращение определяйте по наличию поста в текущем месяце. "
   ]
  },
  {
   "cell_type": "code",
   "execution_count": 11,
   "metadata": {
    "id": "LUgFmwmTDWLB"
   },
   "outputs": [
    {
     "data": {
      "text/html": [
       "<div>\n",
       "<style scoped>\n",
       "    .dataframe tbody tr th:only-of-type {\n",
       "        vertical-align: middle;\n",
       "    }\n",
       "\n",
       "    .dataframe tbody tr th {\n",
       "        vertical-align: top;\n",
       "    }\n",
       "\n",
       "    .dataframe thead th {\n",
       "        text-align: right;\n",
       "    }\n",
       "</style>\n",
       "<table border=\"1\" class=\"dataframe\">\n",
       "  <thead>\n",
       "    <tr style=\"text-align: right;\">\n",
       "      <th></th>\n",
       "      <th>cohort_dt</th>\n",
       "      <th>session_date</th>\n",
       "      <th>users_cnt</th>\n",
       "      <th>cohort_users_cnt</th>\n",
       "      <th>retention_rate</th>\n",
       "    </tr>\n",
       "  </thead>\n",
       "  <tbody>\n",
       "    <tr>\n",
       "      <th>0</th>\n",
       "      <td>2008-07-01</td>\n",
       "      <td>2008-07-01</td>\n",
       "      <td>3</td>\n",
       "      <td>3</td>\n",
       "      <td>100.00</td>\n",
       "    </tr>\n",
       "    <tr>\n",
       "      <th>1</th>\n",
       "      <td>2008-07-01</td>\n",
       "      <td>2008-08-01</td>\n",
       "      <td>2</td>\n",
       "      <td>3</td>\n",
       "      <td>66.67</td>\n",
       "    </tr>\n",
       "    <tr>\n",
       "      <th>2</th>\n",
       "      <td>2008-07-01</td>\n",
       "      <td>2008-09-01</td>\n",
       "      <td>1</td>\n",
       "      <td>3</td>\n",
       "      <td>33.33</td>\n",
       "    </tr>\n",
       "    <tr>\n",
       "      <th>3</th>\n",
       "      <td>2008-07-01</td>\n",
       "      <td>2008-10-01</td>\n",
       "      <td>2</td>\n",
       "      <td>3</td>\n",
       "      <td>66.67</td>\n",
       "    </tr>\n",
       "    <tr>\n",
       "      <th>4</th>\n",
       "      <td>2008-07-01</td>\n",
       "      <td>2008-11-01</td>\n",
       "      <td>1</td>\n",
       "      <td>3</td>\n",
       "      <td>33.33</td>\n",
       "    </tr>\n",
       "    <tr>\n",
       "      <th>5</th>\n",
       "      <td>2008-07-01</td>\n",
       "      <td>2008-12-01</td>\n",
       "      <td>2</td>\n",
       "      <td>3</td>\n",
       "      <td>66.67</td>\n",
       "    </tr>\n",
       "    <tr>\n",
       "      <th>6</th>\n",
       "      <td>2008-08-01</td>\n",
       "      <td>2008-08-01</td>\n",
       "      <td>2151</td>\n",
       "      <td>2151</td>\n",
       "      <td>100.00</td>\n",
       "    </tr>\n",
       "    <tr>\n",
       "      <th>7</th>\n",
       "      <td>2008-08-01</td>\n",
       "      <td>2008-09-01</td>\n",
       "      <td>1571</td>\n",
       "      <td>2151</td>\n",
       "      <td>73.04</td>\n",
       "    </tr>\n",
       "    <tr>\n",
       "      <th>8</th>\n",
       "      <td>2008-08-01</td>\n",
       "      <td>2008-10-01</td>\n",
       "      <td>1275</td>\n",
       "      <td>2151</td>\n",
       "      <td>59.27</td>\n",
       "    </tr>\n",
       "    <tr>\n",
       "      <th>9</th>\n",
       "      <td>2008-08-01</td>\n",
       "      <td>2008-11-01</td>\n",
       "      <td>1050</td>\n",
       "      <td>2151</td>\n",
       "      <td>48.81</td>\n",
       "    </tr>\n",
       "    <tr>\n",
       "      <th>10</th>\n",
       "      <td>2008-08-01</td>\n",
       "      <td>2008-12-01</td>\n",
       "      <td>894</td>\n",
       "      <td>2151</td>\n",
       "      <td>41.56</td>\n",
       "    </tr>\n",
       "    <tr>\n",
       "      <th>11</th>\n",
       "      <td>2008-09-01</td>\n",
       "      <td>2008-09-01</td>\n",
       "      <td>7678</td>\n",
       "      <td>7678</td>\n",
       "      <td>100.00</td>\n",
       "    </tr>\n",
       "    <tr>\n",
       "      <th>12</th>\n",
       "      <td>2008-09-01</td>\n",
       "      <td>2008-10-01</td>\n",
       "      <td>4132</td>\n",
       "      <td>7678</td>\n",
       "      <td>53.82</td>\n",
       "    </tr>\n",
       "    <tr>\n",
       "      <th>13</th>\n",
       "      <td>2008-09-01</td>\n",
       "      <td>2008-11-01</td>\n",
       "      <td>2966</td>\n",
       "      <td>7678</td>\n",
       "      <td>38.63</td>\n",
       "    </tr>\n",
       "    <tr>\n",
       "      <th>14</th>\n",
       "      <td>2008-09-01</td>\n",
       "      <td>2008-12-01</td>\n",
       "      <td>2500</td>\n",
       "      <td>7678</td>\n",
       "      <td>32.56</td>\n",
       "    </tr>\n",
       "    <tr>\n",
       "      <th>15</th>\n",
       "      <td>2008-10-01</td>\n",
       "      <td>2008-10-01</td>\n",
       "      <td>3629</td>\n",
       "      <td>3629</td>\n",
       "      <td>100.00</td>\n",
       "    </tr>\n",
       "    <tr>\n",
       "      <th>16</th>\n",
       "      <td>2008-10-01</td>\n",
       "      <td>2008-11-01</td>\n",
       "      <td>1640</td>\n",
       "      <td>3629</td>\n",
       "      <td>45.19</td>\n",
       "    </tr>\n",
       "    <tr>\n",
       "      <th>17</th>\n",
       "      <td>2008-10-01</td>\n",
       "      <td>2008-12-01</td>\n",
       "      <td>1221</td>\n",
       "      <td>3629</td>\n",
       "      <td>33.65</td>\n",
       "    </tr>\n",
       "    <tr>\n",
       "      <th>18</th>\n",
       "      <td>2008-11-01</td>\n",
       "      <td>2008-11-01</td>\n",
       "      <td>2852</td>\n",
       "      <td>2852</td>\n",
       "      <td>100.00</td>\n",
       "    </tr>\n",
       "    <tr>\n",
       "      <th>19</th>\n",
       "      <td>2008-11-01</td>\n",
       "      <td>2008-12-01</td>\n",
       "      <td>1151</td>\n",
       "      <td>2852</td>\n",
       "      <td>40.36</td>\n",
       "    </tr>\n",
       "    <tr>\n",
       "      <th>20</th>\n",
       "      <td>2008-12-01</td>\n",
       "      <td>2008-12-01</td>\n",
       "      <td>2536</td>\n",
       "      <td>2536</td>\n",
       "      <td>100.00</td>\n",
       "    </tr>\n",
       "  </tbody>\n",
       "</table>\n",
       "</div>"
      ],
      "text/plain": [
       "    cohort_dt session_date  users_cnt  cohort_users_cnt  retention_rate\n",
       "0  2008-07-01   2008-07-01          3                 3          100.00\n",
       "1  2008-07-01   2008-08-01          2                 3           66.67\n",
       "2  2008-07-01   2008-09-01          1                 3           33.33\n",
       "3  2008-07-01   2008-10-01          2                 3           66.67\n",
       "4  2008-07-01   2008-11-01          1                 3           33.33\n",
       "5  2008-07-01   2008-12-01          2                 3           66.67\n",
       "6  2008-08-01   2008-08-01       2151              2151          100.00\n",
       "7  2008-08-01   2008-09-01       1571              2151           73.04\n",
       "8  2008-08-01   2008-10-01       1275              2151           59.27\n",
       "9  2008-08-01   2008-11-01       1050              2151           48.81\n",
       "10 2008-08-01   2008-12-01        894              2151           41.56\n",
       "11 2008-09-01   2008-09-01       7678              7678          100.00\n",
       "12 2008-09-01   2008-10-01       4132              7678           53.82\n",
       "13 2008-09-01   2008-11-01       2966              7678           38.63\n",
       "14 2008-09-01   2008-12-01       2500              7678           32.56\n",
       "15 2008-10-01   2008-10-01       3629              3629          100.00\n",
       "16 2008-10-01   2008-11-01       1640              3629           45.19\n",
       "17 2008-10-01   2008-12-01       1221              3629           33.65\n",
       "18 2008-11-01   2008-11-01       2852              2852          100.00\n",
       "19 2008-11-01   2008-12-01       1151              2852           40.36\n",
       "20 2008-12-01   2008-12-01       2536              2536          100.00"
      ]
     },
     "execution_count": 11,
     "metadata": {},
     "output_type": "execute_result"
    }
   ],
   "source": [
    "query = '''\n",
    "WITH profile AS\n",
    "  (SELECT id AS user_id,\n",
    "          DATE_TRUNC('month', T.start_dt) AS dt,\n",
    "          COUNT(*) OVER (PARTITION BY DATE_TRUNC('month', T.start_dt)) AS cohort_users_cnt\n",
    "   FROM\n",
    "     (SELECT u1.id,\n",
    "             DATE_TRUNC('month', p1.creation_date) AS creation_date,\n",
    "             MIN(p1.creation_date) OVER (PARTITION BY u1.id\n",
    "                                         ORDER BY p1.creation_date) AS start_dt\n",
    "      FROM stackoverflow.users u1\n",
    "      JOIN stackoverflow.posts p1 ON u1.id = p1.user_id) T\n",
    "   GROUP BY id,\n",
    "            dt),\n",
    "sessions AS\n",
    "  (SELECT user_id,\n",
    "          DATE_TRUNC('month', creation_date) AS session_date\n",
    "   FROM stackoverflow.posts\n",
    "   GROUP BY user_id,\n",
    "            session_date)\n",
    "SELECT p.dt AS cohort_dt,\n",
    "       s.session_date,\n",
    "       COUNT(p.user_id) AS users_cnt,\n",
    "       p.cohort_users_cnt,\n",
    "       ROUND(COUNT(p.user_id) * 100.0 / cohort_users_cnt, 2) AS retention_rate\n",
    "FROM profile p\n",
    "JOIN sessions s ON p.user_id = s.user_id\n",
    "GROUP BY 1,\n",
    "         2,\n",
    "         4;\n",
    "'''\n",
    "\n",
    "df = pd.read_sql_query(query, con=engine)\n",
    "df"
   ]
  },
  {
   "cell_type": "markdown",
   "metadata": {
    "id": "_msBtnb2DWLC"
   },
   "source": [
    "Постройте тепловую карту Retention Rate. Какие аномалии или другие необычные явления удалось выявить? Сформулируйте гипотезы о возможных причинах."
   ]
  },
  {
   "cell_type": "code",
   "execution_count": 12,
   "metadata": {
    "id": "qAEJc8H1DWLC"
   },
   "outputs": [
    {
     "data": {
      "image/png": "[encoded data removed]",
      "text/plain": [
       "<Figure size 1100x1100 with 2 Axes>"
      ]
     },
     "metadata": {},
     "output_type": "display_data"
    }
   ],
   "source": [
    "import seaborn as sns\n",
    "retention = df.pivot('cohort_dt', 'session_date', 'retention_rate')\n",
    "retention.index = [str(x)[0:10] for x in retention.index]\n",
    "retention.columns = [str(x)[0:10] for x in retention.columns]\n",
    "\n",
    "plt.figure(figsize=(11, 11))\n",
    "sns.heatmap(retention, annot=True, fmt='')\n",
    "plt.title('Тепловая карта Retention Rate')\n",
    "plt.show() "
   ]
  },
  {
   "cell_type": "markdown",
   "metadata": {
    "id": "EgOfIsI4DWLC"
   },
   "source": [
    "<div class=\"alert alert-info\">\n",
    "    <b> Ответ </b>\n",
    "\n",
    "    - В когорте августа самый большой показатель Retention Rate за первый месяц. Также высокий показатель RR за первый \n",
    "    месяц у когорт июля (67%) и сентября (54%).\n",
    "      \n",
    "    - В когорте июля RR повторяется через месяц - в нечетные по 67%, в четные по 33,33% - выглядит неестественно.\n",
    "    Такие показатели из-за того, что в этой когорте было очень мало пользователей.\n",
    "    \n",
    "    - RR падает сильнее всего в когорте сентября.\n",
    "     \n",
    "</div>"
   ]
  },
  {
   "cell_type": "markdown",
   "metadata": {
    "id": "1k7oPWt5DWLK"
   },
   "source": [
    "# Задание 9\n"
   ]
  },
  {
   "cell_type": "markdown",
   "metadata": {
    "id": "ALsYVSyRDWLM"
   },
   "source": [
    "На сколько процентов менялось количество постов ежемесячно с 1 сентября по 31 декабря 2008 года? Отобразите таблицу со следующими полями:\n",
    "\n",
    "- номер месяца;\n",
    "- количество постов за месяц;\n",
    "- процент, который показывает, насколько изменилось количество постов в текущем месяце по сравнению с предыдущим.\n",
    "\n",
    "Если постов стало меньше, значение процента должно быть отрицательным, если больше — положительным. Округлите значение процента до двух знаков после запятой.\n",
    "\n",
    "Напомним, что при делении одного целого числа на другое в PostgreSQL в результате получится целое число, округлённое до ближайшего целого вниз. Чтобы этого избежать, переведите делимое в тип `numeric`."
   ]
  },
  {
   "cell_type": "code",
   "execution_count": 13,
   "metadata": {
    "id": "Mb5pShStDWLN"
   },
   "outputs": [
    {
     "data": {
      "text/html": [
       "<div>\n",
       "<style scoped>\n",
       "    .dataframe tbody tr th:only-of-type {\n",
       "        vertical-align: middle;\n",
       "    }\n",
       "\n",
       "    .dataframe tbody tr th {\n",
       "        vertical-align: top;\n",
       "    }\n",
       "\n",
       "    .dataframe thead th {\n",
       "        text-align: right;\n",
       "    }\n",
       "</style>\n",
       "<table border=\"1\" class=\"dataframe\">\n",
       "  <thead>\n",
       "    <tr style=\"text-align: right;\">\n",
       "      <th></th>\n",
       "      <th>creation_month</th>\n",
       "      <th>posts_count</th>\n",
       "      <th>percentage</th>\n",
       "    </tr>\n",
       "  </thead>\n",
       "  <tbody>\n",
       "    <tr>\n",
       "      <th>0</th>\n",
       "      <td>9.0</td>\n",
       "      <td>70371</td>\n",
       "      <td>NaN</td>\n",
       "    </tr>\n",
       "    <tr>\n",
       "      <th>1</th>\n",
       "      <td>10.0</td>\n",
       "      <td>63102</td>\n",
       "      <td>-10.33</td>\n",
       "    </tr>\n",
       "    <tr>\n",
       "      <th>2</th>\n",
       "      <td>11.0</td>\n",
       "      <td>46975</td>\n",
       "      <td>-25.56</td>\n",
       "    </tr>\n",
       "    <tr>\n",
       "      <th>3</th>\n",
       "      <td>12.0</td>\n",
       "      <td>44592</td>\n",
       "      <td>-5.07</td>\n",
       "    </tr>\n",
       "  </tbody>\n",
       "</table>\n",
       "</div>"
      ],
      "text/plain": [
       "   creation_month  posts_count  percentage\n",
       "0             9.0        70371         NaN\n",
       "1            10.0        63102      -10.33\n",
       "2            11.0        46975      -25.56\n",
       "3            12.0        44592       -5.07"
      ]
     },
     "execution_count": 13,
     "metadata": {},
     "output_type": "execute_result"
    }
   ],
   "source": [
    "query = '''\n",
    "SELECT creation_month,\n",
    "       posts_count,\n",
    "       ROUND((posts_count - prev_month_posts_count)::numeric * 100 / prev_month_posts_count, 2) AS percentage\n",
    "FROM\n",
    "(SELECT *,\n",
    "       LAG(posts_count) OVER (ORDER BY posts_count DESC) AS prev_month_posts_count    \n",
    "FROM\n",
    "(SELECT EXTRACT(MONTH FROM creation_date) AS creation_month,\n",
    "       COUNT (id) AS posts_count\n",
    "FROM stackoverflow.posts\n",
    "WHERE creation_date::date BETWEEN '2008-09-01' AND '2008-12-31' \n",
    "GROUP BY creation_month) AS tab) AS tab_2\n",
    "'''\n",
    "\n",
    "df = pd.read_sql_query(query, con=engine)\n",
    "df"
   ]
  },
  {
   "cell_type": "markdown",
   "metadata": {
    "id": "9NQE2y_MDWLP"
   },
   "source": [
    "Постройте круговую диаграмму с количеством постов по месяцам."
   ]
  },
  {
   "cell_type": "code",
   "execution_count": 14,
   "metadata": {
    "id": "377ABjiVDWLP"
   },
   "outputs": [
    {
     "data": {
      "image/png": "[encoded data removed]"
     },
     "metadata": {},
     "output_type": "display_data"
    }
   ],
   "source": [
    "import warnings\n",
    "warnings.filterwarnings('ignore')\n",
    "\n",
    "from plotly import graph_objects as go\n",
    "fig = go.Figure(data=[go.Pie(labels=df['creation_month'], values=df['posts_count'])])\n",
    "fig.update_layout(title='Количество постов по месяцам')\n",
    "for trace in fig.data:\n",
    "    trace['labels']=['Сентябрь', 'Октябрь', 'Ноябрь', 'Декабрь']\n",
    "fig.show('png')"
   ]
  },
  {
   "cell_type": "markdown",
   "metadata": {
    "id": "uw7qMtafDWLP"
   },
   "source": [
    "# Задание 10"
   ]
  },
  {
   "cell_type": "markdown",
   "metadata": {
    "id": "oRBpWKx3DWLQ"
   },
   "source": [
    "Выгрузите данные активности пользователя, который опубликовал больше всего постов за всё время. Выведите данные за октябрь 2008 года в таком виде:\n",
    "\n",
    "- номер недели;\n",
    "- дата и время последнего поста, опубликованного на этой неделе."
   ]
  },
  {
   "cell_type": "code",
   "execution_count": 15,
   "metadata": {
    "id": "r5F5fSkwDWLQ"
   },
   "outputs": [
    {
     "data": {
      "text/html": [
       "<div>\n",
       "<style scoped>\n",
       "    .dataframe tbody tr th:only-of-type {\n",
       "        vertical-align: middle;\n",
       "    }\n",
       "\n",
       "    .dataframe tbody tr th {\n",
       "        vertical-align: top;\n",
       "    }\n",
       "\n",
       "    .dataframe thead th {\n",
       "        text-align: right;\n",
       "    }\n",
       "</style>\n",
       "<table border=\"1\" class=\"dataframe\">\n",
       "  <thead>\n",
       "    <tr style=\"text-align: right;\">\n",
       "      <th></th>\n",
       "      <th>week_creation</th>\n",
       "      <th>creation_date</th>\n",
       "    </tr>\n",
       "  </thead>\n",
       "  <tbody>\n",
       "    <tr>\n",
       "      <th>0</th>\n",
       "      <td>40</td>\n",
       "      <td>2008-10-05 09:00:58</td>\n",
       "    </tr>\n",
       "    <tr>\n",
       "      <th>1</th>\n",
       "      <td>41</td>\n",
       "      <td>2008-10-12 21:22:23</td>\n",
       "    </tr>\n",
       "    <tr>\n",
       "      <th>2</th>\n",
       "      <td>42</td>\n",
       "      <td>2008-10-19 06:49:30</td>\n",
       "    </tr>\n",
       "    <tr>\n",
       "      <th>3</th>\n",
       "      <td>43</td>\n",
       "      <td>2008-10-26 21:44:36</td>\n",
       "    </tr>\n",
       "    <tr>\n",
       "      <th>4</th>\n",
       "      <td>44</td>\n",
       "      <td>2008-10-31 22:16:01</td>\n",
       "    </tr>\n",
       "  </tbody>\n",
       "</table>\n",
       "</div>"
      ],
      "text/plain": [
       "   week_creation       creation_date\n",
       "0             40 2008-10-05 09:00:58\n",
       "1             41 2008-10-12 21:22:23\n",
       "2             42 2008-10-19 06:49:30\n",
       "3             43 2008-10-26 21:44:36\n",
       "4             44 2008-10-31 22:16:01"
      ]
     },
     "execution_count": 15,
     "metadata": {},
     "output_type": "execute_result"
    }
   ],
   "source": [
    "query = '''\n",
    "SELECT DISTINCT week_creation::int,\n",
    "       MAX(creation_date) OVER (ORDER BY week_creation) AS creation_date\n",
    "FROM       \n",
    "(SELECT EXTRACT(WEEK FROM creation_date) AS week_creation,\n",
    "        creation_date\n",
    "FROM stackoverflow.posts\n",
    "WHERE user_id IN \n",
    "(\n",
    "SELECT id AS user_id\n",
    "FROM \n",
    "(SELECT DISTINCT u.id,\n",
    "        COUNT(p.id)\n",
    "FROM stackoverflow.users u\n",
    "JOIN stackoverflow.posts p ON u.id = p.user_id\n",
    "GROUP BY u.id\n",
    "ORDER BY count DESC\n",
    "LIMIT 1) AS tab)\n",
    ") AS tab_2\n",
    "WHERE creation_date::date BETWEEN '2008-10-01' AND '2008-10-31';\n",
    "'''\n",
    "\n",
    "df = pd.read_sql_query(query, con=engine)\n",
    "df"
   ]
  }
 ],
 "metadata": {
  "ExecuteTimeLog": [
   {
    "duration": 939,
    "start_time": "2022-04-25T21:27:30.716Z"
   },
   {
    "duration": 5,
    "start_time": "2022-04-25T21:27:31.662Z"
   },
   {
    "duration": 6549,
    "start_time": "2022-04-25T21:27:31.670Z"
   },
   {
    "duration": 199,
    "start_time": "2022-04-25T21:27:38.221Z"
   },
   {
    "duration": 15,
    "start_time": "2022-04-25T21:27:38.423Z"
   },
   {
    "duration": 5,
    "start_time": "2022-04-25T21:27:38.440Z"
   },
   {
    "duration": 5,
    "start_time": "2022-04-25T21:27:38.447Z"
   },
   {
    "duration": 21,
    "start_time": "2022-04-25T21:27:38.454Z"
   },
   {
    "duration": 5,
    "start_time": "2022-04-25T21:27:38.477Z"
   },
   {
    "duration": 5,
    "start_time": "2022-04-25T21:27:38.484Z"
   },
   {
    "duration": 7,
    "start_time": "2022-04-25T21:27:38.490Z"
   },
   {
    "duration": 8,
    "start_time": "2022-04-25T21:27:38.499Z"
   },
   {
    "duration": 5,
    "start_time": "2022-04-25T21:27:38.508Z"
   },
   {
    "duration": 8,
    "start_time": "2022-04-25T21:27:38.515Z"
   },
   {
    "duration": 6,
    "start_time": "2022-04-25T21:27:38.525Z"
   },
   {
    "duration": 6,
    "start_time": "2022-04-25T21:27:38.532Z"
   },
   {
    "duration": 6,
    "start_time": "2022-04-25T21:27:38.540Z"
   },
   {
    "duration": 8,
    "start_time": "2022-04-25T21:27:38.547Z"
   },
   {
    "duration": 21,
    "start_time": "2022-04-25T21:27:38.557Z"
   },
   {
    "duration": 8,
    "start_time": "2022-04-25T21:27:38.580Z"
   },
   {
    "duration": 5,
    "start_time": "2022-04-25T21:27:38.589Z"
   },
   {
    "duration": 7,
    "start_time": "2022-04-25T21:27:38.595Z"
   },
   {
    "duration": 883,
    "start_time": "2022-04-26T05:16:36.330Z"
   },
   {
    "duration": 3,
    "start_time": "2022-04-26T05:16:37.215Z"
   },
   {
    "duration": 4460,
    "start_time": "2022-04-26T05:16:37.219Z"
   },
   {
    "duration": 208,
    "start_time": "2022-04-26T05:16:41.681Z"
   },
   {
    "duration": 15,
    "start_time": "2022-04-26T05:16:41.890Z"
   },
   {
    "duration": 4,
    "start_time": "2022-04-26T05:16:41.907Z"
   },
   {
    "duration": 5,
    "start_time": "2022-04-26T05:16:41.912Z"
   },
   {
    "duration": 4,
    "start_time": "2022-04-26T05:16:41.918Z"
   },
   {
    "duration": 6,
    "start_time": "2022-04-26T05:16:41.924Z"
   },
   {
    "duration": 5,
    "start_time": "2022-04-26T05:16:41.932Z"
   },
   {
    "duration": 13,
    "start_time": "2022-04-26T05:16:41.939Z"
   },
   {
    "duration": 6,
    "start_time": "2022-04-26T05:16:41.954Z"
   },
   {
    "duration": 4,
    "start_time": "2022-04-26T05:16:41.961Z"
   },
   {
    "duration": 4,
    "start_time": "2022-04-26T05:16:41.967Z"
   },
   {
    "duration": 4,
    "start_time": "2022-04-26T05:16:41.973Z"
   },
   {
    "duration": 4,
    "start_time": "2022-04-26T05:16:41.979Z"
   },
   {
    "duration": 5,
    "start_time": "2022-04-26T05:16:41.984Z"
   },
   {
    "duration": 5,
    "start_time": "2022-04-26T05:16:41.990Z"
   },
   {
    "duration": 4,
    "start_time": "2022-04-26T05:16:41.997Z"
   },
   {
    "duration": 4,
    "start_time": "2022-04-26T05:16:42.002Z"
   },
   {
    "duration": 3,
    "start_time": "2022-04-26T05:16:42.008Z"
   },
   {
    "duration": 10,
    "start_time": "2022-04-26T05:16:42.013Z"
   },
   {
    "duration": 2,
    "start_time": "2022-04-26T05:17:24.295Z"
   },
   {
    "duration": 198,
    "start_time": "2022-04-26T05:20:40.186Z"
   },
   {
    "duration": 133,
    "start_time": "2022-04-26T05:21:49.390Z"
   },
   {
    "duration": 144,
    "start_time": "2022-04-26T05:22:17.317Z"
   },
   {
    "duration": 747,
    "start_time": "2022-04-26T05:23:27.708Z"
   },
   {
    "duration": 658,
    "start_time": "2022-04-26T05:23:38.641Z"
   },
   {
    "duration": 8,
    "start_time": "2022-04-26T05:23:43.497Z"
   },
   {
    "duration": 95,
    "start_time": "2022-04-26T05:27:45.633Z"
   },
   {
    "duration": 6,
    "start_time": "2022-04-26T05:27:46.033Z"
   },
   {
    "duration": 105,
    "start_time": "2022-04-26T05:28:53.487Z"
   },
   {
    "duration": 5,
    "start_time": "2022-04-26T05:28:54.153Z"
   },
   {
    "duration": 168,
    "start_time": "2022-04-26T05:51:46.025Z"
   },
   {
    "duration": 9,
    "start_time": "2022-04-26T05:51:53.894Z"
   },
   {
    "duration": 159,
    "start_time": "2022-04-26T05:52:27.463Z"
   },
   {
    "duration": 9,
    "start_time": "2022-04-26T05:52:28.143Z"
   },
   {
    "duration": 7,
    "start_time": "2022-04-26T05:53:01.097Z"
   },
   {
    "duration": 147,
    "start_time": "2022-04-26T06:00:14.544Z"
   },
   {
    "duration": 6,
    "start_time": "2022-04-26T06:00:22.778Z"
   },
   {
    "duration": 94,
    "start_time": "2022-04-26T06:01:35.594Z"
   },
   {
    "duration": 6,
    "start_time": "2022-04-26T06:01:36.180Z"
   },
   {
    "duration": 149,
    "start_time": "2022-04-26T06:01:50.874Z"
   },
   {
    "duration": 6,
    "start_time": "2022-04-26T06:01:51.217Z"
   },
   {
    "duration": 3,
    "start_time": "2022-04-26T06:15:47.996Z"
   },
   {
    "duration": 4175,
    "start_time": "2022-04-26T06:15:56.209Z"
   },
   {
    "duration": 11,
    "start_time": "2022-04-26T06:16:00.936Z"
   },
   {
    "duration": 1320,
    "start_time": "2022-04-26T06:16:21.155Z"
   },
   {
    "duration": 1165,
    "start_time": "2022-04-26T06:17:37.641Z"
   },
   {
    "duration": 0,
    "start_time": "2022-04-26T06:17:38.807Z"
   },
   {
    "duration": 1158,
    "start_time": "2022-04-26T06:18:02.866Z"
   },
   {
    "duration": 11,
    "start_time": "2022-04-26T06:18:04.026Z"
   },
   {
    "duration": 11,
    "start_time": "2022-04-26T06:18:05.665Z"
   },
   {
    "duration": 12,
    "start_time": "2022-04-26T06:18:08.664Z"
   },
   {
    "duration": 15,
    "start_time": "2022-04-26T06:18:16.465Z"
   },
   {
    "duration": 12,
    "start_time": "2022-04-26T06:18:21.916Z"
   },
   {
    "duration": 9,
    "start_time": "2022-04-26T06:18:47.536Z"
   },
   {
    "duration": 11,
    "start_time": "2022-04-26T06:18:50.872Z"
   },
   {
    "duration": 9,
    "start_time": "2022-04-26T06:19:42.480Z"
   },
   {
    "duration": 2882,
    "start_time": "2022-04-26T06:20:25.414Z"
   },
   {
    "duration": 2786,
    "start_time": "2022-04-26T06:20:31.679Z"
   },
   {
    "duration": 14,
    "start_time": "2022-04-26T06:20:39.385Z"
   },
   {
    "duration": 10,
    "start_time": "2022-04-26T06:20:45.599Z"
   },
   {
    "duration": 10,
    "start_time": "2022-04-26T06:22:28.772Z"
   },
   {
    "duration": 102,
    "start_time": "2022-04-26T06:39:20.466Z"
   },
   {
    "duration": 8,
    "start_time": "2022-04-26T06:39:24.026Z"
   },
   {
    "duration": 67,
    "start_time": "2022-04-26T06:49:39.042Z"
   },
   {
    "duration": 6,
    "start_time": "2022-04-26T06:49:43.222Z"
   },
   {
    "duration": 145,
    "start_time": "2022-04-26T07:21:58.198Z"
   },
   {
    "duration": 897,
    "start_time": "2022-04-26T07:22:39.236Z"
   },
   {
    "duration": 3,
    "start_time": "2022-04-26T07:22:40.136Z"
   },
   {
    "duration": 5020,
    "start_time": "2022-04-26T07:22:40.147Z"
   },
   {
    "duration": 203,
    "start_time": "2022-04-26T07:22:45.169Z"
   },
   {
    "duration": 17,
    "start_time": "2022-04-26T07:22:45.374Z"
   },
   {
    "duration": 98,
    "start_time": "2022-04-26T07:22:45.392Z"
   },
   {
    "duration": 7,
    "start_time": "2022-04-26T07:22:45.492Z"
   },
   {
    "duration": 170,
    "start_time": "2022-04-26T07:22:45.501Z"
   },
   {
    "duration": 9,
    "start_time": "2022-04-26T07:22:45.673Z"
   },
   {
    "duration": 149,
    "start_time": "2022-04-26T07:22:45.685Z"
   },
   {
    "duration": 6,
    "start_time": "2022-04-26T07:22:45.836Z"
   },
   {
    "duration": 1156,
    "start_time": "2022-04-26T07:22:45.844Z"
   },
   {
    "duration": 12,
    "start_time": "2022-04-26T07:22:47.001Z"
   },
   {
    "duration": 1900,
    "start_time": "2022-04-26T07:22:47.014Z"
   },
   {
    "duration": 6,
    "start_time": "2022-04-26T07:22:48.916Z"
   },
   {
    "duration": 69,
    "start_time": "2022-04-26T07:22:48.924Z"
   },
   {
    "duration": 6,
    "start_time": "2022-04-26T07:22:48.994Z"
   },
   {
    "duration": 2846,
    "start_time": "2022-04-26T07:22:49.001Z"
   },
   {
    "duration": 2,
    "start_time": "2022-04-26T07:22:51.849Z"
   },
   {
    "duration": 5,
    "start_time": "2022-04-26T07:22:51.852Z"
   },
   {
    "duration": 4,
    "start_time": "2022-04-26T07:22:51.859Z"
   },
   {
    "duration": 4,
    "start_time": "2022-04-26T07:22:51.864Z"
   },
   {
    "duration": 3,
    "start_time": "2022-04-26T07:22:51.870Z"
   },
   {
    "duration": 6,
    "start_time": "2022-04-26T07:22:51.874Z"
   },
   {
    "duration": 10,
    "start_time": "2022-04-26T07:23:00.121Z"
   },
   {
    "duration": 5654,
    "start_time": "2022-04-26T07:23:16.201Z"
   },
   {
    "duration": 11,
    "start_time": "2022-04-26T07:23:21.857Z"
   },
   {
    "duration": 676,
    "start_time": "2022-04-26T07:27:48.595Z"
   },
   {
    "duration": 11,
    "start_time": "2022-04-26T07:27:51.836Z"
   },
   {
    "duration": 13,
    "start_time": "2022-04-26T07:28:20.360Z"
   },
   {
    "duration": 4316,
    "start_time": "2022-04-26T07:28:23.982Z"
   },
   {
    "duration": 8,
    "start_time": "2022-04-26T07:28:28.300Z"
   },
   {
    "duration": 3054,
    "start_time": "2022-04-26T07:28:49.071Z"
   },
   {
    "duration": 10,
    "start_time": "2022-04-26T07:28:52.127Z"
   },
   {
    "duration": 74,
    "start_time": "2022-04-26T07:29:39.396Z"
   },
   {
    "duration": 443,
    "start_time": "2022-04-26T07:29:49.909Z"
   },
   {
    "duration": 14,
    "start_time": "2022-04-26T07:29:55.061Z"
   },
   {
    "duration": 7,
    "start_time": "2022-04-26T07:32:44.435Z"
   },
   {
    "duration": 391,
    "start_time": "2022-04-26T07:33:02.827Z"
   },
   {
    "duration": 304,
    "start_time": "2022-04-26T07:33:17.865Z"
   },
   {
    "duration": 82,
    "start_time": "2022-04-26T07:33:46.426Z"
   },
   {
    "duration": 421,
    "start_time": "2022-04-26T07:33:56.649Z"
   },
   {
    "duration": 505,
    "start_time": "2022-04-26T07:34:05.595Z"
   },
   {
    "duration": 457,
    "start_time": "2022-04-26T07:34:09.601Z"
   },
   {
    "duration": 531,
    "start_time": "2022-04-26T07:34:30.499Z"
   },
   {
    "duration": 455,
    "start_time": "2022-04-26T07:34:36.481Z"
   },
   {
    "duration": 442,
    "start_time": "2022-04-26T07:34:42.560Z"
   },
   {
    "duration": 407,
    "start_time": "2022-04-26T07:36:31.328Z"
   },
   {
    "duration": 391,
    "start_time": "2022-04-26T07:36:37.544Z"
   },
   {
    "duration": 448,
    "start_time": "2022-04-26T07:38:19.367Z"
   },
   {
    "duration": 409,
    "start_time": "2022-04-26T07:38:46.936Z"
   },
   {
    "duration": 394,
    "start_time": "2022-04-26T07:38:51.762Z"
   },
   {
    "duration": 379,
    "start_time": "2022-04-26T07:38:54.798Z"
   },
   {
    "duration": 368,
    "start_time": "2022-04-26T07:39:21.760Z"
   },
   {
    "duration": 300,
    "start_time": "2022-04-26T07:39:35.472Z"
   },
   {
    "duration": 387,
    "start_time": "2022-04-26T07:39:40.918Z"
   },
   {
    "duration": 25,
    "start_time": "2022-04-26T07:42:45.142Z"
   },
   {
    "duration": 473,
    "start_time": "2022-04-26T07:42:53.323Z"
   },
   {
    "duration": 26,
    "start_time": "2022-04-26T07:43:22.939Z"
   },
   {
    "duration": 22,
    "start_time": "2022-04-26T07:43:30.767Z"
   },
   {
    "duration": 22,
    "start_time": "2022-04-26T07:43:36.228Z"
   },
   {
    "duration": 494,
    "start_time": "2022-04-26T07:43:40.429Z"
   },
   {
    "duration": 85,
    "start_time": "2022-04-26T08:41:54.924Z"
   },
   {
    "duration": 7,
    "start_time": "2022-04-26T08:41:58.894Z"
   },
   {
    "duration": 7,
    "start_time": "2022-04-26T08:42:35.959Z"
   },
   {
    "duration": 99,
    "start_time": "2022-04-26T08:44:59.621Z"
   },
   {
    "duration": 122,
    "start_time": "2022-04-26T08:45:19.286Z"
   },
   {
    "duration": 156,
    "start_time": "2022-04-26T08:45:22.726Z"
   },
   {
    "duration": 12,
    "start_time": "2022-04-26T08:48:03.414Z"
   },
   {
    "duration": 113,
    "start_time": "2022-04-26T08:48:16.651Z"
   },
   {
    "duration": 99,
    "start_time": "2022-04-26T08:48:27.700Z"
   },
   {
    "duration": 13,
    "start_time": "2022-04-26T08:48:36.723Z"
   },
   {
    "duration": 95,
    "start_time": "2022-04-26T08:49:09.266Z"
   },
   {
    "duration": 138,
    "start_time": "2022-04-26T08:51:03.683Z"
   },
   {
    "duration": 9,
    "start_time": "2022-04-26T08:51:08.137Z"
   },
   {
    "duration": 9,
    "start_time": "2022-04-26T08:51:35.394Z"
   },
   {
    "duration": 90,
    "start_time": "2022-04-26T08:51:45.385Z"
   },
   {
    "duration": 89,
    "start_time": "2022-04-26T08:51:56.778Z"
   },
   {
    "duration": 10,
    "start_time": "2022-04-26T08:52:36.113Z"
   },
   {
    "duration": 15,
    "start_time": "2022-04-26T08:56:33.574Z"
   },
   {
    "duration": 10,
    "start_time": "2022-04-26T08:56:49.861Z"
   },
   {
    "duration": 13,
    "start_time": "2022-04-26T08:56:53.647Z"
   },
   {
    "duration": 133,
    "start_time": "2022-04-26T08:56:58.214Z"
   },
   {
    "duration": 13,
    "start_time": "2022-04-26T08:57:21.429Z"
   },
   {
    "duration": 136,
    "start_time": "2022-04-26T08:57:44.567Z"
   },
   {
    "duration": 142,
    "start_time": "2022-04-26T09:03:37.402Z"
   },
   {
    "duration": 10,
    "start_time": "2022-04-26T09:05:29.034Z"
   },
   {
    "duration": 183,
    "start_time": "2022-04-26T09:53:49.757Z"
   },
   {
    "duration": 7,
    "start_time": "2022-04-26T09:53:54.801Z"
   },
   {
    "duration": 182,
    "start_time": "2022-04-26T09:54:15.785Z"
   },
   {
    "duration": 7,
    "start_time": "2022-04-26T09:54:16.488Z"
   },
   {
    "duration": 1438,
    "start_time": "2022-04-26T16:00:42.009Z"
   },
   {
    "duration": 4,
    "start_time": "2022-04-26T16:00:43.450Z"
   },
   {
    "duration": 10457,
    "start_time": "2022-04-26T16:00:43.458Z"
   },
   {
    "duration": 295,
    "start_time": "2022-04-26T16:00:53.918Z"
   },
   {
    "duration": 33,
    "start_time": "2022-04-26T16:00:54.215Z"
   },
   {
    "duration": 119,
    "start_time": "2022-04-26T16:00:54.251Z"
   },
   {
    "duration": 10,
    "start_time": "2022-04-26T16:00:54.372Z"
   },
   {
    "duration": 188,
    "start_time": "2022-04-26T16:00:54.383Z"
   },
   {
    "duration": 8,
    "start_time": "2022-04-26T16:00:54.573Z"
   },
   {
    "duration": 161,
    "start_time": "2022-04-26T16:00:54.585Z"
   },
   {
    "duration": 14,
    "start_time": "2022-04-26T16:00:54.748Z"
   },
   {
    "duration": 1673,
    "start_time": "2022-04-26T16:00:54.765Z"
   },
   {
    "duration": 23,
    "start_time": "2022-04-26T16:00:56.441Z"
   },
   {
    "duration": 117,
    "start_time": "2022-04-26T16:00:56.467Z"
   },
   {
    "duration": 9,
    "start_time": "2022-04-26T16:00:56.586Z"
   },
   {
    "duration": 78,
    "start_time": "2022-04-26T16:00:56.598Z"
   },
   {
    "duration": 7,
    "start_time": "2022-04-26T16:00:56.679Z"
   },
   {
    "duration": 2988,
    "start_time": "2022-04-26T16:00:56.689Z"
   },
   {
    "duration": 9,
    "start_time": "2022-04-26T16:00:59.679Z"
   },
   {
    "duration": 665,
    "start_time": "2022-04-26T16:00:59.689Z"
   },
   {
    "duration": 14,
    "start_time": "2022-04-26T16:01:00.357Z"
   },
   {
    "duration": 1148,
    "start_time": "2022-04-26T16:01:00.373Z"
   },
   {
    "duration": 120,
    "start_time": "2022-04-26T16:01:01.523Z"
   },
   {
    "duration": 13,
    "start_time": "2022-04-26T16:01:01.649Z"
   },
   {
    "duration": 4697,
    "start_time": "2022-04-26T16:01:01.668Z"
   },
   {
    "duration": 208,
    "start_time": "2022-04-26T16:01:06.367Z"
   },
   {
    "duration": 11,
    "start_time": "2022-04-26T16:01:06.577Z"
   },
   {
    "duration": 15,
    "start_time": "2022-04-26T16:01:24.152Z"
   },
   {
    "duration": 177,
    "start_time": "2022-04-26T16:01:37.370Z"
   },
   {
    "duration": 15,
    "start_time": "2022-04-26T16:01:38.153Z"
   },
   {
    "duration": 12,
    "start_time": "2022-04-26T16:01:49.999Z"
   },
   {
    "duration": 12,
    "start_time": "2022-04-26T16:06:03.450Z"
   },
   {
    "duration": 193,
    "start_time": "2022-04-26T16:06:08.117Z"
   },
   {
    "duration": 14,
    "start_time": "2022-04-26T16:06:09.421Z"
   },
   {
    "duration": 206,
    "start_time": "2022-04-26T16:06:16.470Z"
   },
   {
    "duration": 11,
    "start_time": "2022-04-26T16:06:17.349Z"
   },
   {
    "duration": 220,
    "start_time": "2022-04-26T16:06:35.962Z"
   },
   {
    "duration": 8,
    "start_time": "2022-04-26T16:06:36.909Z"
   },
   {
    "duration": 252,
    "start_time": "2022-04-26T16:07:33.021Z"
   },
   {
    "duration": 7,
    "start_time": "2022-04-26T16:07:34.113Z"
   },
   {
    "duration": 229,
    "start_time": "2022-04-26T16:13:28.743Z"
   },
   {
    "duration": 8,
    "start_time": "2022-04-26T16:13:29.485Z"
   },
   {
    "duration": 238,
    "start_time": "2022-04-26T16:13:34.944Z"
   },
   {
    "duration": 9,
    "start_time": "2022-04-26T16:13:35.706Z"
   },
   {
    "duration": 215,
    "start_time": "2022-04-26T16:13:40.348Z"
   },
   {
    "duration": 7,
    "start_time": "2022-04-26T16:13:41.289Z"
   },
   {
    "duration": 189,
    "start_time": "2022-04-26T16:13:54.138Z"
   },
   {
    "duration": 10,
    "start_time": "2022-04-26T16:13:55.457Z"
   },
   {
    "duration": 201,
    "start_time": "2022-04-26T16:14:02.188Z"
   },
   {
    "duration": 14,
    "start_time": "2022-04-26T16:14:03.022Z"
   },
   {
    "duration": 1942,
    "start_time": "2022-04-26T17:11:56.655Z"
   },
   {
    "duration": 9,
    "start_time": "2022-04-26T17:11:58.602Z"
   },
   {
    "duration": 11155,
    "start_time": "2022-04-26T17:11:58.613Z"
   },
   {
    "duration": 39,
    "start_time": "2022-04-26T17:12:09.771Z"
   },
   {
    "duration": 29,
    "start_time": "2022-04-26T17:12:09.815Z"
   },
   {
    "duration": 76,
    "start_time": "2022-04-26T17:12:09.847Z"
   },
   {
    "duration": 14,
    "start_time": "2022-04-26T17:12:09.926Z"
   },
   {
    "duration": 148,
    "start_time": "2022-04-26T17:12:09.942Z"
   },
   {
    "duration": 19,
    "start_time": "2022-04-26T17:12:10.093Z"
   },
   {
    "duration": 122,
    "start_time": "2022-04-26T17:12:10.115Z"
   },
   {
    "duration": 11,
    "start_time": "2022-04-26T17:12:10.240Z"
   },
   {
    "duration": 1630,
    "start_time": "2022-04-26T17:12:10.254Z"
   },
   {
    "duration": 32,
    "start_time": "2022-04-26T17:12:11.887Z"
   },
   {
    "duration": 84,
    "start_time": "2022-04-26T17:12:11.928Z"
   },
   {
    "duration": 12,
    "start_time": "2022-04-26T17:12:12.015Z"
   },
   {
    "duration": 49,
    "start_time": "2022-04-26T17:12:12.030Z"
   },
   {
    "duration": 10,
    "start_time": "2022-04-26T17:12:12.082Z"
   },
   {
    "duration": 2871,
    "start_time": "2022-04-26T17:12:12.095Z"
   },
   {
    "duration": 12,
    "start_time": "2022-04-26T17:12:14.969Z"
   },
   {
    "duration": 576,
    "start_time": "2022-04-26T17:12:14.994Z"
   },
   {
    "duration": 15,
    "start_time": "2022-04-26T17:12:15.572Z"
   },
   {
    "duration": 1209,
    "start_time": "2022-04-26T17:12:15.589Z"
   },
   {
    "duration": 59,
    "start_time": "2022-04-26T17:12:16.801Z"
   },
   {
    "duration": 10,
    "start_time": "2022-04-26T17:12:16.862Z"
   },
   {
    "duration": 248,
    "start_time": "2022-04-26T17:12:16.874Z"
   },
   {
    "duration": 143,
    "start_time": "2022-04-26T17:12:17.126Z"
   },
   {
    "duration": 11,
    "start_time": "2022-04-26T17:12:17.271Z"
   },
   {
    "duration": 154,
    "start_time": "2022-04-26T17:12:30.365Z"
   },
   {
    "duration": 11,
    "start_time": "2022-04-26T17:12:30.607Z"
   },
   {
    "duration": 1509,
    "start_time": "2022-04-26T17:19:08.582Z"
   },
   {
    "duration": 11,
    "start_time": "2022-04-26T17:19:10.096Z"
   },
   {
    "duration": 1553,
    "start_time": "2022-04-26T17:19:24.175Z"
   },
   {
    "duration": 12,
    "start_time": "2022-04-26T17:19:25.730Z"
   },
   {
    "duration": 499,
    "start_time": "2022-04-26T17:22:48.243Z"
   },
   {
    "duration": 0,
    "start_time": "2022-04-26T17:22:48.745Z"
   },
   {
    "duration": 246,
    "start_time": "2022-04-26T17:22:58.292Z"
   },
   {
    "duration": 1553,
    "start_time": "2022-04-26T17:23:25.791Z"
   },
   {
    "duration": 11,
    "start_time": "2022-04-26T17:23:27.346Z"
   },
   {
    "duration": 1692,
    "start_time": "2022-04-26T17:23:32.551Z"
   },
   {
    "duration": 12,
    "start_time": "2022-04-26T17:23:34.529Z"
   },
   {
    "duration": 211,
    "start_time": "2022-04-26T17:26:15.610Z"
   },
   {
    "duration": 16,
    "start_time": "2022-04-26T17:26:16.051Z"
   },
   {
    "duration": 37,
    "start_time": "2022-04-26T17:26:25.528Z"
   },
   {
    "duration": 8,
    "start_time": "2022-04-26T17:26:27.168Z"
   },
   {
    "duration": 38,
    "start_time": "2022-04-26T17:26:42.458Z"
   },
   {
    "duration": 9,
    "start_time": "2022-04-26T17:26:43.001Z"
   },
   {
    "duration": 39,
    "start_time": "2022-04-26T17:27:05.428Z"
   },
   {
    "duration": 9,
    "start_time": "2022-04-26T17:27:06.172Z"
   },
   {
    "duration": 955,
    "start_time": "2022-04-27T13:16:15.981Z"
   },
   {
    "duration": 4,
    "start_time": "2022-04-27T13:16:16.938Z"
   },
   {
    "duration": 7191,
    "start_time": "2022-04-27T13:16:16.943Z"
   },
   {
    "duration": 161,
    "start_time": "2022-04-27T13:16:24.136Z"
   },
   {
    "duration": 14,
    "start_time": "2022-04-27T13:16:24.299Z"
   },
   {
    "duration": 95,
    "start_time": "2022-04-27T13:16:24.315Z"
   },
   {
    "duration": 6,
    "start_time": "2022-04-27T13:16:24.412Z"
   },
   {
    "duration": 168,
    "start_time": "2022-04-27T13:16:24.420Z"
   },
   {
    "duration": 7,
    "start_time": "2022-04-27T13:16:24.590Z"
   },
   {
    "duration": 144,
    "start_time": "2022-04-27T13:16:24.600Z"
   },
   {
    "duration": 7,
    "start_time": "2022-04-27T13:16:24.745Z"
   },
   {
    "duration": 1186,
    "start_time": "2022-04-27T13:16:24.753Z"
   },
   {
    "duration": 12,
    "start_time": "2022-04-27T13:16:25.941Z"
   },
   {
    "duration": 1891,
    "start_time": "2022-04-27T13:16:25.954Z"
   },
   {
    "duration": 6,
    "start_time": "2022-04-27T13:16:27.847Z"
   },
   {
    "duration": 61,
    "start_time": "2022-04-27T13:16:27.855Z"
   },
   {
    "duration": 7,
    "start_time": "2022-04-27T13:16:27.917Z"
   },
   {
    "duration": 1218,
    "start_time": "2022-04-27T13:16:27.926Z"
   },
   {
    "duration": 8,
    "start_time": "2022-04-27T13:16:29.146Z"
   },
   {
    "duration": 1537,
    "start_time": "2022-04-27T13:16:29.155Z"
   },
   {
    "duration": 11,
    "start_time": "2022-04-27T13:16:30.693Z"
   },
   {
    "duration": 931,
    "start_time": "2022-04-27T13:16:30.705Z"
   },
   {
    "duration": 79,
    "start_time": "2022-04-27T13:16:31.637Z"
   },
   {
    "duration": 7,
    "start_time": "2022-04-27T13:16:31.718Z"
   },
   {
    "duration": 340,
    "start_time": "2022-04-27T13:16:31.727Z"
   },
   {
    "duration": 172,
    "start_time": "2022-04-27T13:16:32.069Z"
   },
   {
    "duration": 7,
    "start_time": "2022-04-27T13:16:32.243Z"
   },
   {
    "duration": 65,
    "start_time": "2022-04-27T13:17:20.070Z"
   },
   {
    "duration": 62,
    "start_time": "2022-04-27T13:17:40.142Z"
   }
  ],
  "colab": {
   "name": "AdvansedSQLProjectTemplate.ipynb",
   "provenance": []
  },
  "kernelspec": {
   "display_name": "Python 3 (ipykernel)",
   "language": "python",
   "name": "python3"
  },
  "language_info": {
   "codemirror_mode": {
    "name": "ipython",
    "version": 3
   },
   "file_extension": ".py",
   "mimetype": "text/x-python",
   "name": "python",
   "nbconvert_exporter": "python",
   "pygments_lexer": "ipython3",
   "version": "3.7.3"
  },
  "toc": {
   "base_numbering": 1,
   "nav_menu": {},
   "number_sections": false,
   "sideBar": true,
   "skip_h1_title": false,
   "title_cell": "Table of Contents",
   "title_sidebar": "Contents",
   "toc_cell": false,
   "toc_position": {},
   "toc_section_display": true,
   "toc_window_display": true
  }
 },
 "nbformat": 4,
 "nbformat_minor": 1
}
