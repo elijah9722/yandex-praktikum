{
 "cells": [
  {
   "cell_type": "markdown",
   "metadata": {},
   "source": [
    "# Определение перспективного тарифа для телеком-компании"
   ]
  },
  {
   "cell_type": "markdown",
   "metadata": {},
   "source": [
    "Вы аналитик компании «Мегалайн» — федерального оператора сотовой связи. Клиентам предлагают два тарифных плана: «Смарт» и «Ультра». Чтобы скорректировать рекламный бюджет, коммерческий департамент хочет понять, какой тариф приносит больше денег.\n",
    "Вам предстоит сделать предварительный анализ тарифов на небольшой выборке клиентов. В вашем распоряжении данные 500 пользователей «Мегалайна»: кто они, откуда, каким тарифом пользуются, сколько звонков и сообщений каждый отправил за 2018 год.\n",
    "\n",
    "**Цель:** проанализировать поведение клиентов и сделать вывод — какой тариф лучше."
   ]
  },
  {
   "cell_type": "markdown",
   "metadata": {},
   "source": [
    "## Общая информация о данных"
   ]
  },
  {
   "cell_type": "code",
   "execution_count": 1,
   "metadata": {},
   "outputs": [],
   "source": [
    "# Импорт используемых библиотек \n",
    "\n",
    "import pandas as pd \n",
    "import matplotlib.pyplot as plt\n",
    "import numpy as np\n",
    "from scipy import stats as st\n",
    "import math"
   ]
  },
  {
   "cell_type": "code",
   "execution_count": 2,
   "metadata": {},
   "outputs": [],
   "source": [
    "calls = pd.read_csv('/datasets/calls.csv')\n",
    "internet = pd.read_csv('/datasets/internet.csv')\n",
    "messages = pd.read_csv('/datasets/messages.csv')\n",
    "tariffs = pd.read_csv('/datasets/tariffs.csv')\n",
    "users = pd.read_csv('/datasets/users.csv')"
   ]
  },
  {
   "cell_type": "code",
   "execution_count": 3,
   "metadata": {},
   "outputs": [
    {
     "data": {
      "text/html": [
       "<div>\n",
       "<style scoped>\n",
       "    .dataframe tbody tr th:only-of-type {\n",
       "        vertical-align: middle;\n",
       "    }\n",
       "\n",
       "    .dataframe tbody tr th {\n",
       "        vertical-align: top;\n",
       "    }\n",
       "\n",
       "    .dataframe thead th {\n",
       "        text-align: right;\n",
       "    }\n",
       "</style>\n",
       "<table border=\"1\" class=\"dataframe\">\n",
       "  <thead>\n",
       "    <tr style=\"text-align: right;\">\n",
       "      <th></th>\n",
       "      <th>id</th>\n",
       "      <th>call_date</th>\n",
       "      <th>duration</th>\n",
       "      <th>user_id</th>\n",
       "    </tr>\n",
       "  </thead>\n",
       "  <tbody>\n",
       "    <tr>\n",
       "      <th>0</th>\n",
       "      <td>1000_0</td>\n",
       "      <td>2018-07-25</td>\n",
       "      <td>0.00</td>\n",
       "      <td>1000</td>\n",
       "    </tr>\n",
       "    <tr>\n",
       "      <th>1</th>\n",
       "      <td>1000_1</td>\n",
       "      <td>2018-08-17</td>\n",
       "      <td>0.00</td>\n",
       "      <td>1000</td>\n",
       "    </tr>\n",
       "    <tr>\n",
       "      <th>2</th>\n",
       "      <td>1000_2</td>\n",
       "      <td>2018-06-11</td>\n",
       "      <td>2.85</td>\n",
       "      <td>1000</td>\n",
       "    </tr>\n",
       "    <tr>\n",
       "      <th>3</th>\n",
       "      <td>1000_3</td>\n",
       "      <td>2018-09-21</td>\n",
       "      <td>13.80</td>\n",
       "      <td>1000</td>\n",
       "    </tr>\n",
       "    <tr>\n",
       "      <th>4</th>\n",
       "      <td>1000_4</td>\n",
       "      <td>2018-12-15</td>\n",
       "      <td>5.18</td>\n",
       "      <td>1000</td>\n",
       "    </tr>\n",
       "  </tbody>\n",
       "</table>\n",
       "</div>"
      ],
      "text/plain": [
       "       id   call_date  duration  user_id\n",
       "0  1000_0  2018-07-25      0.00     1000\n",
       "1  1000_1  2018-08-17      0.00     1000\n",
       "2  1000_2  2018-06-11      2.85     1000\n",
       "3  1000_3  2018-09-21     13.80     1000\n",
       "4  1000_4  2018-12-15      5.18     1000"
      ]
     },
     "metadata": {},
     "output_type": "display_data"
    },
    {
     "name": "stdout",
     "output_type": "stream",
     "text": [
      "<class 'pandas.core.frame.DataFrame'>\n",
      "RangeIndex: 202607 entries, 0 to 202606\n",
      "Data columns (total 4 columns):\n",
      " #   Column     Non-Null Count   Dtype  \n",
      "---  ------     --------------   -----  \n",
      " 0   id         202607 non-null  object \n",
      " 1   call_date  202607 non-null  object \n",
      " 2   duration   202607 non-null  float64\n",
      " 3   user_id    202607 non-null  int64  \n",
      "dtypes: float64(1), int64(1), object(2)\n",
      "memory usage: 6.2+ MB\n",
      "\n",
      "Явных дубликатов в датафрейме calls: 0\n"
     ]
    }
   ],
   "source": [
    "display(calls.head())\n",
    "calls.info()\n",
    "print()\n",
    "print('Явных дубликатов в датафрейме calls:', calls.duplicated().sum())"
   ]
  },
  {
   "cell_type": "markdown",
   "metadata": {},
   "source": [
    "Датафрейм calls включает в себя 4 столбца и 202607 строк. Тип данных в столбце `call_date` следует заменить на datetime."
   ]
  },
  {
   "cell_type": "code",
   "execution_count": 4,
   "metadata": {},
   "outputs": [
    {
     "data": {
      "text/html": [
       "<div>\n",
       "<style scoped>\n",
       "    .dataframe tbody tr th:only-of-type {\n",
       "        vertical-align: middle;\n",
       "    }\n",
       "\n",
       "    .dataframe tbody tr th {\n",
       "        vertical-align: top;\n",
       "    }\n",
       "\n",
       "    .dataframe thead th {\n",
       "        text-align: right;\n",
       "    }\n",
       "</style>\n",
       "<table border=\"1\" class=\"dataframe\">\n",
       "  <thead>\n",
       "    <tr style=\"text-align: right;\">\n",
       "      <th></th>\n",
       "      <th>Unnamed: 0</th>\n",
       "      <th>id</th>\n",
       "      <th>mb_used</th>\n",
       "      <th>session_date</th>\n",
       "      <th>user_id</th>\n",
       "    </tr>\n",
       "  </thead>\n",
       "  <tbody>\n",
       "    <tr>\n",
       "      <th>0</th>\n",
       "      <td>0</td>\n",
       "      <td>1000_0</td>\n",
       "      <td>112.95</td>\n",
       "      <td>2018-11-25</td>\n",
       "      <td>1000</td>\n",
       "    </tr>\n",
       "    <tr>\n",
       "      <th>1</th>\n",
       "      <td>1</td>\n",
       "      <td>1000_1</td>\n",
       "      <td>1052.81</td>\n",
       "      <td>2018-09-07</td>\n",
       "      <td>1000</td>\n",
       "    </tr>\n",
       "    <tr>\n",
       "      <th>2</th>\n",
       "      <td>2</td>\n",
       "      <td>1000_2</td>\n",
       "      <td>1197.26</td>\n",
       "      <td>2018-06-25</td>\n",
       "      <td>1000</td>\n",
       "    </tr>\n",
       "    <tr>\n",
       "      <th>3</th>\n",
       "      <td>3</td>\n",
       "      <td>1000_3</td>\n",
       "      <td>550.27</td>\n",
       "      <td>2018-08-22</td>\n",
       "      <td>1000</td>\n",
       "    </tr>\n",
       "    <tr>\n",
       "      <th>4</th>\n",
       "      <td>4</td>\n",
       "      <td>1000_4</td>\n",
       "      <td>302.56</td>\n",
       "      <td>2018-09-24</td>\n",
       "      <td>1000</td>\n",
       "    </tr>\n",
       "  </tbody>\n",
       "</table>\n",
       "</div>"
      ],
      "text/plain": [
       "   Unnamed: 0      id  mb_used session_date  user_id\n",
       "0           0  1000_0   112.95   2018-11-25     1000\n",
       "1           1  1000_1  1052.81   2018-09-07     1000\n",
       "2           2  1000_2  1197.26   2018-06-25     1000\n",
       "3           3  1000_3   550.27   2018-08-22     1000\n",
       "4           4  1000_4   302.56   2018-09-24     1000"
      ]
     },
     "metadata": {},
     "output_type": "display_data"
    },
    {
     "name": "stdout",
     "output_type": "stream",
     "text": [
      "<class 'pandas.core.frame.DataFrame'>\n",
      "RangeIndex: 149396 entries, 0 to 149395\n",
      "Data columns (total 5 columns):\n",
      " #   Column        Non-Null Count   Dtype  \n",
      "---  ------        --------------   -----  \n",
      " 0   Unnamed: 0    149396 non-null  int64  \n",
      " 1   id            149396 non-null  object \n",
      " 2   mb_used       149396 non-null  float64\n",
      " 3   session_date  149396 non-null  object \n",
      " 4   user_id       149396 non-null  int64  \n",
      "dtypes: float64(1), int64(2), object(2)\n",
      "memory usage: 5.7+ MB\n",
      "\n",
      "Явных дубликатов в датафрейме internet: 0\n"
     ]
    }
   ],
   "source": [
    "display(internet.head())\n",
    "internet.info()\n",
    "print()\n",
    "print('Явных дубликатов в датафрейме internet:', calls.duplicated().sum())"
   ]
  },
  {
   "cell_type": "markdown",
   "metadata": {},
   "source": [
    "Датафрейм internet включает в себя 5 столбцов и 149396 строк. Тип данных в столбце `session_date` следует заменить на datetime. Столбец `Unnamed: 0` дублирует номер записи, его позже можно будет удалить."
   ]
  },
  {
   "cell_type": "code",
   "execution_count": 5,
   "metadata": {},
   "outputs": [
    {
     "data": {
      "text/html": [
       "<div>\n",
       "<style scoped>\n",
       "    .dataframe tbody tr th:only-of-type {\n",
       "        vertical-align: middle;\n",
       "    }\n",
       "\n",
       "    .dataframe tbody tr th {\n",
       "        vertical-align: top;\n",
       "    }\n",
       "\n",
       "    .dataframe thead th {\n",
       "        text-align: right;\n",
       "    }\n",
       "</style>\n",
       "<table border=\"1\" class=\"dataframe\">\n",
       "  <thead>\n",
       "    <tr style=\"text-align: right;\">\n",
       "      <th></th>\n",
       "      <th>id</th>\n",
       "      <th>message_date</th>\n",
       "      <th>user_id</th>\n",
       "    </tr>\n",
       "  </thead>\n",
       "  <tbody>\n",
       "    <tr>\n",
       "      <th>0</th>\n",
       "      <td>1000_0</td>\n",
       "      <td>2018-06-27</td>\n",
       "      <td>1000</td>\n",
       "    </tr>\n",
       "    <tr>\n",
       "      <th>1</th>\n",
       "      <td>1000_1</td>\n",
       "      <td>2018-10-08</td>\n",
       "      <td>1000</td>\n",
       "    </tr>\n",
       "    <tr>\n",
       "      <th>2</th>\n",
       "      <td>1000_2</td>\n",
       "      <td>2018-08-04</td>\n",
       "      <td>1000</td>\n",
       "    </tr>\n",
       "    <tr>\n",
       "      <th>3</th>\n",
       "      <td>1000_3</td>\n",
       "      <td>2018-06-16</td>\n",
       "      <td>1000</td>\n",
       "    </tr>\n",
       "    <tr>\n",
       "      <th>4</th>\n",
       "      <td>1000_4</td>\n",
       "      <td>2018-12-05</td>\n",
       "      <td>1000</td>\n",
       "    </tr>\n",
       "  </tbody>\n",
       "</table>\n",
       "</div>"
      ],
      "text/plain": [
       "       id message_date  user_id\n",
       "0  1000_0   2018-06-27     1000\n",
       "1  1000_1   2018-10-08     1000\n",
       "2  1000_2   2018-08-04     1000\n",
       "3  1000_3   2018-06-16     1000\n",
       "4  1000_4   2018-12-05     1000"
      ]
     },
     "metadata": {},
     "output_type": "display_data"
    },
    {
     "name": "stdout",
     "output_type": "stream",
     "text": [
      "<class 'pandas.core.frame.DataFrame'>\n",
      "RangeIndex: 123036 entries, 0 to 123035\n",
      "Data columns (total 3 columns):\n",
      " #   Column        Non-Null Count   Dtype \n",
      "---  ------        --------------   ----- \n",
      " 0   id            123036 non-null  object\n",
      " 1   message_date  123036 non-null  object\n",
      " 2   user_id       123036 non-null  int64 \n",
      "dtypes: int64(1), object(2)\n",
      "memory usage: 2.8+ MB\n",
      "\n",
      "Явных дубликатов в датафрейме messages: 0\n"
     ]
    }
   ],
   "source": [
    "display(messages.head())\n",
    "messages.info()\n",
    "print()\n",
    "print('Явных дубликатов в датафрейме messages:', calls.duplicated().sum())"
   ]
  },
  {
   "cell_type": "markdown",
   "metadata": {},
   "source": [
    "Датафрейм messages включает в себя 3 столбца и 123036 строк. Тип данных в столбце `message_date` следует заменить на datetime."
   ]
  },
  {
   "cell_type": "code",
   "execution_count": 6,
   "metadata": {},
   "outputs": [
    {
     "data": {
      "text/html": [
       "<div>\n",
       "<style scoped>\n",
       "    .dataframe tbody tr th:only-of-type {\n",
       "        vertical-align: middle;\n",
       "    }\n",
       "\n",
       "    .dataframe tbody tr th {\n",
       "        vertical-align: top;\n",
       "    }\n",
       "\n",
       "    .dataframe thead th {\n",
       "        text-align: right;\n",
       "    }\n",
       "</style>\n",
       "<table border=\"1\" class=\"dataframe\">\n",
       "  <thead>\n",
       "    <tr style=\"text-align: right;\">\n",
       "      <th></th>\n",
       "      <th>messages_included</th>\n",
       "      <th>mb_per_month_included</th>\n",
       "      <th>minutes_included</th>\n",
       "      <th>rub_monthly_fee</th>\n",
       "      <th>rub_per_gb</th>\n",
       "      <th>rub_per_message</th>\n",
       "      <th>rub_per_minute</th>\n",
       "      <th>tariff_name</th>\n",
       "    </tr>\n",
       "  </thead>\n",
       "  <tbody>\n",
       "    <tr>\n",
       "      <th>0</th>\n",
       "      <td>50</td>\n",
       "      <td>15360</td>\n",
       "      <td>500</td>\n",
       "      <td>550</td>\n",
       "      <td>200</td>\n",
       "      <td>3</td>\n",
       "      <td>3</td>\n",
       "      <td>smart</td>\n",
       "    </tr>\n",
       "    <tr>\n",
       "      <th>1</th>\n",
       "      <td>1000</td>\n",
       "      <td>30720</td>\n",
       "      <td>3000</td>\n",
       "      <td>1950</td>\n",
       "      <td>150</td>\n",
       "      <td>1</td>\n",
       "      <td>1</td>\n",
       "      <td>ultra</td>\n",
       "    </tr>\n",
       "  </tbody>\n",
       "</table>\n",
       "</div>"
      ],
      "text/plain": [
       "   messages_included  mb_per_month_included  minutes_included  \\\n",
       "0                 50                  15360               500   \n",
       "1               1000                  30720              3000   \n",
       "\n",
       "   rub_monthly_fee  rub_per_gb  rub_per_message  rub_per_minute tariff_name  \n",
       "0              550         200                3               3       smart  \n",
       "1             1950         150                1               1       ultra  "
      ]
     },
     "metadata": {},
     "output_type": "display_data"
    },
    {
     "name": "stdout",
     "output_type": "stream",
     "text": [
      "<class 'pandas.core.frame.DataFrame'>\n",
      "RangeIndex: 2 entries, 0 to 1\n",
      "Data columns (total 8 columns):\n",
      " #   Column                 Non-Null Count  Dtype \n",
      "---  ------                 --------------  ----- \n",
      " 0   messages_included      2 non-null      int64 \n",
      " 1   mb_per_month_included  2 non-null      int64 \n",
      " 2   minutes_included       2 non-null      int64 \n",
      " 3   rub_monthly_fee        2 non-null      int64 \n",
      " 4   rub_per_gb             2 non-null      int64 \n",
      " 5   rub_per_message        2 non-null      int64 \n",
      " 6   rub_per_minute         2 non-null      int64 \n",
      " 7   tariff_name            2 non-null      object\n",
      "dtypes: int64(7), object(1)\n",
      "memory usage: 256.0+ bytes\n",
      "\n",
      "Явных дубликатов в датафрейме tariffs: 0\n"
     ]
    }
   ],
   "source": [
    "display(tariffs.head())\n",
    "tariffs.info()\n",
    "print()\n",
    "print('Явных дубликатов в датафрейме tariffs:', calls.duplicated().sum())"
   ]
  },
  {
   "cell_type": "markdown",
   "metadata": {},
   "source": [
    "Датафрейм tariffs включает в себя 8 столбцов и 2 строки. В нем описаны параметры тарифов ultra и smart."
   ]
  },
  {
   "cell_type": "code",
   "execution_count": 7,
   "metadata": {},
   "outputs": [
    {
     "data": {
      "text/html": [
       "<div>\n",
       "<style scoped>\n",
       "    .dataframe tbody tr th:only-of-type {\n",
       "        vertical-align: middle;\n",
       "    }\n",
       "\n",
       "    .dataframe tbody tr th {\n",
       "        vertical-align: top;\n",
       "    }\n",
       "\n",
       "    .dataframe thead th {\n",
       "        text-align: right;\n",
       "    }\n",
       "</style>\n",
       "<table border=\"1\" class=\"dataframe\">\n",
       "  <thead>\n",
       "    <tr style=\"text-align: right;\">\n",
       "      <th></th>\n",
       "      <th>user_id</th>\n",
       "      <th>age</th>\n",
       "      <th>churn_date</th>\n",
       "      <th>city</th>\n",
       "      <th>first_name</th>\n",
       "      <th>last_name</th>\n",
       "      <th>reg_date</th>\n",
       "      <th>tariff</th>\n",
       "    </tr>\n",
       "  </thead>\n",
       "  <tbody>\n",
       "    <tr>\n",
       "      <th>0</th>\n",
       "      <td>1000</td>\n",
       "      <td>52</td>\n",
       "      <td>NaN</td>\n",
       "      <td>Краснодар</td>\n",
       "      <td>Рафаил</td>\n",
       "      <td>Верещагин</td>\n",
       "      <td>2018-05-25</td>\n",
       "      <td>ultra</td>\n",
       "    </tr>\n",
       "    <tr>\n",
       "      <th>1</th>\n",
       "      <td>1001</td>\n",
       "      <td>41</td>\n",
       "      <td>NaN</td>\n",
       "      <td>Москва</td>\n",
       "      <td>Иван</td>\n",
       "      <td>Ежов</td>\n",
       "      <td>2018-11-01</td>\n",
       "      <td>smart</td>\n",
       "    </tr>\n",
       "    <tr>\n",
       "      <th>2</th>\n",
       "      <td>1002</td>\n",
       "      <td>59</td>\n",
       "      <td>NaN</td>\n",
       "      <td>Стерлитамак</td>\n",
       "      <td>Евгений</td>\n",
       "      <td>Абрамович</td>\n",
       "      <td>2018-06-17</td>\n",
       "      <td>smart</td>\n",
       "    </tr>\n",
       "    <tr>\n",
       "      <th>3</th>\n",
       "      <td>1003</td>\n",
       "      <td>23</td>\n",
       "      <td>NaN</td>\n",
       "      <td>Москва</td>\n",
       "      <td>Белла</td>\n",
       "      <td>Белякова</td>\n",
       "      <td>2018-08-17</td>\n",
       "      <td>ultra</td>\n",
       "    </tr>\n",
       "    <tr>\n",
       "      <th>4</th>\n",
       "      <td>1004</td>\n",
       "      <td>68</td>\n",
       "      <td>NaN</td>\n",
       "      <td>Новокузнецк</td>\n",
       "      <td>Татьяна</td>\n",
       "      <td>Авдеенко</td>\n",
       "      <td>2018-05-14</td>\n",
       "      <td>ultra</td>\n",
       "    </tr>\n",
       "  </tbody>\n",
       "</table>\n",
       "</div>"
      ],
      "text/plain": [
       "   user_id  age churn_date         city first_name  last_name    reg_date  \\\n",
       "0     1000   52        NaN    Краснодар     Рафаил  Верещагин  2018-05-25   \n",
       "1     1001   41        NaN       Москва       Иван       Ежов  2018-11-01   \n",
       "2     1002   59        NaN  Стерлитамак    Евгений  Абрамович  2018-06-17   \n",
       "3     1003   23        NaN       Москва      Белла   Белякова  2018-08-17   \n",
       "4     1004   68        NaN  Новокузнецк    Татьяна   Авдеенко  2018-05-14   \n",
       "\n",
       "  tariff  \n",
       "0  ultra  \n",
       "1  smart  \n",
       "2  smart  \n",
       "3  ultra  \n",
       "4  ultra  "
      ]
     },
     "metadata": {},
     "output_type": "display_data"
    },
    {
     "name": "stdout",
     "output_type": "stream",
     "text": [
      "<class 'pandas.core.frame.DataFrame'>\n",
      "RangeIndex: 500 entries, 0 to 499\n",
      "Data columns (total 8 columns):\n",
      " #   Column      Non-Null Count  Dtype \n",
      "---  ------      --------------  ----- \n",
      " 0   user_id     500 non-null    int64 \n",
      " 1   age         500 non-null    int64 \n",
      " 2   churn_date  38 non-null     object\n",
      " 3   city        500 non-null    object\n",
      " 4   first_name  500 non-null    object\n",
      " 5   last_name   500 non-null    object\n",
      " 6   reg_date    500 non-null    object\n",
      " 7   tariff      500 non-null    object\n",
      "dtypes: int64(2), object(6)\n",
      "memory usage: 31.4+ KB\n",
      "\n",
      "Явных дубликатов в датафрейме users: 0\n"
     ]
    }
   ],
   "source": [
    "display(users.head())\n",
    "users.info()\n",
    "print()\n",
    "print('Явных дубликатов в датафрейме users:', calls.duplicated().sum())"
   ]
  },
  {
   "cell_type": "markdown",
   "metadata": {},
   "source": [
    "Датафрейм users включает в себя 8 столбцов и 500 строк. Тип данных в столбцах `reg_date` и `churn_date` следует заменить на datetime. \n",
    "\n",
    "В столбце `churn_date` много пропусков. В этом столбце указана дата, когда пользователь перестал пользоваться тарифом. Пропущенные значения говорят о том, что пользователь еще не переставал пользоваться услугами, поэтому эти пропуски нам не мешают."
   ]
  },
  {
   "cell_type": "markdown",
   "metadata": {},
   "source": [
    "Ни в одной из таблиц не найдено явных дубликатов."
   ]
  },
  {
   "cell_type": "markdown",
   "metadata": {},
   "source": [
    "## Предобработка данных"
   ]
  },
  {
   "cell_type": "code",
   "execution_count": 13,
   "metadata": {},
   "outputs": [],
   "source": [
    "# Приведем столбцы с датами к типу datetime\n",
    "\n",
    "calls['call_date'] = pd.to_datetime(calls['call_date'], format ='%Y-%m-%dT%H:%M:%S')\n",
    "internet['session_date'] = pd.to_datetime(internet['session_date'], format ='%Y-%m-%dT%H:%M:%S')\n",
    "messages['message_date'] = pd.to_datetime(messages['message_date'], format ='%Y-%m-%dT%H:%M:%S')\n",
    "users['churn_date'] = pd.to_datetime(users['churn_date'], format ='%Y-%m-%dT%H:%M:%S')\n",
    "users['reg_date'] = pd.to_datetime(users['reg_date'], format ='%Y-%m-%dT%H:%M:%S')"
   ]
  },
  {
   "cell_type": "code",
   "execution_count": 14,
   "metadata": {},
   "outputs": [
    {
     "data": {
      "text/html": [
       "<div>\n",
       "<style scoped>\n",
       "    .dataframe tbody tr th:only-of-type {\n",
       "        vertical-align: middle;\n",
       "    }\n",
       "\n",
       "    .dataframe tbody tr th {\n",
       "        vertical-align: top;\n",
       "    }\n",
       "\n",
       "    .dataframe thead th {\n",
       "        text-align: right;\n",
       "    }\n",
       "</style>\n",
       "<table border=\"1\" class=\"dataframe\">\n",
       "  <thead>\n",
       "    <tr style=\"text-align: right;\">\n",
       "      <th></th>\n",
       "      <th>id</th>\n",
       "      <th>mb_used</th>\n",
       "      <th>session_date</th>\n",
       "      <th>user_id</th>\n",
       "    </tr>\n",
       "  </thead>\n",
       "  <tbody>\n",
       "    <tr>\n",
       "      <th>0</th>\n",
       "      <td>1000_0</td>\n",
       "      <td>112.95</td>\n",
       "      <td>2018-11-25</td>\n",
       "      <td>1000</td>\n",
       "    </tr>\n",
       "    <tr>\n",
       "      <th>1</th>\n",
       "      <td>1000_1</td>\n",
       "      <td>1052.81</td>\n",
       "      <td>2018-09-07</td>\n",
       "      <td>1000</td>\n",
       "    </tr>\n",
       "    <tr>\n",
       "      <th>2</th>\n",
       "      <td>1000_2</td>\n",
       "      <td>1197.26</td>\n",
       "      <td>2018-06-25</td>\n",
       "      <td>1000</td>\n",
       "    </tr>\n",
       "    <tr>\n",
       "      <th>3</th>\n",
       "      <td>1000_3</td>\n",
       "      <td>550.27</td>\n",
       "      <td>2018-08-22</td>\n",
       "      <td>1000</td>\n",
       "    </tr>\n",
       "    <tr>\n",
       "      <th>4</th>\n",
       "      <td>1000_4</td>\n",
       "      <td>302.56</td>\n",
       "      <td>2018-09-24</td>\n",
       "      <td>1000</td>\n",
       "    </tr>\n",
       "  </tbody>\n",
       "</table>\n",
       "</div>"
      ],
      "text/plain": [
       "       id  mb_used session_date  user_id\n",
       "0  1000_0   112.95   2018-11-25     1000\n",
       "1  1000_1  1052.81   2018-09-07     1000\n",
       "2  1000_2  1197.26   2018-06-25     1000\n",
       "3  1000_3   550.27   2018-08-22     1000\n",
       "4  1000_4   302.56   2018-09-24     1000"
      ]
     },
     "execution_count": 14,
     "metadata": {},
     "output_type": "execute_result"
    }
   ],
   "source": [
    "# Удалим лишний столбец из датафрейма internet\n",
    "\n",
    "internet = internet.drop(['Unnamed: 0'], axis=1)\n",
    "internet.head()"
   ]
  },
  {
   "cell_type": "markdown",
   "metadata": {},
   "source": [
    "## Анализ поведения пользователей внутри тарифа"
   ]
  },
  {
   "cell_type": "markdown",
   "metadata": {},
   "source": [
    "### Количество начатых звонков и израсходованных минут"
   ]
  },
  {
   "cell_type": "markdown",
   "metadata": {},
   "source": [
    "На этом шаге получим количество и общую длительность звонков для каждого пользователя по месяцам."
   ]
  },
  {
   "cell_type": "code",
   "execution_count": 15,
   "metadata": {},
   "outputs": [
    {
     "data": {
      "text/html": [
       "<div>\n",
       "<style scoped>\n",
       "    .dataframe tbody tr th:only-of-type {\n",
       "        vertical-align: middle;\n",
       "    }\n",
       "\n",
       "    .dataframe tbody tr th {\n",
       "        vertical-align: top;\n",
       "    }\n",
       "\n",
       "    .dataframe thead th {\n",
       "        text-align: right;\n",
       "    }\n",
       "</style>\n",
       "<table border=\"1\" class=\"dataframe\">\n",
       "  <thead>\n",
       "    <tr style=\"text-align: right;\">\n",
       "      <th></th>\n",
       "      <th>id</th>\n",
       "      <th>call_date</th>\n",
       "      <th>duration</th>\n",
       "      <th>user_id</th>\n",
       "      <th>month</th>\n",
       "    </tr>\n",
       "  </thead>\n",
       "  <tbody>\n",
       "    <tr>\n",
       "      <th>0</th>\n",
       "      <td>1000_0</td>\n",
       "      <td>2018-07-25</td>\n",
       "      <td>0.00</td>\n",
       "      <td>1000</td>\n",
       "      <td>7</td>\n",
       "    </tr>\n",
       "    <tr>\n",
       "      <th>1</th>\n",
       "      <td>1000_1</td>\n",
       "      <td>2018-08-17</td>\n",
       "      <td>0.00</td>\n",
       "      <td>1000</td>\n",
       "      <td>8</td>\n",
       "    </tr>\n",
       "    <tr>\n",
       "      <th>2</th>\n",
       "      <td>1000_2</td>\n",
       "      <td>2018-06-11</td>\n",
       "      <td>2.85</td>\n",
       "      <td>1000</td>\n",
       "      <td>6</td>\n",
       "    </tr>\n",
       "    <tr>\n",
       "      <th>3</th>\n",
       "      <td>1000_3</td>\n",
       "      <td>2018-09-21</td>\n",
       "      <td>13.80</td>\n",
       "      <td>1000</td>\n",
       "      <td>9</td>\n",
       "    </tr>\n",
       "    <tr>\n",
       "      <th>4</th>\n",
       "      <td>1000_4</td>\n",
       "      <td>2018-12-15</td>\n",
       "      <td>5.18</td>\n",
       "      <td>1000</td>\n",
       "      <td>12</td>\n",
       "    </tr>\n",
       "  </tbody>\n",
       "</table>\n",
       "</div>"
      ],
      "text/plain": [
       "       id  call_date  duration  user_id  month\n",
       "0  1000_0 2018-07-25      0.00     1000      7\n",
       "1  1000_1 2018-08-17      0.00     1000      8\n",
       "2  1000_2 2018-06-11      2.85     1000      6\n",
       "3  1000_3 2018-09-21     13.80     1000      9\n",
       "4  1000_4 2018-12-15      5.18     1000     12"
      ]
     },
     "execution_count": 15,
     "metadata": {},
     "output_type": "execute_result"
    }
   ],
   "source": [
    "# Добавим столбец с номером месяца \n",
    "\n",
    "calls['month'] = calls['call_date'].dt.month\n",
    "calls.head()"
   ]
  },
  {
   "cell_type": "markdown",
   "metadata": {},
   "source": [
    "По условию задания, \"Мегалайн всегда округляет секунды до минут, а мегабайты — до гигабайт. Каждый звонок округляется отдельно: даже если он длился всего 1 секунду, будет засчитан как 1 минута\". Поэтому округлим минуты разговора в большую сторону, используя numpy:"
   ]
  },
  {
   "cell_type": "code",
   "execution_count": 16,
   "metadata": {},
   "outputs": [
    {
     "data": {
      "text/html": [
       "<div>\n",
       "<style scoped>\n",
       "    .dataframe tbody tr th:only-of-type {\n",
       "        vertical-align: middle;\n",
       "    }\n",
       "\n",
       "    .dataframe tbody tr th {\n",
       "        vertical-align: top;\n",
       "    }\n",
       "\n",
       "    .dataframe thead th {\n",
       "        text-align: right;\n",
       "    }\n",
       "</style>\n",
       "<table border=\"1\" class=\"dataframe\">\n",
       "  <thead>\n",
       "    <tr style=\"text-align: right;\">\n",
       "      <th></th>\n",
       "      <th>id</th>\n",
       "      <th>call_date</th>\n",
       "      <th>duration</th>\n",
       "      <th>user_id</th>\n",
       "      <th>month</th>\n",
       "    </tr>\n",
       "  </thead>\n",
       "  <tbody>\n",
       "    <tr>\n",
       "      <th>0</th>\n",
       "      <td>1000_0</td>\n",
       "      <td>2018-07-25</td>\n",
       "      <td>0</td>\n",
       "      <td>1000</td>\n",
       "      <td>7</td>\n",
       "    </tr>\n",
       "    <tr>\n",
       "      <th>1</th>\n",
       "      <td>1000_1</td>\n",
       "      <td>2018-08-17</td>\n",
       "      <td>0</td>\n",
       "      <td>1000</td>\n",
       "      <td>8</td>\n",
       "    </tr>\n",
       "    <tr>\n",
       "      <th>2</th>\n",
       "      <td>1000_2</td>\n",
       "      <td>2018-06-11</td>\n",
       "      <td>3</td>\n",
       "      <td>1000</td>\n",
       "      <td>6</td>\n",
       "    </tr>\n",
       "    <tr>\n",
       "      <th>3</th>\n",
       "      <td>1000_3</td>\n",
       "      <td>2018-09-21</td>\n",
       "      <td>14</td>\n",
       "      <td>1000</td>\n",
       "      <td>9</td>\n",
       "    </tr>\n",
       "    <tr>\n",
       "      <th>4</th>\n",
       "      <td>1000_4</td>\n",
       "      <td>2018-12-15</td>\n",
       "      <td>6</td>\n",
       "      <td>1000</td>\n",
       "      <td>12</td>\n",
       "    </tr>\n",
       "  </tbody>\n",
       "</table>\n",
       "</div>"
      ],
      "text/plain": [
       "       id  call_date  duration  user_id  month\n",
       "0  1000_0 2018-07-25         0     1000      7\n",
       "1  1000_1 2018-08-17         0     1000      8\n",
       "2  1000_2 2018-06-11         3     1000      6\n",
       "3  1000_3 2018-09-21        14     1000      9\n",
       "4  1000_4 2018-12-15         6     1000     12"
      ]
     },
     "execution_count": 16,
     "metadata": {},
     "output_type": "execute_result"
    }
   ],
   "source": [
    "calls['duration'] = np.ceil(calls['duration']).astype('int')\n",
    "calls.head()"
   ]
  },
  {
   "cell_type": "markdown",
   "metadata": {},
   "source": [
    "Далее необходимо сгруппировать звонки по уникальным идентификаторам пользователей и месяцу, посчитав количество звонков и общую длительность разговоров. Также избавимся от пропущенных вызовов, которые отмечаются нулевой длительностью."
   ]
  },
  {
   "cell_type": "code",
   "execution_count": 17,
   "metadata": {},
   "outputs": [
    {
     "data": {
      "text/html": [
       "<div>\n",
       "<style scoped>\n",
       "    .dataframe tbody tr th:only-of-type {\n",
       "        vertical-align: middle;\n",
       "    }\n",
       "\n",
       "    .dataframe tbody tr th {\n",
       "        vertical-align: top;\n",
       "    }\n",
       "\n",
       "    .dataframe thead th {\n",
       "        text-align: right;\n",
       "    }\n",
       "</style>\n",
       "<table border=\"1\" class=\"dataframe\">\n",
       "  <thead>\n",
       "    <tr style=\"text-align: right;\">\n",
       "      <th></th>\n",
       "      <th>user_id</th>\n",
       "      <th>month</th>\n",
       "      <th>calls_total</th>\n",
       "      <th>total_duration</th>\n",
       "    </tr>\n",
       "  </thead>\n",
       "  <tbody>\n",
       "    <tr>\n",
       "      <th>0</th>\n",
       "      <td>1000</td>\n",
       "      <td>5</td>\n",
       "      <td>17</td>\n",
       "      <td>159</td>\n",
       "    </tr>\n",
       "    <tr>\n",
       "      <th>1</th>\n",
       "      <td>1000</td>\n",
       "      <td>6</td>\n",
       "      <td>28</td>\n",
       "      <td>172</td>\n",
       "    </tr>\n",
       "    <tr>\n",
       "      <th>2</th>\n",
       "      <td>1000</td>\n",
       "      <td>7</td>\n",
       "      <td>41</td>\n",
       "      <td>340</td>\n",
       "    </tr>\n",
       "    <tr>\n",
       "      <th>3</th>\n",
       "      <td>1000</td>\n",
       "      <td>8</td>\n",
       "      <td>42</td>\n",
       "      <td>408</td>\n",
       "    </tr>\n",
       "    <tr>\n",
       "      <th>4</th>\n",
       "      <td>1000</td>\n",
       "      <td>9</td>\n",
       "      <td>46</td>\n",
       "      <td>466</td>\n",
       "    </tr>\n",
       "    <tr>\n",
       "      <th>...</th>\n",
       "      <td>...</td>\n",
       "      <td>...</td>\n",
       "      <td>...</td>\n",
       "      <td>...</td>\n",
       "    </tr>\n",
       "    <tr>\n",
       "      <th>3163</th>\n",
       "      <td>1498</td>\n",
       "      <td>10</td>\n",
       "      <td>30</td>\n",
       "      <td>247</td>\n",
       "    </tr>\n",
       "    <tr>\n",
       "      <th>3164</th>\n",
       "      <td>1499</td>\n",
       "      <td>9</td>\n",
       "      <td>8</td>\n",
       "      <td>70</td>\n",
       "    </tr>\n",
       "    <tr>\n",
       "      <th>3165</th>\n",
       "      <td>1499</td>\n",
       "      <td>10</td>\n",
       "      <td>44</td>\n",
       "      <td>449</td>\n",
       "    </tr>\n",
       "    <tr>\n",
       "      <th>3166</th>\n",
       "      <td>1499</td>\n",
       "      <td>11</td>\n",
       "      <td>62</td>\n",
       "      <td>612</td>\n",
       "    </tr>\n",
       "    <tr>\n",
       "      <th>3167</th>\n",
       "      <td>1499</td>\n",
       "      <td>12</td>\n",
       "      <td>56</td>\n",
       "      <td>492</td>\n",
       "    </tr>\n",
       "  </tbody>\n",
       "</table>\n",
       "<p>3168 rows × 4 columns</p>\n",
       "</div>"
      ],
      "text/plain": [
       "      user_id  month  calls_total  total_duration\n",
       "0        1000      5           17             159\n",
       "1        1000      6           28             172\n",
       "2        1000      7           41             340\n",
       "3        1000      8           42             408\n",
       "4        1000      9           46             466\n",
       "...       ...    ...          ...             ...\n",
       "3163     1498     10           30             247\n",
       "3164     1499      9            8              70\n",
       "3165     1499     10           44             449\n",
       "3166     1499     11           62             612\n",
       "3167     1499     12           56             492\n",
       "\n",
       "[3168 rows x 4 columns]"
      ]
     },
     "execution_count": 17,
     "metadata": {},
     "output_type": "execute_result"
    }
   ],
   "source": [
    "calls_grouped = (\n",
    "calls\n",
    ".query('duration != 0')\n",
    ".pivot_table(index=['user_id', 'month'], values='duration', aggfunc=['count', 'sum'])\n",
    ".reset_index()\n",
    ")\n",
    "\n",
    "calls_grouped.columns = calls_grouped.columns.droplevel([-1]) # Уберем мультииндексы\n",
    "\n",
    "calls_grouped = calls_grouped.rename(columns={'count':'calls_total', 'sum':'total_duration'}) # Укажем понятные названия столбцов\n",
    "\n",
    "calls_grouped"
   ]
  },
  {
   "cell_type": "markdown",
   "metadata": {},
   "source": [
    "### Количество отправленных сообщений"
   ]
  },
  {
   "cell_type": "markdown",
   "metadata": {},
   "source": [
    "На этом шаге получим количество отправленных сообщений для каждого пользователя по месяцам."
   ]
  },
  {
   "cell_type": "code",
   "execution_count": 18,
   "metadata": {},
   "outputs": [
    {
     "data": {
      "text/html": [
       "<div>\n",
       "<style scoped>\n",
       "    .dataframe tbody tr th:only-of-type {\n",
       "        vertical-align: middle;\n",
       "    }\n",
       "\n",
       "    .dataframe tbody tr th {\n",
       "        vertical-align: top;\n",
       "    }\n",
       "\n",
       "    .dataframe thead th {\n",
       "        text-align: right;\n",
       "    }\n",
       "</style>\n",
       "<table border=\"1\" class=\"dataframe\">\n",
       "  <thead>\n",
       "    <tr style=\"text-align: right;\">\n",
       "      <th></th>\n",
       "      <th>id</th>\n",
       "      <th>message_date</th>\n",
       "      <th>user_id</th>\n",
       "      <th>month</th>\n",
       "    </tr>\n",
       "  </thead>\n",
       "  <tbody>\n",
       "    <tr>\n",
       "      <th>0</th>\n",
       "      <td>1000_0</td>\n",
       "      <td>2018-06-27</td>\n",
       "      <td>1000</td>\n",
       "      <td>6</td>\n",
       "    </tr>\n",
       "    <tr>\n",
       "      <th>1</th>\n",
       "      <td>1000_1</td>\n",
       "      <td>2018-10-08</td>\n",
       "      <td>1000</td>\n",
       "      <td>10</td>\n",
       "    </tr>\n",
       "    <tr>\n",
       "      <th>2</th>\n",
       "      <td>1000_2</td>\n",
       "      <td>2018-08-04</td>\n",
       "      <td>1000</td>\n",
       "      <td>8</td>\n",
       "    </tr>\n",
       "    <tr>\n",
       "      <th>3</th>\n",
       "      <td>1000_3</td>\n",
       "      <td>2018-06-16</td>\n",
       "      <td>1000</td>\n",
       "      <td>6</td>\n",
       "    </tr>\n",
       "    <tr>\n",
       "      <th>4</th>\n",
       "      <td>1000_4</td>\n",
       "      <td>2018-12-05</td>\n",
       "      <td>1000</td>\n",
       "      <td>12</td>\n",
       "    </tr>\n",
       "  </tbody>\n",
       "</table>\n",
       "</div>"
      ],
      "text/plain": [
       "       id message_date  user_id  month\n",
       "0  1000_0   2018-06-27     1000      6\n",
       "1  1000_1   2018-10-08     1000     10\n",
       "2  1000_2   2018-08-04     1000      8\n",
       "3  1000_3   2018-06-16     1000      6\n",
       "4  1000_4   2018-12-05     1000     12"
      ]
     },
     "execution_count": 18,
     "metadata": {},
     "output_type": "execute_result"
    }
   ],
   "source": [
    "messages['month'] = messages['message_date'].dt.month\n",
    "messages.head()"
   ]
  },
  {
   "cell_type": "code",
   "execution_count": 19,
   "metadata": {},
   "outputs": [
    {
     "data": {
      "text/html": [
       "<div>\n",
       "<style scoped>\n",
       "    .dataframe tbody tr th:only-of-type {\n",
       "        vertical-align: middle;\n",
       "    }\n",
       "\n",
       "    .dataframe tbody tr th {\n",
       "        vertical-align: top;\n",
       "    }\n",
       "\n",
       "    .dataframe thead th {\n",
       "        text-align: right;\n",
       "    }\n",
       "</style>\n",
       "<table border=\"1\" class=\"dataframe\">\n",
       "  <thead>\n",
       "    <tr style=\"text-align: right;\">\n",
       "      <th></th>\n",
       "      <th>user_id</th>\n",
       "      <th>month</th>\n",
       "      <th>messages_total</th>\n",
       "    </tr>\n",
       "  </thead>\n",
       "  <tbody>\n",
       "    <tr>\n",
       "      <th>0</th>\n",
       "      <td>1000</td>\n",
       "      <td>5</td>\n",
       "      <td>22</td>\n",
       "    </tr>\n",
       "    <tr>\n",
       "      <th>1</th>\n",
       "      <td>1000</td>\n",
       "      <td>6</td>\n",
       "      <td>60</td>\n",
       "    </tr>\n",
       "    <tr>\n",
       "      <th>2</th>\n",
       "      <td>1000</td>\n",
       "      <td>7</td>\n",
       "      <td>75</td>\n",
       "    </tr>\n",
       "    <tr>\n",
       "      <th>3</th>\n",
       "      <td>1000</td>\n",
       "      <td>8</td>\n",
       "      <td>81</td>\n",
       "    </tr>\n",
       "    <tr>\n",
       "      <th>4</th>\n",
       "      <td>1000</td>\n",
       "      <td>9</td>\n",
       "      <td>57</td>\n",
       "    </tr>\n",
       "    <tr>\n",
       "      <th>...</th>\n",
       "      <td>...</td>\n",
       "      <td>...</td>\n",
       "      <td>...</td>\n",
       "    </tr>\n",
       "    <tr>\n",
       "      <th>2712</th>\n",
       "      <td>1498</td>\n",
       "      <td>10</td>\n",
       "      <td>42</td>\n",
       "    </tr>\n",
       "    <tr>\n",
       "      <th>2713</th>\n",
       "      <td>1499</td>\n",
       "      <td>9</td>\n",
       "      <td>11</td>\n",
       "    </tr>\n",
       "    <tr>\n",
       "      <th>2714</th>\n",
       "      <td>1499</td>\n",
       "      <td>10</td>\n",
       "      <td>48</td>\n",
       "    </tr>\n",
       "    <tr>\n",
       "      <th>2715</th>\n",
       "      <td>1499</td>\n",
       "      <td>11</td>\n",
       "      <td>59</td>\n",
       "    </tr>\n",
       "    <tr>\n",
       "      <th>2716</th>\n",
       "      <td>1499</td>\n",
       "      <td>12</td>\n",
       "      <td>66</td>\n",
       "    </tr>\n",
       "  </tbody>\n",
       "</table>\n",
       "<p>2717 rows × 3 columns</p>\n",
       "</div>"
      ],
      "text/plain": [
       "      user_id  month  messages_total\n",
       "0        1000      5              22\n",
       "1        1000      6              60\n",
       "2        1000      7              75\n",
       "3        1000      8              81\n",
       "4        1000      9              57\n",
       "...       ...    ...             ...\n",
       "2712     1498     10              42\n",
       "2713     1499      9              11\n",
       "2714     1499     10              48\n",
       "2715     1499     11              59\n",
       "2716     1499     12              66\n",
       "\n",
       "[2717 rows x 3 columns]"
      ]
     },
     "execution_count": 19,
     "metadata": {},
     "output_type": "execute_result"
    }
   ],
   "source": [
    "messages_grouped = (\n",
    "messages\n",
    ".pivot_table(index=['user_id', 'month'], values='message_date', aggfunc='count')\n",
    ".reset_index()\n",
    ")\n",
    "\n",
    "messages_grouped = messages_grouped.rename(columns={'message_date':'messages_total'})\n",
    "\n",
    "messages_grouped"
   ]
  },
  {
   "cell_type": "markdown",
   "metadata": {},
   "source": [
    "### Объем израсходованного интернет-трафика"
   ]
  },
  {
   "cell_type": "markdown",
   "metadata": {},
   "source": [
    "На этом шаге получим объем израсходованного интернет-трафика для каждого пользователя по месяцам."
   ]
  },
  {
   "cell_type": "code",
   "execution_count": 20,
   "metadata": {},
   "outputs": [
    {
     "data": {
      "text/html": [
       "<div>\n",
       "<style scoped>\n",
       "    .dataframe tbody tr th:only-of-type {\n",
       "        vertical-align: middle;\n",
       "    }\n",
       "\n",
       "    .dataframe tbody tr th {\n",
       "        vertical-align: top;\n",
       "    }\n",
       "\n",
       "    .dataframe thead th {\n",
       "        text-align: right;\n",
       "    }\n",
       "</style>\n",
       "<table border=\"1\" class=\"dataframe\">\n",
       "  <thead>\n",
       "    <tr style=\"text-align: right;\">\n",
       "      <th></th>\n",
       "      <th>id</th>\n",
       "      <th>mb_used</th>\n",
       "      <th>session_date</th>\n",
       "      <th>user_id</th>\n",
       "      <th>month</th>\n",
       "    </tr>\n",
       "  </thead>\n",
       "  <tbody>\n",
       "    <tr>\n",
       "      <th>0</th>\n",
       "      <td>1000_0</td>\n",
       "      <td>112.95</td>\n",
       "      <td>2018-11-25</td>\n",
       "      <td>1000</td>\n",
       "      <td>11</td>\n",
       "    </tr>\n",
       "    <tr>\n",
       "      <th>1</th>\n",
       "      <td>1000_1</td>\n",
       "      <td>1052.81</td>\n",
       "      <td>2018-09-07</td>\n",
       "      <td>1000</td>\n",
       "      <td>9</td>\n",
       "    </tr>\n",
       "    <tr>\n",
       "      <th>2</th>\n",
       "      <td>1000_2</td>\n",
       "      <td>1197.26</td>\n",
       "      <td>2018-06-25</td>\n",
       "      <td>1000</td>\n",
       "      <td>6</td>\n",
       "    </tr>\n",
       "    <tr>\n",
       "      <th>3</th>\n",
       "      <td>1000_3</td>\n",
       "      <td>550.27</td>\n",
       "      <td>2018-08-22</td>\n",
       "      <td>1000</td>\n",
       "      <td>8</td>\n",
       "    </tr>\n",
       "    <tr>\n",
       "      <th>4</th>\n",
       "      <td>1000_4</td>\n",
       "      <td>302.56</td>\n",
       "      <td>2018-09-24</td>\n",
       "      <td>1000</td>\n",
       "      <td>9</td>\n",
       "    </tr>\n",
       "  </tbody>\n",
       "</table>\n",
       "</div>"
      ],
      "text/plain": [
       "       id  mb_used session_date  user_id  month\n",
       "0  1000_0   112.95   2018-11-25     1000     11\n",
       "1  1000_1  1052.81   2018-09-07     1000      9\n",
       "2  1000_2  1197.26   2018-06-25     1000      6\n",
       "3  1000_3   550.27   2018-08-22     1000      8\n",
       "4  1000_4   302.56   2018-09-24     1000      9"
      ]
     },
     "execution_count": 20,
     "metadata": {},
     "output_type": "execute_result"
    }
   ],
   "source": [
    "internet['month'] = internet['session_date'].dt.month\n",
    "internet.head()"
   ]
  },
  {
   "cell_type": "code",
   "execution_count": 21,
   "metadata": {},
   "outputs": [
    {
     "data": {
      "text/html": [
       "<div>\n",
       "<style scoped>\n",
       "    .dataframe tbody tr th:only-of-type {\n",
       "        vertical-align: middle;\n",
       "    }\n",
       "\n",
       "    .dataframe tbody tr th {\n",
       "        vertical-align: top;\n",
       "    }\n",
       "\n",
       "    .dataframe thead th {\n",
       "        text-align: right;\n",
       "    }\n",
       "</style>\n",
       "<table border=\"1\" class=\"dataframe\">\n",
       "  <thead>\n",
       "    <tr style=\"text-align: right;\">\n",
       "      <th></th>\n",
       "      <th>user_id</th>\n",
       "      <th>month</th>\n",
       "      <th>mb_used</th>\n",
       "    </tr>\n",
       "  </thead>\n",
       "  <tbody>\n",
       "    <tr>\n",
       "      <th>0</th>\n",
       "      <td>1000</td>\n",
       "      <td>5</td>\n",
       "      <td>2253.49</td>\n",
       "    </tr>\n",
       "    <tr>\n",
       "      <th>1</th>\n",
       "      <td>1000</td>\n",
       "      <td>6</td>\n",
       "      <td>23233.77</td>\n",
       "    </tr>\n",
       "    <tr>\n",
       "      <th>2</th>\n",
       "      <td>1000</td>\n",
       "      <td>7</td>\n",
       "      <td>14003.64</td>\n",
       "    </tr>\n",
       "    <tr>\n",
       "      <th>3</th>\n",
       "      <td>1000</td>\n",
       "      <td>8</td>\n",
       "      <td>14055.93</td>\n",
       "    </tr>\n",
       "    <tr>\n",
       "      <th>4</th>\n",
       "      <td>1000</td>\n",
       "      <td>9</td>\n",
       "      <td>14568.91</td>\n",
       "    </tr>\n",
       "    <tr>\n",
       "      <th>...</th>\n",
       "      <td>...</td>\n",
       "      <td>...</td>\n",
       "      <td>...</td>\n",
       "    </tr>\n",
       "    <tr>\n",
       "      <th>3198</th>\n",
       "      <td>1498</td>\n",
       "      <td>10</td>\n",
       "      <td>20579.36</td>\n",
       "    </tr>\n",
       "    <tr>\n",
       "      <th>3199</th>\n",
       "      <td>1499</td>\n",
       "      <td>9</td>\n",
       "      <td>1845.75</td>\n",
       "    </tr>\n",
       "    <tr>\n",
       "      <th>3200</th>\n",
       "      <td>1499</td>\n",
       "      <td>10</td>\n",
       "      <td>17788.51</td>\n",
       "    </tr>\n",
       "    <tr>\n",
       "      <th>3201</th>\n",
       "      <td>1499</td>\n",
       "      <td>11</td>\n",
       "      <td>17963.31</td>\n",
       "    </tr>\n",
       "    <tr>\n",
       "      <th>3202</th>\n",
       "      <td>1499</td>\n",
       "      <td>12</td>\n",
       "      <td>13055.58</td>\n",
       "    </tr>\n",
       "  </tbody>\n",
       "</table>\n",
       "<p>3203 rows × 3 columns</p>\n",
       "</div>"
      ],
      "text/plain": [
       "      user_id  month   mb_used\n",
       "0        1000      5   2253.49\n",
       "1        1000      6  23233.77\n",
       "2        1000      7  14003.64\n",
       "3        1000      8  14055.93\n",
       "4        1000      9  14568.91\n",
       "...       ...    ...       ...\n",
       "3198     1498     10  20579.36\n",
       "3199     1499      9   1845.75\n",
       "3200     1499     10  17788.51\n",
       "3201     1499     11  17963.31\n",
       "3202     1499     12  13055.58\n",
       "\n",
       "[3203 rows x 3 columns]"
      ]
     },
     "execution_count": 21,
     "metadata": {},
     "output_type": "execute_result"
    }
   ],
   "source": [
    "internet_grouped = (\n",
    "internet\n",
    ".pivot_table(index=['user_id', 'month'], values='mb_used', aggfunc='sum')\n",
    ".reset_index()\n",
    ")\n",
    "internet_grouped"
   ]
  },
  {
   "cell_type": "markdown",
   "metadata": {},
   "source": [
    "### Расчет помесячной выручки с каждого пользователя"
   ]
  },
  {
   "cell_type": "markdown",
   "metadata": {},
   "source": [
    "Объединим данные, полученные в предыдущих пунктах, в один датафрейм:"
   ]
  },
  {
   "cell_type": "code",
   "execution_count": 22,
   "metadata": {},
   "outputs": [],
   "source": [
    "users_info = users[['user_id', 'tariff', 'city']] # Вспомогательная таблица с тарифом и городом пользователей"
   ]
  },
  {
   "cell_type": "code",
   "execution_count": 23,
   "metadata": {
    "scrolled": true
   },
   "outputs": [
    {
     "data": {
      "text/html": [
       "<div>\n",
       "<style scoped>\n",
       "    .dataframe tbody tr th:only-of-type {\n",
       "        vertical-align: middle;\n",
       "    }\n",
       "\n",
       "    .dataframe tbody tr th {\n",
       "        vertical-align: top;\n",
       "    }\n",
       "\n",
       "    .dataframe thead th {\n",
       "        text-align: right;\n",
       "    }\n",
       "</style>\n",
       "<table border=\"1\" class=\"dataframe\">\n",
       "  <thead>\n",
       "    <tr style=\"text-align: right;\">\n",
       "      <th></th>\n",
       "      <th>user_id</th>\n",
       "      <th>month</th>\n",
       "      <th>calls_total</th>\n",
       "      <th>total_duration</th>\n",
       "      <th>messages_total</th>\n",
       "      <th>mb_used</th>\n",
       "      <th>tariff</th>\n",
       "      <th>city</th>\n",
       "    </tr>\n",
       "  </thead>\n",
       "  <tbody>\n",
       "    <tr>\n",
       "      <th>0</th>\n",
       "      <td>1000</td>\n",
       "      <td>5.0</td>\n",
       "      <td>17.0</td>\n",
       "      <td>159.0</td>\n",
       "      <td>22.0</td>\n",
       "      <td>2253.49</td>\n",
       "      <td>ultra</td>\n",
       "      <td>Краснодар</td>\n",
       "    </tr>\n",
       "    <tr>\n",
       "      <th>1</th>\n",
       "      <td>1000</td>\n",
       "      <td>6.0</td>\n",
       "      <td>28.0</td>\n",
       "      <td>172.0</td>\n",
       "      <td>60.0</td>\n",
       "      <td>23233.77</td>\n",
       "      <td>ultra</td>\n",
       "      <td>Краснодар</td>\n",
       "    </tr>\n",
       "    <tr>\n",
       "      <th>2</th>\n",
       "      <td>1000</td>\n",
       "      <td>7.0</td>\n",
       "      <td>41.0</td>\n",
       "      <td>340.0</td>\n",
       "      <td>75.0</td>\n",
       "      <td>14003.64</td>\n",
       "      <td>ultra</td>\n",
       "      <td>Краснодар</td>\n",
       "    </tr>\n",
       "    <tr>\n",
       "      <th>3</th>\n",
       "      <td>1000</td>\n",
       "      <td>8.0</td>\n",
       "      <td>42.0</td>\n",
       "      <td>408.0</td>\n",
       "      <td>81.0</td>\n",
       "      <td>14055.93</td>\n",
       "      <td>ultra</td>\n",
       "      <td>Краснодар</td>\n",
       "    </tr>\n",
       "    <tr>\n",
       "      <th>4</th>\n",
       "      <td>1000</td>\n",
       "      <td>9.0</td>\n",
       "      <td>46.0</td>\n",
       "      <td>466.0</td>\n",
       "      <td>57.0</td>\n",
       "      <td>14568.91</td>\n",
       "      <td>ultra</td>\n",
       "      <td>Краснодар</td>\n",
       "    </tr>\n",
       "    <tr>\n",
       "      <th>...</th>\n",
       "      <td>...</td>\n",
       "      <td>...</td>\n",
       "      <td>...</td>\n",
       "      <td>...</td>\n",
       "      <td>...</td>\n",
       "      <td>...</td>\n",
       "      <td>...</td>\n",
       "      <td>...</td>\n",
       "    </tr>\n",
       "    <tr>\n",
       "      <th>3211</th>\n",
       "      <td>1489</td>\n",
       "      <td>10.0</td>\n",
       "      <td>NaN</td>\n",
       "      <td>NaN</td>\n",
       "      <td>21.0</td>\n",
       "      <td>19559.44</td>\n",
       "      <td>smart</td>\n",
       "      <td>Санкт-Петербург</td>\n",
       "    </tr>\n",
       "    <tr>\n",
       "      <th>3212</th>\n",
       "      <td>1489</td>\n",
       "      <td>11.0</td>\n",
       "      <td>NaN</td>\n",
       "      <td>NaN</td>\n",
       "      <td>20.0</td>\n",
       "      <td>17491.56</td>\n",
       "      <td>smart</td>\n",
       "      <td>Санкт-Петербург</td>\n",
       "    </tr>\n",
       "    <tr>\n",
       "      <th>3213</th>\n",
       "      <td>1489</td>\n",
       "      <td>12.0</td>\n",
       "      <td>NaN</td>\n",
       "      <td>NaN</td>\n",
       "      <td>35.0</td>\n",
       "      <td>17322.51</td>\n",
       "      <td>smart</td>\n",
       "      <td>Санкт-Петербург</td>\n",
       "    </tr>\n",
       "    <tr>\n",
       "      <th>3214</th>\n",
       "      <td>1128</td>\n",
       "      <td>NaN</td>\n",
       "      <td>NaN</td>\n",
       "      <td>NaN</td>\n",
       "      <td>NaN</td>\n",
       "      <td>NaN</td>\n",
       "      <td>ultra</td>\n",
       "      <td>Волжский</td>\n",
       "    </tr>\n",
       "    <tr>\n",
       "      <th>3215</th>\n",
       "      <td>1371</td>\n",
       "      <td>NaN</td>\n",
       "      <td>NaN</td>\n",
       "      <td>NaN</td>\n",
       "      <td>NaN</td>\n",
       "      <td>NaN</td>\n",
       "      <td>smart</td>\n",
       "      <td>Омск</td>\n",
       "    </tr>\n",
       "  </tbody>\n",
       "</table>\n",
       "<p>3216 rows × 8 columns</p>\n",
       "</div>"
      ],
      "text/plain": [
       "      user_id  month  calls_total  total_duration  messages_total   mb_used  \\\n",
       "0        1000    5.0         17.0           159.0            22.0   2253.49   \n",
       "1        1000    6.0         28.0           172.0            60.0  23233.77   \n",
       "2        1000    7.0         41.0           340.0            75.0  14003.64   \n",
       "3        1000    8.0         42.0           408.0            81.0  14055.93   \n",
       "4        1000    9.0         46.0           466.0            57.0  14568.91   \n",
       "...       ...    ...          ...             ...             ...       ...   \n",
       "3211     1489   10.0          NaN             NaN            21.0  19559.44   \n",
       "3212     1489   11.0          NaN             NaN            20.0  17491.56   \n",
       "3213     1489   12.0          NaN             NaN            35.0  17322.51   \n",
       "3214     1128    NaN          NaN             NaN             NaN       NaN   \n",
       "3215     1371    NaN          NaN             NaN             NaN       NaN   \n",
       "\n",
       "     tariff             city  \n",
       "0     ultra        Краснодар  \n",
       "1     ultra        Краснодар  \n",
       "2     ultra        Краснодар  \n",
       "3     ultra        Краснодар  \n",
       "4     ultra        Краснодар  \n",
       "...     ...              ...  \n",
       "3211  smart  Санкт-Петербург  \n",
       "3212  smart  Санкт-Петербург  \n",
       "3213  smart  Санкт-Петербург  \n",
       "3214  ultra         Волжский  \n",
       "3215  smart             Омск  \n",
       "\n",
       "[3216 rows x 8 columns]"
      ]
     },
     "execution_count": 23,
     "metadata": {},
     "output_type": "execute_result"
    }
   ],
   "source": [
    "data = (calls_grouped\n",
    ".merge(messages_grouped, on=['user_id', 'month'], how='outer')\n",
    ".merge(internet_grouped, on=['user_id', 'month'], how='outer')\n",
    ".merge(users_info, on=['user_id'], how='outer')\n",
    ")\n",
    "\n",
    "data"
   ]
  },
  {
   "cell_type": "code",
   "execution_count": 24,
   "metadata": {},
   "outputs": [
    {
     "name": "stdout",
     "output_type": "stream",
     "text": [
      "<class 'pandas.core.frame.DataFrame'>\n",
      "Int64Index: 3216 entries, 0 to 3215\n",
      "Data columns (total 8 columns):\n",
      " #   Column          Non-Null Count  Dtype  \n",
      "---  ------          --------------  -----  \n",
      " 0   user_id         3216 non-null   int64  \n",
      " 1   month           3214 non-null   float64\n",
      " 2   calls_total     3168 non-null   float64\n",
      " 3   total_duration  3168 non-null   float64\n",
      " 4   messages_total  2717 non-null   float64\n",
      " 5   mb_used         3203 non-null   float64\n",
      " 6   tariff          3216 non-null   object \n",
      " 7   city            3216 non-null   object \n",
      "dtypes: float64(5), int64(1), object(2)\n",
      "memory usage: 226.1+ KB\n"
     ]
    }
   ],
   "source": [
    "data.info()"
   ]
  },
  {
   "cell_type": "markdown",
   "metadata": {},
   "source": [
    "Получился датафрейм из 3216 строк и 8 столбцов. Заметно, что в таблице имеются пропуски значений в столбце с количеством звонков, а также в столбце с месяцем (всего два случая, возможно ошибка в данных). Получается, что пользователи с NaN звонков в определенные месяцы не совершали. Далее заменим NaN на 0, а строки с NaN в месяце просто удалим, т.к. их всего две, и на анализ это не повлияет."
   ]
  },
  {
   "cell_type": "code",
   "execution_count": 25,
   "metadata": {},
   "outputs": [
    {
     "data": {
      "text/plain": [
       "user_id           0.000000\n",
       "month             0.000622\n",
       "calls_total       0.014925\n",
       "total_duration    0.014925\n",
       "messages_total    0.155162\n",
       "mb_used           0.004042\n",
       "tariff            0.000000\n",
       "city              0.000000\n",
       "dtype: float64"
      ]
     },
     "execution_count": 25,
     "metadata": {},
     "output_type": "execute_result"
    }
   ],
   "source": [
    "data.isna().mean()"
   ]
  },
  {
   "cell_type": "code",
   "execution_count": 26,
   "metadata": {
    "scrolled": true
   },
   "outputs": [
    {
     "data": {
      "text/plain": [
       "user_id           0.0\n",
       "month             0.0\n",
       "calls_total       0.0\n",
       "total_duration    0.0\n",
       "messages_total    0.0\n",
       "mb_used           0.0\n",
       "tariff            0.0\n",
       "city              0.0\n",
       "dtype: float64"
      ]
     },
     "metadata": {},
     "output_type": "display_data"
    },
    {
     "data": {
      "text/html": [
       "<div>\n",
       "<style scoped>\n",
       "    .dataframe tbody tr th:only-of-type {\n",
       "        vertical-align: middle;\n",
       "    }\n",
       "\n",
       "    .dataframe tbody tr th {\n",
       "        vertical-align: top;\n",
       "    }\n",
       "\n",
       "    .dataframe thead th {\n",
       "        text-align: right;\n",
       "    }\n",
       "</style>\n",
       "<table border=\"1\" class=\"dataframe\">\n",
       "  <thead>\n",
       "    <tr style=\"text-align: right;\">\n",
       "      <th></th>\n",
       "      <th>user_id</th>\n",
       "      <th>month</th>\n",
       "      <th>calls_total</th>\n",
       "      <th>total_duration</th>\n",
       "      <th>messages_total</th>\n",
       "      <th>mb_used</th>\n",
       "      <th>tariff</th>\n",
       "      <th>city</th>\n",
       "    </tr>\n",
       "  </thead>\n",
       "  <tbody>\n",
       "    <tr>\n",
       "      <th>0</th>\n",
       "      <td>1000</td>\n",
       "      <td>5.0</td>\n",
       "      <td>17.0</td>\n",
       "      <td>159.0</td>\n",
       "      <td>22.0</td>\n",
       "      <td>2253.49</td>\n",
       "      <td>ultra</td>\n",
       "      <td>Краснодар</td>\n",
       "    </tr>\n",
       "    <tr>\n",
       "      <th>1</th>\n",
       "      <td>1000</td>\n",
       "      <td>6.0</td>\n",
       "      <td>28.0</td>\n",
       "      <td>172.0</td>\n",
       "      <td>60.0</td>\n",
       "      <td>23233.77</td>\n",
       "      <td>ultra</td>\n",
       "      <td>Краснодар</td>\n",
       "    </tr>\n",
       "    <tr>\n",
       "      <th>2</th>\n",
       "      <td>1000</td>\n",
       "      <td>7.0</td>\n",
       "      <td>41.0</td>\n",
       "      <td>340.0</td>\n",
       "      <td>75.0</td>\n",
       "      <td>14003.64</td>\n",
       "      <td>ultra</td>\n",
       "      <td>Краснодар</td>\n",
       "    </tr>\n",
       "    <tr>\n",
       "      <th>3</th>\n",
       "      <td>1000</td>\n",
       "      <td>8.0</td>\n",
       "      <td>42.0</td>\n",
       "      <td>408.0</td>\n",
       "      <td>81.0</td>\n",
       "      <td>14055.93</td>\n",
       "      <td>ultra</td>\n",
       "      <td>Краснодар</td>\n",
       "    </tr>\n",
       "    <tr>\n",
       "      <th>4</th>\n",
       "      <td>1000</td>\n",
       "      <td>9.0</td>\n",
       "      <td>46.0</td>\n",
       "      <td>466.0</td>\n",
       "      <td>57.0</td>\n",
       "      <td>14568.91</td>\n",
       "      <td>ultra</td>\n",
       "      <td>Краснодар</td>\n",
       "    </tr>\n",
       "    <tr>\n",
       "      <th>...</th>\n",
       "      <td>...</td>\n",
       "      <td>...</td>\n",
       "      <td>...</td>\n",
       "      <td>...</td>\n",
       "      <td>...</td>\n",
       "      <td>...</td>\n",
       "      <td>...</td>\n",
       "      <td>...</td>\n",
       "    </tr>\n",
       "    <tr>\n",
       "      <th>3209</th>\n",
       "      <td>1489</td>\n",
       "      <td>8.0</td>\n",
       "      <td>0.0</td>\n",
       "      <td>0.0</td>\n",
       "      <td>17.0</td>\n",
       "      <td>11050.56</td>\n",
       "      <td>smart</td>\n",
       "      <td>Санкт-Петербург</td>\n",
       "    </tr>\n",
       "    <tr>\n",
       "      <th>3210</th>\n",
       "      <td>1489</td>\n",
       "      <td>9.0</td>\n",
       "      <td>0.0</td>\n",
       "      <td>0.0</td>\n",
       "      <td>32.0</td>\n",
       "      <td>17206.30</td>\n",
       "      <td>smart</td>\n",
       "      <td>Санкт-Петербург</td>\n",
       "    </tr>\n",
       "    <tr>\n",
       "      <th>3211</th>\n",
       "      <td>1489</td>\n",
       "      <td>10.0</td>\n",
       "      <td>0.0</td>\n",
       "      <td>0.0</td>\n",
       "      <td>21.0</td>\n",
       "      <td>19559.44</td>\n",
       "      <td>smart</td>\n",
       "      <td>Санкт-Петербург</td>\n",
       "    </tr>\n",
       "    <tr>\n",
       "      <th>3212</th>\n",
       "      <td>1489</td>\n",
       "      <td>11.0</td>\n",
       "      <td>0.0</td>\n",
       "      <td>0.0</td>\n",
       "      <td>20.0</td>\n",
       "      <td>17491.56</td>\n",
       "      <td>smart</td>\n",
       "      <td>Санкт-Петербург</td>\n",
       "    </tr>\n",
       "    <tr>\n",
       "      <th>3213</th>\n",
       "      <td>1489</td>\n",
       "      <td>12.0</td>\n",
       "      <td>0.0</td>\n",
       "      <td>0.0</td>\n",
       "      <td>35.0</td>\n",
       "      <td>17322.51</td>\n",
       "      <td>smart</td>\n",
       "      <td>Санкт-Петербург</td>\n",
       "    </tr>\n",
       "  </tbody>\n",
       "</table>\n",
       "<p>3214 rows × 8 columns</p>\n",
       "</div>"
      ],
      "text/plain": [
       "      user_id  month  calls_total  total_duration  messages_total   mb_used  \\\n",
       "0        1000    5.0         17.0           159.0            22.0   2253.49   \n",
       "1        1000    6.0         28.0           172.0            60.0  23233.77   \n",
       "2        1000    7.0         41.0           340.0            75.0  14003.64   \n",
       "3        1000    8.0         42.0           408.0            81.0  14055.93   \n",
       "4        1000    9.0         46.0           466.0            57.0  14568.91   \n",
       "...       ...    ...          ...             ...             ...       ...   \n",
       "3209     1489    8.0          0.0             0.0            17.0  11050.56   \n",
       "3210     1489    9.0          0.0             0.0            32.0  17206.30   \n",
       "3211     1489   10.0          0.0             0.0            21.0  19559.44   \n",
       "3212     1489   11.0          0.0             0.0            20.0  17491.56   \n",
       "3213     1489   12.0          0.0             0.0            35.0  17322.51   \n",
       "\n",
       "     tariff             city  \n",
       "0     ultra        Краснодар  \n",
       "1     ultra        Краснодар  \n",
       "2     ultra        Краснодар  \n",
       "3     ultra        Краснодар  \n",
       "4     ultra        Краснодар  \n",
       "...     ...              ...  \n",
       "3209  smart  Санкт-Петербург  \n",
       "3210  smart  Санкт-Петербург  \n",
       "3211  smart  Санкт-Петербург  \n",
       "3212  smart  Санкт-Петербург  \n",
       "3213  smart  Санкт-Петербург  \n",
       "\n",
       "[3214 rows x 8 columns]"
      ]
     },
     "execution_count": 26,
     "metadata": {},
     "output_type": "execute_result"
    }
   ],
   "source": [
    "data = data.fillna(0).query('month != 0')\n",
    "display(data.isna().mean())\n",
    "data"
   ]
  },
  {
   "cell_type": "markdown",
   "metadata": {},
   "source": [
    "Для расчета прибыли сначала объединим полученную таблицу с таблицей данных о тарифах и лимитах. Затем напишем функцию, которая будет рассчитывать выручку с каждого пользователя по месяцам."
   ]
  },
  {
   "cell_type": "code",
   "execution_count": 27,
   "metadata": {},
   "outputs": [],
   "source": [
    "data = data.rename(columns={'tariff':'tariff_name'})"
   ]
  },
  {
   "cell_type": "code",
   "execution_count": 28,
   "metadata": {},
   "outputs": [
    {
     "data": {
      "text/html": [
       "<div>\n",
       "<style scoped>\n",
       "    .dataframe tbody tr th:only-of-type {\n",
       "        vertical-align: middle;\n",
       "    }\n",
       "\n",
       "    .dataframe tbody tr th {\n",
       "        vertical-align: top;\n",
       "    }\n",
       "\n",
       "    .dataframe thead th {\n",
       "        text-align: right;\n",
       "    }\n",
       "</style>\n",
       "<table border=\"1\" class=\"dataframe\">\n",
       "  <thead>\n",
       "    <tr style=\"text-align: right;\">\n",
       "      <th></th>\n",
       "      <th>user_id</th>\n",
       "      <th>month</th>\n",
       "      <th>calls_total</th>\n",
       "      <th>total_duration</th>\n",
       "      <th>messages_total</th>\n",
       "      <th>mb_used</th>\n",
       "      <th>tariff_name</th>\n",
       "      <th>city</th>\n",
       "      <th>messages_included</th>\n",
       "      <th>mb_per_month_included</th>\n",
       "      <th>minutes_included</th>\n",
       "      <th>rub_monthly_fee</th>\n",
       "      <th>rub_per_gb</th>\n",
       "      <th>rub_per_message</th>\n",
       "      <th>rub_per_minute</th>\n",
       "    </tr>\n",
       "  </thead>\n",
       "  <tbody>\n",
       "    <tr>\n",
       "      <th>0</th>\n",
       "      <td>1000</td>\n",
       "      <td>5.0</td>\n",
       "      <td>17.0</td>\n",
       "      <td>159.0</td>\n",
       "      <td>22.0</td>\n",
       "      <td>2253.49</td>\n",
       "      <td>ultra</td>\n",
       "      <td>Краснодар</td>\n",
       "      <td>1000</td>\n",
       "      <td>30720</td>\n",
       "      <td>3000</td>\n",
       "      <td>1950</td>\n",
       "      <td>150</td>\n",
       "      <td>1</td>\n",
       "      <td>1</td>\n",
       "    </tr>\n",
       "    <tr>\n",
       "      <th>1</th>\n",
       "      <td>1000</td>\n",
       "      <td>6.0</td>\n",
       "      <td>28.0</td>\n",
       "      <td>172.0</td>\n",
       "      <td>60.0</td>\n",
       "      <td>23233.77</td>\n",
       "      <td>ultra</td>\n",
       "      <td>Краснодар</td>\n",
       "      <td>1000</td>\n",
       "      <td>30720</td>\n",
       "      <td>3000</td>\n",
       "      <td>1950</td>\n",
       "      <td>150</td>\n",
       "      <td>1</td>\n",
       "      <td>1</td>\n",
       "    </tr>\n",
       "    <tr>\n",
       "      <th>2</th>\n",
       "      <td>1000</td>\n",
       "      <td>7.0</td>\n",
       "      <td>41.0</td>\n",
       "      <td>340.0</td>\n",
       "      <td>75.0</td>\n",
       "      <td>14003.64</td>\n",
       "      <td>ultra</td>\n",
       "      <td>Краснодар</td>\n",
       "      <td>1000</td>\n",
       "      <td>30720</td>\n",
       "      <td>3000</td>\n",
       "      <td>1950</td>\n",
       "      <td>150</td>\n",
       "      <td>1</td>\n",
       "      <td>1</td>\n",
       "    </tr>\n",
       "    <tr>\n",
       "      <th>3</th>\n",
       "      <td>1000</td>\n",
       "      <td>8.0</td>\n",
       "      <td>42.0</td>\n",
       "      <td>408.0</td>\n",
       "      <td>81.0</td>\n",
       "      <td>14055.93</td>\n",
       "      <td>ultra</td>\n",
       "      <td>Краснодар</td>\n",
       "      <td>1000</td>\n",
       "      <td>30720</td>\n",
       "      <td>3000</td>\n",
       "      <td>1950</td>\n",
       "      <td>150</td>\n",
       "      <td>1</td>\n",
       "      <td>1</td>\n",
       "    </tr>\n",
       "    <tr>\n",
       "      <th>4</th>\n",
       "      <td>1000</td>\n",
       "      <td>9.0</td>\n",
       "      <td>46.0</td>\n",
       "      <td>466.0</td>\n",
       "      <td>57.0</td>\n",
       "      <td>14568.91</td>\n",
       "      <td>ultra</td>\n",
       "      <td>Краснодар</td>\n",
       "      <td>1000</td>\n",
       "      <td>30720</td>\n",
       "      <td>3000</td>\n",
       "      <td>1950</td>\n",
       "      <td>150</td>\n",
       "      <td>1</td>\n",
       "      <td>1</td>\n",
       "    </tr>\n",
       "    <tr>\n",
       "      <th>...</th>\n",
       "      <td>...</td>\n",
       "      <td>...</td>\n",
       "      <td>...</td>\n",
       "      <td>...</td>\n",
       "      <td>...</td>\n",
       "      <td>...</td>\n",
       "      <td>...</td>\n",
       "      <td>...</td>\n",
       "      <td>...</td>\n",
       "      <td>...</td>\n",
       "      <td>...</td>\n",
       "      <td>...</td>\n",
       "      <td>...</td>\n",
       "      <td>...</td>\n",
       "      <td>...</td>\n",
       "    </tr>\n",
       "    <tr>\n",
       "      <th>3209</th>\n",
       "      <td>1489</td>\n",
       "      <td>8.0</td>\n",
       "      <td>0.0</td>\n",
       "      <td>0.0</td>\n",
       "      <td>17.0</td>\n",
       "      <td>11050.56</td>\n",
       "      <td>smart</td>\n",
       "      <td>Санкт-Петербург</td>\n",
       "      <td>50</td>\n",
       "      <td>15360</td>\n",
       "      <td>500</td>\n",
       "      <td>550</td>\n",
       "      <td>200</td>\n",
       "      <td>3</td>\n",
       "      <td>3</td>\n",
       "    </tr>\n",
       "    <tr>\n",
       "      <th>3210</th>\n",
       "      <td>1489</td>\n",
       "      <td>9.0</td>\n",
       "      <td>0.0</td>\n",
       "      <td>0.0</td>\n",
       "      <td>32.0</td>\n",
       "      <td>17206.30</td>\n",
       "      <td>smart</td>\n",
       "      <td>Санкт-Петербург</td>\n",
       "      <td>50</td>\n",
       "      <td>15360</td>\n",
       "      <td>500</td>\n",
       "      <td>550</td>\n",
       "      <td>200</td>\n",
       "      <td>3</td>\n",
       "      <td>3</td>\n",
       "    </tr>\n",
       "    <tr>\n",
       "      <th>3211</th>\n",
       "      <td>1489</td>\n",
       "      <td>10.0</td>\n",
       "      <td>0.0</td>\n",
       "      <td>0.0</td>\n",
       "      <td>21.0</td>\n",
       "      <td>19559.44</td>\n",
       "      <td>smart</td>\n",
       "      <td>Санкт-Петербург</td>\n",
       "      <td>50</td>\n",
       "      <td>15360</td>\n",
       "      <td>500</td>\n",
       "      <td>550</td>\n",
       "      <td>200</td>\n",
       "      <td>3</td>\n",
       "      <td>3</td>\n",
       "    </tr>\n",
       "    <tr>\n",
       "      <th>3212</th>\n",
       "      <td>1489</td>\n",
       "      <td>11.0</td>\n",
       "      <td>0.0</td>\n",
       "      <td>0.0</td>\n",
       "      <td>20.0</td>\n",
       "      <td>17491.56</td>\n",
       "      <td>smart</td>\n",
       "      <td>Санкт-Петербург</td>\n",
       "      <td>50</td>\n",
       "      <td>15360</td>\n",
       "      <td>500</td>\n",
       "      <td>550</td>\n",
       "      <td>200</td>\n",
       "      <td>3</td>\n",
       "      <td>3</td>\n",
       "    </tr>\n",
       "    <tr>\n",
       "      <th>3213</th>\n",
       "      <td>1489</td>\n",
       "      <td>12.0</td>\n",
       "      <td>0.0</td>\n",
       "      <td>0.0</td>\n",
       "      <td>35.0</td>\n",
       "      <td>17322.51</td>\n",
       "      <td>smart</td>\n",
       "      <td>Санкт-Петербург</td>\n",
       "      <td>50</td>\n",
       "      <td>15360</td>\n",
       "      <td>500</td>\n",
       "      <td>550</td>\n",
       "      <td>200</td>\n",
       "      <td>3</td>\n",
       "      <td>3</td>\n",
       "    </tr>\n",
       "  </tbody>\n",
       "</table>\n",
       "<p>3214 rows × 15 columns</p>\n",
       "</div>"
      ],
      "text/plain": [
       "      user_id  month  calls_total  total_duration  messages_total   mb_used  \\\n",
       "0        1000    5.0         17.0           159.0            22.0   2253.49   \n",
       "1        1000    6.0         28.0           172.0            60.0  23233.77   \n",
       "2        1000    7.0         41.0           340.0            75.0  14003.64   \n",
       "3        1000    8.0         42.0           408.0            81.0  14055.93   \n",
       "4        1000    9.0         46.0           466.0            57.0  14568.91   \n",
       "...       ...    ...          ...             ...             ...       ...   \n",
       "3209     1489    8.0          0.0             0.0            17.0  11050.56   \n",
       "3210     1489    9.0          0.0             0.0            32.0  17206.30   \n",
       "3211     1489   10.0          0.0             0.0            21.0  19559.44   \n",
       "3212     1489   11.0          0.0             0.0            20.0  17491.56   \n",
       "3213     1489   12.0          0.0             0.0            35.0  17322.51   \n",
       "\n",
       "     tariff_name             city  messages_included  mb_per_month_included  \\\n",
       "0          ultra        Краснодар               1000                  30720   \n",
       "1          ultra        Краснодар               1000                  30720   \n",
       "2          ultra        Краснодар               1000                  30720   \n",
       "3          ultra        Краснодар               1000                  30720   \n",
       "4          ultra        Краснодар               1000                  30720   \n",
       "...          ...              ...                ...                    ...   \n",
       "3209       smart  Санкт-Петербург                 50                  15360   \n",
       "3210       smart  Санкт-Петербург                 50                  15360   \n",
       "3211       smart  Санкт-Петербург                 50                  15360   \n",
       "3212       smart  Санкт-Петербург                 50                  15360   \n",
       "3213       smart  Санкт-Петербург                 50                  15360   \n",
       "\n",
       "      minutes_included  rub_monthly_fee  rub_per_gb  rub_per_message  \\\n",
       "0                 3000             1950         150                1   \n",
       "1                 3000             1950         150                1   \n",
       "2                 3000             1950         150                1   \n",
       "3                 3000             1950         150                1   \n",
       "4                 3000             1950         150                1   \n",
       "...                ...              ...         ...              ...   \n",
       "3209               500              550         200                3   \n",
       "3210               500              550         200                3   \n",
       "3211               500              550         200                3   \n",
       "3212               500              550         200                3   \n",
       "3213               500              550         200                3   \n",
       "\n",
       "      rub_per_minute  \n",
       "0                  1  \n",
       "1                  1  \n",
       "2                  1  \n",
       "3                  1  \n",
       "4                  1  \n",
       "...              ...  \n",
       "3209               3  \n",
       "3210               3  \n",
       "3211               3  \n",
       "3212               3  \n",
       "3213               3  \n",
       "\n",
       "[3214 rows x 15 columns]"
      ]
     },
     "execution_count": 28,
     "metadata": {},
     "output_type": "execute_result"
    }
   ],
   "source": [
    "full_data = data.merge(tariffs, on=['tariff_name'], how='outer')\n",
    "full_data"
   ]
  },
  {
   "cell_type": "code",
   "execution_count": 29,
   "metadata": {
    "scrolled": true
   },
   "outputs": [
    {
     "data": {
      "text/html": [
       "<div>\n",
       "<style scoped>\n",
       "    .dataframe tbody tr th:only-of-type {\n",
       "        vertical-align: middle;\n",
       "    }\n",
       "\n",
       "    .dataframe tbody tr th {\n",
       "        vertical-align: top;\n",
       "    }\n",
       "\n",
       "    .dataframe thead th {\n",
       "        text-align: right;\n",
       "    }\n",
       "</style>\n",
       "<table border=\"1\" class=\"dataframe\">\n",
       "  <thead>\n",
       "    <tr style=\"text-align: right;\">\n",
       "      <th></th>\n",
       "      <th>user_id</th>\n",
       "      <th>month</th>\n",
       "      <th>calls_total</th>\n",
       "      <th>total_duration</th>\n",
       "      <th>messages_total</th>\n",
       "      <th>mb_used</th>\n",
       "      <th>messages_included</th>\n",
       "      <th>mb_per_month_included</th>\n",
       "      <th>minutes_included</th>\n",
       "      <th>rub_monthly_fee</th>\n",
       "      <th>rub_per_gb</th>\n",
       "      <th>rub_per_message</th>\n",
       "      <th>rub_per_minute</th>\n",
       "      <th>revenue</th>\n",
       "    </tr>\n",
       "  </thead>\n",
       "  <tbody>\n",
       "    <tr>\n",
       "      <th>count</th>\n",
       "      <td>3214.000000</td>\n",
       "      <td>3214.000000</td>\n",
       "      <td>3214.000000</td>\n",
       "      <td>3214.000000</td>\n",
       "      <td>3214.000000</td>\n",
       "      <td>3214.000000</td>\n",
       "      <td>3214.000000</td>\n",
       "      <td>3214.000000</td>\n",
       "      <td>3214.000000</td>\n",
       "      <td>3214.000000</td>\n",
       "      <td>3214.000000</td>\n",
       "      <td>3214.000000</td>\n",
       "      <td>3214.000000</td>\n",
       "      <td>3214.000000</td>\n",
       "    </tr>\n",
       "    <tr>\n",
       "      <th>mean</th>\n",
       "      <td>1251.590230</td>\n",
       "      <td>8.317362</td>\n",
       "      <td>50.713752</td>\n",
       "      <td>451.244866</td>\n",
       "      <td>38.281269</td>\n",
       "      <td>17207.612859</td>\n",
       "      <td>341.148102</td>\n",
       "      <td>20067.405103</td>\n",
       "      <td>1266.179216</td>\n",
       "      <td>979.060361</td>\n",
       "      <td>184.676416</td>\n",
       "      <td>2.387057</td>\n",
       "      <td>2.387057</td>\n",
       "      <td>1529.076229</td>\n",
       "    </tr>\n",
       "    <tr>\n",
       "      <th>std</th>\n",
       "      <td>144.659172</td>\n",
       "      <td>2.905413</td>\n",
       "      <td>26.951413</td>\n",
       "      <td>241.909978</td>\n",
       "      <td>36.148326</td>\n",
       "      <td>7570.958771</td>\n",
       "      <td>438.044726</td>\n",
       "      <td>7082.491569</td>\n",
       "      <td>1152.749279</td>\n",
       "      <td>645.539596</td>\n",
       "      <td>23.054986</td>\n",
       "      <td>0.922199</td>\n",
       "      <td>0.922199</td>\n",
       "      <td>798.251091</td>\n",
       "    </tr>\n",
       "    <tr>\n",
       "      <th>min</th>\n",
       "      <td>1000.000000</td>\n",
       "      <td>1.000000</td>\n",
       "      <td>0.000000</td>\n",
       "      <td>0.000000</td>\n",
       "      <td>0.000000</td>\n",
       "      <td>0.000000</td>\n",
       "      <td>50.000000</td>\n",
       "      <td>15360.000000</td>\n",
       "      <td>500.000000</td>\n",
       "      <td>550.000000</td>\n",
       "      <td>150.000000</td>\n",
       "      <td>1.000000</td>\n",
       "      <td>1.000000</td>\n",
       "      <td>550.000000</td>\n",
       "    </tr>\n",
       "    <tr>\n",
       "      <th>25%</th>\n",
       "      <td>1125.000000</td>\n",
       "      <td>6.000000</td>\n",
       "      <td>32.000000</td>\n",
       "      <td>282.000000</td>\n",
       "      <td>9.000000</td>\n",
       "      <td>12491.890000</td>\n",
       "      <td>50.000000</td>\n",
       "      <td>15360.000000</td>\n",
       "      <td>500.000000</td>\n",
       "      <td>550.000000</td>\n",
       "      <td>150.000000</td>\n",
       "      <td>1.000000</td>\n",
       "      <td>1.000000</td>\n",
       "      <td>750.000000</td>\n",
       "    </tr>\n",
       "    <tr>\n",
       "      <th>50%</th>\n",
       "      <td>1253.000000</td>\n",
       "      <td>9.000000</td>\n",
       "      <td>50.000000</td>\n",
       "      <td>443.000000</td>\n",
       "      <td>30.000000</td>\n",
       "      <td>16943.175000</td>\n",
       "      <td>50.000000</td>\n",
       "      <td>15360.000000</td>\n",
       "      <td>500.000000</td>\n",
       "      <td>550.000000</td>\n",
       "      <td>200.000000</td>\n",
       "      <td>3.000000</td>\n",
       "      <td>3.000000</td>\n",
       "      <td>1653.500000</td>\n",
       "    </tr>\n",
       "    <tr>\n",
       "      <th>75%</th>\n",
       "      <td>1378.750000</td>\n",
       "      <td>11.000000</td>\n",
       "      <td>66.000000</td>\n",
       "      <td>589.000000</td>\n",
       "      <td>57.000000</td>\n",
       "      <td>21424.625000</td>\n",
       "      <td>1000.000000</td>\n",
       "      <td>30720.000000</td>\n",
       "      <td>3000.000000</td>\n",
       "      <td>1950.000000</td>\n",
       "      <td>200.000000</td>\n",
       "      <td>3.000000</td>\n",
       "      <td>3.000000</td>\n",
       "      <td>1950.000000</td>\n",
       "    </tr>\n",
       "    <tr>\n",
       "      <th>max</th>\n",
       "      <td>1499.000000</td>\n",
       "      <td>12.000000</td>\n",
       "      <td>190.000000</td>\n",
       "      <td>1673.000000</td>\n",
       "      <td>224.000000</td>\n",
       "      <td>49745.690000</td>\n",
       "      <td>1000.000000</td>\n",
       "      <td>30720.000000</td>\n",
       "      <td>3000.000000</td>\n",
       "      <td>1950.000000</td>\n",
       "      <td>200.000000</td>\n",
       "      <td>3.000000</td>\n",
       "      <td>3.000000</td>\n",
       "      <td>6770.000000</td>\n",
       "    </tr>\n",
       "  </tbody>\n",
       "</table>\n",
       "</div>"
      ],
      "text/plain": [
       "           user_id        month  calls_total  total_duration  messages_total  \\\n",
       "count  3214.000000  3214.000000  3214.000000     3214.000000     3214.000000   \n",
       "mean   1251.590230     8.317362    50.713752      451.244866       38.281269   \n",
       "std     144.659172     2.905413    26.951413      241.909978       36.148326   \n",
       "min    1000.000000     1.000000     0.000000        0.000000        0.000000   \n",
       "25%    1125.000000     6.000000    32.000000      282.000000        9.000000   \n",
       "50%    1253.000000     9.000000    50.000000      443.000000       30.000000   \n",
       "75%    1378.750000    11.000000    66.000000      589.000000       57.000000   \n",
       "max    1499.000000    12.000000   190.000000     1673.000000      224.000000   \n",
       "\n",
       "            mb_used  messages_included  mb_per_month_included  \\\n",
       "count   3214.000000        3214.000000            3214.000000   \n",
       "mean   17207.612859         341.148102           20067.405103   \n",
       "std     7570.958771         438.044726            7082.491569   \n",
       "min        0.000000          50.000000           15360.000000   \n",
       "25%    12491.890000          50.000000           15360.000000   \n",
       "50%    16943.175000          50.000000           15360.000000   \n",
       "75%    21424.625000        1000.000000           30720.000000   \n",
       "max    49745.690000        1000.000000           30720.000000   \n",
       "\n",
       "       minutes_included  rub_monthly_fee   rub_per_gb  rub_per_message  \\\n",
       "count       3214.000000      3214.000000  3214.000000      3214.000000   \n",
       "mean        1266.179216       979.060361   184.676416         2.387057   \n",
       "std         1152.749279       645.539596    23.054986         0.922199   \n",
       "min          500.000000       550.000000   150.000000         1.000000   \n",
       "25%          500.000000       550.000000   150.000000         1.000000   \n",
       "50%          500.000000       550.000000   200.000000         3.000000   \n",
       "75%         3000.000000      1950.000000   200.000000         3.000000   \n",
       "max         3000.000000      1950.000000   200.000000         3.000000   \n",
       "\n",
       "       rub_per_minute      revenue  \n",
       "count     3214.000000  3214.000000  \n",
       "mean         2.387057  1529.076229  \n",
       "std          0.922199   798.251091  \n",
       "min          1.000000   550.000000  \n",
       "25%          1.000000   750.000000  \n",
       "50%          3.000000  1653.500000  \n",
       "75%          3.000000  1950.000000  \n",
       "max          3.000000  6770.000000  "
      ]
     },
     "execution_count": 29,
     "metadata": {},
     "output_type": "execute_result"
    }
   ],
   "source": [
    "def revenue_calculation(row):\n",
    "    messages_revenue = (row['messages_total'] - row['messages_included']) * row['rub_per_message'] \\\n",
    "    if row['messages_total'] > row['messages_included'] else 0\n",
    "    minutes_revenue = (row['total_duration'] - row['minutes_included']) * row['rub_per_minute'] \\\n",
    "    if row['total_duration'] > row['minutes_included'] else 0\n",
    "    mb_revenue = math.ceil((row['mb_used'] - row['mb_per_month_included']) / 1024) * row['rub_per_gb'] \\\n",
    "    if row['mb_used'] > row['mb_per_month_included'] else 0\n",
    "    return messages_revenue + minutes_revenue + mb_revenue + row['rub_monthly_fee']\n",
    "\n",
    "full_data['revenue'] = full_data.apply(revenue_calculation, axis=1)\n",
    "full_data.describe()"
   ]
  },
  {
   "cell_type": "code",
   "execution_count": 30,
   "metadata": {
    "scrolled": true
   },
   "outputs": [
    {
     "data": {
      "text/html": [
       "<div>\n",
       "<style scoped>\n",
       "    .dataframe tbody tr th:only-of-type {\n",
       "        vertical-align: middle;\n",
       "    }\n",
       "\n",
       "    .dataframe tbody tr th {\n",
       "        vertical-align: top;\n",
       "    }\n",
       "\n",
       "    .dataframe thead th {\n",
       "        text-align: right;\n",
       "    }\n",
       "</style>\n",
       "<table border=\"1\" class=\"dataframe\">\n",
       "  <thead>\n",
       "    <tr style=\"text-align: right;\">\n",
       "      <th></th>\n",
       "      <th>user_id</th>\n",
       "      <th>month</th>\n",
       "      <th>calls_total</th>\n",
       "      <th>total_duration</th>\n",
       "      <th>messages_total</th>\n",
       "      <th>mb_used</th>\n",
       "      <th>tariff_name</th>\n",
       "      <th>city</th>\n",
       "      <th>messages_included</th>\n",
       "      <th>mb_per_month_included</th>\n",
       "      <th>minutes_included</th>\n",
       "      <th>rub_monthly_fee</th>\n",
       "      <th>rub_per_gb</th>\n",
       "      <th>rub_per_message</th>\n",
       "      <th>rub_per_minute</th>\n",
       "      <th>revenue</th>\n",
       "    </tr>\n",
       "  </thead>\n",
       "  <tbody>\n",
       "    <tr>\n",
       "      <th>0</th>\n",
       "      <td>1000</td>\n",
       "      <td>5.0</td>\n",
       "      <td>17.0</td>\n",
       "      <td>159.0</td>\n",
       "      <td>22.0</td>\n",
       "      <td>2253.49</td>\n",
       "      <td>ultra</td>\n",
       "      <td>Краснодар</td>\n",
       "      <td>1000</td>\n",
       "      <td>30720</td>\n",
       "      <td>3000</td>\n",
       "      <td>1950</td>\n",
       "      <td>150</td>\n",
       "      <td>1</td>\n",
       "      <td>1</td>\n",
       "      <td>1950.0</td>\n",
       "    </tr>\n",
       "    <tr>\n",
       "      <th>1</th>\n",
       "      <td>1000</td>\n",
       "      <td>6.0</td>\n",
       "      <td>28.0</td>\n",
       "      <td>172.0</td>\n",
       "      <td>60.0</td>\n",
       "      <td>23233.77</td>\n",
       "      <td>ultra</td>\n",
       "      <td>Краснодар</td>\n",
       "      <td>1000</td>\n",
       "      <td>30720</td>\n",
       "      <td>3000</td>\n",
       "      <td>1950</td>\n",
       "      <td>150</td>\n",
       "      <td>1</td>\n",
       "      <td>1</td>\n",
       "      <td>1950.0</td>\n",
       "    </tr>\n",
       "    <tr>\n",
       "      <th>2</th>\n",
       "      <td>1000</td>\n",
       "      <td>7.0</td>\n",
       "      <td>41.0</td>\n",
       "      <td>340.0</td>\n",
       "      <td>75.0</td>\n",
       "      <td>14003.64</td>\n",
       "      <td>ultra</td>\n",
       "      <td>Краснодар</td>\n",
       "      <td>1000</td>\n",
       "      <td>30720</td>\n",
       "      <td>3000</td>\n",
       "      <td>1950</td>\n",
       "      <td>150</td>\n",
       "      <td>1</td>\n",
       "      <td>1</td>\n",
       "      <td>1950.0</td>\n",
       "    </tr>\n",
       "    <tr>\n",
       "      <th>3</th>\n",
       "      <td>1000</td>\n",
       "      <td>8.0</td>\n",
       "      <td>42.0</td>\n",
       "      <td>408.0</td>\n",
       "      <td>81.0</td>\n",
       "      <td>14055.93</td>\n",
       "      <td>ultra</td>\n",
       "      <td>Краснодар</td>\n",
       "      <td>1000</td>\n",
       "      <td>30720</td>\n",
       "      <td>3000</td>\n",
       "      <td>1950</td>\n",
       "      <td>150</td>\n",
       "      <td>1</td>\n",
       "      <td>1</td>\n",
       "      <td>1950.0</td>\n",
       "    </tr>\n",
       "    <tr>\n",
       "      <th>4</th>\n",
       "      <td>1000</td>\n",
       "      <td>9.0</td>\n",
       "      <td>46.0</td>\n",
       "      <td>466.0</td>\n",
       "      <td>57.0</td>\n",
       "      <td>14568.91</td>\n",
       "      <td>ultra</td>\n",
       "      <td>Краснодар</td>\n",
       "      <td>1000</td>\n",
       "      <td>30720</td>\n",
       "      <td>3000</td>\n",
       "      <td>1950</td>\n",
       "      <td>150</td>\n",
       "      <td>1</td>\n",
       "      <td>1</td>\n",
       "      <td>1950.0</td>\n",
       "    </tr>\n",
       "    <tr>\n",
       "      <th>...</th>\n",
       "      <td>...</td>\n",
       "      <td>...</td>\n",
       "      <td>...</td>\n",
       "      <td>...</td>\n",
       "      <td>...</td>\n",
       "      <td>...</td>\n",
       "      <td>...</td>\n",
       "      <td>...</td>\n",
       "      <td>...</td>\n",
       "      <td>...</td>\n",
       "      <td>...</td>\n",
       "      <td>...</td>\n",
       "      <td>...</td>\n",
       "      <td>...</td>\n",
       "      <td>...</td>\n",
       "      <td>...</td>\n",
       "    </tr>\n",
       "    <tr>\n",
       "      <th>3209</th>\n",
       "      <td>1489</td>\n",
       "      <td>8.0</td>\n",
       "      <td>0.0</td>\n",
       "      <td>0.0</td>\n",
       "      <td>17.0</td>\n",
       "      <td>11050.56</td>\n",
       "      <td>smart</td>\n",
       "      <td>Санкт-Петербург</td>\n",
       "      <td>50</td>\n",
       "      <td>15360</td>\n",
       "      <td>500</td>\n",
       "      <td>550</td>\n",
       "      <td>200</td>\n",
       "      <td>3</td>\n",
       "      <td>3</td>\n",
       "      <td>550.0</td>\n",
       "    </tr>\n",
       "    <tr>\n",
       "      <th>3210</th>\n",
       "      <td>1489</td>\n",
       "      <td>9.0</td>\n",
       "      <td>0.0</td>\n",
       "      <td>0.0</td>\n",
       "      <td>32.0</td>\n",
       "      <td>17206.30</td>\n",
       "      <td>smart</td>\n",
       "      <td>Санкт-Петербург</td>\n",
       "      <td>50</td>\n",
       "      <td>15360</td>\n",
       "      <td>500</td>\n",
       "      <td>550</td>\n",
       "      <td>200</td>\n",
       "      <td>3</td>\n",
       "      <td>3</td>\n",
       "      <td>950.0</td>\n",
       "    </tr>\n",
       "    <tr>\n",
       "      <th>3211</th>\n",
       "      <td>1489</td>\n",
       "      <td>10.0</td>\n",
       "      <td>0.0</td>\n",
       "      <td>0.0</td>\n",
       "      <td>21.0</td>\n",
       "      <td>19559.44</td>\n",
       "      <td>smart</td>\n",
       "      <td>Санкт-Петербург</td>\n",
       "      <td>50</td>\n",
       "      <td>15360</td>\n",
       "      <td>500</td>\n",
       "      <td>550</td>\n",
       "      <td>200</td>\n",
       "      <td>3</td>\n",
       "      <td>3</td>\n",
       "      <td>1550.0</td>\n",
       "    </tr>\n",
       "    <tr>\n",
       "      <th>3212</th>\n",
       "      <td>1489</td>\n",
       "      <td>11.0</td>\n",
       "      <td>0.0</td>\n",
       "      <td>0.0</td>\n",
       "      <td>20.0</td>\n",
       "      <td>17491.56</td>\n",
       "      <td>smart</td>\n",
       "      <td>Санкт-Петербург</td>\n",
       "      <td>50</td>\n",
       "      <td>15360</td>\n",
       "      <td>500</td>\n",
       "      <td>550</td>\n",
       "      <td>200</td>\n",
       "      <td>3</td>\n",
       "      <td>3</td>\n",
       "      <td>1150.0</td>\n",
       "    </tr>\n",
       "    <tr>\n",
       "      <th>3213</th>\n",
       "      <td>1489</td>\n",
       "      <td>12.0</td>\n",
       "      <td>0.0</td>\n",
       "      <td>0.0</td>\n",
       "      <td>35.0</td>\n",
       "      <td>17322.51</td>\n",
       "      <td>smart</td>\n",
       "      <td>Санкт-Петербург</td>\n",
       "      <td>50</td>\n",
       "      <td>15360</td>\n",
       "      <td>500</td>\n",
       "      <td>550</td>\n",
       "      <td>200</td>\n",
       "      <td>3</td>\n",
       "      <td>3</td>\n",
       "      <td>950.0</td>\n",
       "    </tr>\n",
       "  </tbody>\n",
       "</table>\n",
       "<p>3214 rows × 16 columns</p>\n",
       "</div>"
      ],
      "text/plain": [
       "      user_id  month  calls_total  total_duration  messages_total   mb_used  \\\n",
       "0        1000    5.0         17.0           159.0            22.0   2253.49   \n",
       "1        1000    6.0         28.0           172.0            60.0  23233.77   \n",
       "2        1000    7.0         41.0           340.0            75.0  14003.64   \n",
       "3        1000    8.0         42.0           408.0            81.0  14055.93   \n",
       "4        1000    9.0         46.0           466.0            57.0  14568.91   \n",
       "...       ...    ...          ...             ...             ...       ...   \n",
       "3209     1489    8.0          0.0             0.0            17.0  11050.56   \n",
       "3210     1489    9.0          0.0             0.0            32.0  17206.30   \n",
       "3211     1489   10.0          0.0             0.0            21.0  19559.44   \n",
       "3212     1489   11.0          0.0             0.0            20.0  17491.56   \n",
       "3213     1489   12.0          0.0             0.0            35.0  17322.51   \n",
       "\n",
       "     tariff_name             city  messages_included  mb_per_month_included  \\\n",
       "0          ultra        Краснодар               1000                  30720   \n",
       "1          ultra        Краснодар               1000                  30720   \n",
       "2          ultra        Краснодар               1000                  30720   \n",
       "3          ultra        Краснодар               1000                  30720   \n",
       "4          ultra        Краснодар               1000                  30720   \n",
       "...          ...              ...                ...                    ...   \n",
       "3209       smart  Санкт-Петербург                 50                  15360   \n",
       "3210       smart  Санкт-Петербург                 50                  15360   \n",
       "3211       smart  Санкт-Петербург                 50                  15360   \n",
       "3212       smart  Санкт-Петербург                 50                  15360   \n",
       "3213       smart  Санкт-Петербург                 50                  15360   \n",
       "\n",
       "      minutes_included  rub_monthly_fee  rub_per_gb  rub_per_message  \\\n",
       "0                 3000             1950         150                1   \n",
       "1                 3000             1950         150                1   \n",
       "2                 3000             1950         150                1   \n",
       "3                 3000             1950         150                1   \n",
       "4                 3000             1950         150                1   \n",
       "...                ...              ...         ...              ...   \n",
       "3209               500              550         200                3   \n",
       "3210               500              550         200                3   \n",
       "3211               500              550         200                3   \n",
       "3212               500              550         200                3   \n",
       "3213               500              550         200                3   \n",
       "\n",
       "      rub_per_minute  revenue  \n",
       "0                  1   1950.0  \n",
       "1                  1   1950.0  \n",
       "2                  1   1950.0  \n",
       "3                  1   1950.0  \n",
       "4                  1   1950.0  \n",
       "...              ...      ...  \n",
       "3209               3    550.0  \n",
       "3210               3    950.0  \n",
       "3211               3   1550.0  \n",
       "3212               3   1150.0  \n",
       "3213               3    950.0  \n",
       "\n",
       "[3214 rows x 16 columns]"
      ]
     },
     "execution_count": 30,
     "metadata": {},
     "output_type": "execute_result"
    }
   ],
   "source": [
    "full_data"
   ]
  },
  {
   "cell_type": "code",
   "execution_count": 31,
   "metadata": {},
   "outputs": [
    {
     "data": {
      "text/html": [
       "<div>\n",
       "<style scoped>\n",
       "    .dataframe tbody tr th:only-of-type {\n",
       "        vertical-align: middle;\n",
       "    }\n",
       "\n",
       "    .dataframe tbody tr th {\n",
       "        vertical-align: top;\n",
       "    }\n",
       "\n",
       "    .dataframe thead th {\n",
       "        text-align: right;\n",
       "    }\n",
       "</style>\n",
       "<table border=\"1\" class=\"dataframe\">\n",
       "  <thead>\n",
       "    <tr style=\"text-align: right;\">\n",
       "      <th></th>\n",
       "      <th>user_id</th>\n",
       "      <th>month</th>\n",
       "      <th>calls_total</th>\n",
       "      <th>total_duration</th>\n",
       "      <th>messages_total</th>\n",
       "      <th>mb_used</th>\n",
       "      <th>messages_included</th>\n",
       "      <th>mb_per_month_included</th>\n",
       "      <th>minutes_included</th>\n",
       "      <th>rub_monthly_fee</th>\n",
       "      <th>rub_per_gb</th>\n",
       "      <th>rub_per_message</th>\n",
       "      <th>rub_per_minute</th>\n",
       "      <th>revenue</th>\n",
       "    </tr>\n",
       "  </thead>\n",
       "  <tbody>\n",
       "    <tr>\n",
       "      <th>count</th>\n",
       "      <td>985.000000</td>\n",
       "      <td>985.000000</td>\n",
       "      <td>985.000000</td>\n",
       "      <td>985.000000</td>\n",
       "      <td>985.000000</td>\n",
       "      <td>985.000000</td>\n",
       "      <td>985.0</td>\n",
       "      <td>985.0</td>\n",
       "      <td>985.0</td>\n",
       "      <td>985.0</td>\n",
       "      <td>985.0</td>\n",
       "      <td>985.0</td>\n",
       "      <td>985.0</td>\n",
       "      <td>985.000000</td>\n",
       "    </tr>\n",
       "    <tr>\n",
       "      <th>mean</th>\n",
       "      <td>1263.094416</td>\n",
       "      <td>8.250761</td>\n",
       "      <td>59.236548</td>\n",
       "      <td>526.623350</td>\n",
       "      <td>49.363452</td>\n",
       "      <td>19468.805208</td>\n",
       "      <td>1000.0</td>\n",
       "      <td>30720.0</td>\n",
       "      <td>3000.0</td>\n",
       "      <td>1950.0</td>\n",
       "      <td>150.0</td>\n",
       "      <td>1.0</td>\n",
       "      <td>1.0</td>\n",
       "      <td>2070.152284</td>\n",
       "    </tr>\n",
       "    <tr>\n",
       "      <th>std</th>\n",
       "      <td>140.694908</td>\n",
       "      <td>2.871762</td>\n",
       "      <td>35.562722</td>\n",
       "      <td>317.606098</td>\n",
       "      <td>47.804457</td>\n",
       "      <td>10087.170752</td>\n",
       "      <td>0.0</td>\n",
       "      <td>0.0</td>\n",
       "      <td>0.0</td>\n",
       "      <td>0.0</td>\n",
       "      <td>0.0</td>\n",
       "      <td>0.0</td>\n",
       "      <td>0.0</td>\n",
       "      <td>376.187114</td>\n",
       "    </tr>\n",
       "    <tr>\n",
       "      <th>min</th>\n",
       "      <td>1000.000000</td>\n",
       "      <td>1.000000</td>\n",
       "      <td>0.000000</td>\n",
       "      <td>0.000000</td>\n",
       "      <td>0.000000</td>\n",
       "      <td>0.000000</td>\n",
       "      <td>1000.0</td>\n",
       "      <td>30720.0</td>\n",
       "      <td>3000.0</td>\n",
       "      <td>1950.0</td>\n",
       "      <td>150.0</td>\n",
       "      <td>1.0</td>\n",
       "      <td>1.0</td>\n",
       "      <td>1950.000000</td>\n",
       "    </tr>\n",
       "    <tr>\n",
       "      <th>25%</th>\n",
       "      <td>1143.000000</td>\n",
       "      <td>6.000000</td>\n",
       "      <td>33.000000</td>\n",
       "      <td>284.000000</td>\n",
       "      <td>6.000000</td>\n",
       "      <td>11770.260000</td>\n",
       "      <td>1000.0</td>\n",
       "      <td>30720.0</td>\n",
       "      <td>3000.0</td>\n",
       "      <td>1950.0</td>\n",
       "      <td>150.0</td>\n",
       "      <td>1.0</td>\n",
       "      <td>1.0</td>\n",
       "      <td>1950.000000</td>\n",
       "    </tr>\n",
       "    <tr>\n",
       "      <th>50%</th>\n",
       "      <td>1277.000000</td>\n",
       "      <td>9.000000</td>\n",
       "      <td>58.000000</td>\n",
       "      <td>518.000000</td>\n",
       "      <td>38.000000</td>\n",
       "      <td>19308.010000</td>\n",
       "      <td>1000.0</td>\n",
       "      <td>30720.0</td>\n",
       "      <td>3000.0</td>\n",
       "      <td>1950.0</td>\n",
       "      <td>150.0</td>\n",
       "      <td>1.0</td>\n",
       "      <td>1.0</td>\n",
       "      <td>1950.000000</td>\n",
       "    </tr>\n",
       "    <tr>\n",
       "      <th>75%</th>\n",
       "      <td>1381.000000</td>\n",
       "      <td>11.000000</td>\n",
       "      <td>84.000000</td>\n",
       "      <td>752.000000</td>\n",
       "      <td>79.000000</td>\n",
       "      <td>26837.690000</td>\n",
       "      <td>1000.0</td>\n",
       "      <td>30720.0</td>\n",
       "      <td>3000.0</td>\n",
       "      <td>1950.0</td>\n",
       "      <td>150.0</td>\n",
       "      <td>1.0</td>\n",
       "      <td>1.0</td>\n",
       "      <td>1950.000000</td>\n",
       "    </tr>\n",
       "    <tr>\n",
       "      <th>max</th>\n",
       "      <td>1495.000000</td>\n",
       "      <td>12.000000</td>\n",
       "      <td>190.000000</td>\n",
       "      <td>1673.000000</td>\n",
       "      <td>224.000000</td>\n",
       "      <td>49745.690000</td>\n",
       "      <td>1000.0</td>\n",
       "      <td>30720.0</td>\n",
       "      <td>3000.0</td>\n",
       "      <td>1950.0</td>\n",
       "      <td>150.0</td>\n",
       "      <td>1.0</td>\n",
       "      <td>1.0</td>\n",
       "      <td>4800.000000</td>\n",
       "    </tr>\n",
       "  </tbody>\n",
       "</table>\n",
       "</div>"
      ],
      "text/plain": [
       "           user_id       month  calls_total  total_duration  messages_total  \\\n",
       "count   985.000000  985.000000   985.000000      985.000000      985.000000   \n",
       "mean   1263.094416    8.250761    59.236548      526.623350       49.363452   \n",
       "std     140.694908    2.871762    35.562722      317.606098       47.804457   \n",
       "min    1000.000000    1.000000     0.000000        0.000000        0.000000   \n",
       "25%    1143.000000    6.000000    33.000000      284.000000        6.000000   \n",
       "50%    1277.000000    9.000000    58.000000      518.000000       38.000000   \n",
       "75%    1381.000000   11.000000    84.000000      752.000000       79.000000   \n",
       "max    1495.000000   12.000000   190.000000     1673.000000      224.000000   \n",
       "\n",
       "            mb_used  messages_included  mb_per_month_included  \\\n",
       "count    985.000000              985.0                  985.0   \n",
       "mean   19468.805208             1000.0                30720.0   \n",
       "std    10087.170752                0.0                    0.0   \n",
       "min        0.000000             1000.0                30720.0   \n",
       "25%    11770.260000             1000.0                30720.0   \n",
       "50%    19308.010000             1000.0                30720.0   \n",
       "75%    26837.690000             1000.0                30720.0   \n",
       "max    49745.690000             1000.0                30720.0   \n",
       "\n",
       "       minutes_included  rub_monthly_fee  rub_per_gb  rub_per_message  \\\n",
       "count             985.0            985.0       985.0            985.0   \n",
       "mean             3000.0           1950.0       150.0              1.0   \n",
       "std                 0.0              0.0         0.0              0.0   \n",
       "min              3000.0           1950.0       150.0              1.0   \n",
       "25%              3000.0           1950.0       150.0              1.0   \n",
       "50%              3000.0           1950.0       150.0              1.0   \n",
       "75%              3000.0           1950.0       150.0              1.0   \n",
       "max              3000.0           1950.0       150.0              1.0   \n",
       "\n",
       "       rub_per_minute      revenue  \n",
       "count           985.0   985.000000  \n",
       "mean              1.0  2070.152284  \n",
       "std               0.0   376.187114  \n",
       "min               1.0  1950.000000  \n",
       "25%               1.0  1950.000000  \n",
       "50%               1.0  1950.000000  \n",
       "75%               1.0  1950.000000  \n",
       "max               1.0  4800.000000  "
      ]
     },
     "execution_count": 31,
     "metadata": {},
     "output_type": "execute_result"
    }
   ],
   "source": [
    "data_ultra = full_data.query('tariff_name == \"ultra\"') # Выделим из полученного датафрейма только пользователей тарифа ultra\n",
    "data_ultra.describe()"
   ]
  },
  {
   "cell_type": "code",
   "execution_count": 32,
   "metadata": {},
   "outputs": [
    {
     "data": {
      "text/html": [
       "<div>\n",
       "<style scoped>\n",
       "    .dataframe tbody tr th:only-of-type {\n",
       "        vertical-align: middle;\n",
       "    }\n",
       "\n",
       "    .dataframe tbody tr th {\n",
       "        vertical-align: top;\n",
       "    }\n",
       "\n",
       "    .dataframe thead th {\n",
       "        text-align: right;\n",
       "    }\n",
       "</style>\n",
       "<table border=\"1\" class=\"dataframe\">\n",
       "  <thead>\n",
       "    <tr style=\"text-align: right;\">\n",
       "      <th></th>\n",
       "      <th>user_id</th>\n",
       "      <th>month</th>\n",
       "      <th>calls_total</th>\n",
       "      <th>total_duration</th>\n",
       "      <th>messages_total</th>\n",
       "      <th>mb_used</th>\n",
       "      <th>messages_included</th>\n",
       "      <th>mb_per_month_included</th>\n",
       "      <th>minutes_included</th>\n",
       "      <th>rub_monthly_fee</th>\n",
       "      <th>rub_per_gb</th>\n",
       "      <th>rub_per_message</th>\n",
       "      <th>rub_per_minute</th>\n",
       "      <th>revenue</th>\n",
       "    </tr>\n",
       "  </thead>\n",
       "  <tbody>\n",
       "    <tr>\n",
       "      <th>count</th>\n",
       "      <td>2229.000000</td>\n",
       "      <td>2229.000000</td>\n",
       "      <td>2229.000000</td>\n",
       "      <td>2229.000000</td>\n",
       "      <td>2229.000000</td>\n",
       "      <td>2229.000000</td>\n",
       "      <td>2229.0</td>\n",
       "      <td>2229.0</td>\n",
       "      <td>2229.0</td>\n",
       "      <td>2229.0</td>\n",
       "      <td>2229.0</td>\n",
       "      <td>2229.0</td>\n",
       "      <td>2229.0</td>\n",
       "      <td>2229.000000</td>\n",
       "    </tr>\n",
       "    <tr>\n",
       "      <th>mean</th>\n",
       "      <td>1246.506505</td>\n",
       "      <td>8.346792</td>\n",
       "      <td>46.947510</td>\n",
       "      <td>417.934948</td>\n",
       "      <td>33.384029</td>\n",
       "      <td>16208.386990</td>\n",
       "      <td>50.0</td>\n",
       "      <td>15360.0</td>\n",
       "      <td>500.0</td>\n",
       "      <td>550.0</td>\n",
       "      <td>200.0</td>\n",
       "      <td>3.0</td>\n",
       "      <td>3.0</td>\n",
       "      <td>1289.973531</td>\n",
       "    </tr>\n",
       "    <tr>\n",
       "      <th>std</th>\n",
       "      <td>146.119496</td>\n",
       "      <td>2.920316</td>\n",
       "      <td>21.039171</td>\n",
       "      <td>190.313730</td>\n",
       "      <td>28.227876</td>\n",
       "      <td>5870.476681</td>\n",
       "      <td>0.0</td>\n",
       "      <td>0.0</td>\n",
       "      <td>0.0</td>\n",
       "      <td>0.0</td>\n",
       "      <td>0.0</td>\n",
       "      <td>0.0</td>\n",
       "      <td>0.0</td>\n",
       "      <td>818.404367</td>\n",
       "    </tr>\n",
       "    <tr>\n",
       "      <th>min</th>\n",
       "      <td>1001.000000</td>\n",
       "      <td>1.000000</td>\n",
       "      <td>0.000000</td>\n",
       "      <td>0.000000</td>\n",
       "      <td>0.000000</td>\n",
       "      <td>0.000000</td>\n",
       "      <td>50.0</td>\n",
       "      <td>15360.0</td>\n",
       "      <td>500.0</td>\n",
       "      <td>550.0</td>\n",
       "      <td>200.0</td>\n",
       "      <td>3.0</td>\n",
       "      <td>3.0</td>\n",
       "      <td>550.000000</td>\n",
       "    </tr>\n",
       "    <tr>\n",
       "      <th>25%</th>\n",
       "      <td>1121.000000</td>\n",
       "      <td>6.000000</td>\n",
       "      <td>32.000000</td>\n",
       "      <td>282.000000</td>\n",
       "      <td>10.000000</td>\n",
       "      <td>12643.010000</td>\n",
       "      <td>50.0</td>\n",
       "      <td>15360.0</td>\n",
       "      <td>500.0</td>\n",
       "      <td>550.0</td>\n",
       "      <td>200.0</td>\n",
       "      <td>3.0</td>\n",
       "      <td>3.0</td>\n",
       "      <td>550.000000</td>\n",
       "    </tr>\n",
       "    <tr>\n",
       "      <th>50%</th>\n",
       "      <td>1239.000000</td>\n",
       "      <td>9.000000</td>\n",
       "      <td>47.000000</td>\n",
       "      <td>422.000000</td>\n",
       "      <td>28.000000</td>\n",
       "      <td>16506.840000</td>\n",
       "      <td>50.0</td>\n",
       "      <td>15360.0</td>\n",
       "      <td>500.0</td>\n",
       "      <td>550.0</td>\n",
       "      <td>200.0</td>\n",
       "      <td>3.0</td>\n",
       "      <td>3.0</td>\n",
       "      <td>1023.000000</td>\n",
       "    </tr>\n",
       "    <tr>\n",
       "      <th>75%</th>\n",
       "      <td>1376.000000</td>\n",
       "      <td>11.000000</td>\n",
       "      <td>61.000000</td>\n",
       "      <td>545.000000</td>\n",
       "      <td>51.000000</td>\n",
       "      <td>20042.930000</td>\n",
       "      <td>50.0</td>\n",
       "      <td>15360.0</td>\n",
       "      <td>500.0</td>\n",
       "      <td>550.0</td>\n",
       "      <td>200.0</td>\n",
       "      <td>3.0</td>\n",
       "      <td>3.0</td>\n",
       "      <td>1750.000000</td>\n",
       "    </tr>\n",
       "    <tr>\n",
       "      <th>max</th>\n",
       "      <td>1499.000000</td>\n",
       "      <td>12.000000</td>\n",
       "      <td>162.000000</td>\n",
       "      <td>1435.000000</td>\n",
       "      <td>143.000000</td>\n",
       "      <td>38552.450000</td>\n",
       "      <td>50.0</td>\n",
       "      <td>15360.0</td>\n",
       "      <td>500.0</td>\n",
       "      <td>550.0</td>\n",
       "      <td>200.0</td>\n",
       "      <td>3.0</td>\n",
       "      <td>3.0</td>\n",
       "      <td>6770.000000</td>\n",
       "    </tr>\n",
       "  </tbody>\n",
       "</table>\n",
       "</div>"
      ],
      "text/plain": [
       "           user_id        month  calls_total  total_duration  messages_total  \\\n",
       "count  2229.000000  2229.000000  2229.000000     2229.000000     2229.000000   \n",
       "mean   1246.506505     8.346792    46.947510      417.934948       33.384029   \n",
       "std     146.119496     2.920316    21.039171      190.313730       28.227876   \n",
       "min    1001.000000     1.000000     0.000000        0.000000        0.000000   \n",
       "25%    1121.000000     6.000000    32.000000      282.000000       10.000000   \n",
       "50%    1239.000000     9.000000    47.000000      422.000000       28.000000   \n",
       "75%    1376.000000    11.000000    61.000000      545.000000       51.000000   \n",
       "max    1499.000000    12.000000   162.000000     1435.000000      143.000000   \n",
       "\n",
       "            mb_used  messages_included  mb_per_month_included  \\\n",
       "count   2229.000000             2229.0                 2229.0   \n",
       "mean   16208.386990               50.0                15360.0   \n",
       "std     5870.476681                0.0                    0.0   \n",
       "min        0.000000               50.0                15360.0   \n",
       "25%    12643.010000               50.0                15360.0   \n",
       "50%    16506.840000               50.0                15360.0   \n",
       "75%    20042.930000               50.0                15360.0   \n",
       "max    38552.450000               50.0                15360.0   \n",
       "\n",
       "       minutes_included  rub_monthly_fee  rub_per_gb  rub_per_message  \\\n",
       "count            2229.0           2229.0      2229.0           2229.0   \n",
       "mean              500.0            550.0       200.0              3.0   \n",
       "std                 0.0              0.0         0.0              0.0   \n",
       "min               500.0            550.0       200.0              3.0   \n",
       "25%               500.0            550.0       200.0              3.0   \n",
       "50%               500.0            550.0       200.0              3.0   \n",
       "75%               500.0            550.0       200.0              3.0   \n",
       "max               500.0            550.0       200.0              3.0   \n",
       "\n",
       "       rub_per_minute      revenue  \n",
       "count          2229.0  2229.000000  \n",
       "mean              3.0  1289.973531  \n",
       "std               0.0   818.404367  \n",
       "min               3.0   550.000000  \n",
       "25%               3.0   550.000000  \n",
       "50%               3.0  1023.000000  \n",
       "75%               3.0  1750.000000  \n",
       "max               3.0  6770.000000  "
      ]
     },
     "execution_count": 32,
     "metadata": {},
     "output_type": "execute_result"
    }
   ],
   "source": [
    "data_smart = full_data.query('tariff_name == \"smart\"') # То же самое для пользователей тарифа smart\n",
    "data_smart.describe()"
   ]
  },
  {
   "cell_type": "markdown",
   "metadata": {},
   "source": [
    "Данные имеют выбросы, поэтому сравним медианы прибыли.\n",
    "\n",
    "- Пользователи тарифа `smart` чаще уходят за лимиты своего тарифа. Медианное значение выручки с пользователей данного тарифа - **958** рублей, что почти в два раза выше абонентской платы в 550 рублей. Пользователи тарифа `ultra`, наоборот, совсем редко уходят за лимиты. Медианное значение выручки с пользователей тарифа ultra равно абонентской плате за тариф - **1950** рублей.\n",
    "\n",
    "- По израсходованным минутам и смс пользователи обоих тарифов выходят за лимиты редко или вообще никогда.\n",
    "\n",
    "- Пользователи `smart` сильно переплачивают за интернет: они часто превышают лимит по гигабайтам на 1 - 5 гб, а в отдельных случаях на целых 23 гб. Один гигабайт сверх лимита стоит 200 рублей, отсюда и выручка."
   ]
  },
  {
   "cell_type": "code",
   "execution_count": 33,
   "metadata": {},
   "outputs": [
    {
     "data": {
      "text/plain": [
       "4914451.0"
      ]
     },
     "execution_count": 33,
     "metadata": {},
     "output_type": "execute_result"
    }
   ],
   "source": [
    "# check\n",
    "full_data['revenue'].sum()"
   ]
  },
  {
   "cell_type": "code",
   "execution_count": 34,
   "metadata": {},
   "outputs": [
    {
     "data": {
      "text/html": [
       "<div>\n",
       "<style scoped>\n",
       "    .dataframe tbody tr th:only-of-type {\n",
       "        vertical-align: middle;\n",
       "    }\n",
       "\n",
       "    .dataframe tbody tr th {\n",
       "        vertical-align: top;\n",
       "    }\n",
       "\n",
       "    .dataframe thead th {\n",
       "        text-align: right;\n",
       "    }\n",
       "</style>\n",
       "<table border=\"1\" class=\"dataframe\">\n",
       "  <thead>\n",
       "    <tr style=\"text-align: right;\">\n",
       "      <th></th>\n",
       "      <th>user_id</th>\n",
       "      <th>month</th>\n",
       "      <th>total_duration</th>\n",
       "      <th>messages_total</th>\n",
       "      <th>mb_used</th>\n",
       "      <th>tariff_name</th>\n",
       "      <th>city</th>\n",
       "      <th>revenue</th>\n",
       "    </tr>\n",
       "  </thead>\n",
       "  <tbody>\n",
       "    <tr>\n",
       "      <th>3196</th>\n",
       "      <td>1496</td>\n",
       "      <td>11.0</td>\n",
       "      <td>662.0</td>\n",
       "      <td>46.0</td>\n",
       "      <td>25063.40</td>\n",
       "      <td>smart</td>\n",
       "      <td>Вологда</td>\n",
       "      <td>3036.0</td>\n",
       "    </tr>\n",
       "    <tr>\n",
       "      <th>3197</th>\n",
       "      <td>1496</td>\n",
       "      <td>12.0</td>\n",
       "      <td>518.0</td>\n",
       "      <td>51.0</td>\n",
       "      <td>20736.15</td>\n",
       "      <td>smart</td>\n",
       "      <td>Вологда</td>\n",
       "      <td>1807.0</td>\n",
       "    </tr>\n",
       "    <tr>\n",
       "      <th>3200</th>\n",
       "      <td>1497</td>\n",
       "      <td>12.0</td>\n",
       "      <td>545.0</td>\n",
       "      <td>17.0</td>\n",
       "      <td>19918.60</td>\n",
       "      <td>smart</td>\n",
       "      <td>Челябинск</td>\n",
       "      <td>1685.0</td>\n",
       "    </tr>\n",
       "    <tr>\n",
       "      <th>3207</th>\n",
       "      <td>1499</td>\n",
       "      <td>11.0</td>\n",
       "      <td>612.0</td>\n",
       "      <td>59.0</td>\n",
       "      <td>17963.31</td>\n",
       "      <td>smart</td>\n",
       "      <td>Пермь</td>\n",
       "      <td>1513.0</td>\n",
       "    </tr>\n",
       "  </tbody>\n",
       "</table>\n",
       "</div>"
      ],
      "text/plain": [
       "      user_id  month  total_duration  messages_total   mb_used tariff_name  \\\n",
       "3196     1496   11.0           662.0            46.0  25063.40       smart   \n",
       "3197     1496   12.0           518.0            51.0  20736.15       smart   \n",
       "3200     1497   12.0           545.0            17.0  19918.60       smart   \n",
       "3207     1499   11.0           612.0            59.0  17963.31       smart   \n",
       "\n",
       "           city  revenue  \n",
       "3196    Вологда   3036.0  \n",
       "3197    Вологда   1807.0  \n",
       "3200  Челябинск   1685.0  \n",
       "3207      Пермь   1513.0  "
      ]
     },
     "execution_count": 34,
     "metadata": {},
     "output_type": "execute_result"
    }
   ],
   "source": [
    "# check\n",
    "full_data[full_data['total_duration'] > 500][['user_id', 'month', 'total_duration', 'messages_total',\n",
    "       'mb_used', 'tariff_name', 'city',  'revenue']].tail(4)"
   ]
  },
  {
   "cell_type": "markdown",
   "metadata": {},
   "source": [
    "### Анализ полученных данных"
   ]
  },
  {
   "cell_type": "markdown",
   "metadata": {},
   "source": [
    "Визуализируем полученные данные о пользователях обоих тарифов:"
   ]
  },
  {
   "cell_type": "code",
   "execution_count": 35,
   "metadata": {},
   "outputs": [],
   "source": [
    "# Напишем функцию для вывода графиков и нужной информации под ними\n",
    "\n",
    "def graph(column_name, ylabel_name, xlabel_name, title_name): \n",
    "    plt.figure(figsize=(12, 5))\n",
    "    plt.hist(data_smart[column_name], bins=120, alpha=0.5, label='smart', color='green')\n",
    "    plt.hist(data_ultra[column_name], bins=120, alpha=0.5, label='ultra', color='red')\n",
    "    plt.legend(loc='upper right')\n",
    "    plt.ylabel(ylabel_name)\n",
    "    plt.xlabel(xlabel_name)\n",
    "    plt.title(title_name)\n",
    "    plt.grid()\n",
    "    plt.show()\n",
    "    display(data_smart.groupby('tariff_name').agg({column_name:['median','mean','var','std']}).round(2))\n",
    "    display(data_ultra.groupby('tariff_name')[column_name].agg(['median','mean','var','std']).round(2))"
   ]
  },
  {
   "cell_type": "code",
   "execution_count": 36,
   "metadata": {},
   "outputs": [
    {
     "data": {
      "image/png": "[encoded data removed]",
      "text/plain": [
       "<Figure size 864x360 with 1 Axes>"
      ]
     },
     "metadata": {
      "needs_background": "light"
     },
     "output_type": "display_data"
    },
    {
     "data": {
      "text/html": [
       "<div>\n",
       "<style scoped>\n",
       "    .dataframe tbody tr th:only-of-type {\n",
       "        vertical-align: middle;\n",
       "    }\n",
       "\n",
       "    .dataframe tbody tr th {\n",
       "        vertical-align: top;\n",
       "    }\n",
       "\n",
       "    .dataframe thead tr th {\n",
       "        text-align: left;\n",
       "    }\n",
       "\n",
       "    .dataframe thead tr:last-of-type th {\n",
       "        text-align: right;\n",
       "    }\n",
       "</style>\n",
       "<table border=\"1\" class=\"dataframe\">\n",
       "  <thead>\n",
       "    <tr>\n",
       "      <th></th>\n",
       "      <th colspan=\"4\" halign=\"left\">total_duration</th>\n",
       "    </tr>\n",
       "    <tr>\n",
       "      <th></th>\n",
       "      <th>median</th>\n",
       "      <th>mean</th>\n",
       "      <th>var</th>\n",
       "      <th>std</th>\n",
       "    </tr>\n",
       "    <tr>\n",
       "      <th>tariff_name</th>\n",
       "      <th></th>\n",
       "      <th></th>\n",
       "      <th></th>\n",
       "      <th></th>\n",
       "    </tr>\n",
       "  </thead>\n",
       "  <tbody>\n",
       "    <tr>\n",
       "      <th>smart</th>\n",
       "      <td>422.0</td>\n",
       "      <td>417.93</td>\n",
       "      <td>36219.32</td>\n",
       "      <td>190.31</td>\n",
       "    </tr>\n",
       "  </tbody>\n",
       "</table>\n",
       "</div>"
      ],
      "text/plain": [
       "            total_duration                          \n",
       "                    median    mean       var     std\n",
       "tariff_name                                         \n",
       "smart                422.0  417.93  36219.32  190.31"
      ]
     },
     "metadata": {},
     "output_type": "display_data"
    },
    {
     "data": {
      "text/html": [
       "<div>\n",
       "<style scoped>\n",
       "    .dataframe tbody tr th:only-of-type {\n",
       "        vertical-align: middle;\n",
       "    }\n",
       "\n",
       "    .dataframe tbody tr th {\n",
       "        vertical-align: top;\n",
       "    }\n",
       "\n",
       "    .dataframe thead th {\n",
       "        text-align: right;\n",
       "    }\n",
       "</style>\n",
       "<table border=\"1\" class=\"dataframe\">\n",
       "  <thead>\n",
       "    <tr style=\"text-align: right;\">\n",
       "      <th></th>\n",
       "      <th>median</th>\n",
       "      <th>mean</th>\n",
       "      <th>var</th>\n",
       "      <th>std</th>\n",
       "    </tr>\n",
       "    <tr>\n",
       "      <th>tariff_name</th>\n",
       "      <th></th>\n",
       "      <th></th>\n",
       "      <th></th>\n",
       "      <th></th>\n",
       "    </tr>\n",
       "  </thead>\n",
       "  <tbody>\n",
       "    <tr>\n",
       "      <th>ultra</th>\n",
       "      <td>518.0</td>\n",
       "      <td>526.62</td>\n",
       "      <td>100873.63</td>\n",
       "      <td>317.61</td>\n",
       "    </tr>\n",
       "  </tbody>\n",
       "</table>\n",
       "</div>"
      ],
      "text/plain": [
       "             median    mean        var     std\n",
       "tariff_name                                   \n",
       "ultra         518.0  526.62  100873.63  317.61"
      ]
     },
     "metadata": {},
     "output_type": "display_data"
    }
   ],
   "source": [
    "# Строим графики распределения минут звонков за месяц\n",
    " \n",
    "graph('total_duration', 'Количество пользователей', 'Минуты', 'Минуты звонков за месяц')"
   ]
  },
  {
   "cell_type": "markdown",
   "metadata": {},
   "source": [
    "Для тарифа `smart` наблюдается нормальное распределение , а вот у тарифа `ultra` большой показатель дисперсии, поэтому гистограмма растянута."
   ]
  },
  {
   "cell_type": "code",
   "execution_count": 37,
   "metadata": {},
   "outputs": [
    {
     "data": {
      "image/png": "[encoded data removed]",
      "text/plain": [
       "<Figure size 864x360 with 1 Axes>"
      ]
     },
     "metadata": {
      "needs_background": "light"
     },
     "output_type": "display_data"
    },
    {
     "data": {
      "text/html": [
       "<div>\n",
       "<style scoped>\n",
       "    .dataframe tbody tr th:only-of-type {\n",
       "        vertical-align: middle;\n",
       "    }\n",
       "\n",
       "    .dataframe tbody tr th {\n",
       "        vertical-align: top;\n",
       "    }\n",
       "\n",
       "    .dataframe thead tr th {\n",
       "        text-align: left;\n",
       "    }\n",
       "\n",
       "    .dataframe thead tr:last-of-type th {\n",
       "        text-align: right;\n",
       "    }\n",
       "</style>\n",
       "<table border=\"1\" class=\"dataframe\">\n",
       "  <thead>\n",
       "    <tr>\n",
       "      <th></th>\n",
       "      <th colspan=\"4\" halign=\"left\">messages_total</th>\n",
       "    </tr>\n",
       "    <tr>\n",
       "      <th></th>\n",
       "      <th>median</th>\n",
       "      <th>mean</th>\n",
       "      <th>var</th>\n",
       "      <th>std</th>\n",
       "    </tr>\n",
       "    <tr>\n",
       "      <th>tariff_name</th>\n",
       "      <th></th>\n",
       "      <th></th>\n",
       "      <th></th>\n",
       "      <th></th>\n",
       "    </tr>\n",
       "  </thead>\n",
       "  <tbody>\n",
       "    <tr>\n",
       "      <th>smart</th>\n",
       "      <td>28.0</td>\n",
       "      <td>33.38</td>\n",
       "      <td>796.81</td>\n",
       "      <td>28.23</td>\n",
       "    </tr>\n",
       "  </tbody>\n",
       "</table>\n",
       "</div>"
      ],
      "text/plain": [
       "            messages_total                      \n",
       "                    median   mean     var    std\n",
       "tariff_name                                     \n",
       "smart                 28.0  33.38  796.81  28.23"
      ]
     },
     "metadata": {},
     "output_type": "display_data"
    },
    {
     "data": {
      "text/html": [
       "<div>\n",
       "<style scoped>\n",
       "    .dataframe tbody tr th:only-of-type {\n",
       "        vertical-align: middle;\n",
       "    }\n",
       "\n",
       "    .dataframe tbody tr th {\n",
       "        vertical-align: top;\n",
       "    }\n",
       "\n",
       "    .dataframe thead th {\n",
       "        text-align: right;\n",
       "    }\n",
       "</style>\n",
       "<table border=\"1\" class=\"dataframe\">\n",
       "  <thead>\n",
       "    <tr style=\"text-align: right;\">\n",
       "      <th></th>\n",
       "      <th>median</th>\n",
       "      <th>mean</th>\n",
       "      <th>var</th>\n",
       "      <th>std</th>\n",
       "    </tr>\n",
       "    <tr>\n",
       "      <th>tariff_name</th>\n",
       "      <th></th>\n",
       "      <th></th>\n",
       "      <th></th>\n",
       "      <th></th>\n",
       "    </tr>\n",
       "  </thead>\n",
       "  <tbody>\n",
       "    <tr>\n",
       "      <th>ultra</th>\n",
       "      <td>38.0</td>\n",
       "      <td>49.36</td>\n",
       "      <td>2285.27</td>\n",
       "      <td>47.8</td>\n",
       "    </tr>\n",
       "  </tbody>\n",
       "</table>\n",
       "</div>"
      ],
      "text/plain": [
       "             median   mean      var   std\n",
       "tariff_name                              \n",
       "ultra          38.0  49.36  2285.27  47.8"
      ]
     },
     "metadata": {},
     "output_type": "display_data"
    }
   ],
   "source": [
    "# Строим графики распределения отправленных сообщений за месяц\n",
    " \n",
    "graph('messages_total', 'Количество пользователей', 'Сообщения', 'Количество сообщений за месяц')"
   ]
  },
  {
   "cell_type": "markdown",
   "metadata": {},
   "source": [
    "Оба графика скошены вправо, это нормальное распределение. Всё в порядке."
   ]
  },
  {
   "cell_type": "code",
   "execution_count": 38,
   "metadata": {},
   "outputs": [],
   "source": [
    "def gb_col(row):\n",
    "    gb_used = math.ceil(row['mb_used'] / 1024)\n",
    "    return gb_used"
   ]
  },
  {
   "cell_type": "code",
   "execution_count": 39,
   "metadata": {},
   "outputs": [
    {
     "name": "stderr",
     "output_type": "stream",
     "text": [
      "/tmp/ipykernel_104/246579581.py:1: SettingWithCopyWarning: \n",
      "A value is trying to be set on a copy of a slice from a DataFrame.\n",
      "Try using .loc[row_indexer,col_indexer] = value instead\n",
      "\n",
      "See the caveats in the documentation: https://pandas.pydata.org/pandas-docs/stable/user_guide/indexing.html#returning-a-view-versus-a-copy\n",
      "  data_smart['gb_used'] = data_smart.apply(gb_col, axis=1)\n",
      "/tmp/ipykernel_104/246579581.py:2: SettingWithCopyWarning: \n",
      "A value is trying to be set on a copy of a slice from a DataFrame.\n",
      "Try using .loc[row_indexer,col_indexer] = value instead\n",
      "\n",
      "See the caveats in the documentation: https://pandas.pydata.org/pandas-docs/stable/user_guide/indexing.html#returning-a-view-versus-a-copy\n",
      "  data_ultra['gb_used'] = data_ultra.apply(gb_col, axis=1)\n"
     ]
    }
   ],
   "source": [
    "data_smart['gb_used'] = data_smart.apply(gb_col, axis=1)\n",
    "data_ultra['gb_used'] = data_ultra.apply(gb_col, axis=1)"
   ]
  },
  {
   "cell_type": "code",
   "execution_count": 40,
   "metadata": {},
   "outputs": [
    {
     "data": {
      "image/png": "[encoded data removed]",
      "text/plain": [
       "<Figure size 864x360 with 1 Axes>"
      ]
     },
     "metadata": {
      "needs_background": "light"
     },
     "output_type": "display_data"
    },
    {
     "data": {
      "text/html": [
       "<div>\n",
       "<style scoped>\n",
       "    .dataframe tbody tr th:only-of-type {\n",
       "        vertical-align: middle;\n",
       "    }\n",
       "\n",
       "    .dataframe tbody tr th {\n",
       "        vertical-align: top;\n",
       "    }\n",
       "\n",
       "    .dataframe thead tr th {\n",
       "        text-align: left;\n",
       "    }\n",
       "\n",
       "    .dataframe thead tr:last-of-type th {\n",
       "        text-align: right;\n",
       "    }\n",
       "</style>\n",
       "<table border=\"1\" class=\"dataframe\">\n",
       "  <thead>\n",
       "    <tr>\n",
       "      <th></th>\n",
       "      <th colspan=\"4\" halign=\"left\">gb_used</th>\n",
       "    </tr>\n",
       "    <tr>\n",
       "      <th></th>\n",
       "      <th>median</th>\n",
       "      <th>mean</th>\n",
       "      <th>var</th>\n",
       "      <th>std</th>\n",
       "    </tr>\n",
       "    <tr>\n",
       "      <th>tariff_name</th>\n",
       "      <th></th>\n",
       "      <th></th>\n",
       "      <th></th>\n",
       "      <th></th>\n",
       "    </tr>\n",
       "  </thead>\n",
       "  <tbody>\n",
       "    <tr>\n",
       "      <th>smart</th>\n",
       "      <td>17</td>\n",
       "      <td>16.33</td>\n",
       "      <td>33.03</td>\n",
       "      <td>5.75</td>\n",
       "    </tr>\n",
       "  </tbody>\n",
       "</table>\n",
       "</div>"
      ],
      "text/plain": [
       "            gb_used                    \n",
       "             median   mean    var   std\n",
       "tariff_name                            \n",
       "smart            17  16.33  33.03  5.75"
      ]
     },
     "metadata": {},
     "output_type": "display_data"
    },
    {
     "data": {
      "text/html": [
       "<div>\n",
       "<style scoped>\n",
       "    .dataframe tbody tr th:only-of-type {\n",
       "        vertical-align: middle;\n",
       "    }\n",
       "\n",
       "    .dataframe tbody tr th {\n",
       "        vertical-align: top;\n",
       "    }\n",
       "\n",
       "    .dataframe thead th {\n",
       "        text-align: right;\n",
       "    }\n",
       "</style>\n",
       "<table border=\"1\" class=\"dataframe\">\n",
       "  <thead>\n",
       "    <tr style=\"text-align: right;\">\n",
       "      <th></th>\n",
       "      <th>median</th>\n",
       "      <th>mean</th>\n",
       "      <th>var</th>\n",
       "      <th>std</th>\n",
       "    </tr>\n",
       "    <tr>\n",
       "      <th>tariff_name</th>\n",
       "      <th></th>\n",
       "      <th></th>\n",
       "      <th></th>\n",
       "      <th></th>\n",
       "    </tr>\n",
       "  </thead>\n",
       "  <tbody>\n",
       "    <tr>\n",
       "      <th>ultra</th>\n",
       "      <td>19</td>\n",
       "      <td>19.49</td>\n",
       "      <td>97.09</td>\n",
       "      <td>9.85</td>\n",
       "    </tr>\n",
       "  </tbody>\n",
       "</table>\n",
       "</div>"
      ],
      "text/plain": [
       "             median   mean    var   std\n",
       "tariff_name                            \n",
       "ultra            19  19.49  97.09  9.85"
      ]
     },
     "metadata": {},
     "output_type": "display_data"
    }
   ],
   "source": [
    "# Строим графики распределения потраченных гигабайт интернет-трафика за месяц\n",
    "\n",
    "graph('gb_used', 'Количество пользователей', 'Гигабайты', 'Интернет-трафик за месяц')"
   ]
  },
  {
   "cell_type": "markdown",
   "metadata": {},
   "source": [
    "Нормальное распределение у обоих тарифов, но у `ultra` снова большая дисперсия."
   ]
  },
  {
   "cell_type": "code",
   "execution_count": 41,
   "metadata": {},
   "outputs": [
    {
     "data": {
      "image/png": "[encoded data removed]",
      "text/plain": [
       "<Figure size 864x360 with 1 Axes>"
      ]
     },
     "metadata": {
      "needs_background": "light"
     },
     "output_type": "display_data"
    },
    {
     "data": {
      "text/html": [
       "<div>\n",
       "<style scoped>\n",
       "    .dataframe tbody tr th:only-of-type {\n",
       "        vertical-align: middle;\n",
       "    }\n",
       "\n",
       "    .dataframe tbody tr th {\n",
       "        vertical-align: top;\n",
       "    }\n",
       "\n",
       "    .dataframe thead tr th {\n",
       "        text-align: left;\n",
       "    }\n",
       "\n",
       "    .dataframe thead tr:last-of-type th {\n",
       "        text-align: right;\n",
       "    }\n",
       "</style>\n",
       "<table border=\"1\" class=\"dataframe\">\n",
       "  <thead>\n",
       "    <tr>\n",
       "      <th></th>\n",
       "      <th colspan=\"4\" halign=\"left\">revenue</th>\n",
       "    </tr>\n",
       "    <tr>\n",
       "      <th></th>\n",
       "      <th>median</th>\n",
       "      <th>mean</th>\n",
       "      <th>var</th>\n",
       "      <th>std</th>\n",
       "    </tr>\n",
       "    <tr>\n",
       "      <th>tariff_name</th>\n",
       "      <th></th>\n",
       "      <th></th>\n",
       "      <th></th>\n",
       "      <th></th>\n",
       "    </tr>\n",
       "  </thead>\n",
       "  <tbody>\n",
       "    <tr>\n",
       "      <th>smart</th>\n",
       "      <td>1023.0</td>\n",
       "      <td>1289.97</td>\n",
       "      <td>669785.71</td>\n",
       "      <td>818.4</td>\n",
       "    </tr>\n",
       "  </tbody>\n",
       "</table>\n",
       "</div>"
      ],
      "text/plain": [
       "            revenue                           \n",
       "             median     mean        var    std\n",
       "tariff_name                                   \n",
       "smart        1023.0  1289.97  669785.71  818.4"
      ]
     },
     "metadata": {},
     "output_type": "display_data"
    },
    {
     "data": {
      "text/html": [
       "<div>\n",
       "<style scoped>\n",
       "    .dataframe tbody tr th:only-of-type {\n",
       "        vertical-align: middle;\n",
       "    }\n",
       "\n",
       "    .dataframe tbody tr th {\n",
       "        vertical-align: top;\n",
       "    }\n",
       "\n",
       "    .dataframe thead th {\n",
       "        text-align: right;\n",
       "    }\n",
       "</style>\n",
       "<table border=\"1\" class=\"dataframe\">\n",
       "  <thead>\n",
       "    <tr style=\"text-align: right;\">\n",
       "      <th></th>\n",
       "      <th>median</th>\n",
       "      <th>mean</th>\n",
       "      <th>var</th>\n",
       "      <th>std</th>\n",
       "    </tr>\n",
       "    <tr>\n",
       "      <th>tariff_name</th>\n",
       "      <th></th>\n",
       "      <th></th>\n",
       "      <th></th>\n",
       "      <th></th>\n",
       "    </tr>\n",
       "  </thead>\n",
       "  <tbody>\n",
       "    <tr>\n",
       "      <th>ultra</th>\n",
       "      <td>1950.0</td>\n",
       "      <td>2070.15</td>\n",
       "      <td>141516.75</td>\n",
       "      <td>376.19</td>\n",
       "    </tr>\n",
       "  </tbody>\n",
       "</table>\n",
       "</div>"
      ],
      "text/plain": [
       "             median     mean        var     std\n",
       "tariff_name                                    \n",
       "ultra        1950.0  2070.15  141516.75  376.19"
      ]
     },
     "metadata": {},
     "output_type": "display_data"
    }
   ],
   "source": [
    "# Строим графики распределения дохода с пользователей за месяц\n",
    " \n",
    "graph('revenue', 'Количество пользователей', 'Прибыль', 'Доход с пользователя за месяц')"
   ]
  },
  {
   "cell_type": "markdown",
   "metadata": {},
   "source": [
    "График подтверждает выводы в предыдущем пункте.\n",
    "\n",
    "Пользователи `ultra` в основном платят только абонентскую плату и редко превышают эту сумму, чего не скажешь о пользователях `smart` - значительная доля пользователей уходит за лимиты и переплачивает за тариф, иногда даже больше, чем стоит тариф ultra."
   ]
  },
  {
   "cell_type": "markdown",
   "metadata": {},
   "source": [
    "## Проверка гипотез"
   ]
  },
  {
   "cell_type": "markdown",
   "metadata": {},
   "source": [
    "### Статистический анализ"
   ]
  },
  {
   "cell_type": "markdown",
   "metadata": {},
   "source": [
    "Перед тем, как поверять гипотезы, необходимо исключить из данных выбросы. Посмотрим на выбросы при помощи диаграммы размаха."
   ]
  },
  {
   "cell_type": "code",
   "execution_count": 42,
   "metadata": {},
   "outputs": [
    {
     "data": {
      "image/png": "[encoded data removed]",
      "text/plain": [
       "<Figure size 432x288 with 1 Axes>"
      ]
     },
     "metadata": {
      "needs_background": "light"
     },
     "output_type": "display_data"
    }
   ],
   "source": [
    "data_smart.boxplot(column='revenue') \n",
    "plt.show()"
   ]
  },
  {
   "cell_type": "code",
   "execution_count": 43,
   "metadata": {},
   "outputs": [
    {
     "data": {
      "image/png": "[encoded data removed]",
      "text/plain": [
       "<Figure size 432x288 with 1 Axes>"
      ]
     },
     "metadata": {
      "needs_background": "light"
     },
     "output_type": "display_data"
    }
   ],
   "source": [
    "data_ultra.boxplot(column='revenue') \n",
    "plt.show()"
   ]
  },
  {
   "cell_type": "markdown",
   "metadata": {},
   "source": [
    "Избавиться от выбросов можно, применив правило трёх сигм:"
   ]
  },
  {
   "cell_type": "code",
   "execution_count": 44,
   "metadata": {},
   "outputs": [
    {
     "data": {
      "image/png": "[encoded data removed]",
      "text/plain": [
       "<Figure size 432x288 with 1 Axes>"
      ]
     },
     "metadata": {
      "needs_background": "light"
     },
     "output_type": "display_data"
    }
   ],
   "source": [
    "upper_limit_smart = np.mean(data_smart['revenue']) + 3 * np.std(data_smart['revenue'])\n",
    "lower_limit_smart = np.mean(data_smart['revenue']) - 3 * np.std(data_smart['revenue'])\n",
    "data_smart = data_smart.query('@upper_limit_smart >= revenue >= @lower_limit_smart')\n",
    "\n",
    "# Проверим, ушли ли выбросы\n",
    "\n",
    "data_smart.boxplot(column='revenue') \n",
    "plt.show()"
   ]
  },
  {
   "cell_type": "code",
   "execution_count": 45,
   "metadata": {},
   "outputs": [
    {
     "data": {
      "image/png": "[encoded data removed]",
      "text/plain": [
       "<Figure size 432x288 with 1 Axes>"
      ]
     },
     "metadata": {
      "needs_background": "light"
     },
     "output_type": "display_data"
    }
   ],
   "source": [
    "upper_limit_ultra = np.mean(data_ultra['revenue']) + 3 * np.std(data_ultra['revenue'])\n",
    "lower_limit_ultra = np.mean(data_ultra['revenue']) - 3 * np.std(data_ultra['revenue'])\n",
    "data_ultra = data_ultra.query('@upper_limit_ultra >= revenue >= @lower_limit_ultra')\n",
    "\n",
    "data_ultra.boxplot(column='revenue') \n",
    "plt.show()"
   ]
  },
  {
   "cell_type": "markdown",
   "metadata": {},
   "source": [
    "Теперь данные имеют в себе меньше выбросов."
   ]
  },
  {
   "cell_type": "code",
   "execution_count": 46,
   "metadata": {},
   "outputs": [
    {
     "data": {
      "text/plain": [
       "(951, 17)"
      ]
     },
     "execution_count": 46,
     "metadata": {},
     "output_type": "execute_result"
    }
   ],
   "source": [
    "data_ultra.shape"
   ]
  },
  {
   "cell_type": "markdown",
   "metadata": {},
   "source": [
    "### Первая гипотеза. \"Смарт\" против \"Ультра\""
   ]
  },
  {
   "cell_type": "markdown",
   "metadata": {},
   "source": [
    "- H0: Средняя выручка с пользователей тарифов «Ультра» и «Смарт» одинакова;\n",
    "- H1: Средняя выручка с пользователей тарифов «Ультра» и «Смарт» различается."
   ]
  },
  {
   "cell_type": "markdown",
   "metadata": {},
   "source": [
    "Для проверки гипотезы используем ttest."
   ]
  },
  {
   "cell_type": "code",
   "execution_count": 47,
   "metadata": {},
   "outputs": [],
   "source": [
    "alpha = 0.05 # Задаем значение alpha"
   ]
  },
  {
   "cell_type": "code",
   "execution_count": 48,
   "metadata": {},
   "outputs": [
    {
     "data": {
      "text/plain": [
       "2012.1451104100947"
      ]
     },
     "execution_count": 48,
     "metadata": {},
     "output_type": "execute_result"
    }
   ],
   "source": [
    "data_ultra['revenue'].mean()"
   ]
  },
  {
   "cell_type": "code",
   "execution_count": 49,
   "metadata": {},
   "outputs": [
    {
     "data": {
      "text/plain": [
       "1250.4927338782925"
      ]
     },
     "execution_count": 49,
     "metadata": {},
     "output_type": "execute_result"
    }
   ],
   "source": [
    "data_smart['revenue'].mean()"
   ]
  },
  {
   "cell_type": "code",
   "execution_count": 50,
   "metadata": {},
   "outputs": [],
   "source": [
    "results_1 = st.ttest_ind(data_ultra['revenue'], data_smart['revenue'], equal_var=False)"
   ]
  },
  {
   "cell_type": "code",
   "execution_count": 51,
   "metadata": {},
   "outputs": [
    {
     "name": "stdout",
     "output_type": "stream",
     "text": [
      "p-значение: 0.0\n",
      "Отвергаем нулевую гипотезу\n"
     ]
    }
   ],
   "source": [
    "print('p-значение:', results_1.pvalue)\n",
    "\n",
    "if results_1.pvalue < alpha:\n",
    "    print(\"Отвергаем нулевую гипотезу\")\n",
    "else:\n",
    "    print(\"Не удалось отвергнуть нулевую гипотезу\") "
   ]
  },
  {
   "cell_type": "markdown",
   "metadata": {},
   "source": [
    "**Вывод:**\n",
    "\n",
    "Средняя выручка у тарифов разная, и p-значение нулевое.\n",
    "\n",
    "Следовательно, гипотезу о том, что средняя выручка с пользователей тарифов `smart` и `ultra` одинакова - отвергаем."
   ]
  },
  {
   "cell_type": "markdown",
   "metadata": {},
   "source": [
    "### Вторая гипотеза. Москва против регионов"
   ]
  },
  {
   "cell_type": "markdown",
   "metadata": {},
   "source": [
    "- Н0: Средняя выручка с пользователей из Москвы равна средней выручке пользователей из других регионов страны;\n",
    "- H1: Средние выручки пользователей из Москвы и из других регионов различаются.\n"
   ]
  },
  {
   "cell_type": "code",
   "execution_count": 52,
   "metadata": {
    "scrolled": true
   },
   "outputs": [
    {
     "data": {
      "text/html": [
       "<div>\n",
       "<style scoped>\n",
       "    .dataframe tbody tr th:only-of-type {\n",
       "        vertical-align: middle;\n",
       "    }\n",
       "\n",
       "    .dataframe tbody tr th {\n",
       "        vertical-align: top;\n",
       "    }\n",
       "\n",
       "    .dataframe thead th {\n",
       "        text-align: right;\n",
       "    }\n",
       "</style>\n",
       "<table border=\"1\" class=\"dataframe\">\n",
       "  <thead>\n",
       "    <tr style=\"text-align: right;\">\n",
       "      <th></th>\n",
       "      <th>user_id</th>\n",
       "      <th>month</th>\n",
       "      <th>calls_total</th>\n",
       "      <th>total_duration</th>\n",
       "      <th>messages_total</th>\n",
       "      <th>mb_used</th>\n",
       "      <th>tariff_name</th>\n",
       "      <th>city</th>\n",
       "      <th>messages_included</th>\n",
       "      <th>mb_per_month_included</th>\n",
       "      <th>minutes_included</th>\n",
       "      <th>rub_monthly_fee</th>\n",
       "      <th>rub_per_gb</th>\n",
       "      <th>rub_per_message</th>\n",
       "      <th>rub_per_minute</th>\n",
       "      <th>revenue</th>\n",
       "      <th>gb_used</th>\n",
       "    </tr>\n",
       "  </thead>\n",
       "  <tbody>\n",
       "    <tr>\n",
       "      <th>0</th>\n",
       "      <td>1000</td>\n",
       "      <td>5.0</td>\n",
       "      <td>17.0</td>\n",
       "      <td>159.0</td>\n",
       "      <td>22.0</td>\n",
       "      <td>2253.49</td>\n",
       "      <td>ultra</td>\n",
       "      <td>Краснодар</td>\n",
       "      <td>1000</td>\n",
       "      <td>30720</td>\n",
       "      <td>3000</td>\n",
       "      <td>1950</td>\n",
       "      <td>150</td>\n",
       "      <td>1</td>\n",
       "      <td>1</td>\n",
       "      <td>1950.0</td>\n",
       "      <td>3</td>\n",
       "    </tr>\n",
       "    <tr>\n",
       "      <th>1</th>\n",
       "      <td>1000</td>\n",
       "      <td>6.0</td>\n",
       "      <td>28.0</td>\n",
       "      <td>172.0</td>\n",
       "      <td>60.0</td>\n",
       "      <td>23233.77</td>\n",
       "      <td>ultra</td>\n",
       "      <td>Краснодар</td>\n",
       "      <td>1000</td>\n",
       "      <td>30720</td>\n",
       "      <td>3000</td>\n",
       "      <td>1950</td>\n",
       "      <td>150</td>\n",
       "      <td>1</td>\n",
       "      <td>1</td>\n",
       "      <td>1950.0</td>\n",
       "      <td>23</td>\n",
       "    </tr>\n",
       "    <tr>\n",
       "      <th>2</th>\n",
       "      <td>1000</td>\n",
       "      <td>7.0</td>\n",
       "      <td>41.0</td>\n",
       "      <td>340.0</td>\n",
       "      <td>75.0</td>\n",
       "      <td>14003.64</td>\n",
       "      <td>ultra</td>\n",
       "      <td>Краснодар</td>\n",
       "      <td>1000</td>\n",
       "      <td>30720</td>\n",
       "      <td>3000</td>\n",
       "      <td>1950</td>\n",
       "      <td>150</td>\n",
       "      <td>1</td>\n",
       "      <td>1</td>\n",
       "      <td>1950.0</td>\n",
       "      <td>14</td>\n",
       "    </tr>\n",
       "    <tr>\n",
       "      <th>3</th>\n",
       "      <td>1000</td>\n",
       "      <td>8.0</td>\n",
       "      <td>42.0</td>\n",
       "      <td>408.0</td>\n",
       "      <td>81.0</td>\n",
       "      <td>14055.93</td>\n",
       "      <td>ultra</td>\n",
       "      <td>Краснодар</td>\n",
       "      <td>1000</td>\n",
       "      <td>30720</td>\n",
       "      <td>3000</td>\n",
       "      <td>1950</td>\n",
       "      <td>150</td>\n",
       "      <td>1</td>\n",
       "      <td>1</td>\n",
       "      <td>1950.0</td>\n",
       "      <td>14</td>\n",
       "    </tr>\n",
       "    <tr>\n",
       "      <th>4</th>\n",
       "      <td>1000</td>\n",
       "      <td>9.0</td>\n",
       "      <td>46.0</td>\n",
       "      <td>466.0</td>\n",
       "      <td>57.0</td>\n",
       "      <td>14568.91</td>\n",
       "      <td>ultra</td>\n",
       "      <td>Краснодар</td>\n",
       "      <td>1000</td>\n",
       "      <td>30720</td>\n",
       "      <td>3000</td>\n",
       "      <td>1950</td>\n",
       "      <td>150</td>\n",
       "      <td>1</td>\n",
       "      <td>1</td>\n",
       "      <td>1950.0</td>\n",
       "      <td>15</td>\n",
       "    </tr>\n",
       "    <tr>\n",
       "      <th>...</th>\n",
       "      <td>...</td>\n",
       "      <td>...</td>\n",
       "      <td>...</td>\n",
       "      <td>...</td>\n",
       "      <td>...</td>\n",
       "      <td>...</td>\n",
       "      <td>...</td>\n",
       "      <td>...</td>\n",
       "      <td>...</td>\n",
       "      <td>...</td>\n",
       "      <td>...</td>\n",
       "      <td>...</td>\n",
       "      <td>...</td>\n",
       "      <td>...</td>\n",
       "      <td>...</td>\n",
       "      <td>...</td>\n",
       "      <td>...</td>\n",
       "    </tr>\n",
       "    <tr>\n",
       "      <th>3209</th>\n",
       "      <td>1489</td>\n",
       "      <td>8.0</td>\n",
       "      <td>0.0</td>\n",
       "      <td>0.0</td>\n",
       "      <td>17.0</td>\n",
       "      <td>11050.56</td>\n",
       "      <td>smart</td>\n",
       "      <td>Санкт-Петербург</td>\n",
       "      <td>50</td>\n",
       "      <td>15360</td>\n",
       "      <td>500</td>\n",
       "      <td>550</td>\n",
       "      <td>200</td>\n",
       "      <td>3</td>\n",
       "      <td>3</td>\n",
       "      <td>550.0</td>\n",
       "      <td>11</td>\n",
       "    </tr>\n",
       "    <tr>\n",
       "      <th>3210</th>\n",
       "      <td>1489</td>\n",
       "      <td>9.0</td>\n",
       "      <td>0.0</td>\n",
       "      <td>0.0</td>\n",
       "      <td>32.0</td>\n",
       "      <td>17206.30</td>\n",
       "      <td>smart</td>\n",
       "      <td>Санкт-Петербург</td>\n",
       "      <td>50</td>\n",
       "      <td>15360</td>\n",
       "      <td>500</td>\n",
       "      <td>550</td>\n",
       "      <td>200</td>\n",
       "      <td>3</td>\n",
       "      <td>3</td>\n",
       "      <td>950.0</td>\n",
       "      <td>17</td>\n",
       "    </tr>\n",
       "    <tr>\n",
       "      <th>3211</th>\n",
       "      <td>1489</td>\n",
       "      <td>10.0</td>\n",
       "      <td>0.0</td>\n",
       "      <td>0.0</td>\n",
       "      <td>21.0</td>\n",
       "      <td>19559.44</td>\n",
       "      <td>smart</td>\n",
       "      <td>Санкт-Петербург</td>\n",
       "      <td>50</td>\n",
       "      <td>15360</td>\n",
       "      <td>500</td>\n",
       "      <td>550</td>\n",
       "      <td>200</td>\n",
       "      <td>3</td>\n",
       "      <td>3</td>\n",
       "      <td>1550.0</td>\n",
       "      <td>20</td>\n",
       "    </tr>\n",
       "    <tr>\n",
       "      <th>3212</th>\n",
       "      <td>1489</td>\n",
       "      <td>11.0</td>\n",
       "      <td>0.0</td>\n",
       "      <td>0.0</td>\n",
       "      <td>20.0</td>\n",
       "      <td>17491.56</td>\n",
       "      <td>smart</td>\n",
       "      <td>Санкт-Петербург</td>\n",
       "      <td>50</td>\n",
       "      <td>15360</td>\n",
       "      <td>500</td>\n",
       "      <td>550</td>\n",
       "      <td>200</td>\n",
       "      <td>3</td>\n",
       "      <td>3</td>\n",
       "      <td>1150.0</td>\n",
       "      <td>18</td>\n",
       "    </tr>\n",
       "    <tr>\n",
       "      <th>3213</th>\n",
       "      <td>1489</td>\n",
       "      <td>12.0</td>\n",
       "      <td>0.0</td>\n",
       "      <td>0.0</td>\n",
       "      <td>35.0</td>\n",
       "      <td>17322.51</td>\n",
       "      <td>smart</td>\n",
       "      <td>Санкт-Петербург</td>\n",
       "      <td>50</td>\n",
       "      <td>15360</td>\n",
       "      <td>500</td>\n",
       "      <td>550</td>\n",
       "      <td>200</td>\n",
       "      <td>3</td>\n",
       "      <td>3</td>\n",
       "      <td>950.0</td>\n",
       "      <td>17</td>\n",
       "    </tr>\n",
       "  </tbody>\n",
       "</table>\n",
       "<p>3153 rows × 17 columns</p>\n",
       "</div>"
      ],
      "text/plain": [
       "      user_id  month  calls_total  total_duration  messages_total   mb_used  \\\n",
       "0        1000    5.0         17.0           159.0            22.0   2253.49   \n",
       "1        1000    6.0         28.0           172.0            60.0  23233.77   \n",
       "2        1000    7.0         41.0           340.0            75.0  14003.64   \n",
       "3        1000    8.0         42.0           408.0            81.0  14055.93   \n",
       "4        1000    9.0         46.0           466.0            57.0  14568.91   \n",
       "...       ...    ...          ...             ...             ...       ...   \n",
       "3209     1489    8.0          0.0             0.0            17.0  11050.56   \n",
       "3210     1489    9.0          0.0             0.0            32.0  17206.30   \n",
       "3211     1489   10.0          0.0             0.0            21.0  19559.44   \n",
       "3212     1489   11.0          0.0             0.0            20.0  17491.56   \n",
       "3213     1489   12.0          0.0             0.0            35.0  17322.51   \n",
       "\n",
       "     tariff_name             city  messages_included  mb_per_month_included  \\\n",
       "0          ultra        Краснодар               1000                  30720   \n",
       "1          ultra        Краснодар               1000                  30720   \n",
       "2          ultra        Краснодар               1000                  30720   \n",
       "3          ultra        Краснодар               1000                  30720   \n",
       "4          ultra        Краснодар               1000                  30720   \n",
       "...          ...              ...                ...                    ...   \n",
       "3209       smart  Санкт-Петербург                 50                  15360   \n",
       "3210       smart  Санкт-Петербург                 50                  15360   \n",
       "3211       smart  Санкт-Петербург                 50                  15360   \n",
       "3212       smart  Санкт-Петербург                 50                  15360   \n",
       "3213       smart  Санкт-Петербург                 50                  15360   \n",
       "\n",
       "      minutes_included  rub_monthly_fee  rub_per_gb  rub_per_message  \\\n",
       "0                 3000             1950         150                1   \n",
       "1                 3000             1950         150                1   \n",
       "2                 3000             1950         150                1   \n",
       "3                 3000             1950         150                1   \n",
       "4                 3000             1950         150                1   \n",
       "...                ...              ...         ...              ...   \n",
       "3209               500              550         200                3   \n",
       "3210               500              550         200                3   \n",
       "3211               500              550         200                3   \n",
       "3212               500              550         200                3   \n",
       "3213               500              550         200                3   \n",
       "\n",
       "      rub_per_minute  revenue  gb_used  \n",
       "0                  1   1950.0        3  \n",
       "1                  1   1950.0       23  \n",
       "2                  1   1950.0       14  \n",
       "3                  1   1950.0       14  \n",
       "4                  1   1950.0       15  \n",
       "...              ...      ...      ...  \n",
       "3209               3    550.0       11  \n",
       "3210               3    950.0       17  \n",
       "3211               3   1550.0       20  \n",
       "3212               3   1150.0       18  \n",
       "3213               3    950.0       17  \n",
       "\n",
       "[3153 rows x 17 columns]"
      ]
     },
     "execution_count": 52,
     "metadata": {},
     "output_type": "execute_result"
    }
   ],
   "source": [
    "# Обьединим обратно две таблицы в одну, но уже с удаленными выбросами\n",
    "\n",
    "data_full_limited = pd.concat([data_ultra, data_smart])\n",
    "data_full_limited"
   ]
  },
  {
   "cell_type": "code",
   "execution_count": 53,
   "metadata": {},
   "outputs": [
    {
     "name": "stdout",
     "output_type": "stream",
     "text": [
      "<class 'pandas.core.frame.DataFrame'>\n",
      "Int64Index: 603 entries, 8 to 3173\n",
      "Data columns (total 17 columns):\n",
      " #   Column                 Non-Null Count  Dtype  \n",
      "---  ------                 --------------  -----  \n",
      " 0   user_id                603 non-null    int64  \n",
      " 1   month                  603 non-null    float64\n",
      " 2   calls_total            603 non-null    float64\n",
      " 3   total_duration         603 non-null    float64\n",
      " 4   messages_total         603 non-null    float64\n",
      " 5   mb_used                603 non-null    float64\n",
      " 6   tariff_name            603 non-null    object \n",
      " 7   city                   603 non-null    object \n",
      " 8   messages_included      603 non-null    int64  \n",
      " 9   mb_per_month_included  603 non-null    int64  \n",
      " 10  minutes_included       603 non-null    int64  \n",
      " 11  rub_monthly_fee        603 non-null    int64  \n",
      " 12  rub_per_gb             603 non-null    int64  \n",
      " 13  rub_per_message        603 non-null    int64  \n",
      " 14  rub_per_minute         603 non-null    int64  \n",
      " 15  revenue                603 non-null    float64\n",
      " 16  gb_used                603 non-null    int64  \n",
      "dtypes: float64(6), int64(9), object(2)\n",
      "memory usage: 84.8+ KB\n"
     ]
    }
   ],
   "source": [
    "# Выделяем из новой таблицы пользователей из Москвы\n",
    "\n",
    "moscow = data_full_limited[data_full_limited['city'] == 'Москва']\n",
    "moscow.info()"
   ]
  },
  {
   "cell_type": "code",
   "execution_count": 54,
   "metadata": {},
   "outputs": [
    {
     "name": "stdout",
     "output_type": "stream",
     "text": [
      "<class 'pandas.core.frame.DataFrame'>\n",
      "Int64Index: 2550 entries, 0 to 3213\n",
      "Data columns (total 17 columns):\n",
      " #   Column                 Non-Null Count  Dtype  \n",
      "---  ------                 --------------  -----  \n",
      " 0   user_id                2550 non-null   int64  \n",
      " 1   month                  2550 non-null   float64\n",
      " 2   calls_total            2550 non-null   float64\n",
      " 3   total_duration         2550 non-null   float64\n",
      " 4   messages_total         2550 non-null   float64\n",
      " 5   mb_used                2550 non-null   float64\n",
      " 6   tariff_name            2550 non-null   object \n",
      " 7   city                   2550 non-null   object \n",
      " 8   messages_included      2550 non-null   int64  \n",
      " 9   mb_per_month_included  2550 non-null   int64  \n",
      " 10  minutes_included       2550 non-null   int64  \n",
      " 11  rub_monthly_fee        2550 non-null   int64  \n",
      " 12  rub_per_gb             2550 non-null   int64  \n",
      " 13  rub_per_message        2550 non-null   int64  \n",
      " 14  rub_per_minute         2550 non-null   int64  \n",
      " 15  revenue                2550 non-null   float64\n",
      " 16  gb_used                2550 non-null   int64  \n",
      "dtypes: float64(6), int64(9), object(2)\n",
      "memory usage: 358.6+ KB\n"
     ]
    }
   ],
   "source": [
    "# Пользователей из остальных регионов объединяем в другой датафрейм\n",
    "\n",
    "regions = data_full_limited[data_full_limited['city'] != 'Москва']\n",
    "regions.info()"
   ]
  },
  {
   "cell_type": "code",
   "execution_count": 55,
   "metadata": {},
   "outputs": [
    {
     "data": {
      "text/plain": [
       "1515.514096185738"
      ]
     },
     "execution_count": 55,
     "metadata": {},
     "output_type": "execute_result"
    }
   ],
   "source": [
    "moscow['revenue'].mean()"
   ]
  },
  {
   "cell_type": "code",
   "execution_count": 56,
   "metadata": {},
   "outputs": [
    {
     "data": {
      "text/plain": [
       "1471.8745098039215"
      ]
     },
     "execution_count": 56,
     "metadata": {},
     "output_type": "execute_result"
    }
   ],
   "source": [
    "regions['revenue'].mean()"
   ]
  },
  {
   "cell_type": "code",
   "execution_count": 57,
   "metadata": {},
   "outputs": [
    {
     "name": "stdout",
     "output_type": "stream",
     "text": [
      "p-значение: 0.17259216873980524\n",
      "Не удалось отвергнуть нулевую гипотезу\n"
     ]
    }
   ],
   "source": [
    "# Снова производим ttest\n",
    "\n",
    "results_2 = st.ttest_ind(moscow['revenue'], regions['revenue'], equal_var=False)\n",
    "\n",
    "print('p-значение:', results_2.pvalue)\n",
    "\n",
    "if results_2.pvalue < alpha:\n",
    "    print(\"Отвергаем нулевую гипотезу\")\n",
    "else:\n",
    "    print(\"Не удалось отвергнуть нулевую гипотезу\") "
   ]
  },
  {
   "cell_type": "code",
   "execution_count": 58,
   "metadata": {},
   "outputs": [
    {
     "name": "stdout",
     "output_type": "stream",
     "text": [
      "p-значение: 0.1912450522572209\n",
      "Не получилось отвергнуть нулевую гипотезу\n"
     ]
    }
   ],
   "source": [
    "# Приведены два датасета: сумма покупок, совершённых за месяц посетителями ...\n",
    "\n",
    "sample_1 = [3071, 3636, 3454, 3151, 2185, 3259, 1727, 2263, 2015,\n",
    "2582, 4815, 633, 3186, 887, 2028, 3589, 2564, 1422, 1785,\n",
    "3180, 1770, 2716, 2546, 1848, 4644, 3134, 475, 2686,\n",
    "1838, 3352]\n",
    "sample_2 = [1211, 1228, 2157, 3699, 600, 1898, 1688, 1420, 5048, 3007,\n",
    "509, 3777, 5583, 3949, 121, 1674, 4300, 1338, 3066,\n",
    "3562, 1010, 2311, 462, 863, 2021, 528, 1849, 255,\n",
    "1740, 2596]\n",
    "alpha = .05 # критический уровень статистической значимости\n",
    "# если p-value окажется меньше него - отвергнем гипотезу\n",
    "results = st.ttest_ind(\n",
    "sample_1,\n",
    "sample_2)\n",
    "print('p-значение:', results.pvalue)\n",
    "if (results.pvalue < alpha):\n",
    "    print(\"Отвергаем нулевую гипотезу\")\n",
    "else:\n",
    "\n",
    "    print(\"Не получилось отвергнуть нулевую гипотезу\")"
   ]
  },
  {
   "cell_type": "markdown",
   "metadata": {},
   "source": [
    "**Вывод:** \n",
    "\n",
    "При сравнении Москвы и остальных регионов вместе взятых выявлено, что средняя выручка у них примерно одинаковая, а вот p-значение оказалось слишком большим, чтобы отвергнуть нулевую гипотезу. Выручка с пользователей из Москвы примерно равна выручке со всех остальных пользователей."
   ]
  },
  {
   "cell_type": "markdown",
   "metadata": {},
   "source": [
    "## Общий вывод"
   ]
  },
  {
   "cell_type": "markdown",
   "metadata": {},
   "source": [
    "В ходе проекта анализировались данные телеком-компании. Данные были достаточно \"чистыми\", особой предобработки не потребовалось. Для каждого абонента компании была рассчитана помесячная выручка с учетом его абонентской платы, а также платы за превышение тарифных лимитов. Проанализировано поведение пользователей внутри тарифов.\n",
    "\n",
    "Выяснилось, что пользователи тарифа `ultra` почти никогда не платят выше абонентской платы, а вот пользователи тарифа `smart`, наоборот, часто переплачивают, особенно за интернет, т.к. количество затраченного интернет-трафика у многих из них превышает установленный тарифом лимит.\n",
    "\n",
    "Были проверены две гипотезы:\n",
    "\n",
    "- Выручка с пользователей тарифов smart и ultra равна;\n",
    "- Выручка с пользователей из Москвы и из остальных регионов равна.   \n",
    "   \n",
    "Проведён t-тест и по его результатам обе гипотезы были отвергнуты.   "
   ]
  },
  {
   "cell_type": "code",
   "execution_count": 59,
   "metadata": {},
   "outputs": [
    {
     "name": "stdout",
     "output_type": "stream",
     "text": [
      "Общая выручка с тарифа smart: 2753585.0\n",
      "Общая выручка с тарифа ultra: 1913550.0\n"
     ]
    }
   ],
   "source": [
    "print('Общая выручка с тарифа smart:', data_smart['revenue'].sum().round(0))\n",
    "print('Общая выручка с тарифа ultra:', data_ultra['revenue'].sum().round(0))"
   ]
  },
  {
   "cell_type": "markdown",
   "metadata": {},
   "source": [
    "**Выводы:**\n",
    "\n",
    "1. Пользователи тарифа `ultra` почти не выходят за установленные лимиты и, как следствие, не приносят больше прибыли, чем стоимость абонентской платы. Пользователи `smart`, наоборот, приносят больше прибыли компании из-за большего количества пользователей и превышений лимитов по тарифам, особенно при оплате за интернет.\n",
    "2. Тем не менее, оба тарифа приносят прибыль. Предоставленные данные говорят о том, что за 2018 год пользователи тарифа smart принесли компании **2,7 млн** рублей, а пользователи ultra - **1,9 млн** рублей.\n",
    "3. Пользователи обоих тарифов практически не пользуются звонками и смс-сообщениями. В значительной степени все пользователи используют интернет.\n",
    "\n",
    "\n",
    "**Рекомендации:**\n",
    "\n",
    "Возможно, следует изменить тариф ultra, сделав его немного дешевле своей текущей стоимости, но при этом понизив лимиты интернет-трафика до уровня, который будет достаточен большинству пользователей тарифа `smart`. Тем самым удастся переманить пользователей на более дорогой тариф, а возможно привлечь таким тарифом и множество новых абонентов. Пока что тариф smart выглядит более удачным, т.к. приносит болше прибыли."
   ]
  }
 ],
 "metadata": {
  "ExecuteTimeLog": [
   {
    "duration": 375,
    "start_time": "2022-05-29T17:14:51.002Z"
   },
   {
    "duration": 555,
    "start_time": "2022-05-29T17:15:31.460Z"
   },
   {
    "duration": 16,
    "start_time": "2022-05-29T17:15:33.652Z"
   },
   {
    "duration": 810,
    "start_time": "2022-05-29T17:16:16.436Z"
   },
   {
    "duration": 8,
    "start_time": "2022-05-29T17:16:26.579Z"
   },
   {
    "duration": 8,
    "start_time": "2022-05-29T17:16:35.748Z"
   },
   {
    "duration": 10,
    "start_time": "2022-05-29T17:16:42.801Z"
   },
   {
    "duration": 11,
    "start_time": "2022-05-29T17:16:49.978Z"
   },
   {
    "duration": 10,
    "start_time": "2022-05-29T17:16:57.713Z"
   },
   {
    "duration": 42,
    "start_time": "2022-05-29T17:17:20.157Z"
   },
   {
    "duration": 29,
    "start_time": "2022-05-29T17:17:29.798Z"
   },
   {
    "duration": 24,
    "start_time": "2022-05-29T17:17:59.209Z"
   },
   {
    "duration": 21,
    "start_time": "2022-05-29T17:18:14.527Z"
   },
   {
    "duration": 19,
    "start_time": "2022-05-29T17:18:31.978Z"
   },
   {
    "duration": 15,
    "start_time": "2022-05-29T17:18:46.874Z"
   },
   {
    "duration": 423,
    "start_time": "2022-05-29T17:20:22.123Z"
   },
   {
    "duration": 468,
    "start_time": "2022-05-29T17:20:22.548Z"
   },
   {
    "duration": 38,
    "start_time": "2022-05-29T17:20:23.018Z"
   },
   {
    "duration": 37,
    "start_time": "2022-05-29T17:20:23.175Z"
   },
   {
    "duration": 22,
    "start_time": "2022-05-29T17:20:23.484Z"
   },
   {
    "duration": 18,
    "start_time": "2022-05-29T17:20:23.826Z"
   },
   {
    "duration": 16,
    "start_time": "2022-05-29T17:20:24.220Z"
   },
   {
    "duration": 111,
    "start_time": "2022-05-29T17:24:46.524Z"
   },
   {
    "duration": 48,
    "start_time": "2022-05-29T17:25:17.915Z"
   },
   {
    "duration": 26,
    "start_time": "2022-05-29T17:25:21.610Z"
   },
   {
    "duration": 31,
    "start_time": "2022-05-29T17:25:29.272Z"
   },
   {
    "duration": 60,
    "start_time": "2022-05-29T17:25:37.913Z"
   },
   {
    "duration": 132,
    "start_time": "2022-05-29T17:25:47.880Z"
   },
   {
    "duration": 140,
    "start_time": "2022-05-29T17:25:58.961Z"
   },
   {
    "duration": 155,
    "start_time": "2022-05-29T17:26:10.775Z"
   },
   {
    "duration": 131,
    "start_time": "2022-05-29T17:26:25.793Z"
   },
   {
    "duration": 136,
    "start_time": "2022-05-29T17:26:33.362Z"
   },
   {
    "duration": 131,
    "start_time": "2022-05-29T17:26:43.301Z"
   },
   {
    "duration": 147,
    "start_time": "2022-05-29T17:26:47.732Z"
   },
   {
    "duration": 138,
    "start_time": "2022-05-29T17:26:55.959Z"
   },
   {
    "duration": 124,
    "start_time": "2022-05-29T17:27:08.509Z"
   },
   {
    "duration": 117,
    "start_time": "2022-05-29T17:27:14.329Z"
   },
   {
    "duration": 144,
    "start_time": "2022-05-29T17:27:28.343Z"
   },
   {
    "duration": 136,
    "start_time": "2022-05-29T17:27:34.876Z"
   },
   {
    "duration": 1286,
    "start_time": "2022-06-01T11:39:46.140Z"
   },
   {
    "duration": 3,
    "start_time": "2022-06-01T11:56:11.327Z"
   },
   {
    "duration": 108,
    "start_time": "2022-06-01T11:57:05.187Z"
   },
   {
    "duration": 1085,
    "start_time": "2022-06-01T11:57:14.998Z"
   },
   {
    "duration": 962,
    "start_time": "2022-06-01T11:57:16.085Z"
   },
   {
    "duration": 141,
    "start_time": "2022-06-01T11:57:17.048Z"
   },
   {
    "duration": 144,
    "start_time": "2022-06-01T11:57:17.191Z"
   },
   {
    "duration": 149,
    "start_time": "2022-06-01T11:57:17.336Z"
   },
   {
    "duration": 140,
    "start_time": "2022-06-01T11:57:17.486Z"
   },
   {
    "duration": 143,
    "start_time": "2022-06-01T11:57:17.628Z"
   },
   {
    "duration": 76,
    "start_time": "2022-06-01T11:57:17.780Z"
   },
   {
    "duration": 3,
    "start_time": "2022-06-01T11:57:34.082Z"
   },
   {
    "duration": 16,
    "start_time": "2022-06-01T11:58:47.794Z"
   },
   {
    "duration": 116,
    "start_time": "2022-06-01T11:58:52.906Z"
   },
   {
    "duration": 1075,
    "start_time": "2022-06-01T11:59:04.001Z"
   },
   {
    "duration": 418,
    "start_time": "2022-06-01T11:59:05.077Z"
   },
   {
    "duration": 137,
    "start_time": "2022-06-01T11:59:05.497Z"
   },
   {
    "duration": 154,
    "start_time": "2022-06-01T11:59:05.637Z"
   },
   {
    "duration": 142,
    "start_time": "2022-06-01T11:59:05.793Z"
   },
   {
    "duration": 144,
    "start_time": "2022-06-01T11:59:05.936Z"
   },
   {
    "duration": 144,
    "start_time": "2022-06-01T11:59:06.081Z"
   },
   {
    "duration": 92,
    "start_time": "2022-06-01T11:59:06.226Z"
   },
   {
    "duration": 15,
    "start_time": "2022-06-01T11:59:06.319Z"
   },
   {
    "duration": 32,
    "start_time": "2022-06-01T12:02:05.243Z"
   },
   {
    "duration": 31,
    "start_time": "2022-06-01T12:02:09.002Z"
   },
   {
    "duration": 98,
    "start_time": "2022-06-01T12:02:37.815Z"
   },
   {
    "duration": 9,
    "start_time": "2022-06-01T12:02:44.232Z"
   },
   {
    "duration": 10,
    "start_time": "2022-06-01T13:41:55.836Z"
   },
   {
    "duration": 283,
    "start_time": "2022-06-01T13:42:00.962Z"
   },
   {
    "duration": 65,
    "start_time": "2022-06-01T13:42:12.774Z"
   },
   {
    "duration": 67,
    "start_time": "2022-06-01T13:42:56.936Z"
   },
   {
    "duration": 63,
    "start_time": "2022-06-01T13:43:04.928Z"
   },
   {
    "duration": 67,
    "start_time": "2022-06-01T13:43:12.815Z"
   },
   {
    "duration": 66,
    "start_time": "2022-06-01T13:44:13.568Z"
   },
   {
    "duration": 75,
    "start_time": "2022-06-01T13:45:04.222Z"
   },
   {
    "duration": 65,
    "start_time": "2022-06-01T13:45:07.398Z"
   },
   {
    "duration": 70,
    "start_time": "2022-06-01T13:45:41.304Z"
   },
   {
    "duration": 432,
    "start_time": "2022-06-01T13:47:03.650Z"
   },
   {
    "duration": 22,
    "start_time": "2022-06-01T13:47:10.501Z"
   },
   {
    "duration": 68,
    "start_time": "2022-06-01T13:49:21.332Z"
   },
   {
    "duration": 19,
    "start_time": "2022-06-01T13:49:32.998Z"
   },
   {
    "duration": 34,
    "start_time": "2022-06-01T13:49:58.771Z"
   },
   {
    "duration": 1364,
    "start_time": "2022-06-01T19:02:10.571Z"
   },
   {
    "duration": 1052,
    "start_time": "2022-06-01T19:02:11.945Z"
   },
   {
    "duration": 199,
    "start_time": "2022-06-01T19:02:12.999Z"
   },
   {
    "duration": 172,
    "start_time": "2022-06-01T19:02:13.200Z"
   },
   {
    "duration": 152,
    "start_time": "2022-06-01T19:02:13.375Z"
   },
   {
    "duration": 159,
    "start_time": "2022-06-01T19:02:13.529Z"
   },
   {
    "duration": 157,
    "start_time": "2022-06-01T19:02:13.690Z"
   },
   {
    "duration": 79,
    "start_time": "2022-06-01T19:02:13.849Z"
   },
   {
    "duration": 27,
    "start_time": "2022-06-01T19:02:13.930Z"
   },
   {
    "duration": 41,
    "start_time": "2022-06-01T19:02:13.959Z"
   },
   {
    "duration": 14,
    "start_time": "2022-06-01T19:02:14.002Z"
   },
   {
    "duration": 104,
    "start_time": "2022-06-01T19:02:14.018Z"
   },
   {
    "duration": 30,
    "start_time": "2022-06-01T19:02:14.124Z"
   },
   {
    "duration": 34,
    "start_time": "2022-06-01T19:02:14.158Z"
   },
   {
    "duration": 155,
    "start_time": "2022-06-01T19:10:14.962Z"
   },
   {
    "duration": 40,
    "start_time": "2022-06-01T19:10:20.121Z"
   },
   {
    "duration": 33,
    "start_time": "2022-06-01T19:11:46.203Z"
   },
   {
    "duration": 26,
    "start_time": "2022-06-01T19:21:06.386Z"
   },
   {
    "duration": 25,
    "start_time": "2022-06-01T19:21:16.175Z"
   },
   {
    "duration": 32,
    "start_time": "2022-06-01T19:21:25.544Z"
   },
   {
    "duration": 5,
    "start_time": "2022-06-01T19:22:18.175Z"
   },
   {
    "duration": 4,
    "start_time": "2022-06-01T19:22:23.776Z"
   },
   {
    "duration": 34,
    "start_time": "2022-06-01T19:22:32.380Z"
   },
   {
    "duration": 4,
    "start_time": "2022-06-01T19:23:04.330Z"
   },
   {
    "duration": 35,
    "start_time": "2022-06-01T19:23:04.586Z"
   },
   {
    "duration": 10,
    "start_time": "2022-06-01T19:25:30.409Z"
   },
   {
    "duration": 10,
    "start_time": "2022-06-01T19:25:36.608Z"
   },
   {
    "duration": 13,
    "start_time": "2022-06-01T19:28:29.438Z"
   },
   {
    "duration": 13,
    "start_time": "2022-06-01T19:30:46.613Z"
   },
   {
    "duration": 25,
    "start_time": "2022-06-01T19:30:50.505Z"
   },
   {
    "duration": 20,
    "start_time": "2022-06-01T19:34:54.114Z"
   },
   {
    "duration": 15,
    "start_time": "2022-06-01T19:35:14.779Z"
   },
   {
    "duration": 12,
    "start_time": "2022-06-01T19:35:53.945Z"
   },
   {
    "duration": 4,
    "start_time": "2022-06-01T19:36:51.091Z"
   },
   {
    "duration": 13,
    "start_time": "2022-06-01T19:36:51.983Z"
   },
   {
    "duration": 4,
    "start_time": "2022-06-01T19:36:57.921Z"
   },
   {
    "duration": 14,
    "start_time": "2022-06-01T19:36:58.613Z"
   },
   {
    "duration": 25,
    "start_time": "2022-06-01T19:37:13.019Z"
   },
   {
    "duration": 29,
    "start_time": "2022-06-01T19:57:05.813Z"
   },
   {
    "duration": 20,
    "start_time": "2022-06-01T19:57:15.791Z"
   },
   {
    "duration": 45,
    "start_time": "2022-06-01T19:57:22.050Z"
   },
   {
    "duration": 351,
    "start_time": "2022-06-01T19:57:26.947Z"
   },
   {
    "duration": 29,
    "start_time": "2022-06-01T19:58:14.483Z"
   },
   {
    "duration": 49,
    "start_time": "2022-06-01T19:58:31.840Z"
   },
   {
    "duration": 60,
    "start_time": "2022-06-01T19:58:37.235Z"
   },
   {
    "duration": 67,
    "start_time": "2022-06-01T19:58:53.175Z"
   },
   {
    "duration": 3,
    "start_time": "2022-06-01T19:59:22.916Z"
   },
   {
    "duration": 32,
    "start_time": "2022-06-01T19:59:30.217Z"
   },
   {
    "duration": 4,
    "start_time": "2022-06-01T19:59:34.737Z"
   },
   {
    "duration": 72,
    "start_time": "2022-06-01T19:59:38.102Z"
   },
   {
    "duration": 23,
    "start_time": "2022-06-01T20:02:55.563Z"
   },
   {
    "duration": 60,
    "start_time": "2022-06-01T20:03:00.378Z"
   },
   {
    "duration": 86,
    "start_time": "2022-06-01T20:03:19.080Z"
   },
   {
    "duration": 87,
    "start_time": "2022-06-01T20:04:08.631Z"
   },
   {
    "duration": 108,
    "start_time": "2022-06-01T20:06:07.338Z"
   },
   {
    "duration": 101,
    "start_time": "2022-06-01T20:06:17.266Z"
   },
   {
    "duration": 95,
    "start_time": "2022-06-01T20:06:41.731Z"
   },
   {
    "duration": 120,
    "start_time": "2022-06-01T20:07:13.244Z"
   },
   {
    "duration": 114,
    "start_time": "2022-06-01T20:12:15.127Z"
   },
   {
    "duration": 90,
    "start_time": "2022-06-01T20:14:13.826Z"
   },
   {
    "duration": 22,
    "start_time": "2022-06-01T20:14:18.243Z"
   },
   {
    "duration": 24,
    "start_time": "2022-06-01T20:14:39.458Z"
   },
   {
    "duration": 90,
    "start_time": "2022-06-01T20:14:49.873Z"
   },
   {
    "duration": 23,
    "start_time": "2022-06-01T20:14:50.262Z"
   },
   {
    "duration": 104,
    "start_time": "2022-06-01T20:15:42.998Z"
   },
   {
    "duration": 32,
    "start_time": "2022-06-01T20:15:43.656Z"
   },
   {
    "duration": 91,
    "start_time": "2022-06-01T20:16:42.725Z"
   },
   {
    "duration": 22,
    "start_time": "2022-06-01T20:16:43.067Z"
   },
   {
    "duration": 138,
    "start_time": "2022-06-01T20:17:22.100Z"
   },
   {
    "duration": 24,
    "start_time": "2022-06-01T20:17:22.525Z"
   },
   {
    "duration": 6,
    "start_time": "2022-06-01T20:17:56.155Z"
   },
   {
    "duration": 5,
    "start_time": "2022-06-01T20:18:05.144Z"
   },
   {
    "duration": 106,
    "start_time": "2022-06-01T20:18:13.111Z"
   },
   {
    "duration": 23,
    "start_time": "2022-06-01T20:18:15.209Z"
   },
   {
    "duration": 98,
    "start_time": "2022-06-01T20:18:26.061Z"
   },
   {
    "duration": 31,
    "start_time": "2022-06-01T20:18:26.382Z"
   },
   {
    "duration": 6,
    "start_time": "2022-06-01T20:18:53.220Z"
   },
   {
    "duration": 111,
    "start_time": "2022-06-01T20:19:00.654Z"
   },
   {
    "duration": 25,
    "start_time": "2022-06-01T20:19:04.972Z"
   },
   {
    "duration": 22,
    "start_time": "2022-06-01T20:19:52.723Z"
   },
   {
    "duration": 31,
    "start_time": "2022-06-01T20:19:53.170Z"
   },
   {
    "duration": 91,
    "start_time": "2022-06-01T20:20:02.503Z"
   },
   {
    "duration": 23,
    "start_time": "2022-06-01T20:20:03.226Z"
   },
   {
    "duration": 4,
    "start_time": "2022-06-01T20:20:09.440Z"
   },
   {
    "duration": 5,
    "start_time": "2022-06-01T20:20:23.842Z"
   },
   {
    "duration": 102,
    "start_time": "2022-06-01T20:20:28.061Z"
   },
   {
    "duration": 31,
    "start_time": "2022-06-01T20:20:28.573Z"
   },
   {
    "duration": 42,
    "start_time": "2022-06-01T20:20:44.104Z"
   },
   {
    "duration": 6,
    "start_time": "2022-06-01T20:20:52.200Z"
   },
   {
    "duration": 5,
    "start_time": "2022-06-01T20:20:57.647Z"
   },
   {
    "duration": 5,
    "start_time": "2022-06-01T20:21:06.084Z"
   },
   {
    "duration": 5,
    "start_time": "2022-06-01T20:21:25.644Z"
   },
   {
    "duration": 5,
    "start_time": "2022-06-01T20:21:29.151Z"
   },
   {
    "duration": 92,
    "start_time": "2022-06-01T20:21:32.813Z"
   },
   {
    "duration": 45,
    "start_time": "2022-06-01T20:22:02.214Z"
   },
   {
    "duration": 38,
    "start_time": "2022-06-01T20:22:19.120Z"
   },
   {
    "duration": 103,
    "start_time": "2022-06-01T20:22:52.481Z"
   },
   {
    "duration": 22,
    "start_time": "2022-06-01T20:22:53.508Z"
   },
   {
    "duration": 172,
    "start_time": "2022-06-01T20:23:27.139Z"
   },
   {
    "duration": 30,
    "start_time": "2022-06-01T20:23:28.172Z"
   },
   {
    "duration": 33,
    "start_time": "2022-06-01T20:24:43.953Z"
   },
   {
    "duration": 48,
    "start_time": "2022-06-01T20:25:04.361Z"
   },
   {
    "duration": 116,
    "start_time": "2022-06-01T20:25:18.416Z"
   },
   {
    "duration": 24,
    "start_time": "2022-06-01T20:25:24.881Z"
   },
   {
    "duration": 92,
    "start_time": "2022-06-01T20:26:24.566Z"
   },
   {
    "duration": 24,
    "start_time": "2022-06-01T20:26:30.256Z"
   },
   {
    "duration": 106,
    "start_time": "2022-06-01T20:26:47.661Z"
   },
   {
    "duration": 33,
    "start_time": "2022-06-01T20:26:48.032Z"
   },
   {
    "duration": 21,
    "start_time": "2022-06-01T20:26:52.481Z"
   },
   {
    "duration": 102,
    "start_time": "2022-06-01T20:28:02.515Z"
   },
   {
    "duration": 24,
    "start_time": "2022-06-01T20:28:03.065Z"
   },
   {
    "duration": 27,
    "start_time": "2022-06-01T20:29:50.867Z"
   },
   {
    "duration": 54,
    "start_time": "2022-06-01T20:30:03.539Z"
   },
   {
    "duration": 65,
    "start_time": "2022-06-01T20:31:23.692Z"
   },
   {
    "duration": 60,
    "start_time": "2022-06-01T20:31:27.586Z"
   },
   {
    "duration": 69,
    "start_time": "2022-06-01T20:37:04.910Z"
   },
   {
    "duration": 102,
    "start_time": "2022-06-01T20:39:24.578Z"
   },
   {
    "duration": 159,
    "start_time": "2022-06-01T20:39:32.337Z"
   },
   {
    "duration": 150,
    "start_time": "2022-06-01T20:40:06.102Z"
   },
   {
    "duration": 23,
    "start_time": "2022-06-01T20:40:06.662Z"
   },
   {
    "duration": 58,
    "start_time": "2022-06-01T20:40:12.356Z"
   },
   {
    "duration": 51,
    "start_time": "2022-06-01T20:40:17.513Z"
   },
   {
    "duration": 1129,
    "start_time": "2022-06-01T20:49:47.625Z"
   },
   {
    "duration": 483,
    "start_time": "2022-06-01T20:49:48.756Z"
   },
   {
    "duration": 186,
    "start_time": "2022-06-01T20:49:49.241Z"
   },
   {
    "duration": 153,
    "start_time": "2022-06-01T20:49:49.429Z"
   },
   {
    "duration": 183,
    "start_time": "2022-06-01T20:49:49.584Z"
   },
   {
    "duration": 153,
    "start_time": "2022-06-01T20:49:49.769Z"
   },
   {
    "duration": 151,
    "start_time": "2022-06-01T20:49:49.924Z"
   },
   {
    "duration": 91,
    "start_time": "2022-06-01T20:49:50.077Z"
   },
   {
    "duration": 20,
    "start_time": "2022-06-01T20:49:50.170Z"
   },
   {
    "duration": 59,
    "start_time": "2022-06-01T20:49:50.193Z"
   },
   {
    "duration": 12,
    "start_time": "2022-06-01T20:49:50.254Z"
   },
   {
    "duration": 112,
    "start_time": "2022-06-01T20:49:50.269Z"
   },
   {
    "duration": 22,
    "start_time": "2022-06-01T20:49:50.383Z"
   },
   {
    "duration": 48,
    "start_time": "2022-06-01T20:49:50.407Z"
   },
   {
    "duration": 29,
    "start_time": "2022-06-01T20:49:50.458Z"
   },
   {
    "duration": 57,
    "start_time": "2022-06-01T20:49:50.489Z"
   },
   {
    "duration": 5,
    "start_time": "2022-06-01T20:49:50.548Z"
   },
   {
    "duration": 64,
    "start_time": "2022-06-01T20:49:50.555Z"
   },
   {
    "duration": 15,
    "start_time": "2022-06-01T20:49:50.621Z"
   },
   {
    "duration": 29,
    "start_time": "2022-06-01T20:49:50.638Z"
   },
   {
    "duration": 48,
    "start_time": "2022-06-01T20:49:50.669Z"
   },
   {
    "duration": 4,
    "start_time": "2022-06-01T20:49:50.719Z"
   },
   {
    "duration": 46,
    "start_time": "2022-06-01T20:49:50.725Z"
   },
   {
    "duration": 196,
    "start_time": "2022-06-01T20:49:50.773Z"
   },
   {
    "duration": 32,
    "start_time": "2022-06-01T20:49:50.971Z"
   },
   {
    "duration": 123,
    "start_time": "2022-06-01T20:49:51.005Z"
   },
   {
    "duration": 60,
    "start_time": "2022-06-01T20:49:51.130Z"
   },
   {
    "duration": 1217,
    "start_time": "2022-06-02T08:30:41.425Z"
   },
   {
    "duration": 967,
    "start_time": "2022-06-02T08:30:42.644Z"
   },
   {
    "duration": 129,
    "start_time": "2022-06-02T08:30:43.616Z"
   },
   {
    "duration": 121,
    "start_time": "2022-06-02T08:30:43.747Z"
   },
   {
    "duration": 127,
    "start_time": "2022-06-02T08:30:43.870Z"
   },
   {
    "duration": 120,
    "start_time": "2022-06-02T08:30:43.998Z"
   },
   {
    "duration": 120,
    "start_time": "2022-06-02T08:30:44.120Z"
   },
   {
    "duration": 75,
    "start_time": "2022-06-02T08:30:44.241Z"
   },
   {
    "duration": 14,
    "start_time": "2022-06-02T08:30:44.318Z"
   },
   {
    "duration": 40,
    "start_time": "2022-06-02T08:30:44.334Z"
   },
   {
    "duration": 9,
    "start_time": "2022-06-02T08:30:44.375Z"
   },
   {
    "duration": 82,
    "start_time": "2022-06-02T08:30:44.385Z"
   },
   {
    "duration": 17,
    "start_time": "2022-06-02T08:30:44.468Z"
   },
   {
    "duration": 21,
    "start_time": "2022-06-02T08:30:44.487Z"
   },
   {
    "duration": 20,
    "start_time": "2022-06-02T08:30:44.510Z"
   },
   {
    "duration": 47,
    "start_time": "2022-06-02T08:30:44.531Z"
   },
   {
    "duration": 4,
    "start_time": "2022-06-02T08:30:44.579Z"
   },
   {
    "duration": 26,
    "start_time": "2022-06-02T08:30:44.585Z"
   },
   {
    "duration": 10,
    "start_time": "2022-06-02T08:30:44.613Z"
   },
   {
    "duration": 32,
    "start_time": "2022-06-02T08:30:44.625Z"
   },
   {
    "duration": 21,
    "start_time": "2022-06-02T08:30:44.659Z"
   },
   {
    "duration": 3,
    "start_time": "2022-06-02T08:30:44.682Z"
   },
   {
    "duration": 26,
    "start_time": "2022-06-02T08:30:44.687Z"
   },
   {
    "duration": 149,
    "start_time": "2022-06-02T08:30:44.715Z"
   },
   {
    "duration": 19,
    "start_time": "2022-06-02T08:30:44.866Z"
   },
   {
    "duration": 42,
    "start_time": "2022-06-02T08:30:44.887Z"
   },
   {
    "duration": 45,
    "start_time": "2022-06-02T08:30:44.954Z"
   },
   {
    "duration": 45,
    "start_time": "2022-06-02T08:31:30.870Z"
   },
   {
    "duration": 45,
    "start_time": "2022-06-02T08:31:31.101Z"
   },
   {
    "duration": 6,
    "start_time": "2022-06-02T08:46:33.371Z"
   },
   {
    "duration": 511,
    "start_time": "2022-06-02T08:47:04.107Z"
   },
   {
    "duration": 336,
    "start_time": "2022-06-02T08:47:23.305Z"
   },
   {
    "duration": 6,
    "start_time": "2022-06-02T08:48:24.715Z"
   },
   {
    "duration": 217,
    "start_time": "2022-06-02T08:48:25.647Z"
   },
   {
    "duration": 217,
    "start_time": "2022-06-02T08:49:54.842Z"
   },
   {
    "duration": 5,
    "start_time": "2022-06-02T08:50:49.097Z"
   },
   {
    "duration": 101,
    "start_time": "2022-06-02T08:50:49.617Z"
   },
   {
    "duration": 5,
    "start_time": "2022-06-02T08:50:54.802Z"
   },
   {
    "duration": 209,
    "start_time": "2022-06-02T08:50:55.176Z"
   },
   {
    "duration": 5,
    "start_time": "2022-06-02T08:51:08.858Z"
   },
   {
    "duration": 218,
    "start_time": "2022-06-02T08:51:10.152Z"
   },
   {
    "duration": 5,
    "start_time": "2022-06-02T08:51:16.687Z"
   },
   {
    "duration": 211,
    "start_time": "2022-06-02T08:51:17.223Z"
   },
   {
    "duration": 368,
    "start_time": "2022-06-02T08:53:23.000Z"
   },
   {
    "duration": 415,
    "start_time": "2022-06-02T08:53:36.562Z"
   },
   {
    "duration": 230,
    "start_time": "2022-06-02T08:53:44.703Z"
   },
   {
    "duration": 218,
    "start_time": "2022-06-02T08:55:09.416Z"
   },
   {
    "duration": 410,
    "start_time": "2022-06-02T08:56:50.165Z"
   },
   {
    "duration": 317,
    "start_time": "2022-06-02T08:57:09.998Z"
   },
   {
    "duration": 193,
    "start_time": "2022-06-02T08:58:52.869Z"
   },
   {
    "duration": 112,
    "start_time": "2022-06-02T09:05:49.041Z"
   },
   {
    "duration": 86,
    "start_time": "2022-06-02T09:05:56.863Z"
   },
   {
    "duration": 705,
    "start_time": "2022-06-02T09:08:13.281Z"
   },
   {
    "duration": 565,
    "start_time": "2022-06-02T09:08:22.961Z"
   },
   {
    "duration": 29,
    "start_time": "2022-06-02T09:08:36.264Z"
   },
   {
    "duration": 93,
    "start_time": "2022-06-02T09:08:40.466Z"
   },
   {
    "duration": 95,
    "start_time": "2022-06-02T09:09:42.470Z"
   },
   {
    "duration": 91,
    "start_time": "2022-06-02T09:09:46.204Z"
   },
   {
    "duration": 92,
    "start_time": "2022-06-02T09:10:35.824Z"
   },
   {
    "duration": 111,
    "start_time": "2022-06-02T09:11:07.093Z"
   },
   {
    "duration": 117,
    "start_time": "2022-06-02T09:11:07.452Z"
   },
   {
    "duration": 84,
    "start_time": "2022-06-02T09:11:30.059Z"
   },
   {
    "duration": 176,
    "start_time": "2022-06-02T09:11:30.829Z"
   },
   {
    "duration": 108,
    "start_time": "2022-06-02T09:11:31.853Z"
   },
   {
    "duration": 91,
    "start_time": "2022-06-02T09:11:32.435Z"
   },
   {
    "duration": 1088,
    "start_time": "2022-06-02T09:11:41.455Z"
   },
   {
    "duration": 423,
    "start_time": "2022-06-02T09:11:42.545Z"
   },
   {
    "duration": 137,
    "start_time": "2022-06-02T09:11:42.969Z"
   },
   {
    "duration": 153,
    "start_time": "2022-06-02T09:11:43.108Z"
   },
   {
    "duration": 149,
    "start_time": "2022-06-02T09:11:43.263Z"
   },
   {
    "duration": 140,
    "start_time": "2022-06-02T09:11:43.414Z"
   },
   {
    "duration": 139,
    "start_time": "2022-06-02T09:11:43.556Z"
   },
   {
    "duration": 89,
    "start_time": "2022-06-02T09:11:43.697Z"
   },
   {
    "duration": 17,
    "start_time": "2022-06-02T09:11:43.788Z"
   },
   {
    "duration": 55,
    "start_time": "2022-06-02T09:11:43.807Z"
   },
   {
    "duration": 11,
    "start_time": "2022-06-02T09:11:43.864Z"
   },
   {
    "duration": 85,
    "start_time": "2022-06-02T09:11:43.876Z"
   },
   {
    "duration": 17,
    "start_time": "2022-06-02T09:11:43.963Z"
   },
   {
    "duration": 24,
    "start_time": "2022-06-02T09:11:43.983Z"
   },
   {
    "duration": 21,
    "start_time": "2022-06-02T09:11:44.009Z"
   },
   {
    "duration": 50,
    "start_time": "2022-06-02T09:11:44.032Z"
   },
   {
    "duration": 4,
    "start_time": "2022-06-02T09:11:44.083Z"
   },
   {
    "duration": 29,
    "start_time": "2022-06-02T09:11:44.088Z"
   },
   {
    "duration": 35,
    "start_time": "2022-06-02T09:11:44.119Z"
   },
   {
    "duration": 7,
    "start_time": "2022-06-02T09:11:44.156Z"
   },
   {
    "duration": 25,
    "start_time": "2022-06-02T09:11:44.165Z"
   },
   {
    "duration": 4,
    "start_time": "2022-06-02T09:11:44.192Z"
   },
   {
    "duration": 34,
    "start_time": "2022-06-02T09:11:44.198Z"
   },
   {
    "duration": 141,
    "start_time": "2022-06-02T09:11:44.254Z"
   },
   {
    "duration": 19,
    "start_time": "2022-06-02T09:11:44.397Z"
   },
   {
    "duration": 58,
    "start_time": "2022-06-02T09:11:44.417Z"
   },
   {
    "duration": 45,
    "start_time": "2022-06-02T09:11:44.476Z"
   },
   {
    "duration": 5,
    "start_time": "2022-06-02T09:11:44.522Z"
   },
   {
    "duration": 274,
    "start_time": "2022-06-02T09:11:44.528Z"
   },
   {
    "duration": 232,
    "start_time": "2022-06-02T09:11:44.803Z"
   },
   {
    "duration": 295,
    "start_time": "2022-06-02T09:11:45.037Z"
   },
   {
    "duration": 221,
    "start_time": "2022-06-02T09:11:45.333Z"
   },
   {
    "duration": 116,
    "start_time": "2022-06-02T09:11:45.556Z"
   },
   {
    "duration": 96,
    "start_time": "2022-06-02T09:11:45.674Z"
   },
   {
    "duration": 102,
    "start_time": "2022-06-02T09:11:45.772Z"
   },
   {
    "duration": 102,
    "start_time": "2022-06-02T09:11:45.876Z"
   },
   {
    "duration": 3,
    "start_time": "2022-06-02T09:48:40.399Z"
   },
   {
    "duration": 7,
    "start_time": "2022-06-02T09:49:03.118Z"
   },
   {
    "duration": 32,
    "start_time": "2022-06-02T09:50:12.087Z"
   },
   {
    "duration": 54,
    "start_time": "2022-06-02T09:50:17.934Z"
   },
   {
    "duration": 4,
    "start_time": "2022-06-02T09:50:27.436Z"
   },
   {
    "duration": 5,
    "start_time": "2022-06-02T09:51:02.971Z"
   },
   {
    "duration": 4,
    "start_time": "2022-06-02T09:51:23.539Z"
   },
   {
    "duration": 4,
    "start_time": "2022-06-02T09:51:31.788Z"
   },
   {
    "duration": 99,
    "start_time": "2022-06-02T11:19:09.444Z"
   },
   {
    "duration": 24,
    "start_time": "2022-06-02T11:19:29.508Z"
   },
   {
    "duration": 25,
    "start_time": "2022-06-02T11:20:03.598Z"
   },
   {
    "duration": 5,
    "start_time": "2022-06-02T11:20:26.933Z"
   },
   {
    "duration": 21,
    "start_time": "2022-06-02T11:20:30.687Z"
   },
   {
    "duration": 12,
    "start_time": "2022-06-02T11:20:38.791Z"
   },
   {
    "duration": 4,
    "start_time": "2022-06-02T11:21:04.530Z"
   },
   {
    "duration": 13,
    "start_time": "2022-06-02T11:21:10.121Z"
   },
   {
    "duration": 12,
    "start_time": "2022-06-02T11:21:42.292Z"
   },
   {
    "duration": 12,
    "start_time": "2022-06-02T11:22:09.794Z"
   },
   {
    "duration": 3,
    "start_time": "2022-06-02T11:23:39.852Z"
   },
   {
    "duration": 4,
    "start_time": "2022-06-02T11:23:40.642Z"
   },
   {
    "duration": 9,
    "start_time": "2022-06-02T11:24:08.018Z"
   },
   {
    "duration": 4,
    "start_time": "2022-06-02T11:24:14.193Z"
   },
   {
    "duration": 10,
    "start_time": "2022-06-02T11:24:34.712Z"
   },
   {
    "duration": 4,
    "start_time": "2022-06-02T11:24:37.925Z"
   },
   {
    "duration": 4,
    "start_time": "2022-06-02T11:27:08.479Z"
   },
   {
    "duration": 4,
    "start_time": "2022-06-02T11:27:19.791Z"
   },
   {
    "duration": 4,
    "start_time": "2022-06-02T11:29:27.423Z"
   },
   {
    "duration": 5,
    "start_time": "2022-06-02T11:29:34.371Z"
   },
   {
    "duration": 4,
    "start_time": "2022-06-02T11:46:23.980Z"
   },
   {
    "duration": 4,
    "start_time": "2022-06-02T11:46:36.230Z"
   },
   {
    "duration": 6,
    "start_time": "2022-06-02T11:46:41.403Z"
   },
   {
    "duration": 4,
    "start_time": "2022-06-02T11:46:47.910Z"
   },
   {
    "duration": 1106,
    "start_time": "2022-06-02T12:16:39.324Z"
   },
   {
    "duration": 412,
    "start_time": "2022-06-02T12:16:40.432Z"
   },
   {
    "duration": 137,
    "start_time": "2022-06-02T12:16:40.846Z"
   },
   {
    "duration": 141,
    "start_time": "2022-06-02T12:16:40.986Z"
   },
   {
    "duration": 138,
    "start_time": "2022-06-02T12:16:41.129Z"
   },
   {
    "duration": 137,
    "start_time": "2022-06-02T12:16:41.268Z"
   },
   {
    "duration": 164,
    "start_time": "2022-06-02T12:16:41.407Z"
   },
   {
    "duration": 83,
    "start_time": "2022-06-02T12:16:41.573Z"
   },
   {
    "duration": 15,
    "start_time": "2022-06-02T12:16:41.658Z"
   },
   {
    "duration": 29,
    "start_time": "2022-06-02T12:16:41.675Z"
   },
   {
    "duration": 9,
    "start_time": "2022-06-02T12:16:41.705Z"
   },
   {
    "duration": 93,
    "start_time": "2022-06-02T12:16:41.715Z"
   },
   {
    "duration": 18,
    "start_time": "2022-06-02T12:16:41.809Z"
   },
   {
    "duration": 36,
    "start_time": "2022-06-02T12:16:41.828Z"
   },
   {
    "duration": 21,
    "start_time": "2022-06-02T12:16:41.865Z"
   },
   {
    "duration": 27,
    "start_time": "2022-06-02T12:16:41.887Z"
   },
   {
    "duration": 3,
    "start_time": "2022-06-02T12:16:41.916Z"
   },
   {
    "duration": 47,
    "start_time": "2022-06-02T12:16:41.920Z"
   },
   {
    "duration": 11,
    "start_time": "2022-06-02T12:16:41.968Z"
   },
   {
    "duration": 10,
    "start_time": "2022-06-02T12:16:41.980Z"
   },
   {
    "duration": 21,
    "start_time": "2022-06-02T12:16:41.992Z"
   },
   {
    "duration": 2,
    "start_time": "2022-06-02T12:16:42.015Z"
   },
   {
    "duration": 41,
    "start_time": "2022-06-02T12:16:42.018Z"
   },
   {
    "duration": 135,
    "start_time": "2022-06-02T12:16:42.060Z"
   },
   {
    "duration": 19,
    "start_time": "2022-06-02T12:16:42.196Z"
   },
   {
    "duration": 59,
    "start_time": "2022-06-02T12:16:42.216Z"
   },
   {
    "duration": 45,
    "start_time": "2022-06-02T12:16:42.276Z"
   },
   {
    "duration": 4,
    "start_time": "2022-06-02T12:16:42.324Z"
   },
   {
    "duration": 247,
    "start_time": "2022-06-02T12:16:42.329Z"
   },
   {
    "duration": 198,
    "start_time": "2022-06-02T12:16:42.578Z"
   },
   {
    "duration": 282,
    "start_time": "2022-06-02T12:16:42.778Z"
   },
   {
    "duration": 207,
    "start_time": "2022-06-02T12:16:43.062Z"
   },
   {
    "duration": 101,
    "start_time": "2022-06-02T12:16:43.270Z"
   },
   {
    "duration": 104,
    "start_time": "2022-06-02T12:16:43.373Z"
   },
   {
    "duration": 94,
    "start_time": "2022-06-02T12:16:43.478Z"
   },
   {
    "duration": 111,
    "start_time": "2022-06-02T12:16:43.573Z"
   },
   {
    "duration": 2,
    "start_time": "2022-06-02T12:16:43.686Z"
   },
   {
    "duration": 13,
    "start_time": "2022-06-02T12:16:43.689Z"
   },
   {
    "duration": 14,
    "start_time": "2022-06-02T12:16:43.704Z"
   },
   {
    "duration": 5,
    "start_time": "2022-06-02T12:16:43.720Z"
   },
   {
    "duration": 7,
    "start_time": "2022-06-02T12:16:43.726Z"
   },
   {
    "duration": 25,
    "start_time": "2022-06-02T12:16:43.734Z"
   },
   {
    "duration": 10,
    "start_time": "2022-06-02T12:16:43.760Z"
   },
   {
    "duration": 10,
    "start_time": "2022-06-02T12:16:43.771Z"
   },
   {
    "duration": 5,
    "start_time": "2022-06-02T12:16:43.782Z"
   },
   {
    "duration": 6,
    "start_time": "2022-06-02T12:16:43.788Z"
   },
   {
    "duration": 6,
    "start_time": "2022-06-02T12:16:43.795Z"
   },
   {
    "duration": 8,
    "start_time": "2022-06-02T12:16:43.802Z"
   },
   {
    "duration": 62,
    "start_time": "2022-06-02T14:58:07.780Z"
   },
   {
    "duration": 1156,
    "start_time": "2022-06-02T14:58:15.859Z"
   },
   {
    "duration": 492,
    "start_time": "2022-06-02T14:58:17.017Z"
   },
   {
    "duration": 161,
    "start_time": "2022-06-02T14:58:17.510Z"
   },
   {
    "duration": 149,
    "start_time": "2022-06-02T14:58:17.672Z"
   },
   {
    "duration": 152,
    "start_time": "2022-06-02T14:58:17.829Z"
   },
   {
    "duration": 136,
    "start_time": "2022-06-02T14:58:17.983Z"
   },
   {
    "duration": 147,
    "start_time": "2022-06-02T14:58:18.126Z"
   },
   {
    "duration": 94,
    "start_time": "2022-06-02T14:58:18.274Z"
   },
   {
    "duration": 16,
    "start_time": "2022-06-02T14:58:18.370Z"
   },
   {
    "duration": 59,
    "start_time": "2022-06-02T14:58:18.388Z"
   },
   {
    "duration": 15,
    "start_time": "2022-06-02T14:58:18.456Z"
   },
   {
    "duration": 107,
    "start_time": "2022-06-02T14:58:18.473Z"
   },
   {
    "duration": 25,
    "start_time": "2022-06-02T14:58:18.583Z"
   },
   {
    "duration": 34,
    "start_time": "2022-06-02T14:58:18.627Z"
   },
   {
    "duration": 45,
    "start_time": "2022-06-02T14:58:18.663Z"
   },
   {
    "duration": 48,
    "start_time": "2022-06-02T14:58:18.710Z"
   },
   {
    "duration": 6,
    "start_time": "2022-06-02T14:58:18.761Z"
   },
   {
    "duration": 38,
    "start_time": "2022-06-02T14:58:18.769Z"
   },
   {
    "duration": 12,
    "start_time": "2022-06-02T14:58:18.810Z"
   },
   {
    "duration": 15,
    "start_time": "2022-06-02T14:58:18.824Z"
   },
   {
    "duration": 67,
    "start_time": "2022-06-02T14:58:18.840Z"
   },
   {
    "duration": 4,
    "start_time": "2022-06-02T14:58:18.909Z"
   },
   {
    "duration": 56,
    "start_time": "2022-06-02T14:58:18.915Z"
   },
   {
    "duration": 197,
    "start_time": "2022-06-02T14:58:18.973Z"
   },
   {
    "duration": 31,
    "start_time": "2022-06-02T14:58:19.172Z"
   },
   {
    "duration": 76,
    "start_time": "2022-06-02T14:58:19.205Z"
   },
   {
    "duration": 60,
    "start_time": "2022-06-02T14:58:19.282Z"
   },
   {
    "duration": 5,
    "start_time": "2022-06-02T14:58:19.344Z"
   },
   {
    "duration": 27,
    "start_time": "2022-06-02T14:58:19.351Z"
   },
   {
    "duration": 318,
    "start_time": "2022-06-02T14:58:19.380Z"
   },
   {
    "duration": 268,
    "start_time": "2022-06-02T14:58:19.699Z"
   },
   {
    "duration": 327,
    "start_time": "2022-06-02T14:58:19.968Z"
   },
   {
    "duration": 258,
    "start_time": "2022-06-02T14:58:20.297Z"
   },
   {
    "duration": 117,
    "start_time": "2022-06-02T14:58:20.557Z"
   },
   {
    "duration": 116,
    "start_time": "2022-06-02T14:58:20.675Z"
   },
   {
    "duration": 110,
    "start_time": "2022-06-02T14:58:20.793Z"
   },
   {
    "duration": 110,
    "start_time": "2022-06-02T14:58:20.905Z"
   },
   {
    "duration": 5,
    "start_time": "2022-06-02T14:58:21.028Z"
   },
   {
    "duration": 31,
    "start_time": "2022-06-02T14:58:21.034Z"
   },
   {
    "duration": 9,
    "start_time": "2022-06-02T14:58:21.067Z"
   },
   {
    "duration": 7,
    "start_time": "2022-06-02T14:58:21.080Z"
   },
   {
    "duration": 15,
    "start_time": "2022-06-02T14:58:21.088Z"
   },
   {
    "duration": 36,
    "start_time": "2022-06-02T14:58:21.104Z"
   },
   {
    "duration": 18,
    "start_time": "2022-06-02T14:58:21.142Z"
   },
   {
    "duration": 18,
    "start_time": "2022-06-02T14:58:21.162Z"
   },
   {
    "duration": 6,
    "start_time": "2022-06-02T14:58:21.181Z"
   },
   {
    "duration": 9,
    "start_time": "2022-06-02T14:58:21.189Z"
   },
   {
    "duration": 10,
    "start_time": "2022-06-02T14:58:21.199Z"
   },
   {
    "duration": 31,
    "start_time": "2022-06-02T14:58:21.210Z"
   },
   {
    "duration": 4,
    "start_time": "2022-06-02T14:58:30.183Z"
   },
   {
    "duration": 135,
    "start_time": "2022-06-02T14:58:41.119Z"
   },
   {
    "duration": 5,
    "start_time": "2022-06-02T14:58:46.671Z"
   },
   {
    "duration": 16,
    "start_time": "2022-06-02T14:59:35.225Z"
   },
   {
    "duration": 178,
    "start_time": "2022-06-02T15:01:32.172Z"
   },
   {
    "duration": 5,
    "start_time": "2022-06-02T15:01:37.568Z"
   },
   {
    "duration": 1166,
    "start_time": "2022-06-02T15:08:32.219Z"
   },
   {
    "duration": 506,
    "start_time": "2022-06-02T15:08:33.387Z"
   },
   {
    "duration": 158,
    "start_time": "2022-06-02T15:08:33.895Z"
   },
   {
    "duration": 158,
    "start_time": "2022-06-02T15:08:34.056Z"
   },
   {
    "duration": 173,
    "start_time": "2022-06-02T15:08:34.216Z"
   },
   {
    "duration": 150,
    "start_time": "2022-06-02T15:08:34.390Z"
   },
   {
    "duration": 157,
    "start_time": "2022-06-02T15:08:34.542Z"
   },
   {
    "duration": 99,
    "start_time": "2022-06-02T15:08:34.701Z"
   },
   {
    "duration": 17,
    "start_time": "2022-06-02T15:08:34.802Z"
   },
   {
    "duration": 55,
    "start_time": "2022-06-02T15:08:34.821Z"
   },
   {
    "duration": 10,
    "start_time": "2022-06-02T15:08:34.878Z"
   },
   {
    "duration": 103,
    "start_time": "2022-06-02T15:08:34.891Z"
   },
   {
    "duration": 21,
    "start_time": "2022-06-02T15:08:34.996Z"
   },
   {
    "duration": 34,
    "start_time": "2022-06-02T15:08:35.026Z"
   },
   {
    "duration": 57,
    "start_time": "2022-06-02T15:08:35.063Z"
   },
   {
    "duration": 46,
    "start_time": "2022-06-02T15:08:35.121Z"
   },
   {
    "duration": 7,
    "start_time": "2022-06-02T15:08:35.169Z"
   },
   {
    "duration": 45,
    "start_time": "2022-06-02T15:08:35.178Z"
   },
   {
    "duration": 16,
    "start_time": "2022-06-02T15:08:35.227Z"
   },
   {
    "duration": 41,
    "start_time": "2022-06-02T15:08:35.245Z"
   },
   {
    "duration": 83,
    "start_time": "2022-06-02T15:08:35.288Z"
   },
   {
    "duration": 4,
    "start_time": "2022-06-02T15:08:35.373Z"
   },
   {
    "duration": 36,
    "start_time": "2022-06-02T15:08:35.379Z"
   },
   {
    "duration": 175,
    "start_time": "2022-06-02T15:08:35.428Z"
   },
   {
    "duration": 44,
    "start_time": "2022-06-02T15:08:35.605Z"
   },
   {
    "duration": 85,
    "start_time": "2022-06-02T15:08:35.653Z"
   },
   {
    "duration": 71,
    "start_time": "2022-06-02T15:08:35.739Z"
   },
   {
    "duration": 13,
    "start_time": "2022-06-02T15:08:35.826Z"
   },
   {
    "duration": 33,
    "start_time": "2022-06-02T15:08:35.841Z"
   },
   {
    "duration": 25,
    "start_time": "2022-06-02T15:08:35.876Z"
   },
   {
    "duration": 312,
    "start_time": "2022-06-02T15:08:35.903Z"
   },
   {
    "duration": 336,
    "start_time": "2022-06-02T15:08:36.217Z"
   },
   {
    "duration": 330,
    "start_time": "2022-06-02T15:08:36.555Z"
   },
   {
    "duration": 285,
    "start_time": "2022-06-02T15:08:36.887Z"
   },
   {
    "duration": 137,
    "start_time": "2022-06-02T15:08:37.174Z"
   },
   {
    "duration": 126,
    "start_time": "2022-06-02T15:08:37.313Z"
   },
   {
    "duration": 131,
    "start_time": "2022-06-02T15:08:37.440Z"
   },
   {
    "duration": 172,
    "start_time": "2022-06-02T15:08:37.573Z"
   },
   {
    "duration": 6,
    "start_time": "2022-06-02T15:08:37.747Z"
   },
   {
    "duration": 9,
    "start_time": "2022-06-02T15:08:37.755Z"
   },
   {
    "duration": 10,
    "start_time": "2022-06-02T15:08:37.766Z"
   },
   {
    "duration": 7,
    "start_time": "2022-06-02T15:08:37.778Z"
   },
   {
    "duration": 10,
    "start_time": "2022-06-02T15:08:37.787Z"
   },
   {
    "duration": 56,
    "start_time": "2022-06-02T15:08:37.799Z"
   },
   {
    "duration": 23,
    "start_time": "2022-06-02T15:08:37.857Z"
   },
   {
    "duration": 19,
    "start_time": "2022-06-02T15:08:37.882Z"
   },
   {
    "duration": 7,
    "start_time": "2022-06-02T15:08:37.904Z"
   },
   {
    "duration": 26,
    "start_time": "2022-06-02T15:08:37.913Z"
   },
   {
    "duration": 22,
    "start_time": "2022-06-02T15:08:37.941Z"
   },
   {
    "duration": 9,
    "start_time": "2022-06-02T15:08:37.965Z"
   },
   {
    "duration": 8,
    "start_time": "2022-06-02T15:08:37.976Z"
   },
   {
    "duration": 30,
    "start_time": "2022-06-02T15:10:14.400Z"
   },
   {
    "duration": 1078,
    "start_time": "2022-06-02T15:28:12.282Z"
   },
   {
    "duration": 452,
    "start_time": "2022-06-02T15:28:13.362Z"
   },
   {
    "duration": 171,
    "start_time": "2022-06-02T15:28:13.816Z"
   },
   {
    "duration": 152,
    "start_time": "2022-06-02T15:28:13.990Z"
   },
   {
    "duration": 150,
    "start_time": "2022-06-02T15:28:14.144Z"
   },
   {
    "duration": 154,
    "start_time": "2022-06-02T15:28:14.295Z"
   },
   {
    "duration": 153,
    "start_time": "2022-06-02T15:28:14.453Z"
   },
   {
    "duration": 102,
    "start_time": "2022-06-02T15:28:14.608Z"
   },
   {
    "duration": 30,
    "start_time": "2022-06-02T15:28:14.712Z"
   },
   {
    "duration": 44,
    "start_time": "2022-06-02T15:28:14.750Z"
   },
   {
    "duration": 9,
    "start_time": "2022-06-02T15:28:14.795Z"
   },
   {
    "duration": 105,
    "start_time": "2022-06-02T15:28:14.805Z"
   },
   {
    "duration": 38,
    "start_time": "2022-06-02T15:28:14.911Z"
   },
   {
    "duration": 27,
    "start_time": "2022-06-02T15:28:14.950Z"
   },
   {
    "duration": 23,
    "start_time": "2022-06-02T15:28:14.978Z"
   },
   {
    "duration": 52,
    "start_time": "2022-06-02T15:28:15.002Z"
   },
   {
    "duration": 6,
    "start_time": "2022-06-02T15:28:15.057Z"
   },
   {
    "duration": 31,
    "start_time": "2022-06-02T15:28:15.064Z"
   },
   {
    "duration": 12,
    "start_time": "2022-06-02T15:28:15.097Z"
   },
   {
    "duration": 12,
    "start_time": "2022-06-02T15:28:15.130Z"
   },
   {
    "duration": 40,
    "start_time": "2022-06-02T15:28:15.144Z"
   },
   {
    "duration": 4,
    "start_time": "2022-06-02T15:28:15.186Z"
   },
   {
    "duration": 30,
    "start_time": "2022-06-02T15:28:15.191Z"
   },
   {
    "duration": 158,
    "start_time": "2022-06-02T15:28:15.223Z"
   },
   {
    "duration": 19,
    "start_time": "2022-06-02T15:28:15.382Z"
   },
   {
    "duration": 65,
    "start_time": "2022-06-02T15:28:15.403Z"
   },
   {
    "duration": 72,
    "start_time": "2022-06-02T15:28:15.471Z"
   },
   {
    "duration": 19,
    "start_time": "2022-06-02T15:28:15.550Z"
   },
   {
    "duration": 16,
    "start_time": "2022-06-02T15:28:15.570Z"
   },
   {
    "duration": 8,
    "start_time": "2022-06-02T15:28:15.588Z"
   },
   {
    "duration": 287,
    "start_time": "2022-06-02T15:28:15.597Z"
   },
   {
    "duration": 328,
    "start_time": "2022-06-02T15:28:15.885Z"
   },
   {
    "duration": 273,
    "start_time": "2022-06-02T15:28:16.214Z"
   },
   {
    "duration": 271,
    "start_time": "2022-06-02T15:28:16.489Z"
   },
   {
    "duration": 116,
    "start_time": "2022-06-02T15:28:16.763Z"
   },
   {
    "duration": 110,
    "start_time": "2022-06-02T15:28:16.881Z"
   },
   {
    "duration": 142,
    "start_time": "2022-06-02T15:28:16.993Z"
   },
   {
    "duration": 128,
    "start_time": "2022-06-02T15:28:17.140Z"
   },
   {
    "duration": 3,
    "start_time": "2022-06-02T15:28:17.270Z"
   },
   {
    "duration": 8,
    "start_time": "2022-06-02T15:28:17.275Z"
   },
   {
    "duration": 8,
    "start_time": "2022-06-02T15:28:17.285Z"
   },
   {
    "duration": 12,
    "start_time": "2022-06-02T15:28:17.294Z"
   },
   {
    "duration": 13,
    "start_time": "2022-06-02T15:28:17.307Z"
   },
   {
    "duration": 43,
    "start_time": "2022-06-02T15:28:17.330Z"
   },
   {
    "duration": 18,
    "start_time": "2022-06-02T15:28:17.376Z"
   },
   {
    "duration": 35,
    "start_time": "2022-06-02T15:28:17.396Z"
   },
   {
    "duration": 4,
    "start_time": "2022-06-02T15:28:17.435Z"
   },
   {
    "duration": 34,
    "start_time": "2022-06-02T15:28:17.441Z"
   },
   {
    "duration": 11,
    "start_time": "2022-06-02T15:28:17.477Z"
   },
   {
    "duration": 11,
    "start_time": "2022-06-02T15:28:17.490Z"
   },
   {
    "duration": 7,
    "start_time": "2022-06-02T15:28:17.503Z"
   },
   {
    "duration": 2286,
    "start_time": "2022-06-06T17:22:01.046Z"
   },
   {
    "duration": 1131,
    "start_time": "2022-06-06T17:22:03.333Z"
   },
   {
    "duration": 156,
    "start_time": "2022-06-06T17:22:04.471Z"
   },
   {
    "duration": 159,
    "start_time": "2022-06-06T17:22:04.629Z"
   },
   {
    "duration": 142,
    "start_time": "2022-06-06T17:22:04.791Z"
   },
   {
    "duration": 160,
    "start_time": "2022-06-06T17:22:04.935Z"
   },
   {
    "duration": 143,
    "start_time": "2022-06-06T17:22:05.096Z"
   },
   {
    "duration": 90,
    "start_time": "2022-06-06T17:22:05.241Z"
   },
   {
    "duration": 33,
    "start_time": "2022-06-06T17:22:05.333Z"
   },
   {
    "duration": 42,
    "start_time": "2022-06-06T17:22:05.375Z"
   },
   {
    "duration": 19,
    "start_time": "2022-06-06T17:22:05.418Z"
   },
   {
    "duration": 131,
    "start_time": "2022-06-06T17:22:05.439Z"
   },
   {
    "duration": 27,
    "start_time": "2022-06-06T17:22:05.571Z"
   },
   {
    "duration": 26,
    "start_time": "2022-06-06T17:22:05.601Z"
   },
   {
    "duration": 54,
    "start_time": "2022-06-06T17:22:05.628Z"
   },
   {
    "duration": 36,
    "start_time": "2022-06-06T17:22:05.688Z"
   },
   {
    "duration": 5,
    "start_time": "2022-06-06T17:22:05.727Z"
   },
   {
    "duration": 63,
    "start_time": "2022-06-06T17:22:05.733Z"
   },
   {
    "duration": 20,
    "start_time": "2022-06-06T17:22:05.799Z"
   },
   {
    "duration": 30,
    "start_time": "2022-06-06T17:22:05.821Z"
   },
   {
    "duration": 52,
    "start_time": "2022-06-06T17:22:05.852Z"
   },
   {
    "duration": 10,
    "start_time": "2022-06-06T17:22:05.906Z"
   },
   {
    "duration": 46,
    "start_time": "2022-06-06T17:22:05.918Z"
   },
   {
    "duration": 174,
    "start_time": "2022-06-06T17:22:05.966Z"
   },
   {
    "duration": 46,
    "start_time": "2022-06-06T17:22:06.142Z"
   },
   {
    "duration": 63,
    "start_time": "2022-06-06T17:22:06.193Z"
   },
   {
    "duration": 66,
    "start_time": "2022-06-06T17:22:06.282Z"
   },
   {
    "duration": 5,
    "start_time": "2022-06-06T17:22:06.350Z"
   },
   {
    "duration": 57,
    "start_time": "2022-06-06T17:22:06.356Z"
   },
   {
    "duration": 24,
    "start_time": "2022-06-06T17:22:06.415Z"
   },
   {
    "duration": 329,
    "start_time": "2022-06-06T17:22:06.441Z"
   },
   {
    "duration": 245,
    "start_time": "2022-06-06T17:22:06.773Z"
   },
   {
    "duration": 424,
    "start_time": "2022-06-06T17:22:07.020Z"
   },
   {
    "duration": 342,
    "start_time": "2022-06-06T17:22:07.447Z"
   },
   {
    "duration": 143,
    "start_time": "2022-06-06T17:22:07.791Z"
   },
   {
    "duration": 115,
    "start_time": "2022-06-06T17:22:07.936Z"
   },
   {
    "duration": 115,
    "start_time": "2022-06-06T17:22:08.058Z"
   },
   {
    "duration": 119,
    "start_time": "2022-06-06T17:22:08.175Z"
   },
   {
    "duration": 4,
    "start_time": "2022-06-06T17:22:08.296Z"
   },
   {
    "duration": 14,
    "start_time": "2022-06-06T17:22:08.302Z"
   },
   {
    "duration": 14,
    "start_time": "2022-06-06T17:22:08.319Z"
   },
   {
    "duration": 8,
    "start_time": "2022-06-06T17:22:08.334Z"
   },
   {
    "duration": 49,
    "start_time": "2022-06-06T17:22:08.343Z"
   },
   {
    "duration": 45,
    "start_time": "2022-06-06T17:22:08.394Z"
   },
   {
    "duration": 12,
    "start_time": "2022-06-06T17:22:08.441Z"
   },
   {
    "duration": 51,
    "start_time": "2022-06-06T17:22:08.455Z"
   },
   {
    "duration": 5,
    "start_time": "2022-06-06T17:22:08.508Z"
   },
   {
    "duration": 35,
    "start_time": "2022-06-06T17:22:08.514Z"
   },
   {
    "duration": 39,
    "start_time": "2022-06-06T17:22:08.551Z"
   },
   {
    "duration": 16,
    "start_time": "2022-06-06T17:22:08.592Z"
   },
   {
    "duration": 18,
    "start_time": "2022-06-06T17:22:08.609Z"
   },
   {
    "duration": 305,
    "start_time": "2022-06-06T17:23:57.487Z"
   },
   {
    "duration": 175,
    "start_time": "2022-06-06T17:24:33.741Z"
   },
   {
    "duration": 160,
    "start_time": "2022-06-06T17:25:04.875Z"
   },
   {
    "duration": 171,
    "start_time": "2022-06-06T17:27:44.552Z"
   },
   {
    "duration": 308,
    "start_time": "2022-06-06T17:30:16.715Z"
   },
   {
    "duration": 187,
    "start_time": "2022-06-06T17:30:28.491Z"
   },
   {
    "duration": 180,
    "start_time": "2022-06-06T17:30:38.361Z"
   },
   {
    "duration": 4,
    "start_time": "2022-06-06T17:34:23.808Z"
   },
   {
    "duration": 6,
    "start_time": "2022-06-06T17:36:44.031Z"
   },
   {
    "duration": 120,
    "start_time": "2022-06-06T17:37:13.196Z"
   },
   {
    "duration": 17,
    "start_time": "2022-06-06T17:37:27.483Z"
   },
   {
    "duration": 149,
    "start_time": "2022-06-06T17:37:46.998Z"
   },
   {
    "duration": 9,
    "start_time": "2022-06-06T17:38:01.547Z"
   },
   {
    "duration": 153,
    "start_time": "2022-06-06T17:38:14.602Z"
   },
   {
    "duration": 130,
    "start_time": "2022-06-06T17:38:21.681Z"
   },
   {
    "duration": 9,
    "start_time": "2022-06-06T17:38:30.906Z"
   },
   {
    "duration": 11,
    "start_time": "2022-06-06T17:38:41.845Z"
   },
   {
    "duration": 9,
    "start_time": "2022-06-06T17:44:17.221Z"
   },
   {
    "duration": 3,
    "start_time": "2022-06-06T17:50:01.249Z"
   },
   {
    "duration": 146,
    "start_time": "2022-06-06T17:50:18.085Z"
   },
   {
    "duration": 150,
    "start_time": "2022-06-06T17:50:25.491Z"
   },
   {
    "duration": 148,
    "start_time": "2022-06-06T17:50:38.385Z"
   },
   {
    "duration": 27,
    "start_time": "2022-06-06T17:52:10.586Z"
   },
   {
    "duration": 180,
    "start_time": "2022-06-06T17:52:43.056Z"
   },
   {
    "duration": 1165,
    "start_time": "2022-06-06T17:53:35.738Z"
   },
   {
    "duration": 622,
    "start_time": "2022-06-06T17:53:36.906Z"
   },
   {
    "duration": 210,
    "start_time": "2022-06-06T17:53:37.530Z"
   },
   {
    "duration": 196,
    "start_time": "2022-06-06T17:53:37.742Z"
   },
   {
    "duration": 205,
    "start_time": "2022-06-06T17:53:37.941Z"
   },
   {
    "duration": 169,
    "start_time": "2022-06-06T17:53:38.149Z"
   },
   {
    "duration": 202,
    "start_time": "2022-06-06T17:53:38.320Z"
   },
   {
    "duration": 5634,
    "start_time": "2022-06-06T17:53:38.528Z"
   },
   {
    "duration": 8,
    "start_time": "2022-06-06T17:53:44.163Z"
   },
   {
    "duration": 236,
    "start_time": "2022-06-06T17:53:44.172Z"
   },
   {
    "duration": 15,
    "start_time": "2022-06-06T17:53:44.410Z"
   },
   {
    "duration": 131,
    "start_time": "2022-06-06T17:53:44.427Z"
   },
   {
    "duration": 20,
    "start_time": "2022-06-06T17:53:44.560Z"
   },
   {
    "duration": 203,
    "start_time": "2022-06-06T17:53:44.583Z"
   },
   {
    "duration": 33,
    "start_time": "2022-06-06T17:53:44.789Z"
   },
   {
    "duration": 48,
    "start_time": "2022-06-06T17:53:44.826Z"
   },
   {
    "duration": 89,
    "start_time": "2022-06-06T17:53:44.877Z"
   },
   {
    "duration": 77,
    "start_time": "2022-06-06T17:53:44.971Z"
   },
   {
    "duration": 5,
    "start_time": "2022-06-06T17:53:45.050Z"
   },
   {
    "duration": 84,
    "start_time": "2022-06-06T17:53:45.057Z"
   },
   {
    "duration": 13,
    "start_time": "2022-06-06T17:53:45.143Z"
   },
   {
    "duration": 46,
    "start_time": "2022-06-06T17:53:45.159Z"
   },
   {
    "duration": 39,
    "start_time": "2022-06-06T17:53:45.207Z"
   },
   {
    "duration": 3,
    "start_time": "2022-06-06T17:53:45.248Z"
   },
   {
    "duration": 68,
    "start_time": "2022-06-06T17:53:45.253Z"
   },
   {
    "duration": 159,
    "start_time": "2022-06-06T17:53:45.323Z"
   },
   {
    "duration": 25,
    "start_time": "2022-06-06T17:53:45.488Z"
   },
   {
    "duration": 95,
    "start_time": "2022-06-06T17:53:45.515Z"
   },
   {
    "duration": 64,
    "start_time": "2022-06-06T17:53:45.612Z"
   },
   {
    "duration": 7,
    "start_time": "2022-06-06T17:53:45.678Z"
   },
   {
    "duration": 25,
    "start_time": "2022-06-06T17:53:45.692Z"
   },
   {
    "duration": 14,
    "start_time": "2022-06-06T17:53:45.719Z"
   },
   {
    "duration": 276,
    "start_time": "2022-06-06T17:53:45.735Z"
   },
   {
    "duration": 264,
    "start_time": "2022-06-06T17:53:46.013Z"
   },
   {
    "duration": 290,
    "start_time": "2022-06-06T17:53:46.283Z"
   },
   {
    "duration": 329,
    "start_time": "2022-06-06T17:53:46.575Z"
   },
   {
    "duration": 173,
    "start_time": "2022-06-06T17:53:46.906Z"
   },
   {
    "duration": 136,
    "start_time": "2022-06-06T17:53:47.086Z"
   },
   {
    "duration": 275,
    "start_time": "2022-06-06T17:53:47.225Z"
   },
   {
    "duration": 151,
    "start_time": "2022-06-06T17:53:47.503Z"
   },
   {
    "duration": 3,
    "start_time": "2022-06-06T17:53:47.663Z"
   },
   {
    "duration": 65,
    "start_time": "2022-06-06T17:53:47.668Z"
   },
   {
    "duration": 94,
    "start_time": "2022-06-06T17:53:47.734Z"
   },
   {
    "duration": 20,
    "start_time": "2022-06-06T17:53:47.830Z"
   },
   {
    "duration": 103,
    "start_time": "2022-06-06T17:53:47.852Z"
   },
   {
    "duration": 93,
    "start_time": "2022-06-06T17:53:47.956Z"
   },
   {
    "duration": 23,
    "start_time": "2022-06-06T17:53:48.051Z"
   },
   {
    "duration": 49,
    "start_time": "2022-06-06T17:53:48.076Z"
   },
   {
    "duration": 7,
    "start_time": "2022-06-06T17:53:48.128Z"
   },
   {
    "duration": 15,
    "start_time": "2022-06-06T17:53:48.137Z"
   },
   {
    "duration": 62,
    "start_time": "2022-06-06T17:53:48.153Z"
   },
   {
    "duration": 12,
    "start_time": "2022-06-06T17:53:48.217Z"
   },
   {
    "duration": 15,
    "start_time": "2022-06-06T17:53:48.231Z"
   },
   {
    "duration": 6,
    "start_time": "2022-06-06T17:54:41.486Z"
   },
   {
    "duration": 307,
    "start_time": "2022-06-06T17:54:42.834Z"
   },
   {
    "duration": 335,
    "start_time": "2022-06-06T17:55:11.091Z"
   },
   {
    "duration": 302,
    "start_time": "2022-06-06T17:55:15.339Z"
   },
   {
    "duration": 315,
    "start_time": "2022-06-06T17:55:37.418Z"
   },
   {
    "duration": 32,
    "start_time": "2022-06-06T18:12:15.988Z"
   },
   {
    "duration": 138,
    "start_time": "2022-06-06T18:12:22.780Z"
   },
   {
    "duration": 3,
    "start_time": "2022-06-06T18:13:53.992Z"
   },
   {
    "duration": 392,
    "start_time": "2022-06-06T18:14:13.536Z"
   },
   {
    "duration": 38,
    "start_time": "2022-06-06T18:15:06.032Z"
   },
   {
    "duration": 72,
    "start_time": "2022-06-06T18:15:17.146Z"
   },
   {
    "duration": 3,
    "start_time": "2022-06-06T18:17:18.445Z"
   },
   {
    "duration": 59,
    "start_time": "2022-06-06T18:17:19.447Z"
   },
   {
    "duration": 4,
    "start_time": "2022-06-06T18:18:08.835Z"
   },
   {
    "duration": 39,
    "start_time": "2022-06-06T18:18:10.293Z"
   },
   {
    "duration": 405,
    "start_time": "2022-06-06T18:18:43.442Z"
   },
   {
    "duration": 1203,
    "start_time": "2022-06-06T18:19:04.158Z"
   },
   {
    "duration": 449,
    "start_time": "2022-06-06T18:19:05.363Z"
   },
   {
    "duration": 157,
    "start_time": "2022-06-06T18:19:05.814Z"
   },
   {
    "duration": 148,
    "start_time": "2022-06-06T18:19:05.976Z"
   },
   {
    "duration": 164,
    "start_time": "2022-06-06T18:19:06.126Z"
   },
   {
    "duration": 137,
    "start_time": "2022-06-06T18:19:06.293Z"
   },
   {
    "duration": 180,
    "start_time": "2022-06-06T18:19:06.431Z"
   },
   {
    "duration": 5250,
    "start_time": "2022-06-06T18:19:06.613Z"
   },
   {
    "duration": 13,
    "start_time": "2022-06-06T18:19:11.866Z"
   },
   {
    "duration": 114,
    "start_time": "2022-06-06T18:19:11.881Z"
   },
   {
    "duration": 18,
    "start_time": "2022-06-06T18:19:11.997Z"
   },
   {
    "duration": 56,
    "start_time": "2022-06-06T18:19:12.016Z"
   },
   {
    "duration": 23,
    "start_time": "2022-06-06T18:19:12.074Z"
   },
   {
    "duration": 100,
    "start_time": "2022-06-06T18:19:12.099Z"
   },
   {
    "duration": 22,
    "start_time": "2022-06-06T18:19:12.201Z"
   },
   {
    "duration": 46,
    "start_time": "2022-06-06T18:19:12.225Z"
   },
   {
    "duration": 32,
    "start_time": "2022-06-06T18:19:12.278Z"
   },
   {
    "duration": 59,
    "start_time": "2022-06-06T18:19:12.313Z"
   },
   {
    "duration": 6,
    "start_time": "2022-06-06T18:19:12.374Z"
   },
   {
    "duration": 68,
    "start_time": "2022-06-06T18:19:12.382Z"
   },
   {
    "duration": 36,
    "start_time": "2022-06-06T18:19:12.451Z"
   },
   {
    "duration": 37,
    "start_time": "2022-06-06T18:19:12.489Z"
   },
   {
    "duration": 40,
    "start_time": "2022-06-06T18:19:12.528Z"
   },
   {
    "duration": 12,
    "start_time": "2022-06-06T18:19:12.570Z"
   },
   {
    "duration": 44,
    "start_time": "2022-06-06T18:19:12.584Z"
   },
   {
    "duration": 191,
    "start_time": "2022-06-06T18:19:12.630Z"
   },
   {
    "duration": 21,
    "start_time": "2022-06-06T18:19:12.823Z"
   },
   {
    "duration": 52,
    "start_time": "2022-06-06T18:19:12.859Z"
   },
   {
    "duration": 84,
    "start_time": "2022-06-06T18:19:12.913Z"
   },
   {
    "duration": 5,
    "start_time": "2022-06-06T18:19:13.000Z"
   },
   {
    "duration": 29,
    "start_time": "2022-06-06T18:19:13.007Z"
   },
   {
    "duration": 11,
    "start_time": "2022-06-06T18:19:13.038Z"
   },
   {
    "duration": 389,
    "start_time": "2022-06-06T18:19:13.059Z"
   },
   {
    "duration": 266,
    "start_time": "2022-06-06T18:19:13.461Z"
   },
   {
    "duration": 3,
    "start_time": "2022-06-06T18:19:13.729Z"
   },
   {
    "duration": 70,
    "start_time": "2022-06-06T18:19:13.734Z"
   },
   {
    "duration": 185,
    "start_time": "2022-06-06T18:19:13.807Z"
   },
   {
    "duration": 0,
    "start_time": "2022-06-06T18:19:13.999Z"
   },
   {
    "duration": 0,
    "start_time": "2022-06-06T18:19:14.001Z"
   },
   {
    "duration": 0,
    "start_time": "2022-06-06T18:19:14.002Z"
   },
   {
    "duration": 0,
    "start_time": "2022-06-06T18:19:14.003Z"
   },
   {
    "duration": 0,
    "start_time": "2022-06-06T18:19:14.005Z"
   },
   {
    "duration": 0,
    "start_time": "2022-06-06T18:19:14.006Z"
   },
   {
    "duration": 0,
    "start_time": "2022-06-06T18:19:14.007Z"
   },
   {
    "duration": 0,
    "start_time": "2022-06-06T18:19:14.010Z"
   },
   {
    "duration": 0,
    "start_time": "2022-06-06T18:19:14.011Z"
   },
   {
    "duration": 0,
    "start_time": "2022-06-06T18:19:14.013Z"
   },
   {
    "duration": 0,
    "start_time": "2022-06-06T18:19:14.014Z"
   },
   {
    "duration": 0,
    "start_time": "2022-06-06T18:19:14.016Z"
   },
   {
    "duration": 0,
    "start_time": "2022-06-06T18:19:14.018Z"
   },
   {
    "duration": 0,
    "start_time": "2022-06-06T18:19:14.019Z"
   },
   {
    "duration": 0,
    "start_time": "2022-06-06T18:19:14.020Z"
   },
   {
    "duration": 0,
    "start_time": "2022-06-06T18:19:14.021Z"
   },
   {
    "duration": 0,
    "start_time": "2022-06-06T18:19:14.023Z"
   },
   {
    "duration": 0,
    "start_time": "2022-06-06T18:19:14.024Z"
   },
   {
    "duration": 40,
    "start_time": "2022-06-06T18:20:46.343Z"
   },
   {
    "duration": 328,
    "start_time": "2022-06-06T18:20:47.048Z"
   },
   {
    "duration": 29,
    "start_time": "2022-06-06T18:22:03.706Z"
   },
   {
    "duration": 455,
    "start_time": "2022-06-06T18:22:06.495Z"
   },
   {
    "duration": 113,
    "start_time": "2022-06-06T18:22:13.442Z"
   },
   {
    "duration": 456,
    "start_time": "2022-06-06T18:22:13.885Z"
   },
   {
    "duration": 1144,
    "start_time": "2022-06-06T18:22:24.345Z"
   },
   {
    "duration": 456,
    "start_time": "2022-06-06T18:22:25.491Z"
   },
   {
    "duration": 161,
    "start_time": "2022-06-06T18:22:25.948Z"
   },
   {
    "duration": 177,
    "start_time": "2022-06-06T18:22:26.111Z"
   },
   {
    "duration": 144,
    "start_time": "2022-06-06T18:22:26.290Z"
   },
   {
    "duration": 154,
    "start_time": "2022-06-06T18:22:26.436Z"
   },
   {
    "duration": 139,
    "start_time": "2022-06-06T18:22:26.592Z"
   },
   {
    "duration": 4981,
    "start_time": "2022-06-06T18:22:26.733Z"
   },
   {
    "duration": 6,
    "start_time": "2022-06-06T18:22:31.716Z"
   },
   {
    "duration": 104,
    "start_time": "2022-06-06T18:22:31.724Z"
   },
   {
    "duration": 18,
    "start_time": "2022-06-06T18:22:31.830Z"
   },
   {
    "duration": 37,
    "start_time": "2022-06-06T18:22:31.859Z"
   },
   {
    "duration": 13,
    "start_time": "2022-06-06T18:22:31.898Z"
   },
   {
    "duration": 110,
    "start_time": "2022-06-06T18:22:31.915Z"
   },
   {
    "duration": 20,
    "start_time": "2022-06-06T18:22:32.027Z"
   },
   {
    "duration": 55,
    "start_time": "2022-06-06T18:22:32.048Z"
   },
   {
    "duration": 25,
    "start_time": "2022-06-06T18:22:32.104Z"
   },
   {
    "duration": 46,
    "start_time": "2022-06-06T18:22:32.131Z"
   },
   {
    "duration": 4,
    "start_time": "2022-06-06T18:22:32.178Z"
   },
   {
    "duration": 36,
    "start_time": "2022-06-06T18:22:32.183Z"
   },
   {
    "duration": 11,
    "start_time": "2022-06-06T18:22:32.221Z"
   },
   {
    "duration": 15,
    "start_time": "2022-06-06T18:22:32.234Z"
   },
   {
    "duration": 35,
    "start_time": "2022-06-06T18:22:32.250Z"
   },
   {
    "duration": 3,
    "start_time": "2022-06-06T18:22:32.287Z"
   },
   {
    "duration": 27,
    "start_time": "2022-06-06T18:22:32.292Z"
   },
   {
    "duration": 173,
    "start_time": "2022-06-06T18:22:32.320Z"
   },
   {
    "duration": 22,
    "start_time": "2022-06-06T18:22:32.495Z"
   },
   {
    "duration": 72,
    "start_time": "2022-06-06T18:22:32.518Z"
   },
   {
    "duration": 48,
    "start_time": "2022-06-06T18:22:32.592Z"
   },
   {
    "duration": 5,
    "start_time": "2022-06-06T18:22:32.641Z"
   },
   {
    "duration": 19,
    "start_time": "2022-06-06T18:22:32.662Z"
   },
   {
    "duration": 5,
    "start_time": "2022-06-06T18:22:32.683Z"
   },
   {
    "duration": 278,
    "start_time": "2022-06-06T18:22:32.689Z"
   },
   {
    "duration": 258,
    "start_time": "2022-06-06T18:22:32.968Z"
   },
   {
    "duration": 2,
    "start_time": "2022-06-06T18:22:33.228Z"
   },
   {
    "duration": 54,
    "start_time": "2022-06-06T18:22:33.232Z"
   },
   {
    "duration": 240,
    "start_time": "2022-06-06T18:22:33.288Z"
   },
   {
    "duration": 249,
    "start_time": "2022-06-06T18:22:33.530Z"
   },
   {
    "duration": 102,
    "start_time": "2022-06-06T18:22:33.781Z"
   },
   {
    "duration": 105,
    "start_time": "2022-06-06T18:22:33.885Z"
   },
   {
    "duration": 201,
    "start_time": "2022-06-06T18:22:33.994Z"
   },
   {
    "duration": 107,
    "start_time": "2022-06-06T18:22:34.197Z"
   },
   {
    "duration": 3,
    "start_time": "2022-06-06T18:22:34.305Z"
   },
   {
    "duration": 10,
    "start_time": "2022-06-06T18:22:34.309Z"
   },
   {
    "duration": 6,
    "start_time": "2022-06-06T18:22:34.320Z"
   },
   {
    "duration": 7,
    "start_time": "2022-06-06T18:22:34.327Z"
   },
   {
    "duration": 27,
    "start_time": "2022-06-06T18:22:34.335Z"
   },
   {
    "duration": 35,
    "start_time": "2022-06-06T18:22:34.367Z"
   },
   {
    "duration": 11,
    "start_time": "2022-06-06T18:22:34.404Z"
   },
   {
    "duration": 13,
    "start_time": "2022-06-06T18:22:34.417Z"
   },
   {
    "duration": 8,
    "start_time": "2022-06-06T18:22:34.432Z"
   },
   {
    "duration": 8,
    "start_time": "2022-06-06T18:22:34.442Z"
   },
   {
    "duration": 5,
    "start_time": "2022-06-06T18:22:34.463Z"
   },
   {
    "duration": 9,
    "start_time": "2022-06-06T18:22:34.473Z"
   },
   {
    "duration": 7,
    "start_time": "2022-06-06T18:22:34.483Z"
   },
   {
    "duration": 49,
    "start_time": "2022-06-07T15:29:17.742Z"
   },
   {
    "duration": 912,
    "start_time": "2022-06-07T15:29:22.575Z"
   },
   {
    "duration": 367,
    "start_time": "2022-06-07T15:29:23.488Z"
   },
   {
    "duration": 128,
    "start_time": "2022-06-07T15:29:23.856Z"
   },
   {
    "duration": 120,
    "start_time": "2022-06-07T15:29:23.986Z"
   },
   {
    "duration": 130,
    "start_time": "2022-06-07T15:29:24.108Z"
   },
   {
    "duration": 103,
    "start_time": "2022-06-07T15:29:24.240Z"
   },
   {
    "duration": 113,
    "start_time": "2022-06-07T15:29:24.344Z"
   },
   {
    "duration": 4249,
    "start_time": "2022-06-07T15:29:24.458Z"
   },
   {
    "duration": 231,
    "start_time": "2022-06-07T15:29:28.708Z"
   },
   {
    "duration": 7,
    "start_time": "2022-06-07T15:29:28.942Z"
   },
   {
    "duration": 65,
    "start_time": "2022-06-07T15:29:28.950Z"
   },
   {
    "duration": 14,
    "start_time": "2022-06-07T15:29:29.017Z"
   },
   {
    "duration": 38,
    "start_time": "2022-06-07T15:29:29.032Z"
   },
   {
    "duration": 9,
    "start_time": "2022-06-07T15:29:29.072Z"
   },
   {
    "duration": 70,
    "start_time": "2022-06-07T15:29:29.083Z"
   },
   {
    "duration": 17,
    "start_time": "2022-06-07T15:29:29.154Z"
   },
   {
    "duration": 24,
    "start_time": "2022-06-07T15:29:29.172Z"
   },
   {
    "duration": 56,
    "start_time": "2022-06-07T15:29:29.197Z"
   },
   {
    "duration": 27,
    "start_time": "2022-06-07T15:29:29.256Z"
   },
   {
    "duration": 4,
    "start_time": "2022-06-07T15:29:29.285Z"
   },
   {
    "duration": 31,
    "start_time": "2022-06-07T15:29:29.290Z"
   },
   {
    "duration": 16,
    "start_time": "2022-06-07T15:29:29.327Z"
   },
   {
    "duration": 9,
    "start_time": "2022-06-07T15:29:29.344Z"
   },
   {
    "duration": 34,
    "start_time": "2022-06-07T15:29:29.355Z"
   },
   {
    "duration": 4,
    "start_time": "2022-06-07T15:29:29.391Z"
   },
   {
    "duration": 51,
    "start_time": "2022-06-07T15:29:29.397Z"
   },
   {
    "duration": 132,
    "start_time": "2022-06-07T15:29:29.450Z"
   },
   {
    "duration": 17,
    "start_time": "2022-06-07T15:29:29.584Z"
   },
   {
    "duration": 56,
    "start_time": "2022-06-07T15:29:29.602Z"
   },
   {
    "duration": 42,
    "start_time": "2022-06-07T15:29:29.659Z"
   },
   {
    "duration": 4,
    "start_time": "2022-06-07T15:29:29.702Z"
   },
   {
    "duration": 35,
    "start_time": "2022-06-07T15:29:29.708Z"
   },
   {
    "duration": 5,
    "start_time": "2022-06-07T15:29:29.745Z"
   },
   {
    "duration": 208,
    "start_time": "2022-06-07T15:29:29.751Z"
   },
   {
    "duration": 210,
    "start_time": "2022-06-07T15:29:29.961Z"
   },
   {
    "duration": 3,
    "start_time": "2022-06-07T15:29:30.172Z"
   },
   {
    "duration": 33,
    "start_time": "2022-06-07T15:29:30.176Z"
   },
   {
    "duration": 220,
    "start_time": "2022-06-07T15:29:30.211Z"
   },
   {
    "duration": 218,
    "start_time": "2022-06-07T15:29:30.433Z"
   },
   {
    "duration": 193,
    "start_time": "2022-06-07T15:29:30.653Z"
   },
   {
    "duration": 94,
    "start_time": "2022-06-07T15:29:30.849Z"
   },
   {
    "duration": 90,
    "start_time": "2022-06-07T15:29:30.945Z"
   },
   {
    "duration": 106,
    "start_time": "2022-06-07T15:29:31.038Z"
   },
   {
    "duration": 2,
    "start_time": "2022-06-07T15:29:31.145Z"
   },
   {
    "duration": 7,
    "start_time": "2022-06-07T15:29:31.149Z"
   },
   {
    "duration": 8,
    "start_time": "2022-06-07T15:29:31.158Z"
   },
   {
    "duration": 14,
    "start_time": "2022-06-07T15:29:31.168Z"
   },
   {
    "duration": 6,
    "start_time": "2022-06-07T15:29:31.183Z"
   },
   {
    "duration": 38,
    "start_time": "2022-06-07T15:29:31.190Z"
   },
   {
    "duration": 14,
    "start_time": "2022-06-07T15:29:31.231Z"
   },
   {
    "duration": 16,
    "start_time": "2022-06-07T15:29:31.248Z"
   },
   {
    "duration": 5,
    "start_time": "2022-06-07T15:29:31.266Z"
   },
   {
    "duration": 7,
    "start_time": "2022-06-07T15:29:31.272Z"
   },
   {
    "duration": 10,
    "start_time": "2022-06-07T15:29:31.281Z"
   },
   {
    "duration": 8,
    "start_time": "2022-06-07T15:29:31.292Z"
   },
   {
    "duration": 7,
    "start_time": "2022-06-07T15:29:31.301Z"
   },
   {
    "duration": 6,
    "start_time": "2022-06-07T15:31:29.183Z"
   },
   {
    "duration": 50,
    "start_time": "2022-06-07T15:31:38.503Z"
   },
   {
    "duration": 31,
    "start_time": "2022-06-07T15:31:43.744Z"
   },
   {
    "duration": 104,
    "start_time": "2022-06-07T15:31:48.112Z"
   },
   {
    "duration": 6,
    "start_time": "2022-06-07T15:32:04.656Z"
   },
   {
    "duration": 112,
    "start_time": "2022-06-07T15:32:07.248Z"
   },
   {
    "duration": 53,
    "start_time": "2022-06-07T15:33:58.193Z"
   },
   {
    "duration": 51,
    "start_time": "2022-06-07T15:34:30.700Z"
   },
   {
    "duration": 35,
    "start_time": "2022-06-07T15:34:48.260Z"
   },
   {
    "duration": 7,
    "start_time": "2022-06-07T15:45:01.038Z"
   },
   {
    "duration": 120,
    "start_time": "2022-06-07T15:45:04.165Z"
   },
   {
    "duration": 127,
    "start_time": "2022-06-07T15:45:08.581Z"
   },
   {
    "duration": 13,
    "start_time": "2022-06-07T15:45:09.278Z"
   },
   {
    "duration": 23,
    "start_time": "2022-06-07T15:46:36.619Z"
   },
   {
    "duration": 38,
    "start_time": "2022-06-07T15:47:25.753Z"
   },
   {
    "duration": 221,
    "start_time": "2022-06-07T15:47:29.914Z"
   },
   {
    "duration": 20,
    "start_time": "2022-06-07T15:49:44.663Z"
   },
   {
    "duration": 5,
    "start_time": "2022-06-07T15:52:43.233Z"
   },
   {
    "duration": 560,
    "start_time": "2022-06-07T15:52:46.581Z"
   },
   {
    "duration": 473,
    "start_time": "2022-06-07T15:52:51.485Z"
   },
   {
    "duration": 568,
    "start_time": "2022-06-07T15:52:56.109Z"
   },
   {
    "duration": 516,
    "start_time": "2022-06-07T15:54:07.054Z"
   },
   {
    "duration": 13,
    "start_time": "2022-06-07T15:59:34.143Z"
   },
   {
    "duration": 5,
    "start_time": "2022-06-07T15:59:43.561Z"
   },
   {
    "duration": 6,
    "start_time": "2022-06-07T16:05:02.089Z"
   },
   {
    "duration": 4,
    "start_time": "2022-06-07T16:05:36.979Z"
   },
   {
    "duration": 332,
    "start_time": "2022-06-07T16:06:12.911Z"
   },
   {
    "duration": 3,
    "start_time": "2022-06-07T16:06:13.908Z"
   },
   {
    "duration": 113,
    "start_time": "2022-06-07T16:06:22.859Z"
   },
   {
    "duration": 155,
    "start_time": "2022-06-07T16:06:32.974Z"
   },
   {
    "duration": 163,
    "start_time": "2022-06-07T16:06:50.671Z"
   },
   {
    "duration": 244,
    "start_time": "2022-06-07T16:06:53.967Z"
   },
   {
    "duration": 51,
    "start_time": "2022-06-07T16:06:56.966Z"
   },
   {
    "duration": 18,
    "start_time": "2022-06-07T16:07:22.531Z"
   },
   {
    "duration": 1406,
    "start_time": "2022-06-07T16:07:26.937Z"
   },
   {
    "duration": 983,
    "start_time": "2022-06-07T16:07:40.268Z"
   },
   {
    "duration": 448,
    "start_time": "2022-06-07T16:07:41.253Z"
   },
   {
    "duration": 165,
    "start_time": "2022-06-07T16:07:41.704Z"
   },
   {
    "duration": 132,
    "start_time": "2022-06-07T16:07:41.871Z"
   },
   {
    "duration": 197,
    "start_time": "2022-06-07T16:07:42.005Z"
   },
   {
    "duration": 134,
    "start_time": "2022-06-07T16:07:42.204Z"
   },
   {
    "duration": 153,
    "start_time": "2022-06-07T16:07:42.340Z"
   },
   {
    "duration": 4256,
    "start_time": "2022-06-07T16:07:42.495Z"
   },
   {
    "duration": 250,
    "start_time": "2022-06-07T16:07:46.753Z"
   },
   {
    "duration": 6,
    "start_time": "2022-06-07T16:07:47.005Z"
   },
   {
    "duration": 176,
    "start_time": "2022-06-07T16:07:47.025Z"
   },
   {
    "duration": 24,
    "start_time": "2022-06-07T16:07:47.203Z"
   },
   {
    "duration": 110,
    "start_time": "2022-06-07T16:07:47.228Z"
   },
   {
    "duration": 15,
    "start_time": "2022-06-07T16:07:47.341Z"
   },
   {
    "duration": 29,
    "start_time": "2022-06-07T16:07:47.358Z"
   },
   {
    "duration": 16,
    "start_time": "2022-06-07T16:07:47.389Z"
   },
   {
    "duration": 85,
    "start_time": "2022-06-07T16:07:47.426Z"
   },
   {
    "duration": 25,
    "start_time": "2022-06-07T16:07:47.513Z"
   },
   {
    "duration": 22,
    "start_time": "2022-06-07T16:07:47.539Z"
   },
   {
    "duration": 21,
    "start_time": "2022-06-07T16:07:47.564Z"
   },
   {
    "duration": 55,
    "start_time": "2022-06-07T16:07:47.586Z"
   },
   {
    "duration": 3,
    "start_time": "2022-06-07T16:07:47.643Z"
   },
   {
    "duration": 30,
    "start_time": "2022-06-07T16:07:47.648Z"
   },
   {
    "duration": 16,
    "start_time": "2022-06-07T16:07:47.680Z"
   },
   {
    "duration": 29,
    "start_time": "2022-06-07T16:07:47.697Z"
   },
   {
    "duration": 31,
    "start_time": "2022-06-07T16:07:47.728Z"
   },
   {
    "duration": 3,
    "start_time": "2022-06-07T16:07:47.762Z"
   },
   {
    "duration": 26,
    "start_time": "2022-06-07T16:07:47.767Z"
   },
   {
    "duration": 166,
    "start_time": "2022-06-07T16:07:47.795Z"
   },
   {
    "duration": 31,
    "start_time": "2022-06-07T16:07:47.963Z"
   },
   {
    "duration": 87,
    "start_time": "2022-06-07T16:07:47.996Z"
   },
   {
    "duration": 77,
    "start_time": "2022-06-07T16:07:48.084Z"
   },
   {
    "duration": 5,
    "start_time": "2022-06-07T16:07:48.163Z"
   },
   {
    "duration": 16,
    "start_time": "2022-06-07T16:07:48.171Z"
   },
   {
    "duration": 5,
    "start_time": "2022-06-07T16:07:48.189Z"
   },
   {
    "duration": 419,
    "start_time": "2022-06-07T16:07:48.196Z"
   },
   {
    "duration": 526,
    "start_time": "2022-06-07T16:07:48.617Z"
   },
   {
    "duration": 3,
    "start_time": "2022-06-07T16:07:49.144Z"
   },
   {
    "duration": 41,
    "start_time": "2022-06-07T16:07:49.148Z"
   },
   {
    "duration": 438,
    "start_time": "2022-06-07T16:07:49.191Z"
   },
   {
    "duration": 417,
    "start_time": "2022-06-07T16:07:49.632Z"
   },
   {
    "duration": 116,
    "start_time": "2022-06-07T16:07:50.051Z"
   },
   {
    "duration": 202,
    "start_time": "2022-06-07T16:07:50.169Z"
   },
   {
    "duration": 96,
    "start_time": "2022-06-07T16:07:50.372Z"
   },
   {
    "duration": 103,
    "start_time": "2022-06-07T16:07:50.470Z"
   },
   {
    "duration": 4,
    "start_time": "2022-06-07T16:07:50.574Z"
   },
   {
    "duration": 5,
    "start_time": "2022-06-07T16:07:50.580Z"
   },
   {
    "duration": 11,
    "start_time": "2022-06-07T16:07:50.587Z"
   },
   {
    "duration": 15,
    "start_time": "2022-06-07T16:07:50.599Z"
   },
   {
    "duration": 12,
    "start_time": "2022-06-07T16:07:50.615Z"
   },
   {
    "duration": 8,
    "start_time": "2022-06-07T16:07:50.628Z"
   },
   {
    "duration": 37,
    "start_time": "2022-06-07T16:07:50.637Z"
   },
   {
    "duration": 16,
    "start_time": "2022-06-07T16:07:50.675Z"
   },
   {
    "duration": 16,
    "start_time": "2022-06-07T16:07:50.693Z"
   },
   {
    "duration": 17,
    "start_time": "2022-06-07T16:07:50.711Z"
   },
   {
    "duration": 8,
    "start_time": "2022-06-07T16:07:50.731Z"
   },
   {
    "duration": 9,
    "start_time": "2022-06-07T16:07:50.740Z"
   },
   {
    "duration": 17,
    "start_time": "2022-06-07T16:07:50.750Z"
   },
   {
    "duration": 12,
    "start_time": "2022-06-07T16:07:50.769Z"
   },
   {
    "duration": 88,
    "start_time": "2022-06-07T16:07:50.782Z"
   },
   {
    "duration": 4,
    "start_time": "2022-06-07T16:07:50.871Z"
   },
   {
    "duration": 1414,
    "start_time": "2022-06-07T16:07:50.876Z"
   },
   {
    "duration": 168,
    "start_time": "2022-06-07T16:07:52.291Z"
   },
   {
    "duration": 157,
    "start_time": "2022-06-07T16:07:52.461Z"
   },
   {
    "duration": 154,
    "start_time": "2022-06-07T16:07:52.619Z"
   },
   {
    "duration": 64,
    "start_time": "2022-06-07T16:07:52.775Z"
   },
   {
    "duration": 1067,
    "start_time": "2022-06-07T16:12:06.116Z"
   },
   {
    "duration": 383,
    "start_time": "2022-06-07T16:12:07.186Z"
   },
   {
    "duration": 123,
    "start_time": "2022-06-07T16:12:07.571Z"
   },
   {
    "duration": 372,
    "start_time": "2022-06-07T16:12:07.696Z"
   },
   {
    "duration": 278,
    "start_time": "2022-06-07T16:12:08.071Z"
   },
   {
    "duration": 230,
    "start_time": "2022-06-07T16:12:08.351Z"
   },
   {
    "duration": 153,
    "start_time": "2022-06-07T16:12:08.583Z"
   },
   {
    "duration": 4187,
    "start_time": "2022-06-07T16:12:08.738Z"
   },
   {
    "duration": 237,
    "start_time": "2022-06-07T16:12:12.927Z"
   },
   {
    "duration": 13,
    "start_time": "2022-06-07T16:12:13.167Z"
   },
   {
    "duration": 320,
    "start_time": "2022-06-07T16:12:13.182Z"
   },
   {
    "duration": 21,
    "start_time": "2022-06-07T16:12:13.504Z"
   },
   {
    "duration": 92,
    "start_time": "2022-06-07T16:12:13.527Z"
   },
   {
    "duration": 18,
    "start_time": "2022-06-07T16:12:13.622Z"
   },
   {
    "duration": 43,
    "start_time": "2022-06-07T16:12:13.642Z"
   },
   {
    "duration": 12,
    "start_time": "2022-06-07T16:12:13.687Z"
   },
   {
    "duration": 83,
    "start_time": "2022-06-07T16:12:13.700Z"
   },
   {
    "duration": 22,
    "start_time": "2022-06-07T16:12:13.785Z"
   },
   {
    "duration": 36,
    "start_time": "2022-06-07T16:12:13.809Z"
   },
   {
    "duration": 24,
    "start_time": "2022-06-07T16:12:13.847Z"
   },
   {
    "duration": 27,
    "start_time": "2022-06-07T16:12:13.873Z"
   },
   {
    "duration": 26,
    "start_time": "2022-06-07T16:12:13.902Z"
   },
   {
    "duration": 62,
    "start_time": "2022-06-07T16:12:13.930Z"
   },
   {
    "duration": 14,
    "start_time": "2022-06-07T16:12:13.994Z"
   },
   {
    "duration": 13,
    "start_time": "2022-06-07T16:12:14.010Z"
   },
   {
    "duration": 36,
    "start_time": "2022-06-07T16:12:14.025Z"
   },
   {
    "duration": 5,
    "start_time": "2022-06-07T16:12:14.063Z"
   },
   {
    "duration": 48,
    "start_time": "2022-06-07T16:12:14.073Z"
   },
   {
    "duration": 153,
    "start_time": "2022-06-07T16:12:14.122Z"
   },
   {
    "duration": 21,
    "start_time": "2022-06-07T16:12:14.276Z"
   },
   {
    "duration": 90,
    "start_time": "2022-06-07T16:12:14.299Z"
   },
   {
    "duration": 58,
    "start_time": "2022-06-07T16:12:14.390Z"
   },
   {
    "duration": 5,
    "start_time": "2022-06-07T16:12:14.450Z"
   },
   {
    "duration": 58,
    "start_time": "2022-06-07T16:12:14.456Z"
   },
   {
    "duration": 31,
    "start_time": "2022-06-07T16:12:14.516Z"
   },
   {
    "duration": 627,
    "start_time": "2022-06-07T16:12:14.548Z"
   },
   {
    "duration": 502,
    "start_time": "2022-06-07T16:12:15.177Z"
   },
   {
    "duration": 2,
    "start_time": "2022-06-07T16:12:15.681Z"
   },
   {
    "duration": 50,
    "start_time": "2022-06-07T16:12:15.685Z"
   },
   {
    "duration": 452,
    "start_time": "2022-06-07T16:12:15.737Z"
   },
   {
    "duration": 517,
    "start_time": "2022-06-07T16:12:16.191Z"
   },
   {
    "duration": 155,
    "start_time": "2022-06-07T16:12:16.710Z"
   },
   {
    "duration": 195,
    "start_time": "2022-06-07T16:12:16.867Z"
   },
   {
    "duration": 99,
    "start_time": "2022-06-07T16:12:17.064Z"
   },
   {
    "duration": 96,
    "start_time": "2022-06-07T16:12:17.164Z"
   },
   {
    "duration": 4,
    "start_time": "2022-06-07T16:12:17.261Z"
   },
   {
    "duration": 38,
    "start_time": "2022-06-07T16:12:17.266Z"
   },
   {
    "duration": 17,
    "start_time": "2022-06-07T16:12:17.306Z"
   },
   {
    "duration": 28,
    "start_time": "2022-06-07T16:12:17.324Z"
   },
   {
    "duration": 29,
    "start_time": "2022-06-07T16:12:17.354Z"
   },
   {
    "duration": 24,
    "start_time": "2022-06-07T16:12:17.385Z"
   },
   {
    "duration": 40,
    "start_time": "2022-06-07T16:12:17.411Z"
   },
   {
    "duration": 12,
    "start_time": "2022-06-07T16:12:17.453Z"
   },
   {
    "duration": 23,
    "start_time": "2022-06-07T16:12:17.467Z"
   },
   {
    "duration": 19,
    "start_time": "2022-06-07T16:12:17.491Z"
   },
   {
    "duration": 28,
    "start_time": "2022-06-07T16:12:17.512Z"
   },
   {
    "duration": 15,
    "start_time": "2022-06-07T16:12:17.542Z"
   },
   {
    "duration": 13,
    "start_time": "2022-06-07T16:12:17.559Z"
   },
   {
    "duration": 22,
    "start_time": "2022-06-07T16:12:17.574Z"
   },
   {
    "duration": 78,
    "start_time": "2022-06-07T16:12:17.597Z"
   },
   {
    "duration": 3,
    "start_time": "2022-06-07T16:12:17.677Z"
   },
   {
    "duration": 1480,
    "start_time": "2022-06-07T16:12:17.682Z"
   },
   {
    "duration": 162,
    "start_time": "2022-06-07T16:12:19.163Z"
   },
   {
    "duration": 203,
    "start_time": "2022-06-07T16:12:19.327Z"
   },
   {
    "duration": 159,
    "start_time": "2022-06-07T16:12:19.532Z"
   },
   {
    "duration": 54,
    "start_time": "2022-06-07T16:12:19.693Z"
   },
   {
    "duration": 1248,
    "start_time": "2022-06-07T17:00:58.202Z"
   },
   {
    "duration": 986,
    "start_time": "2022-06-07T17:00:59.451Z"
   },
   {
    "duration": 146,
    "start_time": "2022-06-07T17:01:00.439Z"
   },
   {
    "duration": 149,
    "start_time": "2022-06-07T17:01:00.587Z"
   },
   {
    "duration": 155,
    "start_time": "2022-06-07T17:01:00.739Z"
   },
   {
    "duration": 142,
    "start_time": "2022-06-07T17:01:00.895Z"
   },
   {
    "duration": 147,
    "start_time": "2022-06-07T17:01:01.038Z"
   },
   {
    "duration": 4442,
    "start_time": "2022-06-07T17:01:01.187Z"
   },
   {
    "duration": 198,
    "start_time": "2022-06-07T17:01:05.630Z"
   },
   {
    "duration": 6,
    "start_time": "2022-06-07T17:01:05.830Z"
   },
   {
    "duration": 196,
    "start_time": "2022-06-07T17:01:05.838Z"
   },
   {
    "duration": 15,
    "start_time": "2022-06-07T17:01:06.036Z"
   },
   {
    "duration": 72,
    "start_time": "2022-06-07T17:01:06.059Z"
   },
   {
    "duration": 31,
    "start_time": "2022-06-07T17:01:06.133Z"
   },
   {
    "duration": 30,
    "start_time": "2022-06-07T17:01:06.166Z"
   },
   {
    "duration": 10,
    "start_time": "2022-06-07T17:01:06.198Z"
   },
   {
    "duration": 97,
    "start_time": "2022-06-07T17:01:06.210Z"
   },
   {
    "duration": 19,
    "start_time": "2022-06-07T17:01:06.308Z"
   },
   {
    "duration": 39,
    "start_time": "2022-06-07T17:01:06.329Z"
   },
   {
    "duration": 21,
    "start_time": "2022-06-07T17:01:06.369Z"
   },
   {
    "duration": 30,
    "start_time": "2022-06-07T17:01:06.392Z"
   },
   {
    "duration": 3,
    "start_time": "2022-06-07T17:01:06.424Z"
   },
   {
    "duration": 50,
    "start_time": "2022-06-07T17:01:06.429Z"
   },
   {
    "duration": 11,
    "start_time": "2022-06-07T17:01:06.481Z"
   },
   {
    "duration": 7,
    "start_time": "2022-06-07T17:01:06.493Z"
   },
   {
    "duration": 22,
    "start_time": "2022-06-07T17:01:06.502Z"
   },
   {
    "duration": 3,
    "start_time": "2022-06-07T17:01:06.525Z"
   },
   {
    "duration": 47,
    "start_time": "2022-06-07T17:01:06.530Z"
   },
   {
    "duration": 142,
    "start_time": "2022-06-07T17:01:06.579Z"
   },
   {
    "duration": 21,
    "start_time": "2022-06-07T17:01:06.723Z"
   },
   {
    "duration": 64,
    "start_time": "2022-06-07T17:01:06.746Z"
   },
   {
    "duration": 63,
    "start_time": "2022-06-07T17:01:06.812Z"
   },
   {
    "duration": 4,
    "start_time": "2022-06-07T17:01:06.877Z"
   },
   {
    "duration": 17,
    "start_time": "2022-06-07T17:01:06.883Z"
   },
   {
    "duration": 8,
    "start_time": "2022-06-07T17:01:06.901Z"
   },
   {
    "duration": 528,
    "start_time": "2022-06-07T17:01:06.910Z"
   },
   {
    "duration": 528,
    "start_time": "2022-06-07T17:01:07.440Z"
   },
   {
    "duration": 3,
    "start_time": "2022-06-07T17:01:07.969Z"
   },
   {
    "duration": 30,
    "start_time": "2022-06-07T17:01:07.974Z"
   },
   {
    "duration": 454,
    "start_time": "2022-06-07T17:01:08.006Z"
   },
   {
    "duration": 478,
    "start_time": "2022-06-07T17:01:08.464Z"
   },
   {
    "duration": 104,
    "start_time": "2022-06-07T17:01:08.944Z"
   },
   {
    "duration": 218,
    "start_time": "2022-06-07T17:01:09.050Z"
   },
   {
    "duration": 101,
    "start_time": "2022-06-07T17:01:09.270Z"
   },
   {
    "duration": 99,
    "start_time": "2022-06-07T17:01:09.373Z"
   },
   {
    "duration": 3,
    "start_time": "2022-06-07T17:01:09.474Z"
   },
   {
    "duration": 7,
    "start_time": "2022-06-07T17:01:09.479Z"
   },
   {
    "duration": 13,
    "start_time": "2022-06-07T17:01:09.487Z"
   },
   {
    "duration": 8,
    "start_time": "2022-06-07T17:01:09.501Z"
   },
   {
    "duration": 6,
    "start_time": "2022-06-07T17:01:09.510Z"
   },
   {
    "duration": 5,
    "start_time": "2022-06-07T17:01:09.518Z"
   },
   {
    "duration": 35,
    "start_time": "2022-06-07T17:01:09.525Z"
   },
   {
    "duration": 11,
    "start_time": "2022-06-07T17:01:09.561Z"
   },
   {
    "duration": 11,
    "start_time": "2022-06-07T17:01:09.573Z"
   },
   {
    "duration": 8,
    "start_time": "2022-06-07T17:01:09.586Z"
   },
   {
    "duration": 11,
    "start_time": "2022-06-07T17:01:09.595Z"
   },
   {
    "duration": 7,
    "start_time": "2022-06-07T17:01:09.607Z"
   },
   {
    "duration": 6,
    "start_time": "2022-06-07T17:01:09.615Z"
   },
   {
    "duration": 7,
    "start_time": "2022-06-07T17:01:09.622Z"
   },
   {
    "duration": 77,
    "start_time": "2022-06-07T17:01:09.631Z"
   },
   {
    "duration": 2,
    "start_time": "2022-06-07T17:01:09.710Z"
   },
   {
    "duration": 1377,
    "start_time": "2022-06-07T17:01:09.714Z"
   },
   {
    "duration": 168,
    "start_time": "2022-06-07T17:01:11.093Z"
   },
   {
    "duration": 172,
    "start_time": "2022-06-07T17:01:11.262Z"
   },
   {
    "duration": 160,
    "start_time": "2022-06-07T17:01:11.435Z"
   },
   {
    "duration": 146,
    "start_time": "2022-06-07T17:01:11.597Z"
   },
   {
    "duration": 1083,
    "start_time": "2022-12-13T11:45:57.490Z"
   },
   {
    "duration": 1234,
    "start_time": "2022-12-13T11:45:58.575Z"
   },
   {
    "duration": 141,
    "start_time": "2022-12-13T11:45:59.810Z"
   },
   {
    "duration": 142,
    "start_time": "2022-12-13T11:45:59.953Z"
   },
   {
    "duration": 137,
    "start_time": "2022-12-13T11:46:00.097Z"
   },
   {
    "duration": 129,
    "start_time": "2022-12-13T11:46:00.236Z"
   },
   {
    "duration": 129,
    "start_time": "2022-12-13T11:46:00.367Z"
   },
   {
    "duration": 4934,
    "start_time": "2022-12-13T11:46:00.498Z"
   },
   {
    "duration": 263,
    "start_time": "2022-12-13T11:46:05.434Z"
   },
   {
    "duration": 8,
    "start_time": "2022-12-13T11:46:05.700Z"
   },
   {
    "duration": 255,
    "start_time": "2022-12-13T11:46:05.721Z"
   },
   {
    "duration": 15,
    "start_time": "2022-12-13T11:46:05.978Z"
   },
   {
    "duration": 93,
    "start_time": "2022-12-13T11:46:05.995Z"
   },
   {
    "duration": 17,
    "start_time": "2022-12-13T11:46:06.090Z"
   },
   {
    "duration": 43,
    "start_time": "2022-12-13T11:46:06.109Z"
   },
   {
    "duration": 12,
    "start_time": "2022-12-13T11:46:06.153Z"
   },
   {
    "duration": 99,
    "start_time": "2022-12-13T11:46:06.167Z"
   },
   {
    "duration": 20,
    "start_time": "2022-12-13T11:46:06.267Z"
   },
   {
    "duration": 35,
    "start_time": "2022-12-13T11:46:06.289Z"
   },
   {
    "duration": 24,
    "start_time": "2022-12-13T11:46:06.326Z"
   },
   {
    "duration": 30,
    "start_time": "2022-12-13T11:46:06.351Z"
   },
   {
    "duration": 4,
    "start_time": "2022-12-13T11:46:06.383Z"
   },
   {
    "duration": 55,
    "start_time": "2022-12-13T11:46:06.388Z"
   },
   {
    "duration": 11,
    "start_time": "2022-12-13T11:46:06.445Z"
   },
   {
    "duration": 22,
    "start_time": "2022-12-13T11:46:06.458Z"
   },
   {
    "duration": 36,
    "start_time": "2022-12-13T11:46:06.482Z"
   },
   {
    "duration": 3,
    "start_time": "2022-12-13T11:46:06.522Z"
   },
   {
    "duration": 22,
    "start_time": "2022-12-13T11:46:06.529Z"
   },
   {
    "duration": 159,
    "start_time": "2022-12-13T11:46:06.553Z"
   },
   {
    "duration": 24,
    "start_time": "2022-12-13T11:46:06.714Z"
   },
   {
    "duration": 59,
    "start_time": "2022-12-13T11:46:06.740Z"
   },
   {
    "duration": 58,
    "start_time": "2022-12-13T11:46:06.801Z"
   },
   {
    "duration": 4,
    "start_time": "2022-12-13T11:46:06.861Z"
   },
   {
    "duration": 30,
    "start_time": "2022-12-13T11:46:06.866Z"
   },
   {
    "duration": 19,
    "start_time": "2022-12-13T11:46:06.898Z"
   },
   {
    "duration": 546,
    "start_time": "2022-12-13T11:46:06.920Z"
   },
   {
    "duration": 486,
    "start_time": "2022-12-13T11:46:07.468Z"
   },
   {
    "duration": 3,
    "start_time": "2022-12-13T11:46:07.956Z"
   },
   {
    "duration": 58,
    "start_time": "2022-12-13T11:46:07.960Z"
   },
   {
    "duration": 483,
    "start_time": "2022-12-13T11:46:08.019Z"
   },
   {
    "duration": 586,
    "start_time": "2022-12-13T11:46:08.504Z"
   },
   {
    "duration": 111,
    "start_time": "2022-12-13T11:46:09.091Z"
   },
   {
    "duration": 110,
    "start_time": "2022-12-13T11:46:09.204Z"
   },
   {
    "duration": 113,
    "start_time": "2022-12-13T11:46:09.322Z"
   },
   {
    "duration": 123,
    "start_time": "2022-12-13T11:46:09.437Z"
   },
   {
    "duration": 3,
    "start_time": "2022-12-13T11:46:09.562Z"
   },
   {
    "duration": 12,
    "start_time": "2022-12-13T11:46:09.566Z"
   },
   {
    "duration": 18,
    "start_time": "2022-12-13T11:46:09.580Z"
   },
   {
    "duration": 36,
    "start_time": "2022-12-13T11:46:09.600Z"
   },
   {
    "duration": 17,
    "start_time": "2022-12-13T11:46:09.638Z"
   },
   {
    "duration": 14,
    "start_time": "2022-12-13T11:46:09.657Z"
   },
   {
    "duration": 47,
    "start_time": "2022-12-13T11:46:09.673Z"
   },
   {
    "duration": 12,
    "start_time": "2022-12-13T11:46:09.721Z"
   },
   {
    "duration": 23,
    "start_time": "2022-12-13T11:46:09.734Z"
   },
   {
    "duration": 10,
    "start_time": "2022-12-13T11:46:09.759Z"
   },
   {
    "duration": 17,
    "start_time": "2022-12-13T11:46:09.771Z"
   },
   {
    "duration": 23,
    "start_time": "2022-12-13T11:46:09.790Z"
   },
   {
    "duration": 16,
    "start_time": "2022-12-13T11:46:09.815Z"
   },
   {
    "duration": 23,
    "start_time": "2022-12-13T11:46:09.832Z"
   },
   {
    "duration": 71,
    "start_time": "2022-12-13T11:46:09.856Z"
   },
   {
    "duration": 3,
    "start_time": "2022-12-13T11:46:09.928Z"
   },
   {
    "duration": 1467,
    "start_time": "2022-12-13T11:46:09.933Z"
   },
   {
    "duration": 188,
    "start_time": "2022-12-13T11:46:11.402Z"
   },
   {
    "duration": 200,
    "start_time": "2022-12-13T11:46:11.592Z"
   },
   {
    "duration": 177,
    "start_time": "2022-12-13T11:46:11.794Z"
   },
   {
    "duration": 51,
    "start_time": "2022-12-13T11:46:11.972Z"
   }
  ],
  "kernelspec": {
   "display_name": "Python 3 (ipykernel)",
   "language": "python",
   "name": "python3"
  },
  "language_info": {
   "codemirror_mode": {
    "name": "ipython",
    "version": 3
   },
   "file_extension": ".py",
   "mimetype": "text/x-python",
   "name": "python",
   "nbconvert_exporter": "python",
   "pygments_lexer": "ipython3",
   "version": "3.7.3"
  },
  "toc": {
   "base_numbering": 1,
   "nav_menu": {},
   "number_sections": true,
   "sideBar": true,
   "skip_h1_title": true,
   "title_cell": "Table of Contents",
   "title_sidebar": "Contents",
   "toc_cell": false,
   "toc_position": {
    "height": "calc(100% - 180px)",
    "left": "10px",
    "top": "150px",
    "width": "291.4px"
   },
   "toc_section_display": true,
   "toc_window_display": false
  }
 },
 "nbformat": 4,
 "nbformat_minor": 2
}
